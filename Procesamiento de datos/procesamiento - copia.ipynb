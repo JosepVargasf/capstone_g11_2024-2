{
 "cells": [
  {
   "cell_type": "markdown",
   "metadata": {},
   "source": [
    "# 0. Importación de librerias"
   ]
  },
  {
   "cell_type": "code",
   "execution_count": 1,
   "metadata": {},
   "outputs": [],
   "source": [
    "# Librerías para el análisis de datos\n",
    "import numpy as np  # Biblioteca para operaciones numéricas, especialmente útil para trabajar con matrices y arrays\n",
    "import pandas as pd  # Biblioteca para manipulación y análisis de datos, especialmente para DataFrames\n",
    "import statsmodels.api as sm  # Biblioteca para realizar modelos estadísticos, útil para regresiones y otros análisis estadísticos\n",
    "from collections import Counter  # Contador de elementos en colecciones, útil para contar la frecuencia de elementos en una lista o array\n",
    "\n",
    "# Librería para optimización\n",
    "from gurobipy import Model, GRB, quicksum  # Gurobi es una biblioteca de optimización matemática. \n",
    "# Model permite definir el modelo de optimización,\n",
    "# GRB contiene constantes (como tipos de variables y sentido de optimización),\n",
    "# quicksum permite realizar sumas de forma rápida y eficiente en Gurobi.\n",
    "\n",
    "# Librerías operacionales\n",
    "import os  # Biblioteca para interactuar con el sistema operativo (ej. manejo de archivos y rutas)\n",
    "from datetime import datetime  # Módulo para trabajar con fechas y tiempos, útil para capturar fechas actuales o manipular datos de tiempo\n"
   ]
  },
  {
   "cell_type": "markdown",
   "metadata": {},
   "source": [
    "# <h2>1. Carga de datos desde excel a dataframes de pandas</h2>\n"
   ]
  },
  {
   "cell_type": "markdown",
   "metadata": {},
   "source": [
    "En primer lugar se cargan los datos iniciales desde los csv que nos proveen. (Esto puede tardar un ratito)"
   ]
  },
  {
   "cell_type": "code",
   "execution_count": 2,
   "metadata": {},
   "outputs": [],
   "source": [
    "url_tratamiento = 'https://drive.usercontent.google.com/download?id=1KTRwYGaWoQQnZwbk8VpdxKULMaOReoF5&authuser=0&confirm=t&uuid=4e4d7983-c5a5-412d-9f5b-b9bda1068b73&at=AENtkXZSxkDr84kWrDlz6ANq4ov2%3A1730951312566'\n",
    "\n",
    "df_tratamiento = pd.read_csv(\"Tratamiento.csv\")"
   ]
  },
  {
   "cell_type": "code",
   "execution_count": 3,
   "metadata": {},
   "outputs": [],
   "source": [
    "file_id = '173bRZQG7NWfdpHJ-o4-NA3ieH1-Fhyok'\n",
    "url_informacion_de_clientes = f'https://drive.google.com/uc?id={file_id}'\n",
    "\n",
    "df_informacion_de_clientes = pd.read_csv(\"Informacion_Clientes.csv\")"
   ]
  },
  {
   "cell_type": "code",
   "execution_count": 4,
   "metadata": {},
   "outputs": [],
   "source": [
    "url_simulaciones_clientes = 'https://drive.usercontent.google.com/download?id=1IXyKwtKFLCUsAV1MtNqktiwKaHzV2D5A&authuser=0&confirm=t&uuid=edd22376-238f-4c1f-b603-728b07bafd7f&at=AENtkXaEURpV52p_BdWxyisvjhSQ%3A1730951026384'\n",
    "\n",
    "df_simulaciones_clientes = pd.read_csv(\"Simulaciones_clientes.csv\")"
   ]
  },
  {
   "cell_type": "code",
   "execution_count": 5,
   "metadata": {},
   "outputs": [],
   "source": [
    "file_id = '1Z4jMzZeD2q-4-ioSgyimppAdLZzqDkt3'\n",
    "url_ventas = f'https://drive.google.com/uc?id={file_id}'\n",
    "\n",
    "df_ventas = pd.read_csv(\"Ventas.csv\")"
   ]
  },
  {
   "cell_type": "markdown",
   "metadata": {},
   "source": [
    "## <h3>1.1 Carga de 'Informacion_Clientes.csv'</h3>"
   ]
  },
  {
   "cell_type": "markdown",
   "metadata": {},
   "source": [
    "En primer lugar se cargará la información de los clientes. Esto incluye las siguientes características de los clientes:\n",
    "\n",
    "* **unnamed**: algo como uid\n",
    "* **Rut**: identificador de Chile (supongo que por privacidad va desde 0 a max de observaciones)\n",
    "* **Género**: Masculino o femenino\n",
    "* **Categoría_Digital**: Si el cliente es digital o no\n",
    "* **Elasticidad_Precios**: Baja, media o alta\n",
    "* **Nacionalidad**: Chileno o extranjero\n",
    "* **Propensión**: Número entre 0 y 1 que idica que tan propenso a cursar un credito es el cliente\n",
    "* **Probabilidad_No_Pago**: Número entre 0 y 1 que indica la probabilidad de que el cliente no pague la deuda\n",
    "* **Edad**: Numero entero de edad en años\n",
    "* **Renta**: Renta promedio de los últimos 12 meses\n",
    "* **Oferta_Consumo**: Monto máximo que puede cursar un cliente dado sus antecedentes crediticios y situación socioeconómica. \n",
    "* **Deuda_CMF**: Deuda que tiene el cliente en otros bancos. Efectivamente es deuda pendiente, pero de créditos otorgados por la competencia.\n",
    "* **Tiempo_como_cliente**: Número de tiempo(no sé en que medida está) que el cliente lleva en el banco\n"
   ]
  },
  {
   "cell_type": "markdown",
   "metadata": {},
   "source": [
    "Se elimina el tiempo como cliente ya que no aporta información"
   ]
  },
  {
   "cell_type": "code",
   "execution_count": 6,
   "metadata": {},
   "outputs": [],
   "source": [
    "df_informacion_de_clientes.drop(columns=['Tiempo_como_cliente'], inplace=True)"
   ]
  },
  {
   "cell_type": "markdown",
   "metadata": {},
   "source": [
    "## <h3>1.2 Carga de 'Simulaciones_Clientes.csv'</h3>\n",
    "\n"
   ]
  },
  {
   "cell_type": "markdown",
   "metadata": {},
   "source": [
    "En segundo lugar se cargaran las simulaciones hechas por los clientes en la página del banco. Esto incluye las siguientes características de las simulaciones:\n",
    "* **unnamed**: Supongo que es el número de simulacion registrada, un tipo de identificador de la simulación\n",
    "* **fecha**: yyyy-mm-dd fecha de la simulación\n",
    "* **rut**: identificador de Chile del cliente que hizo la simulacion\n",
    "* **monto_simulado**: monto prestado al cliente\n",
    "* **plazo_simulado**: plazo en **meses** del crédito\n",
    "* **tasa_simulado**: costo para el cliente del credito"
   ]
  },
  {
   "cell_type": "code",
   "execution_count": 7,
   "metadata": {},
   "outputs": [],
   "source": [
    "df_simulaciones_clientes = df_simulaciones_clientes[df_simulaciones_clientes['Monto_Simulado'] > 0]"
   ]
  },
  {
   "cell_type": "markdown",
   "metadata": {},
   "source": [
    "## <h3>1.3 Carga de 'Tratamiento.csv'</h3>"
   ]
  },
  {
   "cell_type": "markdown",
   "metadata": {},
   "source": [
    "En tercer lugar se cargara el tratamiento que ha tenido el banco con el cliente, es decir, cómo se han contactado con él. Esto incluye las siguientes características:\n",
    "\n",
    "* **unnamed**: Número de tratamiento registrado\n",
    "* **fecha**: yyyy-mm-dd\n",
    "* **rut**: Identificador de Chile del cliente con el que se tiene el tipo de trato\n",
    "* **n_correos**: Cantidad de correos que se enviaron en el mes que sale la fecha. Es decir, si sele fecha '2024-03-01', correspondería a los correos enviados en marzo de 2024.\n",
    "* **asg_ejec**: Si el cliente tiene un ejecutivo asignado"
   ]
  },
  {
   "cell_type": "markdown",
   "metadata": {},
   "source": [
    "## <h3>1.4 Carga de 'Ventas.csv'</h3>"
   ]
  },
  {
   "cell_type": "markdown",
   "metadata": {},
   "source": [
    "Por último se cargaran las ventas que ha tenido el banco con el cliente. Esto incluye las siguientes características:\n",
    "\n",
    "* **unnamed**: Índice sin significado\n",
    "* **fecha**: yyyy-mm-dd -> fecha en la que se concretó la venta\n",
    "* **rut**: identificador de Chile del cliente al que se le concretó la venta"
   ]
  },
  {
   "cell_type": "markdown",
   "metadata": {},
   "source": [
    "# <h2>2. Joints de datos<h2>"
   ]
  },
  {
   "cell_type": "code",
   "execution_count": 8,
   "metadata": {},
   "outputs": [],
   "source": [
    "# Unir los DataFrames 'df_informacion_de_clientes' y 'df_simulaciones_clientes' en base a la columna 'rut'\n",
    "# El método 'how=\"left\"' asegura que todos los registros de 'df_informacion_de_clientes' se conserven,\n",
    "# incluso si no tienen coincidencia en 'df_simulaciones_clientes'.\n",
    "df_simulaciones_e_informacion_de_clientes = pd.merge(\n",
    "    df_informacion_de_clientes, \n",
    "    df_simulaciones_clientes, \n",
    "    on='rut', \n",
    "    how='left'\n",
    ")\n",
    "\n",
    "# Crear una nueva columna 'simulo' que indica si el cliente tiene un 'Monto_Simulado' o no\n",
    "# El método 'notna()' devuelve True para valores no nulos y False para nulos.\n",
    "# Luego, 'astype(int)' convierte estos valores booleanos en enteros (1 para True, 0 para False).\n",
    "df_simulaciones_e_informacion_de_clientes['simulo'] = df_simulaciones_e_informacion_de_clientes['Monto_Simulado'].notna().astype(int)\n",
    "\n",
    "# Eliminar columnas innecesarias 'Unnamed: 0_x' y 'Unnamed: 0_y' que podrían haber surgido durante la carga o manipulación de datos\n",
    "df_simulaciones_e_informacion_de_clientes.drop(columns=['Unnamed: 0_x', 'Unnamed: 0_y'], inplace=True)\n"
   ]
  },
  {
   "cell_type": "code",
   "execution_count": 9,
   "metadata": {},
   "outputs": [
    {
     "data": {
      "text/html": [
       "<div>\n",
       "<style scoped>\n",
       "    .dataframe tbody tr th:only-of-type {\n",
       "        vertical-align: middle;\n",
       "    }\n",
       "\n",
       "    .dataframe tbody tr th {\n",
       "        vertical-align: top;\n",
       "    }\n",
       "\n",
       "    .dataframe thead th {\n",
       "        text-align: right;\n",
       "    }\n",
       "</style>\n",
       "<table border=\"1\" class=\"dataframe\">\n",
       "  <thead>\n",
       "    <tr style=\"text-align: right;\">\n",
       "      <th></th>\n",
       "      <th>rut</th>\n",
       "      <th>Genero</th>\n",
       "      <th>Categoria_Digital</th>\n",
       "      <th>Elasticidad_Precios</th>\n",
       "      <th>Nacionalidad</th>\n",
       "      <th>Propension</th>\n",
       "      <th>Probabilidad_No_Pago</th>\n",
       "      <th>Edad</th>\n",
       "      <th>Renta</th>\n",
       "      <th>Oferta_Consumo</th>\n",
       "      <th>Deuda_CMF</th>\n",
       "      <th>fecha</th>\n",
       "      <th>Monto_Simulado</th>\n",
       "      <th>Plazo_Simulado</th>\n",
       "      <th>Tasa_Simulado</th>\n",
       "      <th>simulo</th>\n",
       "    </tr>\n",
       "  </thead>\n",
       "  <tbody>\n",
       "    <tr>\n",
       "      <th>0</th>\n",
       "      <td>1</td>\n",
       "      <td>Masculino</td>\n",
       "      <td>Cliente no Digital</td>\n",
       "      <td>Alta</td>\n",
       "      <td>Chileno</td>\n",
       "      <td>0.997340</td>\n",
       "      <td>0.028445</td>\n",
       "      <td>30.0</td>\n",
       "      <td>625818.326221</td>\n",
       "      <td>2164276.0</td>\n",
       "      <td>712585.357842</td>\n",
       "      <td>2019-10-01</td>\n",
       "      <td>319936.0</td>\n",
       "      <td>33.0</td>\n",
       "      <td>1.092295</td>\n",
       "      <td>1</td>\n",
       "    </tr>\n",
       "    <tr>\n",
       "      <th>1</th>\n",
       "      <td>1</td>\n",
       "      <td>Masculino</td>\n",
       "      <td>Cliente no Digital</td>\n",
       "      <td>Alta</td>\n",
       "      <td>Chileno</td>\n",
       "      <td>0.997340</td>\n",
       "      <td>0.028445</td>\n",
       "      <td>30.0</td>\n",
       "      <td>625818.326221</td>\n",
       "      <td>2164276.0</td>\n",
       "      <td>712585.357842</td>\n",
       "      <td>2019-11-01</td>\n",
       "      <td>249773.0</td>\n",
       "      <td>30.0</td>\n",
       "      <td>2.324675</td>\n",
       "      <td>1</td>\n",
       "    </tr>\n",
       "    <tr>\n",
       "      <th>2</th>\n",
       "      <td>1</td>\n",
       "      <td>Masculino</td>\n",
       "      <td>Cliente no Digital</td>\n",
       "      <td>Alta</td>\n",
       "      <td>Chileno</td>\n",
       "      <td>0.997340</td>\n",
       "      <td>0.028445</td>\n",
       "      <td>30.0</td>\n",
       "      <td>625818.326221</td>\n",
       "      <td>2164276.0</td>\n",
       "      <td>712585.357842</td>\n",
       "      <td>2020-02-01</td>\n",
       "      <td>280087.0</td>\n",
       "      <td>28.0</td>\n",
       "      <td>1.051704</td>\n",
       "      <td>1</td>\n",
       "    </tr>\n",
       "    <tr>\n",
       "      <th>3</th>\n",
       "      <td>1</td>\n",
       "      <td>Masculino</td>\n",
       "      <td>Cliente no Digital</td>\n",
       "      <td>Alta</td>\n",
       "      <td>Chileno</td>\n",
       "      <td>0.997340</td>\n",
       "      <td>0.028445</td>\n",
       "      <td>30.0</td>\n",
       "      <td>625818.326221</td>\n",
       "      <td>2164276.0</td>\n",
       "      <td>712585.357842</td>\n",
       "      <td>2021-05-01</td>\n",
       "      <td>289780.0</td>\n",
       "      <td>26.0</td>\n",
       "      <td>2.193118</td>\n",
       "      <td>1</td>\n",
       "    </tr>\n",
       "    <tr>\n",
       "      <th>4</th>\n",
       "      <td>1</td>\n",
       "      <td>Masculino</td>\n",
       "      <td>Cliente no Digital</td>\n",
       "      <td>Alta</td>\n",
       "      <td>Chileno</td>\n",
       "      <td>0.997340</td>\n",
       "      <td>0.028445</td>\n",
       "      <td>30.0</td>\n",
       "      <td>625818.326221</td>\n",
       "      <td>2164276.0</td>\n",
       "      <td>712585.357842</td>\n",
       "      <td>2021-06-01</td>\n",
       "      <td>258061.0</td>\n",
       "      <td>22.0</td>\n",
       "      <td>2.188368</td>\n",
       "      <td>1</td>\n",
       "    </tr>\n",
       "    <tr>\n",
       "      <th>...</th>\n",
       "      <td>...</td>\n",
       "      <td>...</td>\n",
       "      <td>...</td>\n",
       "      <td>...</td>\n",
       "      <td>...</td>\n",
       "      <td>...</td>\n",
       "      <td>...</td>\n",
       "      <td>...</td>\n",
       "      <td>...</td>\n",
       "      <td>...</td>\n",
       "      <td>...</td>\n",
       "      <td>...</td>\n",
       "      <td>...</td>\n",
       "      <td>...</td>\n",
       "      <td>...</td>\n",
       "      <td>...</td>\n",
       "    </tr>\n",
       "    <tr>\n",
       "      <th>8517080</th>\n",
       "      <td>543651</td>\n",
       "      <td>Femenino</td>\n",
       "      <td>Cliente no Digital</td>\n",
       "      <td>Media</td>\n",
       "      <td>Chileno</td>\n",
       "      <td>0.860781</td>\n",
       "      <td>0.019647</td>\n",
       "      <td>35.0</td>\n",
       "      <td>472806.728024</td>\n",
       "      <td>1979540.0</td>\n",
       "      <td>574575.649505</td>\n",
       "      <td>2023-03-01</td>\n",
       "      <td>403331.0</td>\n",
       "      <td>17.0</td>\n",
       "      <td>2.356028</td>\n",
       "      <td>1</td>\n",
       "    </tr>\n",
       "    <tr>\n",
       "      <th>8517081</th>\n",
       "      <td>543651</td>\n",
       "      <td>Femenino</td>\n",
       "      <td>Cliente no Digital</td>\n",
       "      <td>Media</td>\n",
       "      <td>Chileno</td>\n",
       "      <td>0.860781</td>\n",
       "      <td>0.019647</td>\n",
       "      <td>35.0</td>\n",
       "      <td>472806.728024</td>\n",
       "      <td>1979540.0</td>\n",
       "      <td>574575.649505</td>\n",
       "      <td>2023-08-01</td>\n",
       "      <td>359897.0</td>\n",
       "      <td>16.0</td>\n",
       "      <td>2.478376</td>\n",
       "      <td>1</td>\n",
       "    </tr>\n",
       "    <tr>\n",
       "      <th>8517082</th>\n",
       "      <td>543651</td>\n",
       "      <td>Femenino</td>\n",
       "      <td>Cliente no Digital</td>\n",
       "      <td>Media</td>\n",
       "      <td>Chileno</td>\n",
       "      <td>0.860781</td>\n",
       "      <td>0.019647</td>\n",
       "      <td>35.0</td>\n",
       "      <td>472806.728024</td>\n",
       "      <td>1979540.0</td>\n",
       "      <td>574575.649505</td>\n",
       "      <td>2024-03-01</td>\n",
       "      <td>348048.0</td>\n",
       "      <td>18.0</td>\n",
       "      <td>2.301079</td>\n",
       "      <td>1</td>\n",
       "    </tr>\n",
       "    <tr>\n",
       "      <th>8517083</th>\n",
       "      <td>543651</td>\n",
       "      <td>Femenino</td>\n",
       "      <td>Cliente no Digital</td>\n",
       "      <td>Media</td>\n",
       "      <td>Chileno</td>\n",
       "      <td>0.860781</td>\n",
       "      <td>0.019647</td>\n",
       "      <td>35.0</td>\n",
       "      <td>472806.728024</td>\n",
       "      <td>1979540.0</td>\n",
       "      <td>574575.649505</td>\n",
       "      <td>2024-05-01</td>\n",
       "      <td>344504.0</td>\n",
       "      <td>16.0</td>\n",
       "      <td>2.462272</td>\n",
       "      <td>1</td>\n",
       "    </tr>\n",
       "    <tr>\n",
       "      <th>8517084</th>\n",
       "      <td>543651</td>\n",
       "      <td>Femenino</td>\n",
       "      <td>Cliente no Digital</td>\n",
       "      <td>Media</td>\n",
       "      <td>Chileno</td>\n",
       "      <td>0.860781</td>\n",
       "      <td>0.019647</td>\n",
       "      <td>35.0</td>\n",
       "      <td>472806.728024</td>\n",
       "      <td>1979540.0</td>\n",
       "      <td>574575.649505</td>\n",
       "      <td>2024-06-01</td>\n",
       "      <td>349828.0</td>\n",
       "      <td>16.0</td>\n",
       "      <td>1.709522</td>\n",
       "      <td>1</td>\n",
       "    </tr>\n",
       "  </tbody>\n",
       "</table>\n",
       "<p>8517085 rows × 16 columns</p>\n",
       "</div>"
      ],
      "text/plain": [
       "            rut     Genero   Categoria_Digital Elasticidad_Precios  \\\n",
       "0             1  Masculino  Cliente no Digital                Alta   \n",
       "1             1  Masculino  Cliente no Digital                Alta   \n",
       "2             1  Masculino  Cliente no Digital                Alta   \n",
       "3             1  Masculino  Cliente no Digital                Alta   \n",
       "4             1  Masculino  Cliente no Digital                Alta   \n",
       "...         ...        ...                 ...                 ...   \n",
       "8517080  543651   Femenino  Cliente no Digital               Media   \n",
       "8517081  543651   Femenino  Cliente no Digital               Media   \n",
       "8517082  543651   Femenino  Cliente no Digital               Media   \n",
       "8517083  543651   Femenino  Cliente no Digital               Media   \n",
       "8517084  543651   Femenino  Cliente no Digital               Media   \n",
       "\n",
       "        Nacionalidad  Propension  Probabilidad_No_Pago  Edad          Renta  \\\n",
       "0            Chileno    0.997340              0.028445  30.0  625818.326221   \n",
       "1            Chileno    0.997340              0.028445  30.0  625818.326221   \n",
       "2            Chileno    0.997340              0.028445  30.0  625818.326221   \n",
       "3            Chileno    0.997340              0.028445  30.0  625818.326221   \n",
       "4            Chileno    0.997340              0.028445  30.0  625818.326221   \n",
       "...              ...         ...                   ...   ...            ...   \n",
       "8517080      Chileno    0.860781              0.019647  35.0  472806.728024   \n",
       "8517081      Chileno    0.860781              0.019647  35.0  472806.728024   \n",
       "8517082      Chileno    0.860781              0.019647  35.0  472806.728024   \n",
       "8517083      Chileno    0.860781              0.019647  35.0  472806.728024   \n",
       "8517084      Chileno    0.860781              0.019647  35.0  472806.728024   \n",
       "\n",
       "         Oferta_Consumo      Deuda_CMF       fecha  Monto_Simulado  \\\n",
       "0             2164276.0  712585.357842  2019-10-01        319936.0   \n",
       "1             2164276.0  712585.357842  2019-11-01        249773.0   \n",
       "2             2164276.0  712585.357842  2020-02-01        280087.0   \n",
       "3             2164276.0  712585.357842  2021-05-01        289780.0   \n",
       "4             2164276.0  712585.357842  2021-06-01        258061.0   \n",
       "...                 ...            ...         ...             ...   \n",
       "8517080       1979540.0  574575.649505  2023-03-01        403331.0   \n",
       "8517081       1979540.0  574575.649505  2023-08-01        359897.0   \n",
       "8517082       1979540.0  574575.649505  2024-03-01        348048.0   \n",
       "8517083       1979540.0  574575.649505  2024-05-01        344504.0   \n",
       "8517084       1979540.0  574575.649505  2024-06-01        349828.0   \n",
       "\n",
       "         Plazo_Simulado  Tasa_Simulado  simulo  \n",
       "0                  33.0       1.092295       1  \n",
       "1                  30.0       2.324675       1  \n",
       "2                  28.0       1.051704       1  \n",
       "3                  26.0       2.193118       1  \n",
       "4                  22.0       2.188368       1  \n",
       "...                 ...            ...     ...  \n",
       "8517080            17.0       2.356028       1  \n",
       "8517081            16.0       2.478376       1  \n",
       "8517082            18.0       2.301079       1  \n",
       "8517083            16.0       2.462272       1  \n",
       "8517084            16.0       1.709522       1  \n",
       "\n",
       "[8517085 rows x 16 columns]"
      ]
     },
     "execution_count": 9,
     "metadata": {},
     "output_type": "execute_result"
    }
   ],
   "source": [
    "df_simulaciones_e_informacion_de_clientes"
   ]
  },
  {
   "cell_type": "code",
   "execution_count": 10,
   "metadata": {},
   "outputs": [],
   "source": [
    "# Unir los DataFrames 'df_simulaciones_e_informacion_de_clientes' y 'df_ventas' en base a las columnas 'rut' y 'fecha'\n",
    "# El método 'how=\"left\"' asegura que todos los registros de 'df_simulaciones_e_informacion_de_clientes' se conserven,\n",
    "# incluso si no tienen coincidencia en 'df_ventas'.\n",
    "df_simulaciones_e_informacion_de_clientes_ventas = pd.merge( \n",
    "    df_simulaciones_e_informacion_de_clientes, \n",
    "    df_ventas, \n",
    "    on=['rut', 'fecha'], \n",
    "    how='left'\n",
    ")\n",
    "\n",
    "# Crear una nueva columna 'venta' que indica si existe una venta asociada al cliente y la fecha específica\n",
    "# El método 'notna()' verifica si hay un valor no nulo en la columna 'Unnamed: 0' (que indica presencia de una venta)\n",
    "# Luego, 'astype(int)' convierte estos valores booleanos en enteros (1 para True, 0 para False).\n",
    "df_simulaciones_e_informacion_de_clientes_ventas['venta'] = df_simulaciones_e_informacion_de_clientes_ventas['Unnamed: 0'].notna().astype(int)\n"
   ]
  },
  {
   "cell_type": "code",
   "execution_count": 11,
   "metadata": {},
   "outputs": [],
   "source": [
    "# Unir los DataFrames 'df_simulaciones_e_informacion_de_clientes_ventas' y 'df_tratamiento' en base a las columnas 'rut' y 'fecha'\n",
    "# La unión se realiza con 'how=\"left\"' para conservar todos los registros de 'df_simulaciones_e_informacion_de_clientes_ventas'\n",
    "# incluso si no tienen coincidencia en 'df_tratamiento'.\n",
    "df_simulaciones_e_informacion_de_clientes_ventas_tratamiento = pd.merge( \n",
    "    df_simulaciones_e_informacion_de_clientes_ventas, \n",
    "    df_tratamiento, \n",
    "    on=['rut', 'fecha'], \n",
    "    how='left'\n",
    ")\n",
    "\n",
    "# Crear una nueva columna 'mes' que extrae el mes y año de la columna 'fecha'\n",
    "# Primero se convierte 'fecha' al formato datetime, luego 'dt.to_period('M')' obtiene el periodo del mes/año.\n",
    "df_simulaciones_e_informacion_de_clientes_ventas_tratamiento['mes'] = pd.to_datetime(df_simulaciones_e_informacion_de_clientes_ventas_tratamiento['fecha']).dt.to_period('M')\n",
    "\n",
    "# Eliminar las columnas 'Unnamed: 0_x' y 'Unnamed: 0_y' ya que no aportan información relevante\n",
    "df_simulaciones_e_informacion_de_clientes_ventas_tratamiento.drop(columns=['Unnamed: 0_x', 'Unnamed: 0_y'], inplace=True)"
   ]
  },
  {
   "cell_type": "markdown",
   "metadata": {},
   "source": [
    "# 3. CLUSTERING POR POLITICAS"
   ]
  },
  {
   "cell_type": "markdown",
   "metadata": {},
   "source": [
    "### Seteo de cluster. Aquí se definen las variables y sus cortes. La idea es que el algoritmo de RL haga sus acciones en esta sección"
   ]
  },
  {
   "cell_type": "markdown",
   "metadata": {},
   "source": [
    "Aquí se definen que variables se utilizarán para crear el cluster"
   ]
  },
  {
   "cell_type": "code",
   "execution_count": 12,
   "metadata": {},
   "outputs": [],
   "source": [
    "df_informacion_de_clientes_procesados_cluster_definitivo = df_informacion_de_clientes[['rut', 'Categoria_Digital', 'Edad', 'Genero', 'Renta', 'Propension', 'Probabilidad_No_Pago']].copy()\n"
   ]
  },
  {
   "cell_type": "markdown",
   "metadata": {},
   "source": [
    "Aqui se definen en que partes y en cuantas partes se particionarán las variables escogidas anteriormente"
   ]
  },
  {
   "cell_type": "code",
   "execution_count": 13,
   "metadata": {},
   "outputs": [
    {
     "data": {
      "text/html": [
       "<div>\n",
       "<style scoped>\n",
       "    .dataframe tbody tr th:only-of-type {\n",
       "        vertical-align: middle;\n",
       "    }\n",
       "\n",
       "    .dataframe tbody tr th {\n",
       "        vertical-align: top;\n",
       "    }\n",
       "\n",
       "    .dataframe thead th {\n",
       "        text-align: right;\n",
       "    }\n",
       "</style>\n",
       "<table border=\"1\" class=\"dataframe\">\n",
       "  <thead>\n",
       "    <tr style=\"text-align: right;\">\n",
       "      <th></th>\n",
       "      <th>rut</th>\n",
       "      <th>Categoria_Digital</th>\n",
       "      <th>Edad</th>\n",
       "      <th>Genero</th>\n",
       "      <th>Renta</th>\n",
       "      <th>Propension</th>\n",
       "      <th>Probabilidad_No_Pago</th>\n",
       "      <th>Categoria_Propenso</th>\n",
       "      <th>Categoria_Probabilidad_No_Pago</th>\n",
       "      <th>Categoria_Edad</th>\n",
       "      <th>Categoria_Renta</th>\n",
       "    </tr>\n",
       "  </thead>\n",
       "  <tbody>\n",
       "    <tr>\n",
       "      <th>0</th>\n",
       "      <td>1</td>\n",
       "      <td>Cliente no Digital</td>\n",
       "      <td>30.0</td>\n",
       "      <td>Masculino</td>\n",
       "      <td>6.258183e+05</td>\n",
       "      <td>0.997340</td>\n",
       "      <td>0.028445</td>\n",
       "      <td>Propension alta</td>\n",
       "      <td>Muy mal pagador</td>\n",
       "      <td>Joven</td>\n",
       "      <td>Renta Media</td>\n",
       "    </tr>\n",
       "    <tr>\n",
       "      <th>1</th>\n",
       "      <td>2</td>\n",
       "      <td>Cliente no Digital</td>\n",
       "      <td>41.0</td>\n",
       "      <td>Femenino</td>\n",
       "      <td>3.172616e+05</td>\n",
       "      <td>0.291601</td>\n",
       "      <td>0.014320</td>\n",
       "      <td>Propension baja</td>\n",
       "      <td>Muy mal pagador</td>\n",
       "      <td>Adulto</td>\n",
       "      <td>Renta Baja</td>\n",
       "    </tr>\n",
       "    <tr>\n",
       "      <th>2</th>\n",
       "      <td>3</td>\n",
       "      <td>Cliente no Digital</td>\n",
       "      <td>38.0</td>\n",
       "      <td>Femenino</td>\n",
       "      <td>1.240551e+07</td>\n",
       "      <td>0.685085</td>\n",
       "      <td>0.002156</td>\n",
       "      <td>Propension alta</td>\n",
       "      <td>Pagador neutro</td>\n",
       "      <td>Adulto</td>\n",
       "      <td>Renta Alta</td>\n",
       "    </tr>\n",
       "    <tr>\n",
       "      <th>3</th>\n",
       "      <td>4</td>\n",
       "      <td>Cliente no Digital</td>\n",
       "      <td>57.0</td>\n",
       "      <td>Masculino</td>\n",
       "      <td>5.441466e+05</td>\n",
       "      <td>0.914672</td>\n",
       "      <td>0.034418</td>\n",
       "      <td>Propension alta</td>\n",
       "      <td>Muy mal pagador</td>\n",
       "      <td>Adulto</td>\n",
       "      <td>Renta Baja</td>\n",
       "    </tr>\n",
       "    <tr>\n",
       "      <th>4</th>\n",
       "      <td>5</td>\n",
       "      <td>Cliente Digital</td>\n",
       "      <td>26.0</td>\n",
       "      <td>Masculino</td>\n",
       "      <td>1.870225e+05</td>\n",
       "      <td>0.425077</td>\n",
       "      <td>0.014978</td>\n",
       "      <td>Propension media</td>\n",
       "      <td>Muy mal pagador</td>\n",
       "      <td>Joven</td>\n",
       "      <td>Renta Baja</td>\n",
       "    </tr>\n",
       "    <tr>\n",
       "      <th>...</th>\n",
       "      <td>...</td>\n",
       "      <td>...</td>\n",
       "      <td>...</td>\n",
       "      <td>...</td>\n",
       "      <td>...</td>\n",
       "      <td>...</td>\n",
       "      <td>...</td>\n",
       "      <td>...</td>\n",
       "      <td>...</td>\n",
       "      <td>...</td>\n",
       "      <td>...</td>\n",
       "    </tr>\n",
       "    <tr>\n",
       "      <th>543646</th>\n",
       "      <td>543647</td>\n",
       "      <td>Cliente Digital</td>\n",
       "      <td>29.0</td>\n",
       "      <td>Femenino</td>\n",
       "      <td>1.176598e+05</td>\n",
       "      <td>0.144657</td>\n",
       "      <td>0.037291</td>\n",
       "      <td>Propension baja</td>\n",
       "      <td>Muy mal pagador</td>\n",
       "      <td>Joven</td>\n",
       "      <td>Renta Baja</td>\n",
       "    </tr>\n",
       "    <tr>\n",
       "      <th>543647</th>\n",
       "      <td>543648</td>\n",
       "      <td>Cliente no Digital</td>\n",
       "      <td>31.0</td>\n",
       "      <td>Masculino</td>\n",
       "      <td>1.558612e+06</td>\n",
       "      <td>0.740170</td>\n",
       "      <td>0.035877</td>\n",
       "      <td>Propension alta</td>\n",
       "      <td>Muy mal pagador</td>\n",
       "      <td>Joven</td>\n",
       "      <td>Renta Media</td>\n",
       "    </tr>\n",
       "    <tr>\n",
       "      <th>543648</th>\n",
       "      <td>543649</td>\n",
       "      <td>Cliente no Digital</td>\n",
       "      <td>49.0</td>\n",
       "      <td>Masculino</td>\n",
       "      <td>9.449508e+05</td>\n",
       "      <td>0.255285</td>\n",
       "      <td>0.023306</td>\n",
       "      <td>Propension baja</td>\n",
       "      <td>Muy mal pagador</td>\n",
       "      <td>Adulto</td>\n",
       "      <td>Renta Media</td>\n",
       "    </tr>\n",
       "    <tr>\n",
       "      <th>543649</th>\n",
       "      <td>543650</td>\n",
       "      <td>Cliente no Digital</td>\n",
       "      <td>40.0</td>\n",
       "      <td>Femenino</td>\n",
       "      <td>1.039964e+06</td>\n",
       "      <td>0.709086</td>\n",
       "      <td>0.015121</td>\n",
       "      <td>Propension alta</td>\n",
       "      <td>Muy mal pagador</td>\n",
       "      <td>Adulto</td>\n",
       "      <td>Renta Media</td>\n",
       "    </tr>\n",
       "    <tr>\n",
       "      <th>543650</th>\n",
       "      <td>543651</td>\n",
       "      <td>Cliente no Digital</td>\n",
       "      <td>35.0</td>\n",
       "      <td>Femenino</td>\n",
       "      <td>4.728067e+05</td>\n",
       "      <td>0.860781</td>\n",
       "      <td>0.019647</td>\n",
       "      <td>Propension alta</td>\n",
       "      <td>Muy mal pagador</td>\n",
       "      <td>Joven</td>\n",
       "      <td>Renta Baja</td>\n",
       "    </tr>\n",
       "  </tbody>\n",
       "</table>\n",
       "<p>543651 rows × 11 columns</p>\n",
       "</div>"
      ],
      "text/plain": [
       "           rut   Categoria_Digital  Edad     Genero         Renta  Propension  \\\n",
       "0            1  Cliente no Digital  30.0  Masculino  6.258183e+05    0.997340   \n",
       "1            2  Cliente no Digital  41.0   Femenino  3.172616e+05    0.291601   \n",
       "2            3  Cliente no Digital  38.0   Femenino  1.240551e+07    0.685085   \n",
       "3            4  Cliente no Digital  57.0  Masculino  5.441466e+05    0.914672   \n",
       "4            5     Cliente Digital  26.0  Masculino  1.870225e+05    0.425077   \n",
       "...        ...                 ...   ...        ...           ...         ...   \n",
       "543646  543647     Cliente Digital  29.0   Femenino  1.176598e+05    0.144657   \n",
       "543647  543648  Cliente no Digital  31.0  Masculino  1.558612e+06    0.740170   \n",
       "543648  543649  Cliente no Digital  49.0  Masculino  9.449508e+05    0.255285   \n",
       "543649  543650  Cliente no Digital  40.0   Femenino  1.039964e+06    0.709086   \n",
       "543650  543651  Cliente no Digital  35.0   Femenino  4.728067e+05    0.860781   \n",
       "\n",
       "        Probabilidad_No_Pago Categoria_Propenso  \\\n",
       "0                   0.028445    Propension alta   \n",
       "1                   0.014320    Propension baja   \n",
       "2                   0.002156    Propension alta   \n",
       "3                   0.034418    Propension alta   \n",
       "4                   0.014978   Propension media   \n",
       "...                      ...                ...   \n",
       "543646              0.037291    Propension baja   \n",
       "543647              0.035877    Propension alta   \n",
       "543648              0.023306    Propension baja   \n",
       "543649              0.015121    Propension alta   \n",
       "543650              0.019647    Propension alta   \n",
       "\n",
       "       Categoria_Probabilidad_No_Pago Categoria_Edad Categoria_Renta  \n",
       "0                     Muy mal pagador          Joven     Renta Media  \n",
       "1                     Muy mal pagador         Adulto      Renta Baja  \n",
       "2                      Pagador neutro         Adulto      Renta Alta  \n",
       "3                     Muy mal pagador         Adulto      Renta Baja  \n",
       "4                     Muy mal pagador          Joven      Renta Baja  \n",
       "...                               ...            ...             ...  \n",
       "543646                Muy mal pagador          Joven      Renta Baja  \n",
       "543647                Muy mal pagador          Joven     Renta Media  \n",
       "543648                Muy mal pagador         Adulto     Renta Media  \n",
       "543649                Muy mal pagador         Adulto     Renta Media  \n",
       "543650                Muy mal pagador          Joven      Renta Baja  \n",
       "\n",
       "[543651 rows x 11 columns]"
      ]
     },
     "execution_count": 13,
     "metadata": {},
     "output_type": "execute_result"
    }
   ],
   "source": [
    "# Crear una copia del DataFrame 'df_informacion_de_clientes_procesados_cluster_definitivo' para trabajar sin modificar el original\n",
    "df = df_informacion_de_clientes_procesados_cluster_definitivo.copy()\n",
    "\n",
    "# Clasificar la columna 'Propension' en tres categorías usando cuantiles, lo que permite dividir los datos en terciles\n",
    "# Las etiquetas indican si la propensión es baja, media o alta.\n",
    "df['Categoria_Propenso'] = pd.qcut(df['Propension'], 3, labels=['Propension baja', 'Propension media', 'Propension alta'])\n",
    "\n",
    "# Clasificar la columna 'Probabilidad_No_Pago' en cinco categorías, asignando etiquetas según los valores de probabilidad\n",
    "# Cada categoría representa el nivel de confiabilidad en el pago: desde 'Muy buen pagador' hasta 'Muy mal pagador'.\n",
    "df['Categoria_Probabilidad_No_Pago'] = pd.cut(df['Probabilidad_No_Pago'], \n",
    "                                              bins=[-float('inf'), 0.0011, 0.00149, 0.005, 0.006, float('inf')],\n",
    "                                              labels=['Muy buen pagador', 'Buen pagador', 'Pagador neutro', 'Mal pagador', 'Muy mal pagador'])\n",
    "\n",
    "# Clasificar la columna 'Edad' en tres categorías: 'Joven', 'Adulto' y 'Adulto Mayor'\n",
    "# Cada categoría se define en función de rangos de edad especificados en 'bins'.\n",
    "df['Categoria_Edad'] = pd.cut(df['Edad'], \n",
    "                              bins=[-float('inf'), 35, 60, float('inf')],\n",
    "                              labels=['Joven', 'Adulto', 'Adulto Mayor'])\n",
    "\n",
    "# Crear un DataFrame único de 'rut' y 'Renta' eliminando duplicados, para calcular percentiles de renta\n",
    "df_unicos_renta = df[['rut', 'Renta']].drop_duplicates()\n",
    "\n",
    "# Calcular el percentil de renta para cada cliente usando 'qcut' para dividir en 100 grupos\n",
    "# Añadimos 1 para que los percentiles inicien en 1 en lugar de 0.\n",
    "df_unicos_renta['Percentil_Renta'] = pd.qcut(df_unicos_renta['Renta'], 100, labels=False) + 1\n",
    "\n",
    "# Clasificar la columna 'Percentil_Renta' en tres categorías: 'Renta Baja', 'Renta Media' y 'Renta Alta'\n",
    "# Los rangos de percentil especificados en 'bins' definen estas categorías.\n",
    "df_unicos_renta['Categoria_Renta'] = pd.cut(df_unicos_renta['Percentil_Renta'], \n",
    "                                            bins=[-float('inf'), 30, 80, float('inf')],\n",
    "                                            labels=['Renta Baja', 'Renta Media', 'Renta Alta'])\n",
    "\n",
    "# Incorporar la categoría de renta al DataFrame principal 'df' realizando una unión ('merge') en base a la columna 'rut'\n",
    "df = df.merge(df_unicos_renta[['rut', 'Categoria_Renta']], on='rut', how='left')\n",
    "\n",
    "# Mostrar el DataFrame resultante con las nuevas columnas creadas\n",
    "df\n"
   ]
  },
  {
   "cell_type": "code",
   "execution_count": 14,
   "metadata": {},
   "outputs": [],
   "source": [
    "# Concatenar las variables especificadas en una nueva columna 'categoria_clusterizacion'\n",
    "# La columna resultante combinará varias categorías en una descripción detallada del perfil del cliente.\n",
    "# Convertimos cada columna a tipo string para asegurarnos de que los datos sean compatibles para la concatenación.\n",
    "\n",
    "df['categoria_clusterizacion'] = (\n",
    "    df['Categoria_Digital'].astype(str) + ' ' +              # Categoría de digitalización del cliente\n",
    "    df['Categoria_Edad'].astype(str) + ' de genero ' +       # Categoría de edad, seguida de la palabra \"de genero\"\n",
    "    df['Genero'].astype(str) + ' con ' +                     # Género del cliente\n",
    "    df['Categoria_Propenso'].astype(str) + ' con una ' +     # Categoría de propensión, seguida de \"con una\"\n",
    "    df['Categoria_Renta'].astype(str)                        # Categoría de renta\n",
    ")\n"
   ]
  },
  {
   "cell_type": "code",
   "execution_count": 15,
   "metadata": {},
   "outputs": [],
   "source": [
    "# Asignar un número único a cada entrada distinta en la columna 'categoria_clusterizacion'\n",
    "# Se convierte la columna a tipo 'category', lo cual facilita la asignación de códigos numéricos únicos.\n",
    "# 'cat.codes' asigna un código numérico único para cada valor único de 'categoria_clusterizacion'.\n",
    "df['categoria_clusterizacion_numerica'] = df['categoria_clusterizacion'].astype('category').cat.codes\n"
   ]
  },
  {
   "cell_type": "code",
   "execution_count": 16,
   "metadata": {},
   "outputs": [],
   "source": [
    "# Crear una copia del DataFrame con solo las columnas 'rut', 'categoria_clusterizacion' y 'categoria_clusterizacion_numerica'\n",
    "# Esta copia se almacena en el nuevo DataFrame 'asignacion_clusters', el cual contendrá únicamente la identificación del cliente (rut),\n",
    "# la descripción del perfil ('categoria_clusterizacion') y el código numérico asignado a cada perfil ('categoria_clusterizacion_numerica').\n",
    "asignacion_clusters = df[['rut', 'categoria_clusterizacion', 'categoria_clusterizacion_numerica']].copy()\n"
   ]
  },
  {
   "cell_type": "markdown",
   "metadata": {},
   "source": [
    "# 4. Estimacion de curvas de elasticidad por cluster"
   ]
  },
  {
   "cell_type": "code",
   "execution_count": 17,
   "metadata": {},
   "outputs": [],
   "source": [
    "# Realizar una unión entre 'df_simulaciones_e_informacion_de_clientes_ventas' y 'asignacion_clusters' usando la columna 'rut' como clave\n",
    "# Esta unión ('merge') se realiza con 'how=\"left\"', lo que asegura que todos los registros de 'df_simulaciones_e_informacion_de_clientes_ventas' \n",
    "# se conserven, incluyendo aquellos sin coincidencia en 'asignacion_clusters'.\n",
    "# La finalidad es agregar la información de clusterización (categoría y código numérico) al DataFrame de simulaciones y ventas.\n",
    "df_estimar_elasticidad = pd.merge(df_simulaciones_e_informacion_de_clientes_ventas, asignacion_clusters, on='rut', how='left')\n"
   ]
  },
  {
   "cell_type": "code",
   "execution_count": 18,
   "metadata": {},
   "outputs": [],
   "source": [
    "import os\n",
    "import matplotlib.pyplot as plt\n",
    "from datetime import datetime\n",
    "import numpy as np\n",
    "\n",
    "def plot_elasticity_curve_with_histogram(tasas_grid, acceptance_probability, tasa_optima, df_cluster, cluster_num, output_folder):\n",
    "    \"\"\"\n",
    "    Grafica la curva de elasticidad con la tasa óptima marcada y un histograma\n",
    "    que muestra ventas y no ventas para cada precio, con mejoras en la visualización.\n",
    "    \n",
    "    Args:\n",
    "    - tasas_grid (numpy array): Valores de la tasa simulada (eje X).\n",
    "    - acceptance_probability (numpy array): Probabilidades de aceptación (eje Y).\n",
    "    - tasa_optima (float): Tasa óptima encontrada.\n",
    "    - df_cluster (DataFrame): Datos del cluster actual, incluyendo 'Tasa_Simulado' y 'venta'.\n",
    "    - cluster_num (int): Número del cluster para el título.\n",
    "    - output_folder (str): Ruta de la carpeta donde se guardará el gráfico.\n",
    "    \"\"\"\n",
    "    # Preparar datos para el histograma\n",
    "    ventas = df_cluster[df_cluster['venta'] == 1]['Tasa_Simulado']\n",
    "    no_ventas = df_cluster[df_cluster['venta'] == 0]['Tasa_Simulado']\n",
    "    \n",
    "    # Crear la figura\n",
    "    fig, ax1 = plt.subplots(figsize=(10, 6))\n",
    "    \n",
    "    # Curva de elasticidad\n",
    "    ax1.plot(tasas_grid, acceptance_probability, label=\"Curva de Elasticidad\", color='blue', linewidth=2)\n",
    "    ax1.axvline(x=tasa_optima, color='green', linestyle='--', label=f\"Tasa Óptima: {tasa_optima:.2f}%\", zorder=10)\n",
    "    ax1.set_xlabel(\"Tasa Simulada (%)\", fontsize=12)\n",
    "    ax1.set_ylabel(\"Probabilidad de Aceptación\", fontsize=12, color='black')\n",
    "    ax1.tick_params(axis='y', labelcolor='black')\n",
    "    ax1.set_ylim(0, 1)\n",
    "    ax1.grid(True, linestyle='--', alpha=0.7)\n",
    "    ax1.legend(loc='upper left', bbox_to_anchor=(1.2, 1))  # Leyenda fuera de la gráfica\n",
    "    \n",
    "    # Histograma de ventas y no ventas (usar el segundo eje Y)\n",
    "    ax2 = ax1.twinx()\n",
    "    ax2.hist([ventas, no_ventas], bins=20, color=['blue', 'red'], alpha=0.3, label=[\"Ventas\", \"No Ventas\"], stacked=True)\n",
    "    ax2.set_ylabel(\"Frecuencia de Ventas\", fontsize=12, color='black')\n",
    "    ax2.tick_params(axis='y', labelcolor='black')\n",
    "    ax2.legend(loc='upper left', bbox_to_anchor=(1.2, 0.85))  # Leyenda fuera de la gráfica\n",
    "\n",
    "    # Título\n",
    "    plt.title(f\"Curva de Elasticidad y Ventas por Tasa - Cluster {cluster_num}\", fontsize=14)\n",
    "    \n",
    "    # Ajustar diseño para evitar superposiciones\n",
    "    plt.tight_layout()\n",
    "    \n",
    "    # Guardar el gráfico\n",
    "    if not os.path.exists(output_folder):\n",
    "        os.makedirs(output_folder)\n",
    "    \n",
    "    output_path = os.path.join(output_folder, f\"curva_elasticidad_cluster_{cluster_num}.png\")\n",
    "    plt.savefig(output_path)\n",
    "    print(f\"Gráfico guardado en: {output_path}\")\n",
    "    plt.close()\n"
   ]
  },
  {
   "cell_type": "markdown",
   "metadata": {},
   "source": [
    "### Este código realiza un análisis de elasticidad de ingresos en función de clusters de clientes. Primero, agrupa los datos por clusters definidos a través de variables de segmentación y filtra solo los datos relevantes para cada cluster. Luego, para cada cluster, se ajusta un modelo de regresión logística para predecir la probabilidad de aceptación de una simulación de crédito en función de la tasa de interés. A partir de este modelo, se crea una cuadrícula de tasas para estimar la probabilidad de aceptación y calcular el revenue potencial de cada simulación, teniendo en cuenta el monto medio simulado, el plazo medio simulado y la probabilidad media de no pago del cluster. Posteriormente, se determina la tasa que maximiza el revenue esperado y se calcula el número esperado de créditos aceptados, junto con el número de clientes únicos en cada cluster. Finalmente, los resultados se agregan tanto en listas globales como en un nuevo DataFrame, y luego se integran en el DataFrame original df_estimar_elasticidad, lo que permite analizar el revenue esperado total y otros indicadores clave en cada cluster."
   ]
  },
  {
   "cell_type": "code",
   "execution_count": 19,
   "metadata": {},
   "outputs": [],
   "source": [
    "def function_estimar_elasticidad(df_estimar_elasticidad):\n",
    "    # Inicializar listas para almacenar resultados globales de revenue, clientes, créditos y simulaciones\n",
    "    lista_revenue = []\n",
    "    lista_clientes = []\n",
    "    lista_creditos = []\n",
    "    lista_simulaciones = []\n",
    "\n",
    "    cluster_results = []  # Lista para almacenar resultados específicos de cada cluster\n",
    "\n",
    "    # Obtener los números únicos de cada cluster\n",
    "    cluster_numbers = df_estimar_elasticidad['categoria_clusterizacion_numerica'].unique()\n",
    "\n",
    "    timestamp = datetime.now().strftime(\"%Y%m%d_%H%M%S\")\n",
    "    output_folder = f\"hg_reglog_{timestamp}\"\n",
    "    os.makedirs(output_folder, exist_ok=True)\n",
    "\n",
    "    # Iterar sobre cada cluster identificado por 'categoria_clusterizacion_numerica'\n",
    "    for cluster_num in cluster_numbers:\n",
    "        # Filtrar los datos correspondientes al cluster actual\n",
    "        df_cluster = df_estimar_elasticidad[df_estimar_elasticidad['categoria_clusterizacion_numerica'] == cluster_num]\n",
    "        \n",
    "        # Asegurarse de que existen datos para ambos casos: venta == 1 y venta == 0\n",
    "        if df_cluster.empty or df_cluster['venta'].isnull().all():\n",
    "            continue  # Saltar este cluster si no cumple con la condición\n",
    "        \n",
    "        # Remover filas donde 'venta' o 'Tasa_Simulado' son nulos o infinitos\n",
    "        df_cluster = df_cluster.replace([np.inf, -np.inf], np.nan)\n",
    "        df_cluster = df_cluster.dropna(subset=['venta', 'Tasa_Simulado', 'Plazo_Simulado', 'Monto_Simulado', 'Probabilidad_No_Pago'])\n",
    "        \n",
    "        # Saltar el cluster si no hay suficientes puntos de datos\n",
    "        if df_cluster.shape[0] < 10:\n",
    "            continue\n",
    "        \n",
    "        # Extraer las variables 'venta' (como variable dependiente) y 'Tasa_Simulado' (como predictor)\n",
    "        y = df_cluster['venta']\n",
    "        X = df_cluster[['Tasa_Simulado']]\n",
    "        \n",
    "        # Añadir un término constante para el intercepto\n",
    "        X = sm.add_constant(X)\n",
    "        \n",
    "        # Remover filas con valores NaN o Inf en X o y\n",
    "        is_finite = np.isfinite(X).all(1) & np.isfinite(y)\n",
    "        X = X[is_finite]\n",
    "        y = y[is_finite]\n",
    "        \n",
    "        # Asegurarse de que después de remover NaN/Inf, todavía hay suficientes datos\n",
    "        if len(y) < 10:\n",
    "            continue\n",
    "        \n",
    "        # Ajustar el modelo de regresión logística\n",
    "        logit_model = sm.Logit(y, X)\n",
    "        try:\n",
    "            result = logit_model.fit(disp=0)\n",
    "        except:\n",
    "            continue  # Saltar el cluster si el modelo no converge\n",
    "        \n",
    "        # Crear una cuadrícula de valores de 'Tasa_Simulado' para predicciones\n",
    "        tasa_min = df_cluster['Tasa_Simulado'].min()\n",
    "        tasa_max = df_cluster['Tasa_Simulado'].max()\n",
    "        tasas_grid = np.linspace(tasa_min, tasa_max, 1000)\n",
    "        \n",
    "        # Predecir la probabilidad de aceptación usando el modelo ajustado\n",
    "        X_grid = sm.add_constant(tasas_grid)\n",
    "        acceptance_probability = result.predict(X_grid)\n",
    "        \n",
    "        # Asegurar que las probabilidades están en el rango [0, 1]\n",
    "        acceptance_probability = np.clip(acceptance_probability, 0, 1)\n",
    "\n",
    "        # Calcular valores medios necesarios para el cálculo de revenue\n",
    "        n = df_cluster['Plazo_Simulado'].mean()\n",
    "        vp = df_cluster['Monto_Simulado'].mean()\n",
    "        pnp = df_cluster['Probabilidad_No_Pago'].mean()\n",
    "        data = {\n",
    "            'Plazo_Simulado_medio': n, \n",
    "            'Monto_Simulado_medio': vp, \n",
    "            'Probabilidad_No_Pago_media': pnp\n",
    "        }\n",
    "        \n",
    "        # Calcular el revenue potencial\n",
    "        i = tasas_grid / 100  # Convertir a decimal\n",
    "        one_plus_i_pow_n = np.power(1 + i, n)\n",
    "        annuity_factor = (i * one_plus_i_pow_n) / (one_plus_i_pow_n - 1)\n",
    "        revenue = (n * vp * annuity_factor) - vp\n",
    "        potential_revenue = revenue * (1 - pnp)\n",
    "        \n",
    "        # Calcular el promedio de simulaciones por fecha\n",
    "        df_cluster_simulaciones_1 = df_cluster[df_cluster['simulo'] == 1]\n",
    "        num_dates = df_cluster_simulaciones_1['fecha'].nunique()\n",
    "        total_simulaciones = df_cluster_simulaciones_1['simulo'].sum()\n",
    "        simulaciones_medias = total_simulaciones / num_dates if num_dates else 0\n",
    "        \n",
    "        # Saltar el cluster si no hay simulaciones\n",
    "        if simulaciones_medias == 0:\n",
    "            continue\n",
    "        \n",
    "        # Calcular el revenue esperado\n",
    "        expected_revenue = acceptance_probability * potential_revenue * simulaciones_medias\n",
    "        \n",
    "        # Encontrar la tasa que maximiza el revenue esperado\n",
    "        idx_max = np.argmax(expected_revenue)\n",
    "        max_price = tasas_grid[idx_max]\n",
    "        max_expected_revenue = expected_revenue[idx_max]\n",
    "        \n",
    "        # Probabilidad de aceptación en la tasa óptima\n",
    "        prob_aceptacion_optima = acceptance_probability[idx_max]\n",
    "        \n",
    "        # Llamar a la función para graficar la curva y el histograma\n",
    "        plot_elasticity_curve_with_histogram(\n",
    "            tasas_grid, \n",
    "            acceptance_probability, \n",
    "            max_price, \n",
    "            df_cluster,  # Pasamos todo el DataFrame del cluster actual\n",
    "            cluster_num, \n",
    "            output_folder\n",
    "        )\n",
    "\n",
    "        # Número esperado de créditos aceptados\n",
    "        num_creditos_aceptados = round(prob_aceptacion_optima * simulaciones_medias)\n",
    "        \n",
    "        # Número de clientes únicos en el cluster\n",
    "        num_clients = df_cluster['rut'].nunique()\n",
    "        \n",
    "        # Imprimir resultados para cada cluster\n",
    "        print(f'Cluster {cluster_num}:')\n",
    "        print(f'- Precio Máx. Revenue Esperado = {max_price:.2f}%')\n",
    "        print(f'- Revenue Esperado Máximo = {max_expected_revenue:,.2f}')\n",
    "        print(f'- Número de clientes en el cluster = {num_clients}')\n",
    "        print(f'- Número de simulaciones en el cluster = {simulaciones_medias:.2f}')\n",
    "        print(f'- Probabilidad de aceptación en el precio óptimo = {prob_aceptacion_optima:.4f}')\n",
    "        print(f'- Número esperado de créditos aceptados = {num_creditos_aceptados}')\n",
    "        print(f'- Monto medio simulado = {data[\"Monto_Simulado_medio\"]:,.2f}')\n",
    "        print(f'- Plazo medio simulado = {data[\"Plazo_Simulado_medio\"]:,.2f}')\n",
    "        print(f'- Probabilidad de no pago media = {data[\"Probabilidad_No_Pago_media\"]:.4f}\\n')\n",
    "\n",
    "        # Agregar resultados a las listas globales\n",
    "        lista_clientes.append(num_clients)\n",
    "        lista_revenue.append(max_expected_revenue)\n",
    "        lista_creditos.append(num_creditos_aceptados)\n",
    "        lista_simulaciones.append(simulaciones_medias)\n",
    "        \n",
    "        # Almacenar resultados por cluster en cluster_results\n",
    "        cluster_results.append({\n",
    "            'categoria_clusterizacion_numerica': cluster_num,\n",
    "            'tasa_optima': max_price,\n",
    "            'probabilidad_aceptacion_optima': prob_aceptacion_optima,\n",
    "            'revenue_esperado_maximo': max_expected_revenue,\n",
    "            'numero_clientes': num_clients,\n",
    "            'numero_simulaciones_medias': simulaciones_medias,\n",
    "            'numero_creditos_esperados': num_creditos_aceptados,\n",
    "            'monto_medio_simulado': data[\"Monto_Simulado_medio\"],\n",
    "            'plazo_medio_simulado': data[\"Plazo_Simulado_medio\"],\n",
    "            'probabilidad_no_pago_media': data[\"Probabilidad_No_Pago_media\"]\n",
    "        })\n",
    "\n",
    "    # Imprimir resultados globales\n",
    "    total_revenue = sum(lista_revenue)\n",
    "    total_clientes = sum(lista_clientes)\n",
    "    total_simulaciones = sum(lista_simulaciones)\n",
    "    total_creditos = sum(lista_creditos)\n",
    "\n",
    "    print(f\"El revenue total esperado es: {total_revenue:,.2f} con un total de {total_clientes} clientes, \"\n",
    "        f\"{total_simulaciones:,.2f} simulaciones, y {total_creditos} créditos.\")\n",
    "\n",
    "    # Crear un DataFrame a partir de cluster_results\n",
    "    df_cluster_results = pd.DataFrame(cluster_results)\n",
    "\n",
    "    # Incorporar los resultados por cluster de 'df_cluster_results' a 'df_estimar_elasticidad'\n",
    "    df_estimar_elasticidad = df_estimar_elasticidad.merge(\n",
    "        df_cluster_results[['categoria_clusterizacion_numerica', 'tasa_optima', 'probabilidad_aceptacion_optima']],\n",
    "        on='categoria_clusterizacion_numerica', \n",
    "        how='left'\n",
    "    )\n",
    "    return {'df_estimar_elasticidad': df_estimar_elasticidad, 'total_revenue': total_revenue, 'total_clientes': total_clientes, 'total_simulaciones': total_simulaciones, 'total_creditos': total_creditos}\n"
   ]
  },
  {
   "cell_type": "code",
   "execution_count": 20,
   "metadata": {},
   "outputs": [
    {
     "name": "stdout",
     "output_type": "stream",
     "text": [
      "Gráfico guardado en: hg_reglog_20241127_184024\\curva_elasticidad_cluster_101.png\n",
      "Cluster 101:\n",
      "- Precio Máx. Revenue Esperado = 1.26%\n",
      "- Revenue Esperado Máximo = 446,196,158.99\n",
      "- Número de clientes en el cluster = 6422\n",
      "- Número de simulaciones en el cluster = 1814.08\n",
      "- Probabilidad de aceptación en el precio óptimo = 0.4998\n",
      "- Número esperado de créditos aceptados = 907\n",
      "- Monto medio simulado = 2,672,066.39\n",
      "- Plazo medio simulado = 27.47\n",
      "- Probabilidad de no pago media = 0.0276\n",
      "\n",
      "Gráfico guardado en: hg_reglog_20241127_184024\\curva_elasticidad_cluster_76.png\n",
      "Cluster 76:\n",
      "- Precio Máx. Revenue Esperado = 1.22%\n",
      "- Revenue Esperado Máximo = 65,495,606.51\n",
      "- Número de clientes en el cluster = 5907\n",
      "- Número de simulaciones en el cluster = 912.80\n",
      "- Probabilidad de aceptación en el precio óptimo = 0.5523\n",
      "- Número esperado de créditos aceptados = 504\n",
      "- Monto medio simulado = 712,403.67\n",
      "- Plazo medio simulado = 27.65\n",
      "- Probabilidad de no pago media = 0.0092\n",
      "\n",
      "Gráfico guardado en: hg_reglog_20241127_184024\\curva_elasticidad_cluster_72.png\n",
      "Cluster 72:\n",
      "- Precio Máx. Revenue Esperado = 1.08%\n",
      "- Revenue Esperado Máximo = 3,990,650,405.36\n",
      "- Número de clientes en el cluster = 5431\n",
      "- Número de simulaciones en el cluster = 1628.33\n",
      "- Probabilidad de aceptación en el precio óptimo = 0.6250\n",
      "- Número esperado de créditos aceptados = 1018\n",
      "- Monto medio simulado = 24,593,376.51\n",
      "- Plazo medio simulado = 27.51\n",
      "- Probabilidad de no pago media = 0.0066\n",
      "\n",
      "Gráfico guardado en: hg_reglog_20241127_184024\\curva_elasticidad_cluster_82.png\n",
      "Cluster 82:\n",
      "- Precio Máx. Revenue Esperado = 1.37%\n",
      "- Revenue Esperado Máximo = 163,105,347.36\n",
      "- Número de clientes en el cluster = 7906\n",
      "- Número de simulaciones en el cluster = 2225.33\n",
      "- Probabilidad de aceptación en el precio óptimo = 0.4737\n",
      "- Número esperado de créditos aceptados = 1054\n",
      "- Monto medio simulado = 761,277.55\n",
      "- Plazo medio simulado = 27.50\n",
      "- Probabilidad de no pago media = 0.0208\n",
      "\n",
      "Gráfico guardado en: hg_reglog_20241127_184024\\curva_elasticidad_cluster_52.png\n",
      "Cluster 52:\n",
      "- Precio Máx. Revenue Esperado = 1.27%\n",
      "- Revenue Esperado Máximo = 93,572,615.59\n",
      "- Número de clientes en el cluster = 8270\n",
      "- Número de simulaciones en el cluster = 2036.83\n",
      "- Probabilidad de aceptación en el precio óptimo = 0.4993\n",
      "- Número esperado de créditos aceptados = 1017\n",
      "- Monto medio simulado = 499,737.29\n",
      "- Plazo medio simulado = 27.44\n",
      "- Probabilidad de no pago media = 0.0309\n",
      "\n",
      "Gráfico guardado en: hg_reglog_20241127_184024\\curva_elasticidad_cluster_91.png\n",
      "Cluster 91:\n",
      "- Precio Máx. Revenue Esperado = 1.33%\n",
      "- Revenue Esperado Máximo = 89,026,360.93\n",
      "- Número de clientes en el cluster = 6022\n",
      "- Número de simulaciones en el cluster = 1673.71\n",
      "- Probabilidad de aceptación en el precio óptimo = 0.4964\n",
      "- Número esperado de créditos aceptados = 831\n",
      "- Monto medio simulado = 545,212.11\n",
      "- Plazo medio simulado = 27.51\n",
      "- Probabilidad de no pago media = 0.0184\n",
      "\n",
      "Gráfico guardado en: hg_reglog_20241127_184024\\curva_elasticidad_cluster_94.png\n",
      "Cluster 94:\n",
      "- Precio Máx. Revenue Esperado = 1.30%\n",
      "- Revenue Esperado Máximo = 48,560,183.27\n",
      "- Número de clientes en el cluster = 6050\n",
      "- Número de simulaciones en el cluster = 911.15\n",
      "- Probabilidad de aceptación en el precio óptimo = 0.5092\n",
      "- Número esperado de créditos aceptados = 464\n",
      "- Monto medio simulado = 543,829.07\n",
      "- Plazo medio simulado = 27.46\n",
      "- Probabilidad de no pago media = 0.0181\n",
      "\n",
      "Gráfico guardado en: hg_reglog_20241127_184024\\curva_elasticidad_cluster_50.png\n",
      "Cluster 50:\n",
      "- Precio Máx. Revenue Esperado = 1.25%\n",
      "- Revenue Esperado Máximo = 457,281,518.27\n",
      "- Número de clientes en el cluster = 10500\n",
      "- Número de simulaciones en el cluster = 1961.65\n",
      "- Probabilidad de aceptación en el precio óptimo = 0.4992\n",
      "- Número esperado de créditos aceptados = 979\n",
      "- Monto medio simulado = 2,557,276.72\n",
      "- Plazo medio simulado = 27.45\n",
      "- Probabilidad de no pago media = 0.0280\n",
      "\n",
      "Gráfico guardado en: hg_reglog_20241127_184024\\curva_elasticidad_cluster_79.png\n",
      "Cluster 79:\n",
      "- Precio Máx. Revenue Esperado = 1.22%\n",
      "- Revenue Esperado Máximo = 88,437,950.01\n",
      "- Número de clientes en el cluster = 5910\n",
      "- Número de simulaciones en el cluster = 1283.14\n",
      "- Probabilidad de aceptación en el precio óptimo = 0.5527\n",
      "- Número esperado de créditos aceptados = 709\n",
      "- Monto medio simulado = 689,955.37\n",
      "- Plazo medio simulado = 27.45\n",
      "- Probabilidad de no pago media = 0.0092\n",
      "\n",
      "Gráfico guardado en: hg_reglog_20241127_184024\\curva_elasticidad_cluster_29.png\n",
      "Cluster 29:\n",
      "- Precio Máx. Revenue Esperado = 1.31%\n",
      "- Revenue Esperado Máximo = 1,717,575,649.98\n",
      "- Número de clientes en el cluster = 13365\n",
      "- Número de simulaciones en el cluster = 4220.15\n",
      "- Probabilidad de aceptación en el precio óptimo = 0.4957\n",
      "- Número esperado de créditos aceptados = 2092\n",
      "- Monto medio simulado = 4,242,997.01\n",
      "- Plazo medio simulado = 27.51\n",
      "- Probabilidad de no pago media = 0.0194\n",
      "\n",
      "Gráfico guardado en: hg_reglog_20241127_184024\\curva_elasticidad_cluster_26.png\n",
      "Cluster 26:\n",
      "- Precio Máx. Revenue Esperado = 1.18%\n",
      "- Revenue Esperado Máximo = 954,530,572.96\n",
      "- Número de clientes en el cluster = 9197\n",
      "- Número de simulaciones en el cluster = 2310.14\n",
      "- Probabilidad de aceptación en el precio óptimo = 0.5723\n",
      "- Número esperado de créditos aceptados = 1322\n",
      "- Monto medio simulado = 4,089,325.53\n",
      "- Plazo medio simulado = 27.62\n",
      "- Probabilidad de no pago media = 0.0089\n",
      "\n",
      "Gráfico guardado en: hg_reglog_20241127_184024\\curva_elasticidad_cluster_84.png\n",
      "Cluster 84:\n",
      "- Precio Máx. Revenue Esperado = 1.16%\n",
      "- Revenue Esperado Máximo = 5,553,957,611.65\n",
      "- Número de clientes en el cluster = 11417\n",
      "- Número de simulaciones en el cluster = 1996.05\n",
      "- Probabilidad de aceptación en el precio óptimo = 0.5671\n",
      "- Número esperado de créditos aceptados = 1132\n",
      "- Monto medio simulado = 28,531,990.81\n",
      "- Plazo medio simulado = 27.44\n",
      "- Probabilidad de no pago media = 0.0112\n",
      "\n",
      "Gráfico guardado en: hg_reglog_20241127_184024\\curva_elasticidad_cluster_107.png\n",
      "Cluster 107:\n",
      "- Precio Máx. Revenue Esperado = 1.25%\n",
      "- Revenue Esperado Máximo = 339,780,206.07\n",
      "- Número de clientes en el cluster = 6431\n",
      "- Número de simulaciones en el cluster = 1411.65\n",
      "- Probabilidad de aceptación en el precio óptimo = 0.4978\n",
      "- Número esperado de créditos aceptados = 703\n",
      "- Monto medio simulado = 2,641,195.96\n",
      "- Plazo medio simulado = 27.52\n",
      "- Probabilidad de no pago media = 0.0280\n",
      "\n",
      "Gráfico guardado en: hg_reglog_20241127_184024\\curva_elasticidad_cluster_71.png\n",
      "Cluster 71:\n",
      "- Precio Máx. Revenue Esperado = 1.30%\n",
      "- Revenue Esperado Máximo = 108,474,164.09\n",
      "- Número de clientes en el cluster = 1166\n",
      "- Número de simulaciones en el cluster = 259.17\n",
      "- Probabilidad de aceptación en el precio óptimo = 0.4927\n",
      "- Número esperado de créditos aceptados = 128\n",
      "- Monto medio simulado = 4,398,974.78\n",
      "- Plazo medio simulado = 27.57\n",
      "- Probabilidad de no pago media = 0.0188\n",
      "\n",
      "Gráfico guardado en: hg_reglog_20241127_184024\\curva_elasticidad_cluster_80.png\n",
      "Cluster 80:\n",
      "- Precio Máx. Revenue Esperado = 1.19%\n",
      "- Revenue Esperado Máximo = 1,072,853,588.91\n",
      "- Número de clientes en el cluster = 11891\n",
      "- Número de simulaciones en el cluster = 2614.11\n",
      "- Probabilidad de aceptación en el precio óptimo = 0.5597\n",
      "- Número esperado de créditos aceptados = 1463\n",
      "- Monto medio simulado = 4,137,472.83\n",
      "- Plazo medio simulado = 27.50\n",
      "- Probabilidad de no pago media = 0.0087\n",
      "\n",
      "Gráfico guardado en: hg_reglog_20241127_184024\\curva_elasticidad_cluster_38.png\n",
      "Cluster 38:\n",
      "- Precio Máx. Revenue Esperado = 1.30%\n",
      "- Revenue Esperado Máximo = 813,808,814.78\n",
      "- Número de clientes en el cluster = 11658\n",
      "- Número de simulaciones en el cluster = 3629.15\n",
      "- Probabilidad de aceptación en el precio óptimo = 0.5037\n",
      "- Número esperado de créditos aceptados = 1828\n",
      "- Monto medio simulado = 2,315,093.68\n",
      "- Plazo medio simulado = 27.47\n",
      "- Probabilidad de no pago media = 0.0170\n",
      "\n",
      "Gráfico guardado en: hg_reglog_20241127_184024\\curva_elasticidad_cluster_43.png\n",
      "Cluster 43:\n",
      "- Precio Máx. Revenue Esperado = 1.33%\n",
      "- Revenue Esperado Máximo = 122,764,459.38\n",
      "- Número de clientes en el cluster = 9799\n",
      "- Número de simulaciones en el cluster = 2392.71\n",
      "- Probabilidad de aceptación en el precio óptimo = 0.4996\n",
      "- Número esperado de créditos aceptados = 1195\n",
      "- Monto medio simulado = 523,085.20\n",
      "- Plazo medio simulado = 27.48\n",
      "- Probabilidad de no pago media = 0.0183\n",
      "\n",
      "Gráfico guardado en: hg_reglog_20241127_184024\\curva_elasticidad_cluster_24.png\n",
      "Cluster 24:\n",
      "- Precio Máx. Revenue Esperado = 1.09%\n",
      "- Revenue Esperado Máximo = 2,472,218,105.95\n",
      "- Número de clientes en el cluster = 4182\n",
      "- Número de simulaciones en el cluster = 1119.42\n",
      "- Probabilidad de aceptación en el precio óptimo = 0.6118\n",
      "- Número esperado de créditos aceptados = 685\n",
      "- Monto medio simulado = 22,510,340.47\n",
      "- Plazo medio simulado = 27.40\n",
      "- Probabilidad de no pago media = 0.0067\n",
      "\n",
      "Gráfico guardado en: hg_reglog_20241127_184024\\curva_elasticidad_cluster_22.png\n",
      "Cluster 22:\n",
      "- Precio Máx. Revenue Esperado = 1.21%\n",
      "- Revenue Esperado Máximo = 61,449,304.35\n",
      "- Número de clientes en el cluster = 4696\n",
      "- Número de simulaciones en el cluster = 871.39\n",
      "- Probabilidad de aceptación en el precio óptimo = 0.5570\n",
      "- Número esperado de créditos aceptados = 485\n",
      "- Monto medio simulado = 700,236.12\n",
      "- Plazo medio simulado = 27.56\n",
      "- Probabilidad de no pago media = 0.0092\n",
      "\n",
      "Gráfico guardado en: hg_reglog_20241127_184024\\curva_elasticidad_cluster_44.png\n",
      "Cluster 44:\n",
      "- Precio Máx. Revenue Esperado = 1.30%\n",
      "- Revenue Esperado Máximo = 662,992,334.04\n",
      "- Número de clientes en el cluster = 11846\n",
      "- Número de simulaciones en el cluster = 2945.48\n",
      "- Probabilidad de aceptación en el precio óptimo = 0.5056\n",
      "- Número esperado de créditos aceptados = 1489\n",
      "- Monto medio simulado = 2,315,304.20\n",
      "- Plazo medio simulado = 27.50\n",
      "- Probabilidad de no pago media = 0.0169\n",
      "\n",
      "Gráfico guardado en: hg_reglog_20241127_184024\\curva_elasticidad_cluster_102.png\n",
      "Cluster 102:\n",
      "- Precio Máx. Revenue Esperado = 1.16%\n",
      "- Revenue Esperado Máximo = 186,843,481.91\n",
      "- Número de clientes en el cluster = 1066\n",
      "- Número de simulaciones en el cluster = 184.83\n",
      "- Probabilidad de aceptación en el precio óptimo = 0.5375\n",
      "- Número esperado de créditos aceptados = 99\n",
      "- Monto medio simulado = 11,049,912.03\n",
      "- Plazo medio simulado = 27.34\n",
      "- Probabilidad de no pago media = 0.0178\n",
      "\n",
      "Gráfico guardado en: hg_reglog_20241127_184024\\curva_elasticidad_cluster_35.png\n",
      "Cluster 35:\n",
      "- Precio Máx. Revenue Esperado = 1.31%\n",
      "- Revenue Esperado Máximo = 1,397,625,093.58\n",
      "- Número de clientes en el cluster = 13507\n",
      "- Número de simulaciones en el cluster = 3408.94\n",
      "- Probabilidad de aceptación en el precio óptimo = 0.4963\n",
      "- Número esperado de créditos aceptados = 1692\n",
      "- Monto medio simulado = 4,265,037.92\n",
      "- Plazo medio simulado = 27.57\n",
      "- Probabilidad de no pago media = 0.0195\n",
      "\n",
      "Gráfico guardado en: hg_reglog_20241127_184024\\curva_elasticidad_cluster_33.png\n",
      "Cluster 33:\n",
      "- Precio Máx. Revenue Esperado = 1.17%\n",
      "- Revenue Esperado Máximo = 5,115,477,928.85\n",
      "- Número de clientes en el cluster = 8036\n",
      "- Número de simulaciones en el cluster = 2138.65\n",
      "- Probabilidad de aceptación en el precio óptimo = 0.5649\n",
      "- Número esperado de créditos aceptados = 1208\n",
      "- Monto medio simulado = 24,506,762.72\n",
      "- Plazo medio simulado = 27.52\n",
      "- Probabilidad de no pago media = 0.0121\n",
      "\n",
      "Gráfico guardado en: hg_reglog_20241127_184024\\curva_elasticidad_cluster_95.png\n",
      "Cluster 95:\n",
      "- Precio Máx. Revenue Esperado = 1.30%\n",
      "- Revenue Esperado Máximo = 247,751,291.55\n",
      "- Número de clientes en el cluster = 7311\n",
      "- Número de simulaciones en el cluster = 1121.12\n",
      "- Probabilidad de aceptación en el precio óptimo = 0.4949\n",
      "- Número esperado de créditos aceptados = 555\n",
      "- Monto medio simulado = 2,314,930.93\n",
      "- Plazo medio simulado = 27.44\n",
      "- Probabilidad de no pago media = 0.0164\n",
      "\n",
      "Gráfico guardado en: hg_reglog_20241127_184024\\curva_elasticidad_cluster_106.png\n",
      "Cluster 106:\n",
      "- Precio Máx. Revenue Esperado = 1.26%\n",
      "- Revenue Esperado Máximo = 50,212,947.77\n",
      "- Número de clientes en el cluster = 4937\n",
      "- Número de simulaciones en el cluster = 1066.24\n",
      "- Probabilidad de aceptación en el precio óptimo = 0.5045\n",
      "- Número esperado de créditos aceptados = 538\n",
      "- Monto medio simulado = 510,591.53\n",
      "- Plazo medio simulado = 27.46\n",
      "- Probabilidad de no pago media = 0.0310\n",
      "\n",
      "Gráfico guardado en: hg_reglog_20241127_184024\\curva_elasticidad_cluster_30.png\n",
      "Cluster 30:\n",
      "- Precio Máx. Revenue Esperado = 1.17%\n",
      "- Revenue Esperado Máximo = 4,037,567,611.19\n",
      "- Número de clientes en el cluster = 8124\n",
      "- Número de simulaciones en el cluster = 1645.29\n",
      "- Probabilidad de aceptación en el precio óptimo = 0.5646\n",
      "- Número esperado de créditos aceptados = 929\n",
      "- Monto medio simulado = 25,082,738.84\n",
      "- Plazo medio simulado = 27.59\n",
      "- Probabilidad de no pago media = 0.0117\n",
      "\n",
      "Gráfico guardado en: hg_reglog_20241127_184024\\curva_elasticidad_cluster_78.png\n",
      "Cluster 78:\n",
      "- Precio Máx. Revenue Esperado = 1.09%\n",
      "- Revenue Esperado Máximo = 3,078,895,450.01\n",
      "- Número de clientes en el cluster = 5346\n",
      "- Número de simulaciones en el cluster = 1271.70\n",
      "- Probabilidad de aceptación en el precio óptimo = 0.6188\n",
      "- Número esperado de créditos aceptados = 787\n",
      "- Monto medio simulado = 24,348,206.10\n",
      "- Plazo medio simulado = 27.41\n",
      "- Probabilidad de no pago media = 0.0065\n",
      "\n",
      "Gráfico guardado en: hg_reglog_20241127_184024\\curva_elasticidad_cluster_19.png\n",
      "Cluster 19:\n",
      "- Precio Máx. Revenue Esperado = 1.22%\n",
      "- Revenue Esperado Máximo = 102,700,852.92\n",
      "- Número de clientes en el cluster = 4632\n",
      "- Número de simulaciones en el cluster = 1440.27\n",
      "- Probabilidad de aceptación en el precio óptimo = 0.5584\n",
      "- Número esperado de créditos aceptados = 804\n",
      "- Monto medio simulado = 701,876.05\n",
      "- Plazo medio simulado = 27.66\n",
      "- Probabilidad de no pago media = 0.0092\n",
      "\n",
      "Gráfico guardado en: hg_reglog_20241127_184024\\curva_elasticidad_cluster_83.png\n",
      "Cluster 83:\n",
      "- Precio Máx. Revenue Esperado = 1.31%\n",
      "- Revenue Esperado Máximo = 2,177,905,851.51\n",
      "- Número de clientes en el cluster = 18317\n",
      "- Número de simulaciones en el cluster = 5232.24\n",
      "- Probabilidad de aceptación en el precio óptimo = 0.4954\n",
      "- Número esperado de créditos aceptados = 2592\n",
      "- Monto medio simulado = 4,327,159.72\n",
      "- Plazo medio simulado = 27.57\n",
      "- Probabilidad de no pago media = 0.0193\n",
      "\n",
      "Gráfico guardado en: hg_reglog_20241127_184024\\curva_elasticidad_cluster_89.png\n",
      "Cluster 89:\n",
      "- Precio Máx. Revenue Esperado = 1.31%\n",
      "- Revenue Esperado Máximo = 1,708,643,789.42\n",
      "- Número de clientes en el cluster = 18498\n",
      "- Número de simulaciones en el cluster = 4117.44\n",
      "- Probabilidad de aceptación en el precio óptimo = 0.4915\n",
      "- Número esperado de créditos aceptados = 2024\n",
      "- Monto medio simulado = 4,354,993.83\n",
      "- Plazo medio simulado = 27.45\n",
      "- Probabilidad de no pago media = 0.0190\n",
      "\n",
      "Gráfico guardado en: hg_reglog_20241127_184024\\curva_elasticidad_cluster_75.png\n",
      "Cluster 75:\n",
      "- Precio Máx. Revenue Esperado = 1.08%\n",
      "- Revenue Esperado Máximo = 2,313,403,134.53\n",
      "- Número de clientes en el cluster = 5423\n",
      "- Número de simulaciones en el cluster = 937.80\n",
      "- Probabilidad de aceptación en el precio óptimo = 0.6182\n",
      "- Número esperado de créditos aceptados = 580\n",
      "- Monto medio simulado = 24,813,463.68\n",
      "- Plazo medio simulado = 27.50\n",
      "- Probabilidad de no pago media = 0.0065\n",
      "\n",
      "Gráfico guardado en: hg_reglog_20241127_184024\\curva_elasticidad_cluster_104.png\n",
      "Cluster 104:\n",
      "- Precio Máx. Revenue Esperado = 1.25%\n",
      "- Revenue Esperado Máximo = 249,215,185.87\n",
      "- Número de clientes en el cluster = 6511\n",
      "- Número de simulaciones en el cluster = 1023.06\n",
      "- Probabilidad de aceptación en el precio óptimo = 0.5004\n",
      "- Número esperado de créditos aceptados = 512\n",
      "- Monto medio simulado = 2,644,862.40\n",
      "- Plazo medio simulado = 27.60\n",
      "- Probabilidad de no pago media = 0.0271\n",
      "\n",
      "Gráfico guardado en: hg_reglog_20241127_184024\\curva_elasticidad_cluster_47.png\n",
      "Cluster 47:\n",
      "- Precio Máx. Revenue Esperado = 1.25%\n",
      "- Revenue Esperado Máximo = 774,428,242.42\n",
      "- Número de clientes en el cluster = 10281\n",
      "- Número de simulaciones en el cluster = 3222.58\n",
      "- Probabilidad de aceptación en el precio óptimo = 0.5009\n",
      "- Número esperado de créditos aceptados = 1614\n",
      "- Monto medio simulado = 2,627,535.73\n",
      "- Plazo medio simulado = 27.43\n",
      "- Probabilidad de no pago media = 0.0285\n",
      "\n",
      "Gráfico guardado en: hg_reglog_20241127_184024\\curva_elasticidad_cluster_86.png\n",
      "Cluster 86:\n",
      "- Precio Máx. Revenue Esperado = 1.31%\n",
      "- Revenue Esperado Máximo = 1,197,370,441.05\n",
      "- Número de clientes en el cluster = 18052\n",
      "- Número de simulaciones en el cluster = 2874.89\n",
      "- Probabilidad de aceptación en el precio óptimo = 0.4976\n",
      "- Número esperado de créditos aceptados = 1431\n",
      "- Monto medio simulado = 4,327,878.10\n",
      "- Plazo medio simulado = 27.51\n",
      "- Probabilidad de no pago media = 0.0188\n",
      "\n",
      "Gráfico guardado en: hg_reglog_20241127_184024\\curva_elasticidad_cluster_34.png\n",
      "Cluster 34:\n",
      "- Precio Máx. Revenue Esperado = 1.38%\n",
      "- Revenue Esperado Máximo = 106,339,874.38\n",
      "- Número de clientes en el cluster = 5866\n",
      "- Número de simulaciones en el cluster = 1461.36\n",
      "- Probabilidad de aceptación en el precio óptimo = 0.4677\n",
      "- Número esperado de créditos aceptados = 683\n",
      "- Monto medio simulado = 756,275.85\n",
      "- Plazo medio simulado = 27.61\n",
      "- Probabilidad de no pago media = 0.0208\n",
      "\n",
      "Gráfico guardado en: hg_reglog_20241127_184024\\curva_elasticidad_cluster_88.png\n",
      "Cluster 88:\n",
      "- Precio Máx. Revenue Esperado = 1.36%\n",
      "- Revenue Esperado Máximo = 123,909,118.69\n",
      "- Número de clientes en el cluster = 7946\n",
      "- Número de simulaciones en el cluster = 1735.52\n",
      "- Probabilidad de aceptación en el precio óptimo = 0.4744\n",
      "- Número esperado de créditos aceptados = 823\n",
      "- Monto medio simulado = 747,661.52\n",
      "- Plazo medio simulado = 27.46\n",
      "- Probabilidad de no pago media = 0.0207\n",
      "\n",
      "Gráfico guardado en: hg_reglog_20241127_184024\\curva_elasticidad_cluster_73.png\n",
      "Cluster 73:\n",
      "- Precio Máx. Revenue Esperado = 1.22%\n",
      "- Revenue Esperado Máximo = 117,525,323.76\n",
      "- Número de clientes en el cluster = 5982\n",
      "- Número de simulaciones en el cluster = 1678.83\n",
      "- Probabilidad de aceptación en el precio óptimo = 0.5568\n",
      "- Número esperado de créditos aceptados = 935\n",
      "- Monto medio simulado = 694,680.43\n",
      "- Plazo medio simulado = 27.38\n",
      "- Probabilidad de no pago media = 0.0091\n",
      "\n",
      "Gráfico guardado en: hg_reglog_20241127_184024\\curva_elasticidad_cluster_41.png\n",
      "Cluster 41:\n",
      "- Precio Máx. Revenue Esperado = 1.30%\n",
      "- Revenue Esperado Máximo = 495,864,992.67\n",
      "- Número de clientes en el cluster = 12007\n",
      "- Número de simulaciones en el cluster = 2202.18\n",
      "- Probabilidad de aceptación en el precio óptimo = 0.5030\n",
      "- Número esperado de créditos aceptados = 1108\n",
      "- Monto medio simulado = 2,324,933.02\n",
      "- Plazo medio simulado = 27.47\n",
      "- Probabilidad de no pago media = 0.0169\n",
      "\n",
      "Gráfico guardado en: hg_reglog_20241127_184024\\curva_elasticidad_cluster_40.png\n",
      "Cluster 40:\n",
      "- Precio Máx. Revenue Esperado = 1.33%\n",
      "- Revenue Esperado Máximo = 91,320,622.78\n",
      "- Número de clientes en el cluster = 9749\n",
      "- Número de simulaciones en el cluster = 1763.06\n",
      "- Probabilidad de aceptación en el precio óptimo = 0.4960\n",
      "- Número esperado de créditos aceptados = 875\n",
      "- Monto medio simulado = 532,697.82\n",
      "- Plazo medio simulado = 27.41\n",
      "- Probabilidad de no pago media = 0.0184\n",
      "\n",
      "Gráfico guardado en: hg_reglog_20241127_184024\\curva_elasticidad_cluster_20.png\n",
      "Cluster 20:\n",
      "- Precio Máx. Revenue Esperado = 1.19%\n",
      "- Revenue Esperado Máximo = 1,214,273,329.15\n",
      "- Número de clientes en el cluster = 9369\n",
      "- Número de simulaciones en el cluster = 2957.11\n",
      "- Probabilidad de aceptación en el precio óptimo = 0.5648\n",
      "- Número esperado de créditos aceptados = 1670\n",
      "- Monto medio simulado = 4,123,086.75\n",
      "- Plazo medio simulado = 27.48\n",
      "- Probabilidad de no pago media = 0.0088\n",
      "\n",
      "Gráfico guardado en: hg_reglog_20241127_184024\\curva_elasticidad_cluster_77.png\n",
      "Cluster 77:\n",
      "- Precio Máx. Revenue Esperado = 1.19%\n",
      "- Revenue Esperado Máximo = 780,014,828.15\n",
      "- Número de clientes en el cluster = 12010\n",
      "- Número de simulaciones en el cluster = 1893.86\n",
      "- Probabilidad de aceptación en el precio óptimo = 0.5644\n",
      "- Número esperado de créditos aceptados = 1069\n",
      "- Monto medio simulado = 4,143,811.82\n",
      "- Plazo medio simulado = 27.48\n",
      "- Probabilidad de no pago media = 0.0087\n",
      "\n",
      "Gráfico guardado en: hg_reglog_20241127_184024\\curva_elasticidad_cluster_37.png\n",
      "Cluster 37:\n",
      "- Precio Máx. Revenue Esperado = 1.33%\n",
      "- Revenue Esperado Máximo = 160,094,438.88\n",
      "- Número de clientes en el cluster = 10119\n",
      "- Número de simulaciones en el cluster = 3116.74\n",
      "- Probabilidad de aceptación en el precio óptimo = 0.5013\n",
      "- Número esperado de créditos aceptados = 1562\n",
      "- Monto medio simulado = 522,257.11\n",
      "- Plazo medio simulado = 27.50\n",
      "- Probabilidad de no pago media = 0.0185\n",
      "\n",
      "Gráfico guardado en: hg_reglog_20241127_184024\\curva_elasticidad_cluster_42.png\n",
      "Cluster 42:\n",
      "- Precio Máx. Revenue Esperado = 1.10%\n",
      "- Revenue Esperado Máximo = 683,375,848.78\n",
      "- Número de clientes en el cluster = 2065\n",
      "- Número de simulaciones en el cluster = 546.39\n",
      "- Probabilidad de aceptación en el precio óptimo = 0.5828\n",
      "- Número esperado de créditos aceptados = 318\n",
      "- Monto medio simulado = 13,234,187.25\n",
      "- Plazo medio simulado = 27.46\n",
      "- Probabilidad de no pago media = 0.0097\n",
      "\n",
      "Gráfico guardado en: hg_reglog_20241127_184024\\curva_elasticidad_cluster_31.png\n",
      "Cluster 31:\n",
      "- Precio Máx. Revenue Esperado = 1.34%\n",
      "- Revenue Esperado Máximo = 79,701,273.66\n",
      "- Número de clientes en el cluster = 5820\n",
      "- Número de simulaciones en el cluster = 1085.59\n",
      "- Probabilidad de aceptación en el precio óptimo = 0.4869\n",
      "- Número esperado de créditos aceptados = 529\n",
      "- Monto medio simulado = 758,816.90\n",
      "- Plazo medio simulado = 27.58\n",
      "- Probabilidad de no pago media = 0.0208\n",
      "\n",
      "Gráfico guardado en: hg_reglog_20241127_184024\\curva_elasticidad_cluster_49.png\n",
      "Cluster 49:\n",
      "- Precio Máx. Revenue Esperado = 1.26%\n",
      "- Revenue Esperado Máximo = 69,895,084.22\n",
      "- Número de clientes en el cluster = 8334\n",
      "- Número de simulaciones en el cluster = 1520.95\n",
      "- Probabilidad de aceptación en el precio óptimo = 0.5024\n",
      "- Número esperado de créditos aceptados = 764\n",
      "- Monto medio simulado = 496,908.23\n",
      "- Plazo medio simulado = 27.55\n",
      "- Probabilidad de no pago media = 0.0311\n",
      "\n",
      "Gráfico guardado en: hg_reglog_20241127_184024\\curva_elasticidad_cluster_87.png\n",
      "Cluster 87:\n",
      "- Precio Máx. Revenue Esperado = 1.16%\n",
      "- Revenue Esperado Máximo = 7,394,733,554.16\n",
      "- Número de clientes en el cluster = 11145\n",
      "- Número de simulaciones en el cluster = 2638.61\n",
      "- Probabilidad de aceptación en el precio óptimo = 0.5744\n",
      "- Número esperado de créditos aceptados = 1516\n",
      "- Monto medio simulado = 28,428,921.38\n",
      "- Plazo medio simulado = 27.54\n",
      "- Probabilidad de no pago media = 0.0115\n",
      "\n",
      "Gráfico guardado en: hg_reglog_20241127_184024\\curva_elasticidad_cluster_98.png\n",
      "Cluster 98:\n",
      "- Precio Máx. Revenue Esperado = 1.29%\n",
      "- Revenue Esperado Máximo = 369,294,245.94\n",
      "- Número de clientes en el cluster = 7369\n",
      "- Número de simulaciones en el cluster = 1597.71\n",
      "- Probabilidad de aceptación en el precio óptimo = 0.5063\n",
      "- Número esperado de créditos aceptados = 809\n",
      "- Monto medio simulado = 2,399,510.00\n",
      "- Plazo medio simulado = 27.47\n",
      "- Probabilidad de no pago media = 0.0166\n",
      "\n",
      "Gráfico guardado en: hg_reglog_20241127_184024\\curva_elasticidad_cluster_46.png\n",
      "Cluster 46:\n",
      "- Precio Máx. Revenue Esperado = 1.26%\n",
      "- Revenue Esperado Máximo = 119,192,342.07\n",
      "- Número de clientes en el cluster = 8230\n",
      "- Número de simulaciones en el cluster = 2561.55\n",
      "- Probabilidad de aceptación en el precio óptimo = 0.5016\n",
      "- Número esperado de créditos aceptados = 1285\n",
      "- Monto medio simulado = 505,540.14\n",
      "- Plazo medio simulado = 27.46\n",
      "- Probabilidad de no pago media = 0.0310\n",
      "\n",
      "Gráfico guardado en: hg_reglog_20241127_184024\\curva_elasticidad_cluster_25.png\n",
      "Cluster 25:\n",
      "- Precio Máx. Revenue Esperado = 1.21%\n",
      "- Revenue Esperado Máximo = 83,374,621.21\n",
      "- Número de clientes en el cluster = 4712\n",
      "- Número de simulaciones en el cluster = 1169.26\n",
      "- Probabilidad de aceptación en el precio óptimo = 0.5601\n",
      "- Número esperado de créditos aceptados = 655\n",
      "- Monto medio simulado = 709,981.09\n",
      "- Plazo medio simulado = 27.44\n",
      "- Probabilidad de no pago media = 0.0093\n",
      "\n",
      "Gráfico guardado en: hg_reglog_20241127_184024\\curva_elasticidad_cluster_90.png\n",
      "Cluster 90:\n",
      "- Precio Máx. Revenue Esperado = 1.06%\n",
      "- Revenue Esperado Máximo = 556,109,535.78\n",
      "- Número de clientes en el cluster = 1378\n",
      "- Número de simulaciones en el cluster = 419.76\n",
      "- Probabilidad de aceptación en el precio óptimo = 0.6084\n",
      "- Número esperado de créditos aceptados = 255\n",
      "- Monto medio simulado = 13,870,671.94\n",
      "- Plazo medio simulado = 27.44\n",
      "- Probabilidad de no pago media = 0.0094\n",
      "\n",
      "Gráfico guardado en: hg_reglog_20241127_184024\\curva_elasticidad_cluster_21.png\n",
      "Cluster 21:\n",
      "- Precio Máx. Revenue Esperado = 1.09%\n",
      "- Revenue Esperado Máximo = 1,871,474,975.54\n",
      "- Número de clientes en el cluster = 4071\n",
      "- Número de simulaciones en el cluster = 830.44\n",
      "- Probabilidad de aceptación en el precio óptimo = 0.6112\n",
      "- Número esperado de créditos aceptados = 508\n",
      "- Monto medio simulado = 22,805,996.38\n",
      "- Plazo medio simulado = 27.62\n",
      "- Probabilidad de no pago media = 0.0069\n",
      "\n",
      "Gráfico guardado en: hg_reglog_20241127_184024\\curva_elasticidad_cluster_28.png\n",
      "Cluster 28:\n",
      "- Precio Máx. Revenue Esperado = 1.38%\n",
      "- Revenue Esperado Máximo = 135,457,607.20\n",
      "- Número de clientes en el cluster = 5861\n",
      "- Número de simulaciones en el cluster = 1841.64\n",
      "- Probabilidad de aceptación en el precio óptimo = 0.4674\n",
      "- Número esperado de créditos aceptados = 861\n",
      "- Monto medio simulado = 765,512.12\n",
      "- Plazo medio simulado = 27.59\n",
      "- Probabilidad de no pago media = 0.0208\n",
      "\n",
      "Gráfico guardado en: hg_reglog_20241127_184024\\curva_elasticidad_cluster_18.png\n",
      "Cluster 18:\n",
      "- Precio Máx. Revenue Esperado = 1.08%\n",
      "- Revenue Esperado Máximo = 3,158,317,538.86\n",
      "- Número de clientes en el cluster = 4190\n",
      "- Número de simulaciones en el cluster = 1388.97\n",
      "- Probabilidad de aceptación en el precio óptimo = 0.6239\n",
      "- Número esperado de créditos aceptados = 867\n",
      "- Monto medio simulado = 22,852,242.00\n",
      "- Plazo medio simulado = 27.37\n",
      "- Probabilidad de no pago media = 0.0068\n",
      "\n",
      "Gráfico guardado en: hg_reglog_20241127_184024\\curva_elasticidad_cluster_97.png\n",
      "Cluster 97:\n",
      "- Precio Máx. Revenue Esperado = 1.32%\n",
      "- Revenue Esperado Máximo = 69,231,443.52\n",
      "- Número de clientes en el cluster = 5980\n",
      "- Número de simulaciones en el cluster = 1277.15\n",
      "- Probabilidad de aceptación en el precio óptimo = 0.5041\n",
      "- Número esperado de créditos aceptados = 644\n",
      "- Monto medio simulado = 548,529.31\n",
      "- Plazo medio simulado = 27.53\n",
      "- Probabilidad de no pago media = 0.0182\n",
      "\n",
      "Gráfico guardado en: hg_reglog_20241127_184024\\curva_elasticidad_cluster_81.png\n",
      "Cluster 81:\n",
      "- Precio Máx. Revenue Esperado = 1.17%\n",
      "- Revenue Esperado Máximo = 9,525,329,106.13\n",
      "- Número de clientes en el cluster = 11331\n",
      "- Número de simulaciones en el cluster = 3405.21\n",
      "- Probabilidad de aceptación en el precio óptimo = 0.5699\n",
      "- Número esperado de créditos aceptados = 1941\n",
      "- Monto medio simulado = 28,335,822.01\n",
      "- Plazo medio simulado = 27.50\n",
      "- Probabilidad de no pago media = 0.0117\n",
      "\n",
      "Gráfico guardado en: hg_reglog_20241127_184024\\curva_elasticidad_cluster_32.png\n",
      "Cluster 32:\n",
      "- Precio Máx. Revenue Esperado = 1.30%\n",
      "- Revenue Esperado Máximo = 1,047,585,712.38\n",
      "- Número de clientes en el cluster = 13410\n",
      "- Número de simulaciones en el cluster = 2530.71\n",
      "- Probabilidad de aceptación en el precio óptimo = 0.4989\n",
      "- Número esperado de créditos aceptados = 1263\n",
      "- Monto medio simulado = 4,322,604.24\n",
      "- Plazo medio simulado = 27.47\n",
      "- Probabilidad de no pago media = 0.0188\n",
      "\n",
      "Gráfico guardado en: hg_reglog_20241127_184024\\curva_elasticidad_cluster_74.png\n",
      "Cluster 74:\n",
      "- Precio Máx. Revenue Esperado = 1.19%\n",
      "- Revenue Esperado Máximo = 1,380,247,650.81\n",
      "- Número de clientes en el cluster = 11749\n",
      "- Número de simulaciones en el cluster = 3331.29\n",
      "- Probabilidad de aceptación en el precio óptimo = 0.5687\n",
      "- Número esperado de créditos aceptados = 1895\n",
      "- Monto medio simulado = 4,125,397.24\n",
      "- Plazo medio simulado = 27.48\n",
      "- Probabilidad de no pago media = 0.0088\n",
      "\n",
      "Gráfico guardado en: hg_reglog_20241127_184024\\curva_elasticidad_cluster_53.png\n",
      "Cluster 53:\n",
      "- Precio Máx. Revenue Esperado = 1.25%\n",
      "- Revenue Esperado Máximo = 617,436,388.59\n",
      "- Número de clientes en el cluster = 10436\n",
      "- Número de simulaciones en el cluster = 2602.91\n",
      "- Probabilidad de aceptación en el precio óptimo = 0.4993\n",
      "- Número esperado de créditos aceptados = 1300\n",
      "- Monto medio simulado = 2,590,823.82\n",
      "- Plazo medio simulado = 27.53\n",
      "- Probabilidad de no pago media = 0.0281\n",
      "\n",
      "Gráfico guardado en: hg_reglog_20241127_184024\\curva_elasticidad_cluster_23.png\n",
      "Cluster 23:\n",
      "- Precio Máx. Revenue Esperado = 1.19%\n",
      "- Revenue Esperado Máximo = 705,064,895.45\n",
      "- Número de clientes en el cluster = 9128\n",
      "- Número de simulaciones en el cluster = 1712.21\n",
      "- Probabilidad de aceptación en el precio óptimo = 0.5694\n",
      "- Número esperado de créditos aceptados = 975\n",
      "- Monto medio simulado = 4,112,640.22\n",
      "- Plazo medio simulado = 27.40\n",
      "- Probabilidad de no pago media = 0.0088\n",
      "\n",
      "Gráfico guardado en: hg_reglog_20241127_184024\\curva_elasticidad_cluster_27.png\n",
      "Cluster 27:\n",
      "- Precio Máx. Revenue Esperado = 1.17%\n",
      "- Revenue Esperado Máximo = 6,566,090,125.05\n",
      "- Número de clientes en el cluster = 8088\n",
      "- Número de simulaciones en el cluster = 2671.12\n",
      "- Probabilidad de aceptación en el precio óptimo = 0.5655\n",
      "- Número esperado de créditos aceptados = 1510\n",
      "- Monto medio simulado = 25,016,835.20\n",
      "- Plazo medio simulado = 27.54\n",
      "- Probabilidad de no pago media = 0.0123\n",
      "\n",
      "Gráfico guardado en: hg_reglog_20241127_184024\\curva_elasticidad_cluster_70.png\n",
      "Cluster 70:\n",
      "- Precio Máx. Revenue Esperado = 1.43%\n",
      "- Revenue Esperado Máximo = 8,445,260.84\n",
      "- Número de clientes en el cluster = 528\n",
      "- Número de simulaciones en el cluster = 115.23\n",
      "- Probabilidad de aceptación en el precio óptimo = 0.4478\n",
      "- Número esperado de créditos aceptados = 52\n",
      "- Monto medio simulado = 763,774.83\n",
      "- Plazo medio simulado = 27.80\n",
      "- Probabilidad de no pago media = 0.0199\n",
      "\n",
      "Gráfico guardado en: hg_reglog_20241127_184024\\curva_elasticidad_cluster_103.png\n",
      "Cluster 103:\n",
      "- Precio Máx. Revenue Esperado = 1.25%\n",
      "- Revenue Esperado Máximo = 35,019,230.92\n",
      "- Número de clientes en el cluster = 4944\n",
      "- Número de simulaciones en el cluster = 753.41\n",
      "- Probabilidad de aceptación en el precio óptimo = 0.5034\n",
      "- Número esperado de créditos aceptados = 379\n",
      "- Monto medio simulado = 503,807.01\n",
      "- Plazo medio simulado = 27.59\n",
      "- Probabilidad de no pago media = 0.0296\n",
      "\n",
      "Gráfico guardado en: hg_reglog_20241127_184024\\curva_elasticidad_cluster_96.png\n",
      "Cluster 96:\n",
      "- Precio Máx. Revenue Esperado = 1.08%\n",
      "- Revenue Esperado Máximo = 419,030,723.51\n",
      "- Número de clientes en el cluster = 1371\n",
      "- Número de simulaciones en el cluster = 328.42\n",
      "- Probabilidad de aceptación en el precio óptimo = 0.5991\n",
      "- Número esperado de créditos aceptados = 197\n",
      "- Monto medio simulado = 13,500,503.83\n",
      "- Plazo medio simulado = 27.29\n",
      "- Probabilidad de no pago media = 0.0094\n",
      "\n",
      "Gráfico guardado en: hg_reglog_20241127_184024\\curva_elasticidad_cluster_92.png\n",
      "Cluster 92:\n",
      "- Precio Máx. Revenue Esperado = 1.30%\n",
      "- Revenue Esperado Máximo = 481,875,401.28\n",
      "- Número de clientes en el cluster = 7388\n",
      "- Número de simulaciones en el cluster = 2082.23\n",
      "- Probabilidad de aceptación en el precio óptimo = 0.5022\n",
      "- Número esperado de créditos aceptados = 1046\n",
      "- Monto medio simulado = 2,398,568.55\n",
      "- Plazo medio simulado = 27.50\n",
      "- Probabilidad de no pago media = 0.0166\n",
      "\n",
      "Gráfico guardado en: hg_reglog_20241127_184024\\curva_elasticidad_cluster_85.png\n",
      "Cluster 85:\n",
      "- Precio Máx. Revenue Esperado = 1.36%\n",
      "- Revenue Esperado Máximo = 90,090,551.71\n",
      "- Número de clientes en el cluster = 7934\n",
      "- Número de simulaciones en el cluster = 1234.03\n",
      "- Probabilidad de aceptación en el precio óptimo = 0.4781\n",
      "- Número esperado de créditos aceptados = 590\n",
      "- Monto medio simulado = 758,724.24\n",
      "- Plazo medio simulado = 27.57\n",
      "- Probabilidad de no pago media = 0.0205\n",
      "\n",
      "Gráfico guardado en: hg_reglog_20241127_184024\\curva_elasticidad_cluster_65.png\n",
      "Cluster 65:\n",
      "- Precio Máx. Revenue Esperado = 1.32%\n",
      "- Revenue Esperado Máximo = 143,610,377.49\n",
      "- Número de clientes en el cluster = 1174\n",
      "- Número de simulaciones en el cluster = 338.68\n",
      "- Probabilidad de aceptación en el precio óptimo = 0.4871\n",
      "- Número esperado de créditos aceptados = 165\n",
      "- Monto medio simulado = 4,411,555.99\n",
      "- Plazo medio simulado = 27.81\n",
      "- Probabilidad de no pago media = 0.0183\n",
      "\n",
      "Gráfico guardado en: hg_reglog_20241127_184024\\curva_elasticidad_cluster_63.png\n",
      "Cluster 63:\n",
      "- Precio Máx. Revenue Esperado = 1.18%\n",
      "- Revenue Esperado Máximo = 726,319,841.09\n",
      "- Número de clientes en el cluster = 818\n",
      "- Número de simulaciones en el cluster = 249.20\n",
      "- Probabilidad de aceptación en el precio óptimo = 0.5625\n",
      "- Número esperado de créditos aceptados = 140\n",
      "- Monto medio simulado = 29,691,630.81\n",
      "- Plazo medio simulado = 27.38\n",
      "- Probabilidad de no pago media = 0.0105\n",
      "\n",
      "Gráfico guardado en: hg_reglog_20241127_184024\\curva_elasticidad_cluster_36.png\n",
      "Cluster 36:\n",
      "- Precio Máx. Revenue Esperado = 1.08%\n",
      "- Revenue Esperado Máximo = 829,613,333.85\n",
      "- Número de clientes en el cluster = 1957\n",
      "- Número de simulaciones en el cluster = 650.17\n",
      "- Probabilidad de aceptación en el precio óptimo = 0.5928\n",
      "- Número esperado de créditos aceptados = 385\n",
      "- Monto medio simulado = 13,526,517.46\n",
      "- Plazo medio simulado = 27.46\n",
      "- Probabilidad de no pago media = 0.0095\n",
      "\n",
      "Gráfico guardado en: hg_reglog_20241127_184024\\curva_elasticidad_cluster_12.png\n",
      "Cluster 12:\n",
      "- Precio Máx. Revenue Esperado = 1.14%\n",
      "- Revenue Esperado Máximo = 151,136,538.11\n",
      "- Número de clientes en el cluster = 220\n",
      "- Número de simulaciones en el cluster = 45.21\n",
      "- Probabilidad de aceptación en el precio óptimo = 0.5886\n",
      "- Número esperado de créditos aceptados = 27\n",
      "- Monto medio simulado = 33,628,175.93\n",
      "- Plazo medio simulado = 27.42\n",
      "- Probabilidad de no pago media = 0.0111\n",
      "\n",
      "Gráfico guardado en: hg_reglog_20241127_184024\\curva_elasticidad_cluster_51.png\n",
      "Cluster 51:\n",
      "- Precio Máx. Revenue Esperado = 1.19%\n",
      "- Revenue Esperado Máximo = 451,322,045.67\n",
      "- Número de clientes en el cluster = 1634\n",
      "- Número de simulaciones en el cluster = 427.68\n",
      "- Probabilidad de aceptación en el precio óptimo = 0.5315\n",
      "- Número esperado de créditos aceptados = 227\n",
      "- Monto medio simulado = 11,297,123.62\n",
      "- Plazo medio simulado = 27.67\n",
      "- Probabilidad de no pago media = 0.0181\n",
      "\n",
      "Gráfico guardado en: hg_reglog_20241127_184024\\curva_elasticidad_cluster_100.png\n",
      "Cluster 100:\n",
      "- Precio Máx. Revenue Esperado = 1.25%\n",
      "- Revenue Esperado Máximo = 66,297,084.69\n",
      "- Número de clientes en el cluster = 5081\n",
      "- Número de simulaciones en el cluster = 1427.55\n",
      "- Probabilidad de aceptación en el precio óptimo = 0.5049\n",
      "- Número esperado de créditos aceptados = 721\n",
      "- Monto medio simulado = 503,175.98\n",
      "- Plazo medio simulado = 27.52\n",
      "- Probabilidad de no pago media = 0.0309\n",
      "\n",
      "Gráfico guardado en: hg_reglog_20241127_184024\\curva_elasticidad_cluster_67.png\n",
      "Cluster 67:\n",
      "- Precio Máx. Revenue Esperado = 1.36%\n",
      "- Revenue Esperado Máximo = 5,449,289.02\n",
      "- Número de clientes en el cluster = 499\n",
      "- Número de simulaciones en el cluster = 77.12\n",
      "- Probabilidad de aceptación en el precio óptimo = 0.4562\n",
      "- Número esperado de créditos aceptados = 35\n",
      "- Monto medio simulado = 765,338.85\n",
      "- Plazo medio simulado = 27.67\n",
      "- Probabilidad de no pago media = 0.0201\n",
      "\n",
      "Gráfico guardado en: hg_reglog_20241127_184024\\curva_elasticidad_cluster_48.png\n",
      "Cluster 48:\n",
      "- Precio Máx. Revenue Esperado = 1.21%\n",
      "- Revenue Esperado Máximo = 339,763,240.30\n",
      "- Número de clientes en el cluster = 1652\n",
      "- Número de simulaciones en el cluster = 331.36\n",
      "- Probabilidad de aceptación en el precio óptimo = 0.5158\n",
      "- Número esperado de créditos aceptados = 171\n",
      "- Monto medio simulado = 11,151,926.29\n",
      "- Plazo medio simulado = 27.47\n",
      "- Probabilidad de no pago media = 0.0186\n",
      "\n",
      "Gráfico guardado en: hg_reglog_20241127_184024\\curva_elasticidad_cluster_15.png\n",
      "Cluster 15:\n",
      "- Precio Máx. Revenue Esperado = 1.13%\n",
      "- Revenue Esperado Máximo = 164,301,096.82\n",
      "- Número de clientes en el cluster = 220\n",
      "- Número de simulaciones en el cluster = 60.82\n",
      "- Probabilidad de aceptación en el precio óptimo = 0.5748\n",
      "- Número esperado de créditos aceptados = 35\n",
      "- Monto medio simulado = 28,714,779.72\n",
      "- Plazo medio simulado = 26.94\n",
      "- Probabilidad de no pago media = 0.0103\n",
      "\n",
      "Gráfico guardado en: hg_reglog_20241127_184024\\curva_elasticidad_cluster_39.png\n",
      "Cluster 39:\n",
      "- Precio Máx. Revenue Esperado = 1.08%\n",
      "- Revenue Esperado Máximo = 553,264,627.09\n",
      "- Número de clientes en el cluster = 2078\n",
      "- Número de simulaciones en el cluster = 425.74\n",
      "- Probabilidad de aceptación en el precio óptimo = 0.5952\n",
      "- Número esperado de créditos aceptados = 253\n",
      "- Monto medio simulado = 13,638,145.97\n",
      "- Plazo medio simulado = 27.62\n",
      "- Probabilidad de no pago media = 0.0096\n",
      "\n",
      "Gráfico guardado en: hg_reglog_20241127_184024\\curva_elasticidad_cluster_66.png\n",
      "Cluster 66:\n",
      "- Precio Máx. Revenue Esperado = 1.15%\n",
      "- Revenue Esperado Máximo = 504,114,328.65\n",
      "- Número de clientes en el cluster = 825\n",
      "- Número de simulaciones en el cluster = 144.65\n",
      "- Probabilidad de aceptación en el precio óptimo = 0.5692\n",
      "- Número esperado de créditos aceptados = 82\n",
      "- Monto medio simulado = 35,943,913.32\n",
      "- Plazo medio simulado = 27.54\n",
      "- Probabilidad de no pago media = 0.0095\n",
      "\n",
      "Gráfico guardado en: hg_reglog_20241127_184024\\curva_elasticidad_cluster_99.png\n",
      "Cluster 99:\n",
      "- Precio Máx. Revenue Esperado = 1.20%\n",
      "- Revenue Esperado Máximo = 337,536,610.55\n",
      "- Número de clientes en el cluster = 1069\n",
      "- Número de simulaciones en el cluster = 314.14\n",
      "- Probabilidad de aceptación en el precio óptimo = 0.5175\n",
      "- Número esperado de créditos aceptados = 163\n",
      "- Monto medio simulado = 11,647,512.26\n",
      "- Plazo medio simulado = 27.71\n",
      "- Probabilidad de no pago media = 0.0182\n",
      "\n",
      "Gráfico guardado en: hg_reglog_20241127_184024\\curva_elasticidad_cluster_14.png\n",
      "Cluster 14:\n",
      "- Precio Máx. Revenue Esperado = 1.33%\n",
      "- Revenue Esperado Máximo = 26,320,011.29\n",
      "- Número de clientes en el cluster = 319\n",
      "- Número de simulaciones en el cluster = 60.98\n",
      "- Probabilidad de aceptación en el precio óptimo = 0.5165\n",
      "- Número esperado de créditos aceptados = 31\n",
      "- Monto medio simulado = 4,172,656.49\n",
      "- Plazo medio simulado = 27.94\n",
      "- Probabilidad de no pago media = 0.0180\n",
      "\n",
      "Gráfico guardado en: hg_reglog_20241127_184024\\curva_elasticidad_cluster_105.png\n",
      "Cluster 105:\n",
      "- Precio Máx. Revenue Esperado = 1.18%\n",
      "- Revenue Esperado Máximo = 278,539,809.10\n",
      "- Número de clientes en el cluster = 1131\n",
      "- Número de simulaciones en el cluster = 262.42\n",
      "- Probabilidad de aceptación en el precio óptimo = 0.5320\n",
      "- Número esperado de créditos aceptados = 140\n",
      "- Monto medio simulado = 11,289,719.44\n",
      "- Plazo medio simulado = 27.86\n",
      "- Probabilidad de no pago media = 0.0180\n",
      "\n",
      "Gráfico guardado en: hg_reglog_20241127_184024\\curva_elasticidad_cluster_68.png\n",
      "Cluster 68:\n",
      "- Precio Máx. Revenue Esperado = 1.32%\n",
      "- Revenue Esperado Máximo = 79,593,936.16\n",
      "- Número de clientes en el cluster = 1206\n",
      "- Número de simulaciones en el cluster = 191.09\n",
      "- Probabilidad de aceptación en el precio óptimo = 0.5041\n",
      "- Número esperado de créditos aceptados = 96\n",
      "- Monto medio simulado = 4,226,612.59\n",
      "- Plazo medio simulado = 27.60\n",
      "- Probabilidad de no pago media = 0.0186\n",
      "\n",
      "Gráfico guardado en: hg_reglog_20241127_184024\\curva_elasticidad_cluster_69.png\n",
      "Cluster 69:\n",
      "- Precio Máx. Revenue Esperado = 1.17%\n",
      "- Revenue Esperado Máximo = 693,335,512.68\n",
      "- Número de clientes en el cluster = 810\n",
      "- Número de simulaciones en el cluster = 193.58\n",
      "- Probabilidad de aceptación en el precio óptimo = 0.5731\n",
      "- Número esperado de créditos aceptados = 111\n",
      "- Monto medio simulado = 36,239,256.29\n",
      "- Plazo medio simulado = 27.30\n",
      "- Probabilidad de no pago media = 0.0098\n",
      "\n",
      "Gráfico guardado en: hg_reglog_20241127_184024\\curva_elasticidad_cluster_64.png\n",
      "Cluster 64:\n",
      "- Precio Máx. Revenue Esperado = 1.38%\n",
      "- Revenue Esperado Máximo = 10,522,879.39\n",
      "- Número de clientes en el cluster = 518\n",
      "- Número de simulaciones en el cluster = 145.53\n",
      "- Probabilidad de aceptación en el precio óptimo = 0.4599\n",
      "- Número esperado de créditos aceptados = 67\n",
      "- Monto medio simulado = 773,966.05\n",
      "- Plazo medio simulado = 27.38\n",
      "- Probabilidad de no pago media = 0.0200\n",
      "\n",
      "Gráfico guardado en: hg_reglog_20241127_184024\\curva_elasticidad_cluster_13.png\n",
      "Cluster 13:\n",
      "- Precio Máx. Revenue Esperado = 1.29%\n",
      "- Revenue Esperado Máximo = 1,856,962.57\n",
      "- Número de clientes en el cluster = 134\n",
      "- Número de simulaciones en el cluster = 24.95\n",
      "- Probabilidad de aceptación en el precio óptimo = 0.5396\n",
      "- Número esperado de créditos aceptados = 13\n",
      "- Monto medio simulado = 758,969.80\n",
      "- Plazo medio simulado = 26.22\n",
      "- Probabilidad de no pago media = 0.0208\n",
      "\n",
      "Gráfico guardado en: hg_reglog_20241127_184024\\curva_elasticidad_cluster_8.png\n",
      "Cluster 8:\n",
      "- Precio Máx. Revenue Esperado = 1.18%\n",
      "- Revenue Esperado Máximo = 3,233,051.58\n",
      "- Número de clientes en el cluster = 28\n",
      "- Número de simulaciones en el cluster = 6.61\n",
      "- Probabilidad de aceptación en el precio óptimo = 0.5315\n",
      "- Número esperado de créditos aceptados = 4\n",
      "- Monto medio simulado = 4,844,701.97\n",
      "- Plazo medio simulado = 29.58\n",
      "- Probabilidad de no pago media = 0.0061\n",
      "\n",
      "Gráfico guardado en: hg_reglog_20241127_184024\\curva_elasticidad_cluster_6.png\n",
      "Cluster 6:\n",
      "- Precio Máx. Revenue Esperado = 1.00%\n",
      "- Revenue Esperado Máximo = 42,414,069.85\n",
      "- Número de clientes en el cluster = 25\n",
      "- Número de simulaciones en el cluster = 6.65\n",
      "- Probabilidad de aceptación en el precio óptimo = 0.6811\n",
      "- Número esperado de créditos aceptados = 5\n",
      "- Monto medio simulado = 59,980,977.14\n",
      "- Plazo medio simulado = 28.81\n",
      "- Probabilidad de no pago media = 0.0022\n",
      "\n",
      "Gráfico guardado en: hg_reglog_20241127_184024\\curva_elasticidad_cluster_45.png\n",
      "Cluster 45:\n",
      "- Precio Máx. Revenue Esperado = 1.19%\n",
      "- Revenue Esperado Máximo = 568,385,552.80\n",
      "- Número de clientes en el cluster = 1678\n",
      "- Número de simulaciones en el cluster = 547.94\n",
      "- Probabilidad de aceptación en el precio óptimo = 0.5269\n",
      "- Número esperado de créditos aceptados = 289\n",
      "- Monto medio simulado = 11,170,776.63\n",
      "- Plazo medio simulado = 27.62\n",
      "- Probabilidad de no pago media = 0.0186\n",
      "\n",
      "Gráfico guardado en: hg_reglog_20241127_184024\\curva_elasticidad_cluster_93.png\n",
      "Cluster 93:\n",
      "- Precio Máx. Revenue Esperado = 1.06%\n",
      "- Revenue Esperado Máximo = 318,517,131.72\n",
      "- Número de clientes en el cluster = 1354\n",
      "- Número de simulaciones en el cluster = 236.62\n",
      "- Probabilidad de aceptación en el precio óptimo = 0.5976\n",
      "- Número esperado de créditos aceptados = 141\n",
      "- Monto medio simulado = 14,537,003.12\n",
      "- Plazo medio simulado = 27.16\n",
      "- Probabilidad de no pago media = 0.0090\n",
      "\n",
      "Gráfico guardado en: hg_reglog_20241127_184024\\curva_elasticidad_cluster_17.png\n",
      "Cluster 17:\n",
      "- Precio Máx. Revenue Esperado = 1.36%\n",
      "- Revenue Esperado Máximo = 33,170,617.36\n",
      "- Número de clientes en el cluster = 315\n",
      "- Número de simulaciones en el cluster = 81.26\n",
      "- Probabilidad de aceptación en el precio óptimo = 0.4936\n",
      "- Número esperado de créditos aceptados = 40\n",
      "- Monto medio simulado = 4,016,050.24\n",
      "- Plazo medio simulado = 27.97\n",
      "- Probabilidad de no pago media = 0.0181\n",
      "\n",
      "Gráfico guardado en: hg_reglog_20241127_184024\\curva_elasticidad_cluster_11.png\n",
      "Cluster 11:\n",
      "- Precio Máx. Revenue Esperado = 1.31%\n",
      "- Revenue Esperado Máximo = 47,004,011.57\n",
      "- Número de clientes en el cluster = 358\n",
      "- Número de simulaciones en el cluster = 113.83\n",
      "- Probabilidad de aceptación en el precio óptimo = 0.4985\n",
      "- Número esperado de créditos aceptados = 57\n",
      "- Monto medio simulado = 4,346,297.17\n",
      "- Plazo medio simulado = 27.14\n",
      "- Probabilidad de no pago media = 0.0184\n",
      "\n",
      "Gráfico guardado en: hg_reglog_20241127_184024\\curva_elasticidad_cluster_10.png\n",
      "Cluster 10:\n",
      "- Precio Máx. Revenue Esperado = 1.41%\n",
      "- Revenue Esperado Máximo = 3,012,311.07\n",
      "- Número de clientes en el cluster = 141\n",
      "- Número de simulaciones en el cluster = 43.68\n",
      "- Probabilidad de aceptación en el precio óptimo = 0.4586\n",
      "- Número esperado de créditos aceptados = 20\n",
      "- Monto medio simulado = 712,786.33\n",
      "- Plazo medio simulado = 27.83\n",
      "- Probabilidad de no pago media = 0.0198\n",
      "\n",
      "Gráfico guardado en: hg_reglog_20241127_184024\\curva_elasticidad_cluster_9.png\n",
      "Cluster 9:\n",
      "- Precio Máx. Revenue Esperado = 1.15%\n",
      "- Revenue Esperado Máximo = 278,840,124.08\n",
      "- Número de clientes en el cluster = 218\n",
      "- Número de simulaciones en el cluster = 72.56\n",
      "- Probabilidad de aceptación en el precio óptimo = 0.5708\n",
      "- Número esperado de créditos aceptados = 41\n",
      "- Monto medio simulado = 39,107,949.13\n",
      "- Plazo medio simulado = 27.75\n",
      "- Probabilidad de no pago media = 0.0106\n",
      "\n",
      "Gráfico guardado en: hg_reglog_20241127_184024\\curva_elasticidad_cluster_3.png\n",
      "Cluster 3:\n",
      "- Precio Máx. Revenue Esperado = 1.00%\n",
      "- Revenue Esperado Máximo = 34,316,114.31\n",
      "- Número de clientes en el cluster = 18\n",
      "- Número de simulaciones en el cluster = 3.83\n",
      "- Probabilidad de aceptación en el precio óptimo = 0.7123\n",
      "- Número esperado de créditos aceptados = 3\n",
      "- Monto medio simulado = 86,994,371.19\n",
      "- Plazo medio simulado = 26.77\n",
      "- Probabilidad de no pago media = 0.0027\n",
      "\n",
      "Gráfico guardado en: hg_reglog_20241127_184024\\curva_elasticidad_cluster_7.png\n",
      "Cluster 7:\n",
      "- Precio Máx. Revenue Esperado = 1.13%\n",
      "- Revenue Esperado Máximo = 152,569.03\n",
      "- Número de clientes en el cluster = 11\n",
      "- Número de simulaciones en el cluster = 3.05\n",
      "- Probabilidad de aceptación en el precio óptimo = 0.6041\n",
      "- Número esperado de créditos aceptados = 2\n",
      "- Monto medio simulado = 486,597.93\n",
      "- Plazo medio simulado = 27.98\n",
      "- Probabilidad de no pago media = 0.0120\n",
      "\n",
      "Gráfico guardado en: hg_reglog_20241127_184024\\curva_elasticidad_cluster_57.png\n",
      "Cluster 57:\n",
      "- Precio Máx. Revenue Esperado = 1.00%\n",
      "- Revenue Esperado Máximo = 129,707,187.27\n",
      "- Número de clientes en el cluster = 88\n",
      "- Número de simulaciones en el cluster = 15.85\n",
      "- Probabilidad de aceptación en el precio óptimo = 0.6813\n",
      "- Número esperado de créditos aceptados = 11\n",
      "- Monto medio simulado = 79,057,943.79\n",
      "- Plazo medio simulado = 28.06\n",
      "- Probabilidad de no pago media = 0.0023\n",
      "\n",
      "Gráfico guardado en: hg_reglog_20241127_184024\\curva_elasticidad_cluster_56.png\n",
      "Cluster 56:\n",
      "- Precio Máx. Revenue Esperado = 1.13%\n",
      "- Revenue Esperado Máximo = 13,698,931.11\n",
      "- Número de clientes en el cluster = 82\n",
      "- Número de simulaciones en el cluster = 24.00\n",
      "- Probabilidad de aceptación en el precio óptimo = 0.6314\n",
      "- Número esperado de créditos aceptados = 15\n",
      "- Monto medio simulado = 5,593,435.71\n",
      "- Plazo medio simulado = 26.49\n",
      "- Probabilidad de no pago media = 0.0076\n",
      "\n",
      "Gráfico guardado en: hg_reglog_20241127_184024\\curva_elasticidad_cluster_60.png\n",
      "Cluster 60:\n",
      "- Precio Máx. Revenue Esperado = 1.00%\n",
      "- Revenue Esperado Máximo = 178,523,980.75\n",
      "- Número de clientes en el cluster = 100\n",
      "- Número de simulaciones en el cluster = 25.11\n",
      "- Probabilidad de aceptación en el precio óptimo = 0.7157\n",
      "- Número esperado de créditos aceptados = 18\n",
      "- Monto medio simulado = 65,759,253.72\n",
      "- Plazo medio simulado = 27.92\n",
      "- Probabilidad de no pago media = 0.0024\n",
      "\n",
      "Gráfico guardado en: hg_reglog_20241127_184024\\curva_elasticidad_cluster_62.png\n",
      "Cluster 62:\n",
      "- Precio Máx. Revenue Esperado = 1.14%\n",
      "- Revenue Esperado Máximo = 6,567,863.58\n",
      "- Número de clientes en el cluster = 63\n",
      "- Número de simulaciones en el cluster = 13.35\n",
      "- Probabilidad de aceptación en el precio óptimo = 0.5873\n",
      "- Número esperado de créditos aceptados = 8\n",
      "- Monto medio simulado = 5,048,883.10\n",
      "- Plazo medio simulado = 26.86\n",
      "- Probabilidad de no pago media = 0.0077\n",
      "\n",
      "Gráfico guardado en: hg_reglog_20241127_184024\\curva_elasticidad_cluster_5.png\n",
      "Cluster 5:\n",
      "- Precio Máx. Revenue Esperado = 1.50%\n",
      "- Revenue Esperado Máximo = 1,948,121.70\n",
      "- Número de clientes en el cluster = 18\n",
      "- Número de simulaciones en el cluster = 3.79\n",
      "- Probabilidad de aceptación en el precio óptimo = 0.4427\n",
      "- Número esperado de créditos aceptados = 2\n",
      "- Monto medio simulado = 5,153,737.59\n",
      "- Plazo medio simulado = 27.51\n",
      "- Probabilidad de no pago media = 0.0103\n",
      "\n",
      "Gráfico guardado en: hg_reglog_20241127_184024\\curva_elasticidad_cluster_55.png\n",
      "Cluster 55:\n",
      "- Precio Máx. Revenue Esperado = 1.15%\n",
      "- Revenue Esperado Máximo = 644,710.18\n",
      "- Número de clientes en el cluster = 33\n",
      "- Número de simulaciones en el cluster = 9.12\n",
      "- Probabilidad de aceptación en el precio óptimo = 0.6027\n",
      "- Número esperado de créditos aceptados = 5\n",
      "- Monto medio simulado = 680,443.77\n",
      "- Plazo medio simulado = 27.74\n",
      "- Probabilidad de no pago media = 0.0087\n",
      "\n",
      "Gráfico guardado en: hg_reglog_20241127_184024\\curva_elasticidad_cluster_16.png\n",
      "Cluster 16:\n",
      "- Precio Máx. Revenue Esperado = 1.45%\n",
      "- Revenue Esperado Máximo = 2,255,811.33\n",
      "- Número de clientes en el cluster = 154\n",
      "- Número de simulaciones en el cluster = 37.39\n",
      "- Probabilidad de aceptación en el precio óptimo = 0.4341\n",
      "- Número esperado de créditos aceptados = 16\n",
      "- Monto medio simulado = 653,282.46\n",
      "- Plazo medio simulado = 27.15\n",
      "- Probabilidad de no pago media = 0.0215\n",
      "\n",
      "Gráfico guardado en: hg_reglog_20241127_184024\\curva_elasticidad_cluster_54.png\n",
      "Cluster 54:\n",
      "- Precio Máx. Revenue Esperado = 1.00%\n",
      "- Revenue Esperado Máximo = 187,752,619.30\n",
      "- Número de clientes en el cluster = 84\n",
      "- Número de simulaciones en el cluster = 26.39\n",
      "- Probabilidad de aceptación en el precio óptimo = 0.6617\n",
      "- Número esperado de créditos aceptados = 17\n",
      "- Monto medio simulado = 69,267,594.86\n",
      "- Plazo medio simulado = 28.72\n",
      "- Probabilidad de no pago media = 0.0022\n",
      "\n",
      "Gráfico guardado en: hg_reglog_20241127_184024\\curva_elasticidad_cluster_1.png\n",
      "Cluster 1:\n",
      "- Precio Máx. Revenue Esperado = 1.41%\n",
      "- Revenue Esperado Máximo = 251,754.34\n",
      "- Número de clientes en el cluster = 9\n",
      "- Número de simulaciones en el cluster = 3.25\n",
      "- Probabilidad de aceptación en el precio óptimo = 0.4510\n",
      "- Número esperado de créditos aceptados = 1\n",
      "- Monto medio simulado = 850,601.78\n",
      "- Plazo medio simulado = 26.32\n",
      "- Probabilidad de no pago media = 0.0076\n",
      "\n",
      "Gráfico guardado en: hg_reglog_20241127_184024\\curva_elasticidad_cluster_0.png\n",
      "Cluster 0:\n",
      "- Precio Máx. Revenue Esperado = 1.02%\n",
      "- Revenue Esperado Máximo = 51,425,527.47\n",
      "- Número de clientes en el cluster = 27\n",
      "- Número de simulaciones en el cluster = 8.77\n",
      "- Probabilidad de aceptación en el precio óptimo = 0.6490\n",
      "- Número esperado de créditos aceptados = 6\n",
      "- Monto medio simulado = 58,320,122.04\n",
      "- Plazo medio simulado = 28.03\n",
      "- Probabilidad de no pago media = 0.0030\n",
      "\n",
      "Gráfico guardado en: hg_reglog_20241127_184024\\curva_elasticidad_cluster_59.png\n",
      "Cluster 59:\n",
      "- Precio Máx. Revenue Esperado = 1.14%\n",
      "- Revenue Esperado Máximo = 5,960,671.17\n",
      "- Número de clientes en el cluster = 68\n",
      "- Número de simulaciones en el cluster = 11.26\n",
      "- Probabilidad de aceptación en el precio óptimo = 0.5770\n",
      "- Número esperado de créditos aceptados = 6\n",
      "- Monto medio simulado = 5,163,722.87\n",
      "- Plazo medio simulado = 28.83\n",
      "- Probabilidad de no pago media = 0.0079\n",
      "\n",
      "Gráfico guardado en: hg_reglog_20241127_184024\\curva_elasticidad_cluster_61.png\n",
      "Cluster 61:\n",
      "- Precio Máx. Revenue Esperado = 1.15%\n",
      "- Revenue Esperado Máximo = 519,356.99\n",
      "- Número de clientes en el cluster = 26\n",
      "- Número de simulaciones en el cluster = 5.83\n",
      "- Probabilidad de aceptación en el precio óptimo = 0.6462\n",
      "- Número esperado de créditos aceptados = 4\n",
      "- Monto medio simulado = 839,923.99\n",
      "- Plazo medio simulado = 26.45\n",
      "- Probabilidad de no pago media = 0.0060\n",
      "\n",
      "Gráfico guardado en: hg_reglog_20241127_184024\\curva_elasticidad_cluster_58.png\n",
      "Cluster 58:\n",
      "- Precio Máx. Revenue Esperado = 1.20%\n",
      "- Revenue Esperado Máximo = 297,288.79\n",
      "- Número de clientes en el cluster = 25\n",
      "- Número de simulaciones en el cluster = 4.53\n",
      "- Probabilidad de aceptación en el precio óptimo = 0.4964\n",
      "- Número esperado de créditos aceptados = 2\n",
      "- Monto medio simulado = 755,756.78\n",
      "- Plazo medio simulado = 27.01\n",
      "- Probabilidad de no pago media = 0.0064\n",
      "\n",
      "Gráfico guardado en: hg_reglog_20241127_184024\\curva_elasticidad_cluster_2.png\n",
      "Cluster 2:\n",
      "- Precio Máx. Revenue Esperado = 1.27%\n",
      "- Revenue Esperado Máximo = 2,290,446.18\n",
      "- Número de clientes en el cluster = 12\n",
      "- Número de simulaciones en el cluster = 4.18\n",
      "- Probabilidad de aceptación en el precio óptimo = 0.6223\n",
      "- Número esperado de créditos aceptados = 3\n",
      "- Monto medio simulado = 4,454,833.76\n",
      "- Plazo medio simulado = 28.54\n",
      "- Probabilidad de no pago media = 0.0067\n",
      "\n",
      "Gráfico guardado en: hg_reglog_20241127_184024\\curva_elasticidad_cluster_4.png\n",
      "Cluster 4:\n",
      "- Precio Máx. Revenue Esperado = 1.21%\n",
      "- Revenue Esperado Máximo = 226,098.47\n",
      "- Número de clientes en el cluster = 7\n",
      "- Número de simulaciones en el cluster = 1.62\n",
      "- Probabilidad de aceptación en el precio óptimo = 0.7057\n",
      "- Número esperado de créditos aceptados = 1\n",
      "- Monto medio simulado = 1,032,209.79\n",
      "- Plazo medio simulado = 29.21\n",
      "- Probabilidad de no pago media = 0.0077\n",
      "\n",
      "El revenue total esperado es: 87,790,501,353.64 con un total de 542904 clientes, 129,036.33 simulaciones, y 67833 créditos.\n"
     ]
    }
   ],
   "source": [
    "df_estimar_elasticidad = function_estimar_elasticidad(df_estimar_elasticidad)['df_estimar_elasticidad']"
   ]
  },
  {
   "cell_type": "markdown",
   "metadata": {},
   "source": [
    "# 5. Estimacion de respuesta a tratamiento por cluster"
   ]
  },
  {
   "cell_type": "code",
   "execution_count": 21,
   "metadata": {},
   "outputs": [],
   "source": [
    "# Unir los DataFrames 'df_tratamiento' y 'df_simulaciones_clientes' usando las columnas 'rut' y 'fecha' como claves\n",
    "# La unión se realiza con 'how=\"left\"', lo cual asegura que todos los registros de 'df_tratamiento' se conserven,\n",
    "# incluyendo aquellos sin coincidencia en 'df_simulaciones_clientes'.\n",
    "# Esta operación permite combinar la información de tratamiento con los datos de simulaciones de clientes.\n",
    "df_simulaciones_info = pd.merge(df_tratamiento, df_simulaciones_clientes, on=['rut', 'fecha'], how='left')\n"
   ]
  },
  {
   "cell_type": "code",
   "execution_count": 22,
   "metadata": {},
   "outputs": [],
   "source": [
    "# Usar operaciones de cadenas vectorizadas para crear la columna 'Tratamiento'\n",
    "# Esta columna concatenará información sobre el ejecutivo asignado y el número de correos enviados.\n",
    "# Se convierte 'asg_ejec' a string para poder concatenar, y 'n_correos' se convierte primero a entero y luego a string.\n",
    "# El formato final es: \"Ejecutivo=<valor_asg_ejec>, Correos=<valor_n_correos>\"\n",
    "df_simulaciones_info['Tratamiento'] = (\n",
    "    'Ejecutivo=' + df_simulaciones_info['asg_ejec'].astype(str) +\n",
    "    ', Correos=' + df_simulaciones_info['n_correos'].astype(int).astype(str)\n",
    ")\n"
   ]
  },
  {
   "cell_type": "code",
   "execution_count": 23,
   "metadata": {},
   "outputs": [
    {
     "data": {
      "text/html": [
       "<div>\n",
       "<style scoped>\n",
       "    .dataframe tbody tr th:only-of-type {\n",
       "        vertical-align: middle;\n",
       "    }\n",
       "\n",
       "    .dataframe tbody tr th {\n",
       "        vertical-align: top;\n",
       "    }\n",
       "\n",
       "    .dataframe thead th {\n",
       "        text-align: right;\n",
       "    }\n",
       "</style>\n",
       "<table border=\"1\" class=\"dataframe\">\n",
       "  <thead>\n",
       "    <tr style=\"text-align: right;\">\n",
       "      <th></th>\n",
       "      <th>Unnamed: 0_x</th>\n",
       "      <th>fecha</th>\n",
       "      <th>rut</th>\n",
       "      <th>n_correos</th>\n",
       "      <th>asg_ejec</th>\n",
       "      <th>Unnamed: 0_y</th>\n",
       "      <th>Monto_Simulado</th>\n",
       "      <th>Plazo_Simulado</th>\n",
       "      <th>Tasa_Simulado</th>\n",
       "      <th>Tratamiento</th>\n",
       "      <th>mes</th>\n",
       "    </tr>\n",
       "  </thead>\n",
       "  <tbody>\n",
       "    <tr>\n",
       "      <th>0</th>\n",
       "      <td>0</td>\n",
       "      <td>2019-01-01</td>\n",
       "      <td>1</td>\n",
       "      <td>3</td>\n",
       "      <td>0</td>\n",
       "      <td>NaN</td>\n",
       "      <td>NaN</td>\n",
       "      <td>NaN</td>\n",
       "      <td>NaN</td>\n",
       "      <td>Ejecutivo=0, Correos=3</td>\n",
       "      <td>2019-01</td>\n",
       "    </tr>\n",
       "    <tr>\n",
       "      <th>543651</th>\n",
       "      <td>0</td>\n",
       "      <td>2019-02-01</td>\n",
       "      <td>1</td>\n",
       "      <td>4</td>\n",
       "      <td>0</td>\n",
       "      <td>NaN</td>\n",
       "      <td>NaN</td>\n",
       "      <td>NaN</td>\n",
       "      <td>NaN</td>\n",
       "      <td>Ejecutivo=0, Correos=4</td>\n",
       "      <td>2019-02</td>\n",
       "    </tr>\n",
       "    <tr>\n",
       "      <th>1087302</th>\n",
       "      <td>0</td>\n",
       "      <td>2019-03-01</td>\n",
       "      <td>1</td>\n",
       "      <td>1</td>\n",
       "      <td>0</td>\n",
       "      <td>NaN</td>\n",
       "      <td>NaN</td>\n",
       "      <td>NaN</td>\n",
       "      <td>NaN</td>\n",
       "      <td>Ejecutivo=0, Correos=1</td>\n",
       "      <td>2019-03</td>\n",
       "    </tr>\n",
       "    <tr>\n",
       "      <th>1630953</th>\n",
       "      <td>0</td>\n",
       "      <td>2019-04-01</td>\n",
       "      <td>1</td>\n",
       "      <td>3</td>\n",
       "      <td>0</td>\n",
       "      <td>NaN</td>\n",
       "      <td>NaN</td>\n",
       "      <td>NaN</td>\n",
       "      <td>NaN</td>\n",
       "      <td>Ejecutivo=0, Correos=3</td>\n",
       "      <td>2019-04</td>\n",
       "    </tr>\n",
       "    <tr>\n",
       "      <th>2174604</th>\n",
       "      <td>0</td>\n",
       "      <td>2019-05-01</td>\n",
       "      <td>1</td>\n",
       "      <td>0</td>\n",
       "      <td>0</td>\n",
       "      <td>NaN</td>\n",
       "      <td>NaN</td>\n",
       "      <td>NaN</td>\n",
       "      <td>NaN</td>\n",
       "      <td>Ejecutivo=0, Correos=0</td>\n",
       "      <td>2019-05</td>\n",
       "    </tr>\n",
       "    <tr>\n",
       "      <th>...</th>\n",
       "      <td>...</td>\n",
       "      <td>...</td>\n",
       "      <td>...</td>\n",
       "      <td>...</td>\n",
       "      <td>...</td>\n",
       "      <td>...</td>\n",
       "      <td>...</td>\n",
       "      <td>...</td>\n",
       "      <td>...</td>\n",
       "      <td>...</td>\n",
       "      <td>...</td>\n",
       "    </tr>\n",
       "    <tr>\n",
       "      <th>33162711</th>\n",
       "      <td>0</td>\n",
       "      <td>2024-02-01</td>\n",
       "      <td>1</td>\n",
       "      <td>3</td>\n",
       "      <td>0</td>\n",
       "      <td>NaN</td>\n",
       "      <td>NaN</td>\n",
       "      <td>NaN</td>\n",
       "      <td>NaN</td>\n",
       "      <td>Ejecutivo=0, Correos=3</td>\n",
       "      <td>2024-02</td>\n",
       "    </tr>\n",
       "    <tr>\n",
       "      <th>33706362</th>\n",
       "      <td>0</td>\n",
       "      <td>2024-03-01</td>\n",
       "      <td>1</td>\n",
       "      <td>3</td>\n",
       "      <td>0</td>\n",
       "      <td>NaN</td>\n",
       "      <td>NaN</td>\n",
       "      <td>NaN</td>\n",
       "      <td>NaN</td>\n",
       "      <td>Ejecutivo=0, Correos=3</td>\n",
       "      <td>2024-03</td>\n",
       "    </tr>\n",
       "    <tr>\n",
       "      <th>34250013</th>\n",
       "      <td>0</td>\n",
       "      <td>2024-04-01</td>\n",
       "      <td>1</td>\n",
       "      <td>2</td>\n",
       "      <td>0</td>\n",
       "      <td>NaN</td>\n",
       "      <td>NaN</td>\n",
       "      <td>NaN</td>\n",
       "      <td>NaN</td>\n",
       "      <td>Ejecutivo=0, Correos=2</td>\n",
       "      <td>2024-04</td>\n",
       "    </tr>\n",
       "    <tr>\n",
       "      <th>34793664</th>\n",
       "      <td>0</td>\n",
       "      <td>2024-05-01</td>\n",
       "      <td>1</td>\n",
       "      <td>2</td>\n",
       "      <td>1</td>\n",
       "      <td>7864785.0</td>\n",
       "      <td>267268.0</td>\n",
       "      <td>31.0</td>\n",
       "      <td>2.027869</td>\n",
       "      <td>Ejecutivo=1, Correos=2</td>\n",
       "      <td>2024-05</td>\n",
       "    </tr>\n",
       "    <tr>\n",
       "      <th>35337315</th>\n",
       "      <td>0</td>\n",
       "      <td>2024-06-01</td>\n",
       "      <td>1</td>\n",
       "      <td>1</td>\n",
       "      <td>0</td>\n",
       "      <td>NaN</td>\n",
       "      <td>NaN</td>\n",
       "      <td>NaN</td>\n",
       "      <td>NaN</td>\n",
       "      <td>Ejecutivo=0, Correos=1</td>\n",
       "      <td>2024-06</td>\n",
       "    </tr>\n",
       "  </tbody>\n",
       "</table>\n",
       "<p>66 rows × 11 columns</p>\n",
       "</div>"
      ],
      "text/plain": [
       "          Unnamed: 0_x       fecha  rut  n_correos  asg_ejec  Unnamed: 0_y  \\\n",
       "0                    0  2019-01-01    1          3         0           NaN   \n",
       "543651               0  2019-02-01    1          4         0           NaN   \n",
       "1087302              0  2019-03-01    1          1         0           NaN   \n",
       "1630953              0  2019-04-01    1          3         0           NaN   \n",
       "2174604              0  2019-05-01    1          0         0           NaN   \n",
       "...                ...         ...  ...        ...       ...           ...   \n",
       "33162711             0  2024-02-01    1          3         0           NaN   \n",
       "33706362             0  2024-03-01    1          3         0           NaN   \n",
       "34250013             0  2024-04-01    1          2         0           NaN   \n",
       "34793664             0  2024-05-01    1          2         1     7864785.0   \n",
       "35337315             0  2024-06-01    1          1         0           NaN   \n",
       "\n",
       "          Monto_Simulado  Plazo_Simulado  Tasa_Simulado  \\\n",
       "0                    NaN             NaN            NaN   \n",
       "543651               NaN             NaN            NaN   \n",
       "1087302              NaN             NaN            NaN   \n",
       "1630953              NaN             NaN            NaN   \n",
       "2174604              NaN             NaN            NaN   \n",
       "...                  ...             ...            ...   \n",
       "33162711             NaN             NaN            NaN   \n",
       "33706362             NaN             NaN            NaN   \n",
       "34250013             NaN             NaN            NaN   \n",
       "34793664        267268.0            31.0       2.027869   \n",
       "35337315             NaN             NaN            NaN   \n",
       "\n",
       "                     Tratamiento      mes  \n",
       "0         Ejecutivo=0, Correos=3  2019-01  \n",
       "543651    Ejecutivo=0, Correos=4  2019-02  \n",
       "1087302   Ejecutivo=0, Correos=1  2019-03  \n",
       "1630953   Ejecutivo=0, Correos=3  2019-04  \n",
       "2174604   Ejecutivo=0, Correos=0  2019-05  \n",
       "...                          ...      ...  \n",
       "33162711  Ejecutivo=0, Correos=3  2024-02  \n",
       "33706362  Ejecutivo=0, Correos=3  2024-03  \n",
       "34250013  Ejecutivo=0, Correos=2  2024-04  \n",
       "34793664  Ejecutivo=1, Correos=2  2024-05  \n",
       "35337315  Ejecutivo=0, Correos=1  2024-06  \n",
       "\n",
       "[66 rows x 11 columns]"
      ]
     },
     "execution_count": 23,
     "metadata": {},
     "output_type": "execute_result"
    }
   ],
   "source": [
    "# Extraer el mes y año de la columna 'fecha' y crear una nueva columna 'mes' en formato de periodo mensual\n",
    "# Se convierte 'fecha' al formato datetime y luego se usa 'dt.to_period('M')' para obtener el mes/año.\n",
    "df_simulaciones_info['mes'] = pd.to_datetime(df_simulaciones_info['fecha']).dt.to_period('M')\n",
    "\n",
    "# Filtrar y mostrar las filas donde 'rut' es igual a 1\n",
    "# Este filtro permite observar los registros específicos del cliente con 'rut' igual a 1, \n",
    "# lo cual es útil para verificar datos o analizar un cliente en particular.\n",
    "df_simulaciones_info[df_simulaciones_info['rut'] == 1]\n"
   ]
  },
  {
   "cell_type": "code",
   "execution_count": 24,
   "metadata": {},
   "outputs": [
    {
     "data": {
      "text/html": [
       "<div>\n",
       "<style scoped>\n",
       "    .dataframe tbody tr th:only-of-type {\n",
       "        vertical-align: middle;\n",
       "    }\n",
       "\n",
       "    .dataframe tbody tr th {\n",
       "        vertical-align: top;\n",
       "    }\n",
       "\n",
       "    .dataframe thead th {\n",
       "        text-align: right;\n",
       "    }\n",
       "</style>\n",
       "<table border=\"1\" class=\"dataframe\">\n",
       "  <thead>\n",
       "    <tr style=\"text-align: right;\">\n",
       "      <th></th>\n",
       "      <th>Unnamed: 0_x</th>\n",
       "      <th>fecha</th>\n",
       "      <th>rut</th>\n",
       "      <th>n_correos</th>\n",
       "      <th>asg_ejec</th>\n",
       "      <th>Unnamed: 0_y</th>\n",
       "      <th>Monto_Simulado</th>\n",
       "      <th>Plazo_Simulado</th>\n",
       "      <th>Tasa_Simulado</th>\n",
       "      <th>Tratamiento</th>\n",
       "      <th>mes</th>\n",
       "      <th>simulo</th>\n",
       "    </tr>\n",
       "  </thead>\n",
       "  <tbody>\n",
       "    <tr>\n",
       "      <th>0</th>\n",
       "      <td>0</td>\n",
       "      <td>2019-01-01</td>\n",
       "      <td>1</td>\n",
       "      <td>3</td>\n",
       "      <td>0</td>\n",
       "      <td>NaN</td>\n",
       "      <td>NaN</td>\n",
       "      <td>NaN</td>\n",
       "      <td>NaN</td>\n",
       "      <td>Ejecutivo=0, Correos=3</td>\n",
       "      <td>2019-01</td>\n",
       "      <td>0</td>\n",
       "    </tr>\n",
       "    <tr>\n",
       "      <th>543651</th>\n",
       "      <td>0</td>\n",
       "      <td>2019-02-01</td>\n",
       "      <td>1</td>\n",
       "      <td>4</td>\n",
       "      <td>0</td>\n",
       "      <td>NaN</td>\n",
       "      <td>NaN</td>\n",
       "      <td>NaN</td>\n",
       "      <td>NaN</td>\n",
       "      <td>Ejecutivo=0, Correos=4</td>\n",
       "      <td>2019-02</td>\n",
       "      <td>0</td>\n",
       "    </tr>\n",
       "    <tr>\n",
       "      <th>1087302</th>\n",
       "      <td>0</td>\n",
       "      <td>2019-03-01</td>\n",
       "      <td>1</td>\n",
       "      <td>1</td>\n",
       "      <td>0</td>\n",
       "      <td>NaN</td>\n",
       "      <td>NaN</td>\n",
       "      <td>NaN</td>\n",
       "      <td>NaN</td>\n",
       "      <td>Ejecutivo=0, Correos=1</td>\n",
       "      <td>2019-03</td>\n",
       "      <td>0</td>\n",
       "    </tr>\n",
       "    <tr>\n",
       "      <th>1630953</th>\n",
       "      <td>0</td>\n",
       "      <td>2019-04-01</td>\n",
       "      <td>1</td>\n",
       "      <td>3</td>\n",
       "      <td>0</td>\n",
       "      <td>NaN</td>\n",
       "      <td>NaN</td>\n",
       "      <td>NaN</td>\n",
       "      <td>NaN</td>\n",
       "      <td>Ejecutivo=0, Correos=3</td>\n",
       "      <td>2019-04</td>\n",
       "      <td>0</td>\n",
       "    </tr>\n",
       "    <tr>\n",
       "      <th>2174604</th>\n",
       "      <td>0</td>\n",
       "      <td>2019-05-01</td>\n",
       "      <td>1</td>\n",
       "      <td>0</td>\n",
       "      <td>0</td>\n",
       "      <td>NaN</td>\n",
       "      <td>NaN</td>\n",
       "      <td>NaN</td>\n",
       "      <td>NaN</td>\n",
       "      <td>Ejecutivo=0, Correos=0</td>\n",
       "      <td>2019-05</td>\n",
       "      <td>0</td>\n",
       "    </tr>\n",
       "    <tr>\n",
       "      <th>...</th>\n",
       "      <td>...</td>\n",
       "      <td>...</td>\n",
       "      <td>...</td>\n",
       "      <td>...</td>\n",
       "      <td>...</td>\n",
       "      <td>...</td>\n",
       "      <td>...</td>\n",
       "      <td>...</td>\n",
       "      <td>...</td>\n",
       "      <td>...</td>\n",
       "      <td>...</td>\n",
       "      <td>...</td>\n",
       "    </tr>\n",
       "    <tr>\n",
       "      <th>33162711</th>\n",
       "      <td>0</td>\n",
       "      <td>2024-02-01</td>\n",
       "      <td>1</td>\n",
       "      <td>3</td>\n",
       "      <td>0</td>\n",
       "      <td>NaN</td>\n",
       "      <td>NaN</td>\n",
       "      <td>NaN</td>\n",
       "      <td>NaN</td>\n",
       "      <td>Ejecutivo=0, Correos=3</td>\n",
       "      <td>2024-02</td>\n",
       "      <td>0</td>\n",
       "    </tr>\n",
       "    <tr>\n",
       "      <th>33706362</th>\n",
       "      <td>0</td>\n",
       "      <td>2024-03-01</td>\n",
       "      <td>1</td>\n",
       "      <td>3</td>\n",
       "      <td>0</td>\n",
       "      <td>NaN</td>\n",
       "      <td>NaN</td>\n",
       "      <td>NaN</td>\n",
       "      <td>NaN</td>\n",
       "      <td>Ejecutivo=0, Correos=3</td>\n",
       "      <td>2024-03</td>\n",
       "      <td>0</td>\n",
       "    </tr>\n",
       "    <tr>\n",
       "      <th>34250013</th>\n",
       "      <td>0</td>\n",
       "      <td>2024-04-01</td>\n",
       "      <td>1</td>\n",
       "      <td>2</td>\n",
       "      <td>0</td>\n",
       "      <td>NaN</td>\n",
       "      <td>NaN</td>\n",
       "      <td>NaN</td>\n",
       "      <td>NaN</td>\n",
       "      <td>Ejecutivo=0, Correos=2</td>\n",
       "      <td>2024-04</td>\n",
       "      <td>0</td>\n",
       "    </tr>\n",
       "    <tr>\n",
       "      <th>34793664</th>\n",
       "      <td>0</td>\n",
       "      <td>2024-05-01</td>\n",
       "      <td>1</td>\n",
       "      <td>2</td>\n",
       "      <td>1</td>\n",
       "      <td>7864785.0</td>\n",
       "      <td>267268.0</td>\n",
       "      <td>31.0</td>\n",
       "      <td>2.027869</td>\n",
       "      <td>Ejecutivo=1, Correos=2</td>\n",
       "      <td>2024-05</td>\n",
       "      <td>1</td>\n",
       "    </tr>\n",
       "    <tr>\n",
       "      <th>35337315</th>\n",
       "      <td>0</td>\n",
       "      <td>2024-06-01</td>\n",
       "      <td>1</td>\n",
       "      <td>1</td>\n",
       "      <td>0</td>\n",
       "      <td>NaN</td>\n",
       "      <td>NaN</td>\n",
       "      <td>NaN</td>\n",
       "      <td>NaN</td>\n",
       "      <td>Ejecutivo=0, Correos=1</td>\n",
       "      <td>2024-06</td>\n",
       "      <td>0</td>\n",
       "    </tr>\n",
       "  </tbody>\n",
       "</table>\n",
       "<p>66 rows × 12 columns</p>\n",
       "</div>"
      ],
      "text/plain": [
       "          Unnamed: 0_x       fecha  rut  n_correos  asg_ejec  Unnamed: 0_y  \\\n",
       "0                    0  2019-01-01    1          3         0           NaN   \n",
       "543651               0  2019-02-01    1          4         0           NaN   \n",
       "1087302              0  2019-03-01    1          1         0           NaN   \n",
       "1630953              0  2019-04-01    1          3         0           NaN   \n",
       "2174604              0  2019-05-01    1          0         0           NaN   \n",
       "...                ...         ...  ...        ...       ...           ...   \n",
       "33162711             0  2024-02-01    1          3         0           NaN   \n",
       "33706362             0  2024-03-01    1          3         0           NaN   \n",
       "34250013             0  2024-04-01    1          2         0           NaN   \n",
       "34793664             0  2024-05-01    1          2         1     7864785.0   \n",
       "35337315             0  2024-06-01    1          1         0           NaN   \n",
       "\n",
       "          Monto_Simulado  Plazo_Simulado  Tasa_Simulado  \\\n",
       "0                    NaN             NaN            NaN   \n",
       "543651               NaN             NaN            NaN   \n",
       "1087302              NaN             NaN            NaN   \n",
       "1630953              NaN             NaN            NaN   \n",
       "2174604              NaN             NaN            NaN   \n",
       "...                  ...             ...            ...   \n",
       "33162711             NaN             NaN            NaN   \n",
       "33706362             NaN             NaN            NaN   \n",
       "34250013             NaN             NaN            NaN   \n",
       "34793664        267268.0            31.0       2.027869   \n",
       "35337315             NaN             NaN            NaN   \n",
       "\n",
       "                     Tratamiento      mes  simulo  \n",
       "0         Ejecutivo=0, Correos=3  2019-01       0  \n",
       "543651    Ejecutivo=0, Correos=4  2019-02       0  \n",
       "1087302   Ejecutivo=0, Correos=1  2019-03       0  \n",
       "1630953   Ejecutivo=0, Correos=3  2019-04       0  \n",
       "2174604   Ejecutivo=0, Correos=0  2019-05       0  \n",
       "...                          ...      ...     ...  \n",
       "33162711  Ejecutivo=0, Correos=3  2024-02       0  \n",
       "33706362  Ejecutivo=0, Correos=3  2024-03       0  \n",
       "34250013  Ejecutivo=0, Correos=2  2024-04       0  \n",
       "34793664  Ejecutivo=1, Correos=2  2024-05       1  \n",
       "35337315  Ejecutivo=0, Correos=1  2024-06       0  \n",
       "\n",
       "[66 rows x 12 columns]"
      ]
     },
     "execution_count": 24,
     "metadata": {},
     "output_type": "execute_result"
    }
   ],
   "source": [
    "# Crear una nueva columna 'simulo' para indicar si el cliente tiene un registro de simulación\n",
    "# La columna 'Unnamed: 0_y' se utiliza para verificar si hay un valor no nulo, lo que implica que hay una simulación.\n",
    "# 'notna()' devuelve True para valores no nulos y False para valores nulos; luego, 'astype(int)' convierte estos valores a 1 (True) o 0 (False).\n",
    "df_simulaciones_info['simulo'] = df_simulaciones_info['Unnamed: 0_y'].notna().astype(int)\n",
    "\n",
    "# Filtrar y mostrar las filas donde 'rut' es igual a 1\n",
    "# Este filtro permite observar los registros específicos del cliente con 'rut' igual a 1, \n",
    "# útil para verificar si la columna 'simulo' refleja correctamente la presencia de simulaciones para este cliente.\n",
    "df_simulaciones_info[df_simulaciones_info['rut'] == 1]\n"
   ]
  },
  {
   "cell_type": "code",
   "execution_count": 25,
   "metadata": {},
   "outputs": [],
   "source": [
    "# Crear una copia del DataFrame 'df_estimar_elasticidad' con solo las columnas especificadas\n",
    "# 'df1' contiene las columnas 'rut', 'categoria_clusterizacion_numerica', 'tasa_optima' y 'probabilidad_aceptacion_optima'.\n",
    "# Esta copia es útil para trabajar con los datos de elasticidad y clusterización sin modificar el DataFrame original.\n",
    "df1 = df_estimar_elasticidad[['rut', 'categoria_clusterizacion_numerica', 'tasa_optima', 'probabilidad_aceptacion_optima']].copy()\n",
    "\n",
    "# Crear una copia del DataFrame 'df_simulaciones_info' con solo las columnas especificadas\n",
    "# 'df2' contiene las columnas 'rut', 'mes', 'Tratamiento' y 'simulo'.\n",
    "# Esta copia es útil para trabajar con los datos de tratamiento y simulación en un conjunto de datos reducido.\n",
    "df2 = df_simulaciones_info[['rut', 'mes', 'Tratamiento', 'simulo']].copy()\n"
   ]
  },
  {
   "cell_type": "code",
   "execution_count": 26,
   "metadata": {},
   "outputs": [],
   "source": [
    "def function_estimar_respuesta_a_tratamiento(df_estimar_elasticidad, df_simulaciones_info): #df1 es df_estimar_elasticidad y df2 es df_simulaciones_info\n",
    "    # Paso 1: Preparación de datos y mapeo de clusters\n",
    "    # Eliminar duplicados en 'df1' para tener un valor único de 'categoria_clusterizacion_numerica' por cada 'rut'.\n",
    "    df_estimar_elasticidad_unique = df_estimar_elasticidad.drop_duplicates(subset='rut')\n",
    "\n",
    "    # Crear un mapeo de 'rut' a 'categoria_clusterizacion_numerica' para asociar cada cliente a su cluster numérico.\n",
    "    rut_cluster_map = df_estimar_elasticidad_unique.set_index('rut')['categoria_clusterizacion_numerica']\n",
    "\n",
    "    # Mapear la categoría de cluster a cada 'rut' en 'df2' usando el mapeo creado\n",
    "    df_simulaciones_info['categoria_clusterizacion_numerica'] = df_simulaciones_info['rut'].map(rut_cluster_map)\n",
    "\n",
    "    # Eliminar filas donde 'categoria_clusterizacion_numerica' es nulo, es decir, aquellos 'rut' sin mapeo de cluster.\n",
    "    df_simulaciones_info = df_simulaciones_info.dropna(subset=['categoria_clusterizacion_numerica'])\n",
    "\n",
    "    # Conversión de tipos de datos\n",
    "    # Convertir 'categoria_clusterizacion_numerica' a entero para garantizar un tipo de dato consistente.\n",
    "    df_simulaciones_info['categoria_clusterizacion_numerica'] = df_simulaciones_info['categoria_clusterizacion_numerica'].astype(int)\n",
    "\n",
    "    # Convertir 'simulo' a numérico, reemplazando valores nulos por 0 y asegurando que sea un tipo de dato entero.\n",
    "    df_simulaciones_info['simulo'] = pd.to_numeric(df_simulaciones_info['simulo'], errors='coerce').fillna(0).astype(int)\n",
    "\n",
    "    # Convertir 'Tratamiento' a tipo de categoría para optimizar espacio y realizar operaciones categóricas.\n",
    "    df_simulaciones_info['Tratamiento'] = df_simulaciones_info['Tratamiento'].astype('category')\n",
    "\n",
    "    # Paso 2: Calcular el caso total (entradas por tratamiento sin importar el valor de 'simulo')\n",
    "    # Agrupar por 'categoria_clusterizacion_numerica' y 'Tratamiento' para contar el número total de registros en cada combinación.\n",
    "    total_entries_per_cluster_treatment = df_simulaciones_info.groupby(['categoria_clusterizacion_numerica', 'Tratamiento']).size().reset_index(name='caso_total')\n",
    "\n",
    "    # Paso 3: Calcular el caso favorable (entradas por tratamiento cuando 'simulo' == 1)\n",
    "    # Filtrar filas donde 'simulo' es 1 (clientes que realizaron una simulación)\n",
    "    df_simulations = df_simulaciones_info[df_simulaciones_info['simulo'] == 1]\n",
    "\n",
    "    # Agrupar por 'categoria_clusterizacion_numerica' y 'Tratamiento' para contar el número de registros favorables (simulaciones).\n",
    "    favorable_entries_per_cluster_treatment = df_simulations.groupby(['categoria_clusterizacion_numerica', 'Tratamiento']).size().reset_index(name='caso_favorable')\n",
    "\n",
    "    # Paso 4: Calcular la probabilidad de simulación como caso favorable / caso total\n",
    "    # Realizar un merge entre 'total_entries_per_cluster_treatment' y 'favorable_entries_per_cluster_treatment' en las columnas de cluster y tratamiento.\n",
    "    df_probabilities = total_entries_per_cluster_treatment.merge(\n",
    "        favorable_entries_per_cluster_treatment,\n",
    "        on=['categoria_clusterizacion_numerica', 'Tratamiento'],\n",
    "        how='left'\n",
    "    )\n",
    "\n",
    "    # Llenar valores nulos en 'caso_favorable' con 0, asegurando que solo las columnas numéricas estén afectadas.\n",
    "    df_probabilities['caso_favorable'] = df_probabilities['caso_favorable'].fillna(0).astype(int)\n",
    "\n",
    "    # Asegurar que 'caso_total' sea de tipo entero para evitar inconsistencias en los conteos.\n",
    "    df_probabilities['caso_total'] = df_probabilities['caso_total'].astype(int)\n",
    "\n",
    "    # Calcular la probabilidad de simulación como el cociente entre 'caso_favorable' y 'caso_total'.\n",
    "    df_probabilities['probabilidad_simular'] = df_probabilities['caso_favorable'] / df_probabilities['caso_total']\n",
    "\n",
    "    # Organizar las columnas del DataFrame resultante para facilitar su análisis.\n",
    "    df_probabilities = df_probabilities[[\n",
    "        'categoria_clusterizacion_numerica',\n",
    "        'Tratamiento',\n",
    "        'probabilidad_simular',\n",
    "        'caso_favorable',\n",
    "        'caso_total'\n",
    "    ]]\n",
    "\n",
    "    # Mostrar el DataFrame resultante con la probabilidad de simulación calculada para cada combinación de cluster y tratamiento.\n",
    "    return df_probabilities\n"
   ]
  },
  {
   "cell_type": "code",
   "execution_count": 27,
   "metadata": {},
   "outputs": [
    {
     "data": {
      "text/html": [
       "<div>\n",
       "<style scoped>\n",
       "    .dataframe tbody tr th:only-of-type {\n",
       "        vertical-align: middle;\n",
       "    }\n",
       "\n",
       "    .dataframe tbody tr th {\n",
       "        vertical-align: top;\n",
       "    }\n",
       "\n",
       "    .dataframe thead th {\n",
       "        text-align: right;\n",
       "    }\n",
       "</style>\n",
       "<table border=\"1\" class=\"dataframe\">\n",
       "  <thead>\n",
       "    <tr style=\"text-align: right;\">\n",
       "      <th></th>\n",
       "      <th>categoria_clusterizacion_numerica</th>\n",
       "      <th>Tratamiento</th>\n",
       "      <th>probabilidad_simular</th>\n",
       "      <th>caso_favorable</th>\n",
       "      <th>caso_total</th>\n",
       "    </tr>\n",
       "  </thead>\n",
       "  <tbody>\n",
       "    <tr>\n",
       "      <th>0</th>\n",
       "      <td>0</td>\n",
       "      <td>Ejecutivo=0, Correos=0</td>\n",
       "      <td>0.238938</td>\n",
       "      <td>27</td>\n",
       "      <td>113</td>\n",
       "    </tr>\n",
       "    <tr>\n",
       "      <th>1</th>\n",
       "      <td>0</td>\n",
       "      <td>Ejecutivo=0, Correos=1</td>\n",
       "      <td>0.201613</td>\n",
       "      <td>25</td>\n",
       "      <td>124</td>\n",
       "    </tr>\n",
       "    <tr>\n",
       "      <th>2</th>\n",
       "      <td>0</td>\n",
       "      <td>Ejecutivo=0, Correos=2</td>\n",
       "      <td>0.222222</td>\n",
       "      <td>18</td>\n",
       "      <td>81</td>\n",
       "    </tr>\n",
       "    <tr>\n",
       "      <th>3</th>\n",
       "      <td>0</td>\n",
       "      <td>Ejecutivo=0, Correos=3</td>\n",
       "      <td>0.247104</td>\n",
       "      <td>64</td>\n",
       "      <td>259</td>\n",
       "    </tr>\n",
       "    <tr>\n",
       "      <th>4</th>\n",
       "      <td>0</td>\n",
       "      <td>Ejecutivo=0, Correos=4</td>\n",
       "      <td>0.250000</td>\n",
       "      <td>96</td>\n",
       "      <td>384</td>\n",
       "    </tr>\n",
       "    <tr>\n",
       "      <th>...</th>\n",
       "      <td>...</td>\n",
       "      <td>...</td>\n",
       "      <td>...</td>\n",
       "      <td>...</td>\n",
       "      <td>...</td>\n",
       "    </tr>\n",
       "    <tr>\n",
       "      <th>859</th>\n",
       "      <td>107</td>\n",
       "      <td>Ejecutivo=0, Correos=3</td>\n",
       "      <td>0.152493</td>\n",
       "      <td>10569</td>\n",
       "      <td>69308</td>\n",
       "    </tr>\n",
       "    <tr>\n",
       "      <th>860</th>\n",
       "      <td>107</td>\n",
       "      <td>Ejecutivo=0, Correos=4</td>\n",
       "      <td>0.152522</td>\n",
       "      <td>16988</td>\n",
       "      <td>111381</td>\n",
       "    </tr>\n",
       "    <tr>\n",
       "      <th>861</th>\n",
       "      <td>107</td>\n",
       "      <td>Ejecutivo=1, Correos=0</td>\n",
       "      <td>0.341773</td>\n",
       "      <td>6007</td>\n",
       "      <td>17576</td>\n",
       "    </tr>\n",
       "    <tr>\n",
       "      <th>862</th>\n",
       "      <td>107</td>\n",
       "      <td>Ejecutivo=1, Correos=1</td>\n",
       "      <td>0.349486</td>\n",
       "      <td>6664</td>\n",
       "      <td>19068</td>\n",
       "    </tr>\n",
       "    <tr>\n",
       "      <th>863</th>\n",
       "      <td>107</td>\n",
       "      <td>Ejecutivo=1, Correos=2</td>\n",
       "      <td>0.349618</td>\n",
       "      <td>38531</td>\n",
       "      <td>110209</td>\n",
       "    </tr>\n",
       "  </tbody>\n",
       "</table>\n",
       "<p>864 rows × 5 columns</p>\n",
       "</div>"
      ],
      "text/plain": [
       "     categoria_clusterizacion_numerica             Tratamiento  \\\n",
       "0                                    0  Ejecutivo=0, Correos=0   \n",
       "1                                    0  Ejecutivo=0, Correos=1   \n",
       "2                                    0  Ejecutivo=0, Correos=2   \n",
       "3                                    0  Ejecutivo=0, Correos=3   \n",
       "4                                    0  Ejecutivo=0, Correos=4   \n",
       "..                                 ...                     ...   \n",
       "859                                107  Ejecutivo=0, Correos=3   \n",
       "860                                107  Ejecutivo=0, Correos=4   \n",
       "861                                107  Ejecutivo=1, Correos=0   \n",
       "862                                107  Ejecutivo=1, Correos=1   \n",
       "863                                107  Ejecutivo=1, Correos=2   \n",
       "\n",
       "     probabilidad_simular  caso_favorable  caso_total  \n",
       "0                0.238938              27         113  \n",
       "1                0.201613              25         124  \n",
       "2                0.222222              18          81  \n",
       "3                0.247104              64         259  \n",
       "4                0.250000              96         384  \n",
       "..                    ...             ...         ...  \n",
       "859              0.152493           10569       69308  \n",
       "860              0.152522           16988      111381  \n",
       "861              0.341773            6007       17576  \n",
       "862              0.349486            6664       19068  \n",
       "863              0.349618           38531      110209  \n",
       "\n",
       "[864 rows x 5 columns]"
      ]
     },
     "execution_count": 27,
     "metadata": {},
     "output_type": "execute_result"
    }
   ],
   "source": [
    "df_probabilities = function_estimar_respuesta_a_tratamiento(df1, df2)\n",
    "df_probabilities"
   ]
  },
  {
   "cell_type": "code",
   "execution_count": 28,
   "metadata": {},
   "outputs": [],
   "source": [
    "# Visualizar el DataFrame 'df_estimar_elasticidad' para revisar su contenido antes de realizar cálculos adicionales\n",
    "df_estimar_elasticidad\n",
    "\n",
    "# Calcular el valor promedio de 'Monto_Simulado' para cada 'categoria_clusterizacion_numerica'\n",
    "# Usamos 'groupby' para agrupar por 'categoria_clusterizacion_numerica' y 'transform(\"mean\")' para calcular el promedio.\n",
    "# Luego, 'transform' asigna este valor promedio a cada fila dentro de su grupo, creando una columna 'Monto_Simulado_mean' con estos promedios.\n",
    "df_estimar_elasticidad['Monto_Simulado_mean'] = df_estimar_elasticidad.groupby('categoria_clusterizacion_numerica')['Monto_Simulado'].transform('mean')\n",
    "\n",
    "# Calcular el valor promedio de 'Plazo_Simulado' para cada 'categoria_clusterizacion_numerica'\n",
    "# Similar al cálculo anterior, 'groupby' agrupa los datos por 'categoria_clusterizacion_numerica', y 'transform(\"mean\")' calcula el promedio.\n",
    "# Se asigna el promedio resultante a cada fila dentro del grupo en la nueva columna 'Plazo_Simulado_mean'.\n",
    "df_estimar_elasticidad['Plazo_Simulado_mean'] = df_estimar_elasticidad.groupby('categoria_clusterizacion_numerica')['Plazo_Simulado'].transform('mean')\n",
    "df_estimar_elasticidad['Plazo_Simulado_min'] = df_estimar_elasticidad.groupby('categoria_clusterizacion_numerica')['Plazo_Simulado'].transform('min')\n",
    "df_estimar_elasticidad['Plazo_Simulado_max'] = df_estimar_elasticidad.groupby('categoria_clusterizacion_numerica')['Plazo_Simulado'].transform('max')\n",
    "df_estimar_elasticidad['Plazo_Simulado_mode'] = df_estimar_elasticidad.groupby('categoria_clusterizacion_numerica')['Plazo_Simulado'].transform(lambda x: x.mode().iloc[0])\n"
   ]
  },
  {
   "cell_type": "code",
   "execution_count": 29,
   "metadata": {},
   "outputs": [],
   "source": [
    "# Seleccionar solo las columnas necesarias del DataFrame 'df_estimar_elasticidad' para reducir su tamaño\n",
    "# 'df_estimar_elasticidad_small' contiene las columnas esenciales para el análisis:\n",
    "# 'categoria_clusterizacion_numerica', 'rut', 'tasa_optima', 'probabilidad_aceptacion_optima', 'Probabilidad_No_Pago',\n",
    "# 'Monto_Simulado_mean', y 'Plazo_Simulado_mean'.\n",
    "df_estimar_elasticidad_small = df_estimar_elasticidad[['categoria_clusterizacion_numerica', 'rut', 'tasa_optima', 'probabilidad_aceptacion_optima', 'Probabilidad_No_Pago', \n",
    "                                                       'Monto_Simulado_mean',\n",
    "                                                       'Plazo_Simulado_mean', 'Plazo_Simulado_min', 'Plazo_Simulado_max', 'Plazo_Simulado_mode']]\n",
    "\n",
    "# Seleccionar solo las columnas necesarias del DataFrame 'df_probabilities' para reducir su tamaño\n",
    "# 'df_probabilities_small' contiene las columnas 'categoria_clusterizacion_numerica', 'probabilidad_simular', y 'Tratamiento'.\n",
    "df_probabilities_small = df_probabilities[['categoria_clusterizacion_numerica', 'probabilidad_simular', 'Tratamiento']]\n",
    "\n",
    "# Realizar un merge entre 'df_estimar_elasticidad_small' y 'df_probabilities_small' usando 'categoria_clusterizacion_numerica' como clave\n",
    "# Esta unión ('how=\"left\"') mantiene todas las filas de 'df_estimar_elasticidad_small' y añade la información de 'df_probabilities_small'\n",
    "# cuando hay coincidencias en 'categoria_clusterizacion_numerica'. El resultado se guarda en 'df_asignacion_de_tratamientos'.\n",
    "df_asignacion_de_tratamientos = pd.merge(df_estimar_elasticidad_small, df_probabilities_small, on='categoria_clusterizacion_numerica', how='left')\n"
   ]
  },
  {
   "cell_type": "code",
   "execution_count": 30,
   "metadata": {},
   "outputs": [],
   "source": [
    "# Crear un nombre de carpeta con una marca de tiempo actual\n",
    "# 'strftime' genera la fecha y hora actual en el formato \"YYYYMMDD_HHMMSS\".\n",
    "# Esto se usa para crear una carpeta única 'folder_name' donde se guardarán los archivos.\n",
    "timestamp = datetime.now().strftime(\"%Y%m%d_%H%M%S\")\n",
    "folder_name = f\"cluster_data_{timestamp}\"\n",
    "os.makedirs(folder_name, exist_ok=True)  # Crear la carpeta; 'exist_ok=True' evita errores si ya existe.\n",
    "\n",
    "# Guardar información de los clusters\n",
    "# Seleccionar las columnas relevantes sobre cada cluster desde 'df_estimar_elasticidad_small' y eliminar duplicados.\n",
    "# El DataFrame 'df_cluster_info' contiene datos únicos de cada cluster como el monto y plazo medio simulado, la probabilidad de aceptación óptima y la tasa óptima.\n",
    "df_cluster_info = df_estimar_elasticidad_small[['categoria_clusterizacion_numerica', 'probabilidad_aceptacion_optima', 'tasa_optima',\n",
    "                                                'Monto_Simulado_mean',\n",
    "                                                'Plazo_Simulado_mean', 'Plazo_Simulado_min', 'Plazo_Simulado_max', 'Plazo_Simulado_mode']].drop_duplicates()\n",
    "df_cluster_info.to_csv(f\"{folder_name}/cluster_info.csv\", index=False)\n",
    "\n",
    "# Guardar las probabilidades y tratamiento\n",
    "# Seleccionar columnas relevantes de 'df_probabilities_small' para almacenar la probabilidad de simulación y tratamiento asignado para cada cluster.\n",
    "# 'df_probabilities_treatment' contiene esta información única por cada combinación de cluster y tratamiento.\n",
    "df_probabilities_treatment = df_probabilities_small[['categoria_clusterizacion_numerica', 'probabilidad_simular', 'Tratamiento']].drop_duplicates()\n",
    "df_probabilities_treatment.to_csv(f\"{folder_name}/probabilities_treatment.csv\", index=False)\n",
    "\n",
    "# Guardar información del RUT\n",
    "# Seleccionar columnas clave sobre cada cliente ('rut') desde 'df_estimar_elasticidad_small' y eliminar duplicados.\n",
    "# 'df_rut_info' contiene el 'rut', la categoría de cluster y la probabilidad de no pago para cada cliente, sin registros duplicados.\n",
    "df_rut_info = df_estimar_elasticidad_small[['rut', 'categoria_clusterizacion_numerica', 'Probabilidad_No_Pago']].drop_duplicates()\n",
    "df_rut_info.to_csv(f\"{folder_name}/rut_info.csv\", index=False)\n"
   ]
  },
  {
   "cell_type": "markdown",
   "metadata": {},
   "source": [
    "# 6. Modelo de asignacion"
   ]
  },
  {
   "cell_type": "markdown",
   "metadata": {},
   "source": [
    "## Modelo de asignacion que itera por cliente"
   ]
  },
  {
   "cell_type": "code",
   "execution_count": 31,
   "metadata": {},
   "outputs": [],
   "source": [
    "# # Complete Optimized Code: Data Processing and Optimization\n",
    "\n",
    "# import pandas as pd\n",
    "# import os\n",
    "# import numpy as np\n",
    "# from gurobipy import Model, GRB, quicksum\n",
    "\n",
    "# # -------------------------------\n",
    "# # Data Processing and Preprocessing\n",
    "# # -------------------------------\n",
    "\n",
    "# # Define the base folder and mappings\n",
    "# base_folder = \"cluster_data_20241106_020021/\"\n",
    "# tratamiento_map = {\n",
    "#     \"Ejecutivo=0, Correos=0\": 1, \"Ejecutivo=0, Correos=1\": 2,\n",
    "#     \"Ejecutivo=0, Correos=2\": 3, \"Ejecutivo=0, Correos=3\": 4,\n",
    "#     \"Ejecutivo=0, Correos=4\": 5, \"Ejecutivo=1, Correos=0\": 6,\n",
    "#     \"Ejecutivo=1, Correos=1\": 7, \"Ejecutivo=1, Correos=2\": 8\n",
    "# }\n",
    "\n",
    "# # File paths\n",
    "# probabilities_file = os.path.join(base_folder, \"probabilities_treatment.csv\")\n",
    "# rut_info_file = os.path.join(base_folder, \"rut_info.csv\")\n",
    "# cluster_info_file = os.path.join(base_folder, \"cluster_info.csv\")\n",
    "\n",
    "# # Parameters\n",
    "# costosms = 100\n",
    "# capacidad_ejecutivos = 205000\n",
    "\n",
    "# # Step 1: Load and map 'tratamiento_id' in the probabilities data\n",
    "# print(\"Loading and processing probabilities data...\")\n",
    "# df_probabilities = df_probabilities_treatment\n",
    "# df_probabilities['tratamiento_id'] = df_probabilities['Tratamiento'].map(tratamiento_map)\n",
    "\n",
    "# # Step 2: Create 'tratamientos' list and merge with rut_info\n",
    "# print(\"Merging probabilities with rut_info...\")\n",
    "# df_probabilities['tratamientos'] = df_probabilities[['probabilidad_simular', 'tratamiento_id']].values.tolist()\n",
    "# grouped_prob = df_probabilities.groupby('categoria_clusterizacion_numerica')['tratamientos'].apply(list).reset_index()\n",
    "\n",
    "# df_rut_info = df_rut_info\n",
    "# df_rut_info = df_rut_info.merge(grouped_prob, on='categoria_clusterizacion_numerica', how='left')\n",
    "\n",
    "# # Step 3: Merge rut_info with cluster_info\n",
    "# print(\"Merging rut_info with cluster_info...\")\n",
    "# df_cluster_info = df_cluster_info\n",
    "# df_rut_info = df_rut_info.merge(df_cluster_info, on='categoria_clusterizacion_numerica', how='left')\n",
    "\n",
    "# # Step 4: Calculate 'RC'\n",
    "# print(\"Calculating RC...\")\n",
    "# df_rut_info['tasa_optima'] /= 100\n",
    "# df_rut_info['RC'] = (\n",
    "#     (df_rut_info['Plazo_Simulado_mean'] * df_rut_info['Monto_Simulado_mean'] * df_rut_info['tasa_optima'] *\n",
    "#      ((1 + df_rut_info['tasa_optima']) ** df_rut_info['Plazo_Simulado_mean'])) /\n",
    "#     (((1 + df_rut_info['tasa_optima']) ** df_rut_info['Plazo_Simulado_mean']) - 1)\n",
    "# ) - df_rut_info['Monto_Simulado_mean']\n",
    "\n",
    "# # -------------------------------\n",
    "# # Data Preparation for Optimization\n",
    "# # -------------------------------\n",
    "\n",
    "# # Convert 'tratamientos' to numpy array to improve indexing performance\n",
    "# profits = np.array([\n",
    "#     [\n",
    "#         (row['RC'] * (1 - row['Probabilidad_No_Pago']) * row['probabilidad_aceptacion_optima'] * row['tratamientos'][t][0]) - \n",
    "#         (row['tratamientos'][t][1] * costosms)\n",
    "#         for t in range(8)\n",
    "#     ]\n",
    "#     for _, row in df_rut_info.iterrows()\n",
    "# ])\n",
    "\n",
    "# # Initialize model\n",
    "# model = Model(\"Maximizar_Ganancias\")\n",
    "# model.ModelSense = GRB.MAXIMIZE\n",
    "\n",
    "# # Create decision variables and set objective\n",
    "# n_clients, n_treatments = profits.shape\n",
    "# variables = {}\n",
    "\n",
    "# for i in range(n_clients):\n",
    "#     variables[i] = {}\n",
    "#     for t in range(n_treatments):\n",
    "#         if profits[i, t] > 0:\n",
    "#             variables[i][t] = model.addVar(vtype=GRB.BINARY, name=f\"x_{i}_{t}\")\n",
    "\n",
    "# model.setObjective(\n",
    "#     quicksum(variables[i][t] * profits[i, t] for i in variables for t in variables[i])\n",
    "# )\n",
    "\n",
    "# # Constraint: Each client receives exactly one treatment\n",
    "# for i in variables:\n",
    "#     model.addConstr(quicksum(variables[i].values()) == 1, name=f\"OneTreatmentPerClient_{i}\")\n",
    "\n",
    "# # Capacity constraint for executives\n",
    "# model.addConstr(\n",
    "#     quicksum(variables[i][t] for i in variables for t in variables[i] if t in [5, 6, 7]) <= capacidad_ejecutivos,\n",
    "#     name=\"CapacityConstraint\"\n",
    "# )\n",
    "\n",
    "# # Cluster consistency\n",
    "# clusters = df_rut_info.groupby(\"categoria_clusterizacion_numerica\").indices\n",
    "# for cluster_id, indices_cluster in clusters.items():\n",
    "#     indices_list = list(indices_cluster)\n",
    "#     leader_index = indices_list[0]\n",
    "#     for t in variables[leader_index]:\n",
    "#         leader_var = variables[leader_index][t]\n",
    "#         for i in indices_list[1:]:\n",
    "#             if t in variables[i]:\n",
    "#                 model.addConstr(variables[i][t] == leader_var, name=f\"ClusterConsistency_{cluster_id}_{t}\")"
   ]
  },
  {
   "cell_type": "code",
   "execution_count": 32,
   "metadata": {},
   "outputs": [],
   "source": [
    "\n",
    "# # Initialize model\n",
    "# model = Model(\"Maximizar_Ganancias\")\n",
    "# model.ModelSense = GRB.MAXIMIZE\n",
    "\n",
    "# # Create decision variables and set objective\n",
    "# n_clients, n_treatments = profits.shape\n",
    "# variables = {}\n",
    "\n",
    "# for i in range(n_clients):\n",
    "#     variables[i] = {}\n",
    "#     for t in range(n_treatments):\n",
    "#         if profits[i, t] > 0:\n",
    "#             variables[i][t] = model.addVar(vtype=GRB.BINARY, name=f\"x_{i}_{t}\")\n",
    "\n",
    "# model.setObjective(\n",
    "#     quicksum(variables[i][t] * profits[i, t] for i in variables for t in variables[i])\n",
    "# )\n",
    "\n",
    "# # Constraint: Each client receives exactly one treatment\n",
    "# for i in variables:\n",
    "#     model.addConstr(quicksum(variables[i].values()) == 1, name=f\"OneTreatmentPerClient_{i}\")\n",
    "\n",
    "# # Capacity constraint for executives\n",
    "# model.addConstr(\n",
    "#     quicksum(variables[i][t] for i in variables for t in variables[i] if t in [5, 6, 7]) <= capacidad_ejecutivos,\n",
    "#     name=\"CapacityConstraint\"\n",
    "# )\n",
    "\n",
    "# # Cluster consistency\n",
    "# clusters = df_rut_info.groupby(\"categoria_clusterizacion_numerica\").indices\n",
    "# for cluster_id, indices_cluster in clusters.items():\n",
    "#     indices_list = list(indices_cluster)\n",
    "#     leader_index = indices_list[0]\n",
    "#     for t in variables[leader_index]:\n",
    "#         leader_var = variables[leader_index][t]\n",
    "#         for i in indices_list[1:]:\n",
    "#             if t in variables[i]:\n",
    "#                 model.addConstr(variables[i][t] == leader_var, name=f\"ClusterConsistency_{cluster_id}_{t}\")\n",
    "\n",
    "# # Optimize the model\n",
    "# model.optimize()\n",
    "\n",
    "# # Check if the optimization was successful\n",
    "# if model.Status == GRB.OPTIMAL:\n",
    "#     # -------------------------------\n",
    "#     # Extracting and Displaying Results\n",
    "#     # -------------------------------\n",
    "\n",
    "#     print(\"Extracting results...\")\n",
    "\n",
    "#     # Assign treatments per cluster based on the optimization results\n",
    "#     resultados_por_cluster = {}\n",
    "#     for cluster_id, indices_cluster in clusters.items():\n",
    "#         leader_index = list(indices_cluster)[0]\n",
    "#         for t in variables[leader_index]:\n",
    "#             if variables[leader_index][t].X > 0.5:\n",
    "#                 resultados_por_cluster[cluster_id] = t\n",
    "#                 break\n",
    "\n",
    "#     # Calculate total profits\n",
    "#     ganancias_totales = model.ObjVal\n",
    "\n",
    "#     # Display results\n",
    "#     print(\"\\nTratamientos asignados por cluster:\")\n",
    "#     for cluster_id, tratamiento in resultados_por_cluster.items():\n",
    "#         print(f\"Cluster {cluster_id}: Tratamiento {tratamiento + 1}\")\n",
    "\n",
    "#     print(f\"\\nGanancias totales: {ganancias_totales:.2f}\")\n",
    "\n",
    "#     # -------------------------------\n",
    "#     # Calculating Executive Usage\n",
    "#     # -------------------------------\n",
    "    \n",
    "#     # Count the number of executives used for treatments 5, 6, and 7\n",
    "#     executives_used = sum(\n",
    "#         1 for i in variables for t in variables[i] if t in [5, 6, 7] and variables[i][t].X > 0.5\n",
    "#     )\n",
    "#     executives_remaining = capacidad_ejecutivos - executives_used\n",
    "\n",
    "#     # Display executive usage summary\n",
    "#     print(f\"\\nExecutives used: {executives_used}\")\n",
    "#     print(f\"Executives remaining: {executives_remaining}\")\n",
    "\n",
    "# else:\n",
    "#     print(\"Optimization did not reach an optimal solution.\")\n",
    "# print(\"Optimization complete.\")"
   ]
  },
  {
   "cell_type": "code",
   "execution_count": 33,
   "metadata": {},
   "outputs": [],
   "source": [
    "# from collections import Counter\n",
    "\n",
    "# for cluster_id, tratamiento in resultados_por_cluster.items():\n",
    "#     # Count the number of times each treatment is assigned\n",
    "#     treatment_counts = Counter(resultados_por_cluster.values())\n",
    "\n",
    "# # Print the counts for each treatment\n",
    "# for treatment, count in treatment_counts.items():\n",
    "#     print(f\"Treatment {treatment + 1}: {count} times\")"
   ]
  },
  {
   "cell_type": "markdown",
   "metadata": {},
   "source": [
    "## Modelo de asignacion que itera por cluster"
   ]
  },
  {
   "cell_type": "code",
   "execution_count": 34,
   "metadata": {},
   "outputs": [
    {
     "name": "stdout",
     "output_type": "stream",
     "text": [
      "Loading and processing probabilities data...\n",
      "Merging probabilities with rut_info...\n",
      "Merging rut_info with cluster_info...\n",
      "Calculating RC...\n",
      "Set parameter Username\n",
      "Academic license - for non-commercial use only - expires 2025-11-06\n",
      "Gurobi Optimizer version 11.0.3 build v11.0.3rc0 (win64 - Windows 10.0 (19045.2))\n",
      "\n",
      "CPU model: AMD Ryzen 5 2500U with Radeon Vega Mobile Gfx, instruction set [SSE2|AVX|AVX2]\n",
      "Thread count: 4 physical cores, 8 logical processors, using up to 8 threads\n",
      "\n",
      "Optimize a model with 109 rows, 864 columns and 1188 nonzeros\n",
      "Model fingerprint: 0xb58db2b5\n",
      "Variable types: 0 continuous, 864 integer (864 binary)\n",
      "Coefficient statistics:\n",
      "  Matrix range     [1e+00, 2e+04]\n",
      "  Objective range  [3e+04, 1e+10]\n",
      "  Bounds range     [1e+00, 1e+00]\n",
      "  RHS range        [1e+00, 2e+05]\n",
      "Warning: Model contains large objective coefficients\n",
      "         Consider reformulating model or setting NumericFocus parameter\n",
      "         to avoid numerical issues.\n",
      "Found heuristic solution: objective 5.130598e+10\n",
      "Presolve removed 108 rows and 756 columns\n",
      "Presolve time: 0.07s\n",
      "Presolved: 1 rows, 108 columns, 108 nonzeros\n",
      "Found heuristic solution: objective 1.156024e+11\n",
      "Variable types: 0 continuous, 108 integer (108 binary)\n",
      "Found heuristic solution: objective 1.162303e+11\n",
      "\n",
      "Root relaxation: objective 1.189366e+11, 1 iterations, 0.05 seconds (0.00 work units)\n",
      "\n",
      "    Nodes    |    Current Node    |     Objective Bounds      |     Work\n",
      " Expl Unexpl |  Obj  Depth IntInf | Incumbent    BestBd   Gap | It/Node Time\n",
      "\n",
      "     0     0 1.1894e+11    0    1 1.1623e+11 1.1894e+11  2.33%     -    1s\n",
      "H    0     0                    1.182052e+11 1.1894e+11  0.62%     -    1s\n",
      "H    0     0                    1.188775e+11 1.1894e+11  0.05%     -    1s\n",
      "     0     0 1.1891e+11    0    3 1.1888e+11 1.1891e+11  0.03%     -    1s\n",
      "H    0     1                    1.188848e+11 1.1891e+11  0.02%     -    1s\n",
      "\n",
      "Cutting planes:\n",
      "  Cover: 2\n",
      "\n",
      "Explored 1 nodes (5 simplex iterations) in 1.61 seconds (0.00 work units)\n",
      "Thread count was 8 (of 8 available processors)\n",
      "\n",
      "Solution count 6: 1.18885e+11 1.18878e+11 1.18205e+11 ... 5.1306e+10\n",
      "\n",
      "Optimal solution found (tolerance 1.00e-04)\n",
      "Best objective 1.188847755725e+11, best bound 1.188847755725e+11, gap 0.0000%\n",
      "Extracting results...\n",
      "\n",
      "Tratamientos asignados por cluster:\n",
      "Cluster 0: Tratamiento 8\n",
      "Cluster 1: Tratamiento 1\n",
      "Cluster 2: Tratamiento 7\n",
      "Cluster 3: Tratamiento 6\n",
      "Cluster 4: Tratamiento 4\n",
      "Cluster 5: Tratamiento 4\n",
      "Cluster 6: Tratamiento 8\n",
      "Cluster 7: Tratamiento 4\n",
      "Cluster 8: Tratamiento 5\n",
      "Cluster 9: Tratamiento 8\n",
      "Cluster 10: Tratamiento 5\n",
      "Cluster 11: Tratamiento 5\n",
      "Cluster 12: Tratamiento 8\n",
      "Cluster 13: Tratamiento 5\n",
      "Cluster 14: Tratamiento 5\n",
      "Cluster 15: Tratamiento 8\n",
      "Cluster 16: Tratamiento 4\n",
      "Cluster 17: Tratamiento 8\n",
      "Cluster 18: Tratamiento 8\n",
      "Cluster 19: Tratamiento 5\n",
      "Cluster 20: Tratamiento 5\n",
      "Cluster 21: Tratamiento 8\n",
      "Cluster 22: Tratamiento 5\n",
      "Cluster 23: Tratamiento 5\n",
      "Cluster 24: Tratamiento 8\n",
      "Cluster 25: Tratamiento 5\n",
      "Cluster 26: Tratamiento 5\n",
      "Cluster 27: Tratamiento 8\n",
      "Cluster 28: Tratamiento 5\n",
      "Cluster 29: Tratamiento 5\n",
      "Cluster 30: Tratamiento 8\n",
      "Cluster 31: Tratamiento 5\n",
      "Cluster 32: Tratamiento 8\n",
      "Cluster 33: Tratamiento 8\n",
      "Cluster 34: Tratamiento 5\n",
      "Cluster 35: Tratamiento 5\n",
      "Cluster 36: Tratamiento 8\n",
      "Cluster 37: Tratamiento 5\n",
      "Cluster 38: Tratamiento 5\n",
      "Cluster 39: Tratamiento 8\n",
      "Cluster 40: Tratamiento 5\n",
      "Cluster 41: Tratamiento 5\n",
      "Cluster 42: Tratamiento 8\n",
      "Cluster 43: Tratamiento 5\n",
      "Cluster 44: Tratamiento 5\n",
      "Cluster 45: Tratamiento 8\n",
      "Cluster 46: Tratamiento 5\n",
      "Cluster 47: Tratamiento 5\n",
      "Cluster 48: Tratamiento 8\n",
      "Cluster 49: Tratamiento 5\n",
      "Cluster 50: Tratamiento 5\n",
      "Cluster 51: Tratamiento 8\n",
      "Cluster 52: Tratamiento 5\n",
      "Cluster 53: Tratamiento 5\n",
      "Cluster 54: Tratamiento 8\n",
      "Cluster 55: Tratamiento 3\n",
      "Cluster 56: Tratamiento 8\n",
      "Cluster 57: Tratamiento 7\n",
      "Cluster 58: Tratamiento 5\n",
      "Cluster 59: Tratamiento 7\n",
      "Cluster 60: Tratamiento 7\n",
      "Cluster 61: Tratamiento 1\n",
      "Cluster 62: Tratamiento 7\n",
      "Cluster 63: Tratamiento 8\n",
      "Cluster 64: Tratamiento 4\n",
      "Cluster 65: Tratamiento 7\n",
      "Cluster 66: Tratamiento 8\n",
      "Cluster 67: Tratamiento 4\n",
      "Cluster 68: Tratamiento 8\n",
      "Cluster 69: Tratamiento 8\n",
      "Cluster 70: Tratamiento 3\n",
      "Cluster 71: Tratamiento 6\n",
      "Cluster 72: Tratamiento 8\n",
      "Cluster 73: Tratamiento 3\n",
      "Cluster 74: Tratamiento 3\n",
      "Cluster 75: Tratamiento 7\n",
      "Cluster 76: Tratamiento 5\n",
      "Cluster 77: Tratamiento 8\n",
      "Cluster 78: Tratamiento 8\n",
      "Cluster 79: Tratamiento 4\n",
      "Cluster 80: Tratamiento 8\n",
      "Cluster 81: Tratamiento 8\n",
      "Cluster 82: Tratamiento 5\n",
      "Cluster 83: Tratamiento 8\n",
      "Cluster 84: Tratamiento 8\n",
      "Cluster 85: Tratamiento 4\n",
      "Cluster 86: Tratamiento 8\n",
      "Cluster 87: Tratamiento 8\n",
      "Cluster 88: Tratamiento 5\n",
      "Cluster 89: Tratamiento 8\n",
      "Cluster 90: Tratamiento 8\n",
      "Cluster 91: Tratamiento 4\n",
      "Cluster 92: Tratamiento 5\n",
      "Cluster 93: Tratamiento 7\n",
      "Cluster 94: Tratamiento 3\n",
      "Cluster 95: Tratamiento 5\n",
      "Cluster 96: Tratamiento 8\n",
      "Cluster 97: Tratamiento 5\n",
      "Cluster 98: Tratamiento 5\n",
      "Cluster 99: Tratamiento 7\n",
      "Cluster 100: Tratamiento 5\n",
      "Cluster 101: Tratamiento 4\n",
      "Cluster 102: Tratamiento 8\n",
      "Cluster 103: Tratamiento 5\n",
      "Cluster 104: Tratamiento 5\n",
      "Cluster 105: Tratamiento 7\n",
      "Cluster 106: Tratamiento 5\n",
      "Cluster 107: Tratamiento 5\n",
      "\n",
      "Ganancias totales: 118884775572.52\n",
      "\n",
      "Executives used: 204999\n",
      "Executives remaining: 1\n",
      "Optimization complete.\n"
     ]
    }
   ],
   "source": [
    "# -------------------------------\n",
    "# Procesamiento y preprocesamiento de datos\n",
    "# -------------------------------\n",
    "\n",
    "# Definir la carpeta base y el mapeo de tratamientos\n",
    "base_folder = \"cluster_data_20241106_020021/\"  # Carpeta donde se encuentran los archivos de datos\n",
    "tratamiento_map = {  # Mapeo de los tratamientos específicos a identificadores numéricos\n",
    "    \"Ejecutivo=0, Correos=0\": 1, \"Ejecutivo=0, Correos=1\": 2,\n",
    "    \"Ejecutivo=0, Correos=2\": 3, \"Ejecutivo=0, Correos=3\": 4,\n",
    "    \"Ejecutivo=0, Correos=4\": 5, \"Ejecutivo=1, Correos=0\": 6,\n",
    "    \"Ejecutivo=1, Correos=1\": 7, \"Ejecutivo=1, Correos=2\": 8\n",
    "}\n",
    "\n",
    "# Definir las rutas de los archivos\n",
    "probabilities_file = os.path.join(base_folder, \"probabilities_treatment.csv\")\n",
    "rut_info_file = os.path.join(base_folder, \"rut_info.csv\")\n",
    "cluster_info_file = os.path.join(base_folder, \"cluster_info.csv\")\n",
    "\n",
    "# Parámetros\n",
    "costosms = 100  # Costo de cada mensaje SMS\n",
    "capacidad_ejecutivos = 205000  # Capacidad máxima en términos de tiempo de los ejecutivos\n",
    "\n",
    "# Paso 1: Cargar y mapear 'tratamiento_id' en los datos de probabilidades\n",
    "print(\"Loading and processing probabilities data...\")\n",
    "df_probabilities = df_probabilities_treatment\n",
    "df_probabilities['tratamiento_id'] = df_probabilities['Tratamiento'].map(tratamiento_map)\n",
    "\n",
    "# Paso 2: Crear lista de tratamientos y combinar con rut_info\n",
    "print(\"Merging probabilities with rut_info...\")\n",
    "df_probabilities['tratamientos'] = df_probabilities[['probabilidad_simular', 'tratamiento_id']].values.tolist()\n",
    "grouped_prob = df_probabilities.groupby('categoria_clusterizacion_numerica')['tratamientos'].apply(list).reset_index()\n",
    "\n",
    "df_rut_info = df_rut_info\n",
    "df_rut_info = df_rut_info.merge(grouped_prob, on='categoria_clusterizacion_numerica', how='left')\n",
    "\n",
    "# Paso 3: Combinar rut_info con cluster_info\n",
    "print(\"Merging rut_info with cluster_info...\")\n",
    "df_cluster_info = df_cluster_info\n",
    "df_rut_info = df_rut_info.merge(df_cluster_info, on='categoria_clusterizacion_numerica', how='left')\n",
    "\n",
    "# Paso 3.5: Agrupar información por cluster en 'rut_info'\n",
    "# Agrupar por 'categoria_clusterizacion_numerica' y agregar según lo especificado\n",
    "df_grouped = df_rut_info.groupby('categoria_clusterizacion_numerica').agg({\n",
    "    'Probabilidad_No_Pago': 'mean',  # Promedio de probabilidad de no pago\n",
    "    'tratamientos': lambda x: list(x),  # Lista de opciones de tratamiento únicas en cada cluster\n",
    "    'Monto_Simulado_mean': 'mean',\n",
    "    'Plazo_Simulado_mean': 'mean',\n",
    "    'probabilidad_aceptacion_optima': 'mean',\n",
    "    'tasa_optima': 'mean',\n",
    "    'rut': 'count'  # Conteo del número de clientes ('rut') en cada cluster\n",
    "}).rename(columns={'rut': 'n_clientes'}).reset_index()\n",
    "\n",
    "# Paso 4: Calcular 'RC' (Revenue calculado)\n",
    "print(\"Calculating RC...\")\n",
    "df_grouped['tasa_optima'] /= 100  # Convertir tasa óptima a decimal\n",
    "df_grouped['RC'] = (\n",
    "    (df_grouped['Plazo_Simulado_mean'] * df_grouped['Monto_Simulado_mean'] * df_grouped['tasa_optima'] *\n",
    "     ((1 + df_grouped['tasa_optima']) ** df_grouped['Plazo_Simulado_mean'])) /\n",
    "    (((1 + df_grouped['tasa_optima']) ** df_grouped['Plazo_Simulado_mean']) - 1)\n",
    ") - df_grouped['Monto_Simulado_mean']\n",
    "\n",
    "# -------------------------------\n",
    "# Preparación de datos para optimización\n",
    "# -------------------------------\n",
    "\n",
    "# Convertir 'tratamientos' a un arreglo de numpy para mejorar la indexación\n",
    "# Desarrollar y preparar 'tratamientos' para indexación adecuada\n",
    "profits = np.array([\n",
    "    [\n",
    "        row['n_clientes'] * (row['RC'] * (1 - row['Probabilidad_No_Pago']) * row['probabilidad_aceptacion_optima'] * row['tratamientos'][0][t][0]) - \n",
    "        (row['tratamientos'][0][t][1] * costosms)\n",
    "        for t in range(8)\n",
    "    ]\n",
    "    for _, row in df_grouped.iterrows()\n",
    "])\n",
    "\n",
    "# Inicializar el modelo de optimización\n",
    "model = Model(\"Maximizar_Ganancias\")\n",
    "model.ModelSense = GRB.MAXIMIZE\n",
    "\n",
    "# Crear variables de decisión y definir el objetivo\n",
    "n_clients, n_treatments = profits.shape\n",
    "variables = {}\n",
    "\n",
    "for i in range(n_clients):\n",
    "    variables[i] = {}\n",
    "    for t in range(n_treatments):\n",
    "        if profits[i, t] > 0:\n",
    "            variables[i][t] = model.addVar(vtype=GRB.BINARY, name=f\"x_{i}_{t}\")\n",
    "\n",
    "model.setObjective(\n",
    "    quicksum(variables[i][t] * profits[i, t] for i in variables for t in variables[i])\n",
    ")\n",
    "\n",
    "# Restricción: Cada cliente recibe exactamente un tratamiento\n",
    "for i in variables:\n",
    "    model.addConstr(quicksum(variables[i].values()) == 1, name=f\"OneTreatmentPerClient_{i}\")\n",
    "\n",
    "# Restricción de capacidad para ejecutivos\n",
    "model.addConstr(\n",
    "    quicksum(variables[i][t] * df_grouped.loc[i, 'n_clientes'] for i in variables for t in variables[i] if t in [5, 6, 7]) <= capacidad_ejecutivos,\n",
    "    name=\"CapacityConstraint\"\n",
    ")\n",
    "\n",
    "# Consistencia de cluster: los clientes dentro del mismo cluster deben recibir el mismo tratamiento\n",
    "clusters = df_grouped.groupby(\"categoria_clusterizacion_numerica\").indices\n",
    "for cluster_id, indices_cluster in clusters.items():\n",
    "    indices_list = list(indices_cluster)\n",
    "    leader_index = indices_list[0]\n",
    "    for t in variables[leader_index]:\n",
    "        leader_var = variables[leader_index][t]\n",
    "        for i in indices_list[1:]:\n",
    "            if t in variables[i]:\n",
    "                model.addConstr(variables[i][t] == leader_var, name=f\"ClusterConsistency_{cluster_id}_{t}\")\n",
    "\n",
    "# Optimizar el modelo\n",
    "model.optimize()\n",
    "\n",
    "# Verificar si la optimización fue exitosa\n",
    "if model.Status == GRB.OPTIMAL:\n",
    "    # -------------------------------\n",
    "    # Extracción y visualización de resultados\n",
    "    # -------------------------------\n",
    "\n",
    "    print(\"Extracting results...\")\n",
    "\n",
    "    # Asignar tratamientos por cluster basado en los resultados de la optimización\n",
    "    resultados_por_cluster = {}\n",
    "    for cluster_id, indices_cluster in clusters.items():\n",
    "        leader_index = list(indices_cluster)[0]\n",
    "        for t in variables[leader_index]:\n",
    "            if variables[leader_index][t].X > 0.5:\n",
    "                resultados_por_cluster[cluster_id] = t + 1\n",
    "                break\n",
    "\n",
    "    # Calcular las ganancias totales\n",
    "    ganancias_totales = model.ObjVal\n",
    "\n",
    "    # Mostrar resultados\n",
    "    print(\"\\nTratamientos asignados por cluster:\")\n",
    "    for cluster_id, tratamiento in resultados_por_cluster.items():\n",
    "        print(f\"Cluster {cluster_id}: Tratamiento {tratamiento}\")\n",
    "\n",
    "    print(f\"\\nGanancias totales: {ganancias_totales:.2f}\")\n",
    "\n",
    "    # Calcular el número de ejecutivos usados y restantes\n",
    "    executives_used = sum(\n",
    "        df_grouped.loc[i, 'n_clientes'] for i in variables for t in variables[i]\n",
    "        if t in [5, 6, 7] and variables[i][t].X > 0.5\n",
    "    )\n",
    "    executives_remaining = capacidad_ejecutivos - executives_used\n",
    "\n",
    "    # Mostrar resumen de uso de ejecutivos\n",
    "    print(f\"\\nExecutives used: {executives_used}\")\n",
    "    print(f\"Executives remaining: {executives_remaining}\")\n",
    "else:\n",
    "    print(\"Optimization did not reach an optimal solution.\")\n",
    "print(\"Optimization complete.\")\n"
   ]
  },
  {
   "cell_type": "markdown",
   "metadata": {},
   "source": [
    "### Resultados"
   ]
  },
  {
   "cell_type": "code",
   "execution_count": 35,
   "metadata": {},
   "outputs": [
    {
     "name": "stdout",
     "output_type": "stream",
     "text": [
      "Treatment 8: 38 times\n",
      "Treatment 1: 2 times\n",
      "Treatment 7: 10 times\n",
      "Treatment 6: 2 times\n",
      "Treatment 4: 10 times\n",
      "Treatment 5: 41 times\n",
      "Treatment 3: 5 times\n"
     ]
    }
   ],
   "source": [
    "# Contar cuántas veces se asigna cada tratamiento en los resultados por cluster\n",
    "# Se utiliza un diccionario 'Counter' para contar las ocurrencias de cada tratamiento asignado en 'resultados_por_cluster'\n",
    "for cluster_id, tratamiento in resultados_por_cluster.items():\n",
    "    treatment_counts = Counter(resultados_por_cluster.values())\n",
    "\n",
    "# Imprimir el conteo de asignaciones para cada tratamiento\n",
    "# Se recorre 'treatment_counts' para mostrar cuántas veces se asignó cada tratamiento.\n",
    "# 'treatment + 1' se utiliza para mostrar el número de tratamiento en base 1, haciendo el resultado más legible.\n",
    "for treatment, count in treatment_counts.items():\n",
    "    print(f\"Treatment {treatment}: {count} times\")\n"
   ]
  },
  {
   "cell_type": "code",
   "execution_count": 36,
   "metadata": {},
   "outputs": [
    {
     "data": {
      "text/html": [
       "<div>\n",
       "<style scoped>\n",
       "    .dataframe tbody tr th:only-of-type {\n",
       "        vertical-align: middle;\n",
       "    }\n",
       "\n",
       "    .dataframe tbody tr th {\n",
       "        vertical-align: top;\n",
       "    }\n",
       "\n",
       "    .dataframe thead th {\n",
       "        text-align: right;\n",
       "    }\n",
       "</style>\n",
       "<table border=\"1\" class=\"dataframe\">\n",
       "  <thead>\n",
       "    <tr style=\"text-align: right;\">\n",
       "      <th></th>\n",
       "      <th>cluster</th>\n",
       "      <th>assigned_treatment</th>\n",
       "    </tr>\n",
       "  </thead>\n",
       "  <tbody>\n",
       "    <tr>\n",
       "      <th>0</th>\n",
       "      <td>0</td>\n",
       "      <td>8</td>\n",
       "    </tr>\n",
       "    <tr>\n",
       "      <th>1</th>\n",
       "      <td>1</td>\n",
       "      <td>1</td>\n",
       "    </tr>\n",
       "    <tr>\n",
       "      <th>2</th>\n",
       "      <td>2</td>\n",
       "      <td>7</td>\n",
       "    </tr>\n",
       "    <tr>\n",
       "      <th>3</th>\n",
       "      <td>3</td>\n",
       "      <td>6</td>\n",
       "    </tr>\n",
       "    <tr>\n",
       "      <th>4</th>\n",
       "      <td>4</td>\n",
       "      <td>4</td>\n",
       "    </tr>\n",
       "    <tr>\n",
       "      <th>...</th>\n",
       "      <td>...</td>\n",
       "      <td>...</td>\n",
       "    </tr>\n",
       "    <tr>\n",
       "      <th>103</th>\n",
       "      <td>103</td>\n",
       "      <td>5</td>\n",
       "    </tr>\n",
       "    <tr>\n",
       "      <th>104</th>\n",
       "      <td>104</td>\n",
       "      <td>5</td>\n",
       "    </tr>\n",
       "    <tr>\n",
       "      <th>105</th>\n",
       "      <td>105</td>\n",
       "      <td>7</td>\n",
       "    </tr>\n",
       "    <tr>\n",
       "      <th>106</th>\n",
       "      <td>106</td>\n",
       "      <td>5</td>\n",
       "    </tr>\n",
       "    <tr>\n",
       "      <th>107</th>\n",
       "      <td>107</td>\n",
       "      <td>5</td>\n",
       "    </tr>\n",
       "  </tbody>\n",
       "</table>\n",
       "<p>108 rows × 2 columns</p>\n",
       "</div>"
      ],
      "text/plain": [
       "     cluster  assigned_treatment\n",
       "0          0                   8\n",
       "1          1                   1\n",
       "2          2                   7\n",
       "3          3                   6\n",
       "4          4                   4\n",
       "..       ...                 ...\n",
       "103      103                   5\n",
       "104      104                   5\n",
       "105      105                   7\n",
       "106      106                   5\n",
       "107      107                   5\n",
       "\n",
       "[108 rows x 2 columns]"
      ]
     },
     "execution_count": 36,
     "metadata": {},
     "output_type": "execute_result"
    }
   ],
   "source": [
    "# Convertir el diccionario 'resultados_por_cluster' a un DataFrame\n",
    "# El diccionario 'resultados_por_cluster' contiene el ID del cluster y el tratamiento asignado a cada uno.\n",
    "# Se convierte a un DataFrame donde la primera columna es 'cluster' y la segunda 'assigned_treatment'.\n",
    "df_resultados_por_cluster = pd.DataFrame(list(resultados_por_cluster.items()), columns=[\"cluster\", \"assigned_treatment\"])\n",
    "\n",
    "# Mostrar el DataFrame resultante al usuario\n",
    "df_resultados_por_cluster\n"
   ]
  },
  {
   "cell_type": "code",
   "execution_count": 37,
   "metadata": {},
   "outputs": [],
   "source": [
    "# Primer merge con 'df_rut_info'\n",
    "# Realizar una unión ('merge') entre 'df_resultados_por_cluster' y 'df_rut_info' usando 'cluster' en el primer DataFrame\n",
    "# y 'categoria_clusterizacion_numerica' en el segundo como claves de unión.\n",
    "# Esta unión permite agregar información de clientes a cada cluster con su tratamiento asignado.\n",
    "df_assigned = pd.merge(df_resultados_por_cluster, df_rut_info, left_on='cluster', right_on='categoria_clusterizacion_numerica', how='left')\n",
    "\n",
    "# Segundo merge con 'df_grouped' para agregar la columna 'RC'\n",
    "# Realizar una unión entre 'df_assigned' y 'df_grouped' para incorporar la columna 'RC' (Revenue Calculado)\n",
    "# Usamos 'categoria_clusterizacion_numerica' como clave de unión para añadir la información de revenue calculado a cada cluster.\n",
    "df_assigned = pd.merge(df_assigned, df_grouped[['categoria_clusterizacion_numerica', 'RC']], on='categoria_clusterizacion_numerica', how='left')\n"
   ]
  },
  {
   "cell_type": "code",
   "execution_count": 38,
   "metadata": {},
   "outputs": [],
   "source": [
    "# Calcular la probabilidad de simulación para el tratamiento asignado en cada fila de 'df_assigned'\n",
    "# Se usa 'apply' con una función lambda para extraer la probabilidad de simulación correspondiente al tratamiento asignado.\n",
    "# 'row['tratamientos']' es una lista de opciones de tratamiento y 'row['assigned_treatment'] - 1' indica la posición del tratamiento.\n",
    "# Primero, se verifica que 'tratamientos' sea una lista y que el índice calculado esté dentro del rango.\n",
    "# Si estas condiciones se cumplen, se extrae la probabilidad de simulación; en caso contrario, se asigna None.\n",
    "df_assigned['probabilidad_de_simular'] = df_assigned.apply(\n",
    "    lambda row: row['tratamientos'][row['assigned_treatment'] - 1][0] \n",
    "                if isinstance(row['tratamientos'], list) and (0 <= row['assigned_treatment'] - 1 < len(row['tratamientos'])) \n",
    "                else None,\n",
    "    axis=1\n",
    ")\n"
   ]
  },
  {
   "cell_type": "code",
   "execution_count": 39,
   "metadata": {},
   "outputs": [
    {
     "name": "stdout",
     "output_type": "stream",
     "text": [
      "CSV file saved in folder: assigned_treatments/assignation_20241127_184711\\assigned_treatments.csv\n"
     ]
    }
   ],
   "source": [
    "import os\n",
    "from datetime import datetime\n",
    "\n",
    "# Crear una carpeta con un nombre basado en la fecha y hora actual\n",
    "# 'strftime' genera un timestamp en el formato \"YYYYMMDD_HHMMSS\" para asegurar nombres de carpeta únicos.\n",
    "timestamp = datetime.now().strftime(\"%Y%m%d_%H%M%S\")\n",
    "folder_name = f\"assigned_treatments/assignation_{timestamp}\"\n",
    "os.makedirs(folder_name, exist_ok=True)  # Crear la carpeta; 'exist_ok=True' evita errores si la carpeta ya existe.\n",
    "\n",
    "# Definir la ruta del archivo CSV dentro de la nueva carpeta\n",
    "output_path = os.path.join(folder_name, 'assigned_treatments.csv')\n",
    "\n",
    "# Guardar el DataFrame 'df_assigned' con las columnas seleccionadas en un archivo CSV\n",
    "# Se incluyen las columnas clave: 'rut', 'cluster', 'Probabilidad_No_Pago', 'RC', 'assigned_treatment',\n",
    "# 'probabilidad_de_simular', 'tasa_optima' y 'probabilidad_aceptacion_optima'.\n",
    "df_assigned[['rut', 'cluster', 'Probabilidad_No_Pago', 'RC', 'assigned_treatment', 'probabilidad_de_simular', 'tasa_optima', 'probabilidad_aceptacion_optima']].to_csv(output_path, index=False)\n",
    "\n",
    "# Imprimir mensaje de confirmación con la ubicación del archivo CSV guardado\n",
    "print(f\"CSV file saved in folder: {output_path}\")\n"
   ]
  },
  {
   "cell_type": "markdown",
   "metadata": {},
   "source": [
    "# MODELO INTUITIVO 1"
   ]
  },
  {
   "cell_type": "markdown",
   "metadata": {},
   "source": [
    "- Enviar el maximo de correos a todos (de forma aleatoria a quienes asignarles ejecutivos) \n",
    "- Precios aleatorios también"
   ]
  },
  {
   "cell_type": "code",
   "execution_count": 40,
   "metadata": {},
   "outputs": [
    {
     "ename": "KeyboardInterrupt",
     "evalue": "",
     "output_type": "error",
     "traceback": [
      "\u001b[1;31m---------------------------------------------------------------------------\u001b[0m",
      "\u001b[1;31mKeyboardInterrupt\u001b[0m                         Traceback (most recent call last)",
      "Cell \u001b[1;32mIn[40], line 4\u001b[0m\n\u001b[0;32m      2\u001b[0m df_probabilities_treatment_int1 \u001b[38;5;241m=\u001b[39m df_probabilities_treatment\u001b[38;5;241m.\u001b[39mcopy()\n\u001b[0;32m      3\u001b[0m df_cluster_info_int1 \u001b[38;5;241m=\u001b[39m df_cluster_info\u001b[38;5;241m.\u001b[39mcopy()\n\u001b[1;32m----> 4\u001b[0m df_simulaciones_info_int_1 \u001b[38;5;241m=\u001b[39m \u001b[43mdf_simulaciones_info\u001b[49m\u001b[38;5;241;43m.\u001b[39;49m\u001b[43mcopy\u001b[49m\u001b[43m(\u001b[49m\u001b[43m)\u001b[49m\n",
      "File \u001b[1;32mc:\\Users\\7coto\\AppData\\Local\\Programs\\Python\\Python38\\lib\\site-packages\\pandas\\core\\generic.py:6452\u001b[0m, in \u001b[0;36mNDFrame.copy\u001b[1;34m(self, deep)\u001b[0m\n\u001b[0;32m   6342\u001b[0m \u001b[38;5;129m@final\u001b[39m\n\u001b[0;32m   6343\u001b[0m \u001b[38;5;28;01mdef\u001b[39;00m \u001b[38;5;21mcopy\u001b[39m(\u001b[38;5;28mself\u001b[39m: NDFrameT, deep: bool_t \u001b[38;5;241m|\u001b[39m \u001b[38;5;28;01mNone\u001b[39;00m \u001b[38;5;241m=\u001b[39m \u001b[38;5;28;01mTrue\u001b[39;00m) \u001b[38;5;241m-\u001b[39m\u001b[38;5;241m>\u001b[39m NDFrameT:\n\u001b[0;32m   6344\u001b[0m \u001b[38;5;250m    \u001b[39m\u001b[38;5;124;03m\"\"\"\u001b[39;00m\n\u001b[0;32m   6345\u001b[0m \u001b[38;5;124;03m    Make a copy of this object's indices and data.\u001b[39;00m\n\u001b[0;32m   6346\u001b[0m \n\u001b[1;32m   (...)\u001b[0m\n\u001b[0;32m   6450\u001b[0m \u001b[38;5;124;03m    dtype: object\u001b[39;00m\n\u001b[0;32m   6451\u001b[0m \u001b[38;5;124;03m    \"\"\"\u001b[39;00m\n\u001b[1;32m-> 6452\u001b[0m     data \u001b[38;5;241m=\u001b[39m \u001b[38;5;28;43mself\u001b[39;49m\u001b[38;5;241;43m.\u001b[39;49m\u001b[43m_mgr\u001b[49m\u001b[38;5;241;43m.\u001b[39;49m\u001b[43mcopy\u001b[49m\u001b[43m(\u001b[49m\u001b[43mdeep\u001b[49m\u001b[38;5;241;43m=\u001b[39;49m\u001b[43mdeep\u001b[49m\u001b[43m)\u001b[49m\n\u001b[0;32m   6453\u001b[0m     \u001b[38;5;28mself\u001b[39m\u001b[38;5;241m.\u001b[39m_clear_item_cache()\n\u001b[0;32m   6454\u001b[0m     \u001b[38;5;28;01mreturn\u001b[39;00m \u001b[38;5;28mself\u001b[39m\u001b[38;5;241m.\u001b[39m_constructor(data)\u001b[38;5;241m.\u001b[39m__finalize__(\u001b[38;5;28mself\u001b[39m, method\u001b[38;5;241m=\u001b[39m\u001b[38;5;124m\"\u001b[39m\u001b[38;5;124mcopy\u001b[39m\u001b[38;5;124m\"\u001b[39m)\n",
      "File \u001b[1;32mc:\\Users\\7coto\\AppData\\Local\\Programs\\Python\\Python38\\lib\\site-packages\\pandas\\core\\internals\\managers.py:653\u001b[0m, in \u001b[0;36mBaseBlockManager.copy\u001b[1;34m(self, deep)\u001b[0m\n\u001b[0;32m    650\u001b[0m \u001b[38;5;28;01melse\u001b[39;00m:\n\u001b[0;32m    651\u001b[0m     new_axes \u001b[38;5;241m=\u001b[39m \u001b[38;5;28mlist\u001b[39m(\u001b[38;5;28mself\u001b[39m\u001b[38;5;241m.\u001b[39maxes)\n\u001b[1;32m--> 653\u001b[0m res \u001b[38;5;241m=\u001b[39m \u001b[38;5;28;43mself\u001b[39;49m\u001b[38;5;241;43m.\u001b[39;49m\u001b[43mapply\u001b[49m\u001b[43m(\u001b[49m\u001b[38;5;124;43m\"\u001b[39;49m\u001b[38;5;124;43mcopy\u001b[39;49m\u001b[38;5;124;43m\"\u001b[39;49m\u001b[43m,\u001b[49m\u001b[43m \u001b[49m\u001b[43mdeep\u001b[49m\u001b[38;5;241;43m=\u001b[39;49m\u001b[43mdeep\u001b[49m\u001b[43m)\u001b[49m\n\u001b[0;32m    654\u001b[0m res\u001b[38;5;241m.\u001b[39maxes \u001b[38;5;241m=\u001b[39m new_axes\n\u001b[0;32m    656\u001b[0m \u001b[38;5;28;01mif\u001b[39;00m \u001b[38;5;28mself\u001b[39m\u001b[38;5;241m.\u001b[39mndim \u001b[38;5;241m>\u001b[39m \u001b[38;5;241m1\u001b[39m:\n\u001b[0;32m    657\u001b[0m     \u001b[38;5;66;03m# Avoid needing to re-compute these\u001b[39;00m\n",
      "File \u001b[1;32mc:\\Users\\7coto\\AppData\\Local\\Programs\\Python\\Python38\\lib\\site-packages\\pandas\\core\\internals\\managers.py:352\u001b[0m, in \u001b[0;36mBaseBlockManager.apply\u001b[1;34m(self, f, align_keys, **kwargs)\u001b[0m\n\u001b[0;32m    350\u001b[0m         applied \u001b[38;5;241m=\u001b[39m b\u001b[38;5;241m.\u001b[39mapply(f, \u001b[38;5;241m*\u001b[39m\u001b[38;5;241m*\u001b[39mkwargs)\n\u001b[0;32m    351\u001b[0m     \u001b[38;5;28;01melse\u001b[39;00m:\n\u001b[1;32m--> 352\u001b[0m         applied \u001b[38;5;241m=\u001b[39m \u001b[38;5;28;43mgetattr\u001b[39;49m\u001b[43m(\u001b[49m\u001b[43mb\u001b[49m\u001b[43m,\u001b[49m\u001b[43m \u001b[49m\u001b[43mf\u001b[49m\u001b[43m)\u001b[49m\u001b[43m(\u001b[49m\u001b[38;5;241;43m*\u001b[39;49m\u001b[38;5;241;43m*\u001b[39;49m\u001b[43mkwargs\u001b[49m\u001b[43m)\u001b[49m\n\u001b[0;32m    353\u001b[0m     result_blocks \u001b[38;5;241m=\u001b[39m extend_blocks(applied, result_blocks)\n\u001b[0;32m    355\u001b[0m out \u001b[38;5;241m=\u001b[39m \u001b[38;5;28mtype\u001b[39m(\u001b[38;5;28mself\u001b[39m)\u001b[38;5;241m.\u001b[39mfrom_blocks(result_blocks, \u001b[38;5;28mself\u001b[39m\u001b[38;5;241m.\u001b[39maxes)\n",
      "File \u001b[1;32mc:\\Users\\7coto\\AppData\\Local\\Programs\\Python\\Python38\\lib\\site-packages\\pandas\\core\\internals\\blocks.py:540\u001b[0m, in \u001b[0;36mBlock.copy\u001b[1;34m(self, deep)\u001b[0m\n\u001b[0;32m    538\u001b[0m refs: BlockValuesRefs \u001b[38;5;241m|\u001b[39m \u001b[38;5;28;01mNone\u001b[39;00m\n\u001b[0;32m    539\u001b[0m \u001b[38;5;28;01mif\u001b[39;00m deep:\n\u001b[1;32m--> 540\u001b[0m     values \u001b[38;5;241m=\u001b[39m \u001b[43mvalues\u001b[49m\u001b[38;5;241;43m.\u001b[39;49m\u001b[43mcopy\u001b[49m\u001b[43m(\u001b[49m\u001b[43m)\u001b[49m\n\u001b[0;32m    541\u001b[0m     refs \u001b[38;5;241m=\u001b[39m \u001b[38;5;28;01mNone\u001b[39;00m\n\u001b[0;32m    542\u001b[0m \u001b[38;5;28;01melse\u001b[39;00m:\n",
      "\u001b[1;31mKeyboardInterrupt\u001b[0m: "
     ]
    }
   ],
   "source": [
    "df_rut_info_int1 = df_rut_info.copy()\n",
    "df_probabilities_treatment_int1 = df_probabilities_treatment.copy()\n",
    "df_cluster_info_int1 = df_cluster_info.copy()\n",
    "df_simulaciones_info_int_1 = df_simulaciones_info.copy()"
   ]
  },
  {
   "cell_type": "code",
   "execution_count": null,
   "metadata": {},
   "outputs": [],
   "source": [
    "df_estimar_elasticidad_int1 = df_estimar_elasticidad.copy()"
   ]
  },
  {
   "cell_type": "code",
   "execution_count": null,
   "metadata": {},
   "outputs": [],
   "source": [
    "df_rut_info_int1['categoria_clusterizacion_numerica'] = 0"
   ]
  },
  {
   "cell_type": "markdown",
   "metadata": {},
   "source": [
    "## Precios intuitivo 1"
   ]
  },
  {
   "cell_type": "code",
   "execution_count": null,
   "metadata": {},
   "outputs": [],
   "source": [
    "df_estimar_elasticidad_int1['categoria_clusterizacion_numerica'] = 0"
   ]
  },
  {
   "cell_type": "code",
   "execution_count": null,
   "metadata": {},
   "outputs": [],
   "source": [
    "def function_estimar_elasticidad_int1(df):\n",
    "    \"\"\"\n",
    "    Assigns random prices to clients in a single cluster and estimates the probability \n",
    "    of acceptance for each price using logistic regression.\n",
    "\n",
    "    Parameters:\n",
    "    - df (pd.DataFrame): DataFrame containing client data with at least 'venta', \n",
    "                         'Tasa_Simulado', and 'rut' columns.\n",
    "\n",
    "    Returns:\n",
    "    - pd.DataFrame: DataFrame with 'rut', 'price_set', and 'acceptance_probability'.\n",
    "    \"\"\"\n",
    "    \n",
    "    # Check if the DataFrame is empty\n",
    "    if df.empty:\n",
    "        print(\"The input DataFrame is empty.\")\n",
    "        return pd.DataFrame(columns=['rut', 'price_set', 'acceptance_probability'])\n",
    "    \n",
    "    # Clean the data: Remove rows with NaN or infinite values in relevant columns\n",
    "    df_clean = df.replace([np.inf, -np.inf], np.nan).dropna(\n",
    "        subset=['venta', 'Tasa_Simulado']\n",
    "    )\n",
    "    \n",
    "    # Ensure there are enough data points to fit the model\n",
    "    if df_clean.shape[0] < 10:\n",
    "        print(\"Not enough data to fit the logistic regression model.\")\n",
    "        return pd.DataFrame(columns=['rut', 'price_set', 'acceptance_probability'])\n",
    "    \n",
    "    # Define the dependent and independent variables\n",
    "    y = df_clean['venta']\n",
    "    X = df_clean[['Tasa_Simulado']]\n",
    "    \n",
    "    # Add a constant term for the intercept\n",
    "    X = sm.add_constant(X)\n",
    "    \n",
    "    # Fit the logistic regression model\n",
    "    try:\n",
    "        logit_model = sm.Logit(y, X)\n",
    "        result = logit_model.fit(disp=0)\n",
    "    except Exception as e:\n",
    "        print(f\"Logistic regression failed to converge: {e}\")\n",
    "        return pd.DataFrame(columns=['rut', 'price_set', 'acceptance_probability'])\n",
    "    \n",
    "    # Determine the range of prices from the data\n",
    "    tasa_min = df_clean['Tasa_Simulado'].min()\n",
    "    tasa_max = df_clean['Tasa_Simulado'].max()\n",
    "\n",
    "    df_clean = df_clean.drop_duplicates(subset='rut')\n",
    "    \n",
    "    # Assign a random price to each client within the observed range\n",
    "    np.random.seed(42)  # For reproducibility; remove or change seed as needed\n",
    "    df_clean['tasa_optima'] = np.random.uniform(low=tasa_min, high=tasa_max, size=df_clean.shape[0])\n",
    "\n",
    "    \n",
    "    # Prepare the data for prediction by adding a constant term\n",
    "    X_new = sm.add_constant(df_clean['tasa_optima'])\n",
    "    \n",
    "    # Predict the acceptance probability using the logistic model\n",
    "    df_clean['probabilidad_aceptacion_optima'] = result.predict(X_new)\n",
    "    \n",
    "    # Ensure probabilities are within [0, 1]\n",
    "    df_clean['probabilidad_aceptacion_optima'] = df_clean['probabilidad_aceptacion_optima'].clip(0, 1)\n",
    "    \n",
    "    # Select the required columns to return\n",
    "    result_df = df_clean[['rut', 'tasa_optima', 'probabilidad_aceptacion_optima']].copy()\n",
    "    \n",
    "    return result_df"
   ]
  },
  {
   "cell_type": "code",
   "execution_count": null,
   "metadata": {},
   "outputs": [],
   "source": [
    "prices = function_estimar_elasticidad_int1(df_estimar_elasticidad_int1)"
   ]
  },
  {
   "cell_type": "code",
   "execution_count": null,
   "metadata": {},
   "outputs": [
    {
     "data": {
      "text/html": [
       "<div>\n",
       "<style scoped>\n",
       "    .dataframe tbody tr th:only-of-type {\n",
       "        vertical-align: middle;\n",
       "    }\n",
       "\n",
       "    .dataframe tbody tr th {\n",
       "        vertical-align: top;\n",
       "    }\n",
       "\n",
       "    .dataframe thead th {\n",
       "        text-align: right;\n",
       "    }\n",
       "</style>\n",
       "<table border=\"1\" class=\"dataframe\">\n",
       "  <thead>\n",
       "    <tr style=\"text-align: right;\">\n",
       "      <th></th>\n",
       "      <th>rut</th>\n",
       "      <th>tasa_optima</th>\n",
       "      <th>probabilidad_aceptacion_optima</th>\n",
       "    </tr>\n",
       "  </thead>\n",
       "  <tbody>\n",
       "    <tr>\n",
       "      <th>0</th>\n",
       "      <td>1</td>\n",
       "      <td>1.561810</td>\n",
       "      <td>0.383343</td>\n",
       "    </tr>\n",
       "    <tr>\n",
       "      <th>15</th>\n",
       "      <td>2</td>\n",
       "      <td>2.426071</td>\n",
       "      <td>0.117775</td>\n",
       "    </tr>\n",
       "    <tr>\n",
       "      <th>25</th>\n",
       "      <td>3</td>\n",
       "      <td>2.097991</td>\n",
       "      <td>0.193142</td>\n",
       "    </tr>\n",
       "    <tr>\n",
       "      <th>45</th>\n",
       "      <td>4</td>\n",
       "      <td>1.897988</td>\n",
       "      <td>0.254692</td>\n",
       "    </tr>\n",
       "    <tr>\n",
       "      <th>70</th>\n",
       "      <td>5</td>\n",
       "      <td>1.234028</td>\n",
       "      <td>0.526982</td>\n",
       "    </tr>\n",
       "    <tr>\n",
       "      <th>...</th>\n",
       "      <td>...</td>\n",
       "      <td>...</td>\n",
       "      <td>...</td>\n",
       "    </tr>\n",
       "    <tr>\n",
       "      <th>8517002</th>\n",
       "      <td>543647</td>\n",
       "      <td>2.137431</td>\n",
       "      <td>0.182437</td>\n",
       "    </tr>\n",
       "    <tr>\n",
       "      <th>8517010</th>\n",
       "      <td>543648</td>\n",
       "      <td>1.223011</td>\n",
       "      <td>0.531868</td>\n",
       "    </tr>\n",
       "    <tr>\n",
       "      <th>8517028</th>\n",
       "      <td>543649</td>\n",
       "      <td>1.562318</td>\n",
       "      <td>0.383129</td>\n",
       "    </tr>\n",
       "    <tr>\n",
       "      <th>8517042</th>\n",
       "      <td>543650</td>\n",
       "      <td>1.341532</td>\n",
       "      <td>0.479184</td>\n",
       "    </tr>\n",
       "    <tr>\n",
       "      <th>8517064</th>\n",
       "      <td>543651</td>\n",
       "      <td>1.343903</td>\n",
       "      <td>0.478131</td>\n",
       "    </tr>\n",
       "  </tbody>\n",
       "</table>\n",
       "<p>542904 rows × 3 columns</p>\n",
       "</div>"
      ],
      "text/plain": [
       "            rut  tasa_optima  probabilidad_aceptacion_optima\n",
       "0             1     1.561810                        0.383343\n",
       "15            2     2.426071                        0.117775\n",
       "25            3     2.097991                        0.193142\n",
       "45            4     1.897988                        0.254692\n",
       "70            5     1.234028                        0.526982\n",
       "...         ...          ...                             ...\n",
       "8517002  543647     2.137431                        0.182437\n",
       "8517010  543648     1.223011                        0.531868\n",
       "8517028  543649     1.562318                        0.383129\n",
       "8517042  543650     1.341532                        0.479184\n",
       "8517064  543651     1.343903                        0.478131\n",
       "\n",
       "[542904 rows x 3 columns]"
      ]
     },
     "execution_count": 171,
     "metadata": {},
     "output_type": "execute_result"
    }
   ],
   "source": [
    "prices"
   ]
  },
  {
   "cell_type": "markdown",
   "metadata": {},
   "source": [
    "## Tratamientos intuitivo 1"
   ]
  },
  {
   "cell_type": "markdown",
   "metadata": {},
   "source": [
    "### Estimacion de respuesta"
   ]
  },
  {
   "cell_type": "code",
   "execution_count": null,
   "metadata": {},
   "outputs": [],
   "source": [
    "df_probabilities_treatment_int1 = df_probabilities_treatment_int1[(df_probabilities_treatment_int1['Tratamiento'] == '\tEjecutivo=0, Correos=4')|(df_probabilities_treatment_int1['Tratamiento'] == '\tEjecutivo=1, Correos=2')]"
   ]
  },
  {
   "cell_type": "code",
   "execution_count": null,
   "metadata": {},
   "outputs": [],
   "source": [
    "tratamiento_map = {  # Mapeo de los tratamientos específicos a identificadores numéricos\n",
    "    \"Ejecutivo=0, Correos=0\": 1, \"Ejecutivo=0, Correos=1\": 2,\n",
    "    \"Ejecutivo=0, Correos=2\": 3, \"Ejecutivo=0, Correos=3\": 4,\n",
    "    \"Ejecutivo=0, Correos=4\": 5, \"Ejecutivo=1, Correos=0\": 6,\n",
    "    \"Ejecutivo=1, Correos=1\": 7, \"Ejecutivo=1, Correos=2\": 8\n",
    "}\n",
    "df_probabilities_int1 = df_probabilities_treatment_int1\n",
    "df_probabilities_int1['tratamiento_id'] = df_probabilities_int1['Tratamiento'].map(tratamiento_map)"
   ]
  },
  {
   "cell_type": "code",
   "execution_count": null,
   "metadata": {},
   "outputs": [],
   "source": [
    "def function_estimar_respuesta_a_tratamiento(df_estimar_elasticidad, df_simulaciones_info): #df1 es df_estimar_elasticidad y df2 es df_simulaciones_info\n",
    "    # Paso 1: Preparación de datos y mapeo de clusters\n",
    "    # Eliminar duplicados en 'df1' para tener un valor único de 'categoria_clusterizacion_numerica' por cada 'rut'.\n",
    "    df_estimar_elasticidad_unique = df_estimar_elasticidad.drop_duplicates(subset='rut')\n",
    "\n",
    "    # Crear un mapeo de 'rut' a 'categoria_clusterizacion_numerica' para asociar cada cliente a su cluster numérico.\n",
    "    rut_cluster_map = df_estimar_elasticidad_unique.set_index('rut')['categoria_clusterizacion_numerica']\n",
    "\n",
    "    # Mapear la categoría de cluster a cada 'rut' en 'df2' usando el mapeo creado\n",
    "    df_simulaciones_info['categoria_clusterizacion_numerica'] = df_simulaciones_info['rut'].map(rut_cluster_map)\n",
    "\n",
    "    # Eliminar filas donde 'categoria_clusterizacion_numerica' es nulo, es decir, aquellos 'rut' sin mapeo de cluster.\n",
    "    df_simulaciones_info = df_simulaciones_info.dropna(subset=['categoria_clusterizacion_numerica'])\n",
    "\n",
    "    # Conversión de tipos de datos\n",
    "    # Convertir 'categoria_clusterizacion_numerica' a entero para garantizar un tipo de dato consistente.\n",
    "    df_simulaciones_info['categoria_clusterizacion_numerica'] = df_simulaciones_info['categoria_clusterizacion_numerica'].astype(int)\n",
    "\n",
    "    # Convertir 'simulo' a numérico, reemplazando valores nulos por 0 y asegurando que sea un tipo de dato entero.\n",
    "    df_simulaciones_info['simulo'] = pd.to_numeric(df_simulaciones_info['simulo'], errors='coerce').fillna(0).astype(int)\n",
    "\n",
    "    # Convertir 'Tratamiento' a tipo de categoría para optimizar espacio y realizar operaciones categóricas.\n",
    "    df_simulaciones_info['Tratamiento'] = df_simulaciones_info['Tratamiento'].astype('category')\n",
    "\n",
    "    # Paso 2: Calcular el caso total (entradas por tratamiento sin importar el valor de 'simulo')\n",
    "    # Agrupar por 'categoria_clusterizacion_numerica' y 'Tratamiento' para contar el número total de registros en cada combinación.\n",
    "    total_entries_per_cluster_treatment = df_simulaciones_info.groupby(['categoria_clusterizacion_numerica', 'Tratamiento']).size().reset_index(name='caso_total')\n",
    "\n",
    "    # Paso 3: Calcular el caso favorable (entradas por tratamiento cuando 'simulo' == 1)\n",
    "    # Filtrar filas donde 'simulo' es 1 (clientes que realizaron una simulación)\n",
    "    df_simulations = df_simulaciones_info[df_simulaciones_info['simulo'] == 1]\n",
    "\n",
    "    # Agrupar por 'categoria_clusterizacion_numerica' y 'Tratamiento' para contar el número de registros favorables (simulaciones).\n",
    "    favorable_entries_per_cluster_treatment = df_simulations.groupby(['categoria_clusterizacion_numerica', 'Tratamiento']).size().reset_index(name='caso_favorable')\n",
    "\n",
    "    # Paso 4: Calcular la probabilidad de simulación como caso favorable / caso total\n",
    "    # Realizar un merge entre 'total_entries_per_cluster_treatment' y 'favorable_entries_per_cluster_treatment' en las columnas de cluster y tratamiento.\n",
    "    df_probabilities = total_entries_per_cluster_treatment.merge(\n",
    "        favorable_entries_per_cluster_treatment,\n",
    "        on=['categoria_clusterizacion_numerica', 'Tratamiento'],\n",
    "        how='left'\n",
    "    )\n",
    "\n",
    "    # Llenar valores nulos en 'caso_favorable' con 0, asegurando que solo las columnas numéricas estén afectadas.\n",
    "    df_probabilities['caso_favorable'] = df_probabilities['caso_favorable'].fillna(0).astype(int)\n",
    "\n",
    "    # Asegurar que 'caso_total' sea de tipo entero para evitar inconsistencias en los conteos.\n",
    "    df_probabilities['caso_total'] = df_probabilities['caso_total'].astype(int)\n",
    "\n",
    "    # Calcular la probabilidad de simulación como el cociente entre 'caso_favorable' y 'caso_total'.\n",
    "    df_probabilities['probabilidad_simular'] = df_probabilities['caso_favorable'] / df_probabilities['caso_total']\n",
    "\n",
    "    # Organizar las columnas del DataFrame resultante para facilitar su análisis.\n",
    "    df_probabilities = df_probabilities[[\n",
    "        'categoria_clusterizacion_numerica',\n",
    "        'Tratamiento',\n",
    "        'probabilidad_simular',\n",
    "        'caso_favorable',\n",
    "        'caso_total'\n",
    "    ]]\n",
    "\n",
    "    # Mostrar el DataFrame resultante con la probabilidad de simulación calculada para cada combinación de cluster y tratamiento.\n",
    "    return df_probabilities\n"
   ]
  },
  {
   "cell_type": "code",
   "execution_count": null,
   "metadata": {},
   "outputs": [
    {
     "data": {
      "text/html": [
       "<div>\n",
       "<style scoped>\n",
       "    .dataframe tbody tr th:only-of-type {\n",
       "        vertical-align: middle;\n",
       "    }\n",
       "\n",
       "    .dataframe tbody tr th {\n",
       "        vertical-align: top;\n",
       "    }\n",
       "\n",
       "    .dataframe thead th {\n",
       "        text-align: right;\n",
       "    }\n",
       "</style>\n",
       "<table border=\"1\" class=\"dataframe\">\n",
       "  <thead>\n",
       "    <tr style=\"text-align: right;\">\n",
       "      <th></th>\n",
       "      <th>categoria_clusterizacion_numerica</th>\n",
       "      <th>Tratamiento</th>\n",
       "      <th>probabilidad_simular</th>\n",
       "      <th>caso_favorable</th>\n",
       "      <th>caso_total</th>\n",
       "    </tr>\n",
       "  </thead>\n",
       "  <tbody>\n",
       "    <tr>\n",
       "      <th>0</th>\n",
       "      <td>0</td>\n",
       "      <td>Ejecutivo=0, Correos=0</td>\n",
       "      <td>0.142747</td>\n",
       "      <td>393437</td>\n",
       "      <td>2756192</td>\n",
       "    </tr>\n",
       "    <tr>\n",
       "      <th>1</th>\n",
       "      <td>0</td>\n",
       "      <td>Ejecutivo=0, Correos=1</td>\n",
       "      <td>0.154606</td>\n",
       "      <td>461210</td>\n",
       "      <td>2983137</td>\n",
       "    </tr>\n",
       "    <tr>\n",
       "      <th>2</th>\n",
       "      <td>0</td>\n",
       "      <td>Ejecutivo=0, Correos=2</td>\n",
       "      <td>0.166960</td>\n",
       "      <td>383438</td>\n",
       "      <td>2296582</td>\n",
       "    </tr>\n",
       "    <tr>\n",
       "      <th>3</th>\n",
       "      <td>0</td>\n",
       "      <td>Ejecutivo=0, Correos=3</td>\n",
       "      <td>0.172610</td>\n",
       "      <td>990544</td>\n",
       "      <td>5738616</td>\n",
       "    </tr>\n",
       "    <tr>\n",
       "      <th>4</th>\n",
       "      <td>0</td>\n",
       "      <td>Ejecutivo=0, Correos=4</td>\n",
       "      <td>0.175640</td>\n",
       "      <td>1612628</td>\n",
       "      <td>9181465</td>\n",
       "    </tr>\n",
       "    <tr>\n",
       "      <th>5</th>\n",
       "      <td>0</td>\n",
       "      <td>Ejecutivo=1, Correos=0</td>\n",
       "      <td>0.342493</td>\n",
       "      <td>531665</td>\n",
       "      <td>1552340</td>\n",
       "    </tr>\n",
       "    <tr>\n",
       "      <th>6</th>\n",
       "      <td>0</td>\n",
       "      <td>Ejecutivo=1, Correos=1</td>\n",
       "      <td>0.353799</td>\n",
       "      <td>595294</td>\n",
       "      <td>1682576</td>\n",
       "    </tr>\n",
       "    <tr>\n",
       "      <th>7</th>\n",
       "      <td>0</td>\n",
       "      <td>Ejecutivo=1, Correos=2</td>\n",
       "      <td>0.366161</td>\n",
       "      <td>3548122</td>\n",
       "      <td>9690058</td>\n",
       "    </tr>\n",
       "  </tbody>\n",
       "</table>\n",
       "</div>"
      ],
      "text/plain": [
       "   categoria_clusterizacion_numerica             Tratamiento  \\\n",
       "0                                  0  Ejecutivo=0, Correos=0   \n",
       "1                                  0  Ejecutivo=0, Correos=1   \n",
       "2                                  0  Ejecutivo=0, Correos=2   \n",
       "3                                  0  Ejecutivo=0, Correos=3   \n",
       "4                                  0  Ejecutivo=0, Correos=4   \n",
       "5                                  0  Ejecutivo=1, Correos=0   \n",
       "6                                  0  Ejecutivo=1, Correos=1   \n",
       "7                                  0  Ejecutivo=1, Correos=2   \n",
       "\n",
       "   probabilidad_simular  caso_favorable  caso_total  \n",
       "0              0.142747          393437     2756192  \n",
       "1              0.154606          461210     2983137  \n",
       "2              0.166960          383438     2296582  \n",
       "3              0.172610          990544     5738616  \n",
       "4              0.175640         1612628     9181465  \n",
       "5              0.342493          531665     1552340  \n",
       "6              0.353799          595294     1682576  \n",
       "7              0.366161         3548122     9690058  "
      ]
     },
     "execution_count": 175,
     "metadata": {},
     "output_type": "execute_result"
    }
   ],
   "source": [
    "df_probabilities = function_estimar_respuesta_a_tratamiento(df_estimar_elasticidad_int1, df_simulaciones_info_int_1)\n",
    "df_probabilities"
   ]
  },
  {
   "cell_type": "markdown",
   "metadata": {},
   "source": [
    "### Asignación"
   ]
  },
  {
   "cell_type": "code",
   "execution_count": null,
   "metadata": {},
   "outputs": [],
   "source": [
    "# Assign default treatment value of 5 to all rows\n",
    "df_rut_info_int1['assigned_treatment'] = 5\n",
    "\n",
    "# Randomly select 205,000 unique indices without replacement\n",
    "random_indices = df_rut_info_int1.sample(n=205000, random_state=42).index\n",
    "\n",
    "# Assign treatment value of 8 to the selected random rows\n",
    "df_rut_info_int1.loc[random_indices, 'assigned_treatment'] = 8\n",
    "\n",
    "# Retrieve the required probabilities from df_probabilities\n",
    "prob_for_5 = df_probabilities.loc[4, 'probabilidad_simular']\n",
    "prob_for_8 = df_probabilities.loc[7, 'probabilidad_simular']\n",
    "\n",
    "# Add the new column based on 'assigned_treatment'\n",
    "df_rut_info_int1['probabilidad_de_simular'] = df_rut_info_int1['assigned_treatment'].map({\n",
    "    5: prob_for_5,\n",
    "    8: prob_for_8\n",
    "})\n"
   ]
  },
  {
   "cell_type": "code",
   "execution_count": null,
   "metadata": {},
   "outputs": [
    {
     "data": {
      "text/html": [
       "<div>\n",
       "<style scoped>\n",
       "    .dataframe tbody tr th:only-of-type {\n",
       "        vertical-align: middle;\n",
       "    }\n",
       "\n",
       "    .dataframe tbody tr th {\n",
       "        vertical-align: top;\n",
       "    }\n",
       "\n",
       "    .dataframe thead th {\n",
       "        text-align: right;\n",
       "    }\n",
       "</style>\n",
       "<table border=\"1\" class=\"dataframe\">\n",
       "  <thead>\n",
       "    <tr style=\"text-align: right;\">\n",
       "      <th></th>\n",
       "      <th>rut</th>\n",
       "      <th>tasa_optima</th>\n",
       "      <th>probabilidad_aceptacion_optima</th>\n",
       "    </tr>\n",
       "  </thead>\n",
       "  <tbody>\n",
       "    <tr>\n",
       "      <th>0</th>\n",
       "      <td>1</td>\n",
       "      <td>1.561810</td>\n",
       "      <td>0.383343</td>\n",
       "    </tr>\n",
       "    <tr>\n",
       "      <th>15</th>\n",
       "      <td>2</td>\n",
       "      <td>2.426071</td>\n",
       "      <td>0.117775</td>\n",
       "    </tr>\n",
       "    <tr>\n",
       "      <th>25</th>\n",
       "      <td>3</td>\n",
       "      <td>2.097991</td>\n",
       "      <td>0.193142</td>\n",
       "    </tr>\n",
       "    <tr>\n",
       "      <th>45</th>\n",
       "      <td>4</td>\n",
       "      <td>1.897988</td>\n",
       "      <td>0.254692</td>\n",
       "    </tr>\n",
       "    <tr>\n",
       "      <th>70</th>\n",
       "      <td>5</td>\n",
       "      <td>1.234028</td>\n",
       "      <td>0.526982</td>\n",
       "    </tr>\n",
       "    <tr>\n",
       "      <th>...</th>\n",
       "      <td>...</td>\n",
       "      <td>...</td>\n",
       "      <td>...</td>\n",
       "    </tr>\n",
       "    <tr>\n",
       "      <th>8517002</th>\n",
       "      <td>543647</td>\n",
       "      <td>2.137431</td>\n",
       "      <td>0.182437</td>\n",
       "    </tr>\n",
       "    <tr>\n",
       "      <th>8517010</th>\n",
       "      <td>543648</td>\n",
       "      <td>1.223011</td>\n",
       "      <td>0.531868</td>\n",
       "    </tr>\n",
       "    <tr>\n",
       "      <th>8517028</th>\n",
       "      <td>543649</td>\n",
       "      <td>1.562318</td>\n",
       "      <td>0.383129</td>\n",
       "    </tr>\n",
       "    <tr>\n",
       "      <th>8517042</th>\n",
       "      <td>543650</td>\n",
       "      <td>1.341532</td>\n",
       "      <td>0.479184</td>\n",
       "    </tr>\n",
       "    <tr>\n",
       "      <th>8517064</th>\n",
       "      <td>543651</td>\n",
       "      <td>1.343903</td>\n",
       "      <td>0.478131</td>\n",
       "    </tr>\n",
       "  </tbody>\n",
       "</table>\n",
       "<p>542904 rows × 3 columns</p>\n",
       "</div>"
      ],
      "text/plain": [
       "            rut  tasa_optima  probabilidad_aceptacion_optima\n",
       "0             1     1.561810                        0.383343\n",
       "15            2     2.426071                        0.117775\n",
       "25            3     2.097991                        0.193142\n",
       "45            4     1.897988                        0.254692\n",
       "70            5     1.234028                        0.526982\n",
       "...         ...          ...                             ...\n",
       "8517002  543647     2.137431                        0.182437\n",
       "8517010  543648     1.223011                        0.531868\n",
       "8517028  543649     1.562318                        0.383129\n",
       "8517042  543650     1.341532                        0.479184\n",
       "8517064  543651     1.343903                        0.478131\n",
       "\n",
       "[542904 rows x 3 columns]"
      ]
     },
     "execution_count": 177,
     "metadata": {},
     "output_type": "execute_result"
    }
   ],
   "source": [
    "prices"
   ]
  },
  {
   "cell_type": "code",
   "execution_count": null,
   "metadata": {},
   "outputs": [],
   "source": [
    "assigned_treatments_int1 = pd.merge(df_rut_info_int1, prices, on='rut', how='left')"
   ]
  },
  {
   "cell_type": "code",
   "execution_count": null,
   "metadata": {},
   "outputs": [],
   "source": [
    "df_cluster_info_int1_csv = df_estimar_elasticidad_int1.groupby('categoria_clusterizacion_numerica').agg({\n",
    "'Monto_Simulado_mean': 'mean',\n",
    "'Plazo_Simulado_mean': 'mean',\n",
    "'Plazo_Simulado_min': 'min',\n",
    "'Plazo_Simulado_max': 'max',\n",
    "'Plazo_Simulado_mode': lambda x: x.mode().iloc[0] if not x.mode().empty else np.nan})"
   ]
  },
  {
   "cell_type": "code",
   "execution_count": null,
   "metadata": {},
   "outputs": [],
   "source": [
    "assigned_treatments_int1 = assigned_treatments_int1.rename(columns={'categoria_clusterizacion_numerica': 'cluster'})"
   ]
  },
  {
   "cell_type": "code",
   "execution_count": null,
   "metadata": {},
   "outputs": [
    {
     "name": "stdout",
     "output_type": "stream",
     "text": [
      "CSV file saved in folder: assigned_treatments_intuitivo_1/assignation_20241116_175536\\assigned_treatments_intuitivo1.csv\n"
     ]
    }
   ],
   "source": [
    "import os\n",
    "from datetime import datetime\n",
    "\n",
    "# Crear una carpeta con un nombre basado en la fecha y hora actual\n",
    "# 'strftime' genera un timestamp en el formato \"YYYYMMDD_HHMMSS\" para asegurar nombres de carpeta únicos.\n",
    "timestamp = datetime.now().strftime(\"%Y%m%d_%H%M%S\")\n",
    "folder_name = f\"assigned_treatments_intuitivo_1/assignation_{timestamp}\"\n",
    "os.makedirs(folder_name, exist_ok=True)  # Crear la carpeta; 'exist_ok=True' evita errores si la carpeta ya existe.\n",
    "\n",
    "# Definir la ruta del archivo CSV dentro de la nueva carpeta\n",
    "output_path = os.path.join(folder_name, 'assigned_treatments_intuitivo1.csv')\n",
    "output_path_cluster = os.path.join(folder_name, 'cluster_info_intuitivo1.csv')\n",
    "\n",
    "# Guardar el DataFrame 'df_assigned' con las columnas seleccionadas en un archivo CSV\n",
    "# Se incluyen las columnas clave: 'rut', 'cluster', 'Probabilidad_No_Pago', 'RC', 'assigned_treatment',\n",
    "# 'probabilidad_de_simular', 'tasa_optima' y 'probabilidad_aceptacion_optima'.\n",
    "assigned_treatments_int1[['rut', 'cluster', 'Probabilidad_No_Pago', 'assigned_treatment', 'probabilidad_de_simular', 'tasa_optima',  'probabilidad_aceptacion_optima']].to_csv(output_path, index=False)\n",
    "df_cluster_info_int1_csv.to_csv(output_path_cluster, index=True)\n",
    "# Imprimir mensaje de confirmación con la ubicación del archivo CSV guardado\n",
    "print(f\"CSV file saved in folder: {output_path}\")"
   ]
  },
  {
   "cell_type": "markdown",
   "metadata": {},
   "source": [
    "# MODELO INTUITIVO 2"
   ]
  },
  {
   "cell_type": "markdown",
   "metadata": {},
   "source": [
    "- Enviar el mínimo de correos a todos (de forma aleatoria a quienes asignarles ejecutivos)\n",
    "- Precios aleatorios también"
   ]
  },
  {
   "cell_type": "code",
   "execution_count": null,
   "metadata": {},
   "outputs": [],
   "source": [
    "df_rut_info_int2 = df_rut_info.copy()\n",
    "df_probabilities_treatment_int2 = df_probabilities_treatment.copy()\n",
    "df_cluster_info_int2 = df_cluster_info.copy()\n",
    "df_simulaciones_info_int_2 = df_simulaciones_info.copy()"
   ]
  },
  {
   "cell_type": "code",
   "execution_count": null,
   "metadata": {},
   "outputs": [],
   "source": [
    "df_estimar_elasticidad_int2 = df_estimar_elasticidad.copy()"
   ]
  },
  {
   "cell_type": "code",
   "execution_count": null,
   "metadata": {},
   "outputs": [],
   "source": [
    "df_rut_info_int2['categoria_clusterizacion_numerica'] = 0"
   ]
  },
  {
   "cell_type": "markdown",
   "metadata": {},
   "source": [
    "## Precios intuitivo 2"
   ]
  },
  {
   "cell_type": "code",
   "execution_count": null,
   "metadata": {},
   "outputs": [],
   "source": [
    "df_estimar_elasticidad_int2['categoria_clusterizacion_numerica'] = 0"
   ]
  },
  {
   "cell_type": "code",
   "execution_count": null,
   "metadata": {},
   "outputs": [],
   "source": [
    "def function_estimar_elasticidad_int2(df):\n",
    "    \"\"\"\n",
    "    Assigns random prices to clients in a single cluster and estimates the probability \n",
    "    of acceptance for each price using logistic regression.\n",
    "\n",
    "    Parameters:\n",
    "    - df (pd.DataFrame): DataFrame containing client data with at least 'venta', \n",
    "                         'Tasa_Simulado', and 'rut' columns.\n",
    "\n",
    "    Returns:\n",
    "    - pd.DataFrame: DataFrame with 'rut', 'price_set', and 'acceptance_probability'.\n",
    "    \"\"\"\n",
    "    \n",
    "    # Check if the DataFrame is empty\n",
    "    if df.empty:\n",
    "        print(\"The input DataFrame is empty.\")\n",
    "        return pd.DataFrame(columns=['rut', 'price_set', 'acceptance_probability'])\n",
    "    \n",
    "    # Clean the data: Remove rows with NaN or infinite values in relevant columns\n",
    "    df_clean = df.replace([np.inf, -np.inf], np.nan).dropna(\n",
    "        subset=['venta', 'Tasa_Simulado']\n",
    "    )\n",
    "    \n",
    "    # Ensure there are enough data points to fit the model\n",
    "    if df_clean.shape[0] < 10:\n",
    "        print(\"Not enough data to fit the logistic regression model.\")\n",
    "        return pd.DataFrame(columns=['rut', 'price_set', 'acceptance_probability'])\n",
    "    \n",
    "    # Define the dependent and independent variables\n",
    "    y = df_clean['venta']\n",
    "    X = df_clean[['Tasa_Simulado']]\n",
    "    \n",
    "    # Add a constant term for the intercept\n",
    "    X = sm.add_constant(X)\n",
    "    \n",
    "    # Fit the logistic regression model\n",
    "    try:\n",
    "        logit_model = sm.Logit(y, X)\n",
    "        result = logit_model.fit(disp=0)\n",
    "    except Exception as e:\n",
    "        print(f\"Logistic regression failed to converge: {e}\")\n",
    "        return pd.DataFrame(columns=['rut', 'price_set', 'acceptance_probability'])\n",
    "    \n",
    "    # Determine the range of prices from the data\n",
    "    tasa_min = df_clean['Tasa_Simulado'].min()\n",
    "    tasa_max = df_clean['Tasa_Simulado'].max()\n",
    "\n",
    "    df_clean = df_clean.drop_duplicates(subset='rut')\n",
    "    \n",
    "    # Assign a random price to each client within the observed range\n",
    "    np.random.seed(42)  # For reproducibility; remove or change seed as needed\n",
    "    df_clean['tasa_optima'] = np.random.uniform(low=tasa_min, high=tasa_max, size=df_clean.shape[0])\n",
    "\n",
    "    \n",
    "    # Prepare the data for prediction by adding a constant term\n",
    "    X_new = sm.add_constant(df_clean['tasa_optima'])\n",
    "    \n",
    "    # Predict the acceptance probability using the logistic model\n",
    "    df_clean['probabilidad_aceptacion_optima'] = result.predict(X_new)\n",
    "    \n",
    "    # Ensure probabilities are within [0, 1]\n",
    "    df_clean['probabilidad_aceptacion_optima'] = df_clean['probabilidad_aceptacion_optima'].clip(0, 1)\n",
    "    \n",
    "    # Select the required columns to return\n",
    "    result_df = df_clean[['rut', 'tasa_optima', 'probabilidad_aceptacion_optima']].copy()\n",
    "    \n",
    "    return result_df"
   ]
  },
  {
   "cell_type": "code",
   "execution_count": null,
   "metadata": {},
   "outputs": [],
   "source": [
    "prices = function_estimar_elasticidad_int2(df_estimar_elasticidad_int2)"
   ]
  },
  {
   "cell_type": "markdown",
   "metadata": {},
   "source": [
    "## Tratamientos intuitivo 2"
   ]
  },
  {
   "cell_type": "markdown",
   "metadata": {},
   "source": [
    "### Estimacion de respuesta"
   ]
  },
  {
   "cell_type": "code",
   "execution_count": null,
   "metadata": {},
   "outputs": [],
   "source": [
    "df_probabilities_treatment_int2 = df_probabilities_treatment_int2[(df_probabilities_treatment_int2['Tratamiento'] == '\tEjecutivo=0, Correos=0')|(df_probabilities_treatment_int2['Tratamiento'] == '\tEjecutivo=1, Correos=0')]"
   ]
  },
  {
   "cell_type": "code",
   "execution_count": null,
   "metadata": {},
   "outputs": [],
   "source": [
    "tratamiento_map = {  # Mapeo de los tratamientos específicos a identificadores numéricos\n",
    "    \"Ejecutivo=0, Correos=0\": 1, \"Ejecutivo=0, Correos=1\": 2,\n",
    "    \"Ejecutivo=0, Correos=2\": 3, \"Ejecutivo=0, Correos=3\": 4,\n",
    "    \"Ejecutivo=0, Correos=4\": 5, \"Ejecutivo=1, Correos=0\": 6,\n",
    "    \"Ejecutivo=1, Correos=1\": 7, \"Ejecutivo=1, Correos=2\": 8\n",
    "}\n",
    "df_probabilities_int2 = df_probabilities_treatment_int2\n",
    "df_probabilities_int2['tratamiento_id'] = df_probabilities_int2['Tratamiento'].map(tratamiento_map)"
   ]
  },
  {
   "cell_type": "code",
   "execution_count": null,
   "metadata": {},
   "outputs": [],
   "source": [
    "def function_estimar_respuesta_a_tratamiento(df_estimar_elasticidad, df_simulaciones_info): #df1 es df_estimar_elasticidad y df2 es df_simulaciones_info\n",
    "    # Paso 1: Preparación de datos y mapeo de clusters\n",
    "    # Eliminar duplicados en 'df1' para tener un valor único de 'categoria_clusterizacion_numerica' por cada 'rut'.\n",
    "    df_estimar_elasticidad_unique = df_estimar_elasticidad.drop_duplicates(subset='rut')\n",
    "\n",
    "    # Crear un mapeo de 'rut' a 'categoria_clusterizacion_numerica' para asociar cada cliente a su cluster numérico.\n",
    "    rut_cluster_map = df_estimar_elasticidad_unique.set_index('rut')['categoria_clusterizacion_numerica']\n",
    "\n",
    "    # Mapear la categoría de cluster a cada 'rut' en 'df2' usando el mapeo creado\n",
    "    df_simulaciones_info['categoria_clusterizacion_numerica'] = df_simulaciones_info['rut'].map(rut_cluster_map)\n",
    "\n",
    "    # Eliminar filas donde 'categoria_clusterizacion_numerica' es nulo, es decir, aquellos 'rut' sin mapeo de cluster.\n",
    "    df_simulaciones_info = df_simulaciones_info.dropna(subset=['categoria_clusterizacion_numerica'])\n",
    "\n",
    "    # Conversión de tipos de datos\n",
    "    # Convertir 'categoria_clusterizacion_numerica' a entero para garantizar un tipo de dato consistente.\n",
    "    df_simulaciones_info['categoria_clusterizacion_numerica'] = df_simulaciones_info['categoria_clusterizacion_numerica'].astype(int)\n",
    "\n",
    "    # Convertir 'simulo' a numérico, reemplazando valores nulos por 0 y asegurando que sea un tipo de dato entero.\n",
    "    df_simulaciones_info['simulo'] = pd.to_numeric(df_simulaciones_info['simulo'], errors='coerce').fillna(0).astype(int)\n",
    "\n",
    "    # Convertir 'Tratamiento' a tipo de categoría para optimizar espacio y realizar operaciones categóricas.\n",
    "    df_simulaciones_info['Tratamiento'] = df_simulaciones_info['Tratamiento'].astype('category')\n",
    "\n",
    "    # Paso 2: Calcular el caso total (entradas por tratamiento sin importar el valor de 'simulo')\n",
    "    # Agrupar por 'categoria_clusterizacion_numerica' y 'Tratamiento' para contar el número total de registros en cada combinación.\n",
    "    total_entries_per_cluster_treatment = df_simulaciones_info.groupby(['categoria_clusterizacion_numerica', 'Tratamiento']).size().reset_index(name='caso_total')\n",
    "\n",
    "    # Paso 3: Calcular el caso favorable (entradas por tratamiento cuando 'simulo' == 1)\n",
    "    # Filtrar filas donde 'simulo' es 1 (clientes que realizaron una simulación)\n",
    "    df_simulations = df_simulaciones_info[df_simulaciones_info['simulo'] == 1]\n",
    "\n",
    "    # Agrupar por 'categoria_clusterizacion_numerica' y 'Tratamiento' para contar el número de registros favorables (simulaciones).\n",
    "    favorable_entries_per_cluster_treatment = df_simulations.groupby(['categoria_clusterizacion_numerica', 'Tratamiento']).size().reset_index(name='caso_favorable')\n",
    "\n",
    "    # Paso 4: Calcular la probabilidad de simulación como caso favorable / caso total\n",
    "    # Realizar un merge entre 'total_entries_per_cluster_treatment' y 'favorable_entries_per_cluster_treatment' en las columnas de cluster y tratamiento.\n",
    "    df_probabilities = total_entries_per_cluster_treatment.merge(\n",
    "        favorable_entries_per_cluster_treatment,\n",
    "        on=['categoria_clusterizacion_numerica', 'Tratamiento'],\n",
    "        how='left'\n",
    "    )\n",
    "\n",
    "    # Llenar valores nulos en 'caso_favorable' con 0, asegurando que solo las columnas numéricas estén afectadas.\n",
    "    df_probabilities['caso_favorable'] = df_probabilities['caso_favorable'].fillna(0).astype(int)\n",
    "\n",
    "    # Asegurar que 'caso_total' sea de tipo entero para evitar inconsistencias en los conteos.\n",
    "    df_probabilities['caso_total'] = df_probabilities['caso_total'].astype(int)\n",
    "\n",
    "    # Calcular la probabilidad de simulación como el cociente entre 'caso_favorable' y 'caso_total'.\n",
    "    df_probabilities['probabilidad_simular'] = df_probabilities['caso_favorable'] / df_probabilities['caso_total']\n",
    "\n",
    "    # Organizar las columnas del DataFrame resultante para facilitar su análisis.\n",
    "    df_probabilities = df_probabilities[[\n",
    "        'categoria_clusterizacion_numerica',\n",
    "        'Tratamiento',\n",
    "        'probabilidad_simular',\n",
    "        'caso_favorable',\n",
    "        'caso_total'\n",
    "    ]]\n",
    "\n",
    "    # Mostrar el DataFrame resultante con la probabilidad de simulación calculada para cada combinación de cluster y tratamiento.\n",
    "    return df_probabilities\n"
   ]
  },
  {
   "cell_type": "code",
   "execution_count": null,
   "metadata": {},
   "outputs": [],
   "source": [
    "df_probabilities = function_estimar_respuesta_a_tratamiento(df_estimar_elasticidad_int2, df_simulaciones_info_int_2)"
   ]
  },
  {
   "cell_type": "markdown",
   "metadata": {},
   "source": [
    "### Asignación"
   ]
  },
  {
   "cell_type": "code",
   "execution_count": null,
   "metadata": {},
   "outputs": [],
   "source": [
    "# Assign default treatment value of 1 to all rows\n",
    "df_rut_info_int2['assigned_treatment'] = 1\n",
    "\n",
    "# Randomly select 205,000 unique indices without replacement\n",
    "random_indices = df_rut_info_int2.sample(n=205000, random_state=42).index\n",
    "\n",
    "# Assign treatment value of 8 to the selected random rows\n",
    "df_rut_info_int2.loc[random_indices, 'assigned_treatment'] = 6\n",
    "\n",
    "# Retrieve the required probabilities from df_probabilities\n",
    "prob_for_1 = df_probabilities.loc[0, 'probabilidad_simular']\n",
    "prob_for_6 = df_probabilities.loc[5, 'probabilidad_simular']\n",
    "\n",
    "# Add the new column based on 'assigned_treatment'\n",
    "df_rut_info_int2['probabilidad_de_simular'] = df_rut_info_int2['assigned_treatment'].map({\n",
    "    1: prob_for_1,\n",
    "    6: prob_for_6\n",
    "})\n"
   ]
  },
  {
   "cell_type": "code",
   "execution_count": null,
   "metadata": {},
   "outputs": [],
   "source": [
    "assigned_treatments_int2 = pd.merge(df_rut_info_int2, prices, on='rut', how='left')"
   ]
  },
  {
   "cell_type": "code",
   "execution_count": null,
   "metadata": {},
   "outputs": [],
   "source": [
    "assigned_treatments_int2.rename(columns={'categoria_clusterizacion_numerica': 'cluster'}, inplace=True)"
   ]
  },
  {
   "cell_type": "code",
   "execution_count": null,
   "metadata": {},
   "outputs": [],
   "source": [
    "assigned_treatments_int2.rename(columns={'probabilidad_aceptacion_optima_x': 'probabilidad_aceptacion_optima', 'tasa_optima_x': 'tasa_optima'}, inplace=True)"
   ]
  },
  {
   "cell_type": "code",
   "execution_count": null,
   "metadata": {},
   "outputs": [
    {
     "data": {
      "text/html": [
       "<div>\n",
       "<style scoped>\n",
       "    .dataframe tbody tr th:only-of-type {\n",
       "        vertical-align: middle;\n",
       "    }\n",
       "\n",
       "    .dataframe tbody tr th {\n",
       "        vertical-align: top;\n",
       "    }\n",
       "\n",
       "    .dataframe thead th {\n",
       "        text-align: right;\n",
       "    }\n",
       "</style>\n",
       "<table border=\"1\" class=\"dataframe\">\n",
       "  <thead>\n",
       "    <tr style=\"text-align: right;\">\n",
       "      <th></th>\n",
       "      <th>rut</th>\n",
       "      <th>cluster</th>\n",
       "      <th>Probabilidad_No_Pago</th>\n",
       "      <th>tratamientos</th>\n",
       "      <th>probabilidad_aceptacion_optima</th>\n",
       "      <th>tasa_optima</th>\n",
       "      <th>Monto_Simulado_mean</th>\n",
       "      <th>Plazo_Simulado_mean</th>\n",
       "      <th>Plazo_Simulado_min</th>\n",
       "      <th>Plazo_Simulado_max</th>\n",
       "      <th>Plazo_Simulado_mode</th>\n",
       "      <th>assigned_treatment</th>\n",
       "      <th>probabilidad_de_simular</th>\n",
       "      <th>tasa_optima_y</th>\n",
       "      <th>probabilidad_aceptacion_optima_y</th>\n",
       "    </tr>\n",
       "  </thead>\n",
       "  <tbody>\n",
       "    <tr>\n",
       "      <th>0</th>\n",
       "      <td>1</td>\n",
       "      <td>0</td>\n",
       "      <td>0.028445</td>\n",
       "      <td>[[0.20384870204179967, 1.0], [0.20784574100201...</td>\n",
       "      <td>0.499757</td>\n",
       "      <td>1.261287</td>\n",
       "      <td>2.672066e+06</td>\n",
       "      <td>27.465434</td>\n",
       "      <td>8.0</td>\n",
       "      <td>48.0</td>\n",
       "      <td>30.0</td>\n",
       "      <td>1</td>\n",
       "      <td>0.142747</td>\n",
       "      <td>1.561810</td>\n",
       "      <td>0.383343</td>\n",
       "    </tr>\n",
       "    <tr>\n",
       "      <th>1</th>\n",
       "      <td>2</td>\n",
       "      <td>0</td>\n",
       "      <td>0.014320</td>\n",
       "      <td>[[0.08183039140445127, 1.0], [0.08207471588380...</td>\n",
       "      <td>0.552339</td>\n",
       "      <td>1.219217</td>\n",
       "      <td>7.124037e+05</td>\n",
       "      <td>27.651125</td>\n",
       "      <td>9.0</td>\n",
       "      <td>50.0</td>\n",
       "      <td>30.0</td>\n",
       "      <td>1</td>\n",
       "      <td>0.142747</td>\n",
       "      <td>2.426071</td>\n",
       "      <td>0.117775</td>\n",
       "    </tr>\n",
       "    <tr>\n",
       "      <th>2</th>\n",
       "      <td>3</td>\n",
       "      <td>0</td>\n",
       "      <td>0.002156</td>\n",
       "      <td>[[0.20574240514050998, 1.0], [0.21240180638305...</td>\n",
       "      <td>0.624972</td>\n",
       "      <td>1.075107</td>\n",
       "      <td>2.459338e+07</td>\n",
       "      <td>27.514339</td>\n",
       "      <td>9.0</td>\n",
       "      <td>49.0</td>\n",
       "      <td>30.0</td>\n",
       "      <td>6</td>\n",
       "      <td>0.342493</td>\n",
       "      <td>2.097991</td>\n",
       "      <td>0.193142</td>\n",
       "    </tr>\n",
       "    <tr>\n",
       "      <th>3</th>\n",
       "      <td>4</td>\n",
       "      <td>0</td>\n",
       "      <td>0.034418</td>\n",
       "      <td>[[0.20302978806049865, 1.0], [0.21238682120531...</td>\n",
       "      <td>0.473732</td>\n",
       "      <td>1.373885</td>\n",
       "      <td>7.612776e+05</td>\n",
       "      <td>27.501192</td>\n",
       "      <td>8.0</td>\n",
       "      <td>48.0</td>\n",
       "      <td>31.0</td>\n",
       "      <td>1</td>\n",
       "      <td>0.142747</td>\n",
       "      <td>1.897988</td>\n",
       "      <td>0.254692</td>\n",
       "    </tr>\n",
       "    <tr>\n",
       "      <th>4</th>\n",
       "      <td>5</td>\n",
       "      <td>0</td>\n",
       "      <td>0.014978</td>\n",
       "      <td>[[0.14013414937103366, 1.0], [0.16421079183570...</td>\n",
       "      <td>0.499332</td>\n",
       "      <td>1.265790</td>\n",
       "      <td>4.997373e+05</td>\n",
       "      <td>27.442591</td>\n",
       "      <td>8.0</td>\n",
       "      <td>49.0</td>\n",
       "      <td>30.0</td>\n",
       "      <td>1</td>\n",
       "      <td>0.142747</td>\n",
       "      <td>1.234028</td>\n",
       "      <td>0.526982</td>\n",
       "    </tr>\n",
       "    <tr>\n",
       "      <th>...</th>\n",
       "      <td>...</td>\n",
       "      <td>...</td>\n",
       "      <td>...</td>\n",
       "      <td>...</td>\n",
       "      <td>...</td>\n",
       "      <td>...</td>\n",
       "      <td>...</td>\n",
       "      <td>...</td>\n",
       "      <td>...</td>\n",
       "      <td>...</td>\n",
       "      <td>...</td>\n",
       "      <td>...</td>\n",
       "      <td>...</td>\n",
       "      <td>...</td>\n",
       "      <td>...</td>\n",
       "    </tr>\n",
       "    <tr>\n",
       "      <th>543646</th>\n",
       "      <td>543647</td>\n",
       "      <td>0</td>\n",
       "      <td>0.037291</td>\n",
       "      <td>[[0.07533101699690112, 1.0], [0.09850054429890...</td>\n",
       "      <td>0.496040</td>\n",
       "      <td>1.328843</td>\n",
       "      <td>5.326978e+05</td>\n",
       "      <td>27.408767</td>\n",
       "      <td>8.0</td>\n",
       "      <td>52.0</td>\n",
       "      <td>30.0</td>\n",
       "      <td>1</td>\n",
       "      <td>0.142747</td>\n",
       "      <td>2.137431</td>\n",
       "      <td>0.182437</td>\n",
       "    </tr>\n",
       "    <tr>\n",
       "      <th>543647</th>\n",
       "      <td>543648</td>\n",
       "      <td>0</td>\n",
       "      <td>0.035877</td>\n",
       "      <td>[[0.20384870204179967, 1.0], [0.20784574100201...</td>\n",
       "      <td>0.499757</td>\n",
       "      <td>1.261287</td>\n",
       "      <td>2.672066e+06</td>\n",
       "      <td>27.465434</td>\n",
       "      <td>8.0</td>\n",
       "      <td>48.0</td>\n",
       "      <td>30.0</td>\n",
       "      <td>1</td>\n",
       "      <td>0.142747</td>\n",
       "      <td>1.223011</td>\n",
       "      <td>0.531868</td>\n",
       "    </tr>\n",
       "    <tr>\n",
       "      <th>543648</th>\n",
       "      <td>543649</td>\n",
       "      <td>0</td>\n",
       "      <td>0.023306</td>\n",
       "      <td>[[0.0789925899981393, 1.0], [0.081787777439951...</td>\n",
       "      <td>0.497598</td>\n",
       "      <td>1.307808</td>\n",
       "      <td>4.327878e+06</td>\n",
       "      <td>27.510854</td>\n",
       "      <td>8.0</td>\n",
       "      <td>49.0</td>\n",
       "      <td>30.0</td>\n",
       "      <td>1</td>\n",
       "      <td>0.142747</td>\n",
       "      <td>1.562318</td>\n",
       "      <td>0.383129</td>\n",
       "    </tr>\n",
       "    <tr>\n",
       "      <th>543649</th>\n",
       "      <td>543650</td>\n",
       "      <td>0</td>\n",
       "      <td>0.015121</td>\n",
       "      <td>[[0.2075966163542876, 1.0], [0.208343603648015...</td>\n",
       "      <td>0.568717</td>\n",
       "      <td>1.189190</td>\n",
       "      <td>4.125397e+06</td>\n",
       "      <td>27.479876</td>\n",
       "      <td>9.0</td>\n",
       "      <td>49.0</td>\n",
       "      <td>30.0</td>\n",
       "      <td>6</td>\n",
       "      <td>0.342493</td>\n",
       "      <td>1.341532</td>\n",
       "      <td>0.479184</td>\n",
       "    </tr>\n",
       "    <tr>\n",
       "      <th>543650</th>\n",
       "      <td>543651</td>\n",
       "      <td>0</td>\n",
       "      <td>0.019647</td>\n",
       "      <td>[[0.20330507957802305, 1.0], [0.21177697598376...</td>\n",
       "      <td>0.496411</td>\n",
       "      <td>1.327329</td>\n",
       "      <td>5.452121e+05</td>\n",
       "      <td>27.509347</td>\n",
       "      <td>8.0</td>\n",
       "      <td>49.0</td>\n",
       "      <td>31.0</td>\n",
       "      <td>6</td>\n",
       "      <td>0.342493</td>\n",
       "      <td>1.343903</td>\n",
       "      <td>0.478131</td>\n",
       "    </tr>\n",
       "  </tbody>\n",
       "</table>\n",
       "<p>543651 rows × 15 columns</p>\n",
       "</div>"
      ],
      "text/plain": [
       "           rut  cluster  Probabilidad_No_Pago  \\\n",
       "0            1        0              0.028445   \n",
       "1            2        0              0.014320   \n",
       "2            3        0              0.002156   \n",
       "3            4        0              0.034418   \n",
       "4            5        0              0.014978   \n",
       "...        ...      ...                   ...   \n",
       "543646  543647        0              0.037291   \n",
       "543647  543648        0              0.035877   \n",
       "543648  543649        0              0.023306   \n",
       "543649  543650        0              0.015121   \n",
       "543650  543651        0              0.019647   \n",
       "\n",
       "                                             tratamientos  \\\n",
       "0       [[0.20384870204179967, 1.0], [0.20784574100201...   \n",
       "1       [[0.08183039140445127, 1.0], [0.08207471588380...   \n",
       "2       [[0.20574240514050998, 1.0], [0.21240180638305...   \n",
       "3       [[0.20302978806049865, 1.0], [0.21238682120531...   \n",
       "4       [[0.14013414937103366, 1.0], [0.16421079183570...   \n",
       "...                                                   ...   \n",
       "543646  [[0.07533101699690112, 1.0], [0.09850054429890...   \n",
       "543647  [[0.20384870204179967, 1.0], [0.20784574100201...   \n",
       "543648  [[0.0789925899981393, 1.0], [0.081787777439951...   \n",
       "543649  [[0.2075966163542876, 1.0], [0.208343603648015...   \n",
       "543650  [[0.20330507957802305, 1.0], [0.21177697598376...   \n",
       "\n",
       "        probabilidad_aceptacion_optima  tasa_optima  Monto_Simulado_mean  \\\n",
       "0                             0.499757     1.261287         2.672066e+06   \n",
       "1                             0.552339     1.219217         7.124037e+05   \n",
       "2                             0.624972     1.075107         2.459338e+07   \n",
       "3                             0.473732     1.373885         7.612776e+05   \n",
       "4                             0.499332     1.265790         4.997373e+05   \n",
       "...                                ...          ...                  ...   \n",
       "543646                        0.496040     1.328843         5.326978e+05   \n",
       "543647                        0.499757     1.261287         2.672066e+06   \n",
       "543648                        0.497598     1.307808         4.327878e+06   \n",
       "543649                        0.568717     1.189190         4.125397e+06   \n",
       "543650                        0.496411     1.327329         5.452121e+05   \n",
       "\n",
       "        Plazo_Simulado_mean  Plazo_Simulado_min  Plazo_Simulado_max  \\\n",
       "0                 27.465434                 8.0                48.0   \n",
       "1                 27.651125                 9.0                50.0   \n",
       "2                 27.514339                 9.0                49.0   \n",
       "3                 27.501192                 8.0                48.0   \n",
       "4                 27.442591                 8.0                49.0   \n",
       "...                     ...                 ...                 ...   \n",
       "543646            27.408767                 8.0                52.0   \n",
       "543647            27.465434                 8.0                48.0   \n",
       "543648            27.510854                 8.0                49.0   \n",
       "543649            27.479876                 9.0                49.0   \n",
       "543650            27.509347                 8.0                49.0   \n",
       "\n",
       "        Plazo_Simulado_mode  assigned_treatment  probabilidad_de_simular  \\\n",
       "0                      30.0                   1                 0.142747   \n",
       "1                      30.0                   1                 0.142747   \n",
       "2                      30.0                   6                 0.342493   \n",
       "3                      31.0                   1                 0.142747   \n",
       "4                      30.0                   1                 0.142747   \n",
       "...                     ...                 ...                      ...   \n",
       "543646                 30.0                   1                 0.142747   \n",
       "543647                 30.0                   1                 0.142747   \n",
       "543648                 30.0                   1                 0.142747   \n",
       "543649                 30.0                   6                 0.342493   \n",
       "543650                 31.0                   6                 0.342493   \n",
       "\n",
       "        tasa_optima_y  probabilidad_aceptacion_optima_y  \n",
       "0            1.561810                          0.383343  \n",
       "1            2.426071                          0.117775  \n",
       "2            2.097991                          0.193142  \n",
       "3            1.897988                          0.254692  \n",
       "4            1.234028                          0.526982  \n",
       "...               ...                               ...  \n",
       "543646       2.137431                          0.182437  \n",
       "543647       1.223011                          0.531868  \n",
       "543648       1.562318                          0.383129  \n",
       "543649       1.341532                          0.479184  \n",
       "543650       1.343903                          0.478131  \n",
       "\n",
       "[543651 rows x 15 columns]"
      ]
     },
     "execution_count": 65,
     "metadata": {},
     "output_type": "execute_result"
    }
   ],
   "source": [
    "assigned_treatments_int2"
   ]
  },
  {
   "cell_type": "code",
   "execution_count": null,
   "metadata": {},
   "outputs": [],
   "source": [
    "df_cluster_info_int2_csv = df_estimar_elasticidad_int2.groupby('categoria_clusterizacion_numerica').agg({\n",
    "'Monto_Simulado_mean': 'mean',\n",
    "'Plazo_Simulado_mean': 'mean',\n",
    "'Plazo_Simulado_min': 'min',\n",
    "'Plazo_Simulado_max': 'max',\n",
    "'Plazo_Simulado_mode': lambda x: x.mode().iloc[0] if not x.mode().empty else np.nan})"
   ]
  },
  {
   "cell_type": "code",
   "execution_count": null,
   "metadata": {},
   "outputs": [
    {
     "data": {
      "text/html": [
       "<div>\n",
       "<style scoped>\n",
       "    .dataframe tbody tr th:only-of-type {\n",
       "        vertical-align: middle;\n",
       "    }\n",
       "\n",
       "    .dataframe tbody tr th {\n",
       "        vertical-align: top;\n",
       "    }\n",
       "\n",
       "    .dataframe thead th {\n",
       "        text-align: right;\n",
       "    }\n",
       "</style>\n",
       "<table border=\"1\" class=\"dataframe\">\n",
       "  <thead>\n",
       "    <tr style=\"text-align: right;\">\n",
       "      <th></th>\n",
       "      <th>Monto_Simulado_mean</th>\n",
       "      <th>Plazo_Simulado_mean</th>\n",
       "      <th>Plazo_Simulado_min</th>\n",
       "      <th>Plazo_Simulado_max</th>\n",
       "      <th>Plazo_Simulado_mode</th>\n",
       "    </tr>\n",
       "    <tr>\n",
       "      <th>categoria_clusterizacion_numerica</th>\n",
       "      <th></th>\n",
       "      <th></th>\n",
       "      <th></th>\n",
       "      <th></th>\n",
       "      <th></th>\n",
       "    </tr>\n",
       "  </thead>\n",
       "  <tbody>\n",
       "    <tr>\n",
       "      <th>0</th>\n",
       "      <td>6.964109e+06</td>\n",
       "      <td>27.502137</td>\n",
       "      <td>7.0</td>\n",
       "      <td>52.0</td>\n",
       "      <td>30.0</td>\n",
       "    </tr>\n",
       "  </tbody>\n",
       "</table>\n",
       "</div>"
      ],
      "text/plain": [
       "                                   Monto_Simulado_mean  Plazo_Simulado_mean  \\\n",
       "categoria_clusterizacion_numerica                                             \n",
       "0                                         6.964109e+06            27.502137   \n",
       "\n",
       "                                   Plazo_Simulado_min  Plazo_Simulado_max  \\\n",
       "categoria_clusterizacion_numerica                                           \n",
       "0                                                 7.0                52.0   \n",
       "\n",
       "                                   Plazo_Simulado_mode  \n",
       "categoria_clusterizacion_numerica                       \n",
       "0                                                 30.0  "
      ]
     },
     "execution_count": 58,
     "metadata": {},
     "output_type": "execute_result"
    }
   ],
   "source": [
    "df_cluster_info_int2_csv"
   ]
  },
  {
   "cell_type": "code",
   "execution_count": null,
   "metadata": {},
   "outputs": [
    {
     "name": "stdout",
     "output_type": "stream",
     "text": [
      "CSV file saved in folder: assigned_treatments_intuitivo_2/assignation_20241116_183458\\assigned_treatments_intuitivo2.csv\n"
     ]
    }
   ],
   "source": [
    "import os\n",
    "from datetime import datetime\n",
    "\n",
    "# Crear una carpeta con un nombre basado en la fecha y hora actual\n",
    "# 'strftime' genera un timestamp en el formato \"YYYYMMDD_HHMMSS\" para asegurar nombres de carpeta únicos.\n",
    "timestamp = datetime.now().strftime(\"%Y%m%d_%H%M%S\")\n",
    "folder_name = f\"assigned_treatments_intuitivo_2/assignation_{timestamp}\"\n",
    "os.makedirs(folder_name, exist_ok=True)  # Crear la carpeta; 'exist_ok=True' evita errores si la carpeta ya existe.\n",
    "\n",
    "# Definir la ruta del archivo CSV dentro de la nueva carpeta\n",
    "output_path = os.path.join(folder_name, 'assigned_treatments_intuitivo2.csv')\n",
    "output_path_cluster = os.path.join(folder_name, 'cluster_info_intuitivo2.csv')\n",
    "\n",
    "# Guardar el DataFrame 'df_assigned' con las columnas seleccionadas en un archivo CSV\n",
    "# Se incluyen las columnas clave: 'rut', 'cluster', 'Probabilidad_No_Pago', 'RC', 'assigned_treatment',\n",
    "# 'probabilidad_de_simular', 'tasa_optima' y 'probabilidad_aceptacion_optima'.\n",
    "assigned_treatments_int2[['rut', 'cluster', 'Probabilidad_No_Pago', 'assigned_treatment', 'probabilidad_de_simular', 'tasa_optima',  'probabilidad_aceptacion_optima']].to_csv(output_path, index=False)\n",
    "df_cluster_info_int2_csv.to_csv(output_path_cluster, index=True)\n",
    "# Imprimir mensaje de confirmación con la ubicación del archivo CSV guardado\n",
    "print(f\"CSV file saved in folder: {output_path}\")"
   ]
  },
  {
   "cell_type": "markdown",
   "metadata": {},
   "source": [
    "# MODELO INTUITIVO 3"
   ]
  },
  {
   "cell_type": "markdown",
   "metadata": {},
   "source": [
    "- Asigna el mejor tratamiento a los 205000 clientes con mejor renta y a los demas 4 correos\n",
    "- Precios aleatorios también"
   ]
  },
  {
   "cell_type": "code",
   "execution_count": null,
   "metadata": {},
   "outputs": [],
   "source": [
    "df_rut_info_int3 = df_rut_info.copy()\n",
    "df_probabilities_treatment_int3 = df_probabilities_treatment.copy()\n",
    "df_cluster_info_int3 = df_cluster_info.copy()\n",
    "df_simulaciones_info_int_3 = df_simulaciones_info.copy()"
   ]
  },
  {
   "cell_type": "code",
   "execution_count": null,
   "metadata": {},
   "outputs": [],
   "source": [
    "df_estimar_elasticidad_int3 = df_estimar_elasticidad.copy()"
   ]
  },
  {
   "cell_type": "code",
   "execution_count": null,
   "metadata": {},
   "outputs": [],
   "source": [
    "df_rut_info_int3['categoria_clusterizacion_numerica'] = 0"
   ]
  },
  {
   "cell_type": "markdown",
   "metadata": {},
   "source": [
    "## Precios intuitivo 3"
   ]
  },
  {
   "cell_type": "code",
   "execution_count": null,
   "metadata": {},
   "outputs": [],
   "source": [
    "df_estimar_elasticidad_int3['categoria_clusterizacion_numerica'] = 0"
   ]
  },
  {
   "cell_type": "code",
   "execution_count": null,
   "metadata": {},
   "outputs": [],
   "source": [
    "def function_estimar_elasticidad_int3(df):\n",
    "    \"\"\"\n",
    "    Assigns random prices to clients in a single cluster and estimates the probability \n",
    "    of acceptance for each price using logistic regression.\n",
    "\n",
    "    Parameters:\n",
    "    - df (pd.DataFrame): DataFrame containing client data with at least 'venta', \n",
    "                         'Tasa_Simulado', and 'rut' columns.\n",
    "\n",
    "    Returns:\n",
    "    - pd.DataFrame: DataFrame with 'rut', 'price_set', and 'acceptance_probability'.\n",
    "    \"\"\"\n",
    "    \n",
    "    # Check if the DataFrame is empty\n",
    "    if df.empty:\n",
    "        print(\"The input DataFrame is empty.\")\n",
    "        return pd.DataFrame(columns=['rut', 'price_set', 'acceptance_probability'])\n",
    "    \n",
    "    # Clean the data: Remove rows with NaN or infinite values in relevant columns\n",
    "    df_clean = df.replace([np.inf, -np.inf], np.nan).dropna(\n",
    "        subset=['venta', 'Tasa_Simulado']\n",
    "    )\n",
    "    \n",
    "    # Ensure there are enough data points to fit the model\n",
    "    if df_clean.shape[0] < 10:\n",
    "        print(\"Not enough data to fit the logistic regression model.\")\n",
    "        return pd.DataFrame(columns=['rut', 'price_set', 'acceptance_probability'])\n",
    "    \n",
    "    # Define the dependent and independent variables\n",
    "    y = df_clean['venta']\n",
    "    X = df_clean[['Tasa_Simulado']]\n",
    "    \n",
    "    # Add a constant term for the intercept\n",
    "    X = sm.add_constant(X)\n",
    "    \n",
    "    # Fit the logistic regression model\n",
    "    try:\n",
    "        logit_model = sm.Logit(y, X)\n",
    "        result = logit_model.fit(disp=0)\n",
    "    except Exception as e:\n",
    "        print(f\"Logistic regression failed to converge: {e}\")\n",
    "        return pd.DataFrame(columns=['rut', 'price_set', 'acceptance_probability'])\n",
    "    \n",
    "    # Determine the range of prices from the data\n",
    "    tasa_min = df_clean['Tasa_Simulado'].min()\n",
    "    tasa_max = df_clean['Tasa_Simulado'].max()\n",
    "\n",
    "    df_clean = df_clean.drop_duplicates(subset='rut')\n",
    "    \n",
    "    # Assign a random price to each client within the observed range\n",
    "    np.random.seed(42)  # For reproducibility; remove or change seed as needed\n",
    "    df_clean['tasa_optima'] = np.random.uniform(low=tasa_min, high=tasa_max, size=df_clean.shape[0])\n",
    "\n",
    "    \n",
    "    # Prepare the data for prediction by adding a constant term\n",
    "    X_new = sm.add_constant(df_clean['tasa_optima'])\n",
    "    \n",
    "    # Predict the acceptance probability using the logistic model\n",
    "    df_clean['probabilidad_aceptacion_optima'] = result.predict(X_new)\n",
    "    \n",
    "    # Ensure probabilities are within [0, 1]\n",
    "    df_clean['probabilidad_aceptacion_optima'] = df_clean['probabilidad_aceptacion_optima'].clip(0, 1)\n",
    "    \n",
    "    # Select the required columns to return\n",
    "    result_df = df_clean[['rut', 'tasa_optima', 'probabilidad_aceptacion_optima']].copy()\n",
    "    \n",
    "    return result_df"
   ]
  },
  {
   "cell_type": "code",
   "execution_count": null,
   "metadata": {},
   "outputs": [],
   "source": [
    "prices3 = function_estimar_elasticidad_int3(df_estimar_elasticidad_int3)"
   ]
  },
  {
   "cell_type": "markdown",
   "metadata": {},
   "source": [
    "## Tratamientos intuitivo 3"
   ]
  },
  {
   "cell_type": "code",
   "execution_count": null,
   "metadata": {},
   "outputs": [],
   "source": [
    "df_probabilities_treatment_int3 = df_probabilities_treatment_int3[(df_probabilities_treatment_int3['Tratamiento'] == '\tEjecutivo=0, Correos=4')|(df_probabilities_treatment_int3['Tratamiento'] == '\tEjecutivo=1, Correos=2')]"
   ]
  },
  {
   "cell_type": "markdown",
   "metadata": {},
   "source": [
    "### Estimacion de respuesta"
   ]
  },
  {
   "cell_type": "code",
   "execution_count": null,
   "metadata": {},
   "outputs": [],
   "source": [
    "tratamiento_map = {  # Mapeo de los tratamientos específicos a identificadores numéricos\n",
    "    \"Ejecutivo=0, Correos=0\": 1, \"Ejecutivo=0, Correos=1\": 2,\n",
    "    \"Ejecutivo=0, Correos=2\": 3, \"Ejecutivo=0, Correos=3\": 4,\n",
    "    \"Ejecutivo=0, Correos=4\": 5, \"Ejecutivo=1, Correos=0\": 6,\n",
    "    \"Ejecutivo=1, Correos=1\": 7, \"Ejecutivo=1, Correos=2\": 8\n",
    "}\n",
    "df_probabilities_int3 = df_probabilities_treatment_int3\n",
    "df_probabilities_int3['tratamiento_id'] = df_probabilities_int3['Tratamiento'].map(tratamiento_map)"
   ]
  },
  {
   "cell_type": "code",
   "execution_count": null,
   "metadata": {},
   "outputs": [],
   "source": [
    "def function_estimar_respuesta_a_tratamiento(df_estimar_elasticidad, df_simulaciones_info): #df1 es df_estimar_elasticidad y df2 es df_simulaciones_info\n",
    "    # Paso 1: Preparación de datos y mapeo de clusters\n",
    "    # Eliminar duplicados en 'df1' para tener un valor único de 'categoria_clusterizacion_numerica' por cada 'rut'.\n",
    "    df_estimar_elasticidad_unique = df_estimar_elasticidad.drop_duplicates(subset='rut')\n",
    "\n",
    "    # Crear un mapeo de 'rut' a 'categoria_clusterizacion_numerica' para asociar cada cliente a su cluster numérico.\n",
    "    rut_cluster_map = df_estimar_elasticidad_unique.set_index('rut')['categoria_clusterizacion_numerica']\n",
    "\n",
    "    # Mapear la categoría de cluster a cada 'rut' en 'df2' usando el mapeo creado\n",
    "    df_simulaciones_info['categoria_clusterizacion_numerica'] = df_simulaciones_info['rut'].map(rut_cluster_map)\n",
    "\n",
    "    # Eliminar filas donde 'categoria_clusterizacion_numerica' es nulo, es decir, aquellos 'rut' sin mapeo de cluster.\n",
    "    df_simulaciones_info = df_simulaciones_info.dropna(subset=['categoria_clusterizacion_numerica'])\n",
    "\n",
    "    # Conversión de tipos de datos\n",
    "    # Convertir 'categoria_clusterizacion_numerica' a entero para garantizar un tipo de dato consistente.\n",
    "    df_simulaciones_info['categoria_clusterizacion_numerica'] = df_simulaciones_info['categoria_clusterizacion_numerica'].astype(int)\n",
    "\n",
    "    # Convertir 'simulo' a numérico, reemplazando valores nulos por 0 y asegurando que sea un tipo de dato entero.\n",
    "    df_simulaciones_info['simulo'] = pd.to_numeric(df_simulaciones_info['simulo'], errors='coerce').fillna(0).astype(int)\n",
    "\n",
    "    # Convertir 'Tratamiento' a tipo de categoría para optimizar espacio y realizar operaciones categóricas.\n",
    "    df_simulaciones_info['Tratamiento'] = df_simulaciones_info['Tratamiento'].astype('category')\n",
    "\n",
    "    # Paso 2: Calcular el caso total (entradas por tratamiento sin importar el valor de 'simulo')\n",
    "    # Agrupar por 'categoria_clusterizacion_numerica' y 'Tratamiento' para contar el número total de registros en cada combinación.\n",
    "    total_entries_per_cluster_treatment = df_simulaciones_info.groupby(['categoria_clusterizacion_numerica', 'Tratamiento']).size().reset_index(name='caso_total')\n",
    "\n",
    "    # Paso 3: Calcular el caso favorable (entradas por tratamiento cuando 'simulo' == 1)\n",
    "    # Filtrar filas donde 'simulo' es 1 (clientes que realizaron una simulación)\n",
    "    df_simulations = df_simulaciones_info[df_simulaciones_info['simulo'] == 1]\n",
    "\n",
    "    # Agrupar por 'categoria_clusterizacion_numerica' y 'Tratamiento' para contar el número de registros favorables (simulaciones).\n",
    "    favorable_entries_per_cluster_treatment = df_simulations.groupby(['categoria_clusterizacion_numerica', 'Tratamiento']).size().reset_index(name='caso_favorable')\n",
    "\n",
    "    # Paso 4: Calcular la probabilidad de simulación como caso favorable / caso total\n",
    "    # Realizar un merge entre 'total_entries_per_cluster_treatment' y 'favorable_entries_per_cluster_treatment' en las columnas de cluster y tratamiento.\n",
    "    df_probabilities = total_entries_per_cluster_treatment.merge(\n",
    "        favorable_entries_per_cluster_treatment,\n",
    "        on=['categoria_clusterizacion_numerica', 'Tratamiento'],\n",
    "        how='left'\n",
    "    )\n",
    "\n",
    "    # Llenar valores nulos en 'caso_favorable' con 0, asegurando que solo las columnas numéricas estén afectadas.\n",
    "    df_probabilities['caso_favorable'] = df_probabilities['caso_favorable'].fillna(0).astype(int)\n",
    "\n",
    "    # Asegurar que 'caso_total' sea de tipo entero para evitar inconsistencias en los conteos.\n",
    "    df_probabilities['caso_total'] = df_probabilities['caso_total'].astype(int)\n",
    "\n",
    "    # Calcular la probabilidad de simulación como el cociente entre 'caso_favorable' y 'caso_total'.\n",
    "    df_probabilities['probabilidad_simular'] = df_probabilities['caso_favorable'] / df_probabilities['caso_total']\n",
    "\n",
    "    # Organizar las columnas del DataFrame resultante para facilitar su análisis.\n",
    "    df_probabilities = df_probabilities[[\n",
    "        'categoria_clusterizacion_numerica',\n",
    "        'Tratamiento',\n",
    "        'probabilidad_simular',\n",
    "        'caso_favorable',\n",
    "        'caso_total'\n",
    "    ]]\n",
    "\n",
    "    # Mostrar el DataFrame resultante con la probabilidad de simulación calculada para cada combinación de cluster y tratamiento.\n",
    "    return df_probabilities\n"
   ]
  },
  {
   "cell_type": "code",
   "execution_count": null,
   "metadata": {},
   "outputs": [],
   "source": [
    "df_probabilities = function_estimar_respuesta_a_tratamiento(df_estimar_elasticidad_int3, df_simulaciones_info_int_3)"
   ]
  },
  {
   "cell_type": "code",
   "execution_count": null,
   "metadata": {},
   "outputs": [],
   "source": [
    "df_rut_info_int3 = pd.merge(df_rut_info_int3, df_informacion_de_clientes[['rut', 'Renta']], on='rut', how='left')"
   ]
  },
  {
   "cell_type": "markdown",
   "metadata": {},
   "source": [
    "### Asignación"
   ]
  },
  {
   "cell_type": "code",
   "execution_count": null,
   "metadata": {},
   "outputs": [],
   "source": [
    "# Asignar valor predeterminado de tratamiento 5 a todas las filas\n",
    "df_rut_info_int3['assigned_treatment'] = 5\n",
    "\n",
    "# Seleccionar las 205,000 filas con la renta más alta\n",
    "top_renta_indices = df_rut_info_int3.nlargest(205000, 'Renta').index\n",
    "\n",
    "# Asignar el valor de tratamiento 8 a estas filas\n",
    "df_rut_info_int3.loc[top_renta_indices, 'assigned_treatment'] = 8\n",
    "\n",
    "# Obtener las probabilidades requeridas desde df_probabilities\n",
    "prob_for_5 = df_probabilities.loc[4, 'probabilidad_simular']  # Para el tratamiento 5\n",
    "prob_for_8 = df_probabilities.loc[7, 'probabilidad_simular']  # Para el tratamiento 8\n",
    "\n",
    "# Agregar una nueva columna con probabilidades según el tratamiento asignado\n",
    "df_rut_info_int3['probabilidad_de_simular'] = df_rut_info_int3['assigned_treatment'].map({\n",
    "    5: prob_for_5,\n",
    "    8: prob_for_8\n",
    "})"
   ]
  },
  {
   "cell_type": "code",
   "execution_count": null,
   "metadata": {},
   "outputs": [],
   "source": [
    "assigned_treatments_int3 = pd.merge(df_rut_info_int3, prices3, on='rut', how='left')"
   ]
  },
  {
   "cell_type": "code",
   "execution_count": null,
   "metadata": {},
   "outputs": [],
   "source": [
    "assigned_treatments_int3.rename(columns={'categoria_clusterizacion_numerica': 'cluster'}, inplace=True)"
   ]
  },
  {
   "cell_type": "code",
   "execution_count": null,
   "metadata": {},
   "outputs": [],
   "source": [
    "assigned_treatments_int3.rename(columns={'probabilidad_aceptacion_optima_x': 'probabilidad_aceptacion_optima', 'tasa_optima_x': 'tasa_optima'}, inplace=True)"
   ]
  },
  {
   "cell_type": "code",
   "execution_count": null,
   "metadata": {},
   "outputs": [
    {
     "data": {
      "text/html": [
       "<div>\n",
       "<style scoped>\n",
       "    .dataframe tbody tr th:only-of-type {\n",
       "        vertical-align: middle;\n",
       "    }\n",
       "\n",
       "    .dataframe tbody tr th {\n",
       "        vertical-align: top;\n",
       "    }\n",
       "\n",
       "    .dataframe thead th {\n",
       "        text-align: right;\n",
       "    }\n",
       "</style>\n",
       "<table border=\"1\" class=\"dataframe\">\n",
       "  <thead>\n",
       "    <tr style=\"text-align: right;\">\n",
       "      <th></th>\n",
       "      <th>rut</th>\n",
       "      <th>cluster</th>\n",
       "      <th>Probabilidad_No_Pago</th>\n",
       "      <th>tratamientos</th>\n",
       "      <th>probabilidad_aceptacion_optima</th>\n",
       "      <th>tasa_optima</th>\n",
       "      <th>Monto_Simulado_mean</th>\n",
       "      <th>Plazo_Simulado_mean</th>\n",
       "      <th>Plazo_Simulado_min</th>\n",
       "      <th>Plazo_Simulado_max</th>\n",
       "      <th>Plazo_Simulado_mode</th>\n",
       "      <th>Renta</th>\n",
       "      <th>assigned_treatment</th>\n",
       "      <th>probabilidad_de_simular</th>\n",
       "      <th>tasa_optima_y</th>\n",
       "      <th>probabilidad_aceptacion_optima_y</th>\n",
       "    </tr>\n",
       "  </thead>\n",
       "  <tbody>\n",
       "    <tr>\n",
       "      <th>0</th>\n",
       "      <td>1</td>\n",
       "      <td>0</td>\n",
       "      <td>0.028445</td>\n",
       "      <td>[[0.20384870204179967, 1.0], [0.20784574100201...</td>\n",
       "      <td>0.499757</td>\n",
       "      <td>1.261287</td>\n",
       "      <td>2.672066e+06</td>\n",
       "      <td>27.465434</td>\n",
       "      <td>8.0</td>\n",
       "      <td>48.0</td>\n",
       "      <td>30.0</td>\n",
       "      <td>6.258183e+05</td>\n",
       "      <td>5</td>\n",
       "      <td>0.175640</td>\n",
       "      <td>1.561810</td>\n",
       "      <td>0.383343</td>\n",
       "    </tr>\n",
       "    <tr>\n",
       "      <th>1</th>\n",
       "      <td>2</td>\n",
       "      <td>0</td>\n",
       "      <td>0.014320</td>\n",
       "      <td>[[0.08183039140445127, 1.0], [0.08207471588380...</td>\n",
       "      <td>0.552339</td>\n",
       "      <td>1.219217</td>\n",
       "      <td>7.124037e+05</td>\n",
       "      <td>27.651125</td>\n",
       "      <td>9.0</td>\n",
       "      <td>50.0</td>\n",
       "      <td>30.0</td>\n",
       "      <td>3.172616e+05</td>\n",
       "      <td>5</td>\n",
       "      <td>0.175640</td>\n",
       "      <td>2.426071</td>\n",
       "      <td>0.117775</td>\n",
       "    </tr>\n",
       "    <tr>\n",
       "      <th>2</th>\n",
       "      <td>3</td>\n",
       "      <td>0</td>\n",
       "      <td>0.002156</td>\n",
       "      <td>[[0.20574240514050998, 1.0], [0.21240180638305...</td>\n",
       "      <td>0.624972</td>\n",
       "      <td>1.075107</td>\n",
       "      <td>2.459338e+07</td>\n",
       "      <td>27.514339</td>\n",
       "      <td>9.0</td>\n",
       "      <td>49.0</td>\n",
       "      <td>30.0</td>\n",
       "      <td>1.240551e+07</td>\n",
       "      <td>8</td>\n",
       "      <td>0.366161</td>\n",
       "      <td>2.097991</td>\n",
       "      <td>0.193142</td>\n",
       "    </tr>\n",
       "    <tr>\n",
       "      <th>3</th>\n",
       "      <td>4</td>\n",
       "      <td>0</td>\n",
       "      <td>0.034418</td>\n",
       "      <td>[[0.20302978806049865, 1.0], [0.21238682120531...</td>\n",
       "      <td>0.473732</td>\n",
       "      <td>1.373885</td>\n",
       "      <td>7.612776e+05</td>\n",
       "      <td>27.501192</td>\n",
       "      <td>8.0</td>\n",
       "      <td>48.0</td>\n",
       "      <td>31.0</td>\n",
       "      <td>5.441466e+05</td>\n",
       "      <td>5</td>\n",
       "      <td>0.175640</td>\n",
       "      <td>1.897988</td>\n",
       "      <td>0.254692</td>\n",
       "    </tr>\n",
       "    <tr>\n",
       "      <th>4</th>\n",
       "      <td>5</td>\n",
       "      <td>0</td>\n",
       "      <td>0.014978</td>\n",
       "      <td>[[0.14013414937103366, 1.0], [0.16421079183570...</td>\n",
       "      <td>0.499332</td>\n",
       "      <td>1.265790</td>\n",
       "      <td>4.997373e+05</td>\n",
       "      <td>27.442591</td>\n",
       "      <td>8.0</td>\n",
       "      <td>49.0</td>\n",
       "      <td>30.0</td>\n",
       "      <td>1.870225e+05</td>\n",
       "      <td>5</td>\n",
       "      <td>0.175640</td>\n",
       "      <td>1.234028</td>\n",
       "      <td>0.526982</td>\n",
       "    </tr>\n",
       "    <tr>\n",
       "      <th>...</th>\n",
       "      <td>...</td>\n",
       "      <td>...</td>\n",
       "      <td>...</td>\n",
       "      <td>...</td>\n",
       "      <td>...</td>\n",
       "      <td>...</td>\n",
       "      <td>...</td>\n",
       "      <td>...</td>\n",
       "      <td>...</td>\n",
       "      <td>...</td>\n",
       "      <td>...</td>\n",
       "      <td>...</td>\n",
       "      <td>...</td>\n",
       "      <td>...</td>\n",
       "      <td>...</td>\n",
       "      <td>...</td>\n",
       "    </tr>\n",
       "    <tr>\n",
       "      <th>543646</th>\n",
       "      <td>543647</td>\n",
       "      <td>0</td>\n",
       "      <td>0.037291</td>\n",
       "      <td>[[0.07533101699690112, 1.0], [0.09850054429890...</td>\n",
       "      <td>0.496040</td>\n",
       "      <td>1.328843</td>\n",
       "      <td>5.326978e+05</td>\n",
       "      <td>27.408767</td>\n",
       "      <td>8.0</td>\n",
       "      <td>52.0</td>\n",
       "      <td>30.0</td>\n",
       "      <td>1.176598e+05</td>\n",
       "      <td>5</td>\n",
       "      <td>0.175640</td>\n",
       "      <td>2.137431</td>\n",
       "      <td>0.182437</td>\n",
       "    </tr>\n",
       "    <tr>\n",
       "      <th>543647</th>\n",
       "      <td>543648</td>\n",
       "      <td>0</td>\n",
       "      <td>0.035877</td>\n",
       "      <td>[[0.20384870204179967, 1.0], [0.20784574100201...</td>\n",
       "      <td>0.499757</td>\n",
       "      <td>1.261287</td>\n",
       "      <td>2.672066e+06</td>\n",
       "      <td>27.465434</td>\n",
       "      <td>8.0</td>\n",
       "      <td>48.0</td>\n",
       "      <td>30.0</td>\n",
       "      <td>1.558612e+06</td>\n",
       "      <td>5</td>\n",
       "      <td>0.175640</td>\n",
       "      <td>1.223011</td>\n",
       "      <td>0.531868</td>\n",
       "    </tr>\n",
       "    <tr>\n",
       "      <th>543648</th>\n",
       "      <td>543649</td>\n",
       "      <td>0</td>\n",
       "      <td>0.023306</td>\n",
       "      <td>[[0.0789925899981393, 1.0], [0.081787777439951...</td>\n",
       "      <td>0.497598</td>\n",
       "      <td>1.307808</td>\n",
       "      <td>4.327878e+06</td>\n",
       "      <td>27.510854</td>\n",
       "      <td>8.0</td>\n",
       "      <td>49.0</td>\n",
       "      <td>30.0</td>\n",
       "      <td>9.449508e+05</td>\n",
       "      <td>5</td>\n",
       "      <td>0.175640</td>\n",
       "      <td>1.562318</td>\n",
       "      <td>0.383129</td>\n",
       "    </tr>\n",
       "    <tr>\n",
       "      <th>543649</th>\n",
       "      <td>543650</td>\n",
       "      <td>0</td>\n",
       "      <td>0.015121</td>\n",
       "      <td>[[0.2075966163542876, 1.0], [0.208343603648015...</td>\n",
       "      <td>0.568717</td>\n",
       "      <td>1.189190</td>\n",
       "      <td>4.125397e+06</td>\n",
       "      <td>27.479876</td>\n",
       "      <td>9.0</td>\n",
       "      <td>49.0</td>\n",
       "      <td>30.0</td>\n",
       "      <td>1.039964e+06</td>\n",
       "      <td>5</td>\n",
       "      <td>0.175640</td>\n",
       "      <td>1.341532</td>\n",
       "      <td>0.479184</td>\n",
       "    </tr>\n",
       "    <tr>\n",
       "      <th>543650</th>\n",
       "      <td>543651</td>\n",
       "      <td>0</td>\n",
       "      <td>0.019647</td>\n",
       "      <td>[[0.20330507957802305, 1.0], [0.21177697598376...</td>\n",
       "      <td>0.496411</td>\n",
       "      <td>1.327329</td>\n",
       "      <td>5.452121e+05</td>\n",
       "      <td>27.509347</td>\n",
       "      <td>8.0</td>\n",
       "      <td>49.0</td>\n",
       "      <td>31.0</td>\n",
       "      <td>4.728067e+05</td>\n",
       "      <td>5</td>\n",
       "      <td>0.175640</td>\n",
       "      <td>1.343903</td>\n",
       "      <td>0.478131</td>\n",
       "    </tr>\n",
       "  </tbody>\n",
       "</table>\n",
       "<p>543651 rows × 16 columns</p>\n",
       "</div>"
      ],
      "text/plain": [
       "           rut  cluster  Probabilidad_No_Pago  \\\n",
       "0            1        0              0.028445   \n",
       "1            2        0              0.014320   \n",
       "2            3        0              0.002156   \n",
       "3            4        0              0.034418   \n",
       "4            5        0              0.014978   \n",
       "...        ...      ...                   ...   \n",
       "543646  543647        0              0.037291   \n",
       "543647  543648        0              0.035877   \n",
       "543648  543649        0              0.023306   \n",
       "543649  543650        0              0.015121   \n",
       "543650  543651        0              0.019647   \n",
       "\n",
       "                                             tratamientos  \\\n",
       "0       [[0.20384870204179967, 1.0], [0.20784574100201...   \n",
       "1       [[0.08183039140445127, 1.0], [0.08207471588380...   \n",
       "2       [[0.20574240514050998, 1.0], [0.21240180638305...   \n",
       "3       [[0.20302978806049865, 1.0], [0.21238682120531...   \n",
       "4       [[0.14013414937103366, 1.0], [0.16421079183570...   \n",
       "...                                                   ...   \n",
       "543646  [[0.07533101699690112, 1.0], [0.09850054429890...   \n",
       "543647  [[0.20384870204179967, 1.0], [0.20784574100201...   \n",
       "543648  [[0.0789925899981393, 1.0], [0.081787777439951...   \n",
       "543649  [[0.2075966163542876, 1.0], [0.208343603648015...   \n",
       "543650  [[0.20330507957802305, 1.0], [0.21177697598376...   \n",
       "\n",
       "        probabilidad_aceptacion_optima  tasa_optima  Monto_Simulado_mean  \\\n",
       "0                             0.499757     1.261287         2.672066e+06   \n",
       "1                             0.552339     1.219217         7.124037e+05   \n",
       "2                             0.624972     1.075107         2.459338e+07   \n",
       "3                             0.473732     1.373885         7.612776e+05   \n",
       "4                             0.499332     1.265790         4.997373e+05   \n",
       "...                                ...          ...                  ...   \n",
       "543646                        0.496040     1.328843         5.326978e+05   \n",
       "543647                        0.499757     1.261287         2.672066e+06   \n",
       "543648                        0.497598     1.307808         4.327878e+06   \n",
       "543649                        0.568717     1.189190         4.125397e+06   \n",
       "543650                        0.496411     1.327329         5.452121e+05   \n",
       "\n",
       "        Plazo_Simulado_mean  Plazo_Simulado_min  Plazo_Simulado_max  \\\n",
       "0                 27.465434                 8.0                48.0   \n",
       "1                 27.651125                 9.0                50.0   \n",
       "2                 27.514339                 9.0                49.0   \n",
       "3                 27.501192                 8.0                48.0   \n",
       "4                 27.442591                 8.0                49.0   \n",
       "...                     ...                 ...                 ...   \n",
       "543646            27.408767                 8.0                52.0   \n",
       "543647            27.465434                 8.0                48.0   \n",
       "543648            27.510854                 8.0                49.0   \n",
       "543649            27.479876                 9.0                49.0   \n",
       "543650            27.509347                 8.0                49.0   \n",
       "\n",
       "        Plazo_Simulado_mode         Renta  assigned_treatment  \\\n",
       "0                      30.0  6.258183e+05                   5   \n",
       "1                      30.0  3.172616e+05                   5   \n",
       "2                      30.0  1.240551e+07                   8   \n",
       "3                      31.0  5.441466e+05                   5   \n",
       "4                      30.0  1.870225e+05                   5   \n",
       "...                     ...           ...                 ...   \n",
       "543646                 30.0  1.176598e+05                   5   \n",
       "543647                 30.0  1.558612e+06                   5   \n",
       "543648                 30.0  9.449508e+05                   5   \n",
       "543649                 30.0  1.039964e+06                   5   \n",
       "543650                 31.0  4.728067e+05                   5   \n",
       "\n",
       "        probabilidad_de_simular  tasa_optima_y  \\\n",
       "0                      0.175640       1.561810   \n",
       "1                      0.175640       2.426071   \n",
       "2                      0.366161       2.097991   \n",
       "3                      0.175640       1.897988   \n",
       "4                      0.175640       1.234028   \n",
       "...                         ...            ...   \n",
       "543646                 0.175640       2.137431   \n",
       "543647                 0.175640       1.223011   \n",
       "543648                 0.175640       1.562318   \n",
       "543649                 0.175640       1.341532   \n",
       "543650                 0.175640       1.343903   \n",
       "\n",
       "        probabilidad_aceptacion_optima_y  \n",
       "0                               0.383343  \n",
       "1                               0.117775  \n",
       "2                               0.193142  \n",
       "3                               0.254692  \n",
       "4                               0.526982  \n",
       "...                                  ...  \n",
       "543646                          0.182437  \n",
       "543647                          0.531868  \n",
       "543648                          0.383129  \n",
       "543649                          0.479184  \n",
       "543650                          0.478131  \n",
       "\n",
       "[543651 rows x 16 columns]"
      ]
     },
     "execution_count": 92,
     "metadata": {},
     "output_type": "execute_result"
    }
   ],
   "source": [
    "assigned_treatments_int3"
   ]
  },
  {
   "cell_type": "code",
   "execution_count": null,
   "metadata": {},
   "outputs": [],
   "source": [
    "df_cluster_info_int3_csv = df_estimar_elasticidad_int3.groupby('categoria_clusterizacion_numerica').agg({\n",
    "'Monto_Simulado_mean': 'mean',\n",
    "'Plazo_Simulado_mean': 'mean',\n",
    "'Plazo_Simulado_min': 'min',\n",
    "'Plazo_Simulado_max': 'max',\n",
    "'Plazo_Simulado_mode': lambda x: x.mode().iloc[0] if not x.mode().empty else np.nan})"
   ]
  },
  {
   "cell_type": "code",
   "execution_count": null,
   "metadata": {},
   "outputs": [
    {
     "data": {
      "text/html": [
       "<div>\n",
       "<style scoped>\n",
       "    .dataframe tbody tr th:only-of-type {\n",
       "        vertical-align: middle;\n",
       "    }\n",
       "\n",
       "    .dataframe tbody tr th {\n",
       "        vertical-align: top;\n",
       "    }\n",
       "\n",
       "    .dataframe thead th {\n",
       "        text-align: right;\n",
       "    }\n",
       "</style>\n",
       "<table border=\"1\" class=\"dataframe\">\n",
       "  <thead>\n",
       "    <tr style=\"text-align: right;\">\n",
       "      <th></th>\n",
       "      <th>Monto_Simulado_mean</th>\n",
       "      <th>Plazo_Simulado_mean</th>\n",
       "      <th>Plazo_Simulado_min</th>\n",
       "      <th>Plazo_Simulado_max</th>\n",
       "      <th>Plazo_Simulado_mode</th>\n",
       "    </tr>\n",
       "    <tr>\n",
       "      <th>categoria_clusterizacion_numerica</th>\n",
       "      <th></th>\n",
       "      <th></th>\n",
       "      <th></th>\n",
       "      <th></th>\n",
       "      <th></th>\n",
       "    </tr>\n",
       "  </thead>\n",
       "  <tbody>\n",
       "    <tr>\n",
       "      <th>0</th>\n",
       "      <td>6.964109e+06</td>\n",
       "      <td>27.502137</td>\n",
       "      <td>7.0</td>\n",
       "      <td>52.0</td>\n",
       "      <td>30.0</td>\n",
       "    </tr>\n",
       "  </tbody>\n",
       "</table>\n",
       "</div>"
      ],
      "text/plain": [
       "                                   Monto_Simulado_mean  Plazo_Simulado_mean  \\\n",
       "categoria_clusterizacion_numerica                                             \n",
       "0                                         6.964109e+06            27.502137   \n",
       "\n",
       "                                   Plazo_Simulado_min  Plazo_Simulado_max  \\\n",
       "categoria_clusterizacion_numerica                                           \n",
       "0                                                 7.0                52.0   \n",
       "\n",
       "                                   Plazo_Simulado_mode  \n",
       "categoria_clusterizacion_numerica                       \n",
       "0                                                 30.0  "
      ]
     },
     "execution_count": 94,
     "metadata": {},
     "output_type": "execute_result"
    }
   ],
   "source": [
    "df_cluster_info_int3_csv"
   ]
  },
  {
   "cell_type": "code",
   "execution_count": null,
   "metadata": {},
   "outputs": [
    {
     "name": "stdout",
     "output_type": "stream",
     "text": [
      "CSV file saved in folder: assigned_treatments_intuitivo_3/assignation_20241116_201041\\assigned_treatments_intuitivo3.csv\n"
     ]
    }
   ],
   "source": [
    "import os\n",
    "from datetime import datetime\n",
    "\n",
    "# Crear una carpeta con un nombre basado en la fecha y hora actual\n",
    "# 'strftime' genera un timestamp en el formato \"YYYYMMDD_HHMMSS\" para asegurar nombres de carpeta únicos.\n",
    "timestamp = datetime.now().strftime(\"%Y%m%d_%H%M%S\")\n",
    "folder_name = f\"assigned_treatments_intuitivo_3/assignation_{timestamp}\"\n",
    "os.makedirs(folder_name, exist_ok=True)  # Crear la carpeta; 'exist_ok=True' evita errores si la carpeta ya existe.\n",
    "\n",
    "# Definir la ruta del archivo CSV dentro de la nueva carpeta\n",
    "output_path = os.path.join(folder_name, 'assigned_treatments_intuitivo3.csv')\n",
    "output_path_cluster = os.path.join(folder_name, 'cluster_info_intuitivo3.csv')\n",
    "\n",
    "# Guardar el DataFrame 'df_assigned' con las columnas seleccionadas en un archivo CSV\n",
    "# Se incluyen las columnas clave: 'rut', 'cluster', 'Probabilidad_No_Pago', 'RC', 'assigned_treatment',\n",
    "# 'probabilidad_de_simular', 'tasa_optima' y 'probabilidad_aceptacion_optima'.\n",
    "assigned_treatments_int3[['rut', 'cluster', 'Probabilidad_No_Pago', 'assigned_treatment', 'probabilidad_de_simular', 'tasa_optima',  'probabilidad_aceptacion_optima']].to_csv(output_path, index=False)\n",
    "df_cluster_info_int3_csv.to_csv(output_path_cluster, index=True)\n",
    "# Imprimir mensaje de confirmación con la ubicación del archivo CSV guardado\n",
    "print(f\"CSV file saved in folder: {output_path}\")"
   ]
  },
  {
   "cell_type": "markdown",
   "metadata": {},
   "source": [
    "# MODELO INTUITIVO 4"
   ]
  },
  {
   "cell_type": "markdown",
   "metadata": {},
   "source": [
    "- Asigna el mejor tratamiento a los 205000 clientes mejor pagadores y a los demas 4 correos\n",
    "- Precios aleatorios también"
   ]
  },
  {
   "cell_type": "code",
   "execution_count": null,
   "metadata": {},
   "outputs": [],
   "source": [
    "df_rut_info_int4 = df_rut_info.copy()\n",
    "df_probabilities_treatment_int4 = df_probabilities_treatment.copy()\n",
    "df_cluster_info_int4 = df_cluster_info.copy()\n",
    "df_simulaciones_info_int_4 = df_simulaciones_info.copy()"
   ]
  },
  {
   "cell_type": "code",
   "execution_count": null,
   "metadata": {},
   "outputs": [],
   "source": [
    "df_estimar_elasticidad_int4 = df_estimar_elasticidad.copy()"
   ]
  },
  {
   "cell_type": "code",
   "execution_count": null,
   "metadata": {},
   "outputs": [],
   "source": [
    "df_rut_info_int4['categoria_clusterizacion_numerica'] = 0"
   ]
  },
  {
   "cell_type": "markdown",
   "metadata": {},
   "source": [
    "## Precios intuitivo 4"
   ]
  },
  {
   "cell_type": "code",
   "execution_count": null,
   "metadata": {},
   "outputs": [],
   "source": [
    "df_estimar_elasticidad_int4['categoria_clusterizacion_numerica'] = 0"
   ]
  },
  {
   "cell_type": "code",
   "execution_count": null,
   "metadata": {},
   "outputs": [],
   "source": [
    "def function_estimar_elasticidad_int4(df):\n",
    "    \"\"\"\n",
    "    Assigns random prices to clients in a single cluster and estimates the probability \n",
    "    of acceptance for each price using logistic regression.\n",
    "\n",
    "    Parameters:\n",
    "    - df (pd.DataFrame): DataFrame containing client data with at least 'venta', \n",
    "                         'Tasa_Simulado', and 'rut' columns.\n",
    "\n",
    "    Returns:\n",
    "    - pd.DataFrame: DataFrame with 'rut', 'price_set', and 'acceptance_probability'.\n",
    "    \"\"\"\n",
    "    \n",
    "    # Check if the DataFrame is empty\n",
    "    if df.empty:\n",
    "        print(\"The input DataFrame is empty.\")\n",
    "        return pd.DataFrame(columns=['rut', 'price_set', 'acceptance_probability'])\n",
    "    \n",
    "    # Clean the data: Remove rows with NaN or infinite values in relevant columns\n",
    "    df_clean = df.replace([np.inf, -np.inf], np.nan).dropna(\n",
    "        subset=['venta', 'Tasa_Simulado']\n",
    "    )\n",
    "    \n",
    "    # Ensure there are enough data points to fit the model\n",
    "    if df_clean.shape[0] < 10:\n",
    "        print(\"Not enough data to fit the logistic regression model.\")\n",
    "        return pd.DataFrame(columns=['rut', 'price_set', 'acceptance_probability'])\n",
    "    \n",
    "    # Define the dependent and independent variables\n",
    "    y = df_clean['venta']\n",
    "    X = df_clean[['Tasa_Simulado']]\n",
    "    \n",
    "    # Add a constant term for the intercept\n",
    "    X = sm.add_constant(X)\n",
    "    \n",
    "    # Fit the logistic regression model\n",
    "    try:\n",
    "        logit_model = sm.Logit(y, X)\n",
    "        result = logit_model.fit(disp=0)\n",
    "    except Exception as e:\n",
    "        print(f\"Logistic regression failed to converge: {e}\")\n",
    "        return pd.DataFrame(columns=['rut', 'price_set', 'acceptance_probability'])\n",
    "    \n",
    "    # Determine the range of prices from the data\n",
    "    tasa_min = df_clean['Tasa_Simulado'].min()\n",
    "    tasa_max = df_clean['Tasa_Simulado'].max()\n",
    "\n",
    "    df_clean = df_clean.drop_duplicates(subset='rut')\n",
    "    \n",
    "    # Assign a random price to each client within the observed range\n",
    "    np.random.seed(42)  # For reproducibility; remove or change seed as needed\n",
    "    df_clean['tasa_optima'] = np.random.uniform(low=tasa_min, high=tasa_max, size=df_clean.shape[0])\n",
    "\n",
    "    \n",
    "    # Prepare the data for prediction by adding a constant term\n",
    "    X_new = sm.add_constant(df_clean['tasa_optima'])\n",
    "    \n",
    "    # Predict the acceptance probability using the logistic model\n",
    "    df_clean['probabilidad_aceptacion_optima'] = result.predict(X_new)\n",
    "    \n",
    "    # Ensure probabilities are within [0, 1]\n",
    "    df_clean['probabilidad_aceptacion_optima'] = df_clean['probabilidad_aceptacion_optima'].clip(0, 1)\n",
    "    \n",
    "    # Select the required columns to return\n",
    "    result_df = df_clean[['rut', 'tasa_optima', 'probabilidad_aceptacion_optima']].copy()\n",
    "    \n",
    "    return result_df"
   ]
  },
  {
   "cell_type": "code",
   "execution_count": null,
   "metadata": {},
   "outputs": [],
   "source": [
    "prices4 = function_estimar_elasticidad_int4(df_estimar_elasticidad_int4)"
   ]
  },
  {
   "cell_type": "markdown",
   "metadata": {},
   "source": [
    "## Tratamientos intuitivo 4"
   ]
  },
  {
   "cell_type": "code",
   "execution_count": null,
   "metadata": {},
   "outputs": [],
   "source": [
    "df_probabilities_treatment_int4 = df_probabilities_treatment_int4[(df_probabilities_treatment_int4['Tratamiento'] == '\tEjecutivo=0, Correos=4')|(df_probabilities_treatment_int4['Tratamiento'] == 'Ejecutivo=1, Correos=2')]"
   ]
  },
  {
   "cell_type": "markdown",
   "metadata": {},
   "source": [
    "### Estimacion de respuesta"
   ]
  },
  {
   "cell_type": "code",
   "execution_count": null,
   "metadata": {},
   "outputs": [],
   "source": [
    "tratamiento_map = {  # Mapeo de los tratamientos específicos a identificadores numéricos\n",
    "    \"Ejecutivo=0, Correos=0\": 1, \"Ejecutivo=0, Correos=1\": 2,\n",
    "    \"Ejecutivo=0, Correos=2\": 3, \"Ejecutivo=0, Correos=3\": 4,\n",
    "    \"Ejecutivo=0, Correos=4\": 5, \"Ejecutivo=1, Correos=0\": 6,\n",
    "    \"Ejecutivo=1, Correos=1\": 7, \"Ejecutivo=1, Correos=2\": 8\n",
    "}\n",
    "df_probabilities_int4 = df_probabilities_treatment_int4\n",
    "df_probabilities_int4['tratamiento_id'] = df_probabilities_int4['Tratamiento'].map(tratamiento_map)"
   ]
  },
  {
   "cell_type": "code",
   "execution_count": null,
   "metadata": {},
   "outputs": [],
   "source": [
    "def function_estimar_respuesta_a_tratamiento(df_estimar_elasticidad, df_simulaciones_info): #df1 es df_estimar_elasticidad y df2 es df_simulaciones_info\n",
    "    # Paso 1: Preparación de datos y mapeo de clusters\n",
    "    # Eliminar duplicados en 'df1' para tener un valor único de 'categoria_clusterizacion_numerica' por cada 'rut'.\n",
    "    df_estimar_elasticidad_unique = df_estimar_elasticidad.drop_duplicates(subset='rut')\n",
    "\n",
    "    # Crear un mapeo de 'rut' a 'categoria_clusterizacion_numerica' para asociar cada cliente a su cluster numérico.\n",
    "    rut_cluster_map = df_estimar_elasticidad_unique.set_index('rut')['categoria_clusterizacion_numerica']\n",
    "\n",
    "    # Mapear la categoría de cluster a cada 'rut' en 'df2' usando el mapeo creado\n",
    "    df_simulaciones_info['categoria_clusterizacion_numerica'] = df_simulaciones_info['rut'].map(rut_cluster_map)\n",
    "\n",
    "    # Eliminar filas donde 'categoria_clusterizacion_numerica' es nulo, es decir, aquellos 'rut' sin mapeo de cluster.\n",
    "    df_simulaciones_info = df_simulaciones_info.dropna(subset=['categoria_clusterizacion_numerica'])\n",
    "\n",
    "    # Conversión de tipos de datos\n",
    "    # Convertir 'categoria_clusterizacion_numerica' a entero para garantizar un tipo de dato consistente.\n",
    "    df_simulaciones_info['categoria_clusterizacion_numerica'] = df_simulaciones_info['categoria_clusterizacion_numerica'].astype(int)\n",
    "\n",
    "    # Convertir 'simulo' a numérico, reemplazando valores nulos por 0 y asegurando que sea un tipo de dato entero.\n",
    "    df_simulaciones_info['simulo'] = pd.to_numeric(df_simulaciones_info['simulo'], errors='coerce').fillna(0).astype(int)\n",
    "\n",
    "    # Convertir 'Tratamiento' a tipo de categoría para optimizar espacio y realizar operaciones categóricas.\n",
    "    df_simulaciones_info['Tratamiento'] = df_simulaciones_info['Tratamiento'].astype('category')\n",
    "\n",
    "    # Paso 2: Calcular el caso total (entradas por tratamiento sin importar el valor de 'simulo')\n",
    "    # Agrupar por 'categoria_clusterizacion_numerica' y 'Tratamiento' para contar el número total de registros en cada combinación.\n",
    "    total_entries_per_cluster_treatment = df_simulaciones_info.groupby(['categoria_clusterizacion_numerica', 'Tratamiento']).size().reset_index(name='caso_total')\n",
    "\n",
    "    # Paso 3: Calcular el caso favorable (entradas por tratamiento cuando 'simulo' == 1)\n",
    "    # Filtrar filas donde 'simulo' es 1 (clientes que realizaron una simulación)\n",
    "    df_simulations = df_simulaciones_info[df_simulaciones_info['simulo'] == 1]\n",
    "\n",
    "    # Agrupar por 'categoria_clusterizacion_numerica' y 'Tratamiento' para contar el número de registros favorables (simulaciones).\n",
    "    favorable_entries_per_cluster_treatment = df_simulations.groupby(['categoria_clusterizacion_numerica', 'Tratamiento']).size().reset_index(name='caso_favorable')\n",
    "\n",
    "    # Paso 4: Calcular la probabilidad de simulación como caso favorable / caso total\n",
    "    # Realizar un merge entre 'total_entries_per_cluster_treatment' y 'favorable_entries_per_cluster_treatment' en las columnas de cluster y tratamiento.\n",
    "    df_probabilities = total_entries_per_cluster_treatment.merge(\n",
    "        favorable_entries_per_cluster_treatment,\n",
    "        on=['categoria_clusterizacion_numerica', 'Tratamiento'],\n",
    "        how='left'\n",
    "    )\n",
    "\n",
    "    # Llenar valores nulos en 'caso_favorable' con 0, asegurando que solo las columnas numéricas estén afectadas.\n",
    "    df_probabilities['caso_favorable'] = df_probabilities['caso_favorable'].fillna(0).astype(int)\n",
    "\n",
    "    # Asegurar que 'caso_total' sea de tipo entero para evitar inconsistencias en los conteos.\n",
    "    df_probabilities['caso_total'] = df_probabilities['caso_total'].astype(int)\n",
    "\n",
    "    # Calcular la probabilidad de simulación como el cociente entre 'caso_favorable' y 'caso_total'.\n",
    "    df_probabilities['probabilidad_simular'] = df_probabilities['caso_favorable'] / df_probabilities['caso_total']\n",
    "\n",
    "    # Organizar las columnas del DataFrame resultante para facilitar su análisis.\n",
    "    df_probabilities = df_probabilities[[\n",
    "        'categoria_clusterizacion_numerica',\n",
    "        'Tratamiento',\n",
    "        'probabilidad_simular',\n",
    "        'caso_favorable',\n",
    "        'caso_total'\n",
    "    ]]\n",
    "\n",
    "    # Mostrar el DataFrame resultante con la probabilidad de simulación calculada para cada combinación de cluster y tratamiento.\n",
    "    return df_probabilities\n"
   ]
  },
  {
   "cell_type": "code",
   "execution_count": null,
   "metadata": {},
   "outputs": [],
   "source": [
    "df_probabilities = function_estimar_respuesta_a_tratamiento(df_estimar_elasticidad_int4, df_simulaciones_info_int_4)"
   ]
  },
  {
   "cell_type": "code",
   "execution_count": null,
   "metadata": {},
   "outputs": [],
   "source": [
    "df_rut_info_int4 = pd.merge(df_rut_info_int4, df_informacion_de_clientes[['rut', 'Probabilidad_No_Pago']], on='rut', how='left')"
   ]
  },
  {
   "cell_type": "code",
   "execution_count": null,
   "metadata": {},
   "outputs": [],
   "source": [
    "df_rut_info_int4.rename(columns={'Probabilidad_No_Pago_x': 'Probabilidad_No_Pago'}, inplace = True)"
   ]
  },
  {
   "cell_type": "markdown",
   "metadata": {},
   "source": [
    "### Asignación"
   ]
  },
  {
   "cell_type": "code",
   "execution_count": null,
   "metadata": {},
   "outputs": [],
   "source": [
    "# Asignar valor predeterminado de tratamiento 5 a todas las filas\n",
    "df_rut_info_int4['assigned_treatment'] = 5\n",
    "\n",
    "# Seleccionar las 205,000 filas con la Probabilidad_No_Pago mas baja\n",
    "top_pnp_indices = df_rut_info_int4.nsmallest(205000, 'Probabilidad_No_Pago').index\n",
    "\n",
    "# Asignar el valor de tratamiento 8 a estas filas\n",
    "df_rut_info_int4.loc[top_pnp_indices, 'assigned_treatment'] = 8\n",
    "\n",
    "# Obtener las probabilidades requeridas desde df_probabilities\n",
    "prob_for_5 = df_probabilities.loc[4, 'probabilidad_simular']  # Para el tratamiento 5\n",
    "prob_for_8 = df_probabilities.loc[7, 'probabilidad_simular']  # Para el tratamiento 8\n",
    "\n",
    "# Agregar una nueva columna con probabilidades según el tratamiento asignado\n",
    "df_rut_info_int4['probabilidad_de_simular'] = df_rut_info_int4['assigned_treatment'].map({\n",
    "    5: prob_for_5,\n",
    "    8: prob_for_8\n",
    "})"
   ]
  },
  {
   "cell_type": "code",
   "execution_count": null,
   "metadata": {},
   "outputs": [],
   "source": [
    "assigned_treatments_int4 = pd.merge(df_rut_info_int4, prices4, on='rut', how='left')"
   ]
  },
  {
   "cell_type": "code",
   "execution_count": null,
   "metadata": {},
   "outputs": [],
   "source": [
    "assigned_treatments_int4.rename(columns={'categoria_clusterizacion_numerica': 'cluster'}, inplace=True)"
   ]
  },
  {
   "cell_type": "code",
   "execution_count": null,
   "metadata": {},
   "outputs": [],
   "source": [
    "assigned_treatments_int4.rename(columns={'probabilidad_aceptacion_optima_x': 'probabilidad_aceptacion_optima', 'tasa_optima_x': 'tasa_optima'}, inplace=True)"
   ]
  },
  {
   "cell_type": "code",
   "execution_count": null,
   "metadata": {},
   "outputs": [
    {
     "data": {
      "text/html": [
       "<div>\n",
       "<style scoped>\n",
       "    .dataframe tbody tr th:only-of-type {\n",
       "        vertical-align: middle;\n",
       "    }\n",
       "\n",
       "    .dataframe tbody tr th {\n",
       "        vertical-align: top;\n",
       "    }\n",
       "\n",
       "    .dataframe thead th {\n",
       "        text-align: right;\n",
       "    }\n",
       "</style>\n",
       "<table border=\"1\" class=\"dataframe\">\n",
       "  <thead>\n",
       "    <tr style=\"text-align: right;\">\n",
       "      <th></th>\n",
       "      <th>rut</th>\n",
       "      <th>cluster</th>\n",
       "      <th>Probabilidad_No_Pago</th>\n",
       "      <th>tratamientos</th>\n",
       "      <th>probabilidad_aceptacion_optima</th>\n",
       "      <th>tasa_optima</th>\n",
       "      <th>Monto_Simulado_mean</th>\n",
       "      <th>Plazo_Simulado_mean</th>\n",
       "      <th>Plazo_Simulado_min</th>\n",
       "      <th>Plazo_Simulado_max</th>\n",
       "      <th>Plazo_Simulado_mode</th>\n",
       "      <th>Probabilidad_No_Pago_y</th>\n",
       "      <th>assigned_treatment</th>\n",
       "      <th>probabilidad_de_simular</th>\n",
       "      <th>tasa_optima_y</th>\n",
       "      <th>probabilidad_aceptacion_optima_y</th>\n",
       "    </tr>\n",
       "  </thead>\n",
       "  <tbody>\n",
       "    <tr>\n",
       "      <th>0</th>\n",
       "      <td>1</td>\n",
       "      <td>0</td>\n",
       "      <td>0.028445</td>\n",
       "      <td>[[0.20384870204179967, 1.0], [0.20784574100201...</td>\n",
       "      <td>0.499757</td>\n",
       "      <td>1.261287</td>\n",
       "      <td>2.672066e+06</td>\n",
       "      <td>27.465434</td>\n",
       "      <td>8.0</td>\n",
       "      <td>48.0</td>\n",
       "      <td>30.0</td>\n",
       "      <td>0.028445</td>\n",
       "      <td>5</td>\n",
       "      <td>0.175640</td>\n",
       "      <td>1.561810</td>\n",
       "      <td>0.383343</td>\n",
       "    </tr>\n",
       "    <tr>\n",
       "      <th>1</th>\n",
       "      <td>2</td>\n",
       "      <td>0</td>\n",
       "      <td>0.014320</td>\n",
       "      <td>[[0.08183039140445127, 1.0], [0.08207471588380...</td>\n",
       "      <td>0.552339</td>\n",
       "      <td>1.219217</td>\n",
       "      <td>7.124037e+05</td>\n",
       "      <td>27.651125</td>\n",
       "      <td>9.0</td>\n",
       "      <td>50.0</td>\n",
       "      <td>30.0</td>\n",
       "      <td>0.014320</td>\n",
       "      <td>5</td>\n",
       "      <td>0.175640</td>\n",
       "      <td>2.426071</td>\n",
       "      <td>0.117775</td>\n",
       "    </tr>\n",
       "    <tr>\n",
       "      <th>2</th>\n",
       "      <td>3</td>\n",
       "      <td>0</td>\n",
       "      <td>0.002156</td>\n",
       "      <td>[[0.20574240514050998, 1.0], [0.21240180638305...</td>\n",
       "      <td>0.624972</td>\n",
       "      <td>1.075107</td>\n",
       "      <td>2.459338e+07</td>\n",
       "      <td>27.514339</td>\n",
       "      <td>9.0</td>\n",
       "      <td>49.0</td>\n",
       "      <td>30.0</td>\n",
       "      <td>0.002156</td>\n",
       "      <td>8</td>\n",
       "      <td>0.366161</td>\n",
       "      <td>2.097991</td>\n",
       "      <td>0.193142</td>\n",
       "    </tr>\n",
       "    <tr>\n",
       "      <th>3</th>\n",
       "      <td>4</td>\n",
       "      <td>0</td>\n",
       "      <td>0.034418</td>\n",
       "      <td>[[0.20302978806049865, 1.0], [0.21238682120531...</td>\n",
       "      <td>0.473732</td>\n",
       "      <td>1.373885</td>\n",
       "      <td>7.612776e+05</td>\n",
       "      <td>27.501192</td>\n",
       "      <td>8.0</td>\n",
       "      <td>48.0</td>\n",
       "      <td>31.0</td>\n",
       "      <td>0.034418</td>\n",
       "      <td>5</td>\n",
       "      <td>0.175640</td>\n",
       "      <td>1.897988</td>\n",
       "      <td>0.254692</td>\n",
       "    </tr>\n",
       "    <tr>\n",
       "      <th>4</th>\n",
       "      <td>5</td>\n",
       "      <td>0</td>\n",
       "      <td>0.014978</td>\n",
       "      <td>[[0.14013414937103366, 1.0], [0.16421079183570...</td>\n",
       "      <td>0.499332</td>\n",
       "      <td>1.265790</td>\n",
       "      <td>4.997373e+05</td>\n",
       "      <td>27.442591</td>\n",
       "      <td>8.0</td>\n",
       "      <td>49.0</td>\n",
       "      <td>30.0</td>\n",
       "      <td>0.014978</td>\n",
       "      <td>5</td>\n",
       "      <td>0.175640</td>\n",
       "      <td>1.234028</td>\n",
       "      <td>0.526982</td>\n",
       "    </tr>\n",
       "    <tr>\n",
       "      <th>...</th>\n",
       "      <td>...</td>\n",
       "      <td>...</td>\n",
       "      <td>...</td>\n",
       "      <td>...</td>\n",
       "      <td>...</td>\n",
       "      <td>...</td>\n",
       "      <td>...</td>\n",
       "      <td>...</td>\n",
       "      <td>...</td>\n",
       "      <td>...</td>\n",
       "      <td>...</td>\n",
       "      <td>...</td>\n",
       "      <td>...</td>\n",
       "      <td>...</td>\n",
       "      <td>...</td>\n",
       "      <td>...</td>\n",
       "    </tr>\n",
       "    <tr>\n",
       "      <th>543646</th>\n",
       "      <td>543647</td>\n",
       "      <td>0</td>\n",
       "      <td>0.037291</td>\n",
       "      <td>[[0.07533101699690112, 1.0], [0.09850054429890...</td>\n",
       "      <td>0.496040</td>\n",
       "      <td>1.328843</td>\n",
       "      <td>5.326978e+05</td>\n",
       "      <td>27.408767</td>\n",
       "      <td>8.0</td>\n",
       "      <td>52.0</td>\n",
       "      <td>30.0</td>\n",
       "      <td>0.037291</td>\n",
       "      <td>5</td>\n",
       "      <td>0.175640</td>\n",
       "      <td>2.137431</td>\n",
       "      <td>0.182437</td>\n",
       "    </tr>\n",
       "    <tr>\n",
       "      <th>543647</th>\n",
       "      <td>543648</td>\n",
       "      <td>0</td>\n",
       "      <td>0.035877</td>\n",
       "      <td>[[0.20384870204179967, 1.0], [0.20784574100201...</td>\n",
       "      <td>0.499757</td>\n",
       "      <td>1.261287</td>\n",
       "      <td>2.672066e+06</td>\n",
       "      <td>27.465434</td>\n",
       "      <td>8.0</td>\n",
       "      <td>48.0</td>\n",
       "      <td>30.0</td>\n",
       "      <td>0.035877</td>\n",
       "      <td>5</td>\n",
       "      <td>0.175640</td>\n",
       "      <td>1.223011</td>\n",
       "      <td>0.531868</td>\n",
       "    </tr>\n",
       "    <tr>\n",
       "      <th>543648</th>\n",
       "      <td>543649</td>\n",
       "      <td>0</td>\n",
       "      <td>0.023306</td>\n",
       "      <td>[[0.0789925899981393, 1.0], [0.081787777439951...</td>\n",
       "      <td>0.497598</td>\n",
       "      <td>1.307808</td>\n",
       "      <td>4.327878e+06</td>\n",
       "      <td>27.510854</td>\n",
       "      <td>8.0</td>\n",
       "      <td>49.0</td>\n",
       "      <td>30.0</td>\n",
       "      <td>0.023306</td>\n",
       "      <td>5</td>\n",
       "      <td>0.175640</td>\n",
       "      <td>1.562318</td>\n",
       "      <td>0.383129</td>\n",
       "    </tr>\n",
       "    <tr>\n",
       "      <th>543649</th>\n",
       "      <td>543650</td>\n",
       "      <td>0</td>\n",
       "      <td>0.015121</td>\n",
       "      <td>[[0.2075966163542876, 1.0], [0.208343603648015...</td>\n",
       "      <td>0.568717</td>\n",
       "      <td>1.189190</td>\n",
       "      <td>4.125397e+06</td>\n",
       "      <td>27.479876</td>\n",
       "      <td>9.0</td>\n",
       "      <td>49.0</td>\n",
       "      <td>30.0</td>\n",
       "      <td>0.015121</td>\n",
       "      <td>5</td>\n",
       "      <td>0.175640</td>\n",
       "      <td>1.341532</td>\n",
       "      <td>0.479184</td>\n",
       "    </tr>\n",
       "    <tr>\n",
       "      <th>543650</th>\n",
       "      <td>543651</td>\n",
       "      <td>0</td>\n",
       "      <td>0.019647</td>\n",
       "      <td>[[0.20330507957802305, 1.0], [0.21177697598376...</td>\n",
       "      <td>0.496411</td>\n",
       "      <td>1.327329</td>\n",
       "      <td>5.452121e+05</td>\n",
       "      <td>27.509347</td>\n",
       "      <td>8.0</td>\n",
       "      <td>49.0</td>\n",
       "      <td>31.0</td>\n",
       "      <td>0.019647</td>\n",
       "      <td>5</td>\n",
       "      <td>0.175640</td>\n",
       "      <td>1.343903</td>\n",
       "      <td>0.478131</td>\n",
       "    </tr>\n",
       "  </tbody>\n",
       "</table>\n",
       "<p>543651 rows × 16 columns</p>\n",
       "</div>"
      ],
      "text/plain": [
       "           rut  cluster  Probabilidad_No_Pago  \\\n",
       "0            1        0              0.028445   \n",
       "1            2        0              0.014320   \n",
       "2            3        0              0.002156   \n",
       "3            4        0              0.034418   \n",
       "4            5        0              0.014978   \n",
       "...        ...      ...                   ...   \n",
       "543646  543647        0              0.037291   \n",
       "543647  543648        0              0.035877   \n",
       "543648  543649        0              0.023306   \n",
       "543649  543650        0              0.015121   \n",
       "543650  543651        0              0.019647   \n",
       "\n",
       "                                             tratamientos  \\\n",
       "0       [[0.20384870204179967, 1.0], [0.20784574100201...   \n",
       "1       [[0.08183039140445127, 1.0], [0.08207471588380...   \n",
       "2       [[0.20574240514050998, 1.0], [0.21240180638305...   \n",
       "3       [[0.20302978806049865, 1.0], [0.21238682120531...   \n",
       "4       [[0.14013414937103366, 1.0], [0.16421079183570...   \n",
       "...                                                   ...   \n",
       "543646  [[0.07533101699690112, 1.0], [0.09850054429890...   \n",
       "543647  [[0.20384870204179967, 1.0], [0.20784574100201...   \n",
       "543648  [[0.0789925899981393, 1.0], [0.081787777439951...   \n",
       "543649  [[0.2075966163542876, 1.0], [0.208343603648015...   \n",
       "543650  [[0.20330507957802305, 1.0], [0.21177697598376...   \n",
       "\n",
       "        probabilidad_aceptacion_optima  tasa_optima  Monto_Simulado_mean  \\\n",
       "0                             0.499757     1.261287         2.672066e+06   \n",
       "1                             0.552339     1.219217         7.124037e+05   \n",
       "2                             0.624972     1.075107         2.459338e+07   \n",
       "3                             0.473732     1.373885         7.612776e+05   \n",
       "4                             0.499332     1.265790         4.997373e+05   \n",
       "...                                ...          ...                  ...   \n",
       "543646                        0.496040     1.328843         5.326978e+05   \n",
       "543647                        0.499757     1.261287         2.672066e+06   \n",
       "543648                        0.497598     1.307808         4.327878e+06   \n",
       "543649                        0.568717     1.189190         4.125397e+06   \n",
       "543650                        0.496411     1.327329         5.452121e+05   \n",
       "\n",
       "        Plazo_Simulado_mean  Plazo_Simulado_min  Plazo_Simulado_max  \\\n",
       "0                 27.465434                 8.0                48.0   \n",
       "1                 27.651125                 9.0                50.0   \n",
       "2                 27.514339                 9.0                49.0   \n",
       "3                 27.501192                 8.0                48.0   \n",
       "4                 27.442591                 8.0                49.0   \n",
       "...                     ...                 ...                 ...   \n",
       "543646            27.408767                 8.0                52.0   \n",
       "543647            27.465434                 8.0                48.0   \n",
       "543648            27.510854                 8.0                49.0   \n",
       "543649            27.479876                 9.0                49.0   \n",
       "543650            27.509347                 8.0                49.0   \n",
       "\n",
       "        Plazo_Simulado_mode  Probabilidad_No_Pago_y  assigned_treatment  \\\n",
       "0                      30.0                0.028445                   5   \n",
       "1                      30.0                0.014320                   5   \n",
       "2                      30.0                0.002156                   8   \n",
       "3                      31.0                0.034418                   5   \n",
       "4                      30.0                0.014978                   5   \n",
       "...                     ...                     ...                 ...   \n",
       "543646                 30.0                0.037291                   5   \n",
       "543647                 30.0                0.035877                   5   \n",
       "543648                 30.0                0.023306                   5   \n",
       "543649                 30.0                0.015121                   5   \n",
       "543650                 31.0                0.019647                   5   \n",
       "\n",
       "        probabilidad_de_simular  tasa_optima_y  \\\n",
       "0                      0.175640       1.561810   \n",
       "1                      0.175640       2.426071   \n",
       "2                      0.366161       2.097991   \n",
       "3                      0.175640       1.897988   \n",
       "4                      0.175640       1.234028   \n",
       "...                         ...            ...   \n",
       "543646                 0.175640       2.137431   \n",
       "543647                 0.175640       1.223011   \n",
       "543648                 0.175640       1.562318   \n",
       "543649                 0.175640       1.341532   \n",
       "543650                 0.175640       1.343903   \n",
       "\n",
       "        probabilidad_aceptacion_optima_y  \n",
       "0                               0.383343  \n",
       "1                               0.117775  \n",
       "2                               0.193142  \n",
       "3                               0.254692  \n",
       "4                               0.526982  \n",
       "...                                  ...  \n",
       "543646                          0.182437  \n",
       "543647                          0.531868  \n",
       "543648                          0.383129  \n",
       "543649                          0.479184  \n",
       "543650                          0.478131  \n",
       "\n",
       "[543651 rows x 16 columns]"
      ]
     },
     "execution_count": 62,
     "metadata": {},
     "output_type": "execute_result"
    }
   ],
   "source": [
    "assigned_treatments_int4"
   ]
  },
  {
   "cell_type": "code",
   "execution_count": null,
   "metadata": {},
   "outputs": [],
   "source": [
    "df_cluster_info_int4_csv = df_estimar_elasticidad_int4.groupby('categoria_clusterizacion_numerica').agg({\n",
    "'Monto_Simulado_mean': 'mean',\n",
    "'Plazo_Simulado_mean': 'mean',\n",
    "'Plazo_Simulado_min': 'min',\n",
    "'Plazo_Simulado_max': 'max',\n",
    "'Plazo_Simulado_mode': lambda x: x.mode().iloc[0] if not x.mode().empty else np.nan})"
   ]
  },
  {
   "cell_type": "code",
   "execution_count": null,
   "metadata": {},
   "outputs": [
    {
     "data": {
      "text/html": [
       "<div>\n",
       "<style scoped>\n",
       "    .dataframe tbody tr th:only-of-type {\n",
       "        vertical-align: middle;\n",
       "    }\n",
       "\n",
       "    .dataframe tbody tr th {\n",
       "        vertical-align: top;\n",
       "    }\n",
       "\n",
       "    .dataframe thead th {\n",
       "        text-align: right;\n",
       "    }\n",
       "</style>\n",
       "<table border=\"1\" class=\"dataframe\">\n",
       "  <thead>\n",
       "    <tr style=\"text-align: right;\">\n",
       "      <th></th>\n",
       "      <th>Monto_Simulado_mean</th>\n",
       "      <th>Plazo_Simulado_mean</th>\n",
       "      <th>Plazo_Simulado_min</th>\n",
       "      <th>Plazo_Simulado_max</th>\n",
       "      <th>Plazo_Simulado_mode</th>\n",
       "    </tr>\n",
       "    <tr>\n",
       "      <th>categoria_clusterizacion_numerica</th>\n",
       "      <th></th>\n",
       "      <th></th>\n",
       "      <th></th>\n",
       "      <th></th>\n",
       "      <th></th>\n",
       "    </tr>\n",
       "  </thead>\n",
       "  <tbody>\n",
       "    <tr>\n",
       "      <th>0</th>\n",
       "      <td>6.964109e+06</td>\n",
       "      <td>27.502137</td>\n",
       "      <td>7.0</td>\n",
       "      <td>52.0</td>\n",
       "      <td>30.0</td>\n",
       "    </tr>\n",
       "  </tbody>\n",
       "</table>\n",
       "</div>"
      ],
      "text/plain": [
       "                                   Monto_Simulado_mean  Plazo_Simulado_mean  \\\n",
       "categoria_clusterizacion_numerica                                             \n",
       "0                                         6.964109e+06            27.502137   \n",
       "\n",
       "                                   Plazo_Simulado_min  Plazo_Simulado_max  \\\n",
       "categoria_clusterizacion_numerica                                           \n",
       "0                                                 7.0                52.0   \n",
       "\n",
       "                                   Plazo_Simulado_mode  \n",
       "categoria_clusterizacion_numerica                       \n",
       "0                                                 30.0  "
      ]
     },
     "execution_count": 64,
     "metadata": {},
     "output_type": "execute_result"
    }
   ],
   "source": [
    "df_cluster_info_int4_csv"
   ]
  },
  {
   "cell_type": "code",
   "execution_count": null,
   "metadata": {},
   "outputs": [
    {
     "name": "stdout",
     "output_type": "stream",
     "text": [
      "CSV file saved in folder: assigned_treatments_intuitivo_4/assignation_20241116_212213\\assigned_treatments_intuitivo4.csv\n"
     ]
    }
   ],
   "source": [
    "import os\n",
    "from datetime import datetime\n",
    "\n",
    "# Crear una carpeta con un nombre basado en la fecha y hora actual\n",
    "# 'strftime' genera un timestamp en el formato \"YYYYMMDD_HHMMSS\" para asegurar nombres de carpeta únicos.\n",
    "timestamp = datetime.now().strftime(\"%Y%m%d_%H%M%S\")\n",
    "folder_name = f\"assigned_treatments_intuitivo_4/assignation_{timestamp}\"\n",
    "os.makedirs(folder_name, exist_ok=True)  # Crear la carpeta; 'exist_ok=True' evita errores si la carpeta ya existe.\n",
    "\n",
    "# Definir la ruta del archivo CSV dentro de la nueva carpeta\n",
    "output_path = os.path.join(folder_name, 'assigned_treatments_intuitivo4.csv')\n",
    "output_path_cluster = os.path.join(folder_name, 'cluster_info_intuitivo4.csv')\n",
    "\n",
    "# Guardar el DataFrame 'df_assigned' con las columnas seleccionadas en un archivo CSV\n",
    "# Se incluyen las columnas clave: 'rut', 'cluster', 'Probabilidad_No_Pago', 'RC', 'assigned_treatment',\n",
    "# 'probabilidad_de_simular', 'tasa_optima' y 'probabilidad_aceptacion_optima'.\n",
    "assigned_treatments_int4[['rut', 'cluster', 'Probabilidad_No_Pago', 'assigned_treatment', 'probabilidad_de_simular', 'tasa_optima',  'probabilidad_aceptacion_optima']].to_csv(output_path, index=False)\n",
    "df_cluster_info_int4_csv.to_csv(output_path_cluster, index=True)\n",
    "# Imprimir mensaje de confirmación con la ubicación del archivo CSV guardado\n",
    "print(f\"CSV file saved in folder: {output_path}\")"
   ]
  },
  {
   "cell_type": "markdown",
   "metadata": {},
   "source": [
    "# 7. RL"
   ]
  },
  {
   "cell_type": "markdown",
   "metadata": {},
   "source": [
    "## Definicion de la clase"
   ]
  },
  {
   "cell_type": "code",
   "execution_count": 46,
   "metadata": {},
   "outputs": [],
   "source": [
    "# Importar las librerías necesarias\n",
    "import gymnasium as gym\n",
    "from gymnasium import spaces\n",
    "import numpy as np\n",
    "import pandas as pd\n",
    "import statsmodels.api as sm\n",
    "from gurobipy import Model, GRB, quicksum\n",
    "from stable_baselines3 import DQN\n",
    "from stable_baselines3.common.env_checker import check_env\n",
    "from datetime import datetime\n",
    "import os\n",
    "import gc\n",
    "import logging  # Importar el módulo logging\n",
    "from sklearn.preprocessing import normalize\n",
    "\n",
    "# Configuración básica del logging\n",
    "logging.basicConfig(\n",
    "    level=logging.INFO,  # Nivel de logging (puede ser DEBUG, INFO, WARNING, ERROR, CRITICAL)\n",
    "    format='%(asctime)s - %(name)s - %(levelname)s - %(message)s',\n",
    "    handlers=[\n",
    "        logging.StreamHandler()  # Mostrar logs en la consola\n",
    "        # Puedes agregar FileHandler para guardar logs en un archivo si lo deseas\n",
    "    ]\n",
    ")\n",
    "logger = logging.getLogger(__name__)  # Crear un logger\n",
    "\n",
    "# Definir la clase ClusteringEnv\n",
    "class ClusteringEnv(gym.Env):\n",
    "    def __init__(self, data, df_sim_ventas_tratamiento, df_simulaciones_info):\n",
    "        super(ClusteringEnv, self).__init__()\n",
    "        \n",
    "        logger.info(\"Inicializando ClusteringEnv...\")\n",
    "        \n",
    "        # Datos de entrada\n",
    "        self.data = data\n",
    "        self.df_sim_ventas_tratamiento = df_sim_ventas_tratamiento\n",
    "        self.df_simulaciones_info = df_simulaciones_info\n",
    "        \n",
    "        # Definir variables excluyendo 'rut'\n",
    "        self.variables = list(self.data.columns)\n",
    "        if 'rut' in self.variables:\n",
    "            self.variables.remove('rut')\n",
    "        logger.debug(f\"Variables excluidas: {self.variables}\")\n",
    "        \n",
    "        # Identificar variables categóricas y continuas\n",
    "        self.categorical_vars = self.data.select_dtypes(include=['object', 'category']).columns.tolist()\n",
    "        self.continuous_vars = self.data.select_dtypes(include=[np.number]).columns.tolist()\n",
    "        if 'rut' in self.continuous_vars:\n",
    "            self.continuous_vars.remove('rut')\n",
    "        logger.info(f\"Variables categóricas: {self.categorical_vars}\")\n",
    "        logger.info(f\"Variables continuas: {self.continuous_vars}\")\n",
    "        \n",
    "        # Parámetros de cortes para variables continuas\n",
    "        self.max_splits = 3  # Número máximo de cortes\n",
    "        self.min_splits = 2  # Número mínimo de cortes\n",
    "        logger.info(f\"Parámetros de splits - Max: {self.max_splits}, Min: {self.min_splits}\")\n",
    "        \n",
    "        # Penalización por número de clusters\n",
    "        self.penalty_factor = 20000000  # Ajusta este valor según tus necesidades\n",
    "        self.executives_remaining = 0\n",
    "        logger.debug(f\"Factor de penalización por cluster: {self.penalty_factor}\")\n",
    "        \n",
    "        # Crear la lista de acciones\n",
    "        self.action_list = self.create_action_list()\n",
    "        logger.info(f\"Número de acciones posibles: {len(self.action_list)}\")\n",
    "        \n",
    "        # Inicializar el estado y otros atributos necesarios\n",
    "        self.reset()  # Esto inicializa self.included_vars y self.splits\n",
    "        \n",
    "        # Definir el espacio de acciones y observaciones\n",
    "        self.action_space = spaces.Discrete(len(self.action_list))\n",
    "        state_size = self.get_state().shape[0]\n",
    "        self.observation_space = spaces.Box(low=0, high=1, shape=(state_size,), dtype=np.float32)\n",
    "        logger.debug(f\"Tamaño del estado: {state_size}\")\n",
    "        \n",
    "        # Inicializar el contador de pasos\n",
    "        self.current_step = 0\n",
    "        self.max_steps = 50  # Número máximo de pasos por episodio\n",
    "        logger.info(\"ClusteringEnv inicializado correctamente.\")\n",
    "    \n",
    "    def reset(self, seed=None, options=None):\n",
    "        # Reiniciar el entorno al estado inicial\n",
    "        logger.info(\"Reiniciando el entorno...\")\n",
    "        self.executives_remaining = 0\n",
    "        self.included_vars = {var: 0 for var in self.variables}  # Inicialmente, todas las variables excluidas\n",
    "        self.splits = {var: [] for var in self.continuous_vars}  # Inicialmente, sin cortes\n",
    "        self.state = self.get_state()\n",
    "        self.current_step = 0\n",
    "        logger.info(f\"Estado reiniciado: {self.state}\")\n",
    "        return self.state, {}\n",
    "    \n",
    "    def get_state(self):\n",
    "        # Representar el estado actual como un array\n",
    "        state = []\n",
    "        for var in self.variables:\n",
    "            included = self.included_vars[var]\n",
    "            state.append(included)\n",
    "            if var in self.continuous_vars and included:\n",
    "                splits = self.splits[var]\n",
    "                min_val = self.data[var].min()\n",
    "                max_val = self.data[var].max()\n",
    "                if max_val == min_val:\n",
    "                    normalized_splits = [0] * self.max_splits\n",
    "                else:\n",
    "                    normalized_splits = [(s - min_val) / (max_val - min_val) for s in splits]\n",
    "                    # Rellenar con ceros para tener longitud fija\n",
    "                    normalized_splits += [0] * (self.max_splits - len(normalized_splits))\n",
    "                    normalized_splits = normalized_splits[:self.max_splits]\n",
    "                state.extend(normalized_splits)\n",
    "            elif var in self.continuous_vars:\n",
    "                # Si la variable no está incluida, agregar ceros\n",
    "                state.extend([0] * self.max_splits)\n",
    "        return np.array(state, dtype=np.float32)\n",
    "    \n",
    "    def create_action_list(self):\n",
    "        actions = []\n",
    "        # Acciones para incluir o excluir variables\n",
    "        for var in self.variables:\n",
    "            actions.append(('toggle_variable', var, {}))\n",
    "        # Acciones para ajustar los cortes de variables continuas\n",
    "        for var in self.continuous_vars:\n",
    "            # Aumentar número de cortes\n",
    "            actions.append(('adjust_splits', var, {'operation': 'increase'}))\n",
    "            # Disminuir número de cortes\n",
    "            actions.append(('adjust_splits', var, {'operation': 'decrease'}))\n",
    "            # Mover cada punto de corte hacia arriba o abajo\n",
    "            for index in range(self.max_splits):\n",
    "                actions.append(('adjust_splits', var, {'operation': 'move', 'index': index, 'amount': +1}))\n",
    "                actions.append(('adjust_splits', var, {'operation': 'move', 'index': index, 'amount': -1}))\n",
    "        print(actions)\n",
    "        return actions\n",
    "    \n",
    "    def step(self, action_index):\n",
    "        logger.debug(f\"Ejecutando acción: {self.action_list[action_index]}\")\n",
    "        # Aplicar la acción al estado actual\n",
    "        action = self.action_list[action_index]\n",
    "        self.apply_action(action)\n",
    "        \n",
    "        # Recalcular los clusters\n",
    "        logger.info(\"Recalculando clusters...\")\n",
    "        df_clusters = self.perform_clustering()\n",
    "        \n",
    "        # Recalcular las métricas y obtener la recompensa\n",
    "        try:\n",
    "            total_revenue, num_clusters = self.recalculate_metrics(df_clusters)\n",
    "            reward = total_revenue - self.penalty_factor * num_clusters - int(self.executives_remaining) * 10000\n",
    "            logger.debug(f\"Recompensa calculada: {reward} (Revenue: {total_revenue}, Clusters: {num_clusters})\")\n",
    "        except Exception as e:\n",
    "            # En caso de error, asignar una recompensa negativa\n",
    "            logger.error(f\"Error en recalculate_metrics: {e}\")\n",
    "            reward = -1000\n",
    "            total_revenue = 0\n",
    "            num_clusters = 0\n",
    "        \n",
    "        # Incrementar el contador de pasos\n",
    "        self.current_step += 1\n",
    "        done = self.current_step >= self.max_steps\n",
    "        \n",
    "        # En Gymnasium, también se debe definir `truncated`. Aquí lo dejamos como False.\n",
    "        truncated = False\n",
    "        \n",
    "        # Actualizar el estado\n",
    "        self.state = self.get_state()\n",
    "        \n",
    "        # Crear un diccionario de información\n",
    "        info = {\n",
    "            'total_revenue': total_revenue,\n",
    "            'num_clusters': num_clusters\n",
    "        }\n",
    "        \n",
    "        logger.debug(f\"Estado actual: {self.state}\")\n",
    "        logger.debug(f\"Paso {self.current_step}/{self.max_steps} completado.\")\n",
    "\n",
    "        # Limpiar referencias a df_clusters y métricas después de usarlas\n",
    "        del df_clusters, total_revenue, num_clusters\n",
    "        gc.collect()\n",
    "                \n",
    "        # Retornar el nuevo estado, recompensa, done, truncated, y el diccionario de info\n",
    "        return self.state, reward, done, truncated, info\n",
    "    \n",
    "    def apply_action(self, action):\n",
    "        # Aplicar la acción al estado actual\n",
    "        action_type, var, params = action\n",
    "        logger.info(f\"Aplicando acción tipo: {action_type} sobre variable: {var} con parámetros: {params}\")\n",
    "        \n",
    "        if action_type == 'toggle_variable':\n",
    "            # Incluir o excluir la variable\n",
    "            self.included_vars[var] = 1 - self.included_vars[var]\n",
    "            logger.info(f\"Variable '{var}' incluida: {self.included_vars[var]}\")\n",
    "            if var in self.continuous_vars and self.included_vars[var]:\n",
    "                # Inicializar cortes si la variable es incluida\n",
    "                if not self.splits[var]:\n",
    "                    self.splits[var] = self.initialize_splits(var)\n",
    "                    logger.info(f\"Cortes inicializados para variable '{var}': {self.splits[var]}\")\n",
    "                    \n",
    "        elif action_type == 'adjust_splits':\n",
    "            # Verificar que la acción es válida\n",
    "            if var in self.continuous_vars and self.included_vars[var]:\n",
    "                operation = params.get('operation')\n",
    "                index = params.get('index', 0)\n",
    "                amount = params.get('amount', 0)\n",
    "                \n",
    "                if operation == 'increase':\n",
    "                    if len(self.splits[var]) < self.max_splits:\n",
    "                        self.add_split(var)\n",
    "                        logger.info(f\"Corte aumentado para variable '{var}': {self.splits[var]}\")\n",
    "                    elif len(self.splits[var]) == self.max_splits:\n",
    "                        logger.warning(f\"No se puede aumentar el número de cortes para '{var}': ya se alcanzó el máximo.\")\n",
    "                        logger.info(f\"Se disminuirá el número de cortes para '{var}' en su lugar.\")\n",
    "                        removed_split = self.splits[var].pop()\n",
    "                        logger.info(f\"Corte disminuido para variable '{var}', eliminado: {removed_split}\")\n",
    "\n",
    "                        \n",
    "                elif operation == 'decrease':\n",
    "                    if len(self.splits[var]) > self.min_splits:\n",
    "                        removed_split = self.splits[var].pop()\n",
    "                        logger.info(f\"Corte disminuido para variable '{var}', eliminado: {removed_split}\")\n",
    "                    elif len(self.splits[var]) == self.min_splits:\n",
    "                        logger.warning(f\"No se puede disminuir el número de cortes para '{var}': ya se alcanzó el mínimo.\")\n",
    "                        logger.info(f\"Se aumentará el número de cortes para '{var}' en su lugar.\")\n",
    "                        self.add_split(var)\n",
    "                        \n",
    "                elif operation == 'move':\n",
    "                    self.move_split(var, index, amount)\n",
    "                    logger.info(f\"Corte movido para variable '{var}': {self.splits[var]}\")\n",
    "            else:\n",
    "                # Si no es válida, elegir una nueva acción\n",
    "                logger.warning(f\"No se puede ajustar separaciones para '{var}': no es continua o no está incluida en la clusterización.\")\n",
    "                new_action_index = np.random.choice(range(len(self.action_list)))  # Seleccionar una acción aleatoria\n",
    "                logger.info(f\"Seleccionando nueva acción: {self.action_list[new_action_index]}\")\n",
    "                self.apply_action(self.action_list[new_action_index])  # Aplicar la nueva acción\n",
    "                return  # Salir para evitar ajustes adicionales\n",
    "                \n",
    "        else:\n",
    "            logger.warning(f\"Acción desconocida: {action_type}\")\n",
    "        \n",
    "        # Asegurar que los cortes están ordenados y dentro del rango\n",
    "        for var_cont in self.continuous_vars:\n",
    "            if self.splits[var_cont]:\n",
    "                old_splits = self.splits[var_cont].copy()\n",
    "                self.splits[var_cont] = sorted(set(self.splits[var_cont]))\n",
    "                min_val = self.data[var_cont].min()\n",
    "                max_val = self.data[var_cont].max()\n",
    "                self.splits[var_cont] = [s for s in self.splits[var_cont] if min_val < s < max_val]\n",
    "                if self.splits[var_cont] != old_splits:\n",
    "                    logger.debug(f\"Cortes ajustados para variable '{var_cont}': {self.splits[var_cont]}\")\n",
    "        \n",
    "    def initialize_splits(self, var):\n",
    "        # Inicializar cortes en cuantiles equidistantes\n",
    "        min_val = self.data[var].min()\n",
    "        max_val = self.data[var].max()\n",
    "        num_splits = self.min_splits\n",
    "        if num_splits == 0:\n",
    "            return []\n",
    "        splits = np.linspace(min_val, max_val, num_splits + 1)[1:-1].tolist()\n",
    "        return splits\n",
    "    \n",
    "    def add_split(self, var):\n",
    "        # Agregar un nuevo corte en el punto medio del intervalo más grande\n",
    "        splits = self.splits[var]\n",
    "        if not splits:\n",
    "            min_val = self.data[var].min()\n",
    "            max_val = self.data[var].max()\n",
    "            new_split = (min_val + max_val) / 2\n",
    "            logger.debug(f\"Agregando primer split para '{var}': {new_split}\")\n",
    "        else:\n",
    "            intervals = [self.data[var].min()] + splits + [self.data[var].max()]\n",
    "            max_interval = 0\n",
    "            max_idx = 0\n",
    "            for i in range(len(intervals) - 1):\n",
    "                interval = intervals[i+1] - intervals[i]\n",
    "                if interval > max_interval:\n",
    "                    max_interval = interval\n",
    "                    max_idx = i\n",
    "            new_split = (intervals[max_idx] + intervals[max_idx+1]) / 2\n",
    "            logger.debug(f\"Agregando split en el intervalo más grande para '{var}': {new_split}\")\n",
    "        splits.append(new_split)\n",
    "        self.splits[var] = splits\n",
    "    \n",
    "    def move_split(self, var, index, amount):\n",
    "        # Mover el corte en 'index' una cantidad 'amount' en términos de cuantiles\n",
    "        if 0 <= index < len(self.splits[var]):\n",
    "            quantile_steps = np.arange(0, 1.05, 0.05)  # 0%, 5%, ..., 100%\n",
    "            quantile_values = self.data[var].quantile(quantile_steps)\n",
    "            current_split = self.splits[var][index]\n",
    "            # Encontrar el índice de cuantil más cercano al split actual\n",
    "            current_quantile_index = np.argmin(np.abs(quantile_values.values - current_split))\n",
    "            new_quantile_index = current_quantile_index + amount  # Mover 'amount' pasos de 5% cuantiles\n",
    "            # Asegurar que el índice esté dentro del rango\n",
    "            new_quantile_index = max(0, min(new_quantile_index, len(quantile_values) - 1))\n",
    "            old_split = self.splits[var][index]\n",
    "            new_split = quantile_values.values[new_quantile_index]\n",
    "            self.splits[var][index] = new_split\n",
    "            logger.debug(f\"Moviendo split para '{var}' en índice {index}: de {old_split} a {self.splits[var][index]}\")\n",
    "\n",
    "    def perform_clustering(self):\n",
    "        logger.info(\"Realizando clustering...\")\n",
    "        # Realizar el clustering basado en la configuración actual\n",
    "        df = self.data.copy()\n",
    "        for var in self.variables:\n",
    "            logger.info(f\"Procesando variable: {var}\")\n",
    "            if self.included_vars[var]:\n",
    "                if var in self.categorical_vars:\n",
    "                    df[var + '_cluster'] = df[var]\n",
    "                    logger.info(f\"Variable categórica '{var}' separada en los grupos: {df[var + '_cluster'].unique()}\")\n",
    "                elif var in self.continuous_vars:\n",
    "                    splits = self.splits[var]\n",
    "                    if not splits:\n",
    "                        # Si no hay cortes, asignar todos al mismo bin\n",
    "                        df[var + '_cluster'] = 0\n",
    "                    else:\n",
    "                        bins = [-np.inf] + splits + [np.inf]\n",
    "                        labels = [f'{var}_bin_{i}' for i in range(len(bins)-1)]\n",
    "                        df[var + '_cluster'] = pd.cut(df[var], bins=bins, labels=labels)\n",
    "                        logger.info(f\"Cortes para variable '{var}': {splits}\")\n",
    "        # Combinar las variables de cluster para formar la categoría de clusterización\n",
    "        cluster_vars = [var + '_cluster' for var in self.variables if self.included_vars[var]]\n",
    "        logger.info(f\"Variables incluidas en clusterización: {cluster_vars}\")\n",
    "        if cluster_vars:\n",
    "            df['categoria_clusterizacion'] = df[cluster_vars].astype(str).agg(' '.join, axis=1)\n",
    "            df['categoria_clusterizacion_numerica'] = df['categoria_clusterizacion'].astype('category').cat.codes\n",
    "            logger.debug(f\"Clusters formados: {df['categoria_clusterizacion_numerica'].nunique()}\")\n",
    "        else:\n",
    "            # Si no hay variables incluidas, asignar a un solo cluster\n",
    "            df['categoria_clusterizacion_numerica'] = 0\n",
    "            logger.debug(\"No se incluyeron variables, todos los datos asignados al cluster 0.\")\n",
    "        self.current_clusters = df[['rut', 'categoria_clusterizacion_numerica']]\n",
    "        num_clusters = df['categoria_clusterizacion_numerica'].nunique()\n",
    "        logger.info(f\"Variables incluidas en este clustering: {cluster_vars}\")\n",
    "        logger.info(f\"Clustering completado. Número de clusters: {num_clusters}\")\n",
    "        return df\n",
    "    \n",
    "    def function_estimar_elasticidad(self, df_estimar_elasticidad):\n",
    "        logger.info(\"Estimando elasticidad...\")\n",
    "        # Inicializar listas para almacenar resultados globales de revenue, clientes, créditos y simulaciones\n",
    "        lista_revenue = []\n",
    "        lista_clientes = []\n",
    "        lista_creditos = []\n",
    "        lista_simulaciones = []\n",
    "\n",
    "        cluster_results = []  # Lista para almacenar resultados específicos de cada cluster\n",
    "\n",
    "        # Obtener los números únicos de cada cluster\n",
    "        cluster_numbers = df_estimar_elasticidad['categoria_clusterizacion_numerica'].unique()\n",
    "        logger.debug(f\"Número de clusters para estimar elasticidad: {len(cluster_numbers)}\")\n",
    "\n",
    "        # Iterar sobre cada cluster identificado por 'categoria_clusterizacion_numerica'\n",
    "        for cluster_num in cluster_numbers:\n",
    "            logger.debug(f\"Procesando cluster {cluster_num}...\")\n",
    "            # Filtrar los datos correspondientes al cluster actual\n",
    "            df_cluster = df_estimar_elasticidad[df_estimar_elasticidad['categoria_clusterizacion_numerica'] == cluster_num]\n",
    "            \n",
    "            # Asegurarse de que existen datos para ambos casos: venta == 1 y venta == 0\n",
    "            if df_cluster.empty or df_cluster['venta'].isnull().all():\n",
    "                logger.warning(f\"Cluster {cluster_num} está vacío o todas las ventas son nulas. Se salta.\")\n",
    "                continue  # Saltar este cluster si no cumple con la condición\n",
    "            \n",
    "            # Remover filas donde 'venta' o 'Tasa_Simulado' son nulos o infinitos\n",
    "            df_cluster = df_cluster.replace([np.inf, -np.inf], np.nan)\n",
    "            df_cluster = df_cluster.dropna(subset=['venta', 'Tasa_Simulado', 'Plazo_Simulado', 'Monto_Simulado', 'Probabilidad_No_Pago'])\n",
    "            \n",
    "            # Saltar el cluster si no hay suficientes puntos de datos\n",
    "            if df_cluster.shape[0] < 10:\n",
    "                logger.warning(f\"Cluster {cluster_num} tiene menos de 10 registros después de limpiar. Se salta.\")\n",
    "                continue\n",
    "            \n",
    "            # Extraer las variables 'venta' (como variable dependiente) y 'Tasa_Simulado' (como predictor)\n",
    "            y = df_cluster['venta']\n",
    "            X = df_cluster[['Tasa_Simulado']]\n",
    "            \n",
    "            # Añadir un término constante para el intercepto\n",
    "            X = sm.add_constant(X)\n",
    "            \n",
    "            # Remover filas con valores NaN o Inf en X o y\n",
    "            is_finite = np.isfinite(X).all(1) & np.isfinite(y)\n",
    "            X = X[is_finite]\n",
    "            y = y[is_finite]\n",
    "            \n",
    "            # Asegurarse de que después de remover NaN/Inf, todavía hay suficientes datos\n",
    "            if len(y) < 10:\n",
    "                logger.warning(f\"Cluster {cluster_num} tiene menos de 10 registros después de filtrar finitos. Se salta.\")\n",
    "                continue\n",
    "            \n",
    "            # Ajustar el modelo de regresión logística\n",
    "            logit_model = sm.Logit(y, X)\n",
    "            try:\n",
    "                result = logit_model.fit(disp=0)\n",
    "                logger.debug(f\"Modelo ajustado para cluster {cluster_num}.\")\n",
    "            except Exception as e:\n",
    "                logger.error(f\"No se pudo ajustar el modelo para el cluster {cluster_num}: {e}\")\n",
    "                del df_cluster, y, X, logit_model, result  # Eliminar referencias\n",
    "                gc.collect()\n",
    "                continue  # Saltar el cluster si el modelo no converge\n",
    "            \n",
    "            # Crear una cuadrícula de valores de 'Tasa_Simulado' para predicciones\n",
    "            tasa_min = df_cluster['Tasa_Simulado'].min()\n",
    "            tasa_max = df_cluster['Tasa_Simulado'].max()\n",
    "            tasas_grid = np.linspace(tasa_min, tasa_max, 105)\n",
    "            \n",
    "            # Predecir la probabilidad de aceptación usando el modelo ajustado\n",
    "            X_grid = sm.add_constant(tasas_grid)\n",
    "            acceptance_probability = result.predict(X_grid)\n",
    "            \n",
    "            # Asegurar que las probabilidades están en el rango [0, 1]\n",
    "            acceptance_probability = np.clip(acceptance_probability, 0, 1)\n",
    "            \n",
    "            # Calcular valores medios necesarios para el cálculo de revenue\n",
    "            n = df_cluster['Plazo_Simulado'].mean()\n",
    "            vp = df_cluster['Monto_Simulado'].mean()\n",
    "            pnp = df_cluster['Probabilidad_No_Pago'].mean()\n",
    "            data = {\n",
    "                'Plazo_Simulado_medio': n, \n",
    "                'Monto_Simulado_medio': vp, \n",
    "                'Probabilidad_No_Pago_media': pnp\n",
    "            }\n",
    "            \n",
    "            # Calcular el revenue potencial\n",
    "            i = tasas_grid / 100  # Convertir a decimal\n",
    "            one_plus_i_pow_n = np.power(1 + i, n)\n",
    "            annuity_factor = (i * one_plus_i_pow_n) / (one_plus_i_pow_n - 1)\n",
    "            revenue = (n * vp * annuity_factor) - vp\n",
    "            potential_revenue = revenue * (1 - pnp)\n",
    "            \n",
    "            # Calcular el promedio de simulaciones por fecha\n",
    "            df_cluster_simulaciones_1 = df_cluster[df_cluster['simulo'] == 1]\n",
    "            num_dates = df_cluster_simulaciones_1['fecha'].nunique()\n",
    "            total_simulaciones = df_cluster_simulaciones_1['simulo'].sum()\n",
    "            simulaciones_medias = total_simulaciones / num_dates if num_dates else 0\n",
    "            \n",
    "            # Saltar el cluster si no hay simulaciones\n",
    "            if simulaciones_medias == 0:\n",
    "                logger.warning(f\"Cluster {cluster_num} no tiene simulaciones medias. Se salta.\")\n",
    "                continue\n",
    "            \n",
    "            # Calcular el revenue esperado\n",
    "            expected_revenue = acceptance_probability * potential_revenue * simulaciones_medias\n",
    "            \n",
    "            # Encontrar la tasa que maximiza el revenue esperado\n",
    "            idx_max = np.argmax(expected_revenue)\n",
    "            max_price = tasas_grid[idx_max]\n",
    "            max_expected_revenue = expected_revenue[idx_max]\n",
    "            \n",
    "            # Probabilidad de aceptación en la tasa óptima\n",
    "            prob_aceptacion_optima = acceptance_probability[idx_max]\n",
    "            \n",
    "            # Número esperado de créditos aceptados\n",
    "            num_creditos_aceptados = round(prob_aceptacion_optima * simulaciones_medias)\n",
    "            \n",
    "            # Número de clientes únicos en el cluster\n",
    "            num_clients = df_cluster['rut'].nunique()\n",
    "            \n",
    "            # Imprimir resultados para cada cluster\n",
    "            logger.info(f'Cluster {cluster_num}:')\n",
    "            logger.info(f'- Precio Máx. Revenue Esperado = {max_price:.2f}%')\n",
    "            logger.info(f'- Revenue Esperado Máximo = {max_expected_revenue:,.2f}')\n",
    "            logger.info(f'- Número de clientes en el cluster = {num_clients}')\n",
    "            logger.info(f'- Número de simulaciones en el cluster = {simulaciones_medias:.2f}')\n",
    "            logger.info(f'- Probabilidad de aceptación en el precio óptimo = {prob_aceptacion_optima:.4f}')\n",
    "            logger.info(f'- Número esperado de créditos aceptados = {num_creditos_aceptados}')\n",
    "            logger.info(f'- Monto medio simulado = {data[\"Monto_Simulado_medio\"]:,.2f}')\n",
    "            logger.info(f'- Plazo medio simulado = {data[\"Plazo_Simulado_medio\"]:,.2f}')\n",
    "            logger.info(f'- Probabilidad de no pago media = {data[\"Probabilidad_No_Pago_media\"]:.4f}\\n')\n",
    "            \n",
    "            # Agregar resultados a las listas globales\n",
    "            lista_clientes.append(num_clients)\n",
    "            lista_revenue.append(max_expected_revenue)\n",
    "            lista_creditos.append(num_creditos_aceptados)\n",
    "            lista_simulaciones.append(simulaciones_medias)\n",
    "            \n",
    "            # Almacenar resultados por cluster en cluster_results\n",
    "            cluster_results.append({\n",
    "                'categoria_clusterizacion_numerica': cluster_num,\n",
    "                'tasa_optima': max_price,\n",
    "                'probabilidad_aceptacion_optima': prob_aceptacion_optima,\n",
    "                'revenue_esperado_maximo': max_expected_revenue,\n",
    "                'numero_clientes': num_clients,\n",
    "                'numero_simulaciones_medias': simulaciones_medias,\n",
    "                'numero_creditos_esperados': num_creditos_aceptados,\n",
    "                'monto_medio_simulado': data[\"Monto_Simulado_medio\"],\n",
    "                'plazo_medio_simulado': data[\"Plazo_Simulado_medio\"],\n",
    "                'probabilidad_no_pago_media': data[\"Probabilidad_No_Pago_media\"]\n",
    "            })\n",
    "\n",
    "            del df_cluster, y, X, logit_model, result, X_grid, acceptance_probability, expected_revenue\n",
    "            gc.collect()\n",
    "        # Imprimir resultados globales\n",
    "        total_revenue = sum(lista_revenue)\n",
    "        total_clientes = sum(lista_clientes)\n",
    "        total_simulaciones = sum(lista_simulaciones)\n",
    "        total_creditos = sum(lista_creditos)\n",
    "\n",
    "        logger.info(f\"El revenue total esperado es: {total_revenue:,.2f} con un total de {total_clientes} clientes, \"\n",
    "                    f\"{total_simulaciones:,.2f} simulaciones, y {total_creditos} créditos.\")\n",
    "\n",
    "        # Crear un DataFrame a partir de cluster_results\n",
    "        df_cluster_results = pd.DataFrame(cluster_results)\n",
    "\n",
    "        # Incorporar los resultados por cluster de 'df_cluster_results' a 'df_estimar_elasticidad'\n",
    "        df_estimar_elasticidad = df_estimar_elasticidad.merge(\n",
    "            df_cluster_results[['categoria_clusterizacion_numerica', 'tasa_optima', 'probabilidad_aceptacion_optima']],\n",
    "            on='categoria_clusterizacion_numerica', \n",
    "            how='left'\n",
    "        )\n",
    "\n",
    "        return {'df_estimar_elasticidad': df_estimar_elasticidad, 'total_revenue': total_revenue, 'total_clientes': total_clientes, 'total_simulaciones': total_simulaciones, 'total_creditos': total_creditos}\n",
    "    \n",
    "    def function_estimar_respuesta_a_tratamiento(self, df_estimar_elasticidad, df_simulaciones_info): #df1 es df_estimar_elasticidad y df2 es df_simulaciones_info\n",
    "        # Paso 1: Preparación de datos y mapeo de clusters\n",
    "        # Eliminar duplicados en 'df1' para tener un valor único de 'categoria_clusterizacion_numerica' por cada 'rut'.\n",
    "        df_estimar_elasticidad_unique = df_estimar_elasticidad.drop_duplicates(subset='rut')\n",
    "\n",
    "        # Crear un mapeo de 'rut' a 'categoria_clusterizacion_numerica' para asociar cada cliente a su cluster numérico.\n",
    "        rut_cluster_map = df_estimar_elasticidad_unique.set_index('rut')['categoria_clusterizacion_numerica']\n",
    "\n",
    "        # Mapear la categoría de cluster a cada 'rut' en 'df2' usando el mapeo creado\n",
    "        df_simulaciones_info['categoria_clusterizacion_numerica'] = df_simulaciones_info['rut'].map(rut_cluster_map)\n",
    "\n",
    "        # Eliminar filas donde 'categoria_clusterizacion_numerica' es nulo, es decir, aquellos 'rut' sin mapeo de cluster.\n",
    "        df_simulaciones_info = df_simulaciones_info.dropna(subset=['categoria_clusterizacion_numerica'])\n",
    "\n",
    "        # Conversión de tipos de datos\n",
    "        # Convertir 'categoria_clusterizacion_numerica' a entero para garantizar un tipo de dato consistente.\n",
    "        df_simulaciones_info['categoria_clusterizacion_numerica'] = df_simulaciones_info['categoria_clusterizacion_numerica'].astype(int)\n",
    "\n",
    "        # Convertir 'simulo' a numérico, reemplazando valores nulos por 0 y asegurando que sea un tipo de dato entero.\n",
    "        df_simulaciones_info['simulo'] = pd.to_numeric(df_simulaciones_info['simulo'], errors='coerce').fillna(0).astype(int)\n",
    "\n",
    "        # Convertir 'Tratamiento' a tipo de categoría para optimizar espacio y realizar operaciones categóricas.\n",
    "        df_simulaciones_info['Tratamiento'] = df_simulaciones_info['Tratamiento'].astype('category')\n",
    "\n",
    "        # Paso 2: Calcular el caso total (entradas por tratamiento sin importar el valor de 'simulo')\n",
    "        # Agrupar por 'categoria_clusterizacion_numerica' y 'Tratamiento' para contar el número total de registros en cada combinación.\n",
    "        total_entries_per_cluster_treatment = df_simulaciones_info.groupby(['categoria_clusterizacion_numerica', 'Tratamiento']).size().reset_index(name='caso_total')\n",
    "\n",
    "        # Paso 3: Calcular el caso favorable (entradas por tratamiento cuando 'simulo' == 1)\n",
    "        # Filtrar filas donde 'simulo' es 1 (clientes que realizaron una simulación)\n",
    "        df_simulations = df_simulaciones_info[df_simulaciones_info['simulo'] == 1]\n",
    "\n",
    "        # Agrupar por 'categoria_clusterizacion_numerica' y 'Tratamiento' para contar el número de registros favorables (simulaciones).\n",
    "        favorable_entries_per_cluster_treatment = df_simulations.groupby(['categoria_clusterizacion_numerica', 'Tratamiento']).size().reset_index(name='caso_favorable')\n",
    "\n",
    "        # Paso 4: Calcular la probabilidad de simulación como caso favorable / caso total\n",
    "        # Realizar un merge entre 'total_entries_per_cluster_treatment' y 'favorable_entries_per_cluster_treatment' en las columnas de cluster y tratamiento.\n",
    "        df_probabilities = total_entries_per_cluster_treatment.merge(\n",
    "            favorable_entries_per_cluster_treatment,\n",
    "            on=['categoria_clusterizacion_numerica', 'Tratamiento'],\n",
    "            how='left'\n",
    "        )\n",
    "\n",
    "        # Llenar valores nulos en 'caso_favorable' con 0, asegurando que solo las columnas numéricas estén afectadas.\n",
    "        df_probabilities['caso_favorable'] = df_probabilities['caso_favorable'].fillna(0).astype(int)\n",
    "\n",
    "        # Asegurar que 'caso_total' sea de tipo entero para evitar inconsistencias en los conteos.\n",
    "        df_probabilities['caso_total'] = df_probabilities['caso_total'].astype(int)\n",
    "\n",
    "        # Calcular la probabilidad de simulación como el cociente entre 'caso_favorable' y 'caso_total'.\n",
    "        df_probabilities['probabilidad_simular'] = df_probabilities['caso_favorable'] / df_probabilities['caso_total']\n",
    "\n",
    "        # Organizar las columnas del DataFrame resultante para facilitar su análisis.\n",
    "        df_probabilities = df_probabilities[[\n",
    "            'categoria_clusterizacion_numerica',\n",
    "            'Tratamiento',\n",
    "            'probabilidad_simular',\n",
    "            'caso_favorable',\n",
    "            'caso_total'\n",
    "        ]]\n",
    "\n",
    "        logger.info(\"Estimación de respuesta a tratamientos completada.\")\n",
    "        return df_probabilities\n",
    "\n",
    "    def function_modelo_asignacion_tratamientos(self, df_cluster_info, df_probabilities_treatment, df_rut_info, costo_sms, capacidad_ejecutivos):\n",
    "        logger.info(\"Iniciando modelo de asignación de tratamientos...\")\n",
    "        try:\n",
    "            # Definir el mapeo de tratamientos\n",
    "            tratamiento_map = {  # Mapeo de los tratamientos específicos a identificadores numéricos\n",
    "                \"Ejecutivo=0, Correos=0\": 1, \"Ejecutivo=0, Correos=1\": 2,\n",
    "                \"Ejecutivo=0, Correos=2\": 3, \"Ejecutivo=0, Correos=3\": 4,\n",
    "                \"Ejecutivo=0, Correos=4\": 5, \"Ejecutivo=1, Correos=0\": 6,\n",
    "                \"Ejecutivo=1, Correos=1\": 7, \"Ejecutivo=1, Correos=2\": 8\n",
    "            }\n",
    "\n",
    "            # Parámetros\n",
    "            costosms = costo_sms  # Costo de cada mensaje SMS\n",
    "            capacidad_ejecutivos = capacidad_ejecutivos  # Capacidad máxima en términos de tiempo de los ejecutivos\n",
    "\n",
    "            # Paso 1: Procesar probabilidades y asignar IDs de tratamiento\n",
    "            logger.info(\"Procesando datos de probabilidades y asignando IDs de tratamiento...\")\n",
    "            df_probabilities = df_probabilities_treatment.copy()\n",
    "            df_probabilities['tratamiento_id'] = df_probabilities['Tratamiento'].map(tratamiento_map)\n",
    "            if df_probabilities['tratamiento_id'].isnull().any():\n",
    "                logger.warning(\"Algunos tratamientos no fueron mapeados correctamente a 'tratamiento_id'. Revisar 'tratamiento_map'.\")\n",
    "\n",
    "            # Paso 2: Crear lista de tratamientos y combinar con rut_info\n",
    "            logger.info(\"Fusionando probabilidades con información de RUT...\")\n",
    "            df_probabilities['tratamientos'] = df_probabilities[['probabilidad_simular', 'tratamiento_id']].values.tolist()\n",
    "            grouped_prob = df_probabilities.groupby('categoria_clusterizacion_numerica')['tratamientos'].apply(list).reset_index()\n",
    "\n",
    "            df_rut_info = df_rut_info.copy()\n",
    "            df_rut_info = df_rut_info.merge(grouped_prob, on='categoria_clusterizacion_numerica', how='left')\n",
    "            if df_rut_info['tratamientos'].isnull().any():\n",
    "                logger.warning(\"Algunos clusters no tienen tratamientos asignados.\")\n",
    "\n",
    "            # Paso 3: Combinar rut_info con cluster_info\n",
    "            logger.info(\"Fusionando información de RUT con información de clusters...\")\n",
    "            df_cluster_info = df_cluster_info.copy()\n",
    "            df_rut_info = df_rut_info.merge(df_cluster_info, on='categoria_clusterizacion_numerica', how='left')\n",
    "            if df_rut_info.isnull().any().any():\n",
    "                logger.warning(\"Algunas combinaciones de clusters no están completas en rut_info.\")\n",
    "\n",
    "            # Paso 3.5: Agrupar información por cluster en 'rut_info'\n",
    "            logger.info(\"Agrupando información por cluster...\")\n",
    "            df_grouped = df_rut_info.groupby('categoria_clusterizacion_numerica').agg({\n",
    "                'Probabilidad_No_Pago': 'mean',  # Promedio de probabilidad de no pago\n",
    "                'tratamientos': lambda x: list(x),  # Lista de opciones de tratamiento únicas en cada cluster\n",
    "                'Monto_Simulado_mean': 'mean',\n",
    "                'Plazo_Simulado_mean': 'mean',\n",
    "                'probabilidad_aceptacion_optima': 'mean',\n",
    "                'tasa_optima': 'mean',\n",
    "                'rut': 'count'  # Conteo del número de clientes ('rut') en cada cluster\n",
    "            }).rename(columns={'rut': 'n_clientes'}).reset_index()\n",
    "            logger.debug(f\"Datos agrupados por cluster: {df_grouped.head()}\")\n",
    "\n",
    "            # Paso 4: Calcular 'RC' (Revenue calculado)\n",
    "            logger.info(\"Calculando Revenue Calculado (RC)...\")\n",
    "            df_grouped['tasa_optima'] /= 100  # Convertir tasa óptima a decimal\n",
    "            df_grouped['RC'] = (\n",
    "                (df_grouped['Plazo_Simulado_mean'] * df_grouped['Monto_Simulado_mean'] * df_grouped['tasa_optima'] *\n",
    "                ((1 + df_grouped['tasa_optima']) ** df_grouped['Plazo_Simulado_mean'])) /\n",
    "                (((1 + df_grouped['tasa_optima']) ** df_grouped['Plazo_Simulado_mean']) - 1)\n",
    "            ) - df_grouped['Monto_Simulado_mean']\n",
    "            logger.debug(f\"RC calculado: {df_grouped['RC'].head()}\")\n",
    "\n",
    "            # -------------------------------\n",
    "            # Preparación de datos para optimización\n",
    "            # -------------------------------\n",
    "\n",
    "            logger.info(\"Preparando matriz de beneficios para optimización...\")\n",
    "            try:\n",
    "                # Convertir 'tratamientos' a un arreglo de numpy para mejorar la indexación\n",
    "                profits = np.array([\n",
    "                    [\n",
    "                        row['n_clientes'] * (row['RC'] * (1 - row['Probabilidad_No_Pago']) * row['probabilidad_aceptacion_optima'] * row['tratamientos'][0][t][0]) - \n",
    "                        (row['tratamientos'][0][t][1] * costosms)\n",
    "                        for t in range(8)\n",
    "                    ]\n",
    "                    for _, row in df_grouped.iterrows()\n",
    "                ])\n",
    "                logger.debug(f\"Matriz de beneficios (profits) preparada con forma: {profits.shape}\")\n",
    "            except Exception as e:\n",
    "                logger.error(f\"Error al preparar la matriz de beneficios: {e}\")\n",
    "                del df_grouped, df_rut_info, df_probabilities, df_cluster_info\n",
    "                gc.collect()\n",
    "                return {}, 0 # Retornar valores por defecto en caso de error\n",
    "\n",
    "            # Inicializar el modelo de optimización\n",
    "            logger.info(\"Inicializando modelo de optimización con Gurobi...\")\n",
    "            model = Model(\"Maximizar_Ganancias\")\n",
    "            model.ModelSense = GRB.MAXIMIZE\n",
    "\n",
    "            # Crear variables de decisión y definir el objetivo\n",
    "            n_clients, n_treatments = profits.shape\n",
    "            variables = {}\n",
    "\n",
    "            logger.info(\"Creando variables de decisión...\")\n",
    "            for i in range(n_clients):\n",
    "                variables[i] = {}\n",
    "                for t in range(n_treatments):\n",
    "                    if profits[i, t] > 0:\n",
    "                        variables[i][t] = model.addVar(vtype=GRB.BINARY, name=f\"x_{i}_{t}\")\n",
    "            logger.debug(f\"Variables de decisión creadas: {len(variables)} clusters con hasta {n_treatments} tratamientos cada uno.\")\n",
    "\n",
    "            # Definir el objetivo\n",
    "            model.setObjective(\n",
    "                quicksum(variables[i][t] * profits[i, t] for i in variables for t in variables[i])\n",
    "            )\n",
    "            logger.debug(\"Objetivo del modelo definido.\")\n",
    "\n",
    "            # Restricción: Cada cliente recibe exactamente un tratamiento\n",
    "            logger.info(\"Agregando restricción de un tratamiento por cliente...\")\n",
    "            for i in variables:\n",
    "                model.addConstr(quicksum(variables[i].values()) == 1, name=f\"OneTreatmentPerClient_{i}\")\n",
    "            logger.debug(\"Restricciones de tratamiento por cliente agregadas.\")\n",
    "\n",
    "            # Restricción de capacidad para ejecutivos\n",
    "            logger.info(\"Agregando restricción de capacidad para ejecutivos...\")\n",
    "            model.addConstr(\n",
    "                quicksum(variables[i][t] * df_grouped.loc[i, 'n_clientes'] for i in variables for t in variables[i] if t in [5, 6, 7]) <= capacidad_ejecutivos,\n",
    "                name=\"CapacityConstraint\"\n",
    "            )\n",
    "            logger.debug(\"Restricción de capacidad para ejecutivos agregada.\")\n",
    "\n",
    "            # Consistencia de cluster: los clientes dentro del mismo cluster deben recibir el mismo tratamiento\n",
    "            logger.info(\"Agregando restricciones de consistencia por cluster...\")\n",
    "            clusters = df_grouped.groupby(\"categoria_clusterizacion_numerica\").indices\n",
    "            for cluster_id, indices_cluster in clusters.items():\n",
    "                indices_list = list(indices_cluster)\n",
    "                leader_index = indices_list[0]\n",
    "                for t in variables[leader_index]:\n",
    "                    leader_var = variables[leader_index][t]\n",
    "                    for i in indices_list[1:]:\n",
    "                        if t in variables[i]:\n",
    "                            model.addConstr(variables[i][t] == leader_var, name=f\"ClusterConsistency_{cluster_id}_{t}\")\n",
    "            logger.debug(\"Restricciones de consistencia por cluster agregadas.\")\n",
    "\n",
    "            # Optimizar el modelo\n",
    "            logger.info(\"Iniciando optimización con Gurobi...\")\n",
    "            try:\n",
    "                model.optimize()\n",
    "            except Exception as e:\n",
    "                logger.error(f\"Error durante la optimización con Gurobi: {e}\")\n",
    "                return {}, 0  # Retornar valores por defecto en caso de error\n",
    "\n",
    "            # Verificar si la optimización fue exitosa\n",
    "            if model.Status == GRB.OPTIMAL:\n",
    "                logger.info(\"Optimización exitosa. Extrayendo resultados...\")\n",
    "\n",
    "                # Asignar tratamientos por cluster basado en los resultados de la optimización\n",
    "                resultados_por_cluster = {}\n",
    "                for cluster_id, indices_cluster in clusters.items():\n",
    "                    leader_index = list(indices_cluster)[0]\n",
    "                    for t in variables[leader_index]:\n",
    "                        if variables[leader_index][t].X > 0.5:\n",
    "                            resultados_por_cluster[cluster_id] = t + 1\n",
    "                            break\n",
    "\n",
    "                # Calcular las ganancias totales\n",
    "                ganancias_totales = model.ObjVal\n",
    "                logger.info(f\"Ganancias totales: {ganancias_totales:.2f}\")\n",
    "\n",
    "                # Calcular el número de ejecutivos usados y restantes\n",
    "                executives_used = sum(\n",
    "                    df_grouped.loc[i, 'n_clientes'] for i in variables for t in variables[i]\n",
    "                    if t in [5, 6, 7] and variables[i][t].X > 0.5\n",
    "                )\n",
    "                executives_remaining = capacidad_ejecutivos - executives_used\n",
    "                self.executives_remaining = executives_remaining\n",
    "                logger.info(f\"Executives used: {executives_used}\")\n",
    "                logger.info(f\"Executives remaining: {executives_remaining}\")\n",
    "            else:\n",
    "                logger.error(\"Optimización no alcanzó una solución óptima.\")\n",
    "                resultados_por_cluster = {}\n",
    "                ganancias_totales = 0\n",
    "            logger.info(\"Optimización completada.\")\n",
    "\n",
    "            return resultados_por_cluster, ganancias_totales\n",
    "        except Exception as e:\n",
    "            logger.error(f\"Error en function_modelo_asignacion_tratamientos: {e}\")\n",
    "            return {}, 0  # Retornar valores por defecto en caso de error global\n",
    "\n",
    "    def recalculate_metrics(self, df_clusters):\n",
    "        logger.info(\"Recalculando métricas...\")\n",
    "        df_clusters = df_clusters[['rut', 'categoria_clusterizacion_numerica']]\n",
    "\n",
    "        # Fusionar df_clusters con df_simulaciones_e_informacion_de_clientes_ventas_tratamiento\n",
    "        df_estimar_elasticidad = pd.merge(\n",
    "            df_clusters,\n",
    "            self.df_sim_ventas_tratamiento,\n",
    "            on='rut',\n",
    "            how='left'\n",
    "        )\n",
    "        logger.debug(f\"Datos después de la fusión: {df_estimar_elasticidad.head()}\")\n",
    "\n",
    "        dict_elasticidad = self.function_estimar_elasticidad(df_estimar_elasticidad)\n",
    "        df_elasticidad = dict_elasticidad['df_estimar_elasticidad']\n",
    "        logger.info(f\"total_revenue: {dict_elasticidad['total_revenue']}, total_clientes: {dict_elasticidad['total_clientes']}, total_simulaciones: {dict_elasticidad['total_simulaciones']}, total_creditos: {dict_elasticidad['total_creditos']}\")\n",
    "\n",
    "        df_probabilities = self.function_estimar_respuesta_a_tratamiento(df_elasticidad, self.df_simulaciones_info)\n",
    "        logger.debug(f\"Probabilidades calculadas: {df_probabilities.head()}\")\n",
    "\n",
    "        # Calcular los promedios para 'Monto_Simulado' y 'Plazo_Simulado' por categoría\n",
    "        df_elasticidad[['Monto_Simulado_mean', 'Plazo_Simulado_mean']] = df_elasticidad.groupby('categoria_clusterizacion_numerica')[['Monto_Simulado', 'Plazo_Simulado']].transform('mean')\n",
    "        logger.debug(f\"Promedios calculados: {df_elasticidad[['Monto_Simulado_mean', 'Plazo_Simulado_mean']].head()}\")\n",
    "\n",
    "        # Reducir tamaño de los DataFrames a las columnas esenciales\n",
    "        df_estimar_elasticidad_small = df_elasticidad[['categoria_clusterizacion_numerica', 'rut', 'tasa_optima', 'probabilidad_aceptacion_optima', 'Probabilidad_No_Pago', 'Monto_Simulado_mean', 'Plazo_Simulado_mean']]\n",
    "        df_probabilities_small = df_probabilities[['categoria_clusterizacion_numerica', 'probabilidad_simular', 'Tratamiento']]\n",
    "\n",
    "        # Guardar información por cluster, tratamiento y cliente\n",
    "        df_cluster_info = df_estimar_elasticidad_small[['categoria_clusterizacion_numerica', 'Monto_Simulado_mean', 'Plazo_Simulado_mean', 'probabilidad_aceptacion_optima', 'tasa_optima']].drop_duplicates()\n",
    "        df_probabilities_treatment = df_probabilities_small[['categoria_clusterizacion_numerica', 'probabilidad_simular', 'Tratamiento']].drop_duplicates()\n",
    "        df_rut_info = df_estimar_elasticidad_small[['rut', 'categoria_clusterizacion_numerica', 'Probabilidad_No_Pago']].drop_duplicates()\n",
    "\n",
    "        logger.info(\"Llamando al modelo de asignación de tratamientos...\")\n",
    "        # Llamar a la función con los DataFrames procesados\n",
    "        resultados_por_cluster, ganancias_totales = self.function_modelo_asignacion_tratamientos(df_cluster_info, df_probabilities_treatment, df_rut_info, 100, 205000)\n",
    "\n",
    "        logger.info(\"Recalculación de métricas completada.\")\n",
    "        return ganancias_totales, len(resultados_por_cluster)"
   ]
  },
  {
   "cell_type": "markdown",
   "metadata": {},
   "source": [
    "## Entrenamiento"
   ]
  },
  {
   "cell_type": "code",
   "execution_count": 47,
   "metadata": {},
   "outputs": [],
   "source": [
    "df_info_clientes_rl = df_informacion_de_clientes[['rut', 'Genero', 'Categoria_Digital', 'Elasticidad_Precios', 'Nacionalidad', 'Propension', 'Probabilidad_No_Pago', 'Edad', 'Renta']]"
   ]
  },
  {
   "cell_type": "code",
   "execution_count": 49,
   "metadata": {},
   "outputs": [
    {
     "name": "stderr",
     "output_type": "stream",
     "text": [
      "2024-11-27 19:25:32,739 - __main__ - INFO - Variables incluidas en este clustering: ['Elasticidad_Precios_cluster', 'Propension_cluster', 'Renta_cluster']\n",
      "2024-11-27 19:25:32,741 - __main__ - INFO - Clustering completado. Número de clusters: 13\n",
      "2024-11-27 19:25:32,743 - __main__ - INFO - Recalculando métricas...\n",
      "2024-11-27 19:25:36,652 - __main__ - INFO - Estimando elasticidad...\n",
      "2024-11-27 19:25:41,215 - __main__ - INFO - Cluster 1:\n",
      "2024-11-27 19:25:41,217 - __main__ - INFO - - Precio Máx. Revenue Esperado = 2.50%\n",
      "2024-11-27 19:25:41,219 - __main__ - INFO - - Revenue Esperado Máximo = 7,972,981,793.64\n",
      "2024-11-27 19:25:41,221 - __main__ - INFO - - Número de clientes en el cluster = 61916\n",
      "2024-11-27 19:25:41,223 - __main__ - INFO - - Número de simulaciones en el cluster = 17261.50\n",
      "2024-11-27 19:25:41,224 - __main__ - INFO - - Probabilidad de aceptación en el precio óptimo = 0.4006\n",
      "2024-11-27 19:25:41,226 - __main__ - INFO - - Número esperado de créditos aceptados = 6915\n",
      "2024-11-27 19:25:41,228 - __main__ - INFO - - Monto medio simulado = 2,985,725.15\n",
      "2024-11-27 19:25:41,230 - __main__ - INFO - - Plazo medio simulado = 27.49\n",
      "2024-11-27 19:25:41,232 - __main__ - INFO - - Probabilidad de no pago media = 0.0215\n",
      "\n",
      "2024-11-27 19:25:48,285 - __main__ - INFO - Cluster 2:\n",
      "2024-11-27 19:25:48,286 - __main__ - INFO - - Precio Máx. Revenue Esperado = 1.00%\n",
      "2024-11-27 19:25:48,288 - __main__ - INFO - - Revenue Esperado Máximo = 23,289,544,829.72\n",
      "2024-11-27 19:25:48,289 - __main__ - INFO - - Número de clientes en el cluster = 115930\n",
      "2024-11-27 19:25:48,291 - __main__ - INFO - - Número de simulaciones en el cluster = 22973.06\n",
      "2024-11-27 19:25:48,293 - __main__ - INFO - - Probabilidad de aceptación en el precio óptimo = 0.7424\n",
      "2024-11-27 19:25:48,294 - __main__ - INFO - - Número esperado de créditos aceptados = 17054\n",
      "2024-11-27 19:25:48,296 - __main__ - INFO - - Monto medio simulado = 9,305,522.35\n",
      "2024-11-27 19:25:48,299 - __main__ - INFO - - Plazo medio simulado = 27.51\n",
      "2024-11-27 19:25:48,301 - __main__ - INFO - - Probabilidad de no pago media = 0.0137\n",
      "\n",
      "2024-11-27 19:25:58,053 - __main__ - INFO - Cluster 5:\n",
      "2024-11-27 19:25:58,055 - __main__ - INFO - - Precio Máx. Revenue Esperado = 1.00%\n",
      "2024-11-27 19:25:58,059 - __main__ - INFO - - Revenue Esperado Máximo = 34,047,339,818.57\n",
      "2024-11-27 19:25:58,065 - __main__ - INFO - - Número de clientes en el cluster = 116119\n",
      "2024-11-27 19:25:58,067 - __main__ - INFO - - Número de simulaciones en el cluster = 34062.05\n",
      "2024-11-27 19:25:58,070 - __main__ - INFO - - Probabilidad de aceptación en el precio óptimo = 0.7436\n",
      "2024-11-27 19:25:58,072 - __main__ - INFO - - Número esperado de créditos aceptados = 25330\n",
      "2024-11-27 19:25:58,076 - __main__ - INFO - - Monto medio simulado = 9,164,109.39\n",
      "2024-11-27 19:25:58,079 - __main__ - INFO - - Plazo medio simulado = 27.50\n",
      "2024-11-27 19:25:58,083 - __main__ - INFO - - Probabilidad de no pago media = 0.0140\n",
      "\n",
      "2024-11-27 19:26:03,090 - __main__ - INFO - Cluster 8:\n",
      "2024-11-27 19:26:03,092 - __main__ - INFO - - Precio Máx. Revenue Esperado = 1.37%\n",
      "2024-11-27 19:26:03,093 - __main__ - INFO - - Revenue Esperado Máximo = 13,756,918,705.49\n",
      "2024-11-27 19:26:03,097 - __main__ - INFO - - Número de clientes en el cluster = 92953\n",
      "2024-11-27 19:26:03,098 - __main__ - INFO - - Número de simulaciones en el cluster = 17095.38\n",
      "2024-11-27 19:26:03,099 - __main__ - INFO - - Probabilidad de aceptación en el precio óptimo = 0.6132\n",
      "2024-11-27 19:26:03,101 - __main__ - INFO - - Número esperado de créditos aceptados = 10483\n",
      "2024-11-27 19:26:03,104 - __main__ - INFO - - Monto medio simulado = 6,433,753.52\n",
      "2024-11-27 19:26:03,106 - __main__ - INFO - - Plazo medio simulado = 27.51\n",
      "2024-11-27 19:26:03,107 - __main__ - INFO - - Probabilidad de no pago media = 0.0183\n",
      "\n",
      "2024-11-27 19:26:10,221 - __main__ - INFO - Cluster 10:\n",
      "2024-11-27 19:26:10,222 - __main__ - INFO - - Precio Máx. Revenue Esperado = 1.37%\n",
      "2024-11-27 19:26:10,223 - __main__ - INFO - - Revenue Esperado Máximo = 20,348,166,125.63\n",
      "2024-11-27 19:26:10,227 - __main__ - INFO - - Número de clientes en el cluster = 93388\n",
      "2024-11-27 19:26:10,229 - __main__ - INFO - - Número de simulaciones en el cluster = 26116.98\n",
      "2024-11-27 19:26:10,231 - __main__ - INFO - - Probabilidad de aceptación en el precio óptimo = 0.6135\n",
      "2024-11-27 19:26:10,233 - __main__ - INFO - - Número esperado de créditos aceptados = 16024\n",
      "2024-11-27 19:26:10,236 - __main__ - INFO - - Monto medio simulado = 6,223,239.01\n",
      "2024-11-27 19:26:10,237 - __main__ - INFO - - Plazo medio simulado = 27.52\n",
      "2024-11-27 19:26:10,239 - __main__ - INFO - - Probabilidad de no pago media = 0.0184\n",
      "\n",
      "2024-11-27 19:26:13,669 - __main__ - INFO - Cluster 0:\n",
      "2024-11-27 19:26:13,671 - __main__ - INFO - - Precio Máx. Revenue Esperado = 2.50%\n",
      "2024-11-27 19:26:13,672 - __main__ - INFO - - Revenue Esperado Máximo = 5,315,586,703.24\n",
      "2024-11-27 19:26:13,674 - __main__ - INFO - - Número de clientes en el cluster = 62471\n",
      "2024-11-27 19:26:13,677 - __main__ - INFO - - Número de simulaciones en el cluster = 11491.53\n",
      "2024-11-27 19:26:13,679 - __main__ - INFO - - Probabilidad de aceptación en el precio óptimo = 0.4007\n",
      "2024-11-27 19:26:13,681 - __main__ - INFO - - Número esperado de créditos aceptados = 4605\n",
      "2024-11-27 19:26:13,683 - __main__ - INFO - - Monto medio simulado = 2,990,770.34\n",
      "2024-11-27 19:26:13,684 - __main__ - INFO - - Plazo medio simulado = 27.47\n",
      "2024-11-27 19:26:13,687 - __main__ - INFO - - Probabilidad de no pago media = 0.0213\n",
      "\n",
      "2024-11-27 19:26:14,248 - __main__ - INFO - Cluster 11:\n",
      "2024-11-27 19:26:14,250 - __main__ - INFO - - Precio Máx. Revenue Esperado = 1.32%\n",
      "2024-11-27 19:26:14,251 - __main__ - INFO - - Revenue Esperado Máximo = 364,108,463.86\n",
      "2024-11-27 19:26:14,253 - __main__ - INFO - - Número de clientes en el cluster = 24\n",
      "2024-11-27 19:26:14,256 - __main__ - INFO - - Número de simulaciones en el cluster = 7.76\n",
      "2024-11-27 19:26:14,258 - __main__ - INFO - - Probabilidad de aceptación en el precio óptimo = 0.6169\n",
      "2024-11-27 19:26:14,260 - __main__ - INFO - - Número esperado de créditos aceptados = 5\n",
      "2024-11-27 19:26:14,264 - __main__ - INFO - - Monto medio simulado = 398,668,832.74\n",
      "2024-11-27 19:26:14,266 - __main__ - INFO - - Plazo medio simulado = 26.46\n",
      "2024-11-27 19:26:14,269 - __main__ - INFO - - Probabilidad de no pago media = 0.0006\n",
      "\n",
      "2024-11-27 19:26:14,768 - __main__ - INFO - Cluster 9:\n",
      "2024-11-27 19:26:14,769 - __main__ - INFO - - Precio Máx. Revenue Esperado = 1.33%\n",
      "2024-11-27 19:26:14,770 - __main__ - INFO - - Revenue Esperado Máximo = 234,120,390.18\n",
      "2024-11-27 19:26:14,774 - __main__ - INFO - - Número de clientes en el cluster = 20\n",
      "2024-11-27 19:26:14,776 - __main__ - INFO - - Número de simulaciones en el cluster = 4.48\n",
      "2024-11-27 19:26:14,778 - __main__ - INFO - - Probabilidad de aceptación en el precio óptimo = 0.6243\n",
      "2024-11-27 19:26:14,780 - __main__ - INFO - - Número esperado de créditos aceptados = 3\n",
      "2024-11-27 19:26:14,784 - __main__ - INFO - - Monto medio simulado = 400,697,598.93\n",
      "2024-11-27 19:26:14,788 - __main__ - INFO - - Plazo medio simulado = 28.60\n",
      "2024-11-27 19:26:14,793 - __main__ - INFO - - Probabilidad de no pago media = 0.0005\n",
      "\n",
      "2024-11-27 19:26:15,301 - __main__ - INFO - Cluster 6:\n",
      "2024-11-27 19:26:15,302 - __main__ - INFO - - Precio Máx. Revenue Esperado = 1.00%\n",
      "2024-11-27 19:26:15,303 - __main__ - INFO - - Revenue Esperado Máximo = 680,267,123.70\n",
      "2024-11-27 19:26:15,305 - __main__ - INFO - - Número de clientes en el cluster = 46\n",
      "2024-11-27 19:26:15,307 - __main__ - INFO - - Número de simulaciones en el cluster = 14.62\n",
      "2024-11-27 19:26:15,309 - __main__ - INFO - - Probabilidad de aceptación en el precio óptimo = 0.7751\n",
      "2024-11-27 19:26:15,310 - __main__ - INFO - - Número esperado de créditos aceptados = 11\n",
      "2024-11-27 19:26:15,312 - __main__ - INFO - - Monto medio simulado = 398,720,676.40\n",
      "2024-11-27 19:26:15,314 - __main__ - INFO - - Plazo medio simulado = 27.81\n",
      "2024-11-27 19:26:15,315 - __main__ - INFO - - Probabilidad de no pago media = 0.0005\n",
      "\n",
      "2024-11-27 19:26:15,797 - __main__ - INFO - Cluster 3:\n",
      "2024-11-27 19:26:15,798 - __main__ - INFO - - Precio Máx. Revenue Esperado = 1.00%\n",
      "2024-11-27 19:26:15,800 - __main__ - INFO - - Revenue Esperado Máximo = 244,892,368.77\n",
      "2024-11-27 19:26:15,803 - __main__ - INFO - - Número de clientes en el cluster = 27\n",
      "2024-11-27 19:26:15,806 - __main__ - INFO - - Número de simulaciones en el cluster = 5.76\n",
      "2024-11-27 19:26:15,809 - __main__ - INFO - - Probabilidad de aceptación en el precio óptimo = 0.7269\n",
      "2024-11-27 19:26:15,811 - __main__ - INFO - - Número esperado de créditos aceptados = 4\n",
      "2024-11-27 19:26:15,813 - __main__ - INFO - - Monto medio simulado = 390,876,996.52\n",
      "2024-11-27 19:26:15,816 - __main__ - INFO - - Plazo medio simulado = 27.65\n",
      "2024-11-27 19:26:15,818 - __main__ - INFO - - Probabilidad de no pago media = 0.0006\n",
      "\n",
      "2024-11-27 19:26:16,395 - __main__ - INFO - Cluster 7:\n",
      "2024-11-27 19:26:16,397 - __main__ - INFO - - Precio Máx. Revenue Esperado = 1.06%\n",
      "2024-11-27 19:26:16,399 - __main__ - INFO - - Revenue Esperado Máximo = 75,199,052.55\n",
      "2024-11-27 19:26:16,402 - __main__ - INFO - - Número de clientes en el cluster = 3\n",
      "2024-11-27 19:26:16,405 - __main__ - INFO - - Número de simulaciones en el cluster = 1.43\n",
      "2024-11-27 19:26:16,407 - __main__ - INFO - - Probabilidad de aceptación en el precio óptimo = 0.6237\n",
      "2024-11-27 19:26:16,409 - __main__ - INFO - - Número esperado de créditos aceptados = 1\n",
      "2024-11-27 19:26:16,411 - __main__ - INFO - - Monto medio simulado = 700,331,809.18\n",
      "2024-11-27 19:26:16,413 - __main__ - INFO - - Plazo medio simulado = 20.95\n",
      "2024-11-27 19:26:16,414 - __main__ - INFO - - Probabilidad de no pago media = 0.0005\n",
      "\n",
      "2024-11-27 19:26:16,896 - __main__ - INFO - Cluster 4:\n",
      "2024-11-27 19:26:16,898 - __main__ - INFO - - Precio Máx. Revenue Esperado = 1.04%\n",
      "2024-11-27 19:26:16,900 - __main__ - INFO - - Revenue Esperado Máximo = 63,420,575.13\n",
      "2024-11-27 19:26:16,901 - __main__ - INFO - - Número de clientes en el cluster = 5\n",
      "2024-11-27 19:26:16,904 - __main__ - INFO - - Número de simulaciones en el cluster = 1.35\n",
      "2024-11-27 19:26:16,907 - __main__ - INFO - - Probabilidad de aceptación en el precio óptimo = 0.5671\n",
      "2024-11-27 19:26:16,909 - __main__ - INFO - - Número esperado de créditos aceptados = 1\n",
      "2024-11-27 19:26:16,910 - __main__ - INFO - - Monto medio simulado = 583,263,009.83\n",
      "2024-11-27 19:26:16,912 - __main__ - INFO - - Plazo medio simulado = 25.17\n",
      "2024-11-27 19:26:16,914 - __main__ - INFO - - Probabilidad de no pago media = 0.0003\n",
      "\n",
      "2024-11-27 19:26:17,450 - __main__ - INFO - Cluster 12:\n",
      "2024-11-27 19:26:17,452 - __main__ - INFO - - Precio Máx. Revenue Esperado = 1.26%\n",
      "2024-11-27 19:26:17,453 - __main__ - INFO - - Revenue Esperado Máximo = 64,679,528.10\n",
      "2024-11-27 19:26:17,455 - __main__ - INFO - - Número de clientes en el cluster = 2\n",
      "2024-11-27 19:26:17,458 - __main__ - INFO - - Número de simulaciones en el cluster = 1.25\n",
      "2024-11-27 19:26:17,460 - __main__ - INFO - - Probabilidad de aceptación en el precio óptimo = 0.6905\n",
      "2024-11-27 19:26:17,462 - __main__ - INFO - - Número esperado de créditos aceptados = 1\n",
      "2024-11-27 19:26:17,464 - __main__ - INFO - - Monto medio simulado = 356,110,516.60\n",
      "2024-11-27 19:26:17,466 - __main__ - INFO - - Plazo medio simulado = 30.37\n",
      "2024-11-27 19:26:17,468 - __main__ - INFO - - Probabilidad de no pago media = 0.0006\n",
      "\n",
      "2024-11-27 19:26:17,921 - __main__ - INFO - El revenue total esperado es: 106,457,225,478.59 con un total de 542904 clientes, 129,037.15 simulaciones, y 80437 créditos.\n",
      "2024-11-27 19:26:19,873 - __main__ - INFO - total_revenue: 106457225478.59212, total_clientes: 542904, total_simulaciones: 129037.15037878788, total_creditos: 80437\n",
      "2024-11-27 19:26:42,403 - __main__ - INFO - Estimación de respuesta a tratamientos completada.\n",
      "2024-11-27 19:26:49,126 - __main__ - INFO - Llamando al modelo de asignación de tratamientos...\n",
      "2024-11-27 19:26:49,128 - __main__ - INFO - Iniciando modelo de asignación de tratamientos...\n",
      "2024-11-27 19:26:49,130 - __main__ - INFO - Procesando datos de probabilidades y asignando IDs de tratamiento...\n",
      "2024-11-27 19:26:49,137 - __main__ - INFO - Fusionando probabilidades con información de RUT...\n",
      "2024-11-27 19:26:49,297 - __main__ - INFO - Fusionando información de RUT con información de clusters...\n",
      "2024-11-27 19:26:49,450 - __main__ - INFO - Agrupando información por cluster...\n",
      "2024-11-27 19:26:50,450 - __main__ - INFO - Calculando Revenue Calculado (RC)...\n",
      "2024-11-27 19:26:50,458 - __main__ - INFO - Preparando matriz de beneficios para optimización...\n",
      "2024-11-27 19:26:50,467 - __main__ - INFO - Inicializando modelo de optimización con Gurobi...\n",
      "2024-11-27 19:26:50,469 - __main__ - INFO - Creando variables de decisión...\n",
      "2024-11-27 19:26:50,471 - __main__ - INFO - Agregando restricción de un tratamiento por cliente...\n",
      "2024-11-27 19:26:50,481 - __main__ - INFO - Agregando restricción de capacidad para ejecutivos...\n",
      "2024-11-27 19:26:50,485 - __main__ - INFO - Agregando restricciones de consistencia por cluster...\n",
      "2024-11-27 19:26:50,488 - __main__ - INFO - Iniciando optimización con Gurobi...\n"
     ]
    },
    {
     "name": "stdout",
     "output_type": "stream",
     "text": [
      "Gurobi Optimizer version 11.0.3 build v11.0.3rc0 (win64 - Windows 10.0 (19045.2))\n"
     ]
    },
    {
     "name": "stderr",
     "output_type": "stream",
     "text": [
      "2024-11-27 19:26:50,492 - gurobipy - INFO - Gurobi Optimizer version 11.0.3 build v11.0.3rc0 (win64 - Windows 10.0 (19045.2))\n"
     ]
    },
    {
     "name": "stdout",
     "output_type": "stream",
     "text": [
      "\n"
     ]
    },
    {
     "name": "stderr",
     "output_type": "stream",
     "text": [
      "2024-11-27 19:26:50,499 - gurobipy - INFO - \n"
     ]
    },
    {
     "name": "stdout",
     "output_type": "stream",
     "text": [
      "CPU model: AMD Ryzen 5 2500U with Radeon Vega Mobile Gfx, instruction set [SSE2|AVX|AVX2]\n"
     ]
    },
    {
     "name": "stderr",
     "output_type": "stream",
     "text": [
      "2024-11-27 19:26:50,502 - gurobipy - INFO - CPU model: AMD Ryzen 5 2500U with Radeon Vega Mobile Gfx, instruction set [SSE2|AVX|AVX2]\n"
     ]
    },
    {
     "name": "stdout",
     "output_type": "stream",
     "text": [
      "Thread count: 4 physical cores, 8 logical processors, using up to 8 threads\n"
     ]
    },
    {
     "name": "stderr",
     "output_type": "stream",
     "text": [
      "2024-11-27 19:26:50,508 - gurobipy - INFO - Thread count: 4 physical cores, 8 logical processors, using up to 8 threads\n"
     ]
    },
    {
     "name": "stdout",
     "output_type": "stream",
     "text": [
      "\n"
     ]
    },
    {
     "name": "stderr",
     "output_type": "stream",
     "text": [
      "2024-11-27 19:26:50,512 - gurobipy - INFO - \n"
     ]
    },
    {
     "name": "stdout",
     "output_type": "stream",
     "text": [
      "Optimize a model with 14 rows, 102 columns and 141 nonzeros\n"
     ]
    },
    {
     "name": "stderr",
     "output_type": "stream",
     "text": [
      "2024-11-27 19:26:50,516 - gurobipy - INFO - Optimize a model with 14 rows, 102 columns and 141 nonzeros\n"
     ]
    },
    {
     "name": "stdout",
     "output_type": "stream",
     "text": [
      "Model fingerprint: 0x9bd07823\n"
     ]
    },
    {
     "name": "stderr",
     "output_type": "stream",
     "text": [
      "2024-11-27 19:26:50,519 - gurobipy - INFO - Model fingerprint: 0x9bd07823\n"
     ]
    },
    {
     "name": "stdout",
     "output_type": "stream",
     "text": [
      "Variable types: 0 continuous, 102 integer (102 binary)\n"
     ]
    },
    {
     "name": "stderr",
     "output_type": "stream",
     "text": [
      "2024-11-27 19:26:50,522 - gurobipy - INFO - Variable types: 0 continuous, 102 integer (102 binary)\n"
     ]
    },
    {
     "name": "stdout",
     "output_type": "stream",
     "text": [
      "Coefficient statistics:\n"
     ]
    },
    {
     "name": "stderr",
     "output_type": "stream",
     "text": [
      "2024-11-27 19:26:50,525 - gurobipy - INFO - Coefficient statistics:\n"
     ]
    },
    {
     "name": "stdout",
     "output_type": "stream",
     "text": [
      "  Matrix range     [1e+00, 1e+05]\n"
     ]
    },
    {
     "name": "stderr",
     "output_type": "stream",
     "text": [
      "2024-11-27 19:26:50,530 - gurobipy - INFO -   Matrix range     [1e+00, 1e+05]\n"
     ]
    },
    {
     "name": "stdout",
     "output_type": "stream",
     "text": [
      "  Objective range  [1e+07, 5e+10]\n"
     ]
    },
    {
     "name": "stderr",
     "output_type": "stream",
     "text": [
      "2024-11-27 19:26:50,534 - gurobipy - INFO -   Objective range  [1e+07, 5e+10]\n"
     ]
    },
    {
     "name": "stdout",
     "output_type": "stream",
     "text": [
      "  Bounds range     [1e+00, 1e+00]\n"
     ]
    },
    {
     "name": "stderr",
     "output_type": "stream",
     "text": [
      "2024-11-27 19:26:50,537 - gurobipy - INFO -   Bounds range     [1e+00, 1e+00]\n"
     ]
    },
    {
     "name": "stdout",
     "output_type": "stream",
     "text": [
      "  RHS range        [1e+00, 2e+05]\n"
     ]
    },
    {
     "name": "stderr",
     "output_type": "stream",
     "text": [
      "2024-11-27 19:26:50,541 - gurobipy - INFO -   RHS range        [1e+00, 2e+05]\n"
     ]
    },
    {
     "name": "stdout",
     "output_type": "stream",
     "text": [
      "Warning: Model contains large objective coefficients\n"
     ]
    },
    {
     "name": "stderr",
     "output_type": "stream",
     "text": [
      "2024-11-27 19:26:50,547 - gurobipy - INFO - Warning: Model contains large objective coefficients\n"
     ]
    },
    {
     "name": "stdout",
     "output_type": "stream",
     "text": [
      "         Consider reformulating model or setting NumericFocus parameter\n"
     ]
    },
    {
     "name": "stderr",
     "output_type": "stream",
     "text": [
      "2024-11-27 19:26:50,551 - gurobipy - INFO -          Consider reformulating model or setting NumericFocus parameter\n"
     ]
    },
    {
     "name": "stdout",
     "output_type": "stream",
     "text": [
      "         to avoid numerical issues.\n"
     ]
    },
    {
     "name": "stderr",
     "output_type": "stream",
     "text": [
      "2024-11-27 19:26:50,555 - gurobipy - INFO -          to avoid numerical issues.\n"
     ]
    },
    {
     "name": "stdout",
     "output_type": "stream",
     "text": [
      "Found heuristic solution: objective 6.360363e+10\n"
     ]
    },
    {
     "name": "stderr",
     "output_type": "stream",
     "text": [
      "2024-11-27 19:26:50,565 - gurobipy - INFO - Found heuristic solution: objective 6.360363e+10\n"
     ]
    },
    {
     "name": "stdout",
     "output_type": "stream",
     "text": [
      "Presolve removed 13 rows and 90 columns\n"
     ]
    },
    {
     "name": "stderr",
     "output_type": "stream",
     "text": [
      "2024-11-27 19:26:50,572 - gurobipy - INFO - Presolve removed 13 rows and 90 columns\n"
     ]
    },
    {
     "name": "stdout",
     "output_type": "stream",
     "text": [
      "Presolve time: 0.00s\n"
     ]
    },
    {
     "name": "stderr",
     "output_type": "stream",
     "text": [
      "2024-11-27 19:26:50,577 - gurobipy - INFO - Presolve time: 0.00s\n"
     ]
    },
    {
     "name": "stdout",
     "output_type": "stream",
     "text": [
      "Presolved: 1 rows, 12 columns, 12 nonzeros\n"
     ]
    },
    {
     "name": "stderr",
     "output_type": "stream",
     "text": [
      "2024-11-27 19:26:50,581 - gurobipy - INFO - Presolved: 1 rows, 12 columns, 12 nonzeros\n"
     ]
    },
    {
     "name": "stdout",
     "output_type": "stream",
     "text": [
      "Found heuristic solution: objective 1.072302e+11\n"
     ]
    },
    {
     "name": "stderr",
     "output_type": "stream",
     "text": [
      "2024-11-27 19:26:50,585 - gurobipy - INFO - Found heuristic solution: objective 1.072302e+11\n"
     ]
    },
    {
     "name": "stdout",
     "output_type": "stream",
     "text": [
      "Variable types: 0 continuous, 12 integer (12 binary)\n"
     ]
    },
    {
     "name": "stderr",
     "output_type": "stream",
     "text": [
      "2024-11-27 19:26:50,589 - gurobipy - INFO - Variable types: 0 continuous, 12 integer (12 binary)\n"
     ]
    },
    {
     "name": "stdout",
     "output_type": "stream",
     "text": [
      "Found heuristic solution: objective 1.072614e+11\n"
     ]
    },
    {
     "name": "stderr",
     "output_type": "stream",
     "text": [
      "2024-11-27 19:26:50,595 - gurobipy - INFO - Found heuristic solution: objective 1.072614e+11\n"
     ]
    },
    {
     "name": "stdout",
     "output_type": "stream",
     "text": [
      "\n"
     ]
    },
    {
     "name": "stderr",
     "output_type": "stream",
     "text": [
      "2024-11-27 19:26:50,600 - gurobipy - INFO - \n"
     ]
    },
    {
     "name": "stdout",
     "output_type": "stream",
     "text": [
      "Root relaxation: objective 1.153425e+11, 1 iterations, 0.00 seconds (0.00 work units)\n"
     ]
    },
    {
     "name": "stderr",
     "output_type": "stream",
     "text": [
      "2024-11-27 19:26:50,604 - gurobipy - INFO - Root relaxation: objective 1.153425e+11, 1 iterations, 0.00 seconds (0.00 work units)\n"
     ]
    },
    {
     "name": "stdout",
     "output_type": "stream",
     "text": [
      "\n"
     ]
    },
    {
     "name": "stderr",
     "output_type": "stream",
     "text": [
      "2024-11-27 19:26:50,619 - gurobipy - INFO - \n"
     ]
    },
    {
     "name": "stdout",
     "output_type": "stream",
     "text": [
      "    Nodes    |    Current Node    |     Objective Bounds      |     Work\n"
     ]
    },
    {
     "name": "stderr",
     "output_type": "stream",
     "text": [
      "2024-11-27 19:26:50,624 - gurobipy - INFO -     Nodes    |    Current Node    |     Objective Bounds      |     Work\n"
     ]
    },
    {
     "name": "stdout",
     "output_type": "stream",
     "text": [
      " Expl Unexpl |  Obj  Depth IntInf | Incumbent    BestBd   Gap | It/Node Time\n"
     ]
    },
    {
     "name": "stderr",
     "output_type": "stream",
     "text": [
      "2024-11-27 19:26:50,631 - gurobipy - INFO -  Expl Unexpl |  Obj  Depth IntInf | Incumbent    BestBd   Gap | It/Node Time\n"
     ]
    },
    {
     "name": "stdout",
     "output_type": "stream",
     "text": [
      "\n"
     ]
    },
    {
     "name": "stderr",
     "output_type": "stream",
     "text": [
      "2024-11-27 19:26:50,636 - gurobipy - INFO - \n"
     ]
    },
    {
     "name": "stdout",
     "output_type": "stream",
     "text": [
      "     0     0 1.1534e+11    0    1 1.0726e+11 1.1534e+11  7.53%     -    0s\n"
     ]
    },
    {
     "name": "stderr",
     "output_type": "stream",
     "text": [
      "2024-11-27 19:26:50,640 - gurobipy - INFO -      0     0 1.1534e+11    0    1 1.0726e+11 1.1534e+11  7.53%     -    0s\n"
     ]
    },
    {
     "name": "stdout",
     "output_type": "stream",
     "text": [
      "H    0     0                    1.075274e+11 1.1534e+11  7.27%     -    0s\n"
     ]
    },
    {
     "name": "stderr",
     "output_type": "stream",
     "text": [
      "2024-11-27 19:26:50,645 - gurobipy - INFO - H    0     0                    1.075274e+11 1.1534e+11  7.27%     -    0s\n"
     ]
    },
    {
     "name": "stdout",
     "output_type": "stream",
     "text": [
      "     0     0 1.0753e+11    0    1 1.0753e+11 1.0753e+11  0.00%     -    0s\n"
     ]
    },
    {
     "name": "stderr",
     "output_type": "stream",
     "text": [
      "2024-11-27 19:26:50,652 - gurobipy - INFO -      0     0 1.0753e+11    0    1 1.0753e+11 1.0753e+11  0.00%     -    0s\n"
     ]
    },
    {
     "name": "stdout",
     "output_type": "stream",
     "text": [
      "\n"
     ]
    },
    {
     "name": "stderr",
     "output_type": "stream",
     "text": [
      "2024-11-27 19:26:50,656 - gurobipy - INFO - \n"
     ]
    },
    {
     "name": "stdout",
     "output_type": "stream",
     "text": [
      "Cutting planes:\n"
     ]
    },
    {
     "name": "stderr",
     "output_type": "stream",
     "text": [
      "2024-11-27 19:26:50,660 - gurobipy - INFO - Cutting planes:\n"
     ]
    },
    {
     "name": "stdout",
     "output_type": "stream",
     "text": [
      "  Cover: 1\n"
     ]
    },
    {
     "name": "stderr",
     "output_type": "stream",
     "text": [
      "2024-11-27 19:26:50,665 - gurobipy - INFO -   Cover: 1\n"
     ]
    },
    {
     "name": "stdout",
     "output_type": "stream",
     "text": [
      "\n"
     ]
    },
    {
     "name": "stderr",
     "output_type": "stream",
     "text": [
      "2024-11-27 19:26:50,668 - gurobipy - INFO - \n"
     ]
    },
    {
     "name": "stdout",
     "output_type": "stream",
     "text": [
      "Explored 1 nodes (2 simplex iterations) in 0.15 seconds (0.00 work units)\n"
     ]
    },
    {
     "name": "stderr",
     "output_type": "stream",
     "text": [
      "2024-11-27 19:26:50,672 - gurobipy - INFO - Explored 1 nodes (2 simplex iterations) in 0.15 seconds (0.00 work units)\n"
     ]
    },
    {
     "name": "stdout",
     "output_type": "stream",
     "text": [
      "Thread count was 8 (of 8 available processors)\n"
     ]
    },
    {
     "name": "stderr",
     "output_type": "stream",
     "text": [
      "2024-11-27 19:26:50,677 - gurobipy - INFO - Thread count was 8 (of 8 available processors)\n"
     ]
    },
    {
     "name": "stdout",
     "output_type": "stream",
     "text": [
      "\n"
     ]
    },
    {
     "name": "stderr",
     "output_type": "stream",
     "text": [
      "2024-11-27 19:26:50,681 - gurobipy - INFO - \n"
     ]
    },
    {
     "name": "stdout",
     "output_type": "stream",
     "text": [
      "Solution count 4: 1.07527e+11 1.07261e+11 1.0723e+11 6.36036e+10 \n"
     ]
    },
    {
     "name": "stderr",
     "output_type": "stream",
     "text": [
      "2024-11-27 19:26:50,685 - gurobipy - INFO - Solution count 4: 1.07527e+11 1.07261e+11 1.0723e+11 6.36036e+10 \n"
     ]
    },
    {
     "name": "stdout",
     "output_type": "stream",
     "text": [
      "\n"
     ]
    },
    {
     "name": "stderr",
     "output_type": "stream",
     "text": [
      "2024-11-27 19:26:50,689 - gurobipy - INFO - \n"
     ]
    },
    {
     "name": "stdout",
     "output_type": "stream",
     "text": [
      "Optimal solution found (tolerance 1.00e-04)\n"
     ]
    },
    {
     "name": "stderr",
     "output_type": "stream",
     "text": [
      "2024-11-27 19:26:50,694 - gurobipy - INFO - Optimal solution found (tolerance 1.00e-04)\n"
     ]
    },
    {
     "name": "stdout",
     "output_type": "stream",
     "text": [
      "Best objective 1.075274065178e+11, best bound 1.075274065178e+11, gap 0.0000%\n"
     ]
    },
    {
     "name": "stderr",
     "output_type": "stream",
     "text": [
      "2024-11-27 19:26:50,699 - gurobipy - INFO - Best objective 1.075274065178e+11, best bound 1.075274065178e+11, gap 0.0000%\n",
      "2024-11-27 19:26:50,702 - __main__ - INFO - Optimización exitosa. Extrayendo resultados...\n",
      "2024-11-27 19:26:50,704 - __main__ - INFO - Ganancias totales: 107527406517.77\n",
      "2024-11-27 19:26:50,708 - __main__ - INFO - Executives used: 186740\n",
      "2024-11-27 19:26:50,710 - __main__ - INFO - Executives remaining: 18260\n",
      "2024-11-27 19:26:50,713 - __main__ - INFO - Optimización completada.\n",
      "2024-11-27 19:26:50,729 - __main__ - INFO - Recalculación de métricas completada.\n",
      "2024-11-27 19:26:52,162 - __main__ - INFO - Aplicando acción tipo: adjust_splits sobre variable: Propension con parámetros: {'operation': 'increase'}\n",
      "2024-11-27 19:26:52,170 - __main__ - INFO - Corte aumentado para variable 'Propension': [0.5000001914137039, 0.25000111754547705]\n",
      "2024-11-27 19:26:52,183 - __main__ - INFO - Recalculando clusters...\n",
      "2024-11-27 19:26:52,184 - __main__ - INFO - Realizando clustering...\n",
      "2024-11-27 19:26:52,223 - __main__ - INFO - Procesando variable: Genero\n",
      "2024-11-27 19:26:52,224 - __main__ - INFO - Procesando variable: Categoria_Digital\n",
      "2024-11-27 19:26:52,228 - __main__ - INFO - Procesando variable: Elasticidad_Precios\n",
      "2024-11-27 19:26:52,295 - __main__ - INFO - Variable categórica 'Elasticidad_Precios' separada en los grupos: ['Alta' 'Baja' 'Media']\n",
      "2024-11-27 19:26:52,297 - __main__ - INFO - Procesando variable: Nacionalidad\n",
      "2024-11-27 19:26:52,298 - __main__ - INFO - Procesando variable: Propension\n",
      "2024-11-27 19:26:52,332 - __main__ - INFO - Cortes para variable 'Propension': [0.25000111754547705, 0.5000001914137039]\n",
      "2024-11-27 19:26:52,333 - __main__ - INFO - Procesando variable: Probabilidad_No_Pago\n",
      "2024-11-27 19:26:52,335 - __main__ - INFO - Procesando variable: Edad\n",
      "2024-11-27 19:26:52,336 - __main__ - INFO - Procesando variable: Renta\n",
      "2024-11-27 19:26:52,366 - __main__ - INFO - Cortes para variable 'Renta': [70944581.06383134, 106416870.7849141]\n",
      "2024-11-27 19:26:52,367 - __main__ - INFO - Variables incluidas en clusterización: ['Elasticidad_Precios_cluster', 'Propension_cluster', 'Renta_cluster']\n",
      "2024-11-27 19:27:08,010 - __main__ - INFO - Variables incluidas en este clustering: ['Elasticidad_Precios_cluster', 'Propension_cluster', 'Renta_cluster']\n",
      "2024-11-27 19:27:08,012 - __main__ - INFO - Clustering completado. Número de clusters: 19\n",
      "2024-11-27 19:27:08,013 - __main__ - INFO - Recalculando métricas...\n",
      "2024-11-27 19:27:11,830 - __main__ - INFO - Estimando elasticidad...\n",
      "2024-11-27 19:27:16,159 - __main__ - INFO - Cluster 2:\n",
      "2024-11-27 19:27:16,160 - __main__ - INFO - - Precio Máx. Revenue Esperado = 2.50%\n",
      "2024-11-27 19:27:16,161 - __main__ - INFO - - Revenue Esperado Máximo = 7,972,981,793.64\n",
      "2024-11-27 19:27:16,163 - __main__ - INFO - - Número de clientes en el cluster = 61916\n",
      "2024-11-27 19:27:16,167 - __main__ - INFO - - Número de simulaciones en el cluster = 17261.50\n",
      "2024-11-27 19:27:16,170 - __main__ - INFO - - Probabilidad de aceptación en el precio óptimo = 0.4006\n",
      "2024-11-27 19:27:16,172 - __main__ - INFO - - Número esperado de créditos aceptados = 6915\n",
      "2024-11-27 19:27:16,176 - __main__ - INFO - - Monto medio simulado = 2,985,725.15\n",
      "2024-11-27 19:27:16,180 - __main__ - INFO - - Plazo medio simulado = 27.49\n",
      "2024-11-27 19:27:16,182 - __main__ - INFO - - Probabilidad de no pago media = 0.0215\n",
      "\n",
      "2024-11-27 19:27:20,333 - __main__ - INFO - Cluster 6:\n",
      "2024-11-27 19:27:20,335 - __main__ - INFO - - Precio Máx. Revenue Esperado = 1.00%\n",
      "2024-11-27 19:27:20,337 - __main__ - INFO - - Revenue Esperado Máximo = 13,017,760,165.99\n",
      "2024-11-27 19:27:20,339 - __main__ - INFO - - Número de clientes en el cluster = 58144\n",
      "2024-11-27 19:27:20,342 - __main__ - INFO - - Número de simulaciones en el cluster = 12867.92\n",
      "2024-11-27 19:27:20,344 - __main__ - INFO - - Probabilidad de aceptación en el precio óptimo = 0.7422\n",
      "2024-11-27 19:27:20,346 - __main__ - INFO - - Número esperado de créditos aceptados = 9551\n",
      "2024-11-27 19:27:20,348 - __main__ - INFO - - Monto medio simulado = 9,289,804.92\n",
      "2024-11-27 19:27:20,350 - __main__ - INFO - - Plazo medio simulado = 27.50\n",
      "2024-11-27 19:27:20,352 - __main__ - INFO - - Probabilidad de no pago media = 0.0138\n",
      "\n",
      "2024-11-27 19:27:30,207 - __main__ - INFO - Cluster 9:\n",
      "2024-11-27 19:27:30,209 - __main__ - INFO - - Precio Máx. Revenue Esperado = 1.00%\n",
      "2024-11-27 19:27:30,210 - __main__ - INFO - - Revenue Esperado Máximo = 34,047,339,818.57\n",
      "2024-11-27 19:27:30,212 - __main__ - INFO - - Número de clientes en el cluster = 116119\n",
      "2024-11-27 19:27:30,214 - __main__ - INFO - - Número de simulaciones en el cluster = 34062.05\n",
      "2024-11-27 19:27:30,216 - __main__ - INFO - - Probabilidad de aceptación en el precio óptimo = 0.7436\n",
      "2024-11-27 19:27:30,217 - __main__ - INFO - - Número esperado de créditos aceptados = 25330\n",
      "2024-11-27 19:27:30,218 - __main__ - INFO - - Monto medio simulado = 9,164,109.39\n",
      "2024-11-27 19:27:30,221 - __main__ - INFO - - Plazo medio simulado = 27.50\n",
      "2024-11-27 19:27:30,223 - __main__ - INFO - - Probabilidad de no pago media = 0.0140\n",
      "\n",
      "2024-11-27 19:27:33,566 - __main__ - INFO - Cluster 14:\n",
      "2024-11-27 19:27:33,568 - __main__ - INFO - - Precio Máx. Revenue Esperado = 1.38%\n",
      "2024-11-27 19:27:33,569 - __main__ - INFO - - Revenue Esperado Máximo = 7,716,234,688.99\n",
      "2024-11-27 19:27:33,571 - __main__ - INFO - - Número de clientes en el cluster = 46180\n",
      "2024-11-27 19:27:33,573 - __main__ - INFO - - Número de simulaciones en el cluster = 9607.42\n",
      "2024-11-27 19:27:33,575 - __main__ - INFO - - Probabilidad de aceptación en el precio óptimo = 0.6138\n",
      "2024-11-27 19:27:33,578 - __main__ - INFO - - Número esperado de créditos aceptados = 5897\n",
      "2024-11-27 19:27:33,581 - __main__ - INFO - - Monto medio simulado = 6,411,936.46\n",
      "2024-11-27 19:27:33,583 - __main__ - INFO - - Plazo medio simulado = 27.52\n",
      "2024-11-27 19:27:33,585 - __main__ - INFO - - Probabilidad de no pago media = 0.0183\n",
      "\n",
      "2024-11-27 19:27:40,512 - __main__ - INFO - Cluster 16:\n",
      "2024-11-27 19:27:40,514 - __main__ - INFO - - Precio Máx. Revenue Esperado = 1.37%\n",
      "2024-11-27 19:27:40,515 - __main__ - INFO - - Revenue Esperado Máximo = 20,348,166,125.63\n",
      "2024-11-27 19:27:40,517 - __main__ - INFO - - Número de clientes en el cluster = 93388\n",
      "2024-11-27 19:27:40,519 - __main__ - INFO - - Número de simulaciones en el cluster = 26116.98\n",
      "2024-11-27 19:27:40,521 - __main__ - INFO - - Probabilidad de aceptación en el precio óptimo = 0.6135\n",
      "2024-11-27 19:27:40,523 - __main__ - INFO - - Número esperado de créditos aceptados = 16024\n",
      "2024-11-27 19:27:40,525 - __main__ - INFO - - Monto medio simulado = 6,223,239.01\n",
      "2024-11-27 19:27:40,531 - __main__ - INFO - - Plazo medio simulado = 27.52\n",
      "2024-11-27 19:27:40,532 - __main__ - INFO - - Probabilidad de no pago media = 0.0184\n",
      "\n",
      "2024-11-27 19:27:44,064 - __main__ - INFO - Cluster 3:\n",
      "2024-11-27 19:27:44,065 - __main__ - INFO - - Precio Máx. Revenue Esperado = 1.00%\n",
      "2024-11-27 19:27:44,066 - __main__ - INFO - - Revenue Esperado Máximo = 10,271,823,680.65\n",
      "2024-11-27 19:27:44,069 - __main__ - INFO - - Número de clientes en el cluster = 57786\n",
      "2024-11-27 19:27:44,071 - __main__ - INFO - - Número de simulaciones en el cluster = 10105.14\n",
      "2024-11-27 19:27:44,073 - __main__ - INFO - - Probabilidad de aceptación en el precio óptimo = 0.7425\n",
      "2024-11-27 19:27:44,076 - __main__ - INFO - - Número esperado de créditos aceptados = 7503\n",
      "2024-11-27 19:27:44,079 - __main__ - INFO - - Monto medio simulado = 9,325,536.99\n",
      "2024-11-27 19:27:44,081 - __main__ - INFO - - Plazo medio simulado = 27.51\n",
      "2024-11-27 19:27:44,083 - __main__ - INFO - - Probabilidad de no pago media = 0.0135\n",
      "\n",
      "2024-11-27 19:27:45,877 - __main__ - INFO - Cluster 0:\n",
      "2024-11-27 19:27:45,878 - __main__ - INFO - - Precio Máx. Revenue Esperado = 2.50%\n",
      "2024-11-27 19:27:45,880 - __main__ - INFO - - Revenue Esperado Máximo = 2,298,009,339.38\n",
      "2024-11-27 19:27:45,881 - __main__ - INFO - - Número de clientes en el cluster = 31034\n",
      "2024-11-27 19:27:45,883 - __main__ - INFO - - Número de simulaciones en el cluster = 4966.83\n",
      "2024-11-27 19:27:45,886 - __main__ - INFO - - Probabilidad de aceptación en el precio óptimo = 0.4023\n",
      "2024-11-27 19:27:45,888 - __main__ - INFO - - Número esperado de créditos aceptados = 1998\n",
      "2024-11-27 19:27:45,889 - __main__ - INFO - - Monto medio simulado = 2,978,796.32\n",
      "2024-11-27 19:27:45,891 - __main__ - INFO - - Plazo medio simulado = 27.47\n",
      "2024-11-27 19:27:45,893 - __main__ - INFO - - Probabilidad de no pago media = 0.0212\n",
      "\n",
      "2024-11-27 19:27:48,108 - __main__ - INFO - Cluster 1:\n",
      "2024-11-27 19:27:48,110 - __main__ - INFO - - Precio Máx. Revenue Esperado = 2.50%\n",
      "2024-11-27 19:27:48,111 - __main__ - INFO - - Revenue Esperado Máximo = 3,017,507,683.69\n",
      "2024-11-27 19:27:48,113 - __main__ - INFO - - Número de clientes en el cluster = 31437\n",
      "2024-11-27 19:27:48,115 - __main__ - INFO - - Número de simulaciones en el cluster = 6524.70\n",
      "2024-11-27 19:27:48,117 - __main__ - INFO - - Probabilidad de aceptación en el precio óptimo = 0.3995\n",
      "2024-11-27 19:27:48,120 - __main__ - INFO - - Número esperado de créditos aceptados = 2606\n",
      "2024-11-27 19:27:48,121 - __main__ - INFO - - Monto medio simulado = 2,999,885.39\n",
      "2024-11-27 19:27:48,124 - __main__ - INFO - - Plazo medio simulado = 27.47\n",
      "2024-11-27 19:27:48,127 - __main__ - INFO - - Probabilidad de no pago media = 0.0214\n",
      "\n",
      "2024-11-27 19:27:50,570 - __main__ - INFO - Cluster 12:\n",
      "2024-11-27 19:27:50,572 - __main__ - INFO - - Precio Máx. Revenue Esperado = 1.37%\n",
      "2024-11-27 19:27:50,575 - __main__ - INFO - - Revenue Esperado Máximo = 6,040,634,091.84\n",
      "2024-11-27 19:27:50,576 - __main__ - INFO - - Número de clientes en el cluster = 46773\n",
      "2024-11-27 19:27:50,578 - __main__ - INFO - - Número de simulaciones en el cluster = 7487.95\n",
      "2024-11-27 19:27:50,580 - __main__ - INFO - - Probabilidad de aceptación en el precio óptimo = 0.6124\n",
      "2024-11-27 19:27:50,582 - __main__ - INFO - - Número esperado de créditos aceptados = 4586\n",
      "2024-11-27 19:27:50,584 - __main__ - INFO - - Monto medio simulado = 6,461,745.92\n",
      "2024-11-27 19:27:50,585 - __main__ - INFO - - Plazo medio simulado = 27.49\n",
      "2024-11-27 19:27:50,587 - __main__ - INFO - - Probabilidad de no pago media = 0.0184\n",
      "\n",
      "2024-11-27 19:27:51,110 - __main__ - INFO - Cluster 17:\n",
      "2024-11-27 19:27:51,112 - __main__ - INFO - - Precio Máx. Revenue Esperado = 1.32%\n",
      "2024-11-27 19:27:51,113 - __main__ - INFO - - Revenue Esperado Máximo = 364,108,463.86\n",
      "2024-11-27 19:27:51,115 - __main__ - INFO - - Número de clientes en el cluster = 24\n",
      "2024-11-27 19:27:51,117 - __main__ - INFO - - Número de simulaciones en el cluster = 7.76\n",
      "2024-11-27 19:27:51,119 - __main__ - INFO - - Probabilidad de aceptación en el precio óptimo = 0.6169\n",
      "2024-11-27 19:27:51,121 - __main__ - INFO - - Número esperado de créditos aceptados = 5\n",
      "2024-11-27 19:27:51,125 - __main__ - INFO - - Monto medio simulado = 398,668,832.74\n",
      "2024-11-27 19:27:51,126 - __main__ - INFO - - Plazo medio simulado = 26.46\n",
      "2024-11-27 19:27:51,128 - __main__ - INFO - - Probabilidad de no pago media = 0.0006\n",
      "\n",
      "2024-11-27 19:27:51,606 - __main__ - INFO - Cluster 15:\n",
      "2024-11-27 19:27:51,608 - __main__ - INFO - - Precio Máx. Revenue Esperado = 1.23%\n",
      "2024-11-27 19:27:51,610 - __main__ - INFO - - Revenue Esperado Máximo = 157,175,061.20\n",
      "2024-11-27 19:27:51,612 - __main__ - INFO - - Número de clientes en el cluster = 12\n",
      "2024-11-27 19:27:51,614 - __main__ - INFO - - Número de simulaciones en el cluster = 3.09\n",
      "2024-11-27 19:27:51,616 - __main__ - INFO - - Probabilidad de aceptación en el precio óptimo = 0.6619\n",
      "2024-11-27 19:27:51,618 - __main__ - INFO - - Número esperado de créditos aceptados = 2\n",
      "2024-11-27 19:27:51,620 - __main__ - INFO - - Monto medio simulado = 409,948,638.41\n",
      "2024-11-27 19:27:51,622 - __main__ - INFO - - Plazo medio simulado = 27.90\n",
      "2024-11-27 19:27:51,625 - __main__ - INFO - - Probabilidad de no pago media = 0.0005\n",
      "\n",
      "2024-11-27 19:27:52,104 - __main__ - INFO - Cluster 13:\n",
      "2024-11-27 19:27:52,106 - __main__ - INFO - - Precio Máx. Revenue Esperado = 1.53%\n",
      "2024-11-27 19:27:52,108 - __main__ - INFO - - Revenue Esperado Máximo = 101,841,629.95\n",
      "2024-11-27 19:27:52,110 - __main__ - INFO - - Número de clientes en el cluster = 8\n",
      "2024-11-27 19:27:52,113 - __main__ - INFO - - Número de simulaciones en el cluster = 1.76\n",
      "2024-11-27 19:27:52,114 - __main__ - INFO - - Probabilidad de aceptación en el precio óptimo = 0.5950\n",
      "2024-11-27 19:27:52,116 - __main__ - INFO - - Número esperado de créditos aceptados = 1\n",
      "2024-11-27 19:27:52,119 - __main__ - INFO - - Monto medio simulado = 381,124,346.99\n",
      "2024-11-27 19:27:52,120 - __main__ - INFO - - Plazo medio simulado = 30.11\n",
      "2024-11-27 19:27:52,123 - __main__ - INFO - - Probabilidad de no pago media = 0.0004\n",
      "\n",
      "2024-11-27 19:27:52,778 - __main__ - INFO - Cluster 10:\n",
      "2024-11-27 19:27:52,781 - __main__ - INFO - - Precio Máx. Revenue Esperado = 1.00%\n",
      "2024-11-27 19:27:52,783 - __main__ - INFO - - Revenue Esperado Máximo = 680,267,123.70\n",
      "2024-11-27 19:27:52,785 - __main__ - INFO - - Número de clientes en el cluster = 46\n",
      "2024-11-27 19:27:52,789 - __main__ - INFO - - Número de simulaciones en el cluster = 14.62\n",
      "2024-11-27 19:27:52,792 - __main__ - INFO - - Probabilidad de aceptación en el precio óptimo = 0.7751\n",
      "2024-11-27 19:27:52,795 - __main__ - INFO - - Número esperado de créditos aceptados = 11\n",
      "2024-11-27 19:27:52,797 - __main__ - INFO - - Monto medio simulado = 398,720,676.40\n",
      "2024-11-27 19:27:52,799 - __main__ - INFO - - Plazo medio simulado = 27.81\n",
      "2024-11-27 19:27:52,801 - __main__ - INFO - - Probabilidad de no pago media = 0.0005\n",
      "\n",
      "2024-11-27 19:27:53,313 - __main__ - INFO - Cluster 7:\n",
      "2024-11-27 19:27:53,315 - __main__ - INFO - - Precio Máx. Revenue Esperado = 1.00%\n",
      "2024-11-27 19:27:53,316 - __main__ - INFO - - Revenue Esperado Máximo = 143,125,839.69\n",
      "2024-11-27 19:27:53,318 - __main__ - INFO - - Número de clientes en el cluster = 12\n",
      "2024-11-27 19:27:53,320 - __main__ - INFO - - Número de simulaciones en el cluster = 3.16\n",
      "2024-11-27 19:27:53,325 - __main__ - INFO - - Probabilidad de aceptación en el precio óptimo = 0.7545\n",
      "2024-11-27 19:27:53,327 - __main__ - INFO - - Número esperado de créditos aceptados = 2\n",
      "2024-11-27 19:27:53,330 - __main__ - INFO - - Monto medio simulado = 389,969,419.18\n",
      "2024-11-27 19:27:53,332 - __main__ - INFO - - Plazo medio simulado = 28.38\n",
      "2024-11-27 19:27:53,335 - __main__ - INFO - - Probabilidad de no pago media = 0.0006\n",
      "\n",
      "2024-11-27 19:27:53,879 - __main__ - INFO - Cluster 4:\n",
      "2024-11-27 19:27:53,881 - __main__ - INFO - - Precio Máx. Revenue Esperado = 1.02%\n",
      "2024-11-27 19:27:53,882 - __main__ - INFO - - Revenue Esperado Máximo = 116,365,954.07\n",
      "2024-11-27 19:27:53,884 - __main__ - INFO - - Número de clientes en el cluster = 15\n",
      "2024-11-27 19:27:53,886 - __main__ - INFO - - Número de simulaciones en el cluster = 2.83\n",
      "2024-11-27 19:27:53,889 - __main__ - INFO - - Probabilidad de aceptación en el precio óptimo = 0.7131\n",
      "2024-11-27 19:27:53,891 - __main__ - INFO - - Número esperado de créditos aceptados = 2\n",
      "2024-11-27 19:27:53,893 - __main__ - INFO - - Monto medio simulado = 391,906,943.84\n",
      "2024-11-27 19:27:53,895 - __main__ - INFO - - Plazo medio simulado = 26.83\n",
      "2024-11-27 19:27:53,897 - __main__ - INFO - - Probabilidad de no pago media = 0.0007\n",
      "\n",
      "2024-11-27 19:27:54,397 - __main__ - INFO - Cluster 11:\n",
      "2024-11-27 19:27:54,399 - __main__ - INFO - - Precio Máx. Revenue Esperado = 1.06%\n",
      "2024-11-27 19:27:54,401 - __main__ - INFO - - Revenue Esperado Máximo = 75,199,052.55\n",
      "2024-11-27 19:27:54,405 - __main__ - INFO - - Número de clientes en el cluster = 3\n",
      "2024-11-27 19:27:54,407 - __main__ - INFO - - Número de simulaciones en el cluster = 1.43\n",
      "2024-11-27 19:27:54,410 - __main__ - INFO - - Probabilidad de aceptación en el precio óptimo = 0.6237\n",
      "2024-11-27 19:27:54,412 - __main__ - INFO - - Número esperado de créditos aceptados = 1\n",
      "2024-11-27 19:27:54,413 - __main__ - INFO - - Monto medio simulado = 700,331,809.18\n",
      "2024-11-27 19:27:54,415 - __main__ - INFO - - Plazo medio simulado = 20.95\n",
      "2024-11-27 19:27:54,420 - __main__ - INFO - - Probabilidad de no pago media = 0.0005\n",
      "\n",
      "2024-11-27 19:27:54,935 - __main__ - WARNING - Cluster 8 tiene menos de 10 registros después de limpiar. Se salta.\n",
      "2024-11-27 19:27:54,977 - __main__ - INFO - Cluster 18:\n",
      "2024-11-27 19:27:54,979 - __main__ - INFO - - Precio Máx. Revenue Esperado = 1.26%\n",
      "2024-11-27 19:27:54,982 - __main__ - INFO - - Revenue Esperado Máximo = 64,679,528.10\n",
      "2024-11-27 19:27:54,983 - __main__ - INFO - - Número de clientes en el cluster = 2\n",
      "2024-11-27 19:27:54,985 - __main__ - INFO - - Número de simulaciones en el cluster = 1.25\n",
      "2024-11-27 19:27:54,990 - __main__ - INFO - - Probabilidad de aceptación en el precio óptimo = 0.6905\n",
      "2024-11-27 19:27:54,991 - __main__ - INFO - - Número esperado de créditos aceptados = 1\n",
      "2024-11-27 19:27:54,992 - __main__ - INFO - - Monto medio simulado = 356,110,516.60\n",
      "2024-11-27 19:27:54,994 - __main__ - INFO - - Plazo medio simulado = 30.37\n",
      "2024-11-27 19:27:54,996 - __main__ - INFO - - Probabilidad de no pago media = 0.0006\n",
      "\n",
      "2024-11-27 19:27:55,510 - __main__ - INFO - Cluster 5:\n",
      "2024-11-27 19:27:55,511 - __main__ - INFO - - Precio Máx. Revenue Esperado = 1.05%\n",
      "2024-11-27 19:27:55,512 - __main__ - INFO - - Revenue Esperado Máximo = 58,154,660.48\n",
      "2024-11-27 19:27:55,514 - __main__ - INFO - - Número de clientes en el cluster = 4\n",
      "2024-11-27 19:27:55,516 - __main__ - INFO - - Número de simulaciones en el cluster = 1.27\n",
      "2024-11-27 19:27:55,517 - __main__ - INFO - - Probabilidad de aceptación en el precio óptimo = 0.5210\n",
      "2024-11-27 19:27:55,518 - __main__ - INFO - - Número esperado de créditos aceptados = 1\n",
      "2024-11-27 19:27:55,522 - __main__ - INFO - - Monto medio simulado = 606,012,125.66\n",
      "2024-11-27 19:27:55,523 - __main__ - INFO - - Plazo medio simulado = 25.48\n",
      "2024-11-27 19:27:55,525 - __main__ - INFO - - Probabilidad de no pago media = 0.0003\n",
      "\n",
      "2024-11-27 19:27:55,973 - __main__ - INFO - El revenue total esperado es: 106,491,374,701.99 con un total de 542903 clientes, 129,037.66 simulaciones, y 80436 créditos.\n",
      "2024-11-27 19:27:57,950 - __main__ - INFO - total_revenue: 106491374701.98875, total_clientes: 542903, total_simulaciones: 129037.65972892847, total_creditos: 80436\n",
      "2024-11-27 19:28:21,040 - __main__ - INFO - Estimación de respuesta a tratamientos completada.\n",
      "2024-11-27 19:28:27,501 - __main__ - INFO - Llamando al modelo de asignación de tratamientos...\n",
      "2024-11-27 19:28:27,503 - __main__ - INFO - Iniciando modelo de asignación de tratamientos...\n",
      "2024-11-27 19:28:27,504 - __main__ - INFO - Procesando datos de probabilidades y asignando IDs de tratamiento...\n",
      "2024-11-27 19:28:27,510 - __main__ - INFO - Fusionando probabilidades con información de RUT...\n",
      "2024-11-27 19:28:27,665 - __main__ - INFO - Fusionando información de RUT con información de clusters...\n",
      "2024-11-27 19:28:27,813 - __main__ - WARNING - Algunas combinaciones de clusters no están completas en rut_info.\n",
      "2024-11-27 19:28:27,815 - __main__ - INFO - Agrupando información por cluster...\n",
      "2024-11-27 19:28:29,086 - __main__ - INFO - Calculando Revenue Calculado (RC)...\n",
      "2024-11-27 19:28:29,092 - __main__ - INFO - Preparando matriz de beneficios para optimización...\n",
      "2024-11-27 19:28:29,103 - __main__ - INFO - Inicializando modelo de optimización con Gurobi...\n",
      "2024-11-27 19:28:29,105 - __main__ - INFO - Creando variables de decisión...\n",
      "2024-11-27 19:28:29,115 - __main__ - INFO - Agregando restricción de un tratamiento por cliente...\n",
      "2024-11-27 19:28:29,117 - __main__ - INFO - Agregando restricción de capacidad para ejecutivos...\n",
      "2024-11-27 19:28:29,123 - __main__ - INFO - Agregando restricciones de consistencia por cluster...\n",
      "2024-11-27 19:28:29,127 - __main__ - INFO - Iniciando optimización con Gurobi...\n"
     ]
    },
    {
     "name": "stdout",
     "output_type": "stream",
     "text": [
      "Gurobi Optimizer version 11.0.3 build v11.0.3rc0 (win64 - Windows 10.0 (19045.2))\n"
     ]
    },
    {
     "name": "stderr",
     "output_type": "stream",
     "text": [
      "2024-11-27 19:28:29,131 - gurobipy - INFO - Gurobi Optimizer version 11.0.3 build v11.0.3rc0 (win64 - Windows 10.0 (19045.2))\n"
     ]
    },
    {
     "name": "stdout",
     "output_type": "stream",
     "text": [
      "\n"
     ]
    },
    {
     "name": "stderr",
     "output_type": "stream",
     "text": [
      "2024-11-27 19:28:29,136 - gurobipy - INFO - \n"
     ]
    },
    {
     "name": "stdout",
     "output_type": "stream",
     "text": [
      "CPU model: AMD Ryzen 5 2500U with Radeon Vega Mobile Gfx, instruction set [SSE2|AVX|AVX2]\n"
     ]
    },
    {
     "name": "stderr",
     "output_type": "stream",
     "text": [
      "2024-11-27 19:28:29,145 - gurobipy - INFO - CPU model: AMD Ryzen 5 2500U with Radeon Vega Mobile Gfx, instruction set [SSE2|AVX|AVX2]\n"
     ]
    },
    {
     "name": "stdout",
     "output_type": "stream",
     "text": [
      "Thread count: 4 physical cores, 8 logical processors, using up to 8 threads\n"
     ]
    },
    {
     "name": "stderr",
     "output_type": "stream",
     "text": [
      "2024-11-27 19:28:29,149 - gurobipy - INFO - Thread count: 4 physical cores, 8 logical processors, using up to 8 threads\n"
     ]
    },
    {
     "name": "stdout",
     "output_type": "stream",
     "text": [
      "\n"
     ]
    },
    {
     "name": "stderr",
     "output_type": "stream",
     "text": [
      "2024-11-27 19:28:29,156 - gurobipy - INFO - \n"
     ]
    },
    {
     "name": "stdout",
     "output_type": "stream",
     "text": [
      "Optimize a model with 20 rows, 142 columns and 196 nonzeros\n"
     ]
    },
    {
     "name": "stderr",
     "output_type": "stream",
     "text": [
      "2024-11-27 19:28:29,162 - gurobipy - INFO - Optimize a model with 20 rows, 142 columns and 196 nonzeros\n"
     ]
    },
    {
     "name": "stdout",
     "output_type": "stream",
     "text": [
      "Model fingerprint: 0x4c418638\n"
     ]
    },
    {
     "name": "stderr",
     "output_type": "stream",
     "text": [
      "2024-11-27 19:28:29,166 - gurobipy - INFO - Model fingerprint: 0x4c418638\n"
     ]
    },
    {
     "name": "stdout",
     "output_type": "stream",
     "text": [
      "Variable types: 0 continuous, 142 integer (142 binary)\n"
     ]
    },
    {
     "name": "stderr",
     "output_type": "stream",
     "text": [
      "2024-11-27 19:28:29,170 - gurobipy - INFO - Variable types: 0 continuous, 142 integer (142 binary)\n"
     ]
    },
    {
     "name": "stdout",
     "output_type": "stream",
     "text": [
      "Coefficient statistics:\n"
     ]
    },
    {
     "name": "stderr",
     "output_type": "stream",
     "text": [
      "2024-11-27 19:28:29,184 - gurobipy - INFO - Coefficient statistics:\n"
     ]
    },
    {
     "name": "stdout",
     "output_type": "stream",
     "text": [
      "  Matrix range     [1e+00, 1e+05]\n"
     ]
    },
    {
     "name": "stderr",
     "output_type": "stream",
     "text": [
      "2024-11-27 19:28:29,188 - gurobipy - INFO -   Matrix range     [1e+00, 1e+05]\n"
     ]
    },
    {
     "name": "stdout",
     "output_type": "stream",
     "text": [
      "  Objective range  [1e+07, 5e+10]\n"
     ]
    },
    {
     "name": "stderr",
     "output_type": "stream",
     "text": [
      "2024-11-27 19:28:29,193 - gurobipy - INFO -   Objective range  [1e+07, 5e+10]\n"
     ]
    },
    {
     "name": "stdout",
     "output_type": "stream",
     "text": [
      "  Bounds range     [1e+00, 1e+00]\n"
     ]
    },
    {
     "name": "stderr",
     "output_type": "stream",
     "text": [
      "2024-11-27 19:28:29,197 - gurobipy - INFO -   Bounds range     [1e+00, 1e+00]\n"
     ]
    },
    {
     "name": "stdout",
     "output_type": "stream",
     "text": [
      "  RHS range        [1e+00, 2e+05]\n"
     ]
    },
    {
     "name": "stderr",
     "output_type": "stream",
     "text": [
      "2024-11-27 19:28:29,200 - gurobipy - INFO -   RHS range        [1e+00, 2e+05]\n"
     ]
    },
    {
     "name": "stdout",
     "output_type": "stream",
     "text": [
      "Warning: Model contains large objective coefficients\n"
     ]
    },
    {
     "name": "stderr",
     "output_type": "stream",
     "text": [
      "2024-11-27 19:28:29,205 - gurobipy - INFO - Warning: Model contains large objective coefficients\n"
     ]
    },
    {
     "name": "stdout",
     "output_type": "stream",
     "text": [
      "         Consider reformulating model or setting NumericFocus parameter\n"
     ]
    },
    {
     "name": "stderr",
     "output_type": "stream",
     "text": [
      "2024-11-27 19:28:29,213 - gurobipy - INFO -          Consider reformulating model or setting NumericFocus parameter\n"
     ]
    },
    {
     "name": "stdout",
     "output_type": "stream",
     "text": [
      "         to avoid numerical issues.\n"
     ]
    },
    {
     "name": "stderr",
     "output_type": "stream",
     "text": [
      "2024-11-27 19:28:29,216 - gurobipy - INFO -          to avoid numerical issues.\n"
     ]
    },
    {
     "name": "stdout",
     "output_type": "stream",
     "text": [
      "Presolve time: 0.00s\n"
     ]
    },
    {
     "name": "stderr",
     "output_type": "stream",
     "text": [
      "2024-11-27 19:28:29,221 - gurobipy - INFO - Presolve time: 0.00s\n"
     ]
    },
    {
     "name": "stdout",
     "output_type": "stream",
     "text": [
      "\n"
     ]
    },
    {
     "name": "stderr",
     "output_type": "stream",
     "text": [
      "2024-11-27 19:28:29,227 - gurobipy - INFO - \n"
     ]
    },
    {
     "name": "stdout",
     "output_type": "stream",
     "text": [
      "Explored 0 nodes (0 simplex iterations) in 0.06 seconds (0.00 work units)\n"
     ]
    },
    {
     "name": "stderr",
     "output_type": "stream",
     "text": [
      "2024-11-27 19:28:29,231 - gurobipy - INFO - Explored 0 nodes (0 simplex iterations) in 0.06 seconds (0.00 work units)\n"
     ]
    },
    {
     "name": "stdout",
     "output_type": "stream",
     "text": [
      "Thread count was 1 (of 8 available processors)\n"
     ]
    },
    {
     "name": "stderr",
     "output_type": "stream",
     "text": [
      "2024-11-27 19:28:29,235 - gurobipy - INFO - Thread count was 1 (of 8 available processors)\n"
     ]
    },
    {
     "name": "stdout",
     "output_type": "stream",
     "text": [
      "\n"
     ]
    },
    {
     "name": "stderr",
     "output_type": "stream",
     "text": [
      "2024-11-27 19:28:29,238 - gurobipy - INFO - \n"
     ]
    },
    {
     "name": "stdout",
     "output_type": "stream",
     "text": [
      "Solution count 0\n"
     ]
    },
    {
     "name": "stderr",
     "output_type": "stream",
     "text": [
      "2024-11-27 19:28:29,242 - gurobipy - INFO - Solution count 0\n"
     ]
    },
    {
     "name": "stdout",
     "output_type": "stream",
     "text": [
      "No other solutions better than -1e+100\n"
     ]
    },
    {
     "name": "stderr",
     "output_type": "stream",
     "text": [
      "2024-11-27 19:28:29,246 - gurobipy - INFO - No other solutions better than -1e+100\n"
     ]
    },
    {
     "name": "stdout",
     "output_type": "stream",
     "text": [
      "\n"
     ]
    },
    {
     "name": "stderr",
     "output_type": "stream",
     "text": [
      "2024-11-27 19:28:29,248 - gurobipy - INFO - \n"
     ]
    },
    {
     "name": "stdout",
     "output_type": "stream",
     "text": [
      "Model is infeasible\n"
     ]
    },
    {
     "name": "stderr",
     "output_type": "stream",
     "text": [
      "2024-11-27 19:28:29,251 - gurobipy - INFO - Model is infeasible\n"
     ]
    },
    {
     "name": "stdout",
     "output_type": "stream",
     "text": [
      "Best objective -, best bound -, gap -\n"
     ]
    },
    {
     "name": "stderr",
     "output_type": "stream",
     "text": [
      "2024-11-27 19:28:29,255 - gurobipy - INFO - Best objective -, best bound -, gap -\n",
      "2024-11-27 19:28:29,257 - __main__ - ERROR - Optimización no alcanzó una solución óptima.\n",
      "2024-11-27 19:28:29,259 - __main__ - INFO - Optimización completada.\n",
      "2024-11-27 19:28:29,273 - __main__ - INFO - Recalculación de métricas completada.\n",
      "2024-11-27 19:28:30,705 - __main__ - INFO - Aplicando acción tipo: adjust_splits sobre variable: Renta con parámetros: {'operation': 'move', 'index': 2, 'amount': -1}\n",
      "2024-11-27 19:28:30,706 - __main__ - INFO - Corte movido para variable 'Renta': [70944581.06383134, 106416870.7849141]\n",
      "2024-11-27 19:28:30,721 - __main__ - INFO - Recalculando clusters...\n",
      "2024-11-27 19:28:30,723 - __main__ - INFO - Realizando clustering...\n",
      "2024-11-27 19:28:30,762 - __main__ - INFO - Procesando variable: Genero\n",
      "2024-11-27 19:28:30,763 - __main__ - INFO - Procesando variable: Categoria_Digital\n",
      "2024-11-27 19:28:30,765 - __main__ - INFO - Procesando variable: Elasticidad_Precios\n",
      "2024-11-27 19:28:30,840 - __main__ - INFO - Variable categórica 'Elasticidad_Precios' separada en los grupos: ['Alta' 'Baja' 'Media']\n",
      "2024-11-27 19:28:30,842 - __main__ - INFO - Procesando variable: Nacionalidad\n",
      "2024-11-27 19:28:30,845 - __main__ - INFO - Procesando variable: Propension\n",
      "2024-11-27 19:28:30,886 - __main__ - INFO - Cortes para variable 'Propension': [0.25000111754547705, 0.5000001914137039]\n",
      "2024-11-27 19:28:30,888 - __main__ - INFO - Procesando variable: Probabilidad_No_Pago\n",
      "2024-11-27 19:28:30,890 - __main__ - INFO - Procesando variable: Edad\n",
      "2024-11-27 19:28:30,893 - __main__ - INFO - Procesando variable: Renta\n",
      "2024-11-27 19:28:30,924 - __main__ - INFO - Cortes para variable 'Renta': [70944581.06383134, 106416870.7849141]\n",
      "2024-11-27 19:28:30,926 - __main__ - INFO - Variables incluidas en clusterización: ['Elasticidad_Precios_cluster', 'Propension_cluster', 'Renta_cluster']\n",
      "2024-11-27 19:28:46,910 - __main__ - INFO - Variables incluidas en este clustering: ['Elasticidad_Precios_cluster', 'Propension_cluster', 'Renta_cluster']\n",
      "2024-11-27 19:28:46,911 - __main__ - INFO - Clustering completado. Número de clusters: 19\n",
      "2024-11-27 19:28:46,913 - __main__ - INFO - Recalculando métricas...\n",
      "2024-11-27 19:28:50,777 - __main__ - INFO - Estimando elasticidad...\n",
      "2024-11-27 19:28:55,058 - __main__ - INFO - Cluster 2:\n",
      "2024-11-27 19:28:55,059 - __main__ - INFO - - Precio Máx. Revenue Esperado = 2.50%\n",
      "2024-11-27 19:28:55,060 - __main__ - INFO - - Revenue Esperado Máximo = 7,972,981,793.64\n",
      "2024-11-27 19:28:55,062 - __main__ - INFO - - Número de clientes en el cluster = 61916\n",
      "2024-11-27 19:28:55,064 - __main__ - INFO - - Número de simulaciones en el cluster = 17261.50\n",
      "2024-11-27 19:28:55,066 - __main__ - INFO - - Probabilidad de aceptación en el precio óptimo = 0.4006\n",
      "2024-11-27 19:28:55,070 - __main__ - INFO - - Número esperado de créditos aceptados = 6915\n",
      "2024-11-27 19:28:55,072 - __main__ - INFO - - Monto medio simulado = 2,985,725.15\n",
      "2024-11-27 19:28:55,074 - __main__ - INFO - - Plazo medio simulado = 27.49\n",
      "2024-11-27 19:28:55,079 - __main__ - INFO - - Probabilidad de no pago media = 0.0215\n",
      "\n",
      "2024-11-27 19:28:59,407 - __main__ - INFO - Cluster 6:\n",
      "2024-11-27 19:28:59,409 - __main__ - INFO - - Precio Máx. Revenue Esperado = 1.00%\n",
      "2024-11-27 19:28:59,411 - __main__ - INFO - - Revenue Esperado Máximo = 13,017,760,165.99\n",
      "2024-11-27 19:28:59,413 - __main__ - INFO - - Número de clientes en el cluster = 58144\n",
      "2024-11-27 19:28:59,416 - __main__ - INFO - - Número de simulaciones en el cluster = 12867.92\n",
      "2024-11-27 19:28:59,419 - __main__ - INFO - - Probabilidad de aceptación en el precio óptimo = 0.7422\n",
      "2024-11-27 19:28:59,421 - __main__ - INFO - - Número esperado de créditos aceptados = 9551\n",
      "2024-11-27 19:28:59,423 - __main__ - INFO - - Monto medio simulado = 9,289,804.92\n",
      "2024-11-27 19:28:59,428 - __main__ - INFO - - Plazo medio simulado = 27.50\n",
      "2024-11-27 19:28:59,429 - __main__ - INFO - - Probabilidad de no pago media = 0.0138\n",
      "\n",
      "2024-11-27 19:29:09,794 - __main__ - INFO - Cluster 9:\n",
      "2024-11-27 19:29:09,796 - __main__ - INFO - - Precio Máx. Revenue Esperado = 1.00%\n",
      "2024-11-27 19:29:09,797 - __main__ - INFO - - Revenue Esperado Máximo = 34,047,339,818.57\n",
      "2024-11-27 19:29:09,799 - __main__ - INFO - - Número de clientes en el cluster = 116119\n",
      "2024-11-27 19:29:09,802 - __main__ - INFO - - Número de simulaciones en el cluster = 34062.05\n",
      "2024-11-27 19:29:09,805 - __main__ - INFO - - Probabilidad de aceptación en el precio óptimo = 0.7436\n",
      "2024-11-27 19:29:09,807 - __main__ - INFO - - Número esperado de créditos aceptados = 25330\n",
      "2024-11-27 19:29:09,809 - __main__ - INFO - - Monto medio simulado = 9,164,109.39\n",
      "2024-11-27 19:29:09,812 - __main__ - INFO - - Plazo medio simulado = 27.50\n",
      "2024-11-27 19:29:09,814 - __main__ - INFO - - Probabilidad de no pago media = 0.0140\n",
      "\n",
      "2024-11-27 19:29:13,290 - __main__ - INFO - Cluster 14:\n",
      "2024-11-27 19:29:13,291 - __main__ - INFO - - Precio Máx. Revenue Esperado = 1.38%\n",
      "2024-11-27 19:29:13,292 - __main__ - INFO - - Revenue Esperado Máximo = 7,716,234,688.99\n",
      "2024-11-27 19:29:13,293 - __main__ - INFO - - Número de clientes en el cluster = 46180\n",
      "2024-11-27 19:29:13,295 - __main__ - INFO - - Número de simulaciones en el cluster = 9607.42\n",
      "2024-11-27 19:29:13,296 - __main__ - INFO - - Probabilidad de aceptación en el precio óptimo = 0.6138\n",
      "2024-11-27 19:29:13,298 - __main__ - INFO - - Número esperado de créditos aceptados = 5897\n",
      "2024-11-27 19:29:13,299 - __main__ - INFO - - Monto medio simulado = 6,411,936.46\n",
      "2024-11-27 19:29:13,301 - __main__ - INFO - - Plazo medio simulado = 27.52\n",
      "2024-11-27 19:29:13,304 - __main__ - INFO - - Probabilidad de no pago media = 0.0183\n",
      "\n",
      "2024-11-27 19:29:20,067 - __main__ - INFO - Cluster 16:\n",
      "2024-11-27 19:29:20,069 - __main__ - INFO - - Precio Máx. Revenue Esperado = 1.37%\n",
      "2024-11-27 19:29:20,070 - __main__ - INFO - - Revenue Esperado Máximo = 20,348,166,125.63\n",
      "2024-11-27 19:29:20,071 - __main__ - INFO - - Número de clientes en el cluster = 93388\n",
      "2024-11-27 19:29:20,072 - __main__ - INFO - - Número de simulaciones en el cluster = 26116.98\n",
      "2024-11-27 19:29:20,074 - __main__ - INFO - - Probabilidad de aceptación en el precio óptimo = 0.6135\n",
      "2024-11-27 19:29:20,075 - __main__ - INFO - - Número esperado de créditos aceptados = 16024\n",
      "2024-11-27 19:29:20,077 - __main__ - INFO - - Monto medio simulado = 6,223,239.01\n",
      "2024-11-27 19:29:20,079 - __main__ - INFO - - Plazo medio simulado = 27.52\n",
      "2024-11-27 19:29:20,080 - __main__ - INFO - - Probabilidad de no pago media = 0.0184\n",
      "\n",
      "2024-11-27 19:29:23,505 - __main__ - INFO - Cluster 3:\n",
      "2024-11-27 19:29:23,507 - __main__ - INFO - - Precio Máx. Revenue Esperado = 1.00%\n",
      "2024-11-27 19:29:23,509 - __main__ - INFO - - Revenue Esperado Máximo = 10,271,823,680.65\n",
      "2024-11-27 19:29:23,513 - __main__ - INFO - - Número de clientes en el cluster = 57786\n",
      "2024-11-27 19:29:23,514 - __main__ - INFO - - Número de simulaciones en el cluster = 10105.14\n",
      "2024-11-27 19:29:23,516 - __main__ - INFO - - Probabilidad de aceptación en el precio óptimo = 0.7425\n",
      "2024-11-27 19:29:23,518 - __main__ - INFO - - Número esperado de créditos aceptados = 7503\n",
      "2024-11-27 19:29:23,521 - __main__ - INFO - - Monto medio simulado = 9,325,536.99\n",
      "2024-11-27 19:29:23,523 - __main__ - INFO - - Plazo medio simulado = 27.51\n",
      "2024-11-27 19:29:23,525 - __main__ - INFO - - Probabilidad de no pago media = 0.0135\n",
      "\n",
      "2024-11-27 19:29:25,352 - __main__ - INFO - Cluster 0:\n",
      "2024-11-27 19:29:25,354 - __main__ - INFO - - Precio Máx. Revenue Esperado = 2.50%\n",
      "2024-11-27 19:29:25,355 - __main__ - INFO - - Revenue Esperado Máximo = 2,298,009,339.38\n",
      "2024-11-27 19:29:25,357 - __main__ - INFO - - Número de clientes en el cluster = 31034\n",
      "2024-11-27 19:29:25,359 - __main__ - INFO - - Número de simulaciones en el cluster = 4966.83\n",
      "2024-11-27 19:29:25,361 - __main__ - INFO - - Probabilidad de aceptación en el precio óptimo = 0.4023\n",
      "2024-11-27 19:29:25,362 - __main__ - INFO - - Número esperado de créditos aceptados = 1998\n",
      "2024-11-27 19:29:25,363 - __main__ - INFO - - Monto medio simulado = 2,978,796.32\n",
      "2024-11-27 19:29:25,365 - __main__ - INFO - - Plazo medio simulado = 27.47\n",
      "2024-11-27 19:29:25,366 - __main__ - INFO - - Probabilidad de no pago media = 0.0212\n",
      "\n",
      "2024-11-27 19:29:27,553 - __main__ - INFO - Cluster 1:\n",
      "2024-11-27 19:29:27,554 - __main__ - INFO - - Precio Máx. Revenue Esperado = 2.50%\n",
      "2024-11-27 19:29:27,556 - __main__ - INFO - - Revenue Esperado Máximo = 3,017,507,683.69\n",
      "2024-11-27 19:29:27,558 - __main__ - INFO - - Número de clientes en el cluster = 31437\n",
      "2024-11-27 19:29:27,560 - __main__ - INFO - - Número de simulaciones en el cluster = 6524.70\n",
      "2024-11-27 19:29:27,563 - __main__ - INFO - - Probabilidad de aceptación en el precio óptimo = 0.3995\n",
      "2024-11-27 19:29:27,565 - __main__ - INFO - - Número esperado de créditos aceptados = 2606\n",
      "2024-11-27 19:29:27,567 - __main__ - INFO - - Monto medio simulado = 2,999,885.39\n",
      "2024-11-27 19:29:27,570 - __main__ - INFO - - Plazo medio simulado = 27.47\n",
      "2024-11-27 19:29:27,572 - __main__ - INFO - - Probabilidad de no pago media = 0.0214\n",
      "\n",
      "2024-11-27 19:29:30,115 - __main__ - INFO - Cluster 12:\n",
      "2024-11-27 19:29:30,116 - __main__ - INFO - - Precio Máx. Revenue Esperado = 1.37%\n",
      "2024-11-27 19:29:30,117 - __main__ - INFO - - Revenue Esperado Máximo = 6,040,634,091.84\n",
      "2024-11-27 19:29:30,120 - __main__ - INFO - - Número de clientes en el cluster = 46773\n",
      "2024-11-27 19:29:30,122 - __main__ - INFO - - Número de simulaciones en el cluster = 7487.95\n",
      "2024-11-27 19:29:30,124 - __main__ - INFO - - Probabilidad de aceptación en el precio óptimo = 0.6124\n",
      "2024-11-27 19:29:30,126 - __main__ - INFO - - Número esperado de créditos aceptados = 4586\n",
      "2024-11-27 19:29:30,127 - __main__ - INFO - - Monto medio simulado = 6,461,745.92\n",
      "2024-11-27 19:29:30,131 - __main__ - INFO - - Plazo medio simulado = 27.49\n",
      "2024-11-27 19:29:30,132 - __main__ - INFO - - Probabilidad de no pago media = 0.0184\n",
      "\n",
      "2024-11-27 19:29:30,634 - __main__ - INFO - Cluster 17:\n",
      "2024-11-27 19:29:30,635 - __main__ - INFO - - Precio Máx. Revenue Esperado = 1.32%\n",
      "2024-11-27 19:29:30,638 - __main__ - INFO - - Revenue Esperado Máximo = 364,108,463.86\n",
      "2024-11-27 19:29:30,640 - __main__ - INFO - - Número de clientes en el cluster = 24\n",
      "2024-11-27 19:29:30,642 - __main__ - INFO - - Número de simulaciones en el cluster = 7.76\n",
      "2024-11-27 19:29:30,644 - __main__ - INFO - - Probabilidad de aceptación en el precio óptimo = 0.6169\n",
      "2024-11-27 19:29:30,646 - __main__ - INFO - - Número esperado de créditos aceptados = 5\n",
      "2024-11-27 19:29:30,651 - __main__ - INFO - - Monto medio simulado = 398,668,832.74\n",
      "2024-11-27 19:29:30,653 - __main__ - INFO - - Plazo medio simulado = 26.46\n",
      "2024-11-27 19:29:30,657 - __main__ - INFO - - Probabilidad de no pago media = 0.0006\n",
      "\n",
      "2024-11-27 19:29:31,140 - __main__ - INFO - Cluster 15:\n",
      "2024-11-27 19:29:31,142 - __main__ - INFO - - Precio Máx. Revenue Esperado = 1.23%\n",
      "2024-11-27 19:29:31,144 - __main__ - INFO - - Revenue Esperado Máximo = 157,175,061.20\n",
      "2024-11-27 19:29:31,146 - __main__ - INFO - - Número de clientes en el cluster = 12\n",
      "2024-11-27 19:29:31,148 - __main__ - INFO - - Número de simulaciones en el cluster = 3.09\n",
      "2024-11-27 19:29:31,151 - __main__ - INFO - - Probabilidad de aceptación en el precio óptimo = 0.6619\n",
      "2024-11-27 19:29:31,153 - __main__ - INFO - - Número esperado de créditos aceptados = 2\n",
      "2024-11-27 19:29:31,155 - __main__ - INFO - - Monto medio simulado = 409,948,638.41\n",
      "2024-11-27 19:29:31,157 - __main__ - INFO - - Plazo medio simulado = 27.90\n",
      "2024-11-27 19:29:31,159 - __main__ - INFO - - Probabilidad de no pago media = 0.0005\n",
      "\n",
      "2024-11-27 19:29:31,651 - __main__ - INFO - Cluster 13:\n",
      "2024-11-27 19:29:31,652 - __main__ - INFO - - Precio Máx. Revenue Esperado = 1.53%\n",
      "2024-11-27 19:29:31,654 - __main__ - INFO - - Revenue Esperado Máximo = 101,841,629.95\n",
      "2024-11-27 19:29:31,656 - __main__ - INFO - - Número de clientes en el cluster = 8\n",
      "2024-11-27 19:29:31,658 - __main__ - INFO - - Número de simulaciones en el cluster = 1.76\n",
      "2024-11-27 19:29:31,660 - __main__ - INFO - - Probabilidad de aceptación en el precio óptimo = 0.5950\n",
      "2024-11-27 19:29:31,661 - __main__ - INFO - - Número esperado de créditos aceptados = 1\n",
      "2024-11-27 19:29:31,663 - __main__ - INFO - - Monto medio simulado = 381,124,346.99\n",
      "2024-11-27 19:29:31,665 - __main__ - INFO - - Plazo medio simulado = 30.11\n",
      "2024-11-27 19:29:31,667 - __main__ - INFO - - Probabilidad de no pago media = 0.0004\n",
      "\n",
      "2024-11-27 19:29:32,137 - __main__ - INFO - Cluster 10:\n",
      "2024-11-27 19:29:32,139 - __main__ - INFO - - Precio Máx. Revenue Esperado = 1.00%\n",
      "2024-11-27 19:29:32,140 - __main__ - INFO - - Revenue Esperado Máximo = 680,267,123.70\n",
      "2024-11-27 19:29:32,143 - __main__ - INFO - - Número de clientes en el cluster = 46\n",
      "2024-11-27 19:29:32,144 - __main__ - INFO - - Número de simulaciones en el cluster = 14.62\n",
      "2024-11-27 19:29:32,146 - __main__ - INFO - - Probabilidad de aceptación en el precio óptimo = 0.7751\n",
      "2024-11-27 19:29:32,151 - __main__ - INFO - - Número esperado de créditos aceptados = 11\n",
      "2024-11-27 19:29:32,153 - __main__ - INFO - - Monto medio simulado = 398,720,676.40\n",
      "2024-11-27 19:29:32,155 - __main__ - INFO - - Plazo medio simulado = 27.81\n",
      "2024-11-27 19:29:32,159 - __main__ - INFO - - Probabilidad de no pago media = 0.0005\n",
      "\n",
      "2024-11-27 19:29:32,658 - __main__ - INFO - Cluster 7:\n",
      "2024-11-27 19:29:32,659 - __main__ - INFO - - Precio Máx. Revenue Esperado = 1.00%\n",
      "2024-11-27 19:29:32,661 - __main__ - INFO - - Revenue Esperado Máximo = 143,125,839.69\n",
      "2024-11-27 19:29:32,662 - __main__ - INFO - - Número de clientes en el cluster = 12\n",
      "2024-11-27 19:29:32,664 - __main__ - INFO - - Número de simulaciones en el cluster = 3.16\n",
      "2024-11-27 19:29:32,666 - __main__ - INFO - - Probabilidad de aceptación en el precio óptimo = 0.7545\n",
      "2024-11-27 19:29:32,668 - __main__ - INFO - - Número esperado de créditos aceptados = 2\n",
      "2024-11-27 19:29:32,670 - __main__ - INFO - - Monto medio simulado = 389,969,419.18\n",
      "2024-11-27 19:29:32,672 - __main__ - INFO - - Plazo medio simulado = 28.38\n",
      "2024-11-27 19:29:32,674 - __main__ - INFO - - Probabilidad de no pago media = 0.0006\n",
      "\n",
      "2024-11-27 19:29:33,148 - __main__ - INFO - Cluster 4:\n",
      "2024-11-27 19:29:33,150 - __main__ - INFO - - Precio Máx. Revenue Esperado = 1.02%\n",
      "2024-11-27 19:29:33,151 - __main__ - INFO - - Revenue Esperado Máximo = 116,365,954.07\n",
      "2024-11-27 19:29:33,153 - __main__ - INFO - - Número de clientes en el cluster = 15\n",
      "2024-11-27 19:29:33,157 - __main__ - INFO - - Número de simulaciones en el cluster = 2.83\n",
      "2024-11-27 19:29:33,158 - __main__ - INFO - - Probabilidad de aceptación en el precio óptimo = 0.7131\n",
      "2024-11-27 19:29:33,160 - __main__ - INFO - - Número esperado de créditos aceptados = 2\n",
      "2024-11-27 19:29:33,164 - __main__ - INFO - - Monto medio simulado = 391,906,943.84\n",
      "2024-11-27 19:29:33,167 - __main__ - INFO - - Plazo medio simulado = 26.83\n",
      "2024-11-27 19:29:33,169 - __main__ - INFO - - Probabilidad de no pago media = 0.0007\n",
      "\n",
      "2024-11-27 19:29:33,687 - __main__ - INFO - Cluster 11:\n",
      "2024-11-27 19:29:33,689 - __main__ - INFO - - Precio Máx. Revenue Esperado = 1.06%\n",
      "2024-11-27 19:29:33,691 - __main__ - INFO - - Revenue Esperado Máximo = 75,199,052.55\n",
      "2024-11-27 19:29:33,692 - __main__ - INFO - - Número de clientes en el cluster = 3\n",
      "2024-11-27 19:29:33,695 - __main__ - INFO - - Número de simulaciones en el cluster = 1.43\n",
      "2024-11-27 19:29:33,698 - __main__ - INFO - - Probabilidad de aceptación en el precio óptimo = 0.6237\n",
      "2024-11-27 19:29:33,700 - __main__ - INFO - - Número esperado de créditos aceptados = 1\n",
      "2024-11-27 19:29:33,702 - __main__ - INFO - - Monto medio simulado = 700,331,809.18\n",
      "2024-11-27 19:29:33,704 - __main__ - INFO - - Plazo medio simulado = 20.95\n",
      "2024-11-27 19:29:33,706 - __main__ - INFO - - Probabilidad de no pago media = 0.0005\n",
      "\n",
      "2024-11-27 19:29:34,163 - __main__ - WARNING - Cluster 8 tiene menos de 10 registros después de limpiar. Se salta.\n",
      "2024-11-27 19:29:34,195 - __main__ - INFO - Cluster 18:\n",
      "2024-11-27 19:29:34,196 - __main__ - INFO - - Precio Máx. Revenue Esperado = 1.26%\n",
      "2024-11-27 19:29:34,197 - __main__ - INFO - - Revenue Esperado Máximo = 64,679,528.10\n",
      "2024-11-27 19:29:34,199 - __main__ - INFO - - Número de clientes en el cluster = 2\n",
      "2024-11-27 19:29:34,201 - __main__ - INFO - - Número de simulaciones en el cluster = 1.25\n",
      "2024-11-27 19:29:34,203 - __main__ - INFO - - Probabilidad de aceptación en el precio óptimo = 0.6905\n",
      "2024-11-27 19:29:34,205 - __main__ - INFO - - Número esperado de créditos aceptados = 1\n",
      "2024-11-27 19:29:34,207 - __main__ - INFO - - Monto medio simulado = 356,110,516.60\n",
      "2024-11-27 19:29:34,209 - __main__ - INFO - - Plazo medio simulado = 30.37\n",
      "2024-11-27 19:29:34,211 - __main__ - INFO - - Probabilidad de no pago media = 0.0006\n",
      "\n",
      "2024-11-27 19:29:34,680 - __main__ - INFO - Cluster 5:\n",
      "2024-11-27 19:29:34,681 - __main__ - INFO - - Precio Máx. Revenue Esperado = 1.05%\n",
      "2024-11-27 19:29:34,682 - __main__ - INFO - - Revenue Esperado Máximo = 58,154,660.48\n",
      "2024-11-27 19:29:34,684 - __main__ - INFO - - Número de clientes en el cluster = 4\n",
      "2024-11-27 19:29:34,686 - __main__ - INFO - - Número de simulaciones en el cluster = 1.27\n",
      "2024-11-27 19:29:34,688 - __main__ - INFO - - Probabilidad de aceptación en el precio óptimo = 0.5210\n",
      "2024-11-27 19:29:34,690 - __main__ - INFO - - Número esperado de créditos aceptados = 1\n",
      "2024-11-27 19:29:34,693 - __main__ - INFO - - Monto medio simulado = 606,012,125.66\n",
      "2024-11-27 19:29:34,694 - __main__ - INFO - - Plazo medio simulado = 25.48\n",
      "2024-11-27 19:29:34,696 - __main__ - INFO - - Probabilidad de no pago media = 0.0003\n",
      "\n",
      "2024-11-27 19:29:35,129 - __main__ - INFO - El revenue total esperado es: 106,491,374,701.99 con un total de 542903 clientes, 129,037.66 simulaciones, y 80436 créditos.\n",
      "2024-11-27 19:29:37,099 - __main__ - INFO - total_revenue: 106491374701.98875, total_clientes: 542903, total_simulaciones: 129037.65972892847, total_creditos: 80436\n",
      "2024-11-27 19:29:59,761 - __main__ - INFO - Estimación de respuesta a tratamientos completada.\n",
      "2024-11-27 19:30:06,121 - __main__ - INFO - Llamando al modelo de asignación de tratamientos...\n",
      "2024-11-27 19:30:06,123 - __main__ - INFO - Iniciando modelo de asignación de tratamientos...\n",
      "2024-11-27 19:30:06,124 - __main__ - INFO - Procesando datos de probabilidades y asignando IDs de tratamiento...\n",
      "2024-11-27 19:30:06,130 - __main__ - INFO - Fusionando probabilidades con información de RUT...\n",
      "2024-11-27 19:30:06,291 - __main__ - INFO - Fusionando información de RUT con información de clusters...\n",
      "2024-11-27 19:30:06,477 - __main__ - WARNING - Algunas combinaciones de clusters no están completas en rut_info.\n",
      "2024-11-27 19:30:06,478 - __main__ - INFO - Agrupando información por cluster...\n",
      "2024-11-27 19:30:07,651 - __main__ - INFO - Calculando Revenue Calculado (RC)...\n",
      "2024-11-27 19:30:07,658 - __main__ - INFO - Preparando matriz de beneficios para optimización...\n",
      "2024-11-27 19:30:07,668 - __main__ - INFO - Inicializando modelo de optimización con Gurobi...\n",
      "2024-11-27 19:30:07,669 - __main__ - INFO - Creando variables de decisión...\n",
      "2024-11-27 19:30:07,679 - __main__ - INFO - Agregando restricción de un tratamiento por cliente...\n",
      "2024-11-27 19:30:07,682 - __main__ - INFO - Agregando restricción de capacidad para ejecutivos...\n",
      "2024-11-27 19:30:07,686 - __main__ - INFO - Agregando restricciones de consistencia por cluster...\n",
      "2024-11-27 19:30:07,690 - __main__ - INFO - Iniciando optimización con Gurobi...\n"
     ]
    },
    {
     "name": "stdout",
     "output_type": "stream",
     "text": [
      "Gurobi Optimizer version 11.0.3 build v11.0.3rc0 (win64 - Windows 10.0 (19045.2))\n"
     ]
    },
    {
     "name": "stderr",
     "output_type": "stream",
     "text": [
      "2024-11-27 19:30:07,693 - gurobipy - INFO - Gurobi Optimizer version 11.0.3 build v11.0.3rc0 (win64 - Windows 10.0 (19045.2))\n"
     ]
    },
    {
     "name": "stdout",
     "output_type": "stream",
     "text": [
      "\n"
     ]
    },
    {
     "name": "stderr",
     "output_type": "stream",
     "text": [
      "2024-11-27 19:30:07,697 - gurobipy - INFO - \n"
     ]
    },
    {
     "name": "stdout",
     "output_type": "stream",
     "text": [
      "CPU model: AMD Ryzen 5 2500U with Radeon Vega Mobile Gfx, instruction set [SSE2|AVX|AVX2]\n"
     ]
    },
    {
     "name": "stderr",
     "output_type": "stream",
     "text": [
      "2024-11-27 19:30:07,702 - gurobipy - INFO - CPU model: AMD Ryzen 5 2500U with Radeon Vega Mobile Gfx, instruction set [SSE2|AVX|AVX2]\n"
     ]
    },
    {
     "name": "stdout",
     "output_type": "stream",
     "text": [
      "Thread count: 4 physical cores, 8 logical processors, using up to 8 threads\n"
     ]
    },
    {
     "name": "stderr",
     "output_type": "stream",
     "text": [
      "2024-11-27 19:30:07,707 - gurobipy - INFO - Thread count: 4 physical cores, 8 logical processors, using up to 8 threads\n"
     ]
    },
    {
     "name": "stdout",
     "output_type": "stream",
     "text": [
      "\n"
     ]
    },
    {
     "name": "stderr",
     "output_type": "stream",
     "text": [
      "2024-11-27 19:30:07,712 - gurobipy - INFO - \n"
     ]
    },
    {
     "name": "stdout",
     "output_type": "stream",
     "text": [
      "Optimize a model with 20 rows, 142 columns and 196 nonzeros\n"
     ]
    },
    {
     "name": "stderr",
     "output_type": "stream",
     "text": [
      "2024-11-27 19:30:07,717 - gurobipy - INFO - Optimize a model with 20 rows, 142 columns and 196 nonzeros\n"
     ]
    },
    {
     "name": "stdout",
     "output_type": "stream",
     "text": [
      "Model fingerprint: 0x4c418638\n"
     ]
    },
    {
     "name": "stderr",
     "output_type": "stream",
     "text": [
      "2024-11-27 19:30:07,722 - gurobipy - INFO - Model fingerprint: 0x4c418638\n"
     ]
    },
    {
     "name": "stdout",
     "output_type": "stream",
     "text": [
      "Variable types: 0 continuous, 142 integer (142 binary)\n"
     ]
    },
    {
     "name": "stderr",
     "output_type": "stream",
     "text": [
      "2024-11-27 19:30:07,726 - gurobipy - INFO - Variable types: 0 continuous, 142 integer (142 binary)\n"
     ]
    },
    {
     "name": "stdout",
     "output_type": "stream",
     "text": [
      "Coefficient statistics:\n"
     ]
    },
    {
     "name": "stderr",
     "output_type": "stream",
     "text": [
      "2024-11-27 19:30:07,731 - gurobipy - INFO - Coefficient statistics:\n"
     ]
    },
    {
     "name": "stdout",
     "output_type": "stream",
     "text": [
      "  Matrix range     [1e+00, 1e+05]\n"
     ]
    },
    {
     "name": "stderr",
     "output_type": "stream",
     "text": [
      "2024-11-27 19:30:07,736 - gurobipy - INFO -   Matrix range     [1e+00, 1e+05]\n"
     ]
    },
    {
     "name": "stdout",
     "output_type": "stream",
     "text": [
      "  Objective range  [1e+07, 5e+10]\n"
     ]
    },
    {
     "name": "stderr",
     "output_type": "stream",
     "text": [
      "2024-11-27 19:30:07,740 - gurobipy - INFO -   Objective range  [1e+07, 5e+10]\n"
     ]
    },
    {
     "name": "stdout",
     "output_type": "stream",
     "text": [
      "  Bounds range     [1e+00, 1e+00]\n"
     ]
    },
    {
     "name": "stderr",
     "output_type": "stream",
     "text": [
      "2024-11-27 19:30:07,744 - gurobipy - INFO -   Bounds range     [1e+00, 1e+00]\n"
     ]
    },
    {
     "name": "stdout",
     "output_type": "stream",
     "text": [
      "  RHS range        [1e+00, 2e+05]\n"
     ]
    },
    {
     "name": "stderr",
     "output_type": "stream",
     "text": [
      "2024-11-27 19:30:07,748 - gurobipy - INFO -   RHS range        [1e+00, 2e+05]\n"
     ]
    },
    {
     "name": "stdout",
     "output_type": "stream",
     "text": [
      "Warning: Model contains large objective coefficients\n"
     ]
    },
    {
     "name": "stderr",
     "output_type": "stream",
     "text": [
      "2024-11-27 19:30:07,753 - gurobipy - INFO - Warning: Model contains large objective coefficients\n"
     ]
    },
    {
     "name": "stdout",
     "output_type": "stream",
     "text": [
      "         Consider reformulating model or setting NumericFocus parameter\n"
     ]
    },
    {
     "name": "stderr",
     "output_type": "stream",
     "text": [
      "2024-11-27 19:30:07,757 - gurobipy - INFO -          Consider reformulating model or setting NumericFocus parameter\n"
     ]
    },
    {
     "name": "stdout",
     "output_type": "stream",
     "text": [
      "         to avoid numerical issues.\n"
     ]
    },
    {
     "name": "stderr",
     "output_type": "stream",
     "text": [
      "2024-11-27 19:30:07,761 - gurobipy - INFO -          to avoid numerical issues.\n"
     ]
    },
    {
     "name": "stdout",
     "output_type": "stream",
     "text": [
      "Presolve time: 0.00s\n"
     ]
    },
    {
     "name": "stderr",
     "output_type": "stream",
     "text": [
      "2024-11-27 19:30:07,766 - gurobipy - INFO - Presolve time: 0.00s\n"
     ]
    },
    {
     "name": "stdout",
     "output_type": "stream",
     "text": [
      "\n"
     ]
    },
    {
     "name": "stderr",
     "output_type": "stream",
     "text": [
      "2024-11-27 19:30:07,770 - gurobipy - INFO - \n"
     ]
    },
    {
     "name": "stdout",
     "output_type": "stream",
     "text": [
      "Explored 0 nodes (0 simplex iterations) in 0.05 seconds (0.00 work units)\n"
     ]
    },
    {
     "name": "stderr",
     "output_type": "stream",
     "text": [
      "2024-11-27 19:30:07,773 - gurobipy - INFO - Explored 0 nodes (0 simplex iterations) in 0.05 seconds (0.00 work units)\n"
     ]
    },
    {
     "name": "stdout",
     "output_type": "stream",
     "text": [
      "Thread count was 1 (of 8 available processors)\n"
     ]
    },
    {
     "name": "stderr",
     "output_type": "stream",
     "text": [
      "2024-11-27 19:30:07,777 - gurobipy - INFO - Thread count was 1 (of 8 available processors)\n"
     ]
    },
    {
     "name": "stdout",
     "output_type": "stream",
     "text": [
      "\n"
     ]
    },
    {
     "name": "stderr",
     "output_type": "stream",
     "text": [
      "2024-11-27 19:30:07,780 - gurobipy - INFO - \n"
     ]
    },
    {
     "name": "stdout",
     "output_type": "stream",
     "text": [
      "Solution count 0\n"
     ]
    },
    {
     "name": "stderr",
     "output_type": "stream",
     "text": [
      "2024-11-27 19:30:07,783 - gurobipy - INFO - Solution count 0\n"
     ]
    },
    {
     "name": "stdout",
     "output_type": "stream",
     "text": [
      "No other solutions better than -1e+100\n"
     ]
    },
    {
     "name": "stderr",
     "output_type": "stream",
     "text": [
      "2024-11-27 19:30:07,786 - gurobipy - INFO - No other solutions better than -1e+100\n"
     ]
    },
    {
     "name": "stdout",
     "output_type": "stream",
     "text": [
      "\n"
     ]
    },
    {
     "name": "stderr",
     "output_type": "stream",
     "text": [
      "2024-11-27 19:30:07,790 - gurobipy - INFO - \n"
     ]
    },
    {
     "name": "stdout",
     "output_type": "stream",
     "text": [
      "Model is infeasible\n"
     ]
    },
    {
     "name": "stderr",
     "output_type": "stream",
     "text": [
      "2024-11-27 19:30:07,793 - gurobipy - INFO - Model is infeasible\n"
     ]
    },
    {
     "name": "stdout",
     "output_type": "stream",
     "text": [
      "Best objective -, best bound -, gap -\n"
     ]
    },
    {
     "name": "stderr",
     "output_type": "stream",
     "text": [
      "2024-11-27 19:30:07,796 - gurobipy - INFO - Best objective -, best bound -, gap -\n",
      "2024-11-27 19:30:07,798 - __main__ - ERROR - Optimización no alcanzó una solución óptima.\n",
      "2024-11-27 19:30:07,799 - __main__ - INFO - Optimización completada.\n",
      "2024-11-27 19:30:07,810 - __main__ - INFO - Recalculación de métricas completada.\n",
      "2024-11-27 19:30:09,118 - __main__ - INFO - Aplicando acción tipo: adjust_splits sobre variable: Probabilidad_No_Pago con parámetros: {'operation': 'increase'}\n",
      "2024-11-27 19:30:09,119 - __main__ - WARNING - No se puede ajustar separaciones para 'Probabilidad_No_Pago': no es continua o no está incluida en la clusterización.\n",
      "2024-11-27 19:30:09,120 - __main__ - INFO - Seleccionando nueva acción: ('toggle_variable', 'Categoria_Digital', {})\n",
      "2024-11-27 19:30:09,121 - __main__ - INFO - Aplicando acción tipo: toggle_variable sobre variable: Categoria_Digital con parámetros: {}\n",
      "2024-11-27 19:30:09,124 - __main__ - INFO - Variable 'Categoria_Digital' incluida: 1\n",
      "2024-11-27 19:30:09,136 - __main__ - INFO - Recalculando clusters...\n",
      "2024-11-27 19:30:09,138 - __main__ - INFO - Realizando clustering...\n",
      "2024-11-27 19:30:09,178 - __main__ - INFO - Procesando variable: Genero\n",
      "2024-11-27 19:30:09,180 - __main__ - INFO - Procesando variable: Categoria_Digital\n",
      "2024-11-27 19:30:09,243 - __main__ - INFO - Variable categórica 'Categoria_Digital' separada en los grupos: ['Cliente no Digital' 'Cliente Digital']\n",
      "2024-11-27 19:30:09,244 - __main__ - INFO - Procesando variable: Elasticidad_Precios\n",
      "2024-11-27 19:30:09,308 - __main__ - INFO - Variable categórica 'Elasticidad_Precios' separada en los grupos: ['Alta' 'Baja' 'Media']\n",
      "2024-11-27 19:30:09,310 - __main__ - INFO - Procesando variable: Nacionalidad\n",
      "2024-11-27 19:30:09,311 - __main__ - INFO - Procesando variable: Propension\n",
      "2024-11-27 19:30:09,336 - __main__ - INFO - Cortes para variable 'Propension': [0.25000111754547705, 0.5000001914137039]\n",
      "2024-11-27 19:30:09,337 - __main__ - INFO - Procesando variable: Probabilidad_No_Pago\n",
      "2024-11-27 19:30:09,339 - __main__ - INFO - Procesando variable: Edad\n",
      "2024-11-27 19:30:09,341 - __main__ - INFO - Procesando variable: Renta\n",
      "2024-11-27 19:30:09,370 - __main__ - INFO - Cortes para variable 'Renta': [70944581.06383134, 106416870.7849141]\n",
      "2024-11-27 19:30:09,372 - __main__ - INFO - Variables incluidas en clusterización: ['Categoria_Digital_cluster', 'Elasticidad_Precios_cluster', 'Propension_cluster', 'Renta_cluster']\n",
      "2024-11-27 19:30:26,534 - __main__ - INFO - Variables incluidas en este clustering: ['Categoria_Digital_cluster', 'Elasticidad_Precios_cluster', 'Propension_cluster', 'Renta_cluster']\n",
      "2024-11-27 19:30:26,535 - __main__ - INFO - Clustering completado. Número de clusters: 35\n",
      "2024-11-27 19:30:26,537 - __main__ - INFO - Recalculando métricas...\n",
      "2024-11-27 19:30:30,444 - __main__ - INFO - Estimando elasticidad...\n",
      "2024-11-27 19:30:32,730 - __main__ - INFO - Cluster 18:\n",
      "2024-11-27 19:30:32,731 - __main__ - INFO - - Precio Máx. Revenue Esperado = 2.50%\n",
      "2024-11-27 19:30:32,733 - __main__ - INFO - - Revenue Esperado Máximo = 4,195,145,422.84\n",
      "2024-11-27 19:30:32,735 - __main__ - INFO - - Número de clientes en el cluster = 30500\n",
      "2024-11-27 19:30:32,741 - __main__ - INFO - - Número de simulaciones en el cluster = 8022.02\n",
      "2024-11-27 19:30:32,744 - __main__ - INFO - - Probabilidad de aceptación en el precio óptimo = 0.4005\n",
      "2024-11-27 19:30:32,746 - __main__ - INFO - - Número esperado de créditos aceptados = 3213\n",
      "2024-11-27 19:30:32,751 - __main__ - INFO - - Monto medio simulado = 3,378,102.37\n",
      "2024-11-27 19:30:32,755 - __main__ - INFO - - Plazo medio simulado = 27.51\n",
      "2024-11-27 19:30:32,758 - __main__ - INFO - - Probabilidad de no pago media = 0.0213\n",
      "\n",
      "2024-11-27 19:30:35,110 - __main__ - INFO - Cluster 22:\n",
      "2024-11-27 19:30:35,111 - __main__ - INFO - - Precio Máx. Revenue Esperado = 1.00%\n",
      "2024-11-27 19:30:35,112 - __main__ - INFO - - Revenue Esperado Máximo = 7,057,926,609.52\n",
      "2024-11-27 19:30:35,116 - __main__ - INFO - - Número de clientes en el cluster = 29458\n",
      "2024-11-27 19:30:35,118 - __main__ - INFO - - Número de simulaciones en el cluster = 6113.41\n",
      "2024-11-27 19:30:35,120 - __main__ - INFO - - Probabilidad de aceptación en el precio óptimo = 0.7421\n",
      "2024-11-27 19:30:35,121 - __main__ - INFO - - Número esperado de créditos aceptados = 4537\n",
      "2024-11-27 19:30:35,123 - __main__ - INFO - - Monto medio simulado = 10,587,019.51\n",
      "2024-11-27 19:30:35,125 - __main__ - INFO - - Plazo medio simulado = 27.51\n",
      "2024-11-27 19:30:35,127 - __main__ - INFO - - Probabilidad de no pago media = 0.0127\n",
      "\n",
      "2024-11-27 19:30:40,189 - __main__ - INFO - Cluster 25:\n",
      "2024-11-27 19:30:40,191 - __main__ - INFO - - Precio Máx. Revenue Esperado = 1.00%\n",
      "2024-11-27 19:30:40,192 - __main__ - INFO - - Revenue Esperado Máximo = 18,606,336,436.65\n",
      "2024-11-27 19:30:40,194 - __main__ - INFO - - Número de clientes en el cluster = 58530\n",
      "2024-11-27 19:30:40,196 - __main__ - INFO - - Número de simulaciones en el cluster = 16345.95\n",
      "2024-11-27 19:30:40,198 - __main__ - INFO - - Probabilidad de aceptación en el precio óptimo = 0.7429\n",
      "2024-11-27 19:30:40,200 - __main__ - INFO - - Número esperado de créditos aceptados = 12143\n",
      "2024-11-27 19:30:40,201 - __main__ - INFO - - Monto medio simulado = 10,439,339.15\n",
      "2024-11-27 19:30:40,204 - __main__ - INFO - - Plazo medio simulado = 27.49\n",
      "2024-11-27 19:30:40,206 - __main__ - INFO - - Probabilidad de no pago media = 0.0128\n",
      "\n",
      "2024-11-27 19:30:42,225 - __main__ - INFO - Cluster 11:\n",
      "2024-11-27 19:30:42,227 - __main__ - INFO - - Precio Máx. Revenue Esperado = 1.38%\n",
      "2024-11-27 19:30:42,228 - __main__ - INFO - - Revenue Esperado Máximo = 3,488,156,458.99\n",
      "2024-11-27 19:30:42,231 - __main__ - INFO - - Número de clientes en el cluster = 22975\n",
      "2024-11-27 19:30:42,233 - __main__ - INFO - - Número de simulaciones en el cluster = 5107.48\n",
      "2024-11-27 19:30:42,236 - __main__ - INFO - - Probabilidad de aceptación en el precio óptimo = 0.6129\n",
      "2024-11-27 19:30:42,238 - __main__ - INFO - - Número esperado de créditos aceptados = 3130\n",
      "2024-11-27 19:30:42,240 - __main__ - INFO - - Monto medio simulado = 5,463,541.09\n",
      "2024-11-27 19:30:42,242 - __main__ - INFO - - Plazo medio simulado = 27.53\n",
      "2024-11-27 19:30:42,243 - __main__ - INFO - - Probabilidad de no pago media = 0.0191\n",
      "\n",
      "2024-11-27 19:30:46,009 - __main__ - INFO - Cluster 32:\n",
      "2024-11-27 19:30:46,011 - __main__ - INFO - - Precio Máx. Revenue Esperado = 1.38%\n",
      "2024-11-27 19:30:46,012 - __main__ - INFO - - Revenue Esperado Máximo = 11,523,508,163.10\n",
      "2024-11-27 19:30:46,014 - __main__ - INFO - - Número de clientes en el cluster = 47050\n",
      "2024-11-27 19:30:46,015 - __main__ - INFO - - Número de simulaciones en el cluster = 12474.73\n",
      "2024-11-27 19:30:46,016 - __main__ - INFO - - Probabilidad de aceptación en el precio óptimo = 0.6129\n",
      "2024-11-27 19:30:46,018 - __main__ - INFO - - Número esperado de créditos aceptados = 7646\n",
      "2024-11-27 19:30:46,019 - __main__ - INFO - - Monto medio simulado = 7,379,678.54\n",
      "2024-11-27 19:30:46,021 - __main__ - INFO - - Plazo medio simulado = 27.52\n",
      "2024-11-27 19:30:46,022 - __main__ - INFO - - Probabilidad de no pago media = 0.0175\n",
      "\n",
      "2024-11-27 19:30:48,174 - __main__ - INFO - Cluster 2:\n",
      "2024-11-27 19:30:48,176 - __main__ - INFO - - Precio Máx. Revenue Esperado = 2.50%\n",
      "2024-11-27 19:30:48,178 - __main__ - INFO - - Revenue Esperado Máximo = 3,778,470,615.87\n",
      "2024-11-27 19:30:48,179 - __main__ - INFO - - Número de clientes en el cluster = 31416\n",
      "2024-11-27 19:30:48,181 - __main__ - INFO - - Número de simulaciones en el cluster = 9239.48\n",
      "2024-11-27 19:30:48,184 - __main__ - INFO - - Probabilidad de aceptación en el precio óptimo = 0.4007\n",
      "2024-11-27 19:30:48,186 - __main__ - INFO - - Número esperado de créditos aceptados = 3702\n",
      "2024-11-27 19:30:48,188 - __main__ - INFO - - Monto medio simulado = 2,645,050.74\n",
      "2024-11-27 19:30:48,189 - __main__ - INFO - - Plazo medio simulado = 27.47\n",
      "2024-11-27 19:30:48,191 - __main__ - INFO - - Probabilidad de no pago media = 0.0217\n",
      "\n",
      "2024-11-27 19:30:50,314 - __main__ - INFO - Cluster 3:\n",
      "2024-11-27 19:30:50,316 - __main__ - INFO - - Precio Máx. Revenue Esperado = 1.00%\n",
      "2024-11-27 19:30:50,317 - __main__ - INFO - - Revenue Esperado Máximo = 4,808,096,754.29\n",
      "2024-11-27 19:30:50,319 - __main__ - INFO - - Número de clientes en el cluster = 28882\n",
      "2024-11-27 19:30:50,321 - __main__ - INFO - - Número de simulaciones en el cluster = 5438.11\n",
      "2024-11-27 19:30:50,323 - __main__ - INFO - - Probabilidad de aceptación en el precio óptimo = 0.7426\n",
      "2024-11-27 19:30:50,326 - __main__ - INFO - - Número esperado de créditos aceptados = 4038\n",
      "2024-11-27 19:30:50,327 - __main__ - INFO - - Monto medio simulado = 8,120,511.95\n",
      "2024-11-27 19:30:50,329 - __main__ - INFO - - Plazo medio simulado = 27.51\n",
      "2024-11-27 19:30:50,331 - __main__ - INFO - - Probabilidad de no pago media = 0.0147\n",
      "\n",
      "2024-11-27 19:30:52,914 - __main__ - INFO - Cluster 5:\n",
      "2024-11-27 19:30:52,915 - __main__ - INFO - - Precio Máx. Revenue Esperado = 1.00%\n",
      "2024-11-27 19:30:52,917 - __main__ - INFO - - Revenue Esperado Máximo = 5,962,101,122.37\n",
      "2024-11-27 19:30:52,920 - __main__ - INFO - - Número de clientes en el cluster = 28686\n",
      "2024-11-27 19:30:52,922 - __main__ - INFO - - Número de simulaciones en el cluster = 6754.52\n",
      "2024-11-27 19:30:52,924 - __main__ - INFO - - Probabilidad de aceptación en el precio óptimo = 0.7424\n",
      "2024-11-27 19:30:52,927 - __main__ - INFO - - Número esperado de créditos aceptados = 5014\n",
      "2024-11-27 19:30:52,929 - __main__ - INFO - - Monto medio simulado = 8,115,715.69\n",
      "2024-11-27 19:30:52,930 - __main__ - INFO - - Plazo medio simulado = 27.49\n",
      "2024-11-27 19:30:52,933 - __main__ - INFO - - Probabilidad de no pago media = 0.0149\n",
      "\n",
      "2024-11-27 19:30:58,320 - __main__ - INFO - Cluster 7:\n",
      "2024-11-27 19:30:58,321 - __main__ - INFO - - Precio Máx. Revenue Esperado = 1.00%\n",
      "2024-11-27 19:30:58,324 - __main__ - INFO - - Revenue Esperado Máximo = 15,439,568,793.66\n",
      "2024-11-27 19:30:58,325 - __main__ - INFO - - Número de clientes en el cluster = 57589\n",
      "2024-11-27 19:30:58,327 - __main__ - INFO - - Número de simulaciones en el cluster = 17716.09\n",
      "2024-11-27 19:30:58,329 - __main__ - INFO - - Probabilidad de aceptación en el precio óptimo = 0.7443\n",
      "2024-11-27 19:30:58,332 - __main__ - INFO - - Número esperado de créditos aceptados = 13187\n",
      "2024-11-27 19:30:58,333 - __main__ - INFO - - Monto medio simulado = 7,987,504.02\n",
      "2024-11-27 19:30:58,335 - __main__ - INFO - - Plazo medio simulado = 27.51\n",
      "2024-11-27 19:30:58,337 - __main__ - INFO - - Probabilidad de no pago media = 0.0150\n",
      "\n",
      "2024-11-27 19:31:00,414 - __main__ - INFO - Cluster 30:\n",
      "2024-11-27 19:31:00,415 - __main__ - INFO - - Precio Máx. Revenue Esperado = 1.38%\n",
      "2024-11-27 19:31:00,416 - __main__ - INFO - - Revenue Esperado Máximo = 4,230,748,841.69\n",
      "2024-11-27 19:31:00,418 - __main__ - INFO - - Número de clientes en el cluster = 23205\n",
      "2024-11-27 19:31:00,420 - __main__ - INFO - - Número de simulaciones en el cluster = 4499.94\n",
      "2024-11-27 19:31:00,422 - __main__ - INFO - - Probabilidad de aceptación en el precio óptimo = 0.6149\n",
      "2024-11-27 19:31:00,425 - __main__ - INFO - - Número esperado de créditos aceptados = 2767\n",
      "2024-11-27 19:31:00,427 - __main__ - INFO - - Monto medio simulado = 7,488,376.50\n",
      "2024-11-27 19:31:00,428 - __main__ - INFO - - Plazo medio simulado = 27.51\n",
      "2024-11-27 19:31:00,430 - __main__ - INFO - - Probabilidad de no pago media = 0.0173\n",
      "\n",
      "2024-11-27 19:31:04,919 - __main__ - INFO - Cluster 13:\n",
      "2024-11-27 19:31:04,921 - __main__ - INFO - - Precio Máx. Revenue Esperado = 1.37%\n",
      "2024-11-27 19:31:04,923 - __main__ - INFO - - Revenue Esperado Máximo = 8,824,058,863.57\n",
      "2024-11-27 19:31:04,925 - __main__ - INFO - - Número de clientes en el cluster = 46338\n",
      "2024-11-27 19:31:04,927 - __main__ - INFO - - Número de simulaciones en el cluster = 13642.26\n",
      "2024-11-27 19:31:04,930 - __main__ - INFO - - Probabilidad de aceptación en el precio óptimo = 0.6141\n",
      "2024-11-27 19:31:04,931 - __main__ - INFO - - Número esperado de créditos aceptados = 8378\n",
      "2024-11-27 19:31:04,933 - __main__ - INFO - - Monto medio simulado = 5,165,769.77\n",
      "2024-11-27 19:31:04,935 - __main__ - INFO - - Plazo medio simulado = 27.52\n",
      "2024-11-27 19:31:04,938 - __main__ - INFO - - Probabilidad de no pago media = 0.0193\n",
      "\n",
      "2024-11-27 19:31:07,004 - __main__ - INFO - Cluster 19:\n",
      "2024-11-27 19:31:07,006 - __main__ - INFO - - Precio Máx. Revenue Esperado = 1.00%\n",
      "2024-11-27 19:31:07,007 - __main__ - INFO - - Revenue Esperado Máximo = 5,465,470,633.94\n",
      "2024-11-27 19:31:07,008 - __main__ - INFO - - Número de clientes en el cluster = 28904\n",
      "2024-11-27 19:31:07,010 - __main__ - INFO - - Número de simulaciones en el cluster = 4667.03\n",
      "2024-11-27 19:31:07,012 - __main__ - INFO - - Probabilidad de aceptación en el precio óptimo = 0.7424\n",
      "2024-11-27 19:31:07,014 - __main__ - INFO - - Número esperado de créditos aceptados = 3465\n",
      "2024-11-27 19:31:07,016 - __main__ - INFO - - Monto medio simulado = 10,729,653.43\n",
      "2024-11-27 19:31:07,018 - __main__ - INFO - - Plazo medio simulado = 27.52\n",
      "2024-11-27 19:31:07,020 - __main__ - INFO - - Probabilidad de no pago media = 0.0122\n",
      "\n",
      "2024-11-27 19:31:08,271 - __main__ - INFO - Cluster 0:\n",
      "2024-11-27 19:31:08,273 - __main__ - INFO - - Precio Máx. Revenue Esperado = 2.50%\n",
      "2024-11-27 19:31:08,275 - __main__ - INFO - - Revenue Esperado Máximo = 1,122,124,421.26\n",
      "2024-11-27 19:31:08,277 - __main__ - INFO - - Número de clientes en el cluster = 15814\n",
      "2024-11-27 19:31:08,280 - __main__ - INFO - - Número de simulaciones en el cluster = 2779.24\n",
      "2024-11-27 19:31:08,283 - __main__ - INFO - - Probabilidad de aceptación en el precio óptimo = 0.4028\n",
      "2024-11-27 19:31:08,285 - __main__ - INFO - - Número esperado de créditos aceptados = 1119\n",
      "2024-11-27 19:31:08,288 - __main__ - INFO - - Monto medio simulado = 2,598,274.36\n",
      "2024-11-27 19:31:08,290 - __main__ - INFO - - Plazo medio simulado = 27.46\n",
      "2024-11-27 19:31:08,292 - __main__ - INFO - - Probabilidad de no pago media = 0.0215\n",
      "\n",
      "2024-11-27 19:31:09,764 - __main__ - INFO - Cluster 1:\n",
      "2024-11-27 19:31:09,765 - __main__ - INFO - - Precio Máx. Revenue Esperado = 2.50%\n",
      "2024-11-27 19:31:09,766 - __main__ - INFO - - Revenue Esperado Máximo = 1,474,037,564.88\n",
      "2024-11-27 19:31:09,769 - __main__ - INFO - - Número de clientes en el cluster = 15948\n",
      "2024-11-27 19:31:09,771 - __main__ - INFO - - Número de simulaciones en el cluster = 3554.06\n",
      "2024-11-27 19:31:09,773 - __main__ - INFO - - Probabilidad de aceptación en el precio óptimo = 0.4005\n",
      "2024-11-27 19:31:09,775 - __main__ - INFO - - Número esperado de créditos aceptados = 1423\n",
      "2024-11-27 19:31:09,777 - __main__ - INFO - - Monto medio simulado = 2,681,861.85\n",
      "2024-11-27 19:31:09,780 - __main__ - INFO - - Plazo medio simulado = 27.49\n",
      "2024-11-27 19:31:09,782 - __main__ - INFO - - Probabilidad de no pago media = 0.0215\n",
      "\n",
      "2024-11-27 19:31:11,436 - __main__ - INFO - Cluster 9:\n",
      "2024-11-27 19:31:11,438 - __main__ - INFO - - Precio Máx. Revenue Esperado = 1.38%\n",
      "2024-11-27 19:31:11,440 - __main__ - INFO - - Revenue Esperado Máximo = 2,726,678,652.27\n",
      "2024-11-27 19:31:11,441 - __main__ - INFO - - Número de clientes en el cluster = 23090\n",
      "2024-11-27 19:31:11,442 - __main__ - INFO - - Número de simulaciones en el cluster = 4025.47\n",
      "2024-11-27 19:31:11,443 - __main__ - INFO - - Probabilidad de aceptación en el precio óptimo = 0.6149\n",
      "2024-11-27 19:31:11,444 - __main__ - INFO - - Número esperado de créditos aceptados = 2475\n",
      "2024-11-27 19:31:11,446 - __main__ - INFO - - Monto medio simulado = 5,407,207.65\n",
      "2024-11-27 19:31:11,448 - __main__ - INFO - - Plazo medio simulado = 27.50\n",
      "2024-11-27 19:31:11,450 - __main__ - INFO - - Probabilidad de no pago media = 0.0194\n",
      "\n",
      "2024-11-27 19:31:12,851 - __main__ - INFO - Cluster 28:\n",
      "2024-11-27 19:31:12,853 - __main__ - INFO - - Precio Máx. Revenue Esperado = 1.37%\n",
      "2024-11-27 19:31:12,854 - __main__ - INFO - - Revenue Esperado Máximo = 3,310,075,084.60\n",
      "2024-11-27 19:31:12,856 - __main__ - INFO - - Número de clientes en el cluster = 23683\n",
      "2024-11-27 19:31:12,858 - __main__ - INFO - - Número de simulaciones en el cluster = 3462.48\n",
      "2024-11-27 19:31:12,861 - __main__ - INFO - - Probabilidad de aceptación en el precio óptimo = 0.6096\n",
      "2024-11-27 19:31:12,863 - __main__ - INFO - - Número esperado de créditos aceptados = 2111\n",
      "2024-11-27 19:31:12,865 - __main__ - INFO - - Monto medio simulado = 7,687,747.48\n",
      "2024-11-27 19:31:12,869 - __main__ - INFO - - Plazo medio simulado = 27.48\n",
      "2024-11-27 19:31:12,872 - __main__ - INFO - - Probabilidad de no pago media = 0.0173\n",
      "\n",
      "2024-11-27 19:31:14,175 - __main__ - INFO - Cluster 17:\n",
      "2024-11-27 19:31:14,177 - __main__ - INFO - - Precio Máx. Revenue Esperado = 2.50%\n",
      "2024-11-27 19:31:14,178 - __main__ - INFO - - Revenue Esperado Máximo = 1,542,275,629.31\n",
      "2024-11-27 19:31:14,180 - __main__ - INFO - - Número de clientes en el cluster = 15489\n",
      "2024-11-27 19:31:14,182 - __main__ - INFO - - Número de simulaciones en el cluster = 2970.64\n",
      "2024-11-27 19:31:14,185 - __main__ - INFO - - Probabilidad de aceptación en el precio óptimo = 0.3983\n",
      "2024-11-27 19:31:14,189 - __main__ - INFO - - Número esperado de créditos aceptados = 1183\n",
      "2024-11-27 19:31:14,191 - __main__ - INFO - - Monto medio simulado = 3,380,367.82\n",
      "2024-11-27 19:31:14,193 - __main__ - INFO - - Plazo medio simulado = 27.45\n",
      "2024-11-27 19:31:14,195 - __main__ - INFO - - Probabilidad de no pago media = 0.0212\n",
      "\n",
      "2024-11-27 19:31:15,263 - __main__ - INFO - Cluster 16:\n",
      "2024-11-27 19:31:15,265 - __main__ - INFO - - Precio Máx. Revenue Esperado = 2.50%\n",
      "2024-11-27 19:31:15,267 - __main__ - INFO - - Revenue Esperado Máximo = 1,175,698,136.85\n",
      "2024-11-27 19:31:15,269 - __main__ - INFO - - Número de clientes en el cluster = 15220\n",
      "2024-11-27 19:31:15,273 - __main__ - INFO - - Número de simulaciones en el cluster = 2187.59\n",
      "2024-11-27 19:31:15,274 - __main__ - INFO - - Probabilidad de aceptación en el precio óptimo = 0.4018\n",
      "2024-11-27 19:31:15,276 - __main__ - INFO - - Número esperado de créditos aceptados = 879\n",
      "2024-11-27 19:31:15,280 - __main__ - INFO - - Monto medio simulado = 3,462,233.50\n",
      "2024-11-27 19:31:15,281 - __main__ - INFO - - Plazo medio simulado = 27.49\n",
      "2024-11-27 19:31:15,283 - __main__ - INFO - - Probabilidad de no pago media = 0.0209\n",
      "\n",
      "2024-11-27 19:31:15,773 - __main__ - INFO - Cluster 33:\n",
      "2024-11-27 19:31:15,774 - __main__ - INFO - - Precio Máx. Revenue Esperado = 1.32%\n",
      "2024-11-27 19:31:15,777 - __main__ - INFO - - Revenue Esperado Máximo = 228,538,758.25\n",
      "2024-11-27 19:31:15,778 - __main__ - INFO - - Número de clientes en el cluster = 16\n",
      "2024-11-27 19:31:15,780 - __main__ - INFO - - Número de simulaciones en el cluster = 4.94\n",
      "2024-11-27 19:31:15,783 - __main__ - INFO - - Probabilidad de aceptación en el precio óptimo = 0.5974\n",
      "2024-11-27 19:31:15,788 - __main__ - INFO - - Número esperado de créditos aceptados = 3\n",
      "2024-11-27 19:31:15,790 - __main__ - INFO - - Monto medio simulado = 411,192,317.69\n",
      "2024-11-27 19:31:15,792 - __main__ - INFO - - Plazo medio simulado = 26.13\n",
      "2024-11-27 19:31:15,794 - __main__ - INFO - - Probabilidad de no pago media = 0.0005\n",
      "\n",
      "2024-11-27 19:31:16,269 - __main__ - INFO - Cluster 12:\n",
      "2024-11-27 19:31:16,270 - __main__ - INFO - - Precio Máx. Revenue Esperado = 1.20%\n",
      "2024-11-27 19:31:16,272 - __main__ - INFO - - Revenue Esperado Máximo = 83,809,641.91\n",
      "2024-11-27 19:31:16,275 - __main__ - INFO - - Número de clientes en el cluster = 4\n",
      "2024-11-27 19:31:16,280 - __main__ - INFO - - Número de simulaciones en el cluster = 1.64\n",
      "2024-11-27 19:31:16,282 - __main__ - INFO - - Probabilidad de aceptación en el precio óptimo = 0.7018\n",
      "2024-11-27 19:31:16,285 - __main__ - INFO - - Número esperado de créditos aceptados = 1\n",
      "2024-11-27 19:31:16,287 - __main__ - INFO - - Monto medio simulado = 395,823,878.92\n",
      "2024-11-27 19:31:16,288 - __main__ - INFO - - Plazo medio simulado = 28.19\n",
      "2024-11-27 19:31:16,290 - __main__ - INFO - - Probabilidad de no pago media = 0.0003\n",
      "\n",
      "2024-11-27 19:31:16,771 - __main__ - INFO - Cluster 29:\n",
      "2024-11-27 19:31:16,773 - __main__ - INFO - - Precio Máx. Revenue Esperado = 1.82%\n",
      "2024-11-27 19:31:16,774 - __main__ - INFO - - Revenue Esperado Máximo = 100,152,324.57\n",
      "2024-11-27 19:31:16,776 - __main__ - INFO - - Número de clientes en el cluster = 5\n",
      "2024-11-27 19:31:16,778 - __main__ - INFO - - Número de simulaciones en el cluster = 1.41\n",
      "2024-11-27 19:31:16,780 - __main__ - INFO - - Probabilidad de aceptación en el precio óptimo = 0.5187\n",
      "2024-11-27 19:31:16,782 - __main__ - INFO - - Número esperado de créditos aceptados = 1\n",
      "2024-11-27 19:31:16,783 - __main__ - INFO - - Monto medio simulado = 422,995,207.44\n",
      "2024-11-27 19:31:16,785 - __main__ - INFO - - Plazo medio simulado = 31.65\n",
      "2024-11-27 19:31:16,786 - __main__ - INFO - - Probabilidad de no pago media = 0.0003\n",
      "\n",
      "2024-11-27 19:31:17,261 - __main__ - INFO - Cluster 26:\n",
      "2024-11-27 19:31:17,262 - __main__ - INFO - - Precio Máx. Revenue Esperado = 1.00%\n",
      "2024-11-27 19:31:17,264 - __main__ - INFO - - Revenue Esperado Máximo = 407,940,913.69\n",
      "2024-11-27 19:31:17,269 - __main__ - INFO - - Número de clientes en el cluster = 29\n",
      "2024-11-27 19:31:17,271 - __main__ - INFO - - Número de simulaciones en el cluster = 8.98\n",
      "2024-11-27 19:31:17,273 - __main__ - INFO - - Probabilidad de aceptación en el precio óptimo = 0.7706\n",
      "2024-11-27 19:31:17,275 - __main__ - INFO - - Número esperado de créditos aceptados = 7\n",
      "2024-11-27 19:31:17,277 - __main__ - INFO - - Monto medio simulado = 397,039,522.52\n",
      "2024-11-27 19:31:17,279 - __main__ - INFO - - Plazo medio simulado = 27.41\n",
      "2024-11-27 19:31:17,284 - __main__ - INFO - - Probabilidad de no pago media = 0.0004\n",
      "\n",
      "2024-11-27 19:31:17,760 - __main__ - INFO - Cluster 23:\n",
      "2024-11-27 19:31:17,761 - __main__ - INFO - - Precio Máx. Revenue Esperado = 1.00%\n",
      "2024-11-27 19:31:17,763 - __main__ - INFO - - Revenue Esperado Máximo = 114,135,224.84\n",
      "2024-11-27 19:31:17,768 - __main__ - INFO - - Número de clientes en el cluster = 9\n",
      "2024-11-27 19:31:17,770 - __main__ - INFO - - Número de simulaciones en el cluster = 2.44\n",
      "2024-11-27 19:31:17,771 - __main__ - INFO - - Probabilidad de aceptación en el precio óptimo = 0.7424\n",
      "2024-11-27 19:31:17,773 - __main__ - INFO - - Número esperado de créditos aceptados = 2\n",
      "2024-11-27 19:31:17,777 - __main__ - INFO - - Monto medio simulado = 382,917,220.11\n",
      "2024-11-27 19:31:17,778 - __main__ - INFO - - Plazo medio simulado = 30.24\n",
      "2024-11-27 19:31:17,783 - __main__ - INFO - - Probabilidad de no pago media = 0.0006\n",
      "\n",
      "2024-11-27 19:31:18,273 - __main__ - INFO - Cluster 4:\n",
      "2024-11-27 19:31:18,275 - __main__ - INFO - - Precio Máx. Revenue Esperado = 1.02%\n",
      "2024-11-27 19:31:18,276 - __main__ - INFO - - Revenue Esperado Máximo = 74,444,545.88\n",
      "2024-11-27 19:31:18,277 - __main__ - INFO - - Número de clientes en el cluster = 7\n",
      "2024-11-27 19:31:18,279 - __main__ - INFO - - Número de simulaciones en el cluster = 1.73\n",
      "2024-11-27 19:31:18,281 - __main__ - INFO - - Probabilidad de aceptación en el precio óptimo = 0.6962\n",
      "2024-11-27 19:31:18,284 - __main__ - INFO - - Número esperado de créditos aceptados = 1\n",
      "2024-11-27 19:31:18,286 - __main__ - INFO - - Monto medio simulado = 407,518,603.36\n",
      "2024-11-27 19:31:18,288 - __main__ - INFO - - Plazo medio simulado = 27.57\n",
      "2024-11-27 19:31:18,291 - __main__ - INFO - - Probabilidad de no pago media = 0.0007\n",
      "\n",
      "2024-11-27 19:31:18,776 - __main__ - INFO - Cluster 14:\n",
      "2024-11-27 19:31:18,778 - __main__ - INFO - - Precio Máx. Revenue Esperado = 1.32%\n",
      "2024-11-27 19:31:18,779 - __main__ - INFO - - Revenue Esperado Máximo = 138,548,117.97\n",
      "2024-11-27 19:31:18,782 - __main__ - INFO - - Número de clientes en el cluster = 8\n",
      "2024-11-27 19:31:18,784 - __main__ - INFO - - Número de simulaciones en el cluster = 2.91\n",
      "2024-11-27 19:31:18,786 - __main__ - INFO - - Probabilidad de aceptación en el precio óptimo = 0.6462\n",
      "2024-11-27 19:31:18,787 - __main__ - INFO - - Número esperado de créditos aceptados = 2\n",
      "2024-11-27 19:31:18,789 - __main__ - INFO - - Monto medio simulado = 376,719,068.81\n",
      "2024-11-27 19:31:18,791 - __main__ - INFO - - Plazo medio simulado = 27.05\n",
      "2024-11-27 19:31:18,793 - __main__ - INFO - - Probabilidad de no pago media = 0.0007\n",
      "\n",
      "2024-11-27 19:31:19,365 - __main__ - INFO - Cluster 8:\n",
      "2024-11-27 19:31:19,366 - __main__ - INFO - - Precio Máx. Revenue Esperado = 1.00%\n",
      "2024-11-27 19:31:19,368 - __main__ - INFO - - Revenue Esperado Máximo = 272,595,350.44\n",
      "2024-11-27 19:31:19,369 - __main__ - INFO - - Número de clientes en el cluster = 17\n",
      "2024-11-27 19:31:19,374 - __main__ - INFO - - Número de simulaciones en el cluster = 5.64\n",
      "2024-11-27 19:31:19,376 - __main__ - INFO - - Probabilidad de aceptación en el precio óptimo = 0.7813\n",
      "2024-11-27 19:31:19,377 - __main__ - INFO - - Número esperado de créditos aceptados = 4\n",
      "2024-11-27 19:31:19,379 - __main__ - INFO - - Monto medio simulado = 401,400,580.31\n",
      "2024-11-27 19:31:19,385 - __main__ - INFO - - Plazo medio simulado = 28.44\n",
      "2024-11-27 19:31:19,389 - __main__ - INFO - - Probabilidad de no pago media = 0.0005\n",
      "\n",
      "2024-11-27 19:31:19,880 - __main__ - INFO - Cluster 31:\n",
      "2024-11-27 19:31:19,883 - __main__ - INFO - - Precio Máx. Revenue Esperado = 1.26%\n",
      "2024-11-27 19:31:19,885 - __main__ - INFO - - Revenue Esperado Máximo = 103,192,831.33\n",
      "2024-11-27 19:31:19,886 - __main__ - INFO - - Número de clientes en el cluster = 8\n",
      "2024-11-27 19:31:19,888 - __main__ - INFO - - Número de simulaciones en el cluster = 2.03\n",
      "2024-11-27 19:31:19,890 - __main__ - INFO - - Probabilidad de aceptación en el precio óptimo = 0.6368\n",
      "2024-11-27 19:31:19,892 - __main__ - INFO - - Número esperado de créditos aceptados = 1\n",
      "2024-11-27 19:31:19,894 - __main__ - INFO - - Monto medio simulado = 418,719,658.41\n",
      "2024-11-27 19:31:19,896 - __main__ - INFO - - Plazo medio simulado = 27.71\n",
      "2024-11-27 19:31:19,899 - __main__ - INFO - - Probabilidad de no pago media = 0.0006\n",
      "\n",
      "2024-11-27 19:31:20,367 - __main__ - INFO - Cluster 10:\n",
      "2024-11-27 19:31:20,369 - __main__ - INFO - - Precio Máx. Revenue Esperado = 1.34%\n",
      "2024-11-27 19:31:20,373 - __main__ - INFO - - Revenue Esperado Máximo = 54,988,206.62\n",
      "2024-11-27 19:31:20,376 - __main__ - INFO - - Número de clientes en el cluster = 3\n",
      "2024-11-27 19:31:20,380 - __main__ - INFO - - Número de simulaciones en el cluster = 1.14\n",
      "2024-11-27 19:31:20,383 - __main__ - INFO - - Probabilidad de aceptación en el precio óptimo = 0.7236\n",
      "2024-11-27 19:31:20,385 - __main__ - INFO - - Número esperado de créditos aceptados = 1\n",
      "2024-11-27 19:31:20,388 - __main__ - INFO - - Monto medio simulado = 323,551,913.88\n",
      "2024-11-27 19:31:20,390 - __main__ - INFO - - Plazo medio simulado = 27.98\n",
      "2024-11-27 19:31:20,393 - __main__ - INFO - - Probabilidad de no pago media = 0.0006\n",
      "\n",
      "2024-11-27 19:31:20,894 - __main__ - INFO - Cluster 20:\n",
      "2024-11-27 19:31:20,896 - __main__ - INFO - - Precio Máx. Revenue Esperado = 1.02%\n",
      "2024-11-27 19:31:20,899 - __main__ - INFO - - Revenue Esperado Máximo = 67,967,837.14\n",
      "2024-11-27 19:31:20,901 - __main__ - INFO - - Número de clientes en el cluster = 8\n",
      "2024-11-27 19:31:20,903 - __main__ - INFO - - Número de simulaciones en el cluster = 1.73\n",
      "2024-11-27 19:31:20,905 - __main__ - INFO - - Probabilidad de aceptación en el precio óptimo = 0.7275\n",
      "2024-11-27 19:31:20,907 - __main__ - INFO - - Número esperado de créditos aceptados = 1\n",
      "2024-11-27 19:31:20,909 - __main__ - INFO - - Monto medio simulado = 376,642,210.08\n",
      "2024-11-27 19:31:20,910 - __main__ - INFO - - Plazo medio simulado = 26.10\n",
      "2024-11-27 19:31:20,912 - __main__ - INFO - - Probabilidad de no pago media = 0.0007\n",
      "\n",
      "2024-11-27 19:31:21,442 - __main__ - INFO - Cluster 6:\n",
      "2024-11-27 19:31:21,444 - __main__ - INFO - - Precio Máx. Revenue Esperado = 1.02%\n",
      "2024-11-27 19:31:21,445 - __main__ - INFO - - Revenue Esperado Máximo = 54,381,579.95\n",
      "2024-11-27 19:31:21,448 - __main__ - INFO - - Número de clientes en el cluster = 3\n",
      "2024-11-27 19:31:21,450 - __main__ - INFO - - Número de simulaciones en el cluster = 1.36\n",
      "2024-11-27 19:31:21,452 - __main__ - INFO - - Probabilidad de aceptación en el precio óptimo = 0.7639\n",
      "2024-11-27 19:31:21,453 - __main__ - INFO - - Número esperado de créditos aceptados = 1\n",
      "2024-11-27 19:31:21,455 - __main__ - INFO - - Monto medio simulado = 409,795,412.79\n",
      "2024-11-27 19:31:21,456 - __main__ - INFO - - Plazo medio simulado = 23.13\n",
      "2024-11-27 19:31:21,458 - __main__ - INFO - - Probabilidad de no pago media = 0.0004\n",
      "\n",
      "2024-11-27 19:31:21,908 - __main__ - INFO - Cluster 27:\n",
      "2024-11-27 19:31:21,910 - __main__ - INFO - - Precio Máx. Revenue Esperado = 1.06%\n",
      "2024-11-27 19:31:21,912 - __main__ - INFO - - Revenue Esperado Máximo = 75,199,052.55\n",
      "2024-11-27 19:31:21,914 - __main__ - INFO - - Número de clientes en el cluster = 3\n",
      "2024-11-27 19:31:21,916 - __main__ - INFO - - Número de simulaciones en el cluster = 1.43\n",
      "2024-11-27 19:31:21,917 - __main__ - INFO - - Probabilidad de aceptación en el precio óptimo = 0.6237\n",
      "2024-11-27 19:31:21,919 - __main__ - INFO - - Número esperado de créditos aceptados = 1\n",
      "2024-11-27 19:31:21,921 - __main__ - INFO - - Monto medio simulado = 700,331,809.18\n",
      "2024-11-27 19:31:21,924 - __main__ - INFO - - Plazo medio simulado = 20.95\n",
      "2024-11-27 19:31:21,925 - __main__ - INFO - - Probabilidad de no pago media = 0.0005\n",
      "\n",
      "2024-11-27 19:31:22,378 - __main__ - WARNING - Cluster 24 tiene menos de 10 registros después de limpiar. Se salta.\n",
      "2024-11-27 19:31:22,412 - __main__ - INFO - Cluster 34:\n",
      "2024-11-27 19:31:22,413 - __main__ - INFO - - Precio Máx. Revenue Esperado = 1.30%\n",
      "2024-11-27 19:31:22,415 - __main__ - INFO - - Revenue Esperado Máximo = 76,872,109.96\n",
      "2024-11-27 19:31:22,417 - __main__ - INFO - - Número de clientes en el cluster = 1\n",
      "2024-11-27 19:31:22,419 - __main__ - INFO - - Número de simulaciones en el cluster = 1.00\n",
      "2024-11-27 19:31:22,420 - __main__ - INFO - - Probabilidad de aceptación en el precio óptimo = 0.9647\n",
      "2024-11-27 19:31:22,422 - __main__ - INFO - - Número esperado de créditos aceptados = 1\n",
      "2024-11-27 19:31:22,423 - __main__ - INFO - - Monto medio simulado = 424,909,721.87\n",
      "2024-11-27 19:31:22,424 - __main__ - INFO - - Plazo medio simulado = 26.47\n",
      "2024-11-27 19:31:22,427 - __main__ - INFO - - Probabilidad de no pago media = 0.0008\n",
      "\n",
      "2024-11-27 19:31:22,888 - __main__ - INFO - Cluster 21:\n",
      "2024-11-27 19:31:22,889 - __main__ - INFO - - Precio Máx. Revenue Esperado = 1.05%\n",
      "2024-11-27 19:31:22,891 - __main__ - INFO - - Revenue Esperado Máximo = 58,154,660.48\n",
      "2024-11-27 19:31:22,892 - __main__ - INFO - - Número de clientes en el cluster = 4\n",
      "2024-11-27 19:31:22,894 - __main__ - INFO - - Número de simulaciones en el cluster = 1.27\n",
      "2024-11-27 19:31:22,896 - __main__ - INFO - - Probabilidad de aceptación en el precio óptimo = 0.5210\n",
      "2024-11-27 19:31:22,899 - __main__ - INFO - - Número esperado de créditos aceptados = 1\n",
      "2024-11-27 19:31:22,901 - __main__ - INFO - - Monto medio simulado = 606,012,125.66\n",
      "2024-11-27 19:31:22,903 - __main__ - INFO - - Plazo medio simulado = 25.48\n",
      "2024-11-27 19:31:22,905 - __main__ - INFO - - Probabilidad de no pago media = 0.0003\n",
      "\n",
      "2024-11-27 19:31:23,485 - __main__ - INFO - Cluster 15:\n",
      "2024-11-27 19:31:23,486 - __main__ - INFO - - Precio Máx. Revenue Esperado = 1.88%\n",
      "2024-11-27 19:31:23,488 - __main__ - INFO - - Revenue Esperado Máximo = 52,053,750.35\n",
      "2024-11-27 19:31:23,490 - __main__ - INFO - - Número de clientes en el cluster = 1\n",
      "2024-11-27 19:31:23,492 - __main__ - INFO - - Número de simulaciones en el cluster = 1.00\n",
      "2024-11-27 19:31:23,494 - __main__ - INFO - - Probabilidad de aceptación en el precio óptimo = 0.4960\n",
      "2024-11-27 19:31:23,497 - __main__ - INFO - - Número esperado de créditos aceptados = 0\n",
      "2024-11-27 19:31:23,502 - __main__ - INFO - - Monto medio simulado = 287,311,311.33\n",
      "2024-11-27 19:31:23,503 - __main__ - INFO - - Plazo medio simulado = 34.27\n",
      "2024-11-27 19:31:23,505 - __main__ - INFO - - Probabilidad de no pago media = 0.0004\n",
      "\n",
      "2024-11-27 19:31:23,947 - __main__ - INFO - El revenue total esperado es: 106,693,453,111.57 con un total de 542903 clientes, 129,041.15 simulaciones, y 80438 créditos.\n",
      "2024-11-27 19:31:25,941 - __main__ - INFO - total_revenue: 106693453111.57217, total_clientes: 542903, total_simulaciones: 129041.1466383807, total_creditos: 80438\n",
      "2024-11-27 19:31:48,797 - __main__ - INFO - Estimación de respuesta a tratamientos completada.\n",
      "2024-11-27 19:31:55,123 - __main__ - INFO - Llamando al modelo de asignación de tratamientos...\n",
      "2024-11-27 19:31:55,125 - __main__ - INFO - Iniciando modelo de asignación de tratamientos...\n",
      "2024-11-27 19:31:55,128 - __main__ - INFO - Procesando datos de probabilidades y asignando IDs de tratamiento...\n",
      "2024-11-27 19:31:55,133 - __main__ - INFO - Fusionando probabilidades con información de RUT...\n",
      "2024-11-27 19:31:55,295 - __main__ - INFO - Fusionando información de RUT con información de clusters...\n",
      "2024-11-27 19:31:55,445 - __main__ - WARNING - Algunas combinaciones de clusters no están completas en rut_info.\n",
      "2024-11-27 19:31:55,446 - __main__ - INFO - Agrupando información por cluster...\n",
      "2024-11-27 19:31:56,595 - __main__ - INFO - Calculando Revenue Calculado (RC)...\n",
      "2024-11-27 19:31:56,626 - __main__ - INFO - Preparando matriz de beneficios para optimización...\n",
      "2024-11-27 19:31:56,665 - __main__ - INFO - Inicializando modelo de optimización con Gurobi...\n",
      "2024-11-27 19:31:56,667 - __main__ - INFO - Creando variables de decisión...\n",
      "2024-11-27 19:31:56,676 - __main__ - INFO - Agregando restricción de un tratamiento por cliente...\n",
      "2024-11-27 19:31:56,682 - __main__ - INFO - Agregando restricción de capacidad para ejecutivos...\n",
      "2024-11-27 19:31:56,695 - __main__ - INFO - Agregando restricciones de consistencia por cluster...\n",
      "2024-11-27 19:31:56,699 - __main__ - INFO - Iniciando optimización con Gurobi...\n"
     ]
    },
    {
     "name": "stdout",
     "output_type": "stream",
     "text": [
      "Gurobi Optimizer version 11.0.3 build v11.0.3rc0 (win64 - Windows 10.0 (19045.2))\n"
     ]
    },
    {
     "name": "stderr",
     "output_type": "stream",
     "text": [
      "2024-11-27 19:31:56,713 - gurobipy - INFO - Gurobi Optimizer version 11.0.3 build v11.0.3rc0 (win64 - Windows 10.0 (19045.2))\n"
     ]
    },
    {
     "name": "stdout",
     "output_type": "stream",
     "text": [
      "\n"
     ]
    },
    {
     "name": "stderr",
     "output_type": "stream",
     "text": [
      "2024-11-27 19:31:56,737 - gurobipy - INFO - \n"
     ]
    },
    {
     "name": "stdout",
     "output_type": "stream",
     "text": [
      "CPU model: AMD Ryzen 5 2500U with Radeon Vega Mobile Gfx, instruction set [SSE2|AVX|AVX2]\n"
     ]
    },
    {
     "name": "stderr",
     "output_type": "stream",
     "text": [
      "2024-11-27 19:31:56,744 - gurobipy - INFO - CPU model: AMD Ryzen 5 2500U with Radeon Vega Mobile Gfx, instruction set [SSE2|AVX|AVX2]\n"
     ]
    },
    {
     "name": "stdout",
     "output_type": "stream",
     "text": [
      "Thread count: 4 physical cores, 8 logical processors, using up to 8 threads\n"
     ]
    },
    {
     "name": "stderr",
     "output_type": "stream",
     "text": [
      "2024-11-27 19:31:56,748 - gurobipy - INFO - Thread count: 4 physical cores, 8 logical processors, using up to 8 threads\n"
     ]
    },
    {
     "name": "stdout",
     "output_type": "stream",
     "text": [
      "\n"
     ]
    },
    {
     "name": "stderr",
     "output_type": "stream",
     "text": [
      "2024-11-27 19:31:56,754 - gurobipy - INFO - \n"
     ]
    },
    {
     "name": "stdout",
     "output_type": "stream",
     "text": [
      "Optimize a model with 36 rows, 260 columns and 361 nonzeros\n"
     ]
    },
    {
     "name": "stderr",
     "output_type": "stream",
     "text": [
      "2024-11-27 19:31:56,758 - gurobipy - INFO - Optimize a model with 36 rows, 260 columns and 361 nonzeros\n"
     ]
    },
    {
     "name": "stdout",
     "output_type": "stream",
     "text": [
      "Model fingerprint: 0xad8225d6\n"
     ]
    },
    {
     "name": "stderr",
     "output_type": "stream",
     "text": [
      "2024-11-27 19:31:56,762 - gurobipy - INFO - Model fingerprint: 0xad8225d6\n"
     ]
    },
    {
     "name": "stdout",
     "output_type": "stream",
     "text": [
      "Variable types: 0 continuous, 260 integer (260 binary)\n"
     ]
    },
    {
     "name": "stderr",
     "output_type": "stream",
     "text": [
      "2024-11-27 19:31:56,766 - gurobipy - INFO - Variable types: 0 continuous, 260 integer (260 binary)\n"
     ]
    },
    {
     "name": "stdout",
     "output_type": "stream",
     "text": [
      "Coefficient statistics:\n"
     ]
    },
    {
     "name": "stderr",
     "output_type": "stream",
     "text": [
      "2024-11-27 19:31:56,770 - gurobipy - INFO - Coefficient statistics:\n"
     ]
    },
    {
     "name": "stdout",
     "output_type": "stream",
     "text": [
      "  Matrix range     [1e+00, 6e+04]\n"
     ]
    },
    {
     "name": "stderr",
     "output_type": "stream",
     "text": [
      "2024-11-27 19:31:56,773 - gurobipy - INFO -   Matrix range     [1e+00, 6e+04]\n"
     ]
    },
    {
     "name": "stdout",
     "output_type": "stream",
     "text": [
      "  Objective range  [6e+06, 3e+10]\n"
     ]
    },
    {
     "name": "stderr",
     "output_type": "stream",
     "text": [
      "2024-11-27 19:31:56,792 - gurobipy - INFO -   Objective range  [6e+06, 3e+10]\n"
     ]
    },
    {
     "name": "stdout",
     "output_type": "stream",
     "text": [
      "  Bounds range     [1e+00, 1e+00]\n"
     ]
    },
    {
     "name": "stderr",
     "output_type": "stream",
     "text": [
      "2024-11-27 19:31:56,795 - gurobipy - INFO -   Bounds range     [1e+00, 1e+00]\n"
     ]
    },
    {
     "name": "stdout",
     "output_type": "stream",
     "text": [
      "  RHS range        [1e+00, 2e+05]\n"
     ]
    },
    {
     "name": "stderr",
     "output_type": "stream",
     "text": [
      "2024-11-27 19:31:56,799 - gurobipy - INFO -   RHS range        [1e+00, 2e+05]\n"
     ]
    },
    {
     "name": "stdout",
     "output_type": "stream",
     "text": [
      "Warning: Model contains large objective coefficients\n"
     ]
    },
    {
     "name": "stderr",
     "output_type": "stream",
     "text": [
      "2024-11-27 19:31:56,802 - gurobipy - INFO - Warning: Model contains large objective coefficients\n"
     ]
    },
    {
     "name": "stdout",
     "output_type": "stream",
     "text": [
      "         Consider reformulating model or setting NumericFocus parameter\n"
     ]
    },
    {
     "name": "stderr",
     "output_type": "stream",
     "text": [
      "2024-11-27 19:31:56,805 - gurobipy - INFO -          Consider reformulating model or setting NumericFocus parameter\n"
     ]
    },
    {
     "name": "stdout",
     "output_type": "stream",
     "text": [
      "         to avoid numerical issues.\n"
     ]
    },
    {
     "name": "stderr",
     "output_type": "stream",
     "text": [
      "2024-11-27 19:31:56,809 - gurobipy - INFO -          to avoid numerical issues.\n"
     ]
    },
    {
     "name": "stdout",
     "output_type": "stream",
     "text": [
      "Presolve time: 0.00s\n"
     ]
    },
    {
     "name": "stderr",
     "output_type": "stream",
     "text": [
      "2024-11-27 19:31:56,814 - gurobipy - INFO - Presolve time: 0.00s\n"
     ]
    },
    {
     "name": "stdout",
     "output_type": "stream",
     "text": [
      "\n"
     ]
    },
    {
     "name": "stderr",
     "output_type": "stream",
     "text": [
      "2024-11-27 19:31:56,817 - gurobipy - INFO - \n"
     ]
    },
    {
     "name": "stdout",
     "output_type": "stream",
     "text": [
      "Explored 0 nodes (0 simplex iterations) in 0.06 seconds (0.00 work units)\n"
     ]
    },
    {
     "name": "stderr",
     "output_type": "stream",
     "text": [
      "2024-11-27 19:31:56,823 - gurobipy - INFO - Explored 0 nodes (0 simplex iterations) in 0.06 seconds (0.00 work units)\n"
     ]
    },
    {
     "name": "stdout",
     "output_type": "stream",
     "text": [
      "Thread count was 1 (of 8 available processors)\n"
     ]
    },
    {
     "name": "stderr",
     "output_type": "stream",
     "text": [
      "2024-11-27 19:31:56,827 - gurobipy - INFO - Thread count was 1 (of 8 available processors)\n"
     ]
    },
    {
     "name": "stdout",
     "output_type": "stream",
     "text": [
      "\n"
     ]
    },
    {
     "name": "stderr",
     "output_type": "stream",
     "text": [
      "2024-11-27 19:31:56,830 - gurobipy - INFO - \n"
     ]
    },
    {
     "name": "stdout",
     "output_type": "stream",
     "text": [
      "Solution count 0\n"
     ]
    },
    {
     "name": "stderr",
     "output_type": "stream",
     "text": [
      "2024-11-27 19:31:56,833 - gurobipy - INFO - Solution count 0\n"
     ]
    },
    {
     "name": "stdout",
     "output_type": "stream",
     "text": [
      "No other solutions better than -1e+100\n"
     ]
    },
    {
     "name": "stderr",
     "output_type": "stream",
     "text": [
      "2024-11-27 19:31:56,839 - gurobipy - INFO - No other solutions better than -1e+100\n"
     ]
    },
    {
     "name": "stdout",
     "output_type": "stream",
     "text": [
      "\n"
     ]
    },
    {
     "name": "stderr",
     "output_type": "stream",
     "text": [
      "2024-11-27 19:31:56,842 - gurobipy - INFO - \n"
     ]
    },
    {
     "name": "stdout",
     "output_type": "stream",
     "text": [
      "Model is infeasible\n"
     ]
    },
    {
     "name": "stderr",
     "output_type": "stream",
     "text": [
      "2024-11-27 19:31:56,845 - gurobipy - INFO - Model is infeasible\n"
     ]
    },
    {
     "name": "stdout",
     "output_type": "stream",
     "text": [
      "Best objective -, best bound -, gap -\n"
     ]
    },
    {
     "name": "stderr",
     "output_type": "stream",
     "text": [
      "2024-11-27 19:31:56,847 - gurobipy - INFO - Best objective -, best bound -, gap -\n",
      "2024-11-27 19:31:56,849 - __main__ - ERROR - Optimización no alcanzó una solución óptima.\n",
      "2024-11-27 19:31:56,850 - __main__ - INFO - Optimización completada.\n",
      "2024-11-27 19:31:56,864 - __main__ - INFO - Recalculación de métricas completada.\n",
      "2024-11-27 19:31:58,183 - __main__ - INFO - Aplicando acción tipo: adjust_splits sobre variable: Renta con parámetros: {'operation': 'move', 'index': 1, 'amount': 1}\n",
      "2024-11-27 19:31:58,232 - __main__ - INFO - Corte movido para variable 'Renta': [70944581.06383134, 141889160.50599688]\n",
      "2024-11-27 19:31:58,249 - __main__ - INFO - Recalculando clusters...\n",
      "2024-11-27 19:31:58,251 - __main__ - INFO - Realizando clustering...\n",
      "2024-11-27 19:31:58,293 - __main__ - INFO - Procesando variable: Genero\n",
      "2024-11-27 19:31:58,294 - __main__ - INFO - Procesando variable: Categoria_Digital\n",
      "2024-11-27 19:31:58,416 - __main__ - INFO - Variable categórica 'Categoria_Digital' separada en los grupos: ['Cliente no Digital' 'Cliente Digital']\n",
      "2024-11-27 19:31:58,418 - __main__ - INFO - Procesando variable: Elasticidad_Precios\n",
      "2024-11-27 19:31:58,491 - __main__ - INFO - Variable categórica 'Elasticidad_Precios' separada en los grupos: ['Alta' 'Baja' 'Media']\n",
      "2024-11-27 19:31:58,492 - __main__ - INFO - Procesando variable: Nacionalidad\n",
      "2024-11-27 19:31:58,494 - __main__ - INFO - Procesando variable: Propension\n",
      "2024-11-27 19:31:58,532 - __main__ - INFO - Cortes para variable 'Propension': [0.25000111754547705, 0.5000001914137039]\n",
      "2024-11-27 19:31:58,533 - __main__ - INFO - Procesando variable: Probabilidad_No_Pago\n",
      "2024-11-27 19:31:58,536 - __main__ - INFO - Procesando variable: Edad\n",
      "2024-11-27 19:31:58,538 - __main__ - INFO - Procesando variable: Renta\n",
      "2024-11-27 19:31:58,567 - __main__ - INFO - Cortes para variable 'Renta': [70944581.06383134]\n",
      "2024-11-27 19:31:58,569 - __main__ - INFO - Variables incluidas en clusterización: ['Categoria_Digital_cluster', 'Elasticidad_Precios_cluster', 'Propension_cluster', 'Renta_cluster']\n",
      "2024-11-27 19:32:15,711 - __main__ - INFO - Variables incluidas en este clustering: ['Categoria_Digital_cluster', 'Elasticidad_Precios_cluster', 'Propension_cluster', 'Renta_cluster']\n",
      "2024-11-27 19:32:15,713 - __main__ - INFO - Clustering completado. Número de clusters: 30\n",
      "2024-11-27 19:32:15,714 - __main__ - INFO - Recalculando métricas...\n",
      "2024-11-27 19:32:19,587 - __main__ - INFO - Estimando elasticidad...\n",
      "2024-11-27 19:32:21,828 - __main__ - INFO - Cluster 17:\n",
      "2024-11-27 19:32:21,830 - __main__ - INFO - - Precio Máx. Revenue Esperado = 2.50%\n",
      "2024-11-27 19:32:21,831 - __main__ - INFO - - Revenue Esperado Máximo = 4,195,145,422.84\n",
      "2024-11-27 19:32:21,833 - __main__ - INFO - - Número de clientes en el cluster = 30500\n",
      "2024-11-27 19:32:21,835 - __main__ - INFO - - Número de simulaciones en el cluster = 8022.02\n",
      "2024-11-27 19:32:21,838 - __main__ - INFO - - Probabilidad de aceptación en el precio óptimo = 0.4005\n",
      "2024-11-27 19:32:21,839 - __main__ - INFO - - Número esperado de créditos aceptados = 3213\n",
      "2024-11-27 19:32:21,841 - __main__ - INFO - - Monto medio simulado = 3,378,102.37\n",
      "2024-11-27 19:32:21,844 - __main__ - INFO - - Plazo medio simulado = 27.51\n",
      "2024-11-27 19:32:21,846 - __main__ - INFO - - Probabilidad de no pago media = 0.0213\n",
      "\n",
      "2024-11-27 19:32:24,181 - __main__ - INFO - Cluster 20:\n",
      "2024-11-27 19:32:24,182 - __main__ - INFO - - Precio Máx. Revenue Esperado = 1.00%\n",
      "2024-11-27 19:32:24,184 - __main__ - INFO - - Revenue Esperado Máximo = 7,057,926,609.52\n",
      "2024-11-27 19:32:24,185 - __main__ - INFO - - Número de clientes en el cluster = 29458\n",
      "2024-11-27 19:32:24,187 - __main__ - INFO - - Número de simulaciones en el cluster = 6113.41\n",
      "2024-11-27 19:32:24,189 - __main__ - INFO - - Probabilidad de aceptación en el precio óptimo = 0.7421\n",
      "2024-11-27 19:32:24,191 - __main__ - INFO - - Número esperado de créditos aceptados = 4537\n",
      "2024-11-27 19:32:24,193 - __main__ - INFO - - Monto medio simulado = 10,587,019.51\n",
      "2024-11-27 19:32:24,195 - __main__ - INFO - - Plazo medio simulado = 27.51\n",
      "2024-11-27 19:32:24,197 - __main__ - INFO - - Probabilidad de no pago media = 0.0127\n",
      "\n",
      "2024-11-27 19:32:29,345 - __main__ - INFO - Cluster 22:\n",
      "2024-11-27 19:32:29,346 - __main__ - INFO - - Precio Máx. Revenue Esperado = 1.00%\n",
      "2024-11-27 19:32:29,348 - __main__ - INFO - - Revenue Esperado Máximo = 18,606,336,436.65\n",
      "2024-11-27 19:32:29,349 - __main__ - INFO - - Número de clientes en el cluster = 58530\n",
      "2024-11-27 19:32:29,351 - __main__ - INFO - - Número de simulaciones en el cluster = 16345.95\n",
      "2024-11-27 19:32:29,352 - __main__ - INFO - - Probabilidad de aceptación en el precio óptimo = 0.7429\n",
      "2024-11-27 19:32:29,355 - __main__ - INFO - - Número esperado de créditos aceptados = 12143\n",
      "2024-11-27 19:32:29,357 - __main__ - INFO - - Monto medio simulado = 10,439,339.15\n",
      "2024-11-27 19:32:29,359 - __main__ - INFO - - Plazo medio simulado = 27.49\n",
      "2024-11-27 19:32:29,360 - __main__ - INFO - - Probabilidad de no pago media = 0.0128\n",
      "\n",
      "2024-11-27 19:32:31,349 - __main__ - INFO - Cluster 11:\n",
      "2024-11-27 19:32:31,351 - __main__ - INFO - - Precio Máx. Revenue Esperado = 1.38%\n",
      "2024-11-27 19:32:31,352 - __main__ - INFO - - Revenue Esperado Máximo = 3,488,156,458.99\n",
      "2024-11-27 19:32:31,354 - __main__ - INFO - - Número de clientes en el cluster = 22975\n",
      "2024-11-27 19:32:31,356 - __main__ - INFO - - Número de simulaciones en el cluster = 5107.48\n",
      "2024-11-27 19:32:31,358 - __main__ - INFO - - Probabilidad de aceptación en el precio óptimo = 0.6129\n",
      "2024-11-27 19:32:31,359 - __main__ - INFO - - Número esperado de créditos aceptados = 3130\n",
      "2024-11-27 19:32:31,362 - __main__ - INFO - - Monto medio simulado = 5,463,541.09\n",
      "2024-11-27 19:32:31,364 - __main__ - INFO - - Plazo medio simulado = 27.53\n",
      "2024-11-27 19:32:31,366 - __main__ - INFO - - Probabilidad de no pago media = 0.0191\n",
      "\n",
      "2024-11-27 19:32:35,104 - __main__ - INFO - Cluster 28:\n",
      "2024-11-27 19:32:35,106 - __main__ - INFO - - Precio Máx. Revenue Esperado = 1.38%\n",
      "2024-11-27 19:32:35,107 - __main__ - INFO - - Revenue Esperado Máximo = 11,523,508,163.10\n",
      "2024-11-27 19:32:35,109 - __main__ - INFO - - Número de clientes en el cluster = 47050\n",
      "2024-11-27 19:32:35,111 - __main__ - INFO - - Número de simulaciones en el cluster = 12474.73\n",
      "2024-11-27 19:32:35,113 - __main__ - INFO - - Probabilidad de aceptación en el precio óptimo = 0.6129\n",
      "2024-11-27 19:32:35,115 - __main__ - INFO - - Número esperado de créditos aceptados = 7646\n",
      "2024-11-27 19:32:35,117 - __main__ - INFO - - Monto medio simulado = 7,379,678.54\n",
      "2024-11-27 19:32:35,119 - __main__ - INFO - - Plazo medio simulado = 27.52\n",
      "2024-11-27 19:32:35,123 - __main__ - INFO - - Probabilidad de no pago media = 0.0175\n",
      "\n",
      "2024-11-27 19:32:37,806 - __main__ - INFO - Cluster 2:\n",
      "2024-11-27 19:32:37,808 - __main__ - INFO - - Precio Máx. Revenue Esperado = 2.50%\n",
      "2024-11-27 19:32:37,808 - __main__ - INFO - - Revenue Esperado Máximo = 3,778,470,615.87\n",
      "2024-11-27 19:32:37,810 - __main__ - INFO - - Número de clientes en el cluster = 31416\n",
      "2024-11-27 19:32:37,813 - __main__ - INFO - - Número de simulaciones en el cluster = 9239.48\n",
      "2024-11-27 19:32:37,815 - __main__ - INFO - - Probabilidad de aceptación en el precio óptimo = 0.4007\n",
      "2024-11-27 19:32:37,818 - __main__ - INFO - - Número esperado de créditos aceptados = 3702\n",
      "2024-11-27 19:32:37,822 - __main__ - INFO - - Monto medio simulado = 2,645,050.74\n",
      "2024-11-27 19:32:37,826 - __main__ - INFO - - Plazo medio simulado = 27.47\n",
      "2024-11-27 19:32:37,828 - __main__ - INFO - - Probabilidad de no pago media = 0.0217\n",
      "\n",
      "2024-11-27 19:32:39,974 - __main__ - INFO - Cluster 3:\n",
      "2024-11-27 19:32:39,976 - __main__ - INFO - - Precio Máx. Revenue Esperado = 1.00%\n",
      "2024-11-27 19:32:39,978 - __main__ - INFO - - Revenue Esperado Máximo = 4,808,096,754.29\n",
      "2024-11-27 19:32:39,981 - __main__ - INFO - - Número de clientes en el cluster = 28882\n",
      "2024-11-27 19:32:39,982 - __main__ - INFO - - Número de simulaciones en el cluster = 5438.11\n",
      "2024-11-27 19:32:39,984 - __main__ - INFO - - Probabilidad de aceptación en el precio óptimo = 0.7426\n",
      "2024-11-27 19:32:39,988 - __main__ - INFO - - Número esperado de créditos aceptados = 4038\n",
      "2024-11-27 19:32:39,990 - __main__ - INFO - - Monto medio simulado = 8,120,511.95\n",
      "2024-11-27 19:32:39,992 - __main__ - INFO - - Plazo medio simulado = 27.51\n",
      "2024-11-27 19:32:39,993 - __main__ - INFO - - Probabilidad de no pago media = 0.0147\n",
      "\n",
      "2024-11-27 19:32:42,324 - __main__ - INFO - Cluster 5:\n",
      "2024-11-27 19:32:42,326 - __main__ - INFO - - Precio Máx. Revenue Esperado = 1.00%\n",
      "2024-11-27 19:32:42,328 - __main__ - INFO - - Revenue Esperado Máximo = 5,962,101,122.37\n",
      "2024-11-27 19:32:42,329 - __main__ - INFO - - Número de clientes en el cluster = 28686\n",
      "2024-11-27 19:32:42,332 - __main__ - INFO - - Número de simulaciones en el cluster = 6754.52\n",
      "2024-11-27 19:32:42,333 - __main__ - INFO - - Probabilidad de aceptación en el precio óptimo = 0.7424\n",
      "2024-11-27 19:32:42,337 - __main__ - INFO - - Número esperado de créditos aceptados = 5014\n",
      "2024-11-27 19:32:42,338 - __main__ - INFO - - Monto medio simulado = 8,115,715.69\n",
      "2024-11-27 19:32:42,340 - __main__ - INFO - - Plazo medio simulado = 27.49\n",
      "2024-11-27 19:32:42,342 - __main__ - INFO - - Probabilidad de no pago media = 0.0149\n",
      "\n",
      "2024-11-27 19:32:48,082 - __main__ - INFO - Cluster 7:\n",
      "2024-11-27 19:32:48,083 - __main__ - INFO - - Precio Máx. Revenue Esperado = 1.00%\n",
      "2024-11-27 19:32:48,086 - __main__ - INFO - - Revenue Esperado Máximo = 15,439,568,793.66\n",
      "2024-11-27 19:32:48,088 - __main__ - INFO - - Número de clientes en el cluster = 57589\n",
      "2024-11-27 19:32:48,089 - __main__ - INFO - - Número de simulaciones en el cluster = 17716.09\n",
      "2024-11-27 19:32:48,090 - __main__ - INFO - - Probabilidad de aceptación en el precio óptimo = 0.7443\n",
      "2024-11-27 19:32:48,091 - __main__ - INFO - - Número esperado de créditos aceptados = 13187\n",
      "2024-11-27 19:32:48,093 - __main__ - INFO - - Monto medio simulado = 7,987,504.02\n",
      "2024-11-27 19:32:48,095 - __main__ - INFO - - Plazo medio simulado = 27.51\n",
      "2024-11-27 19:32:48,096 - __main__ - INFO - - Probabilidad de no pago media = 0.0150\n",
      "\n",
      "2024-11-27 19:32:49,865 - __main__ - INFO - Cluster 26:\n",
      "2024-11-27 19:32:49,867 - __main__ - INFO - - Precio Máx. Revenue Esperado = 1.38%\n",
      "2024-11-27 19:32:49,869 - __main__ - INFO - - Revenue Esperado Máximo = 4,230,748,841.69\n",
      "2024-11-27 19:32:49,871 - __main__ - INFO - - Número de clientes en el cluster = 23205\n",
      "2024-11-27 19:32:49,874 - __main__ - INFO - - Número de simulaciones en el cluster = 4499.94\n",
      "2024-11-27 19:32:49,877 - __main__ - INFO - - Probabilidad de aceptación en el precio óptimo = 0.6149\n",
      "2024-11-27 19:32:49,879 - __main__ - INFO - - Número esperado de créditos aceptados = 2767\n",
      "2024-11-27 19:32:49,887 - __main__ - INFO - - Monto medio simulado = 7,488,376.50\n",
      "2024-11-27 19:32:49,891 - __main__ - INFO - - Plazo medio simulado = 27.51\n",
      "2024-11-27 19:32:49,893 - __main__ - INFO - - Probabilidad de no pago media = 0.0173\n",
      "\n",
      "2024-11-27 19:32:53,990 - __main__ - INFO - Cluster 13:\n",
      "2024-11-27 19:32:53,991 - __main__ - INFO - - Precio Máx. Revenue Esperado = 1.37%\n",
      "2024-11-27 19:32:53,993 - __main__ - INFO - - Revenue Esperado Máximo = 8,824,058,863.57\n",
      "2024-11-27 19:32:53,997 - __main__ - INFO - - Número de clientes en el cluster = 46338\n",
      "2024-11-27 19:32:53,999 - __main__ - INFO - - Número de simulaciones en el cluster = 13642.26\n",
      "2024-11-27 19:32:54,001 - __main__ - INFO - - Probabilidad de aceptación en el precio óptimo = 0.6141\n",
      "2024-11-27 19:32:54,004 - __main__ - INFO - - Número esperado de créditos aceptados = 8378\n",
      "2024-11-27 19:32:54,010 - __main__ - INFO - - Monto medio simulado = 5,165,769.77\n",
      "2024-11-27 19:32:54,013 - __main__ - INFO - - Plazo medio simulado = 27.52\n",
      "2024-11-27 19:32:54,016 - __main__ - INFO - - Probabilidad de no pago media = 0.0193\n",
      "\n",
      "2024-11-27 19:32:55,944 - __main__ - INFO - Cluster 18:\n",
      "2024-11-27 19:32:55,945 - __main__ - INFO - - Precio Máx. Revenue Esperado = 1.00%\n",
      "2024-11-27 19:32:55,947 - __main__ - INFO - - Revenue Esperado Máximo = 5,465,470,633.94\n",
      "2024-11-27 19:32:55,950 - __main__ - INFO - - Número de clientes en el cluster = 28904\n",
      "2024-11-27 19:32:55,952 - __main__ - INFO - - Número de simulaciones en el cluster = 4667.03\n",
      "2024-11-27 19:32:55,954 - __main__ - INFO - - Probabilidad de aceptación en el precio óptimo = 0.7424\n",
      "2024-11-27 19:32:55,957 - __main__ - INFO - - Número esperado de créditos aceptados = 3465\n",
      "2024-11-27 19:32:55,959 - __main__ - INFO - - Monto medio simulado = 10,729,653.43\n",
      "2024-11-27 19:32:55,961 - __main__ - INFO - - Plazo medio simulado = 27.52\n",
      "2024-11-27 19:32:55,963 - __main__ - INFO - - Probabilidad de no pago media = 0.0122\n",
      "\n",
      "2024-11-27 19:32:57,234 - __main__ - INFO - Cluster 0:\n",
      "2024-11-27 19:32:57,236 - __main__ - INFO - - Precio Máx. Revenue Esperado = 2.50%\n",
      "2024-11-27 19:32:57,238 - __main__ - INFO - - Revenue Esperado Máximo = 1,122,124,421.26\n",
      "2024-11-27 19:32:57,239 - __main__ - INFO - - Número de clientes en el cluster = 15814\n",
      "2024-11-27 19:32:57,243 - __main__ - INFO - - Número de simulaciones en el cluster = 2779.24\n",
      "2024-11-27 19:32:57,251 - __main__ - INFO - - Probabilidad de aceptación en el precio óptimo = 0.4028\n",
      "2024-11-27 19:32:57,266 - __main__ - INFO - - Número esperado de créditos aceptados = 1119\n",
      "2024-11-27 19:32:57,280 - __main__ - INFO - - Monto medio simulado = 2,598,274.36\n",
      "2024-11-27 19:32:57,289 - __main__ - INFO - - Plazo medio simulado = 27.46\n",
      "2024-11-27 19:32:57,292 - __main__ - INFO - - Probabilidad de no pago media = 0.0215\n",
      "\n",
      "2024-11-27 19:32:58,740 - __main__ - INFO - Cluster 1:\n",
      "2024-11-27 19:32:58,741 - __main__ - INFO - - Precio Máx. Revenue Esperado = 2.50%\n",
      "2024-11-27 19:32:58,743 - __main__ - INFO - - Revenue Esperado Máximo = 1,474,037,564.88\n",
      "2024-11-27 19:32:58,745 - __main__ - INFO - - Número de clientes en el cluster = 15948\n",
      "2024-11-27 19:32:58,748 - __main__ - INFO - - Número de simulaciones en el cluster = 3554.06\n",
      "2024-11-27 19:32:58,752 - __main__ - INFO - - Probabilidad de aceptación en el precio óptimo = 0.4005\n",
      "2024-11-27 19:32:58,754 - __main__ - INFO - - Número esperado de créditos aceptados = 1423\n",
      "2024-11-27 19:32:58,757 - __main__ - INFO - - Monto medio simulado = 2,681,861.85\n",
      "2024-11-27 19:32:58,759 - __main__ - INFO - - Plazo medio simulado = 27.49\n",
      "2024-11-27 19:32:58,763 - __main__ - INFO - - Probabilidad de no pago media = 0.0215\n",
      "\n",
      "2024-11-27 19:33:00,403 - __main__ - INFO - Cluster 9:\n",
      "2024-11-27 19:33:00,404 - __main__ - INFO - - Precio Máx. Revenue Esperado = 1.38%\n",
      "2024-11-27 19:33:00,405 - __main__ - INFO - - Revenue Esperado Máximo = 2,726,678,652.27\n",
      "2024-11-27 19:33:00,406 - __main__ - INFO - - Número de clientes en el cluster = 23090\n",
      "2024-11-27 19:33:00,408 - __main__ - INFO - - Número de simulaciones en el cluster = 4025.47\n",
      "2024-11-27 19:33:00,410 - __main__ - INFO - - Probabilidad de aceptación en el precio óptimo = 0.6149\n",
      "2024-11-27 19:33:00,412 - __main__ - INFO - - Número esperado de créditos aceptados = 2475\n",
      "2024-11-27 19:33:00,415 - __main__ - INFO - - Monto medio simulado = 5,407,207.65\n",
      "2024-11-27 19:33:00,419 - __main__ - INFO - - Plazo medio simulado = 27.50\n",
      "2024-11-27 19:33:00,421 - __main__ - INFO - - Probabilidad de no pago media = 0.0194\n",
      "\n",
      "2024-11-27 19:33:01,792 - __main__ - INFO - Cluster 24:\n",
      "2024-11-27 19:33:01,794 - __main__ - INFO - - Precio Máx. Revenue Esperado = 1.37%\n",
      "2024-11-27 19:33:01,795 - __main__ - INFO - - Revenue Esperado Máximo = 3,310,075,084.60\n",
      "2024-11-27 19:33:01,798 - __main__ - INFO - - Número de clientes en el cluster = 23683\n",
      "2024-11-27 19:33:01,800 - __main__ - INFO - - Número de simulaciones en el cluster = 3462.48\n",
      "2024-11-27 19:33:01,802 - __main__ - INFO - - Probabilidad de aceptación en el precio óptimo = 0.6096\n",
      "2024-11-27 19:33:01,805 - __main__ - INFO - - Número esperado de créditos aceptados = 2111\n",
      "2024-11-27 19:33:01,807 - __main__ - INFO - - Monto medio simulado = 7,687,747.48\n",
      "2024-11-27 19:33:01,809 - __main__ - INFO - - Plazo medio simulado = 27.48\n",
      "2024-11-27 19:33:01,810 - __main__ - INFO - - Probabilidad de no pago media = 0.0173\n",
      "\n",
      "2024-11-27 19:33:03,053 - __main__ - INFO - Cluster 16:\n",
      "2024-11-27 19:33:03,055 - __main__ - INFO - - Precio Máx. Revenue Esperado = 2.50%\n",
      "2024-11-27 19:33:03,056 - __main__ - INFO - - Revenue Esperado Máximo = 1,542,275,629.31\n",
      "2024-11-27 19:33:03,057 - __main__ - INFO - - Número de clientes en el cluster = 15489\n",
      "2024-11-27 19:33:03,060 - __main__ - INFO - - Número de simulaciones en el cluster = 2970.64\n",
      "2024-11-27 19:33:03,064 - __main__ - INFO - - Probabilidad de aceptación en el precio óptimo = 0.3983\n",
      "2024-11-27 19:33:03,066 - __main__ - INFO - - Número esperado de créditos aceptados = 1183\n",
      "2024-11-27 19:33:03,068 - __main__ - INFO - - Monto medio simulado = 3,380,367.82\n",
      "2024-11-27 19:33:03,069 - __main__ - INFO - - Plazo medio simulado = 27.45\n",
      "2024-11-27 19:33:03,072 - __main__ - INFO - - Probabilidad de no pago media = 0.0212\n",
      "\n",
      "2024-11-27 19:33:04,095 - __main__ - INFO - Cluster 15:\n",
      "2024-11-27 19:33:04,097 - __main__ - INFO - - Precio Máx. Revenue Esperado = 2.50%\n",
      "2024-11-27 19:33:04,099 - __main__ - INFO - - Revenue Esperado Máximo = 1,175,698,136.85\n",
      "2024-11-27 19:33:04,100 - __main__ - INFO - - Número de clientes en el cluster = 15220\n",
      "2024-11-27 19:33:04,102 - __main__ - INFO - - Número de simulaciones en el cluster = 2187.59\n",
      "2024-11-27 19:33:04,104 - __main__ - INFO - - Probabilidad de aceptación en el precio óptimo = 0.4018\n",
      "2024-11-27 19:33:04,106 - __main__ - INFO - - Número esperado de créditos aceptados = 879\n",
      "2024-11-27 19:33:04,108 - __main__ - INFO - - Monto medio simulado = 3,462,233.50\n",
      "2024-11-27 19:33:04,114 - __main__ - INFO - - Plazo medio simulado = 27.49\n",
      "2024-11-27 19:33:04,116 - __main__ - INFO - - Probabilidad de no pago media = 0.0209\n",
      "\n",
      "2024-11-27 19:33:04,625 - __main__ - INFO - Cluster 29:\n",
      "2024-11-27 19:33:04,626 - __main__ - INFO - - Precio Máx. Revenue Esperado = 1.29%\n",
      "2024-11-27 19:33:04,628 - __main__ - INFO - - Revenue Esperado Máximo = 240,249,589.09\n",
      "2024-11-27 19:33:04,631 - __main__ - INFO - - Número de clientes en el cluster = 17\n",
      "2024-11-27 19:33:04,633 - __main__ - INFO - - Número de simulaciones en el cluster = 5.17\n",
      "2024-11-27 19:33:04,635 - __main__ - INFO - - Probabilidad de aceptación en el precio óptimo = 0.6132\n",
      "2024-11-27 19:33:04,637 - __main__ - INFO - - Número esperado de créditos aceptados = 3\n",
      "2024-11-27 19:33:04,639 - __main__ - INFO - - Monto medio simulado = 411,795,722.56\n",
      "2024-11-27 19:33:04,641 - __main__ - INFO - - Plazo medio simulado = 26.14\n",
      "2024-11-27 19:33:04,643 - __main__ - INFO - - Probabilidad de no pago media = 0.0005\n",
      "\n",
      "2024-11-27 19:33:05,112 - __main__ - INFO - Cluster 12:\n",
      "2024-11-27 19:33:05,114 - __main__ - INFO - - Precio Máx. Revenue Esperado = 1.20%\n",
      "2024-11-27 19:33:05,115 - __main__ - INFO - - Revenue Esperado Máximo = 83,809,641.91\n",
      "2024-11-27 19:33:05,118 - __main__ - INFO - - Número de clientes en el cluster = 4\n",
      "2024-11-27 19:33:05,120 - __main__ - INFO - - Número de simulaciones en el cluster = 1.64\n",
      "2024-11-27 19:33:05,122 - __main__ - INFO - - Probabilidad de aceptación en el precio óptimo = 0.7018\n",
      "2024-11-27 19:33:05,123 - __main__ - INFO - - Número esperado de créditos aceptados = 1\n",
      "2024-11-27 19:33:05,126 - __main__ - INFO - - Monto medio simulado = 395,823,878.92\n",
      "2024-11-27 19:33:05,128 - __main__ - INFO - - Plazo medio simulado = 28.19\n",
      "2024-11-27 19:33:05,130 - __main__ - INFO - - Probabilidad de no pago media = 0.0003\n",
      "\n",
      "2024-11-27 19:33:05,608 - __main__ - INFO - Cluster 25:\n",
      "2024-11-27 19:33:05,610 - __main__ - INFO - - Precio Máx. Revenue Esperado = 1.82%\n",
      "2024-11-27 19:33:05,612 - __main__ - INFO - - Revenue Esperado Máximo = 100,152,324.57\n",
      "2024-11-27 19:33:05,613 - __main__ - INFO - - Número de clientes en el cluster = 5\n",
      "2024-11-27 19:33:05,615 - __main__ - INFO - - Número de simulaciones en el cluster = 1.41\n",
      "2024-11-27 19:33:05,616 - __main__ - INFO - - Probabilidad de aceptación en el precio óptimo = 0.5187\n",
      "2024-11-27 19:33:05,618 - __main__ - INFO - - Número esperado de créditos aceptados = 1\n",
      "2024-11-27 19:33:05,619 - __main__ - INFO - - Monto medio simulado = 422,995,207.44\n",
      "2024-11-27 19:33:05,620 - __main__ - INFO - - Plazo medio simulado = 31.65\n",
      "2024-11-27 19:33:05,622 - __main__ - INFO - - Probabilidad de no pago media = 0.0003\n",
      "\n",
      "2024-11-27 19:33:06,109 - __main__ - INFO - Cluster 23:\n",
      "2024-11-27 19:33:06,110 - __main__ - INFO - - Precio Máx. Revenue Esperado = 1.00%\n",
      "2024-11-27 19:33:06,112 - __main__ - INFO - - Revenue Esperado Máximo = 460,698,814.84\n",
      "2024-11-27 19:33:06,114 - __main__ - INFO - - Número de clientes en el cluster = 32\n",
      "2024-11-27 19:33:06,117 - __main__ - INFO - - Número de simulaciones en el cluster = 9.85\n",
      "2024-11-27 19:33:06,119 - __main__ - INFO - - Probabilidad de aceptación en el precio óptimo = 0.7600\n",
      "2024-11-27 19:33:06,120 - __main__ - INFO - - Número esperado de créditos aceptados = 7\n",
      "2024-11-27 19:33:06,122 - __main__ - INFO - - Monto medio simulado = 423,635,923.04\n",
      "2024-11-27 19:33:06,124 - __main__ - INFO - - Plazo medio simulado = 26.85\n",
      "2024-11-27 19:33:06,126 - __main__ - INFO - - Probabilidad de no pago media = 0.0004\n",
      "\n",
      "2024-11-27 19:33:06,666 - __main__ - INFO - Cluster 21:\n",
      "2024-11-27 19:33:06,667 - __main__ - INFO - - Precio Máx. Revenue Esperado = 1.00%\n",
      "2024-11-27 19:33:06,669 - __main__ - INFO - - Revenue Esperado Máximo = 121,220,877.10\n",
      "2024-11-27 19:33:06,670 - __main__ - INFO - - Número de clientes en el cluster = 10\n",
      "2024-11-27 19:33:06,671 - __main__ - INFO - - Número de simulaciones en el cluster = 2.59\n",
      "2024-11-27 19:33:06,672 - __main__ - INFO - - Probabilidad de aceptación en el precio óptimo = 0.7471\n",
      "2024-11-27 19:33:06,674 - __main__ - INFO - - Número esperado de créditos aceptados = 2\n",
      "2024-11-27 19:33:06,676 - __main__ - INFO - - Monto medio simulado = 386,266,344.30\n",
      "2024-11-27 19:33:06,679 - __main__ - INFO - - Plazo medio simulado = 29.84\n",
      "2024-11-27 19:33:06,681 - __main__ - INFO - - Probabilidad de no pago media = 0.0006\n",
      "\n",
      "2024-11-27 19:33:07,176 - __main__ - INFO - Cluster 4:\n",
      "2024-11-27 19:33:07,180 - __main__ - INFO - - Precio Máx. Revenue Esperado = 1.02%\n",
      "2024-11-27 19:33:07,181 - __main__ - INFO - - Revenue Esperado Máximo = 74,444,545.88\n",
      "2024-11-27 19:33:07,183 - __main__ - INFO - - Número de clientes en el cluster = 7\n",
      "2024-11-27 19:33:07,184 - __main__ - INFO - - Número de simulaciones en el cluster = 1.73\n",
      "2024-11-27 19:33:07,186 - __main__ - INFO - - Probabilidad de aceptación en el precio óptimo = 0.6962\n",
      "2024-11-27 19:33:07,188 - __main__ - INFO - - Número esperado de créditos aceptados = 1\n",
      "2024-11-27 19:33:07,190 - __main__ - INFO - - Monto medio simulado = 407,518,603.36\n",
      "2024-11-27 19:33:07,192 - __main__ - INFO - - Plazo medio simulado = 27.57\n",
      "2024-11-27 19:33:07,194 - __main__ - INFO - - Probabilidad de no pago media = 0.0007\n",
      "\n",
      "2024-11-27 19:33:07,667 - __main__ - INFO - Cluster 14:\n",
      "2024-11-27 19:33:07,669 - __main__ - INFO - - Precio Máx. Revenue Esperado = 1.35%\n",
      "2024-11-27 19:33:07,672 - __main__ - INFO - - Revenue Esperado Máximo = 148,177,517.74\n",
      "2024-11-27 19:33:07,676 - __main__ - INFO - - Número de clientes en el cluster = 9\n",
      "2024-11-27 19:33:07,677 - __main__ - INFO - - Número de simulaciones en el cluster = 3.09\n",
      "2024-11-27 19:33:07,680 - __main__ - INFO - - Probabilidad de aceptación en el precio óptimo = 0.6335\n",
      "2024-11-27 19:33:07,681 - __main__ - INFO - - Número esperado de créditos aceptados = 2\n",
      "2024-11-27 19:33:07,682 - __main__ - INFO - - Monto medio simulado = 370,046,848.10\n",
      "2024-11-27 19:33:07,684 - __main__ - INFO - - Plazo medio simulado = 27.59\n",
      "2024-11-27 19:33:07,686 - __main__ - INFO - - Probabilidad de no pago media = 0.0006\n",
      "\n",
      "2024-11-27 19:33:08,175 - __main__ - INFO - Cluster 8:\n",
      "2024-11-27 19:33:08,177 - __main__ - INFO - - Precio Máx. Revenue Esperado = 1.00%\n",
      "2024-11-27 19:33:08,179 - __main__ - INFO - - Revenue Esperado Máximo = 272,595,350.44\n",
      "2024-11-27 19:33:08,181 - __main__ - INFO - - Número de clientes en el cluster = 17\n",
      "2024-11-27 19:33:08,183 - __main__ - INFO - - Número de simulaciones en el cluster = 5.64\n",
      "2024-11-27 19:33:08,185 - __main__ - INFO - - Probabilidad de aceptación en el precio óptimo = 0.7813\n",
      "2024-11-27 19:33:08,187 - __main__ - INFO - - Número esperado de créditos aceptados = 4\n",
      "2024-11-27 19:33:08,189 - __main__ - INFO - - Monto medio simulado = 401,400,580.31\n",
      "2024-11-27 19:33:08,191 - __main__ - INFO - - Plazo medio simulado = 28.44\n",
      "2024-11-27 19:33:08,194 - __main__ - INFO - - Probabilidad de no pago media = 0.0005\n",
      "\n",
      "2024-11-27 19:33:08,682 - __main__ - INFO - Cluster 27:\n",
      "2024-11-27 19:33:08,684 - __main__ - INFO - - Precio Máx. Revenue Esperado = 1.26%\n",
      "2024-11-27 19:33:08,686 - __main__ - INFO - - Revenue Esperado Máximo = 103,192,831.33\n",
      "2024-11-27 19:33:08,688 - __main__ - INFO - - Número de clientes en el cluster = 8\n",
      "2024-11-27 19:33:08,690 - __main__ - INFO - - Número de simulaciones en el cluster = 2.03\n",
      "2024-11-27 19:33:08,694 - __main__ - INFO - - Probabilidad de aceptación en el precio óptimo = 0.6368\n",
      "2024-11-27 19:33:08,695 - __main__ - INFO - - Número esperado de créditos aceptados = 1\n",
      "2024-11-27 19:33:08,697 - __main__ - INFO - - Monto medio simulado = 418,719,658.41\n",
      "2024-11-27 19:33:08,698 - __main__ - INFO - - Plazo medio simulado = 27.71\n",
      "2024-11-27 19:33:08,700 - __main__ - INFO - - Probabilidad de no pago media = 0.0006\n",
      "\n",
      "2024-11-27 19:33:09,198 - __main__ - INFO - Cluster 10:\n",
      "2024-11-27 19:33:09,200 - __main__ - INFO - - Precio Máx. Revenue Esperado = 1.34%\n",
      "2024-11-27 19:33:09,201 - __main__ - INFO - - Revenue Esperado Máximo = 54,988,206.62\n",
      "2024-11-27 19:33:09,203 - __main__ - INFO - - Número de clientes en el cluster = 3\n",
      "2024-11-27 19:33:09,205 - __main__ - INFO - - Número de simulaciones en el cluster = 1.14\n",
      "2024-11-27 19:33:09,207 - __main__ - INFO - - Probabilidad de aceptación en el precio óptimo = 0.7236\n",
      "2024-11-27 19:33:09,210 - __main__ - INFO - - Número esperado de créditos aceptados = 1\n",
      "2024-11-27 19:33:09,213 - __main__ - INFO - - Monto medio simulado = 323,551,913.88\n",
      "2024-11-27 19:33:09,214 - __main__ - INFO - - Plazo medio simulado = 27.98\n",
      "2024-11-27 19:33:09,216 - __main__ - INFO - - Probabilidad de no pago media = 0.0006\n",
      "\n",
      "2024-11-27 19:33:09,700 - __main__ - INFO - Cluster 19:\n",
      "2024-11-27 19:33:09,702 - __main__ - INFO - - Precio Máx. Revenue Esperado = 1.00%\n",
      "2024-11-27 19:33:09,705 - __main__ - INFO - - Revenue Esperado Máximo = 106,176,352.27\n",
      "2024-11-27 19:33:09,707 - __main__ - INFO - - Número de clientes en el cluster = 12\n",
      "2024-11-27 19:33:09,709 - __main__ - INFO - - Número de simulaciones en el cluster = 2.39\n",
      "2024-11-27 19:33:09,713 - __main__ - INFO - - Probabilidad de aceptación en el precio óptimo = 0.6820\n",
      "2024-11-27 19:33:09,714 - __main__ - INFO - - Número esperado de créditos aceptados = 2\n",
      "2024-11-27 19:33:09,715 - __main__ - INFO - - Monto medio simulado = 464,619,711.95\n",
      "2024-11-27 19:33:09,717 - __main__ - INFO - - Plazo medio simulado = 25.86\n",
      "2024-11-27 19:33:09,718 - __main__ - INFO - - Probabilidad de no pago media = 0.0005\n",
      "\n",
      "2024-11-27 19:33:10,283 - __main__ - INFO - Cluster 6:\n",
      "2024-11-27 19:33:10,285 - __main__ - INFO - - Precio Máx. Revenue Esperado = 1.02%\n",
      "2024-11-27 19:33:10,287 - __main__ - INFO - - Revenue Esperado Máximo = 54,381,579.95\n",
      "2024-11-27 19:33:10,289 - __main__ - INFO - - Número de clientes en el cluster = 3\n",
      "2024-11-27 19:33:10,291 - __main__ - INFO - - Número de simulaciones en el cluster = 1.36\n",
      "2024-11-27 19:33:10,293 - __main__ - INFO - - Probabilidad de aceptación en el precio óptimo = 0.7639\n",
      "2024-11-27 19:33:10,295 - __main__ - INFO - - Número esperado de créditos aceptados = 1\n",
      "2024-11-27 19:33:10,297 - __main__ - INFO - - Monto medio simulado = 409,795,412.79\n",
      "2024-11-27 19:33:10,298 - __main__ - INFO - - Plazo medio simulado = 23.13\n",
      "2024-11-27 19:33:10,300 - __main__ - INFO - - Probabilidad de no pago media = 0.0004\n",
      "\n",
      "2024-11-27 19:33:10,763 - __main__ - INFO - El revenue total esperado es: 106,550,565,837.41 con un total de 542904 clientes, 129,038.54 simulaciones, y 80436 créditos.\n",
      "2024-11-27 19:33:12,787 - __main__ - INFO - total_revenue: 106550565837.40598, total_clientes: 542904, total_simulaciones: 129038.53609226698, total_creditos: 80436\n",
      "2024-11-27 19:33:35,759 - __main__ - INFO - Estimación de respuesta a tratamientos completada.\n",
      "2024-11-27 19:33:41,907 - __main__ - INFO - Llamando al modelo de asignación de tratamientos...\n",
      "2024-11-27 19:33:41,908 - __main__ - INFO - Iniciando modelo de asignación de tratamientos...\n",
      "2024-11-27 19:33:41,911 - __main__ - INFO - Procesando datos de probabilidades y asignando IDs de tratamiento...\n",
      "2024-11-27 19:33:41,920 - __main__ - INFO - Fusionando probabilidades con información de RUT...\n",
      "2024-11-27 19:33:42,098 - __main__ - INFO - Fusionando información de RUT con información de clusters...\n",
      "2024-11-27 19:33:42,274 - __main__ - INFO - Agrupando información por cluster...\n",
      "2024-11-27 19:33:43,478 - __main__ - INFO - Calculando Revenue Calculado (RC)...\n",
      "2024-11-27 19:33:43,488 - __main__ - INFO - Preparando matriz de beneficios para optimización...\n",
      "2024-11-27 19:33:43,568 - __main__ - INFO - Inicializando modelo de optimización con Gurobi...\n",
      "2024-11-27 19:33:43,570 - __main__ - INFO - Creando variables de decisión...\n",
      "2024-11-27 19:33:43,585 - __main__ - INFO - Agregando restricción de un tratamiento por cliente...\n",
      "2024-11-27 19:33:43,587 - __main__ - INFO - Agregando restricción de capacidad para ejecutivos...\n",
      "2024-11-27 19:33:43,593 - __main__ - INFO - Agregando restricciones de consistencia por cluster...\n",
      "2024-11-27 19:33:43,601 - __main__ - INFO - Iniciando optimización con Gurobi...\n"
     ]
    },
    {
     "name": "stdout",
     "output_type": "stream",
     "text": [
      "Gurobi Optimizer version 11.0.3 build v11.0.3rc0 (win64 - Windows 10.0 (19045.2))\n"
     ]
    },
    {
     "name": "stderr",
     "output_type": "stream",
     "text": [
      "2024-11-27 19:33:43,608 - gurobipy - INFO - Gurobi Optimizer version 11.0.3 build v11.0.3rc0 (win64 - Windows 10.0 (19045.2))\n"
     ]
    },
    {
     "name": "stdout",
     "output_type": "stream",
     "text": [
      "\n"
     ]
    },
    {
     "name": "stderr",
     "output_type": "stream",
     "text": [
      "2024-11-27 19:33:43,612 - gurobipy - INFO - \n"
     ]
    },
    {
     "name": "stdout",
     "output_type": "stream",
     "text": [
      "CPU model: AMD Ryzen 5 2500U with Radeon Vega Mobile Gfx, instruction set [SSE2|AVX|AVX2]\n"
     ]
    },
    {
     "name": "stderr",
     "output_type": "stream",
     "text": [
      "2024-11-27 19:33:43,617 - gurobipy - INFO - CPU model: AMD Ryzen 5 2500U with Radeon Vega Mobile Gfx, instruction set [SSE2|AVX|AVX2]\n"
     ]
    },
    {
     "name": "stdout",
     "output_type": "stream",
     "text": [
      "Thread count: 4 physical cores, 8 logical processors, using up to 8 threads\n"
     ]
    },
    {
     "name": "stderr",
     "output_type": "stream",
     "text": [
      "2024-11-27 19:33:43,619 - gurobipy - INFO - Thread count: 4 physical cores, 8 logical processors, using up to 8 threads\n"
     ]
    },
    {
     "name": "stdout",
     "output_type": "stream",
     "text": [
      "\n"
     ]
    },
    {
     "name": "stderr",
     "output_type": "stream",
     "text": [
      "2024-11-27 19:33:43,623 - gurobipy - INFO - \n"
     ]
    },
    {
     "name": "stdout",
     "output_type": "stream",
     "text": [
      "Optimize a model with 31 rows, 235 columns and 325 nonzeros\n"
     ]
    },
    {
     "name": "stderr",
     "output_type": "stream",
     "text": [
      "2024-11-27 19:33:43,627 - gurobipy - INFO - Optimize a model with 31 rows, 235 columns and 325 nonzeros\n"
     ]
    },
    {
     "name": "stdout",
     "output_type": "stream",
     "text": [
      "Model fingerprint: 0xfc37e123\n"
     ]
    },
    {
     "name": "stderr",
     "output_type": "stream",
     "text": [
      "2024-11-27 19:33:43,631 - gurobipy - INFO - Model fingerprint: 0xfc37e123\n"
     ]
    },
    {
     "name": "stdout",
     "output_type": "stream",
     "text": [
      "Variable types: 0 continuous, 235 integer (235 binary)\n"
     ]
    },
    {
     "name": "stderr",
     "output_type": "stream",
     "text": [
      "2024-11-27 19:33:43,635 - gurobipy - INFO - Variable types: 0 continuous, 235 integer (235 binary)\n"
     ]
    },
    {
     "name": "stdout",
     "output_type": "stream",
     "text": [
      "Coefficient statistics:\n"
     ]
    },
    {
     "name": "stderr",
     "output_type": "stream",
     "text": [
      "2024-11-27 19:33:43,638 - gurobipy - INFO - Coefficient statistics:\n"
     ]
    },
    {
     "name": "stdout",
     "output_type": "stream",
     "text": [
      "  Matrix range     [1e+00, 6e+04]\n"
     ]
    },
    {
     "name": "stderr",
     "output_type": "stream",
     "text": [
      "2024-11-27 19:33:43,641 - gurobipy - INFO -   Matrix range     [1e+00, 6e+04]\n"
     ]
    },
    {
     "name": "stdout",
     "output_type": "stream",
     "text": [
      "  Objective range  [8e+06, 3e+10]\n"
     ]
    },
    {
     "name": "stderr",
     "output_type": "stream",
     "text": [
      "2024-11-27 19:33:43,644 - gurobipy - INFO -   Objective range  [8e+06, 3e+10]\n"
     ]
    },
    {
     "name": "stdout",
     "output_type": "stream",
     "text": [
      "  Bounds range     [1e+00, 1e+00]\n"
     ]
    },
    {
     "name": "stderr",
     "output_type": "stream",
     "text": [
      "2024-11-27 19:33:43,648 - gurobipy - INFO -   Bounds range     [1e+00, 1e+00]\n"
     ]
    },
    {
     "name": "stdout",
     "output_type": "stream",
     "text": [
      "  RHS range        [1e+00, 2e+05]\n"
     ]
    },
    {
     "name": "stderr",
     "output_type": "stream",
     "text": [
      "2024-11-27 19:33:43,652 - gurobipy - INFO -   RHS range        [1e+00, 2e+05]\n"
     ]
    },
    {
     "name": "stdout",
     "output_type": "stream",
     "text": [
      "Warning: Model contains large objective coefficients\n"
     ]
    },
    {
     "name": "stderr",
     "output_type": "stream",
     "text": [
      "2024-11-27 19:33:43,656 - gurobipy - INFO - Warning: Model contains large objective coefficients\n"
     ]
    },
    {
     "name": "stdout",
     "output_type": "stream",
     "text": [
      "         Consider reformulating model or setting NumericFocus parameter\n"
     ]
    },
    {
     "name": "stderr",
     "output_type": "stream",
     "text": [
      "2024-11-27 19:33:43,659 - gurobipy - INFO -          Consider reformulating model or setting NumericFocus parameter\n"
     ]
    },
    {
     "name": "stdout",
     "output_type": "stream",
     "text": [
      "         to avoid numerical issues.\n"
     ]
    },
    {
     "name": "stderr",
     "output_type": "stream",
     "text": [
      "2024-11-27 19:33:43,662 - gurobipy - INFO -          to avoid numerical issues.\n"
     ]
    },
    {
     "name": "stdout",
     "output_type": "stream",
     "text": [
      "Found heuristic solution: objective 6.413974e+10\n"
     ]
    },
    {
     "name": "stderr",
     "output_type": "stream",
     "text": [
      "2024-11-27 19:33:43,666 - gurobipy - INFO - Found heuristic solution: objective 6.413974e+10\n"
     ]
    },
    {
     "name": "stdout",
     "output_type": "stream",
     "text": [
      "Presolve removed 30 rows and 205 columns\n"
     ]
    },
    {
     "name": "stderr",
     "output_type": "stream",
     "text": [
      "2024-11-27 19:33:43,672 - gurobipy - INFO - Presolve removed 30 rows and 205 columns\n"
     ]
    },
    {
     "name": "stdout",
     "output_type": "stream",
     "text": [
      "Presolve time: 0.00s\n"
     ]
    },
    {
     "name": "stderr",
     "output_type": "stream",
     "text": [
      "2024-11-27 19:33:43,676 - gurobipy - INFO - Presolve time: 0.00s\n"
     ]
    },
    {
     "name": "stdout",
     "output_type": "stream",
     "text": [
      "Presolved: 1 rows, 30 columns, 30 nonzeros\n"
     ]
    },
    {
     "name": "stderr",
     "output_type": "stream",
     "text": [
      "2024-11-27 19:33:43,680 - gurobipy - INFO - Presolved: 1 rows, 30 columns, 30 nonzeros\n"
     ]
    },
    {
     "name": "stdout",
     "output_type": "stream",
     "text": [
      "Found heuristic solution: objective 1.156170e+11\n"
     ]
    },
    {
     "name": "stderr",
     "output_type": "stream",
     "text": [
      "2024-11-27 19:33:43,687 - gurobipy - INFO - Found heuristic solution: objective 1.156170e+11\n"
     ]
    },
    {
     "name": "stdout",
     "output_type": "stream",
     "text": [
      "Variable types: 0 continuous, 30 integer (30 binary)\n"
     ]
    },
    {
     "name": "stderr",
     "output_type": "stream",
     "text": [
      "2024-11-27 19:33:43,690 - gurobipy - INFO - Variable types: 0 continuous, 30 integer (30 binary)\n"
     ]
    },
    {
     "name": "stdout",
     "output_type": "stream",
     "text": [
      "Found heuristic solution: objective 1.175842e+11\n"
     ]
    },
    {
     "name": "stderr",
     "output_type": "stream",
     "text": [
      "2024-11-27 19:33:43,694 - gurobipy - INFO - Found heuristic solution: objective 1.175842e+11\n"
     ]
    },
    {
     "name": "stdout",
     "output_type": "stream",
     "text": [
      "\n"
     ]
    },
    {
     "name": "stderr",
     "output_type": "stream",
     "text": [
      "2024-11-27 19:33:43,707 - gurobipy - INFO - \n"
     ]
    },
    {
     "name": "stdout",
     "output_type": "stream",
     "text": [
      "Root relaxation: objective 1.214693e+11, 1 iterations, 0.00 seconds (0.00 work units)\n"
     ]
    },
    {
     "name": "stderr",
     "output_type": "stream",
     "text": [
      "2024-11-27 19:33:43,710 - gurobipy - INFO - Root relaxation: objective 1.214693e+11, 1 iterations, 0.00 seconds (0.00 work units)\n"
     ]
    },
    {
     "name": "stdout",
     "output_type": "stream",
     "text": [
      "\n"
     ]
    },
    {
     "name": "stderr",
     "output_type": "stream",
     "text": [
      "2024-11-27 19:33:43,735 - gurobipy - INFO - \n"
     ]
    },
    {
     "name": "stdout",
     "output_type": "stream",
     "text": [
      "    Nodes    |    Current Node    |     Objective Bounds      |     Work\n"
     ]
    },
    {
     "name": "stderr",
     "output_type": "stream",
     "text": [
      "2024-11-27 19:33:43,738 - gurobipy - INFO -     Nodes    |    Current Node    |     Objective Bounds      |     Work\n"
     ]
    },
    {
     "name": "stdout",
     "output_type": "stream",
     "text": [
      " Expl Unexpl |  Obj  Depth IntInf | Incumbent    BestBd   Gap | It/Node Time\n"
     ]
    },
    {
     "name": "stderr",
     "output_type": "stream",
     "text": [
      "2024-11-27 19:33:43,742 - gurobipy - INFO -  Expl Unexpl |  Obj  Depth IntInf | Incumbent    BestBd   Gap | It/Node Time\n"
     ]
    },
    {
     "name": "stdout",
     "output_type": "stream",
     "text": [
      "\n"
     ]
    },
    {
     "name": "stderr",
     "output_type": "stream",
     "text": [
      "2024-11-27 19:33:43,746 - gurobipy - INFO - \n"
     ]
    },
    {
     "name": "stdout",
     "output_type": "stream",
     "text": [
      "     0     0 1.2147e+11    0    1 1.1758e+11 1.2147e+11  3.30%     -    0s\n"
     ]
    },
    {
     "name": "stderr",
     "output_type": "stream",
     "text": [
      "2024-11-27 19:33:43,750 - gurobipy - INFO -      0     0 1.2147e+11    0    1 1.1758e+11 1.2147e+11  3.30%     -    0s\n"
     ]
    },
    {
     "name": "stdout",
     "output_type": "stream",
     "text": [
      "H    0     0                    1.198779e+11 1.2147e+11  1.33%     -    0s\n"
     ]
    },
    {
     "name": "stderr",
     "output_type": "stream",
     "text": [
      "2024-11-27 19:33:43,755 - gurobipy - INFO - H    0     0                    1.198779e+11 1.2147e+11  1.33%     -    0s\n"
     ]
    },
    {
     "name": "stdout",
     "output_type": "stream",
     "text": [
      "     0     0 1.2107e+11    0    1 1.1988e+11 1.2107e+11  0.99%     -    0s\n"
     ]
    },
    {
     "name": "stderr",
     "output_type": "stream",
     "text": [
      "2024-11-27 19:33:43,763 - gurobipy - INFO -      0     0 1.2107e+11    0    1 1.1988e+11 1.2107e+11  0.99%     -    0s\n"
     ]
    },
    {
     "name": "stdout",
     "output_type": "stream",
     "text": [
      "     0     0 1.1988e+11    0    1 1.1988e+11 1.1988e+11  0.00%     -    0s\n"
     ]
    },
    {
     "name": "stderr",
     "output_type": "stream",
     "text": [
      "2024-11-27 19:33:43,776 - gurobipy - INFO -      0     0 1.1988e+11    0    1 1.1988e+11 1.1988e+11  0.00%     -    0s\n"
     ]
    },
    {
     "name": "stdout",
     "output_type": "stream",
     "text": [
      "\n"
     ]
    },
    {
     "name": "stderr",
     "output_type": "stream",
     "text": [
      "2024-11-27 19:33:43,783 - gurobipy - INFO - \n"
     ]
    },
    {
     "name": "stdout",
     "output_type": "stream",
     "text": [
      "Cutting planes:\n"
     ]
    },
    {
     "name": "stderr",
     "output_type": "stream",
     "text": [
      "2024-11-27 19:33:43,787 - gurobipy - INFO - Cutting planes:\n"
     ]
    },
    {
     "name": "stdout",
     "output_type": "stream",
     "text": [
      "  Cover: 1\n"
     ]
    },
    {
     "name": "stderr",
     "output_type": "stream",
     "text": [
      "2024-11-27 19:33:43,791 - gurobipy - INFO -   Cover: 1\n"
     ]
    },
    {
     "name": "stdout",
     "output_type": "stream",
     "text": [
      "  RLT: 1\n"
     ]
    },
    {
     "name": "stderr",
     "output_type": "stream",
     "text": [
      "2024-11-27 19:33:43,794 - gurobipy - INFO -   RLT: 1\n"
     ]
    },
    {
     "name": "stdout",
     "output_type": "stream",
     "text": [
      "\n"
     ]
    },
    {
     "name": "stderr",
     "output_type": "stream",
     "text": [
      "2024-11-27 19:33:43,797 - gurobipy - INFO - \n"
     ]
    },
    {
     "name": "stdout",
     "output_type": "stream",
     "text": [
      "Explored 1 nodes (4 simplex iterations) in 0.17 seconds (0.00 work units)\n"
     ]
    },
    {
     "name": "stderr",
     "output_type": "stream",
     "text": [
      "2024-11-27 19:33:43,800 - gurobipy - INFO - Explored 1 nodes (4 simplex iterations) in 0.17 seconds (0.00 work units)\n"
     ]
    },
    {
     "name": "stdout",
     "output_type": "stream",
     "text": [
      "Thread count was 8 (of 8 available processors)\n"
     ]
    },
    {
     "name": "stderr",
     "output_type": "stream",
     "text": [
      "2024-11-27 19:33:43,805 - gurobipy - INFO - Thread count was 8 (of 8 available processors)\n"
     ]
    },
    {
     "name": "stdout",
     "output_type": "stream",
     "text": [
      "\n"
     ]
    },
    {
     "name": "stderr",
     "output_type": "stream",
     "text": [
      "2024-11-27 19:33:43,808 - gurobipy - INFO - \n"
     ]
    },
    {
     "name": "stdout",
     "output_type": "stream",
     "text": [
      "Solution count 4: 1.19878e+11 1.17584e+11 1.15617e+11 6.41397e+10 \n"
     ]
    },
    {
     "name": "stderr",
     "output_type": "stream",
     "text": [
      "2024-11-27 19:33:43,812 - gurobipy - INFO - Solution count 4: 1.19878e+11 1.17584e+11 1.15617e+11 6.41397e+10 \n"
     ]
    },
    {
     "name": "stdout",
     "output_type": "stream",
     "text": [
      "\n"
     ]
    },
    {
     "name": "stderr",
     "output_type": "stream",
     "text": [
      "2024-11-27 19:33:43,815 - gurobipy - INFO - \n"
     ]
    },
    {
     "name": "stdout",
     "output_type": "stream",
     "text": [
      "Optimal solution found (tolerance 1.00e-04)\n"
     ]
    },
    {
     "name": "stderr",
     "output_type": "stream",
     "text": [
      "2024-11-27 19:33:43,818 - gurobipy - INFO - Optimal solution found (tolerance 1.00e-04)\n"
     ]
    },
    {
     "name": "stdout",
     "output_type": "stream",
     "text": [
      "Best objective 1.198779349151e+11, best bound 1.198779349151e+11, gap 0.0000%\n"
     ]
    },
    {
     "name": "stderr",
     "output_type": "stream",
     "text": [
      "2024-11-27 19:33:43,822 - gurobipy - INFO - Best objective 1.198779349151e+11, best bound 1.198779349151e+11, gap 0.0000%\n",
      "2024-11-27 19:33:43,824 - __main__ - INFO - Optimización exitosa. Extrayendo resultados...\n",
      "2024-11-27 19:33:43,828 - __main__ - INFO - Ganancias totales: 119877934915.09\n",
      "2024-11-27 19:33:43,833 - __main__ - INFO - Executives used: 203122\n",
      "2024-11-27 19:33:43,834 - __main__ - INFO - Executives remaining: 1878\n",
      "2024-11-27 19:33:43,836 - __main__ - INFO - Optimización completada.\n",
      "2024-11-27 19:33:43,851 - __main__ - INFO - Recalculación de métricas completada.\n",
      "2024-11-27 19:33:45,244 - __main__ - INFO - Aplicando acción tipo: adjust_splits sobre variable: Probabilidad_No_Pago con parámetros: {'operation': 'move', 'index': 1, 'amount': -1}\n",
      "2024-11-27 19:33:45,245 - __main__ - WARNING - No se puede ajustar separaciones para 'Probabilidad_No_Pago': no es continua o no está incluida en la clusterización.\n",
      "2024-11-27 19:33:45,247 - __main__ - INFO - Seleccionando nueva acción: ('adjust_splits', 'Probabilidad_No_Pago', {'operation': 'move', 'index': 1, 'amount': 1})\n",
      "2024-11-27 19:33:45,250 - __main__ - INFO - Aplicando acción tipo: adjust_splits sobre variable: Probabilidad_No_Pago con parámetros: {'operation': 'move', 'index': 1, 'amount': 1}\n",
      "2024-11-27 19:33:45,252 - __main__ - WARNING - No se puede ajustar separaciones para 'Probabilidad_No_Pago': no es continua o no está incluida en la clusterización.\n",
      "2024-11-27 19:33:45,254 - __main__ - INFO - Seleccionando nueva acción: ('toggle_variable', 'Probabilidad_No_Pago', {})\n",
      "2024-11-27 19:33:45,257 - __main__ - INFO - Aplicando acción tipo: toggle_variable sobre variable: Probabilidad_No_Pago con parámetros: {}\n",
      "2024-11-27 19:33:45,259 - __main__ - INFO - Variable 'Probabilidad_No_Pago' incluida: 1\n",
      "2024-11-27 19:33:45,269 - __main__ - INFO - Cortes inicializados para variable 'Probabilidad_No_Pago': [0.034999537924730456]\n",
      "2024-11-27 19:33:45,290 - __main__ - INFO - Recalculando clusters...\n",
      "2024-11-27 19:33:45,292 - __main__ - INFO - Realizando clustering...\n",
      "2024-11-27 19:33:45,331 - __main__ - INFO - Procesando variable: Genero\n",
      "2024-11-27 19:33:45,332 - __main__ - INFO - Procesando variable: Categoria_Digital\n",
      "2024-11-27 19:33:45,431 - __main__ - INFO - Variable categórica 'Categoria_Digital' separada en los grupos: ['Cliente no Digital' 'Cliente Digital']\n",
      "2024-11-27 19:33:45,433 - __main__ - INFO - Procesando variable: Elasticidad_Precios\n",
      "2024-11-27 19:33:45,499 - __main__ - INFO - Variable categórica 'Elasticidad_Precios' separada en los grupos: ['Alta' 'Baja' 'Media']\n",
      "2024-11-27 19:33:45,500 - __main__ - INFO - Procesando variable: Nacionalidad\n",
      "2024-11-27 19:33:45,501 - __main__ - INFO - Procesando variable: Propension\n",
      "2024-11-27 19:33:45,532 - __main__ - INFO - Cortes para variable 'Propension': [0.25000111754547705, 0.5000001914137039]\n",
      "2024-11-27 19:33:45,534 - __main__ - INFO - Procesando variable: Probabilidad_No_Pago\n",
      "2024-11-27 19:33:45,562 - __main__ - INFO - Cortes para variable 'Probabilidad_No_Pago': [0.034999537924730456]\n",
      "2024-11-27 19:33:45,563 - __main__ - INFO - Procesando variable: Edad\n",
      "2024-11-27 19:33:45,565 - __main__ - INFO - Procesando variable: Renta\n",
      "2024-11-27 19:33:45,592 - __main__ - INFO - Cortes para variable 'Renta': [70944581.06383134]\n",
      "2024-11-27 19:33:45,593 - __main__ - INFO - Variables incluidas en clusterización: ['Categoria_Digital_cluster', 'Elasticidad_Precios_cluster', 'Propension_cluster', 'Probabilidad_No_Pago_cluster', 'Renta_cluster']\n",
      "2024-11-27 19:34:03,020 - __main__ - INFO - Variables incluidas en este clustering: ['Categoria_Digital_cluster', 'Elasticidad_Precios_cluster', 'Propension_cluster', 'Probabilidad_No_Pago_cluster', 'Renta_cluster']\n",
      "2024-11-27 19:34:03,022 - __main__ - INFO - Clustering completado. Número de clusters: 48\n",
      "2024-11-27 19:34:03,023 - __main__ - INFO - Recalculando métricas...\n",
      "2024-11-27 19:34:06,938 - __main__ - INFO - Estimando elasticidad...\n",
      "2024-11-27 19:34:08,535 - __main__ - INFO - Cluster 28:\n",
      "2024-11-27 19:34:08,537 - __main__ - INFO - - Precio Máx. Revenue Esperado = 2.50%\n",
      "2024-11-27 19:34:08,540 - __main__ - INFO - - Revenue Esperado Máximo = 3,316,460,426.46\n",
      "2024-11-27 19:34:08,541 - __main__ - INFO - - Número de clientes en el cluster = 23833\n",
      "2024-11-27 19:34:08,543 - __main__ - INFO - - Número de simulaciones en el cluster = 6299.27\n",
      "2024-11-27 19:34:08,547 - __main__ - INFO - - Probabilidad de aceptación en el precio óptimo = 0.4004\n",
      "2024-11-27 19:34:08,549 - __main__ - INFO - - Número esperado de créditos aceptados = 2522\n",
      "2024-11-27 19:34:08,551 - __main__ - INFO - - Monto medio simulado = 3,384,967.94\n",
      "2024-11-27 19:34:08,553 - __main__ - INFO - - Plazo medio simulado = 27.47\n",
      "2024-11-27 19:34:08,559 - __main__ - INFO - - Probabilidad de no pago media = 0.0149\n",
      "\n",
      "2024-11-27 19:34:10,861 - __main__ - INFO - Cluster 33:\n",
      "2024-11-27 19:34:10,863 - __main__ - INFO - - Precio Máx. Revenue Esperado = 1.00%\n",
      "2024-11-27 19:34:10,865 - __main__ - INFO - - Revenue Esperado Máximo = 6,907,076,315.10\n",
      "2024-11-27 19:34:10,867 - __main__ - INFO - - Número de clientes en el cluster = 26670\n",
      "2024-11-27 19:34:10,869 - __main__ - INFO - - Número de simulaciones en el cluster = 5595.06\n",
      "2024-11-27 19:34:10,871 - __main__ - INFO - - Probabilidad de aceptación en el precio óptimo = 0.7417\n",
      "2024-11-27 19:34:10,873 - __main__ - INFO - - Número esperado de créditos aceptados = 4150\n",
      "2024-11-27 19:34:10,875 - __main__ - INFO - - Monto medio simulado = 11,293,323.05\n",
      "2024-11-27 19:34:10,877 - __main__ - INFO - - Plazo medio simulado = 27.51\n",
      "2024-11-27 19:34:10,879 - __main__ - INFO - - Probabilidad de no pago media = 0.0095\n",
      "\n",
      "2024-11-27 19:34:15,371 - __main__ - INFO - Cluster 36:\n",
      "2024-11-27 19:34:15,372 - __main__ - INFO - - Precio Máx. Revenue Esperado = 1.00%\n",
      "2024-11-27 19:34:15,374 - __main__ - INFO - - Revenue Esperado Máximo = 18,204,881,559.08\n",
      "2024-11-27 19:34:15,378 - __main__ - INFO - - Número de clientes en el cluster = 52951\n",
      "2024-11-27 19:34:15,379 - __main__ - INFO - - Número de simulaciones en el cluster = 14904.85\n",
      "2024-11-27 19:34:15,381 - __main__ - INFO - - Probabilidad de aceptación en el precio óptimo = 0.7430\n",
      "2024-11-27 19:34:15,383 - __main__ - INFO - - Número esperado de créditos aceptados = 11074\n",
      "2024-11-27 19:34:15,385 - __main__ - INFO - - Monto medio simulado = 11,161,132.30\n",
      "2024-11-27 19:34:15,387 - __main__ - INFO - - Plazo medio simulado = 27.49\n",
      "2024-11-27 19:34:15,389 - __main__ - INFO - - Probabilidad de no pago media = 0.0095\n",
      "\n",
      "2024-11-27 19:34:17,185 - __main__ - INFO - Cluster 18:\n",
      "2024-11-27 19:34:17,187 - __main__ - INFO - - Precio Máx. Revenue Esperado = 1.38%\n",
      "2024-11-27 19:34:17,189 - __main__ - INFO - - Revenue Esperado Máximo = 3,179,678,064.02\n",
      "2024-11-27 19:34:17,191 - __main__ - INFO - - Número de clientes en el cluster = 18829\n",
      "2024-11-27 19:34:17,193 - __main__ - INFO - - Número de simulaciones en el cluster = 4209.38\n",
      "2024-11-27 19:34:17,194 - __main__ - INFO - - Probabilidad de aceptación en el precio óptimo = 0.6128\n",
      "2024-11-27 19:34:17,196 - __main__ - INFO - - Número esperado de créditos aceptados = 2580\n",
      "2024-11-27 19:34:17,198 - __main__ - INFO - - Monto medio simulado = 6,010,053.27\n",
      "2024-11-27 19:34:17,200 - __main__ - INFO - - Plazo medio simulado = 27.52\n",
      "2024-11-27 19:34:17,203 - __main__ - INFO - - Probabilidad de no pago media = 0.0135\n",
      "\n",
      "2024-11-27 19:34:17,915 - __main__ - INFO - Cluster 20:\n",
      "2024-11-27 19:34:17,916 - __main__ - INFO - - Precio Máx. Revenue Esperado = 1.38%\n",
      "2024-11-27 19:34:17,919 - __main__ - INFO - - Revenue Esperado Máximo = 317,419,746.18\n",
      "2024-11-27 19:34:17,922 - __main__ - INFO - - Número de clientes en el cluster = 4146\n",
      "2024-11-27 19:34:17,924 - __main__ - INFO - - Número de simulaciones en el cluster = 898.11\n",
      "2024-11-27 19:34:17,927 - __main__ - INFO - - Probabilidad de aceptación en el precio óptimo = 0.6131\n",
      "2024-11-27 19:34:17,930 - __main__ - INFO - - Número esperado de créditos aceptados = 551\n",
      "2024-11-27 19:34:17,934 - __main__ - INFO - - Monto medio simulado = 2,902,065.44\n",
      "2024-11-27 19:34:17,937 - __main__ - INFO - - Plazo medio simulado = 27.55\n",
      "2024-11-27 19:34:17,940 - __main__ - INFO - - Probabilidad de no pago media = 0.0457\n",
      "\n",
      "2024-11-27 19:34:21,201 - __main__ - INFO - Cluster 45:\n",
      "2024-11-27 19:34:21,202 - __main__ - INFO - - Precio Máx. Revenue Esperado = 1.38%\n",
      "2024-11-27 19:34:21,205 - __main__ - INFO - - Revenue Esperado Máximo = 10,728,680,342.79\n",
      "2024-11-27 19:34:21,206 - __main__ - INFO - - Número de clientes en el cluster = 39476\n",
      "2024-11-27 19:34:21,208 - __main__ - INFO - - Número de simulaciones en el cluster = 10519.52\n",
      "2024-11-27 19:34:21,210 - __main__ - INFO - - Probabilidad de aceptación en el precio óptimo = 0.6131\n",
      "2024-11-27 19:34:21,212 - __main__ - INFO - - Número esperado de créditos aceptados = 6449\n",
      "2024-11-27 19:34:21,214 - __main__ - INFO - - Monto medio simulado = 8,109,345.16\n",
      "2024-11-27 19:34:21,216 - __main__ - INFO - - Plazo medio simulado = 27.50\n",
      "2024-11-27 19:34:21,218 - __main__ - INFO - - Probabilidad de no pago media = 0.0125\n",
      "\n",
      "2024-11-27 19:34:23,565 - __main__ - INFO - Cluster 4:\n",
      "2024-11-27 19:34:23,566 - __main__ - INFO - - Precio Máx. Revenue Esperado = 2.50%\n",
      "2024-11-27 19:34:23,568 - __main__ - INFO - - Revenue Esperado Máximo = 3,013,900,377.06\n",
      "2024-11-27 19:34:23,571 - __main__ - INFO - - Número de clientes en el cluster = 24578\n",
      "2024-11-27 19:34:23,573 - __main__ - INFO - - Número de simulaciones en el cluster = 7263.64\n",
      "2024-11-27 19:34:23,575 - __main__ - INFO - - Probabilidad de aceptación en el precio óptimo = 0.4007\n",
      "2024-11-27 19:34:23,577 - __main__ - INFO - - Número esperado de créditos aceptados = 2911\n",
      "2024-11-27 19:34:23,579 - __main__ - INFO - - Monto medio simulado = 2,664,671.39\n",
      "2024-11-27 19:34:23,586 - __main__ - INFO - - Plazo medio simulado = 27.48\n",
      "2024-11-27 19:34:23,587 - __main__ - INFO - - Probabilidad de no pago media = 0.0151\n",
      "\n",
      "2024-11-27 19:34:25,593 - __main__ - INFO - Cluster 6:\n",
      "2024-11-27 19:34:25,594 - __main__ - INFO - - Precio Máx. Revenue Esperado = 1.00%\n",
      "2024-11-27 19:34:25,596 - __main__ - INFO - - Revenue Esperado Máximo = 4,656,911,961.95\n",
      "2024-11-27 19:34:25,598 - __main__ - INFO - - Número de clientes en el cluster = 25407\n",
      "2024-11-27 19:34:25,601 - __main__ - INFO - - Número de simulaciones en el cluster = 4846.74\n",
      "2024-11-27 19:34:25,604 - __main__ - INFO - - Probabilidad de aceptación en el precio óptimo = 0.7430\n",
      "2024-11-27 19:34:25,606 - __main__ - INFO - - Número esperado de créditos aceptados = 3601\n",
      "2024-11-27 19:34:25,608 - __main__ - INFO - - Monto medio simulado = 8,784,656.35\n",
      "2024-11-27 19:34:25,610 - __main__ - INFO - - Plazo medio simulado = 27.51\n",
      "2024-11-27 19:34:25,612 - __main__ - INFO - - Probabilidad de no pago media = 0.0106\n",
      "\n",
      "2024-11-27 19:34:28,055 - __main__ - INFO - Cluster 9:\n",
      "2024-11-27 19:34:28,057 - __main__ - INFO - - Precio Máx. Revenue Esperado = 1.00%\n",
      "2024-11-27 19:34:28,059 - __main__ - INFO - - Revenue Esperado Máximo = 5,758,024,981.49\n",
      "2024-11-27 19:34:28,060 - __main__ - INFO - - Número de clientes en el cluster = 25096\n",
      "2024-11-27 19:34:28,063 - __main__ - INFO - - Número de simulaciones en el cluster = 5980.35\n",
      "2024-11-27 19:34:28,066 - __main__ - INFO - - Probabilidad de aceptación en el precio óptimo = 0.7436\n",
      "2024-11-27 19:34:28,068 - __main__ - INFO - - Número esperado de créditos aceptados = 4447\n",
      "2024-11-27 19:34:28,070 - __main__ - INFO - - Monto medio simulado = 8,803,366.58\n",
      "2024-11-27 19:34:28,072 - __main__ - INFO - - Plazo medio simulado = 27.48\n",
      "2024-11-27 19:34:28,074 - __main__ - INFO - - Probabilidad de no pago media = 0.0106\n",
      "\n",
      "2024-11-27 19:34:28,767 - __main__ - INFO - Cluster 35:\n",
      "2024-11-27 19:34:28,769 - __main__ - INFO - - Precio Máx. Revenue Esperado = 1.00%\n",
      "2024-11-27 19:34:28,771 - __main__ - INFO - - Revenue Esperado Máximo = 163,086,759.93\n",
      "2024-11-27 19:34:28,772 - __main__ - INFO - - Número de clientes en el cluster = 2788\n",
      "2024-11-27 19:34:28,774 - __main__ - INFO - - Número de simulaciones en el cluster = 518.35\n",
      "2024-11-27 19:34:28,776 - __main__ - INFO - - Probabilidad de aceptación en el precio óptimo = 0.7465\n",
      "2024-11-27 19:34:28,779 - __main__ - INFO - - Número esperado de créditos aceptados = 387\n",
      "2024-11-27 19:34:28,782 - __main__ - INFO - - Monto medio simulado = 2,963,169.51\n",
      "2024-11-27 19:34:28,784 - __main__ - INFO - - Plazo medio simulado = 27.57\n",
      "2024-11-27 19:34:28,786 - __main__ - INFO - - Probabilidad de no pago media = 0.0465\n",
      "\n",
      "2024-11-27 19:34:30,020 - __main__ - INFO - Cluster 14:\n",
      "2024-11-27 19:34:30,022 - __main__ - INFO - - Precio Máx. Revenue Esperado = 1.00%\n",
      "2024-11-27 19:34:30,023 - __main__ - INFO - - Revenue Esperado Máximo = 614,803,459.47\n",
      "2024-11-27 19:34:30,025 - __main__ - INFO - - Número de clientes en el cluster = 7200\n",
      "2024-11-27 19:34:30,027 - __main__ - INFO - - Número de simulaciones en el cluster = 2080.29\n",
      "2024-11-27 19:34:30,029 - __main__ - INFO - - Probabilidad de aceptación en el precio óptimo = 0.7470\n",
      "2024-11-27 19:34:30,031 - __main__ - INFO - - Número esperado de créditos aceptados = 1554\n",
      "2024-11-27 19:34:30,033 - __main__ - INFO - - Monto medio simulado = 2,792,333.89\n",
      "2024-11-27 19:34:30,036 - __main__ - INFO - - Plazo medio simulado = 27.51\n",
      "2024-11-27 19:34:30,037 - __main__ - INFO - - Probabilidad de no pago media = 0.0477\n",
      "\n",
      "2024-11-27 19:34:31,723 - __main__ - INFO - Cluster 42:\n",
      "2024-11-27 19:34:31,725 - __main__ - INFO - - Precio Máx. Revenue Esperado = 1.38%\n",
      "2024-11-27 19:34:31,727 - __main__ - INFO - - Revenue Esperado Máximo = 3,945,334,670.71\n",
      "2024-11-27 19:34:31,728 - __main__ - INFO - - Número de clientes en el cluster = 19487\n",
      "2024-11-27 19:34:31,731 - __main__ - INFO - - Número de simulaciones en el cluster = 3804.39\n",
      "2024-11-27 19:34:31,736 - __main__ - INFO - - Probabilidad de aceptación en el precio óptimo = 0.6147\n",
      "2024-11-27 19:34:31,738 - __main__ - INFO - - Número esperado de créditos aceptados = 2339\n",
      "2024-11-27 19:34:31,741 - __main__ - INFO - - Monto medio simulado = 8,215,552.56\n",
      "2024-11-27 19:34:31,742 - __main__ - INFO - - Plazo medio simulado = 27.52\n",
      "2024-11-27 19:34:31,745 - __main__ - INFO - - Probabilidad de no pago media = 0.0123\n",
      "\n",
      "2024-11-27 19:34:36,481 - __main__ - INFO - Cluster 12:\n",
      "2024-11-27 19:34:36,483 - __main__ - INFO - - Precio Máx. Revenue Esperado = 1.00%\n",
      "2024-11-27 19:34:36,484 - __main__ - INFO - - Revenue Esperado Máximo = 14,864,595,162.23\n",
      "2024-11-27 19:34:36,486 - __main__ - INFO - - Número de clientes en el cluster = 50389\n",
      "2024-11-27 19:34:36,488 - __main__ - INFO - - Número de simulaciones en el cluster = 15635.80\n",
      "2024-11-27 19:34:36,490 - __main__ - INFO - - Probabilidad de aceptación en el precio óptimo = 0.7440\n",
      "2024-11-27 19:34:36,491 - __main__ - INFO - - Número esperado de créditos aceptados = 11633\n",
      "2024-11-27 19:34:36,493 - __main__ - INFO - - Monto medio simulado = 8,678,702.89\n",
      "2024-11-27 19:34:36,498 - __main__ - INFO - - Plazo medio simulado = 27.51\n",
      "2024-11-27 19:34:36,500 - __main__ - INFO - - Probabilidad de no pago media = 0.0107\n",
      "\n",
      "2024-11-27 19:34:37,451 - __main__ - INFO - Cluster 29:\n",
      "2024-11-27 19:34:37,453 - __main__ - INFO - - Precio Máx. Revenue Esperado = 2.50%\n",
      "2024-11-27 19:34:37,455 - __main__ - INFO - - Revenue Esperado Máximo = 878,659,560.49\n",
      "2024-11-27 19:34:37,457 - __main__ - INFO - - Número de clientes en el cluster = 6667\n",
      "2024-11-27 19:34:37,460 - __main__ - INFO - - Número de simulaciones en el cluster = 1722.74\n",
      "2024-11-27 19:34:37,462 - __main__ - INFO - - Probabilidad de aceptación en el precio óptimo = 0.4011\n",
      "2024-11-27 19:34:37,465 - __main__ - INFO - - Número esperado de créditos aceptados = 691\n",
      "2024-11-27 19:34:37,468 - __main__ - INFO - - Monto medio simulado = 3,352,998.17\n",
      "2024-11-27 19:34:37,469 - __main__ - INFO - - Plazo medio simulado = 27.63\n",
      "2024-11-27 19:34:37,472 - __main__ - INFO - - Probabilidad de no pago media = 0.0445\n",
      "\n",
      "2024-11-27 19:34:40,910 - __main__ - INFO - Cluster 21:\n",
      "2024-11-27 19:34:40,912 - __main__ - INFO - - Precio Máx. Revenue Esperado = 1.37%\n",
      "2024-11-27 19:34:40,915 - __main__ - INFO - - Revenue Esperado Máximo = 7,958,581,785.22\n",
      "2024-11-27 19:34:40,917 - __main__ - INFO - - Número de clientes en el cluster = 37896\n",
      "2024-11-27 19:34:40,919 - __main__ - INFO - - Número de simulaciones en el cluster = 11200.73\n",
      "2024-11-27 19:34:40,921 - __main__ - INFO - - Probabilidad de aceptación en el precio óptimo = 0.6143\n",
      "2024-11-27 19:34:40,925 - __main__ - INFO - - Número esperado de créditos aceptados = 6881\n",
      "2024-11-27 19:34:40,929 - __main__ - INFO - - Monto medio simulado = 5,642,491.83\n",
      "2024-11-27 19:34:40,933 - __main__ - INFO - - Plazo medio simulado = 27.51\n",
      "2024-11-27 19:34:40,935 - __main__ - INFO - - Probabilidad de no pago media = 0.0136\n",
      "\n",
      "2024-11-27 19:34:42,805 - __main__ - INFO - Cluster 30:\n",
      "2024-11-27 19:34:42,807 - __main__ - INFO - - Precio Máx. Revenue Esperado = 1.00%\n",
      "2024-11-27 19:34:42,808 - __main__ - INFO - - Revenue Esperado Máximo = 5,364,129,333.61\n",
      "2024-11-27 19:34:42,811 - __main__ - INFO - - Número de clientes en el cluster = 26328\n",
      "2024-11-27 19:34:42,813 - __main__ - INFO - - Número de simulaciones en el cluster = 4307.18\n",
      "2024-11-27 19:34:42,815 - __main__ - INFO - - Probabilidad de aceptación en el precio óptimo = 0.7422\n",
      "2024-11-27 19:34:42,817 - __main__ - INFO - - Número esperado de créditos aceptados = 3197\n",
      "2024-11-27 19:34:42,819 - __main__ - INFO - - Monto medio simulado = 11,375,521.71\n",
      "2024-11-27 19:34:42,822 - __main__ - INFO - - Plazo medio simulado = 27.52\n",
      "2024-11-27 19:34:42,823 - __main__ - INFO - - Probabilidad de no pago media = 0.0094\n",
      "\n",
      "2024-11-27 19:34:43,997 - __main__ - INFO - Cluster 0:\n",
      "2024-11-27 19:34:44,000 - __main__ - INFO - - Precio Máx. Revenue Esperado = 2.50%\n",
      "2024-11-27 19:34:44,002 - __main__ - INFO - - Revenue Esperado Máximo = 899,650,801.94\n",
      "2024-11-27 19:34:44,004 - __main__ - INFO - - Número de clientes en el cluster = 12418\n",
      "2024-11-27 19:34:44,006 - __main__ - INFO - - Número de simulaciones en el cluster = 2198.64\n",
      "2024-11-27 19:34:44,008 - __main__ - INFO - - Probabilidad de aceptación en el precio óptimo = 0.4033\n",
      "2024-11-27 19:34:44,011 - __main__ - INFO - - Número esperado de créditos aceptados = 887\n",
      "2024-11-27 19:34:44,013 - __main__ - INFO - - Monto medio simulado = 2,616,029.70\n",
      "2024-11-27 19:34:44,014 - __main__ - INFO - - Plazo medio simulado = 27.43\n",
      "2024-11-27 19:34:44,016 - __main__ - INFO - - Probabilidad de no pago media = 0.0151\n",
      "\n",
      "2024-11-27 19:34:44,883 - __main__ - INFO - Cluster 3:\n",
      "2024-11-27 19:34:44,885 - __main__ - INFO - - Precio Máx. Revenue Esperado = 2.50%\n",
      "2024-11-27 19:34:44,886 - __main__ - INFO - - Revenue Esperado Máximo = 283,155,157.15\n",
      "2024-11-27 19:34:44,889 - __main__ - INFO - - Número de clientes en el cluster = 3416\n",
      "2024-11-27 19:34:44,891 - __main__ - INFO - - Número de simulaciones en el cluster = 738.21\n",
      "2024-11-27 19:34:44,894 - __main__ - INFO - - Probabilidad de aceptación en el precio óptimo = 0.4006\n",
      "2024-11-27 19:34:44,897 - __main__ - INFO - - Número esperado de créditos aceptados = 296\n",
      "2024-11-27 19:34:44,899 - __main__ - INFO - - Monto medio simulado = 2,540,357.86\n",
      "2024-11-27 19:34:44,901 - __main__ - INFO - - Plazo medio simulado = 27.51\n",
      "2024-11-27 19:34:44,904 - __main__ - INFO - - Probabilidad de no pago media = 0.0455\n",
      "\n",
      "2024-11-27 19:34:46,426 - __main__ - INFO - Cluster 15:\n",
      "2024-11-27 19:34:46,428 - __main__ - INFO - - Precio Máx. Revenue Esperado = 1.38%\n",
      "2024-11-27 19:34:46,430 - __main__ - INFO - - Revenue Esperado Máximo = 2,474,700,943.63\n",
      "2024-11-27 19:34:46,433 - __main__ - INFO - - Número de clientes en el cluster = 18818\n",
      "2024-11-27 19:34:46,435 - __main__ - INFO - - Número de simulaciones en el cluster = 3300.45\n",
      "2024-11-27 19:34:46,438 - __main__ - INFO - - Probabilidad de aceptación en el precio óptimo = 0.6160\n",
      "2024-11-27 19:34:46,440 - __main__ - INFO - - Número esperado de créditos aceptados = 2033\n",
      "2024-11-27 19:34:46,443 - __main__ - INFO - - Monto medio simulado = 5,940,523.21\n",
      "2024-11-27 19:34:46,445 - __main__ - INFO - - Plazo medio simulado = 27.50\n",
      "2024-11-27 19:34:46,446 - __main__ - INFO - - Probabilidad de no pago media = 0.0136\n",
      "\n",
      "2024-11-27 19:34:47,884 - __main__ - INFO - Cluster 39:\n",
      "2024-11-27 19:34:47,886 - __main__ - INFO - - Precio Máx. Revenue Esperado = 1.39%\n",
      "2024-11-27 19:34:47,888 - __main__ - INFO - - Revenue Esperado Máximo = 3,089,173,664.55\n",
      "2024-11-27 19:34:47,890 - __main__ - INFO - - Número de clientes en el cluster = 19843\n",
      "2024-11-27 19:34:47,893 - __main__ - INFO - - Número de simulaciones en el cluster = 2929.64\n",
      "2024-11-27 19:34:47,895 - __main__ - INFO - - Probabilidad de aceptación en el precio óptimo = 0.6018\n",
      "2024-11-27 19:34:47,896 - __main__ - INFO - - Número esperado de créditos aceptados = 1763\n",
      "2024-11-27 19:34:47,898 - __main__ - INFO - - Monto medio simulado = 8,454,880.04\n",
      "2024-11-27 19:34:47,899 - __main__ - INFO - - Plazo medio simulado = 27.47\n",
      "2024-11-27 19:34:47,900 - __main__ - INFO - - Probabilidad de no pago media = 0.0124\n",
      "\n",
      "2024-11-27 19:34:49,170 - __main__ - INFO - Cluster 23:\n",
      "2024-11-27 19:34:49,171 - __main__ - INFO - - Precio Máx. Revenue Esperado = 1.38%\n",
      "2024-11-27 19:34:49,172 - __main__ - INFO - - Revenue Esperado Máximo = 886,769,548.25\n",
      "2024-11-27 19:34:49,176 - __main__ - INFO - - Número de clientes en el cluster = 8442\n",
      "2024-11-27 19:34:49,178 - __main__ - INFO - - Número de simulaciones en el cluster = 2441.53\n",
      "2024-11-27 19:34:49,180 - __main__ - INFO - - Probabilidad de aceptación en el precio óptimo = 0.6132\n",
      "2024-11-27 19:34:49,181 - __main__ - INFO - - Número esperado de créditos aceptados = 1497\n",
      "2024-11-27 19:34:49,183 - __main__ - INFO - - Monto medio simulado = 2,978,766.91\n",
      "2024-11-27 19:34:49,188 - __main__ - INFO - - Plazo medio simulado = 27.58\n",
      "2024-11-27 19:34:49,193 - __main__ - INFO - - Probabilidad de no pago media = 0.0456\n",
      "\n",
      "2024-11-27 19:34:50,440 - __main__ - INFO - Cluster 2:\n",
      "2024-11-27 19:34:50,442 - __main__ - INFO - - Precio Máx. Revenue Esperado = 2.50%\n",
      "2024-11-27 19:34:50,445 - __main__ - INFO - - Revenue Esperado Máximo = 1,191,332,396.21\n",
      "2024-11-27 19:34:50,447 - __main__ - INFO - - Número de clientes en el cluster = 12532\n",
      "2024-11-27 19:34:50,449 - __main__ - INFO - - Número de simulaciones en el cluster = 2815.85\n",
      "2024-11-27 19:34:50,451 - __main__ - INFO - - Probabilidad de aceptación en el precio óptimo = 0.4004\n",
      "2024-11-27 19:34:50,452 - __main__ - INFO - - Número esperado de créditos aceptados = 1128\n",
      "2024-11-27 19:34:50,455 - __main__ - INFO - - Monto medio simulado = 2,718,959.00\n",
      "2024-11-27 19:34:50,457 - __main__ - INFO - - Plazo medio simulado = 27.48\n",
      "2024-11-27 19:34:50,459 - __main__ - INFO - - Probabilidad de no pago media = 0.0152\n",
      "\n",
      "2024-11-27 19:34:51,634 - __main__ - INFO - Cluster 26:\n",
      "2024-11-27 19:34:51,635 - __main__ - INFO - - Precio Máx. Revenue Esperado = 2.50%\n",
      "2024-11-27 19:34:51,637 - __main__ - INFO - - Revenue Esperado Máximo = 1,234,232,813.85\n",
      "2024-11-27 19:34:51,638 - __main__ - INFO - - Número de clientes en el cluster = 12060\n",
      "2024-11-27 19:34:51,641 - __main__ - INFO - - Número de simulaciones en el cluster = 2325.29\n",
      "2024-11-27 19:34:51,643 - __main__ - INFO - - Probabilidad de aceptación en el precio óptimo = 0.4003\n",
      "2024-11-27 19:34:51,645 - __main__ - INFO - - Número esperado de créditos aceptados = 931\n",
      "2024-11-27 19:34:51,648 - __main__ - INFO - - Monto medio simulado = 3,410,949.81\n",
      "2024-11-27 19:34:51,650 - __main__ - INFO - - Plazo medio simulado = 27.49\n",
      "2024-11-27 19:34:51,651 - __main__ - INFO - - Probabilidad de no pago media = 0.0149\n",
      "\n",
      "2024-11-27 19:34:52,390 - __main__ - INFO - Cluster 8:\n",
      "2024-11-27 19:34:52,392 - __main__ - INFO - - Precio Máx. Revenue Esperado = 1.00%\n",
      "2024-11-27 19:34:52,394 - __main__ - INFO - - Revenue Esperado Máximo = 165,964,416.41\n",
      "2024-11-27 19:34:52,396 - __main__ - INFO - - Número de clientes en el cluster = 3475\n",
      "2024-11-27 19:34:52,398 - __main__ - INFO - - Número de simulaciones en el cluster = 591.36\n",
      "2024-11-27 19:34:52,400 - __main__ - INFO - - Probabilidad de aceptación en el precio óptimo = 0.7393\n",
      "2024-11-27 19:34:52,402 - __main__ - INFO - - Número esperado de créditos aceptados = 437\n",
      "2024-11-27 19:34:52,404 - __main__ - INFO - - Monto medio simulado = 2,677,267.51\n",
      "2024-11-27 19:34:52,406 - __main__ - INFO - - Plazo medio simulado = 27.53\n",
      "2024-11-27 19:34:52,409 - __main__ - INFO - - Probabilidad de no pago media = 0.0478\n",
      "\n",
      "2024-11-27 19:34:53,030 - __main__ - INFO - Cluster 1:\n",
      "2024-11-27 19:34:53,031 - __main__ - INFO - - Precio Máx. Revenue Esperado = 2.50%\n",
      "2024-11-27 19:34:53,033 - __main__ - INFO - - Revenue Esperado Máximo = 222,647,021.76\n",
      "2024-11-27 19:34:53,035 - __main__ - INFO - - Número de clientes en el cluster = 3396\n",
      "2024-11-27 19:34:53,041 - __main__ - INFO - - Número de simulaciones en el cluster = 580.61\n",
      "2024-11-27 19:34:53,045 - __main__ - INFO - - Probabilidad de aceptación en el precio óptimo = 0.4008\n",
      "2024-11-27 19:34:53,047 - __main__ - INFO - - Número esperado de créditos aceptados = 233\n",
      "2024-11-27 19:34:53,050 - __main__ - INFO - - Monto medio simulado = 2,531,038.50\n",
      "2024-11-27 19:34:53,059 - __main__ - INFO - - Plazo medio simulado = 27.58\n",
      "2024-11-27 19:34:53,063 - __main__ - INFO - - Probabilidad de no pago media = 0.0457\n",
      "\n",
      "2024-11-27 19:34:53,745 - __main__ - INFO - Cluster 44:\n",
      "2024-11-27 19:34:53,746 - __main__ - INFO - - Precio Máx. Revenue Esperado = 1.37%\n",
      "2024-11-27 19:34:53,748 - __main__ - INFO - - Revenue Esperado Máximo = 297,560,579.03\n",
      "2024-11-27 19:34:53,750 - __main__ - INFO - - Número de clientes en el cluster = 3718\n",
      "2024-11-27 19:34:53,752 - __main__ - INFO - - Número de simulaciones en el cluster = 695.55\n",
      "2024-11-27 19:34:53,753 - __main__ - INFO - - Probabilidad de aceptación en el precio óptimo = 0.6161\n",
      "2024-11-27 19:34:53,757 - __main__ - INFO - - Número esperado de créditos aceptados = 429\n",
      "2024-11-27 19:34:53,758 - __main__ - INFO - - Monto medio simulado = 3,510,974.06\n",
      "2024-11-27 19:34:53,760 - __main__ - INFO - - Plazo medio simulado = 27.41\n",
      "2024-11-27 19:34:53,762 - __main__ - INFO - - Probabilidad de no pago media = 0.0448\n",
      "\n",
      "2024-11-27 19:34:54,509 - __main__ - INFO - Cluster 17:\n",
      "2024-11-27 19:34:54,511 - __main__ - INFO - - Precio Máx. Revenue Esperado = 1.38%\n",
      "2024-11-27 19:34:54,512 - __main__ - INFO - - Revenue Esperado Máximo = 261,324,264.46\n",
      "2024-11-27 19:34:54,514 - __main__ - INFO - - Número de clientes en el cluster = 4272\n",
      "2024-11-27 19:34:54,516 - __main__ - INFO - - Número de simulaciones en el cluster = 725.02\n",
      "2024-11-27 19:34:54,518 - __main__ - INFO - - Probabilidad de aceptación en el precio óptimo = 0.6099\n",
      "2024-11-27 19:34:54,520 - __main__ - INFO - - Número esperado de créditos aceptados = 442\n",
      "2024-11-27 19:34:54,522 - __main__ - INFO - - Monto medio simulado = 2,979,418.70\n",
      "2024-11-27 19:34:54,524 - __main__ - INFO - - Plazo medio simulado = 27.52\n",
      "2024-11-27 19:34:54,526 - __main__ - INFO - - Probabilidad de no pago media = 0.0457\n",
      "\n",
      "2024-11-27 19:34:55,176 - __main__ - INFO - Cluster 25:\n",
      "2024-11-27 19:34:55,177 - __main__ - INFO - - Precio Máx. Revenue Esperado = 2.50%\n",
      "2024-11-27 19:34:55,178 - __main__ - INFO - - Revenue Esperado Máximo = 236,039,248.36\n",
      "2024-11-27 19:34:55,180 - __main__ - INFO - - Número de clientes en el cluster = 3333\n",
      "2024-11-27 19:34:55,182 - __main__ - INFO - - Número de simulaciones en el cluster = 462.05\n",
      "2024-11-27 19:34:55,183 - __main__ - INFO - - Probabilidad de aceptación en el precio óptimo = 0.4036\n",
      "2024-11-27 19:34:55,185 - __main__ - INFO - - Número esperado de créditos aceptados = 186\n",
      "2024-11-27 19:34:55,187 - __main__ - INFO - - Monto medio simulado = 3,354,473.57\n",
      "2024-11-27 19:34:55,190 - __main__ - INFO - - Plazo medio simulado = 27.50\n",
      "2024-11-27 19:34:55,191 - __main__ - INFO - - Probabilidad de no pago media = 0.0442\n",
      "\n",
      "2024-11-27 19:34:56,226 - __main__ - INFO - Cluster 24:\n",
      "2024-11-27 19:34:56,228 - __main__ - INFO - - Precio Máx. Revenue Esperado = 2.50%\n",
      "2024-11-27 19:34:56,229 - __main__ - INFO - - Revenue Esperado Máximo = 939,809,217.21\n",
      "2024-11-27 19:34:56,230 - __main__ - INFO - - Número de clientes en el cluster = 11887\n",
      "2024-11-27 19:34:56,232 - __main__ - INFO - - Número de simulaciones en el cluster = 1725.55\n",
      "2024-11-27 19:34:56,233 - __main__ - INFO - - Probabilidad de aceptación en el precio óptimo = 0.4013\n",
      "2024-11-27 19:34:56,235 - __main__ - INFO - - Número esperado de créditos aceptados = 692\n",
      "2024-11-27 19:34:56,240 - __main__ - INFO - - Monto medio simulado = 3,491,088.13\n",
      "2024-11-27 19:34:56,243 - __main__ - INFO - - Plazo medio simulado = 27.48\n",
      "2024-11-27 19:34:56,244 - __main__ - INFO - - Probabilidad de no pago media = 0.0147\n",
      "\n",
      "2024-11-27 19:34:57,215 - __main__ - INFO - Cluster 47:\n",
      "2024-11-27 19:34:57,216 - __main__ - INFO - - Precio Máx. Revenue Esperado = 1.38%\n",
      "2024-11-27 19:34:57,217 - __main__ - INFO - - Revenue Esperado Máximo = 823,752,709.73\n",
      "2024-11-27 19:34:57,218 - __main__ - INFO - - Número de clientes en el cluster = 7574\n",
      "2024-11-27 19:34:57,220 - __main__ - INFO - - Número de simulaciones en el cluster = 1955.21\n",
      "2024-11-27 19:34:57,223 - __main__ - INFO - - Probabilidad de aceptación en el precio óptimo = 0.6119\n",
      "2024-11-27 19:34:57,225 - __main__ - INFO - - Número esperado de créditos aceptados = 1196\n",
      "2024-11-27 19:34:57,227 - __main__ - INFO - - Monto medio simulado = 3,453,895.23\n",
      "2024-11-27 19:34:57,228 - __main__ - INFO - - Plazo medio simulado = 27.62\n",
      "2024-11-27 19:34:57,230 - __main__ - INFO - - Probabilidad de no pago media = 0.0445\n",
      "\n",
      "2024-11-27 19:34:58,041 - __main__ - INFO - Cluster 38:\n",
      "2024-11-27 19:34:58,042 - __main__ - INFO - - Precio Máx. Revenue Esperado = 1.00%\n",
      "2024-11-27 19:34:58,044 - __main__ - INFO - - Revenue Esperado Máximo = 449,844,986.14\n",
      "2024-11-27 19:34:58,046 - __main__ - INFO - - Número de clientes en el cluster = 5579\n",
      "2024-11-27 19:34:58,049 - __main__ - INFO - - Número de simulaciones en el cluster = 1441.11\n",
      "2024-11-27 19:34:58,051 - __main__ - INFO - - Probabilidad de aceptación en el precio óptimo = 0.7418\n",
      "2024-11-27 19:34:58,056 - __main__ - INFO - - Número esperado de créditos aceptados = 1069\n",
      "2024-11-27 19:34:58,058 - __main__ - INFO - - Monto medio simulado = 2,974,088.81\n",
      "2024-11-27 19:34:58,061 - __main__ - INFO - - Plazo medio simulado = 27.44\n",
      "2024-11-27 19:34:58,065 - __main__ - INFO - - Probabilidad de no pago media = 0.0466\n",
      "\n",
      "2024-11-27 19:34:58,664 - __main__ - INFO - Cluster 41:\n",
      "2024-11-27 19:34:58,665 - __main__ - INFO - - Precio Máx. Revenue Esperado = 1.36%\n",
      "2024-11-27 19:34:58,667 - __main__ - INFO - - Revenue Esperado Máximo = 226,156,259.97\n",
      "2024-11-27 19:34:58,668 - __main__ - INFO - - Número de clientes en el cluster = 3840\n",
      "2024-11-27 19:34:58,670 - __main__ - INFO - - Número de simulaciones en el cluster = 532.85\n",
      "2024-11-27 19:34:58,673 - __main__ - INFO - - Probabilidad de aceptación en el precio óptimo = 0.6223\n",
      "2024-11-27 19:34:58,675 - __main__ - INFO - - Número esperado de créditos aceptados = 332\n",
      "2024-11-27 19:34:58,677 - __main__ - INFO - - Monto medio simulado = 3,470,001.66\n",
      "2024-11-27 19:34:58,679 - __main__ - INFO - - Plazo medio simulado = 27.54\n",
      "2024-11-27 19:34:58,681 - __main__ - INFO - - Probabilidad de no pago media = 0.0445\n",
      "\n",
      "2024-11-27 19:34:59,322 - __main__ - INFO - Cluster 27:\n",
      "2024-11-27 19:34:59,324 - __main__ - INFO - - Precio Máx. Revenue Esperado = 2.50%\n",
      "2024-11-27 19:34:59,325 - __main__ - INFO - - Revenue Esperado Máximo = 308,963,603.23\n",
      "2024-11-27 19:34:59,328 - __main__ - INFO - - Número de clientes en el cluster = 3429\n",
      "2024-11-27 19:34:59,330 - __main__ - INFO - - Número de simulaciones en el cluster = 645.35\n",
      "2024-11-27 19:34:59,332 - __main__ - INFO - - Probabilidad de aceptación en el precio óptimo = 0.3909\n",
      "2024-11-27 19:34:59,334 - __main__ - INFO - - Número esperado de créditos aceptados = 252\n",
      "2024-11-27 19:34:59,338 - __main__ - INFO - - Monto medio simulado = 3,270,176.29\n",
      "2024-11-27 19:34:59,341 - __main__ - INFO - - Plazo medio simulado = 27.30\n",
      "2024-11-27 19:34:59,343 - __main__ - INFO - - Probabilidad de no pago media = 0.0441\n",
      "\n",
      "2024-11-27 19:35:00,350 - __main__ - INFO - Cluster 5:\n",
      "2024-11-27 19:35:00,350 - __main__ - INFO - - Precio Máx. Revenue Esperado = 2.50%\n",
      "2024-11-27 19:35:00,351 - __main__ - INFO - - Revenue Esperado Máximo = 765,346,769.40\n",
      "2024-11-27 19:35:00,355 - __main__ - INFO - - Número de clientes en el cluster = 6838\n",
      "2024-11-27 19:35:00,357 - __main__ - INFO - - Número de simulaciones en el cluster = 1975.85\n",
      "2024-11-27 19:35:00,359 - __main__ - INFO - - Probabilidad de aceptación en el precio óptimo = 0.4005\n",
      "2024-11-27 19:35:00,361 - __main__ - INFO - - Número esperado de créditos aceptados = 791\n",
      "2024-11-27 19:35:00,363 - __main__ - INFO - - Monto medio simulado = 2,572,921.06\n",
      "2024-11-27 19:35:00,365 - __main__ - INFO - - Plazo medio simulado = 27.44\n",
      "2024-11-27 19:35:00,367 - __main__ - INFO - - Probabilidad de no pago media = 0.0456\n",
      "\n",
      "2024-11-27 19:35:01,026 - __main__ - INFO - Cluster 11:\n",
      "2024-11-27 19:35:01,027 - __main__ - INFO - - Precio Máx. Revenue Esperado = 1.00%\n",
      "2024-11-27 19:35:01,028 - __main__ - INFO - - Revenue Esperado Máximo = 225,937,064.78\n",
      "2024-11-27 19:35:01,030 - __main__ - INFO - - Número de clientes en el cluster = 3590\n",
      "2024-11-27 19:35:01,032 - __main__ - INFO - - Número de simulaciones en el cluster = 774.17\n",
      "2024-11-27 19:35:01,035 - __main__ - INFO - - Probabilidad de aceptación en el precio óptimo = 0.7330\n",
      "2024-11-27 19:35:01,041 - __main__ - INFO - - Número esperado de créditos aceptados = 567\n",
      "2024-11-27 19:35:01,043 - __main__ - INFO - - Monto medio simulado = 2,803,691.65\n",
      "2024-11-27 19:35:01,045 - __main__ - INFO - - Plazo medio simulado = 27.57\n",
      "2024-11-27 19:35:01,047 - __main__ - INFO - - Probabilidad de no pago media = 0.0478\n",
      "\n",
      "2024-11-27 19:35:01,659 - __main__ - INFO - Cluster 32:\n",
      "2024-11-27 19:35:01,661 - __main__ - INFO - - Precio Máx. Revenue Esperado = 1.00%\n",
      "2024-11-27 19:35:01,662 - __main__ - INFO - - Revenue Esperado Máximo = 113,456,290.90\n",
      "2024-11-27 19:35:01,663 - __main__ - INFO - - Número de clientes en el cluster = 2576\n",
      "2024-11-27 19:35:01,665 - __main__ - INFO - - Número de simulaciones en el cluster = 359.85\n",
      "2024-11-27 19:35:01,667 - __main__ - INFO - - Probabilidad de aceptación en el precio óptimo = 0.7438\n",
      "2024-11-27 19:35:01,669 - __main__ - INFO - - Número esperado de créditos aceptados = 268\n",
      "2024-11-27 19:35:01,671 - __main__ - INFO - - Monto medio simulado = 2,998,977.25\n",
      "2024-11-27 19:35:01,673 - __main__ - INFO - - Plazo medio simulado = 27.41\n",
      "2024-11-27 19:35:01,675 - __main__ - INFO - - Probabilidad de no pago media = 0.0467\n",
      "\n",
      "2024-11-27 19:35:02,145 - __main__ - INFO - Cluster 46:\n",
      "2024-11-27 19:35:02,147 - __main__ - INFO - - Precio Máx. Revenue Esperado = 1.29%\n",
      "2024-11-27 19:35:02,148 - __main__ - INFO - - Revenue Esperado Máximo = 240,249,589.09\n",
      "2024-11-27 19:35:02,150 - __main__ - INFO - - Número de clientes en el cluster = 17\n",
      "2024-11-27 19:35:02,154 - __main__ - INFO - - Número de simulaciones en el cluster = 5.17\n",
      "2024-11-27 19:35:02,155 - __main__ - INFO - - Probabilidad de aceptación en el precio óptimo = 0.6132\n",
      "2024-11-27 19:35:02,160 - __main__ - INFO - - Número esperado de créditos aceptados = 3\n",
      "2024-11-27 19:35:02,161 - __main__ - INFO - - Monto medio simulado = 411,795,722.56\n",
      "2024-11-27 19:35:02,164 - __main__ - INFO - - Plazo medio simulado = 26.14\n",
      "2024-11-27 19:35:02,165 - __main__ - INFO - - Probabilidad de no pago media = 0.0005\n",
      "\n",
      "2024-11-27 19:35:02,670 - __main__ - INFO - Cluster 19:\n",
      "2024-11-27 19:35:02,672 - __main__ - INFO - - Precio Máx. Revenue Esperado = 1.20%\n",
      "2024-11-27 19:35:02,673 - __main__ - INFO - - Revenue Esperado Máximo = 83,809,641.91\n",
      "2024-11-27 19:35:02,675 - __main__ - INFO - - Número de clientes en el cluster = 4\n",
      "2024-11-27 19:35:02,677 - __main__ - INFO - - Número de simulaciones en el cluster = 1.64\n",
      "2024-11-27 19:35:02,679 - __main__ - INFO - - Probabilidad de aceptación en el precio óptimo = 0.7018\n",
      "2024-11-27 19:35:02,684 - __main__ - INFO - - Número esperado de créditos aceptados = 1\n",
      "2024-11-27 19:35:02,691 - __main__ - INFO - - Monto medio simulado = 395,823,878.92\n",
      "2024-11-27 19:35:02,698 - __main__ - INFO - - Plazo medio simulado = 28.19\n",
      "2024-11-27 19:35:02,705 - __main__ - INFO - - Probabilidad de no pago media = 0.0003\n",
      "\n",
      "2024-11-27 19:35:03,227 - __main__ - INFO - Cluster 40:\n",
      "2024-11-27 19:35:03,228 - __main__ - INFO - - Precio Máx. Revenue Esperado = 1.82%\n",
      "2024-11-27 19:35:03,230 - __main__ - INFO - - Revenue Esperado Máximo = 100,152,324.57\n",
      "2024-11-27 19:35:03,232 - __main__ - INFO - - Número de clientes en el cluster = 5\n",
      "2024-11-27 19:35:03,234 - __main__ - INFO - - Número de simulaciones en el cluster = 1.41\n",
      "2024-11-27 19:35:03,237 - __main__ - INFO - - Probabilidad de aceptación en el precio óptimo = 0.5187\n",
      "2024-11-27 19:35:03,239 - __main__ - INFO - - Número esperado de créditos aceptados = 1\n",
      "2024-11-27 19:35:03,241 - __main__ - INFO - - Monto medio simulado = 422,995,207.44\n",
      "2024-11-27 19:35:03,243 - __main__ - INFO - - Plazo medio simulado = 31.65\n",
      "2024-11-27 19:35:03,245 - __main__ - INFO - - Probabilidad de no pago media = 0.0003\n",
      "\n",
      "2024-11-27 19:35:03,761 - __main__ - INFO - Cluster 37:\n",
      "2024-11-27 19:35:03,762 - __main__ - INFO - - Precio Máx. Revenue Esperado = 1.00%\n",
      "2024-11-27 19:35:03,764 - __main__ - INFO - - Revenue Esperado Máximo = 460,698,814.84\n",
      "2024-11-27 19:35:03,766 - __main__ - INFO - - Número de clientes en el cluster = 32\n",
      "2024-11-27 19:35:03,768 - __main__ - INFO - - Número de simulaciones en el cluster = 9.85\n",
      "2024-11-27 19:35:03,772 - __main__ - INFO - - Probabilidad de aceptación en el precio óptimo = 0.7600\n",
      "2024-11-27 19:35:03,773 - __main__ - INFO - - Número esperado de créditos aceptados = 7\n",
      "2024-11-27 19:35:03,774 - __main__ - INFO - - Monto medio simulado = 423,635,923.04\n",
      "2024-11-27 19:35:03,776 - __main__ - INFO - - Plazo medio simulado = 26.85\n",
      "2024-11-27 19:35:03,778 - __main__ - INFO - - Probabilidad de no pago media = 0.0004\n",
      "\n",
      "2024-11-27 19:35:04,310 - __main__ - INFO - Cluster 34:\n",
      "2024-11-27 19:35:04,311 - __main__ - INFO - - Precio Máx. Revenue Esperado = 1.00%\n",
      "2024-11-27 19:35:04,313 - __main__ - INFO - - Revenue Esperado Máximo = 121,220,877.10\n",
      "2024-11-27 19:35:04,315 - __main__ - INFO - - Número de clientes en el cluster = 10\n",
      "2024-11-27 19:35:04,318 - __main__ - INFO - - Número de simulaciones en el cluster = 2.59\n",
      "2024-11-27 19:35:04,320 - __main__ - INFO - - Probabilidad de aceptación en el precio óptimo = 0.7471\n",
      "2024-11-27 19:35:04,322 - __main__ - INFO - - Número esperado de créditos aceptados = 2\n",
      "2024-11-27 19:35:04,324 - __main__ - INFO - - Monto medio simulado = 386,266,344.30\n",
      "2024-11-27 19:35:04,326 - __main__ - INFO - - Plazo medio simulado = 29.84\n",
      "2024-11-27 19:35:04,327 - __main__ - INFO - - Probabilidad de no pago media = 0.0006\n",
      "\n",
      "2024-11-27 19:35:04,874 - __main__ - INFO - Cluster 7:\n",
      "2024-11-27 19:35:04,876 - __main__ - INFO - - Precio Máx. Revenue Esperado = 1.02%\n",
      "2024-11-27 19:35:04,877 - __main__ - INFO - - Revenue Esperado Máximo = 74,444,545.88\n",
      "2024-11-27 19:35:04,878 - __main__ - INFO - - Número de clientes en el cluster = 7\n",
      "2024-11-27 19:35:04,880 - __main__ - INFO - - Número de simulaciones en el cluster = 1.73\n",
      "2024-11-27 19:35:04,882 - __main__ - INFO - - Probabilidad de aceptación en el precio óptimo = 0.6962\n",
      "2024-11-27 19:35:04,884 - __main__ - INFO - - Número esperado de créditos aceptados = 1\n",
      "2024-11-27 19:35:04,888 - __main__ - INFO - - Monto medio simulado = 407,518,603.36\n",
      "2024-11-27 19:35:04,890 - __main__ - INFO - - Plazo medio simulado = 27.57\n",
      "2024-11-27 19:35:04,892 - __main__ - INFO - - Probabilidad de no pago media = 0.0007\n",
      "\n",
      "2024-11-27 19:35:05,363 - __main__ - INFO - Cluster 22:\n",
      "2024-11-27 19:35:05,364 - __main__ - INFO - - Precio Máx. Revenue Esperado = 1.35%\n",
      "2024-11-27 19:35:05,366 - __main__ - INFO - - Revenue Esperado Máximo = 148,177,517.74\n",
      "2024-11-27 19:35:05,370 - __main__ - INFO - - Número de clientes en el cluster = 9\n",
      "2024-11-27 19:35:05,372 - __main__ - INFO - - Número de simulaciones en el cluster = 3.09\n",
      "2024-11-27 19:35:05,373 - __main__ - INFO - - Probabilidad de aceptación en el precio óptimo = 0.6335\n",
      "2024-11-27 19:35:05,375 - __main__ - INFO - - Número esperado de créditos aceptados = 2\n",
      "2024-11-27 19:35:05,377 - __main__ - INFO - - Monto medio simulado = 370,046,848.10\n",
      "2024-11-27 19:35:05,379 - __main__ - INFO - - Plazo medio simulado = 27.59\n",
      "2024-11-27 19:35:05,381 - __main__ - INFO - - Probabilidad de no pago media = 0.0006\n",
      "\n",
      "2024-11-27 19:35:05,850 - __main__ - INFO - Cluster 13:\n",
      "2024-11-27 19:35:05,852 - __main__ - INFO - - Precio Máx. Revenue Esperado = 1.00%\n",
      "2024-11-27 19:35:05,855 - __main__ - INFO - - Revenue Esperado Máximo = 272,595,350.44\n",
      "2024-11-27 19:35:05,856 - __main__ - INFO - - Número de clientes en el cluster = 17\n",
      "2024-11-27 19:35:05,858 - __main__ - INFO - - Número de simulaciones en el cluster = 5.64\n",
      "2024-11-27 19:35:05,860 - __main__ - INFO - - Probabilidad de aceptación en el precio óptimo = 0.7813\n",
      "2024-11-27 19:35:05,862 - __main__ - INFO - - Número esperado de créditos aceptados = 4\n",
      "2024-11-27 19:35:05,865 - __main__ - INFO - - Monto medio simulado = 401,400,580.31\n",
      "2024-11-27 19:35:05,869 - __main__ - INFO - - Plazo medio simulado = 28.44\n",
      "2024-11-27 19:35:05,874 - __main__ - INFO - - Probabilidad de no pago media = 0.0005\n",
      "\n",
      "2024-11-27 19:35:06,376 - __main__ - INFO - Cluster 43:\n",
      "2024-11-27 19:35:06,378 - __main__ - INFO - - Precio Máx. Revenue Esperado = 1.26%\n",
      "2024-11-27 19:35:06,382 - __main__ - INFO - - Revenue Esperado Máximo = 103,192,831.33\n",
      "2024-11-27 19:35:06,384 - __main__ - INFO - - Número de clientes en el cluster = 8\n",
      "2024-11-27 19:35:06,388 - __main__ - INFO - - Número de simulaciones en el cluster = 2.03\n",
      "2024-11-27 19:35:06,389 - __main__ - INFO - - Probabilidad de aceptación en el precio óptimo = 0.6368\n",
      "2024-11-27 19:35:06,391 - __main__ - INFO - - Número esperado de créditos aceptados = 1\n",
      "2024-11-27 19:35:06,393 - __main__ - INFO - - Monto medio simulado = 418,719,658.41\n",
      "2024-11-27 19:35:06,395 - __main__ - INFO - - Plazo medio simulado = 27.71\n",
      "2024-11-27 19:35:06,399 - __main__ - INFO - - Probabilidad de no pago media = 0.0006\n",
      "\n",
      "2024-11-27 19:35:06,875 - __main__ - INFO - Cluster 16:\n",
      "2024-11-27 19:35:06,877 - __main__ - INFO - - Precio Máx. Revenue Esperado = 1.34%\n",
      "2024-11-27 19:35:06,879 - __main__ - INFO - - Revenue Esperado Máximo = 54,988,206.62\n",
      "2024-11-27 19:35:06,880 - __main__ - INFO - - Número de clientes en el cluster = 3\n",
      "2024-11-27 19:35:06,882 - __main__ - INFO - - Número de simulaciones en el cluster = 1.14\n",
      "2024-11-27 19:35:06,884 - __main__ - INFO - - Probabilidad de aceptación en el precio óptimo = 0.7236\n",
      "2024-11-27 19:35:06,886 - __main__ - INFO - - Número esperado de créditos aceptados = 1\n",
      "2024-11-27 19:35:06,888 - __main__ - INFO - - Monto medio simulado = 323,551,913.88\n",
      "2024-11-27 19:35:06,889 - __main__ - INFO - - Plazo medio simulado = 27.98\n",
      "2024-11-27 19:35:06,891 - __main__ - INFO - - Probabilidad de no pago media = 0.0006\n",
      "\n",
      "2024-11-27 19:35:07,358 - __main__ - INFO - Cluster 31:\n",
      "2024-11-27 19:35:07,360 - __main__ - INFO - - Precio Máx. Revenue Esperado = 1.00%\n",
      "2024-11-27 19:35:07,362 - __main__ - INFO - - Revenue Esperado Máximo = 106,176,352.27\n",
      "2024-11-27 19:35:07,364 - __main__ - INFO - - Número de clientes en el cluster = 12\n",
      "2024-11-27 19:35:07,368 - __main__ - INFO - - Número de simulaciones en el cluster = 2.39\n",
      "2024-11-27 19:35:07,370 - __main__ - INFO - - Probabilidad de aceptación en el precio óptimo = 0.6820\n",
      "2024-11-27 19:35:07,372 - __main__ - INFO - - Número esperado de créditos aceptados = 2\n",
      "2024-11-27 19:35:07,376 - __main__ - INFO - - Monto medio simulado = 464,619,711.95\n",
      "2024-11-27 19:35:07,378 - __main__ - INFO - - Plazo medio simulado = 25.86\n",
      "2024-11-27 19:35:07,387 - __main__ - INFO - - Probabilidad de no pago media = 0.0005\n",
      "\n",
      "2024-11-27 19:35:07,883 - __main__ - INFO - Cluster 10:\n",
      "2024-11-27 19:35:07,884 - __main__ - INFO - - Precio Máx. Revenue Esperado = 1.02%\n",
      "2024-11-27 19:35:07,888 - __main__ - INFO - - Revenue Esperado Máximo = 54,381,579.95\n",
      "2024-11-27 19:35:07,890 - __main__ - INFO - - Número de clientes en el cluster = 3\n",
      "2024-11-27 19:35:07,892 - __main__ - INFO - - Número de simulaciones en el cluster = 1.36\n",
      "2024-11-27 19:35:07,894 - __main__ - INFO - - Probabilidad de aceptación en el precio óptimo = 0.7639\n",
      "2024-11-27 19:35:07,896 - __main__ - INFO - - Número esperado de créditos aceptados = 1\n",
      "2024-11-27 19:35:07,897 - __main__ - INFO - - Monto medio simulado = 409,795,412.79\n",
      "2024-11-27 19:35:07,899 - __main__ - INFO - - Plazo medio simulado = 23.13\n",
      "2024-11-27 19:35:07,902 - __main__ - INFO - - Probabilidad de no pago media = 0.0004\n",
      "\n",
      "2024-11-27 19:35:08,384 - __main__ - INFO - El revenue total esperado es: 106,788,129,894.53 con un total de 542904 clientes, 129,038.54 simulaciones, y 80422 créditos.\n",
      "2024-11-27 19:35:10,437 - __main__ - INFO - total_revenue: 106788129894.5339, total_clientes: 542904, total_simulaciones: 129038.53609226696, total_creditos: 80422\n",
      "2024-11-27 19:35:33,045 - __main__ - INFO - Estimación de respuesta a tratamientos completada.\n",
      "2024-11-27 19:35:39,186 - __main__ - INFO - Llamando al modelo de asignación de tratamientos...\n",
      "2024-11-27 19:35:39,187 - __main__ - INFO - Iniciando modelo de asignación de tratamientos...\n",
      "2024-11-27 19:35:39,189 - __main__ - INFO - Procesando datos de probabilidades y asignando IDs de tratamiento...\n",
      "2024-11-27 19:35:39,195 - __main__ - INFO - Fusionando probabilidades con información de RUT...\n",
      "2024-11-27 19:35:39,362 - __main__ - INFO - Fusionando información de RUT con información de clusters...\n",
      "2024-11-27 19:35:39,510 - __main__ - INFO - Agrupando información por cluster...\n",
      "2024-11-27 19:35:41,047 - __main__ - INFO - Calculando Revenue Calculado (RC)...\n",
      "2024-11-27 19:35:41,055 - __main__ - INFO - Preparando matriz de beneficios para optimización...\n",
      "2024-11-27 19:35:41,087 - __main__ - INFO - Inicializando modelo de optimización con Gurobi...\n",
      "2024-11-27 19:35:41,088 - __main__ - INFO - Creando variables de decisión...\n",
      "2024-11-27 19:35:41,099 - __main__ - INFO - Agregando restricción de un tratamiento por cliente...\n",
      "2024-11-27 19:35:41,111 - __main__ - INFO - Agregando restricción de capacidad para ejecutivos...\n",
      "2024-11-27 19:35:41,116 - __main__ - INFO - Agregando restricciones de consistencia por cluster...\n",
      "2024-11-27 19:35:41,122 - __main__ - INFO - Iniciando optimización con Gurobi...\n"
     ]
    },
    {
     "name": "stdout",
     "output_type": "stream",
     "text": [
      "Gurobi Optimizer version 11.0.3 build v11.0.3rc0 (win64 - Windows 10.0 (19045.2))\n"
     ]
    },
    {
     "name": "stderr",
     "output_type": "stream",
     "text": [
      "2024-11-27 19:35:41,128 - gurobipy - INFO - Gurobi Optimizer version 11.0.3 build v11.0.3rc0 (win64 - Windows 10.0 (19045.2))\n"
     ]
    },
    {
     "name": "stdout",
     "output_type": "stream",
     "text": [
      "\n"
     ]
    },
    {
     "name": "stderr",
     "output_type": "stream",
     "text": [
      "2024-11-27 19:35:41,132 - gurobipy - INFO - \n"
     ]
    },
    {
     "name": "stdout",
     "output_type": "stream",
     "text": [
      "CPU model: AMD Ryzen 5 2500U with Radeon Vega Mobile Gfx, instruction set [SSE2|AVX|AVX2]\n"
     ]
    },
    {
     "name": "stderr",
     "output_type": "stream",
     "text": [
      "2024-11-27 19:35:41,141 - gurobipy - INFO - CPU model: AMD Ryzen 5 2500U with Radeon Vega Mobile Gfx, instruction set [SSE2|AVX|AVX2]\n"
     ]
    },
    {
     "name": "stdout",
     "output_type": "stream",
     "text": [
      "Thread count: 4 physical cores, 8 logical processors, using up to 8 threads\n"
     ]
    },
    {
     "name": "stderr",
     "output_type": "stream",
     "text": [
      "2024-11-27 19:35:41,146 - gurobipy - INFO - Thread count: 4 physical cores, 8 logical processors, using up to 8 threads\n"
     ]
    },
    {
     "name": "stdout",
     "output_type": "stream",
     "text": [
      "\n"
     ]
    },
    {
     "name": "stderr",
     "output_type": "stream",
     "text": [
      "2024-11-27 19:35:41,151 - gurobipy - INFO - \n"
     ]
    },
    {
     "name": "stdout",
     "output_type": "stream",
     "text": [
      "Optimize a model with 49 rows, 379 columns and 523 nonzeros\n"
     ]
    },
    {
     "name": "stderr",
     "output_type": "stream",
     "text": [
      "2024-11-27 19:35:41,159 - gurobipy - INFO - Optimize a model with 49 rows, 379 columns and 523 nonzeros\n"
     ]
    },
    {
     "name": "stdout",
     "output_type": "stream",
     "text": [
      "Model fingerprint: 0x1ddf2df6\n"
     ]
    },
    {
     "name": "stderr",
     "output_type": "stream",
     "text": [
      "2024-11-27 19:35:41,162 - gurobipy - INFO - Model fingerprint: 0x1ddf2df6\n"
     ]
    },
    {
     "name": "stdout",
     "output_type": "stream",
     "text": [
      "Variable types: 0 continuous, 379 integer (379 binary)\n"
     ]
    },
    {
     "name": "stderr",
     "output_type": "stream",
     "text": [
      "2024-11-27 19:35:41,165 - gurobipy - INFO - Variable types: 0 continuous, 379 integer (379 binary)\n"
     ]
    },
    {
     "name": "stdout",
     "output_type": "stream",
     "text": [
      "Coefficient statistics:\n"
     ]
    },
    {
     "name": "stderr",
     "output_type": "stream",
     "text": [
      "2024-11-27 19:35:41,168 - gurobipy - INFO - Coefficient statistics:\n"
     ]
    },
    {
     "name": "stdout",
     "output_type": "stream",
     "text": [
      "  Matrix range     [1e+00, 5e+04]\n"
     ]
    },
    {
     "name": "stderr",
     "output_type": "stream",
     "text": [
      "2024-11-27 19:35:41,171 - gurobipy - INFO -   Matrix range     [1e+00, 5e+04]\n"
     ]
    },
    {
     "name": "stdout",
     "output_type": "stream",
     "text": [
      "  Objective range  [8e+06, 3e+10]\n"
     ]
    },
    {
     "name": "stderr",
     "output_type": "stream",
     "text": [
      "2024-11-27 19:35:41,178 - gurobipy - INFO -   Objective range  [8e+06, 3e+10]\n"
     ]
    },
    {
     "name": "stdout",
     "output_type": "stream",
     "text": [
      "  Bounds range     [1e+00, 1e+00]\n"
     ]
    },
    {
     "name": "stderr",
     "output_type": "stream",
     "text": [
      "2024-11-27 19:35:41,181 - gurobipy - INFO -   Bounds range     [1e+00, 1e+00]\n"
     ]
    },
    {
     "name": "stdout",
     "output_type": "stream",
     "text": [
      "  RHS range        [1e+00, 2e+05]\n"
     ]
    },
    {
     "name": "stderr",
     "output_type": "stream",
     "text": [
      "2024-11-27 19:35:41,184 - gurobipy - INFO -   RHS range        [1e+00, 2e+05]\n"
     ]
    },
    {
     "name": "stdout",
     "output_type": "stream",
     "text": [
      "Warning: Model contains large objective coefficients\n"
     ]
    },
    {
     "name": "stderr",
     "output_type": "stream",
     "text": [
      "2024-11-27 19:35:41,189 - gurobipy - INFO - Warning: Model contains large objective coefficients\n"
     ]
    },
    {
     "name": "stdout",
     "output_type": "stream",
     "text": [
      "         Consider reformulating model or setting NumericFocus parameter\n"
     ]
    },
    {
     "name": "stderr",
     "output_type": "stream",
     "text": [
      "2024-11-27 19:35:41,197 - gurobipy - INFO -          Consider reformulating model or setting NumericFocus parameter\n"
     ]
    },
    {
     "name": "stdout",
     "output_type": "stream",
     "text": [
      "         to avoid numerical issues.\n"
     ]
    },
    {
     "name": "stderr",
     "output_type": "stream",
     "text": [
      "2024-11-27 19:35:41,199 - gurobipy - INFO -          to avoid numerical issues.\n"
     ]
    },
    {
     "name": "stdout",
     "output_type": "stream",
     "text": [
      "Found heuristic solution: objective 6.399449e+10\n"
     ]
    },
    {
     "name": "stderr",
     "output_type": "stream",
     "text": [
      "2024-11-27 19:35:41,203 - gurobipy - INFO - Found heuristic solution: objective 6.399449e+10\n"
     ]
    },
    {
     "name": "stdout",
     "output_type": "stream",
     "text": [
      "Presolve removed 48 rows and 331 columns\n"
     ]
    },
    {
     "name": "stderr",
     "output_type": "stream",
     "text": [
      "2024-11-27 19:35:41,211 - gurobipy - INFO - Presolve removed 48 rows and 331 columns\n"
     ]
    },
    {
     "name": "stdout",
     "output_type": "stream",
     "text": [
      "Presolve time: 0.00s\n"
     ]
    },
    {
     "name": "stderr",
     "output_type": "stream",
     "text": [
      "2024-11-27 19:35:41,214 - gurobipy - INFO - Presolve time: 0.00s\n"
     ]
    },
    {
     "name": "stdout",
     "output_type": "stream",
     "text": [
      "Presolved: 1 rows, 48 columns, 48 nonzeros\n"
     ]
    },
    {
     "name": "stderr",
     "output_type": "stream",
     "text": [
      "2024-11-27 19:35:41,219 - gurobipy - INFO - Presolved: 1 rows, 48 columns, 48 nonzeros\n"
     ]
    },
    {
     "name": "stdout",
     "output_type": "stream",
     "text": [
      "Found heuristic solution: objective 1.111250e+11\n"
     ]
    },
    {
     "name": "stderr",
     "output_type": "stream",
     "text": [
      "2024-11-27 19:35:41,226 - gurobipy - INFO - Found heuristic solution: objective 1.111250e+11\n"
     ]
    },
    {
     "name": "stdout",
     "output_type": "stream",
     "text": [
      "Variable types: 0 continuous, 48 integer (48 binary)\n"
     ]
    },
    {
     "name": "stderr",
     "output_type": "stream",
     "text": [
      "2024-11-27 19:35:41,229 - gurobipy - INFO - Variable types: 0 continuous, 48 integer (48 binary)\n"
     ]
    },
    {
     "name": "stdout",
     "output_type": "stream",
     "text": [
      "\n"
     ]
    },
    {
     "name": "stderr",
     "output_type": "stream",
     "text": [
      "2024-11-27 19:35:41,237 - gurobipy - INFO - \n"
     ]
    },
    {
     "name": "stdout",
     "output_type": "stream",
     "text": [
      "Root relaxation: objective 1.239338e+11, 1 iterations, 0.00 seconds (0.00 work units)\n"
     ]
    },
    {
     "name": "stderr",
     "output_type": "stream",
     "text": [
      "2024-11-27 19:35:41,242 - gurobipy - INFO - Root relaxation: objective 1.239338e+11, 1 iterations, 0.00 seconds (0.00 work units)\n"
     ]
    },
    {
     "name": "stdout",
     "output_type": "stream",
     "text": [
      "\n"
     ]
    },
    {
     "name": "stderr",
     "output_type": "stream",
     "text": [
      "2024-11-27 19:35:41,268 - gurobipy - INFO - \n"
     ]
    },
    {
     "name": "stdout",
     "output_type": "stream",
     "text": [
      "    Nodes    |    Current Node    |     Objective Bounds      |     Work\n"
     ]
    },
    {
     "name": "stderr",
     "output_type": "stream",
     "text": [
      "2024-11-27 19:35:41,275 - gurobipy - INFO -     Nodes    |    Current Node    |     Objective Bounds      |     Work\n"
     ]
    },
    {
     "name": "stdout",
     "output_type": "stream",
     "text": [
      " Expl Unexpl |  Obj  Depth IntInf | Incumbent    BestBd   Gap | It/Node Time\n"
     ]
    },
    {
     "name": "stderr",
     "output_type": "stream",
     "text": [
      "2024-11-27 19:35:41,281 - gurobipy - INFO -  Expl Unexpl |  Obj  Depth IntInf | Incumbent    BestBd   Gap | It/Node Time\n"
     ]
    },
    {
     "name": "stdout",
     "output_type": "stream",
     "text": [
      "\n"
     ]
    },
    {
     "name": "stderr",
     "output_type": "stream",
     "text": [
      "2024-11-27 19:35:41,288 - gurobipy - INFO - \n"
     ]
    },
    {
     "name": "stdout",
     "output_type": "stream",
     "text": [
      "     0     0 1.2393e+11    0    1 1.1112e+11 1.2393e+11  11.5%     -    0s\n"
     ]
    },
    {
     "name": "stderr",
     "output_type": "stream",
     "text": [
      "2024-11-27 19:35:41,292 - gurobipy - INFO -      0     0 1.2393e+11    0    1 1.1112e+11 1.2393e+11  11.5%     -    0s\n"
     ]
    },
    {
     "name": "stdout",
     "output_type": "stream",
     "text": [
      "H    0     0                    1.166773e+11 1.2393e+11  6.22%     -    0s\n"
     ]
    },
    {
     "name": "stderr",
     "output_type": "stream",
     "text": [
      "2024-11-27 19:35:41,296 - gurobipy - INFO - H    0     0                    1.166773e+11 1.2393e+11  6.22%     -    0s\n"
     ]
    },
    {
     "name": "stdout",
     "output_type": "stream",
     "text": [
      "H    0     0                    1.220471e+11 1.2393e+11  1.55%     -    0s\n"
     ]
    },
    {
     "name": "stderr",
     "output_type": "stream",
     "text": [
      "2024-11-27 19:35:41,301 - gurobipy - INFO - H    0     0                    1.220471e+11 1.2393e+11  1.55%     -    0s\n"
     ]
    },
    {
     "name": "stdout",
     "output_type": "stream",
     "text": [
      "H    0     0                    1.221898e+11 1.2393e+11  1.43%     -    0s\n"
     ]
    },
    {
     "name": "stderr",
     "output_type": "stream",
     "text": [
      "2024-11-27 19:35:41,310 - gurobipy - INFO - H    0     0                    1.221898e+11 1.2393e+11  1.43%     -    0s\n"
     ]
    },
    {
     "name": "stdout",
     "output_type": "stream",
     "text": [
      "H    0     0                    1.223064e+11 1.2360e+11  1.06%     -    0s\n"
     ]
    },
    {
     "name": "stderr",
     "output_type": "stream",
     "text": [
      "2024-11-27 19:35:41,367 - gurobipy - INFO - H    0     0                    1.223064e+11 1.2360e+11  1.06%     -    0s\n"
     ]
    },
    {
     "name": "stdout",
     "output_type": "stream",
     "text": [
      "     0     0 1.2318e+11    0    1 1.2231e+11 1.2318e+11  0.71%     -    0s\n"
     ]
    },
    {
     "name": "stderr",
     "output_type": "stream",
     "text": [
      "2024-11-27 19:35:41,373 - gurobipy - INFO -      0     0 1.2318e+11    0    1 1.2231e+11 1.2318e+11  0.71%     -    0s\n"
     ]
    },
    {
     "name": "stdout",
     "output_type": "stream",
     "text": [
      "H    0     0                    1.230242e+11 1.2318e+11  0.12%     -    0s\n"
     ]
    },
    {
     "name": "stderr",
     "output_type": "stream",
     "text": [
      "2024-11-27 19:35:41,386 - gurobipy - INFO - H    0     0                    1.230242e+11 1.2318e+11  0.12%     -    0s\n"
     ]
    },
    {
     "name": "stdout",
     "output_type": "stream",
     "text": [
      "     0     0 1.2303e+11    0    1 1.2302e+11 1.2303e+11  0.00%     -    0s\n"
     ]
    },
    {
     "name": "stderr",
     "output_type": "stream",
     "text": [
      "2024-11-27 19:35:41,397 - gurobipy - INFO -      0     0 1.2303e+11    0    1 1.2302e+11 1.2303e+11  0.00%     -    0s\n"
     ]
    },
    {
     "name": "stdout",
     "output_type": "stream",
     "text": [
      "\n"
     ]
    },
    {
     "name": "stderr",
     "output_type": "stream",
     "text": [
      "2024-11-27 19:35:41,401 - gurobipy - INFO - \n"
     ]
    },
    {
     "name": "stdout",
     "output_type": "stream",
     "text": [
      "Cutting planes:\n"
     ]
    },
    {
     "name": "stderr",
     "output_type": "stream",
     "text": [
      "2024-11-27 19:35:41,404 - gurobipy - INFO - Cutting planes:\n"
     ]
    },
    {
     "name": "stdout",
     "output_type": "stream",
     "text": [
      "  Cover: 1\n"
     ]
    },
    {
     "name": "stderr",
     "output_type": "stream",
     "text": [
      "2024-11-27 19:35:41,409 - gurobipy - INFO -   Cover: 1\n"
     ]
    },
    {
     "name": "stdout",
     "output_type": "stream",
     "text": [
      "  MIR: 1\n"
     ]
    },
    {
     "name": "stderr",
     "output_type": "stream",
     "text": [
      "2024-11-27 19:35:41,413 - gurobipy - INFO -   MIR: 1\n"
     ]
    },
    {
     "name": "stdout",
     "output_type": "stream",
     "text": [
      "\n"
     ]
    },
    {
     "name": "stderr",
     "output_type": "stream",
     "text": [
      "2024-11-27 19:35:41,417 - gurobipy - INFO - \n"
     ]
    },
    {
     "name": "stdout",
     "output_type": "stream",
     "text": [
      "Explored 1 nodes (4 simplex iterations) in 0.26 seconds (0.00 work units)\n"
     ]
    },
    {
     "name": "stderr",
     "output_type": "stream",
     "text": [
      "2024-11-27 19:35:41,422 - gurobipy - INFO - Explored 1 nodes (4 simplex iterations) in 0.26 seconds (0.00 work units)\n"
     ]
    },
    {
     "name": "stdout",
     "output_type": "stream",
     "text": [
      "Thread count was 8 (of 8 available processors)\n"
     ]
    },
    {
     "name": "stderr",
     "output_type": "stream",
     "text": [
      "2024-11-27 19:35:41,426 - gurobipy - INFO - Thread count was 8 (of 8 available processors)\n"
     ]
    },
    {
     "name": "stdout",
     "output_type": "stream",
     "text": [
      "\n"
     ]
    },
    {
     "name": "stderr",
     "output_type": "stream",
     "text": [
      "2024-11-27 19:35:41,429 - gurobipy - INFO - \n"
     ]
    },
    {
     "name": "stdout",
     "output_type": "stream",
     "text": [
      "Solution count 7: 1.23024e+11 1.22306e+11 1.2219e+11 ... 6.39945e+10\n"
     ]
    },
    {
     "name": "stderr",
     "output_type": "stream",
     "text": [
      "2024-11-27 19:35:41,433 - gurobipy - INFO - Solution count 7: 1.23024e+11 1.22306e+11 1.2219e+11 ... 6.39945e+10\n"
     ]
    },
    {
     "name": "stdout",
     "output_type": "stream",
     "text": [
      "\n"
     ]
    },
    {
     "name": "stderr",
     "output_type": "stream",
     "text": [
      "2024-11-27 19:35:41,438 - gurobipy - INFO - \n"
     ]
    },
    {
     "name": "stdout",
     "output_type": "stream",
     "text": [
      "Optimal solution found (tolerance 1.00e-04)\n"
     ]
    },
    {
     "name": "stderr",
     "output_type": "stream",
     "text": [
      "2024-11-27 19:35:41,444 - gurobipy - INFO - Optimal solution found (tolerance 1.00e-04)\n"
     ]
    },
    {
     "name": "stdout",
     "output_type": "stream",
     "text": [
      "Best objective 1.230241690325e+11, best bound 1.230270520057e+11, gap 0.0023%\n"
     ]
    },
    {
     "name": "stderr",
     "output_type": "stream",
     "text": [
      "2024-11-27 19:35:41,447 - gurobipy - INFO - Best objective 1.230241690325e+11, best bound 1.230270520057e+11, gap 0.0023%\n",
      "2024-11-27 19:35:41,450 - __main__ - INFO - Optimización exitosa. Extrayendo resultados...\n",
      "2024-11-27 19:35:41,454 - __main__ - INFO - Ganancias totales: 123024169032.54\n",
      "2024-11-27 19:35:41,458 - __main__ - INFO - Executives used: 203896\n",
      "2024-11-27 19:35:41,460 - __main__ - INFO - Executives remaining: 1104\n",
      "2024-11-27 19:35:41,463 - __main__ - INFO - Optimización completada.\n",
      "2024-11-27 19:35:41,480 - __main__ - INFO - Recalculación de métricas completada.\n",
      "2024-11-27 19:35:42,687 - __main__ - INFO - Aplicando acción tipo: toggle_variable sobre variable: Elasticidad_Precios con parámetros: {}\n",
      "2024-11-27 19:35:42,689 - __main__ - INFO - Variable 'Elasticidad_Precios' incluida: 0\n",
      "2024-11-27 19:35:42,703 - __main__ - INFO - Recalculando clusters...\n",
      "2024-11-27 19:35:42,704 - __main__ - INFO - Realizando clustering...\n",
      "2024-11-27 19:35:42,728 - __main__ - INFO - Procesando variable: Genero\n",
      "2024-11-27 19:35:42,729 - __main__ - INFO - Procesando variable: Categoria_Digital\n",
      "2024-11-27 19:35:42,789 - __main__ - INFO - Variable categórica 'Categoria_Digital' separada en los grupos: ['Cliente no Digital' 'Cliente Digital']\n",
      "2024-11-27 19:35:42,791 - __main__ - INFO - Procesando variable: Elasticidad_Precios\n",
      "2024-11-27 19:35:42,793 - __main__ - INFO - Procesando variable: Nacionalidad\n",
      "2024-11-27 19:35:42,796 - __main__ - INFO - Procesando variable: Propension\n",
      "2024-11-27 19:35:42,825 - __main__ - INFO - Cortes para variable 'Propension': [0.25000111754547705, 0.5000001914137039]\n",
      "2024-11-27 19:35:42,827 - __main__ - INFO - Procesando variable: Probabilidad_No_Pago\n",
      "2024-11-27 19:35:42,845 - __main__ - INFO - Cortes para variable 'Probabilidad_No_Pago': [0.034999537924730456]\n",
      "2024-11-27 19:35:42,846 - __main__ - INFO - Procesando variable: Edad\n",
      "2024-11-27 19:35:42,847 - __main__ - INFO - Procesando variable: Renta\n",
      "2024-11-27 19:35:42,868 - __main__ - INFO - Cortes para variable 'Renta': [70944581.06383134]\n",
      "2024-11-27 19:35:42,870 - __main__ - INFO - Variables incluidas en clusterización: ['Categoria_Digital_cluster', 'Propension_cluster', 'Probabilidad_No_Pago_cluster', 'Renta_cluster']\n",
      "2024-11-27 19:36:00,383 - __main__ - INFO - Variables incluidas en este clustering: ['Categoria_Digital_cluster', 'Propension_cluster', 'Probabilidad_No_Pago_cluster', 'Renta_cluster']\n",
      "2024-11-27 19:36:00,385 - __main__ - INFO - Clustering completado. Número de clusters: 18\n",
      "2024-11-27 19:36:00,387 - __main__ - INFO - Recalculando métricas...\n",
      "2024-11-27 19:36:04,224 - __main__ - INFO - Estimando elasticidad...\n",
      "2024-11-27 19:36:12,874 - __main__ - INFO - Cluster 15:\n",
      "2024-11-27 19:36:12,876 - __main__ - INFO - - Precio Máx. Revenue Esperado = 1.22%\n",
      "2024-11-27 19:36:12,880 - __main__ - INFO - - Revenue Esperado Máximo = 26,454,897,146.96\n",
      "2024-11-27 19:36:12,882 - __main__ - INFO - - Número de clientes en el cluster = 116260\n",
      "2024-11-27 19:36:12,884 - __main__ - INFO - - Número de simulaciones en el cluster = 31723.64\n",
      "2024-11-27 19:36:12,886 - __main__ - INFO - - Probabilidad de aceptación en el precio óptimo = 0.5372\n",
      "2024-11-27 19:36:12,888 - __main__ - INFO - - Número esperado de créditos aceptados = 17043\n",
      "2024-11-27 19:36:12,890 - __main__ - INFO - - Monto medio simulado = 8,605,072.83\n",
      "2024-11-27 19:36:12,892 - __main__ - INFO - - Plazo medio simulado = 27.49\n",
      "2024-11-27 19:36:12,895 - __main__ - INFO - - Probabilidad de no pago media = 0.0116\n",
      "\n",
      "2024-11-27 19:36:16,800 - __main__ - INFO - Cluster 12:\n",
      "2024-11-27 19:36:16,802 - __main__ - INFO - - Precio Máx. Revenue Esperado = 1.22%\n",
      "2024-11-27 19:36:16,803 - __main__ - INFO - - Revenue Esperado Máximo = 9,908,243,760.58\n",
      "2024-11-27 19:36:16,804 - __main__ - INFO - - Número de clientes en el cluster = 58217\n",
      "2024-11-27 19:36:16,806 - __main__ - INFO - - Número de simulaciones en el cluster = 11724.74\n",
      "2024-11-27 19:36:16,808 - __main__ - INFO - - Probabilidad de aceptación en el precio óptimo = 0.5361\n",
      "2024-11-27 19:36:16,813 - __main__ - INFO - - Número esperado de créditos aceptados = 6286\n",
      "2024-11-27 19:36:16,814 - __main__ - INFO - - Monto medio simulado = 8,731,404.23\n",
      "2024-11-27 19:36:16,816 - __main__ - INFO - - Plazo medio simulado = 27.51\n",
      "2024-11-27 19:36:16,818 - __main__ - INFO - - Probabilidad de no pago media = 0.0115\n",
      "\n",
      "2024-11-27 19:36:20,777 - __main__ - INFO - Cluster 3:\n",
      "2024-11-27 19:36:20,779 - __main__ - INFO - - Precio Máx. Revenue Esperado = 1.23%\n",
      "2024-11-27 19:36:20,780 - __main__ - INFO - - Revenue Esperado Máximo = 8,220,950,603.18\n",
      "2024-11-27 19:36:20,782 - __main__ - INFO - - Número de clientes en el cluster = 56457\n",
      "2024-11-27 19:36:20,785 - __main__ - INFO - - Número de simulaciones en el cluster = 13005.58\n",
      "2024-11-27 19:36:20,787 - __main__ - INFO - - Probabilidad de aceptación en el precio óptimo = 0.5262\n",
      "2024-11-27 19:36:20,790 - __main__ - INFO - - Número esperado de créditos aceptados = 6844\n",
      "2024-11-27 19:36:20,793 - __main__ - INFO - - Monto medio simulado = 6,581,943.69\n",
      "2024-11-27 19:36:20,798 - __main__ - INFO - - Plazo medio simulado = 27.50\n",
      "2024-11-27 19:36:20,801 - __main__ - INFO - - Probabilidad de no pago media = 0.0125\n",
      "\n",
      "2024-11-27 19:36:21,990 - __main__ - INFO - Cluster 5:\n",
      "2024-11-27 19:36:21,992 - __main__ - INFO - - Precio Máx. Revenue Esperado = 1.36%\n",
      "2024-11-27 19:36:21,994 - __main__ - INFO - - Revenue Esperado Máximo = 624,643,429.02\n",
      "2024-11-27 19:36:21,996 - __main__ - INFO - - Número de clientes en el cluster = 11152\n",
      "2024-11-27 19:36:21,998 - __main__ - INFO - - Número de simulaciones en el cluster = 2410.48\n",
      "2024-11-27 19:36:22,000 - __main__ - INFO - - Probabilidad de aceptación en el precio óptimo = 0.4785\n",
      "2024-11-27 19:36:22,002 - __main__ - INFO - - Número esperado de créditos aceptados = 1153\n",
      "2024-11-27 19:36:22,004 - __main__ - INFO - - Monto medio simulado = 2,759,697.97\n",
      "2024-11-27 19:36:22,006 - __main__ - INFO - - Plazo medio simulado = 27.55\n",
      "2024-11-27 19:36:22,008 - __main__ - INFO - - Probabilidad de no pago media = 0.0463\n",
      "\n",
      "2024-11-27 19:36:31,157 - __main__ - INFO - Cluster 6:\n",
      "2024-11-27 19:36:31,158 - __main__ - INFO - - Precio Máx. Revenue Esperado = 1.23%\n",
      "2024-11-27 19:36:31,160 - __main__ - INFO - - Revenue Esperado Máximo = 21,075,071,621.29\n",
      "2024-11-27 19:36:31,162 - __main__ - INFO - - Número de clientes en el cluster = 112863\n",
      "2024-11-27 19:36:31,165 - __main__ - INFO - - Número de simulaciones en el cluster = 34100.17\n",
      "2024-11-27 19:36:31,169 - __main__ - INFO - - Probabilidad de aceptación en el precio óptimo = 0.5289\n",
      "2024-11-27 19:36:31,172 - __main__ - INFO - - Número esperado de créditos aceptados = 18037\n",
      "2024-11-27 19:36:31,175 - __main__ - INFO - - Monto medio simulado = 6,400,370.63\n",
      "2024-11-27 19:36:31,181 - __main__ - INFO - - Plazo medio simulado = 27.51\n",
      "2024-11-27 19:36:31,183 - __main__ - INFO - - Probabilidad de no pago media = 0.0126\n",
      "\n",
      "2024-11-27 19:36:34,563 - __main__ - INFO - Cluster 0:\n",
      "2024-11-27 19:36:34,565 - __main__ - INFO - - Precio Máx. Revenue Esperado = 1.22%\n",
      "2024-11-27 19:36:34,567 - __main__ - INFO - - Revenue Esperado Máximo = 6,549,725,114.43\n",
      "2024-11-27 19:36:34,569 - __main__ - INFO - - Número de clientes en el cluster = 56643\n",
      "2024-11-27 19:36:34,574 - __main__ - INFO - - Número de simulaciones en el cluster = 10345.83\n",
      "2024-11-27 19:36:34,577 - __main__ - INFO - - Probabilidad de aceptación en el precio óptimo = 0.5350\n",
      "2024-11-27 19:36:34,579 - __main__ - INFO - - Número esperado de créditos aceptados = 5535\n",
      "2024-11-27 19:36:34,581 - __main__ - INFO - - Monto medio simulado = 6,566,420.44\n",
      "2024-11-27 19:36:34,584 - __main__ - INFO - - Plazo medio simulado = 27.49\n",
      "2024-11-27 19:36:34,587 - __main__ - INFO - - Probabilidad de no pago media = 0.0125\n",
      "\n",
      "2024-11-27 19:36:35,628 - __main__ - INFO - Cluster 14:\n",
      "2024-11-27 19:36:35,629 - __main__ - INFO - - Precio Máx. Revenue Esperado = 1.42%\n",
      "2024-11-27 19:36:35,631 - __main__ - INFO - - Revenue Esperado Máximo = 571,429,132.12\n",
      "2024-11-27 19:36:35,633 - __main__ - INFO - - Número de clientes en el cluster = 9935\n",
      "2024-11-27 19:36:35,636 - __main__ - INFO - - Número de simulaciones en el cluster = 1859.24\n",
      "2024-11-27 19:36:35,639 - __main__ - INFO - - Probabilidad de aceptación en el precio óptimo = 0.4592\n",
      "2024-11-27 19:36:35,641 - __main__ - INFO - - Número esperado de créditos aceptados = 854\n",
      "2024-11-27 19:36:35,642 - __main__ - INFO - - Monto medio simulado = 3,274,666.99\n",
      "2024-11-27 19:36:35,644 - __main__ - INFO - - Plazo medio simulado = 27.42\n",
      "2024-11-27 19:36:35,647 - __main__ - INFO - - Probabilidad de no pago media = 0.0450\n",
      "\n",
      "2024-11-27 19:36:37,861 - __main__ - INFO - Cluster 8:\n",
      "2024-11-27 19:36:37,863 - __main__ - INFO - - Precio Máx. Revenue Esperado = 1.36%\n",
      "2024-11-27 19:36:37,865 - __main__ - INFO - - Revenue Esperado Máximo = 1,703,797,831.52\n",
      "2024-11-27 19:36:37,868 - __main__ - INFO - - Número de clientes en el cluster = 22480\n",
      "2024-11-27 19:36:37,870 - __main__ - INFO - - Número de simulaciones en el cluster = 6497.67\n",
      "2024-11-27 19:36:37,872 - __main__ - INFO - - Probabilidad de aceptación en el precio óptimo = 0.4785\n",
      "2024-11-27 19:36:37,874 - __main__ - INFO - - Número esperado de créditos aceptados = 3109\n",
      "2024-11-27 19:36:37,877 - __main__ - INFO - - Monto medio simulado = 2,795,666.68\n",
      "2024-11-27 19:36:37,878 - __main__ - INFO - - Plazo medio simulado = 27.51\n",
      "2024-11-27 19:36:37,880 - __main__ - INFO - - Probabilidad de no pago media = 0.0463\n",
      "\n",
      "2024-11-27 19:36:39,788 - __main__ - INFO - Cluster 17:\n",
      "2024-11-27 19:36:39,789 - __main__ - INFO - - Precio Máx. Revenue Esperado = 1.42%\n",
      "2024-11-27 19:36:39,791 - __main__ - INFO - - Revenue Esperado Máximo = 1,593,203,266.01\n",
      "2024-11-27 19:36:39,793 - __main__ - INFO - - Número de clientes en el cluster = 19820\n",
      "2024-11-27 19:36:39,796 - __main__ - INFO - - Número de simulaciones en el cluster = 5119.06\n",
      "2024-11-27 19:36:39,798 - __main__ - INFO - - Probabilidad de aceptación en el precio óptimo = 0.4610\n",
      "2024-11-27 19:36:39,800 - __main__ - INFO - - Número esperado de créditos aceptados = 2360\n",
      "2024-11-27 19:36:39,804 - __main__ - INFO - - Monto medio simulado = 3,284,865.86\n",
      "2024-11-27 19:36:39,806 - __main__ - INFO - - Plazo medio simulado = 27.57\n",
      "2024-11-27 19:36:39,808 - __main__ - INFO - - Probabilidad de no pago media = 0.0451\n",
      "\n",
      "2024-11-27 19:36:42,839 - __main__ - INFO - Cluster 9:\n",
      "2024-11-27 19:36:42,841 - __main__ - INFO - - Precio Máx. Revenue Esperado = 1.22%\n",
      "2024-11-27 19:36:42,842 - __main__ - INFO - - Revenue Esperado Máximo = 7,707,580,852.36\n",
      "2024-11-27 19:36:42,843 - __main__ - INFO - - Número de clientes en el cluster = 58058\n",
      "2024-11-27 19:36:42,846 - __main__ - INFO - - Número de simulaciones en el cluster = 8962.36\n",
      "2024-11-27 19:36:42,848 - __main__ - INFO - - Probabilidad de aceptación en el precio óptimo = 0.5352\n",
      "2024-11-27 19:36:42,850 - __main__ - INFO - - Número esperado de créditos aceptados = 4797\n",
      "2024-11-27 19:36:42,853 - __main__ - INFO - - Monto medio simulado = 8,902,807.21\n",
      "2024-11-27 19:36:42,855 - __main__ - INFO - - Plazo medio simulado = 27.50\n",
      "2024-11-27 19:36:42,857 - __main__ - INFO - - Probabilidad de no pago media = 0.0114\n",
      "\n",
      "2024-11-27 19:36:43,824 - __main__ - INFO - Cluster 2:\n",
      "2024-11-27 19:36:43,825 - __main__ - INFO - - Precio Máx. Revenue Esperado = 1.38%\n",
      "2024-11-27 19:36:43,826 - __main__ - INFO - - Revenue Esperado Máximo = 489,228,231.05\n",
      "2024-11-27 19:36:43,829 - __main__ - INFO - - Número de clientes en el cluster = 11143\n",
      "2024-11-27 19:36:43,831 - __main__ - INFO - - Número de simulaciones en el cluster = 1896.98\n",
      "2024-11-27 19:36:43,834 - __main__ - INFO - - Probabilidad de aceptación en el precio óptimo = 0.4730\n",
      "2024-11-27 19:36:43,837 - __main__ - INFO - - Número esperado de créditos aceptados = 897\n",
      "2024-11-27 19:36:43,838 - __main__ - INFO - - Monto medio simulado = 2,747,991.71\n",
      "2024-11-27 19:36:43,840 - __main__ - INFO - - Plazo medio simulado = 27.54\n",
      "2024-11-27 19:36:43,843 - __main__ - INFO - - Probabilidad de no pago media = 0.0464\n",
      "\n",
      "2024-11-27 19:36:44,682 - __main__ - INFO - Cluster 11:\n",
      "2024-11-27 19:36:44,685 - __main__ - INFO - - Precio Máx. Revenue Esperado = 1.42%\n",
      "2024-11-27 19:36:44,687 - __main__ - INFO - - Revenue Esperado Máximo = 426,950,220.16\n",
      "2024-11-27 19:36:44,688 - __main__ - INFO - - Número de clientes en el cluster = 9749\n",
      "2024-11-27 19:36:44,691 - __main__ - INFO - - Número de simulaciones en el cluster = 1354.74\n",
      "2024-11-27 19:36:44,694 - __main__ - INFO - - Probabilidad de aceptación en el precio óptimo = 0.4653\n",
      "2024-11-27 19:36:44,697 - __main__ - INFO - - Número esperado de créditos aceptados = 630\n",
      "2024-11-27 19:36:44,699 - __main__ - INFO - - Monto medio simulado = 3,305,485.78\n",
      "2024-11-27 19:36:44,701 - __main__ - INFO - - Plazo medio simulado = 27.49\n",
      "2024-11-27 19:36:44,703 - __main__ - INFO - - Probabilidad de no pago media = 0.0450\n",
      "\n",
      "2024-11-27 19:36:45,180 - __main__ - INFO - Cluster 16:\n",
      "2024-11-27 19:36:45,182 - __main__ - INFO - - Precio Máx. Revenue Esperado = 1.06%\n",
      "2024-11-27 19:36:45,184 - __main__ - INFO - - Revenue Esperado Máximo = 643,771,489.21\n",
      "2024-11-27 19:36:45,186 - __main__ - INFO - - Número de clientes en el cluster = 49\n",
      "2024-11-27 19:36:45,188 - __main__ - INFO - - Número de simulaciones en el cluster = 15.02\n",
      "2024-11-27 19:36:45,189 - __main__ - INFO - - Probabilidad de aceptación en el precio óptimo = 0.6698\n",
      "2024-11-27 19:36:45,191 - __main__ - INFO - - Número esperado de créditos aceptados = 10\n",
      "2024-11-27 19:36:45,193 - __main__ - INFO - - Monto medio simulado = 419,561,747.09\n",
      "2024-11-27 19:36:45,196 - __main__ - INFO - - Plazo medio simulado = 26.60\n",
      "2024-11-27 19:36:45,197 - __main__ - INFO - - Probabilidad de no pago media = 0.0005\n",
      "\n",
      "2024-11-27 19:36:45,673 - __main__ - INFO - Cluster 4:\n",
      "2024-11-27 19:36:45,675 - __main__ - INFO - - Precio Máx. Revenue Esperado = 1.11%\n",
      "2024-11-27 19:36:45,676 - __main__ - INFO - - Revenue Esperado Máximo = 101,273,937.82\n",
      "2024-11-27 19:36:45,680 - __main__ - INFO - - Número de clientes en el cluster = 7\n",
      "2024-11-27 19:36:45,682 - __main__ - INFO - - Número de simulaciones en el cluster = 2.24\n",
      "2024-11-27 19:36:45,685 - __main__ - INFO - - Probabilidad de aceptación en el precio óptimo = 0.7170\n",
      "2024-11-27 19:36:45,688 - __main__ - INFO - - Número esperado de créditos aceptados = 2\n",
      "2024-11-27 19:36:45,690 - __main__ - INFO - - Monto medio simulado = 401,519,965.81\n",
      "2024-11-27 19:36:45,693 - __main__ - INFO - - Plazo medio simulado = 26.13\n",
      "2024-11-27 19:36:45,697 - __main__ - INFO - - Probabilidad de no pago media = 0.0004\n",
      "\n",
      "2024-11-27 19:36:46,209 - __main__ - INFO - Cluster 10:\n",
      "2024-11-27 19:36:46,210 - __main__ - INFO - - Precio Máx. Revenue Esperado = 1.16%\n",
      "2024-11-27 19:36:46,211 - __main__ - INFO - - Revenue Esperado Máximo = 137,477,624.19\n",
      "2024-11-27 19:36:46,213 - __main__ - INFO - - Número de clientes en el cluster = 17\n",
      "2024-11-27 19:36:46,214 - __main__ - INFO - - Número de simulaciones en el cluster = 3.09\n",
      "2024-11-27 19:36:46,217 - __main__ - INFO - - Probabilidad de aceptación en el precio óptimo = 0.5663\n",
      "2024-11-27 19:36:46,219 - __main__ - INFO - - Número esperado de créditos aceptados = 2\n",
      "2024-11-27 19:36:46,220 - __main__ - INFO - - Monto medio simulado = 453,229,922.15\n",
      "2024-11-27 19:36:46,223 - __main__ - INFO - - Plazo medio simulado = 27.45\n",
      "2024-11-27 19:36:46,224 - __main__ - INFO - - Probabilidad de no pago media = 0.0005\n",
      "\n",
      "2024-11-27 19:36:46,784 - __main__ - INFO - Cluster 13:\n",
      "2024-11-27 19:36:46,785 - __main__ - INFO - - Precio Máx. Revenue Esperado = 1.08%\n",
      "2024-11-27 19:36:46,787 - __main__ - INFO - - Revenue Esperado Máximo = 185,876,216.61\n",
      "2024-11-27 19:36:46,788 - __main__ - INFO - - Número de clientes en el cluster = 18\n",
      "2024-11-27 19:36:46,791 - __main__ - INFO - - Número de simulaciones en el cluster = 4.27\n",
      "2024-11-27 19:36:46,793 - __main__ - INFO - - Probabilidad de aceptación en el precio óptimo = 0.6436\n",
      "2024-11-27 19:36:46,796 - __main__ - INFO - - Número esperado de créditos aceptados = 3\n",
      "2024-11-27 19:36:46,799 - __main__ - INFO - - Monto medio simulado = 400,536,595.89\n",
      "2024-11-27 19:36:46,801 - __main__ - INFO - - Plazo medio simulado = 28.90\n",
      "2024-11-27 19:36:46,803 - __main__ - INFO - - Probabilidad de no pago media = 0.0006\n",
      "\n",
      "2024-11-27 19:36:47,283 - __main__ - INFO - Cluster 1:\n",
      "2024-11-27 19:36:47,284 - __main__ - INFO - - Precio Máx. Revenue Esperado = 1.12%\n",
      "2024-11-27 19:36:47,286 - __main__ - INFO - - Revenue Esperado Máximo = 94,542,398.81\n",
      "2024-11-27 19:36:47,288 - __main__ - INFO - - Número de clientes en el cluster = 10\n",
      "2024-11-27 19:36:47,291 - __main__ - INFO - - Número de simulaciones en el cluster = 2.21\n",
      "2024-11-27 19:36:47,292 - __main__ - INFO - - Probabilidad de aceptación en el precio óptimo = 0.6670\n",
      "2024-11-27 19:36:47,295 - __main__ - INFO - - Número esperado de créditos aceptados = 1\n",
      "2024-11-27 19:36:47,300 - __main__ - INFO - - Monto medio simulado = 381,279,012.90\n",
      "2024-11-27 19:36:47,303 - __main__ - INFO - - Plazo medio simulado = 27.70\n",
      "2024-11-27 19:36:47,305 - __main__ - INFO - - Probabilidad de no pago media = 0.0007\n",
      "\n",
      "2024-11-27 19:36:47,846 - __main__ - INFO - Cluster 7:\n",
      "2024-11-27 19:36:47,848 - __main__ - INFO - - Precio Máx. Revenue Esperado = 1.09%\n",
      "2024-11-27 19:36:47,848 - __main__ - INFO - - Revenue Esperado Máximo = 388,365,475.69\n",
      "2024-11-27 19:36:47,851 - __main__ - INFO - - Número de clientes en el cluster = 26\n",
      "2024-11-27 19:36:47,853 - __main__ - INFO - - Número de simulaciones en el cluster = 8.68\n",
      "2024-11-27 19:36:47,854 - __main__ - INFO - - Probabilidad de aceptación en el precio óptimo = 0.6889\n",
      "2024-11-27 19:36:47,856 - __main__ - INFO - - Número esperado de créditos aceptados = 6\n",
      "2024-11-27 19:36:47,858 - __main__ - INFO - - Monto medio simulado = 390,402,150.68\n",
      "2024-11-27 19:36:47,861 - __main__ - INFO - - Plazo medio simulado = 28.14\n",
      "2024-11-27 19:36:47,862 - __main__ - INFO - - Probabilidad de no pago media = 0.0006\n",
      "\n",
      "2024-11-27 19:36:48,292 - __main__ - INFO - El revenue total esperado es: 86,877,028,351.02 con un total de 542904 clientes, 129,036.01 simulaciones, y 67569 créditos.\n",
      "2024-11-27 19:36:50,265 - __main__ - INFO - total_revenue: 86877028351.02196, total_clientes: 542904, total_simulaciones: 129036.01028052407, total_creditos: 67569\n",
      "2024-11-27 19:37:12,617 - __main__ - INFO - Estimación de respuesta a tratamientos completada.\n",
      "2024-11-27 19:37:18,905 - __main__ - INFO - Llamando al modelo de asignación de tratamientos...\n",
      "2024-11-27 19:37:18,907 - __main__ - INFO - Iniciando modelo de asignación de tratamientos...\n",
      "2024-11-27 19:37:18,911 - __main__ - INFO - Procesando datos de probabilidades y asignando IDs de tratamiento...\n",
      "2024-11-27 19:37:18,919 - __main__ - INFO - Fusionando probabilidades con información de RUT...\n",
      "2024-11-27 19:37:19,104 - __main__ - INFO - Fusionando información de RUT con información de clusters...\n",
      "2024-11-27 19:37:19,272 - __main__ - INFO - Agrupando información por cluster...\n",
      "2024-11-27 19:37:20,279 - __main__ - INFO - Calculando Revenue Calculado (RC)...\n",
      "2024-11-27 19:37:20,285 - __main__ - INFO - Preparando matriz de beneficios para optimización...\n",
      "2024-11-27 19:37:20,297 - __main__ - INFO - Inicializando modelo de optimización con Gurobi...\n",
      "2024-11-27 19:37:20,300 - __main__ - INFO - Creando variables de decisión...\n",
      "2024-11-27 19:37:20,307 - __main__ - INFO - Agregando restricción de un tratamiento por cliente...\n",
      "2024-11-27 19:37:20,310 - __main__ - INFO - Agregando restricción de capacidad para ejecutivos...\n",
      "2024-11-27 19:37:20,313 - __main__ - INFO - Agregando restricciones de consistencia por cluster...\n",
      "2024-11-27 19:37:20,317 - __main__ - INFO - Iniciando optimización con Gurobi...\n"
     ]
    },
    {
     "name": "stdout",
     "output_type": "stream",
     "text": [
      "Gurobi Optimizer version 11.0.3 build v11.0.3rc0 (win64 - Windows 10.0 (19045.2))\n"
     ]
    },
    {
     "name": "stderr",
     "output_type": "stream",
     "text": [
      "2024-11-27 19:37:20,322 - gurobipy - INFO - Gurobi Optimizer version 11.0.3 build v11.0.3rc0 (win64 - Windows 10.0 (19045.2))\n"
     ]
    },
    {
     "name": "stdout",
     "output_type": "stream",
     "text": [
      "\n"
     ]
    },
    {
     "name": "stderr",
     "output_type": "stream",
     "text": [
      "2024-11-27 19:37:20,324 - gurobipy - INFO - \n"
     ]
    },
    {
     "name": "stdout",
     "output_type": "stream",
     "text": [
      "CPU model: AMD Ryzen 5 2500U with Radeon Vega Mobile Gfx, instruction set [SSE2|AVX|AVX2]\n"
     ]
    },
    {
     "name": "stderr",
     "output_type": "stream",
     "text": [
      "2024-11-27 19:37:20,327 - gurobipy - INFO - CPU model: AMD Ryzen 5 2500U with Radeon Vega Mobile Gfx, instruction set [SSE2|AVX|AVX2]\n"
     ]
    },
    {
     "name": "stdout",
     "output_type": "stream",
     "text": [
      "Thread count: 4 physical cores, 8 logical processors, using up to 8 threads\n"
     ]
    },
    {
     "name": "stderr",
     "output_type": "stream",
     "text": [
      "2024-11-27 19:37:20,334 - gurobipy - INFO - Thread count: 4 physical cores, 8 logical processors, using up to 8 threads\n"
     ]
    },
    {
     "name": "stdout",
     "output_type": "stream",
     "text": [
      "\n"
     ]
    },
    {
     "name": "stderr",
     "output_type": "stream",
     "text": [
      "2024-11-27 19:37:20,337 - gurobipy - INFO - \n"
     ]
    },
    {
     "name": "stdout",
     "output_type": "stream",
     "text": [
      "Optimize a model with 19 rows, 143 columns and 197 nonzeros\n"
     ]
    },
    {
     "name": "stderr",
     "output_type": "stream",
     "text": [
      "2024-11-27 19:37:20,342 - gurobipy - INFO - Optimize a model with 19 rows, 143 columns and 197 nonzeros\n"
     ]
    },
    {
     "name": "stdout",
     "output_type": "stream",
     "text": [
      "Model fingerprint: 0x3adf8d3b\n"
     ]
    },
    {
     "name": "stderr",
     "output_type": "stream",
     "text": [
      "2024-11-27 19:37:20,345 - gurobipy - INFO - Model fingerprint: 0x3adf8d3b\n"
     ]
    },
    {
     "name": "stdout",
     "output_type": "stream",
     "text": [
      "Variable types: 0 continuous, 143 integer (143 binary)\n"
     ]
    },
    {
     "name": "stderr",
     "output_type": "stream",
     "text": [
      "2024-11-27 19:37:20,348 - gurobipy - INFO - Variable types: 0 continuous, 143 integer (143 binary)\n"
     ]
    },
    {
     "name": "stdout",
     "output_type": "stream",
     "text": [
      "Coefficient statistics:\n"
     ]
    },
    {
     "name": "stderr",
     "output_type": "stream",
     "text": [
      "2024-11-27 19:37:20,350 - gurobipy - INFO - Coefficient statistics:\n"
     ]
    },
    {
     "name": "stdout",
     "output_type": "stream",
     "text": [
      "  Matrix range     [1e+00, 1e+05]\n"
     ]
    },
    {
     "name": "stderr",
     "output_type": "stream",
     "text": [
      "2024-11-27 19:37:20,353 - gurobipy - INFO -   Matrix range     [1e+00, 1e+05]\n"
     ]
    },
    {
     "name": "stdout",
     "output_type": "stream",
     "text": [
      "  Objective range  [2e+07, 4e+10]\n"
     ]
    },
    {
     "name": "stderr",
     "output_type": "stream",
     "text": [
      "2024-11-27 19:37:20,356 - gurobipy - INFO -   Objective range  [2e+07, 4e+10]\n"
     ]
    },
    {
     "name": "stdout",
     "output_type": "stream",
     "text": [
      "  Bounds range     [1e+00, 1e+00]\n"
     ]
    },
    {
     "name": "stderr",
     "output_type": "stream",
     "text": [
      "2024-11-27 19:37:20,359 - gurobipy - INFO -   Bounds range     [1e+00, 1e+00]\n"
     ]
    },
    {
     "name": "stdout",
     "output_type": "stream",
     "text": [
      "  RHS range        [1e+00, 2e+05]\n"
     ]
    },
    {
     "name": "stderr",
     "output_type": "stream",
     "text": [
      "2024-11-27 19:37:20,365 - gurobipy - INFO -   RHS range        [1e+00, 2e+05]\n"
     ]
    },
    {
     "name": "stdout",
     "output_type": "stream",
     "text": [
      "Warning: Model contains large objective coefficients\n"
     ]
    },
    {
     "name": "stderr",
     "output_type": "stream",
     "text": [
      "2024-11-27 19:37:20,369 - gurobipy - INFO - Warning: Model contains large objective coefficients\n"
     ]
    },
    {
     "name": "stdout",
     "output_type": "stream",
     "text": [
      "         Consider reformulating model or setting NumericFocus parameter\n"
     ]
    },
    {
     "name": "stderr",
     "output_type": "stream",
     "text": [
      "2024-11-27 19:37:20,375 - gurobipy - INFO -          Consider reformulating model or setting NumericFocus parameter\n"
     ]
    },
    {
     "name": "stdout",
     "output_type": "stream",
     "text": [
      "         to avoid numerical issues.\n"
     ]
    },
    {
     "name": "stderr",
     "output_type": "stream",
     "text": [
      "2024-11-27 19:37:20,378 - gurobipy - INFO -          to avoid numerical issues.\n"
     ]
    },
    {
     "name": "stdout",
     "output_type": "stream",
     "text": [
      "Found heuristic solution: objective 5.238670e+10\n"
     ]
    },
    {
     "name": "stderr",
     "output_type": "stream",
     "text": [
      "2024-11-27 19:37:20,382 - gurobipy - INFO - Found heuristic solution: objective 5.238670e+10\n"
     ]
    },
    {
     "name": "stdout",
     "output_type": "stream",
     "text": [
      "Presolve removed 18 rows and 125 columns\n"
     ]
    },
    {
     "name": "stderr",
     "output_type": "stream",
     "text": [
      "2024-11-27 19:37:20,390 - gurobipy - INFO - Presolve removed 18 rows and 125 columns\n"
     ]
    },
    {
     "name": "stdout",
     "output_type": "stream",
     "text": [
      "Presolve time: 0.00s\n"
     ]
    },
    {
     "name": "stderr",
     "output_type": "stream",
     "text": [
      "2024-11-27 19:37:20,394 - gurobipy - INFO - Presolve time: 0.00s\n"
     ]
    },
    {
     "name": "stdout",
     "output_type": "stream",
     "text": [
      "Presolved: 1 rows, 18 columns, 18 nonzeros\n"
     ]
    },
    {
     "name": "stderr",
     "output_type": "stream",
     "text": [
      "2024-11-27 19:37:20,397 - gurobipy - INFO - Presolved: 1 rows, 18 columns, 18 nonzeros\n"
     ]
    },
    {
     "name": "stdout",
     "output_type": "stream",
     "text": [
      "Found heuristic solution: objective 8.846533e+10\n"
     ]
    },
    {
     "name": "stderr",
     "output_type": "stream",
     "text": [
      "2024-11-27 19:37:20,404 - gurobipy - INFO - Found heuristic solution: objective 8.846533e+10\n"
     ]
    },
    {
     "name": "stdout",
     "output_type": "stream",
     "text": [
      "Variable types: 0 continuous, 18 integer (18 binary)\n"
     ]
    },
    {
     "name": "stderr",
     "output_type": "stream",
     "text": [
      "2024-11-27 19:37:20,410 - gurobipy - INFO - Variable types: 0 continuous, 18 integer (18 binary)\n"
     ]
    },
    {
     "name": "stdout",
     "output_type": "stream",
     "text": [
      "\n"
     ]
    },
    {
     "name": "stderr",
     "output_type": "stream",
     "text": [
      "2024-11-27 19:37:20,415 - gurobipy - INFO - \n"
     ]
    },
    {
     "name": "stdout",
     "output_type": "stream",
     "text": [
      "Root relaxation: objective 9.847002e+10, 1 iterations, 0.00 seconds (0.00 work units)\n"
     ]
    },
    {
     "name": "stderr",
     "output_type": "stream",
     "text": [
      "2024-11-27 19:37:20,419 - gurobipy - INFO - Root relaxation: objective 9.847002e+10, 1 iterations, 0.00 seconds (0.00 work units)\n"
     ]
    },
    {
     "name": "stdout",
     "output_type": "stream",
     "text": [
      "\n"
     ]
    },
    {
     "name": "stderr",
     "output_type": "stream",
     "text": [
      "2024-11-27 19:37:20,436 - gurobipy - INFO - \n"
     ]
    },
    {
     "name": "stdout",
     "output_type": "stream",
     "text": [
      "    Nodes    |    Current Node    |     Objective Bounds      |     Work\n"
     ]
    },
    {
     "name": "stderr",
     "output_type": "stream",
     "text": [
      "2024-11-27 19:37:20,442 - gurobipy - INFO -     Nodes    |    Current Node    |     Objective Bounds      |     Work\n"
     ]
    },
    {
     "name": "stdout",
     "output_type": "stream",
     "text": [
      " Expl Unexpl |  Obj  Depth IntInf | Incumbent    BestBd   Gap | It/Node Time\n"
     ]
    },
    {
     "name": "stderr",
     "output_type": "stream",
     "text": [
      "2024-11-27 19:37:20,459 - gurobipy - INFO -  Expl Unexpl |  Obj  Depth IntInf | Incumbent    BestBd   Gap | It/Node Time\n"
     ]
    },
    {
     "name": "stdout",
     "output_type": "stream",
     "text": [
      "\n"
     ]
    },
    {
     "name": "stderr",
     "output_type": "stream",
     "text": [
      "2024-11-27 19:37:20,462 - gurobipy - INFO - \n"
     ]
    },
    {
     "name": "stdout",
     "output_type": "stream",
     "text": [
      "     0     0 9.8470e+10    0    1 8.8465e+10 9.8470e+10  11.3%     -    0s\n"
     ]
    },
    {
     "name": "stderr",
     "output_type": "stream",
     "text": [
      "2024-11-27 19:37:20,467 - gurobipy - INFO -      0     0 9.8470e+10    0    1 8.8465e+10 9.8470e+10  11.3%     -    0s\n"
     ]
    },
    {
     "name": "stdout",
     "output_type": "stream",
     "text": [
      "H    0     0                    9.517722e+10 9.8470e+10  3.46%     -    0s\n"
     ]
    },
    {
     "name": "stderr",
     "output_type": "stream",
     "text": [
      "2024-11-27 19:37:20,473 - gurobipy - INFO - H    0     0                    9.517722e+10 9.8470e+10  3.46%     -    0s\n"
     ]
    },
    {
     "name": "stdout",
     "output_type": "stream",
     "text": [
      "\n"
     ]
    },
    {
     "name": "stderr",
     "output_type": "stream",
     "text": [
      "2024-11-27 19:37:20,479 - gurobipy - INFO - \n"
     ]
    },
    {
     "name": "stdout",
     "output_type": "stream",
     "text": [
      "Explored 1 nodes (1 simplex iterations) in 0.14 seconds (0.00 work units)\n"
     ]
    },
    {
     "name": "stderr",
     "output_type": "stream",
     "text": [
      "2024-11-27 19:37:20,482 - gurobipy - INFO - Explored 1 nodes (1 simplex iterations) in 0.14 seconds (0.00 work units)\n"
     ]
    },
    {
     "name": "stdout",
     "output_type": "stream",
     "text": [
      "Thread count was 8 (of 8 available processors)\n"
     ]
    },
    {
     "name": "stderr",
     "output_type": "stream",
     "text": [
      "2024-11-27 19:37:20,484 - gurobipy - INFO - Thread count was 8 (of 8 available processors)\n"
     ]
    },
    {
     "name": "stdout",
     "output_type": "stream",
     "text": [
      "\n"
     ]
    },
    {
     "name": "stderr",
     "output_type": "stream",
     "text": [
      "2024-11-27 19:37:20,489 - gurobipy - INFO - \n"
     ]
    },
    {
     "name": "stdout",
     "output_type": "stream",
     "text": [
      "Solution count 3: 9.51772e+10 8.84653e+10 5.23867e+10 \n"
     ]
    },
    {
     "name": "stderr",
     "output_type": "stream",
     "text": [
      "2024-11-27 19:37:20,494 - gurobipy - INFO - Solution count 3: 9.51772e+10 8.84653e+10 5.23867e+10 \n"
     ]
    },
    {
     "name": "stdout",
     "output_type": "stream",
     "text": [
      "\n"
     ]
    },
    {
     "name": "stderr",
     "output_type": "stream",
     "text": [
      "2024-11-27 19:37:20,496 - gurobipy - INFO - \n"
     ]
    },
    {
     "name": "stdout",
     "output_type": "stream",
     "text": [
      "Optimal solution found (tolerance 1.00e-04)\n"
     ]
    },
    {
     "name": "stderr",
     "output_type": "stream",
     "text": [
      "2024-11-27 19:37:20,500 - gurobipy - INFO - Optimal solution found (tolerance 1.00e-04)\n"
     ]
    },
    {
     "name": "stdout",
     "output_type": "stream",
     "text": [
      "Best objective 9.517722281783e+10, best bound 9.517722281783e+10, gap 0.0000%\n"
     ]
    },
    {
     "name": "stderr",
     "output_type": "stream",
     "text": [
      "2024-11-27 19:37:20,509 - gurobipy - INFO - Best objective 9.517722281783e+10, best bound 9.517722281783e+10, gap 0.0000%\n",
      "2024-11-27 19:37:20,517 - __main__ - INFO - Optimización exitosa. Extrayendo resultados...\n",
      "2024-11-27 19:37:20,523 - __main__ - INFO - Ganancias totales: 95177222817.83\n",
      "2024-11-27 19:37:20,525 - __main__ - INFO - Executives used: 204195\n",
      "2024-11-27 19:37:20,527 - __main__ - INFO - Executives remaining: 805\n",
      "2024-11-27 19:37:20,529 - __main__ - INFO - Optimización completada.\n",
      "2024-11-27 19:37:20,542 - __main__ - INFO - Recalculación de métricas completada.\n",
      "2024-11-27 19:37:21,806 - __main__ - INFO - Entrenamiento del agente DQN completado.\n",
      "2024-11-27 19:37:21,890 - __main__ - INFO - Modelo DQN guardado como 'dqn_clustering_agent'.\n"
     ]
    }
   ],
   "source": [
    "from stable_baselines3 import DQN\n",
    "import signal\n",
    "\n",
    "# Function to handle interruptions\n",
    "def save_model_on_interrupt(model, file_name=\"dqn_clustering_agent_interrupt\"):\n",
    "    logger.info(f\"Guardando el modelo debido a una interrupción como '{file_name}'...\")\n",
    "    model.save(file_name)\n",
    "    logger.info(f\"Modelo guardado exitosamente como '{file_name}'.\")\n",
    "\n",
    "# Try-except block for handling interruptions in a Jupyter Notebook\n",
    "try:\n",
    "    # Crear la instancia del entorno\n",
    "    logger.info(\"Creando instancia de ClusteringEnv...\")\n",
    "    env = ClusteringEnv(df_info_clientes_rl, df_simulaciones_e_informacion_de_clientes_ventas_tratamiento, df_simulaciones_info)\n",
    "\n",
    "    # Verificar el entorno (opcional pero recomendado)\n",
    "    logger.info(\"Verificando el entorno con check_env...\")\n",
    "    check_env(env, warn=True)\n",
    "\n",
    "    # Crear y entrenar el agente DQN\n",
    "    logger.info(\"Inicializando y entrenando el agente DQN...\")\n",
    "    model = DQN('MlpPolicy', env, verbose=1)\n",
    "\n",
    "    # Entrenamiento del modelo\n",
    "    logger.info(\"Iniciando el entrenamiento del agente DQN...\")\n",
    "    model.learn(total_timesteps=10) \n",
    "    logger.info(\"Entrenamiento del agente DQN completado.\")\n",
    "\n",
    "    # Guardar el modelo entrenado\n",
    "    model.save(\"dqn_clustering_agent\")\n",
    "    logger.info(\"Modelo DQN guardado como 'dqn_clustering_agent'.\")\n",
    "\n",
    "except KeyboardInterrupt:\n",
    "    logger.warning(\"Entrenamiento interrumpido por el usuario.\")\n",
    "    file_name=\"dqn_clustering_agent_interrupt\"\n",
    "    logger.info(f\"Guardando el modelo debido a una interrupción como '{file_name}'...\")\n",
    "    model.save(file_name)\n",
    "    logger.info(f\"Modelo guardado exitosamente como '{file_name}'.\")\n",
    "\n",
    "\n",
    "except Exception as e:\n",
    "    logger.error(f\"Se produjo un error durante la ejecución: {str(e)}\", exc_info=True)\n",
    "    save_model_on_interrupt(model, file_name=\"dqn_clustering_agent_error\")\n"
   ]
  },
  {
   "cell_type": "markdown",
   "metadata": {},
   "source": [
    "## Modelo"
   ]
  },
  {
   "cell_type": "code",
   "execution_count": null,
   "metadata": {},
   "outputs": [
    {
     "name": "stderr",
     "output_type": "stream",
     "text": [
      "2024-11-27 19:39:18,828 - __main__ - INFO - Reiniciando el entorno...\n",
      "2024-11-27 19:39:18,831 - __main__ - INFO - Estado reiniciado: [0. 0. 0. 0. 0. 0. 0. 0. 0. 0. 0. 0. 0. 0. 0. 0. 0. 0. 0. 0.]\n",
      "2024-11-27 19:39:18,928 - __main__ - INFO - Aplicando acción tipo: adjust_splits sobre variable: Renta con parámetros: {'operation': 'move', 'index': 1, 'amount': 1}\n",
      "2024-11-27 19:39:18,931 - __main__ - WARNING - No se puede ajustar separaciones para 'Renta': no es continua o no está incluida en la clusterización.\n",
      "2024-11-27 19:39:18,933 - __main__ - INFO - Seleccionando nueva acción: ('adjust_splits', 'Propension', {'operation': 'decrease'})\n",
      "2024-11-27 19:39:18,936 - __main__ - INFO - Aplicando acción tipo: adjust_splits sobre variable: Propension con parámetros: {'operation': 'decrease'}\n",
      "2024-11-27 19:39:18,938 - __main__ - WARNING - No se puede ajustar separaciones para 'Propension': no es continua o no está incluida en la clusterización.\n",
      "2024-11-27 19:39:18,940 - __main__ - INFO - Seleccionando nueva acción: ('adjust_splits', 'Renta', {'operation': 'move', 'index': 2, 'amount': 1})\n",
      "2024-11-27 19:39:18,942 - __main__ - INFO - Aplicando acción tipo: adjust_splits sobre variable: Renta con parámetros: {'operation': 'move', 'index': 2, 'amount': 1}\n",
      "2024-11-27 19:39:18,946 - __main__ - WARNING - No se puede ajustar separaciones para 'Renta': no es continua o no está incluida en la clusterización.\n",
      "2024-11-27 19:39:18,953 - __main__ - INFO - Seleccionando nueva acción: ('adjust_splits', 'Probabilidad_No_Pago', {'operation': 'move', 'index': 1, 'amount': -1})\n",
      "2024-11-27 19:39:18,955 - __main__ - INFO - Aplicando acción tipo: adjust_splits sobre variable: Probabilidad_No_Pago con parámetros: {'operation': 'move', 'index': 1, 'amount': -1}\n",
      "2024-11-27 19:39:18,958 - __main__ - WARNING - No se puede ajustar separaciones para 'Probabilidad_No_Pago': no es continua o no está incluida en la clusterización.\n",
      "2024-11-27 19:39:18,959 - __main__ - INFO - Seleccionando nueva acción: ('toggle_variable', 'Propension', {})\n",
      "2024-11-27 19:39:18,963 - __main__ - INFO - Aplicando acción tipo: toggle_variable sobre variable: Propension con parámetros: {}\n",
      "2024-11-27 19:39:18,965 - __main__ - INFO - Variable 'Propension' incluida: 1\n",
      "2024-11-27 19:39:18,973 - __main__ - INFO - Cortes inicializados para variable 'Propension': [0.5000001914137039]\n",
      "2024-11-27 19:39:18,987 - __main__ - INFO - Recalculando clusters...\n",
      "2024-11-27 19:39:18,989 - __main__ - INFO - Realizando clustering...\n",
      "2024-11-27 19:39:19,022 - __main__ - INFO - Procesando variable: Genero\n",
      "2024-11-27 19:39:19,023 - __main__ - INFO - Procesando variable: Categoria_Digital\n",
      "2024-11-27 19:39:19,028 - __main__ - INFO - Procesando variable: Elasticidad_Precios\n",
      "2024-11-27 19:39:19,033 - __main__ - INFO - Procesando variable: Nacionalidad\n",
      "2024-11-27 19:39:19,035 - __main__ - INFO - Procesando variable: Propension\n",
      "2024-11-27 19:39:19,074 - __main__ - INFO - Cortes para variable 'Propension': [0.5000001914137039]\n",
      "2024-11-27 19:39:19,077 - __main__ - INFO - Procesando variable: Probabilidad_No_Pago\n",
      "2024-11-27 19:39:19,081 - __main__ - INFO - Procesando variable: Edad\n",
      "2024-11-27 19:39:19,085 - __main__ - INFO - Procesando variable: Renta\n",
      "2024-11-27 19:39:19,087 - __main__ - INFO - Variables incluidas en clusterización: ['Propension_cluster']\n",
      "2024-11-27 19:39:32,965 - __main__ - INFO - Variables incluidas en este clustering: ['Propension_cluster']\n",
      "2024-11-27 19:39:32,966 - __main__ - INFO - Clustering completado. Número de clusters: 2\n",
      "2024-11-27 19:39:32,968 - __main__ - INFO - Recalculando métricas...\n",
      "2024-11-27 19:39:37,102 - __main__ - INFO - Estimando elasticidad...\n",
      "2024-11-27 19:39:57,547 - __main__ - INFO - Cluster 1:\n",
      "2024-11-27 19:39:57,551 - __main__ - INFO - - Precio Máx. Revenue Esperado = 1.25%\n",
      "2024-11-27 19:39:57,553 - __main__ - INFO - - Revenue Esperado Máximo = 51,514,622,263.54\n",
      "2024-11-27 19:39:57,555 - __main__ - INFO - - Número de clientes en el cluster = 271498\n",
      "2024-11-27 19:39:57,557 - __main__ - INFO - - Número de simulaciones en el cluster = 77464.23\n",
      "2024-11-27 19:39:57,559 - __main__ - INFO - - Probabilidad de aceptación en el precio óptimo = 0.5226\n",
      "2024-11-27 19:39:57,562 - __main__ - INFO - - Número esperado de créditos aceptados = 40483\n",
      "2024-11-27 19:39:57,564 - __main__ - INFO - - Monto medio simulado = 6,918,133.01\n",
      "2024-11-27 19:39:57,569 - __main__ - INFO - - Plazo medio simulado = 27.50\n",
      "2024-11-27 19:39:57,571 - __main__ - INFO - - Probabilidad de no pago media = 0.0171\n",
      "\n",
      "2024-11-27 19:40:11,156 - __main__ - INFO - Cluster 0:\n",
      "2024-11-27 19:40:11,159 - __main__ - INFO - - Precio Máx. Revenue Esperado = 1.25%\n",
      "2024-11-27 19:40:11,161 - __main__ - INFO - - Revenue Esperado Máximo = 34,775,917,979.36\n",
      "2024-11-27 19:40:11,162 - __main__ - INFO - - Número de clientes en el cluster = 271406\n",
      "2024-11-27 19:40:11,164 - __main__ - INFO - - Número de simulaciones en el cluster = 51571.20\n",
      "2024-11-27 19:40:11,165 - __main__ - INFO - - Probabilidad de aceptación en el precio óptimo = 0.5212\n",
      "2024-11-27 19:40:11,169 - __main__ - INFO - - Número esperado de créditos aceptados = 26877\n",
      "2024-11-27 19:40:11,170 - __main__ - INFO - - Monto medio simulado = 7,034,048.64\n",
      "2024-11-27 19:40:11,172 - __main__ - INFO - - Plazo medio simulado = 27.50\n",
      "2024-11-27 19:40:11,174 - __main__ - INFO - - Probabilidad de no pago media = 0.0169\n",
      "\n",
      "2024-11-27 19:40:11,787 - __main__ - INFO - El revenue total esperado es: 86,290,540,242.89 con un total de 542904 clientes, 129,035.42 simulaciones, y 67360 créditos.\n",
      "2024-11-27 19:40:14,017 - __main__ - INFO - total_revenue: 86290540242.89386, total_clientes: 542904, total_simulaciones: 129035.42424242425, total_creditos: 67360\n",
      "2024-11-27 19:40:36,978 - __main__ - INFO - Estimación de respuesta a tratamientos completada.\n",
      "2024-11-27 19:40:42,856 - __main__ - INFO - Llamando al modelo de asignación de tratamientos...\n",
      "2024-11-27 19:40:42,857 - __main__ - INFO - Iniciando modelo de asignación de tratamientos...\n",
      "2024-11-27 19:40:42,859 - __main__ - INFO - Procesando datos de probabilidades y asignando IDs de tratamiento...\n",
      "2024-11-27 19:40:42,864 - __main__ - INFO - Fusionando probabilidades con información de RUT...\n",
      "2024-11-27 19:40:43,009 - __main__ - INFO - Fusionando información de RUT con información de clusters...\n",
      "2024-11-27 19:40:43,148 - __main__ - INFO - Agrupando información por cluster...\n",
      "2024-11-27 19:40:43,801 - __main__ - INFO - Calculando Revenue Calculado (RC)...\n",
      "2024-11-27 19:40:43,809 - __main__ - INFO - Preparando matriz de beneficios para optimización...\n",
      "2024-11-27 19:40:43,811 - __main__ - INFO - Inicializando modelo de optimización con Gurobi...\n",
      "2024-11-27 19:40:43,813 - __main__ - INFO - Creando variables de decisión...\n",
      "2024-11-27 19:40:43,815 - __main__ - INFO - Agregando restricción de un tratamiento por cliente...\n",
      "2024-11-27 19:40:43,823 - __main__ - INFO - Agregando restricción de capacidad para ejecutivos...\n",
      "2024-11-27 19:40:43,826 - __main__ - INFO - Agregando restricciones de consistencia por cluster...\n",
      "2024-11-27 19:40:43,832 - __main__ - INFO - Iniciando optimización con Gurobi...\n"
     ]
    },
    {
     "name": "stdout",
     "output_type": "stream",
     "text": [
      "Gurobi Optimizer version 11.0.3 build v11.0.3rc0 (win64 - Windows 10.0 (19045.2))\n"
     ]
    },
    {
     "name": "stderr",
     "output_type": "stream",
     "text": [
      "2024-11-27 19:40:43,838 - gurobipy - INFO - Gurobi Optimizer version 11.0.3 build v11.0.3rc0 (win64 - Windows 10.0 (19045.2))\n"
     ]
    },
    {
     "name": "stdout",
     "output_type": "stream",
     "text": [
      "\n"
     ]
    },
    {
     "name": "stderr",
     "output_type": "stream",
     "text": [
      "2024-11-27 19:40:43,841 - gurobipy - INFO - \n"
     ]
    },
    {
     "name": "stdout",
     "output_type": "stream",
     "text": [
      "CPU model: AMD Ryzen 5 2500U with Radeon Vega Mobile Gfx, instruction set [SSE2|AVX|AVX2]\n"
     ]
    },
    {
     "name": "stderr",
     "output_type": "stream",
     "text": [
      "2024-11-27 19:40:43,846 - gurobipy - INFO - CPU model: AMD Ryzen 5 2500U with Radeon Vega Mobile Gfx, instruction set [SSE2|AVX|AVX2]\n"
     ]
    },
    {
     "name": "stdout",
     "output_type": "stream",
     "text": [
      "Thread count: 4 physical cores, 8 logical processors, using up to 8 threads\n"
     ]
    },
    {
     "name": "stderr",
     "output_type": "stream",
     "text": [
      "2024-11-27 19:40:43,852 - gurobipy - INFO - Thread count: 4 physical cores, 8 logical processors, using up to 8 threads\n"
     ]
    },
    {
     "name": "stdout",
     "output_type": "stream",
     "text": [
      "\n"
     ]
    },
    {
     "name": "stderr",
     "output_type": "stream",
     "text": [
      "2024-11-27 19:40:43,857 - gurobipy - INFO - \n"
     ]
    },
    {
     "name": "stdout",
     "output_type": "stream",
     "text": [
      "Optimize a model with 3 rows, 16 columns and 22 nonzeros\n"
     ]
    },
    {
     "name": "stderr",
     "output_type": "stream",
     "text": [
      "2024-11-27 19:40:43,863 - gurobipy - INFO - Optimize a model with 3 rows, 16 columns and 22 nonzeros\n"
     ]
    },
    {
     "name": "stdout",
     "output_type": "stream",
     "text": [
      "Model fingerprint: 0x8897c314\n"
     ]
    },
    {
     "name": "stderr",
     "output_type": "stream",
     "text": [
      "2024-11-27 19:40:43,868 - gurobipy - INFO - Model fingerprint: 0x8897c314\n"
     ]
    },
    {
     "name": "stdout",
     "output_type": "stream",
     "text": [
      "Variable types: 0 continuous, 16 integer (16 binary)\n"
     ]
    },
    {
     "name": "stderr",
     "output_type": "stream",
     "text": [
      "2024-11-27 19:40:43,876 - gurobipy - INFO - Variable types: 0 continuous, 16 integer (16 binary)\n"
     ]
    },
    {
     "name": "stdout",
     "output_type": "stream",
     "text": [
      "Coefficient statistics:\n"
     ]
    },
    {
     "name": "stderr",
     "output_type": "stream",
     "text": [
      "2024-11-27 19:40:43,886 - gurobipy - INFO - Coefficient statistics:\n"
     ]
    },
    {
     "name": "stdout",
     "output_type": "stream",
     "text": [
      "  Matrix range     [1e+00, 3e+05]\n"
     ]
    },
    {
     "name": "stderr",
     "output_type": "stream",
     "text": [
      "2024-11-27 19:40:43,893 - gurobipy - INFO -   Matrix range     [1e+00, 3e+05]\n"
     ]
    },
    {
     "name": "stdout",
     "output_type": "stream",
     "text": [
      "  Objective range  [2e+10, 7e+10]\n"
     ]
    },
    {
     "name": "stderr",
     "output_type": "stream",
     "text": [
      "2024-11-27 19:40:43,913 - gurobipy - INFO -   Objective range  [2e+10, 7e+10]\n"
     ]
    },
    {
     "name": "stdout",
     "output_type": "stream",
     "text": [
      "  Bounds range     [1e+00, 1e+00]\n"
     ]
    },
    {
     "name": "stderr",
     "output_type": "stream",
     "text": [
      "2024-11-27 19:40:43,925 - gurobipy - INFO -   Bounds range     [1e+00, 1e+00]\n"
     ]
    },
    {
     "name": "stdout",
     "output_type": "stream",
     "text": [
      "  RHS range        [1e+00, 2e+05]\n"
     ]
    },
    {
     "name": "stderr",
     "output_type": "stream",
     "text": [
      "2024-11-27 19:40:43,935 - gurobipy - INFO -   RHS range        [1e+00, 2e+05]\n"
     ]
    },
    {
     "name": "stdout",
     "output_type": "stream",
     "text": [
      "Warning: Model contains large objective coefficients\n"
     ]
    },
    {
     "name": "stderr",
     "output_type": "stream",
     "text": [
      "2024-11-27 19:40:43,940 - gurobipy - INFO - Warning: Model contains large objective coefficients\n"
     ]
    },
    {
     "name": "stdout",
     "output_type": "stream",
     "text": [
      "         Consider reformulating model or setting NumericFocus parameter\n"
     ]
    },
    {
     "name": "stderr",
     "output_type": "stream",
     "text": [
      "2024-11-27 19:40:43,951 - gurobipy - INFO -          Consider reformulating model or setting NumericFocus parameter\n"
     ]
    },
    {
     "name": "stdout",
     "output_type": "stream",
     "text": [
      "         to avoid numerical issues.\n"
     ]
    },
    {
     "name": "stderr",
     "output_type": "stream",
     "text": [
      "2024-11-27 19:40:43,954 - gurobipy - INFO -          to avoid numerical issues.\n"
     ]
    },
    {
     "name": "stdout",
     "output_type": "stream",
     "text": [
      "Found heuristic solution: objective 5.183380e+10\n"
     ]
    },
    {
     "name": "stderr",
     "output_type": "stream",
     "text": [
      "2024-11-27 19:40:43,957 - gurobipy - INFO - Found heuristic solution: objective 5.183380e+10\n"
     ]
    },
    {
     "name": "stdout",
     "output_type": "stream",
     "text": [
      "Presolve removed 3 rows and 16 columns\n"
     ]
    },
    {
     "name": "stderr",
     "output_type": "stream",
     "text": [
      "2024-11-27 19:40:43,962 - gurobipy - INFO - Presolve removed 3 rows and 16 columns\n"
     ]
    },
    {
     "name": "stdout",
     "output_type": "stream",
     "text": [
      "Presolve time: 0.00s\n"
     ]
    },
    {
     "name": "stderr",
     "output_type": "stream",
     "text": [
      "2024-11-27 19:40:43,968 - gurobipy - INFO - Presolve time: 0.00s\n"
     ]
    },
    {
     "name": "stdout",
     "output_type": "stream",
     "text": [
      "Presolve: All rows and columns removed\n"
     ]
    },
    {
     "name": "stderr",
     "output_type": "stream",
     "text": [
      "2024-11-27 19:40:43,972 - gurobipy - INFO - Presolve: All rows and columns removed\n"
     ]
    },
    {
     "name": "stdout",
     "output_type": "stream",
     "text": [
      "\n"
     ]
    },
    {
     "name": "stderr",
     "output_type": "stream",
     "text": [
      "2024-11-27 19:40:43,976 - gurobipy - INFO - \n"
     ]
    },
    {
     "name": "stdout",
     "output_type": "stream",
     "text": [
      "Explored 0 nodes (0 simplex iterations) in 0.12 seconds (0.00 work units)\n"
     ]
    },
    {
     "name": "stderr",
     "output_type": "stream",
     "text": [
      "2024-11-27 19:40:43,981 - gurobipy - INFO - Explored 0 nodes (0 simplex iterations) in 0.12 seconds (0.00 work units)\n"
     ]
    },
    {
     "name": "stdout",
     "output_type": "stream",
     "text": [
      "Thread count was 1 (of 8 available processors)\n"
     ]
    },
    {
     "name": "stderr",
     "output_type": "stream",
     "text": [
      "2024-11-27 19:40:43,987 - gurobipy - INFO - Thread count was 1 (of 8 available processors)\n"
     ]
    },
    {
     "name": "stdout",
     "output_type": "stream",
     "text": [
      "\n"
     ]
    },
    {
     "name": "stderr",
     "output_type": "stream",
     "text": [
      "2024-11-27 19:40:43,992 - gurobipy - INFO - \n"
     ]
    },
    {
     "name": "stdout",
     "output_type": "stream",
     "text": [
      "Solution count 2: 6.37928e+10 5.18338e+10 \n"
     ]
    },
    {
     "name": "stderr",
     "output_type": "stream",
     "text": [
      "2024-11-27 19:40:44,000 - gurobipy - INFO - Solution count 2: 6.37928e+10 5.18338e+10 \n"
     ]
    },
    {
     "name": "stdout",
     "output_type": "stream",
     "text": [
      "\n"
     ]
    },
    {
     "name": "stderr",
     "output_type": "stream",
     "text": [
      "2024-11-27 19:40:44,005 - gurobipy - INFO - \n"
     ]
    },
    {
     "name": "stdout",
     "output_type": "stream",
     "text": [
      "Optimal solution found (tolerance 1.00e-04)\n"
     ]
    },
    {
     "name": "stderr",
     "output_type": "stream",
     "text": [
      "2024-11-27 19:40:44,009 - gurobipy - INFO - Optimal solution found (tolerance 1.00e-04)\n"
     ]
    },
    {
     "name": "stdout",
     "output_type": "stream",
     "text": [
      "Best objective 6.379279406780e+10, best bound 6.379279406780e+10, gap 0.0000%\n"
     ]
    },
    {
     "name": "stderr",
     "output_type": "stream",
     "text": [
      "2024-11-27 19:40:44,017 - gurobipy - INFO - Best objective 6.379279406780e+10, best bound 6.379279406780e+10, gap 0.0000%\n",
      "2024-11-27 19:40:44,021 - __main__ - INFO - Optimización exitosa. Extrayendo resultados...\n",
      "2024-11-27 19:40:44,023 - __main__ - INFO - Ganancias totales: 63792794067.80\n",
      "2024-11-27 19:40:44,025 - __main__ - INFO - Executives used: 0\n",
      "2024-11-27 19:40:44,031 - __main__ - INFO - Executives remaining: 205000\n",
      "2024-11-27 19:40:44,037 - __main__ - INFO - Optimización completada.\n",
      "2024-11-27 19:40:44,052 - __main__ - INFO - Recalculación de métricas completada.\n",
      "2024-11-27 19:40:45,404 - __main__ - INFO - Aplicando acción tipo: adjust_splits sobre variable: Probabilidad_No_Pago con parámetros: {'operation': 'move', 'index': 2, 'amount': -1}\n",
      "2024-11-27 19:40:45,406 - __main__ - WARNING - No se puede ajustar separaciones para 'Probabilidad_No_Pago': no es continua o no está incluida en la clusterización.\n",
      "2024-11-27 19:40:45,408 - __main__ - INFO - Seleccionando nueva acción: ('adjust_splits', 'Propension', {'operation': 'move', 'index': 1, 'amount': 1})\n",
      "2024-11-27 19:40:45,411 - __main__ - INFO - Aplicando acción tipo: adjust_splits sobre variable: Propension con parámetros: {'operation': 'move', 'index': 1, 'amount': 1}\n",
      "2024-11-27 19:40:45,413 - __main__ - INFO - Corte movido para variable 'Propension': [0.5000001914137039]\n",
      "2024-11-27 19:40:45,427 - __main__ - INFO - Recalculando clusters...\n",
      "2024-11-27 19:40:45,530 - __main__ - INFO - Realizando clustering...\n",
      "2024-11-27 19:40:45,580 - __main__ - INFO - Procesando variable: Genero\n"
     ]
    },
    {
     "name": "stdout",
     "output_type": "stream",
     "text": [
      "Action: 36, Reward: 61702794067.798355\n"
     ]
    },
    {
     "name": "stderr",
     "output_type": "stream",
     "text": [
      "2024-11-27 19:40:45,583 - __main__ - INFO - Procesando variable: Categoria_Digital\n",
      "2024-11-27 19:40:45,585 - __main__ - INFO - Procesando variable: Elasticidad_Precios\n",
      "2024-11-27 19:40:45,588 - __main__ - INFO - Procesando variable: Nacionalidad\n",
      "2024-11-27 19:40:45,590 - __main__ - INFO - Procesando variable: Propension\n",
      "2024-11-27 19:40:45,634 - __main__ - INFO - Cortes para variable 'Propension': [0.5000001914137039]\n",
      "2024-11-27 19:40:45,636 - __main__ - INFO - Procesando variable: Probabilidad_No_Pago\n",
      "2024-11-27 19:40:45,638 - __main__ - INFO - Procesando variable: Edad\n",
      "2024-11-27 19:40:45,640 - __main__ - INFO - Procesando variable: Renta\n",
      "2024-11-27 19:40:45,642 - __main__ - INFO - Variables incluidas en clusterización: ['Propension_cluster']\n",
      "2024-11-27 19:41:02,104 - __main__ - INFO - Variables incluidas en este clustering: ['Propension_cluster']\n",
      "2024-11-27 19:41:02,105 - __main__ - INFO - Clustering completado. Número de clusters: 2\n",
      "2024-11-27 19:41:02,106 - __main__ - INFO - Recalculando métricas...\n",
      "2024-11-27 19:41:05,937 - __main__ - INFO - Estimando elasticidad...\n",
      "2024-11-27 19:41:24,534 - __main__ - INFO - Cluster 1:\n",
      "2024-11-27 19:41:24,537 - __main__ - INFO - - Precio Máx. Revenue Esperado = 1.25%\n",
      "2024-11-27 19:41:24,539 - __main__ - INFO - - Revenue Esperado Máximo = 51,514,622,263.54\n",
      "2024-11-27 19:41:24,543 - __main__ - INFO - - Número de clientes en el cluster = 271498\n",
      "2024-11-27 19:41:24,545 - __main__ - INFO - - Número de simulaciones en el cluster = 77464.23\n",
      "2024-11-27 19:41:24,548 - __main__ - INFO - - Probabilidad de aceptación en el precio óptimo = 0.5226\n",
      "2024-11-27 19:41:24,552 - __main__ - INFO - - Número esperado de créditos aceptados = 40483\n",
      "2024-11-27 19:41:24,555 - __main__ - INFO - - Monto medio simulado = 6,918,133.01\n",
      "2024-11-27 19:41:24,561 - __main__ - INFO - - Plazo medio simulado = 27.50\n",
      "2024-11-27 19:41:24,565 - __main__ - INFO - - Probabilidad de no pago media = 0.0171\n",
      "\n",
      "2024-11-27 19:41:38,408 - __main__ - INFO - Cluster 0:\n",
      "2024-11-27 19:41:38,410 - __main__ - INFO - - Precio Máx. Revenue Esperado = 1.25%\n",
      "2024-11-27 19:41:38,412 - __main__ - INFO - - Revenue Esperado Máximo = 34,775,917,979.36\n",
      "2024-11-27 19:41:38,416 - __main__ - INFO - - Número de clientes en el cluster = 271406\n",
      "2024-11-27 19:41:38,417 - __main__ - INFO - - Número de simulaciones en el cluster = 51571.20\n",
      "2024-11-27 19:41:38,420 - __main__ - INFO - - Probabilidad de aceptación en el precio óptimo = 0.5212\n",
      "2024-11-27 19:41:38,422 - __main__ - INFO - - Número esperado de créditos aceptados = 26877\n",
      "2024-11-27 19:41:38,423 - __main__ - INFO - - Monto medio simulado = 7,034,048.64\n",
      "2024-11-27 19:41:38,425 - __main__ - INFO - - Plazo medio simulado = 27.50\n",
      "2024-11-27 19:41:38,427 - __main__ - INFO - - Probabilidad de no pago media = 0.0169\n",
      "\n",
      "2024-11-27 19:41:39,003 - __main__ - INFO - El revenue total esperado es: 86,290,540,242.89 con un total de 542904 clientes, 129,035.42 simulaciones, y 67360 créditos.\n",
      "2024-11-27 19:41:41,159 - __main__ - INFO - total_revenue: 86290540242.89386, total_clientes: 542904, total_simulaciones: 129035.42424242425, total_creditos: 67360\n",
      "2024-11-27 19:42:02,871 - __main__ - INFO - Estimación de respuesta a tratamientos completada.\n",
      "2024-11-27 19:42:09,145 - __main__ - INFO - Llamando al modelo de asignación de tratamientos...\n",
      "2024-11-27 19:42:09,147 - __main__ - INFO - Iniciando modelo de asignación de tratamientos...\n",
      "2024-11-27 19:42:09,148 - __main__ - INFO - Procesando datos de probabilidades y asignando IDs de tratamiento...\n",
      "2024-11-27 19:42:09,157 - __main__ - INFO - Fusionando probabilidades con información de RUT...\n",
      "2024-11-27 19:42:09,335 - __main__ - INFO - Fusionando información de RUT con información de clusters...\n",
      "2024-11-27 19:42:09,496 - __main__ - INFO - Agrupando información por cluster...\n",
      "2024-11-27 19:42:10,140 - __main__ - INFO - Calculando Revenue Calculado (RC)...\n",
      "2024-11-27 19:42:10,146 - __main__ - INFO - Preparando matriz de beneficios para optimización...\n",
      "2024-11-27 19:42:10,150 - __main__ - INFO - Inicializando modelo de optimización con Gurobi...\n",
      "2024-11-27 19:42:10,152 - __main__ - INFO - Creando variables de decisión...\n",
      "2024-11-27 19:42:10,155 - __main__ - INFO - Agregando restricción de un tratamiento por cliente...\n",
      "2024-11-27 19:42:10,156 - __main__ - INFO - Agregando restricción de capacidad para ejecutivos...\n",
      "2024-11-27 19:42:10,159 - __main__ - INFO - Agregando restricciones de consistencia por cluster...\n",
      "2024-11-27 19:42:10,163 - __main__ - INFO - Iniciando optimización con Gurobi...\n"
     ]
    },
    {
     "name": "stdout",
     "output_type": "stream",
     "text": [
      "Gurobi Optimizer version 11.0.3 build v11.0.3rc0 (win64 - Windows 10.0 (19045.2))\n"
     ]
    },
    {
     "name": "stderr",
     "output_type": "stream",
     "text": [
      "2024-11-27 19:42:10,167 - gurobipy - INFO - Gurobi Optimizer version 11.0.3 build v11.0.3rc0 (win64 - Windows 10.0 (19045.2))\n"
     ]
    },
    {
     "name": "stdout",
     "output_type": "stream",
     "text": [
      "\n"
     ]
    },
    {
     "name": "stderr",
     "output_type": "stream",
     "text": [
      "2024-11-27 19:42:10,175 - gurobipy - INFO - \n"
     ]
    },
    {
     "name": "stdout",
     "output_type": "stream",
     "text": [
      "CPU model: AMD Ryzen 5 2500U with Radeon Vega Mobile Gfx, instruction set [SSE2|AVX|AVX2]\n"
     ]
    },
    {
     "name": "stderr",
     "output_type": "stream",
     "text": [
      "2024-11-27 19:42:10,180 - gurobipy - INFO - CPU model: AMD Ryzen 5 2500U with Radeon Vega Mobile Gfx, instruction set [SSE2|AVX|AVX2]\n"
     ]
    },
    {
     "name": "stdout",
     "output_type": "stream",
     "text": [
      "Thread count: 4 physical cores, 8 logical processors, using up to 8 threads\n"
     ]
    },
    {
     "name": "stderr",
     "output_type": "stream",
     "text": [
      "2024-11-27 19:42:10,186 - gurobipy - INFO - Thread count: 4 physical cores, 8 logical processors, using up to 8 threads\n"
     ]
    },
    {
     "name": "stdout",
     "output_type": "stream",
     "text": [
      "\n"
     ]
    },
    {
     "name": "stderr",
     "output_type": "stream",
     "text": [
      "2024-11-27 19:42:10,191 - gurobipy - INFO - \n"
     ]
    },
    {
     "name": "stdout",
     "output_type": "stream",
     "text": [
      "Optimize a model with 3 rows, 16 columns and 22 nonzeros\n"
     ]
    },
    {
     "name": "stderr",
     "output_type": "stream",
     "text": [
      "2024-11-27 19:42:10,195 - gurobipy - INFO - Optimize a model with 3 rows, 16 columns and 22 nonzeros\n"
     ]
    },
    {
     "name": "stdout",
     "output_type": "stream",
     "text": [
      "Model fingerprint: 0x8897c314\n"
     ]
    },
    {
     "name": "stderr",
     "output_type": "stream",
     "text": [
      "2024-11-27 19:42:10,199 - gurobipy - INFO - Model fingerprint: 0x8897c314\n"
     ]
    },
    {
     "name": "stdout",
     "output_type": "stream",
     "text": [
      "Variable types: 0 continuous, 16 integer (16 binary)\n"
     ]
    },
    {
     "name": "stderr",
     "output_type": "stream",
     "text": [
      "2024-11-27 19:42:10,204 - gurobipy - INFO - Variable types: 0 continuous, 16 integer (16 binary)\n"
     ]
    },
    {
     "name": "stdout",
     "output_type": "stream",
     "text": [
      "Coefficient statistics:\n"
     ]
    },
    {
     "name": "stderr",
     "output_type": "stream",
     "text": [
      "2024-11-27 19:42:10,208 - gurobipy - INFO - Coefficient statistics:\n"
     ]
    },
    {
     "name": "stdout",
     "output_type": "stream",
     "text": [
      "  Matrix range     [1e+00, 3e+05]\n"
     ]
    },
    {
     "name": "stderr",
     "output_type": "stream",
     "text": [
      "2024-11-27 19:42:10,218 - gurobipy - INFO -   Matrix range     [1e+00, 3e+05]\n"
     ]
    },
    {
     "name": "stdout",
     "output_type": "stream",
     "text": [
      "  Objective range  [2e+10, 7e+10]\n"
     ]
    },
    {
     "name": "stderr",
     "output_type": "stream",
     "text": [
      "2024-11-27 19:42:10,222 - gurobipy - INFO -   Objective range  [2e+10, 7e+10]\n"
     ]
    },
    {
     "name": "stdout",
     "output_type": "stream",
     "text": [
      "  Bounds range     [1e+00, 1e+00]\n"
     ]
    },
    {
     "name": "stderr",
     "output_type": "stream",
     "text": [
      "2024-11-27 19:42:10,227 - gurobipy - INFO -   Bounds range     [1e+00, 1e+00]\n"
     ]
    },
    {
     "name": "stdout",
     "output_type": "stream",
     "text": [
      "  RHS range        [1e+00, 2e+05]\n"
     ]
    },
    {
     "name": "stderr",
     "output_type": "stream",
     "text": [
      "2024-11-27 19:42:10,230 - gurobipy - INFO -   RHS range        [1e+00, 2e+05]\n"
     ]
    },
    {
     "name": "stdout",
     "output_type": "stream",
     "text": [
      "Warning: Model contains large objective coefficients\n"
     ]
    },
    {
     "name": "stderr",
     "output_type": "stream",
     "text": [
      "2024-11-27 19:42:10,237 - gurobipy - INFO - Warning: Model contains large objective coefficients\n"
     ]
    },
    {
     "name": "stdout",
     "output_type": "stream",
     "text": [
      "         Consider reformulating model or setting NumericFocus parameter\n"
     ]
    },
    {
     "name": "stderr",
     "output_type": "stream",
     "text": [
      "2024-11-27 19:42:10,247 - gurobipy - INFO -          Consider reformulating model or setting NumericFocus parameter\n"
     ]
    },
    {
     "name": "stdout",
     "output_type": "stream",
     "text": [
      "         to avoid numerical issues.\n"
     ]
    },
    {
     "name": "stderr",
     "output_type": "stream",
     "text": [
      "2024-11-27 19:42:10,255 - gurobipy - INFO -          to avoid numerical issues.\n"
     ]
    },
    {
     "name": "stdout",
     "output_type": "stream",
     "text": [
      "Found heuristic solution: objective 5.183380e+10\n"
     ]
    },
    {
     "name": "stderr",
     "output_type": "stream",
     "text": [
      "2024-11-27 19:42:10,261 - gurobipy - INFO - Found heuristic solution: objective 5.183380e+10\n"
     ]
    },
    {
     "name": "stdout",
     "output_type": "stream",
     "text": [
      "Presolve removed 3 rows and 16 columns\n"
     ]
    },
    {
     "name": "stderr",
     "output_type": "stream",
     "text": [
      "2024-11-27 19:42:10,270 - gurobipy - INFO - Presolve removed 3 rows and 16 columns\n"
     ]
    },
    {
     "name": "stdout",
     "output_type": "stream",
     "text": [
      "Presolve time: 0.00s\n"
     ]
    },
    {
     "name": "stderr",
     "output_type": "stream",
     "text": [
      "2024-11-27 19:42:10,277 - gurobipy - INFO - Presolve time: 0.00s\n"
     ]
    },
    {
     "name": "stdout",
     "output_type": "stream",
     "text": [
      "Presolve: All rows and columns removed\n"
     ]
    },
    {
     "name": "stderr",
     "output_type": "stream",
     "text": [
      "2024-11-27 19:42:10,282 - gurobipy - INFO - Presolve: All rows and columns removed\n"
     ]
    },
    {
     "name": "stdout",
     "output_type": "stream",
     "text": [
      "\n"
     ]
    },
    {
     "name": "stderr",
     "output_type": "stream",
     "text": [
      "2024-11-27 19:42:10,290 - gurobipy - INFO - \n"
     ]
    },
    {
     "name": "stdout",
     "output_type": "stream",
     "text": [
      "Explored 0 nodes (0 simplex iterations) in 0.10 seconds (0.00 work units)\n"
     ]
    },
    {
     "name": "stderr",
     "output_type": "stream",
     "text": [
      "2024-11-27 19:42:10,295 - gurobipy - INFO - Explored 0 nodes (0 simplex iterations) in 0.10 seconds (0.00 work units)\n"
     ]
    },
    {
     "name": "stdout",
     "output_type": "stream",
     "text": [
      "Thread count was 1 (of 8 available processors)\n"
     ]
    },
    {
     "name": "stderr",
     "output_type": "stream",
     "text": [
      "2024-11-27 19:42:10,301 - gurobipy - INFO - Thread count was 1 (of 8 available processors)\n"
     ]
    },
    {
     "name": "stdout",
     "output_type": "stream",
     "text": [
      "\n"
     ]
    },
    {
     "name": "stderr",
     "output_type": "stream",
     "text": [
      "2024-11-27 19:42:10,305 - gurobipy - INFO - \n"
     ]
    },
    {
     "name": "stdout",
     "output_type": "stream",
     "text": [
      "Solution count 2: 6.37928e+10 5.18338e+10 \n"
     ]
    },
    {
     "name": "stderr",
     "output_type": "stream",
     "text": [
      "2024-11-27 19:42:10,308 - gurobipy - INFO - Solution count 2: 6.37928e+10 5.18338e+10 \n"
     ]
    },
    {
     "name": "stdout",
     "output_type": "stream",
     "text": [
      "\n"
     ]
    },
    {
     "name": "stderr",
     "output_type": "stream",
     "text": [
      "2024-11-27 19:42:10,311 - gurobipy - INFO - \n"
     ]
    },
    {
     "name": "stdout",
     "output_type": "stream",
     "text": [
      "Optimal solution found (tolerance 1.00e-04)\n"
     ]
    },
    {
     "name": "stderr",
     "output_type": "stream",
     "text": [
      "2024-11-27 19:42:10,315 - gurobipy - INFO - Optimal solution found (tolerance 1.00e-04)\n"
     ]
    },
    {
     "name": "stdout",
     "output_type": "stream",
     "text": [
      "Best objective 6.379279406780e+10, best bound 6.379279406780e+10, gap 0.0000%\n"
     ]
    },
    {
     "name": "stderr",
     "output_type": "stream",
     "text": [
      "2024-11-27 19:42:10,321 - gurobipy - INFO - Best objective 6.379279406780e+10, best bound 6.379279406780e+10, gap 0.0000%\n",
      "2024-11-27 19:42:10,323 - __main__ - INFO - Optimización exitosa. Extrayendo resultados...\n",
      "2024-11-27 19:42:10,324 - __main__ - INFO - Ganancias totales: 63792794067.80\n",
      "2024-11-27 19:42:10,326 - __main__ - INFO - Executives used: 0\n",
      "2024-11-27 19:42:10,328 - __main__ - INFO - Executives remaining: 205000\n",
      "2024-11-27 19:42:10,329 - __main__ - INFO - Optimización completada.\n",
      "2024-11-27 19:42:10,345 - __main__ - INFO - Recalculación de métricas completada.\n",
      "2024-11-27 19:42:11,796 - __main__ - INFO - Aplicando acción tipo: adjust_splits sobre variable: Probabilidad_No_Pago con parámetros: {'operation': 'move', 'index': 2, 'amount': -1}\n",
      "2024-11-27 19:42:11,797 - __main__ - WARNING - No se puede ajustar separaciones para 'Probabilidad_No_Pago': no es continua o no está incluida en la clusterización.\n",
      "2024-11-27 19:42:11,799 - __main__ - INFO - Seleccionando nueva acción: ('adjust_splits', 'Renta', {'operation': 'decrease'})\n",
      "2024-11-27 19:42:11,803 - __main__ - INFO - Aplicando acción tipo: adjust_splits sobre variable: Renta con parámetros: {'operation': 'decrease'}\n",
      "2024-11-27 19:42:11,805 - __main__ - WARNING - No se puede ajustar separaciones para 'Renta': no es continua o no está incluida en la clusterización.\n",
      "2024-11-27 19:42:11,807 - __main__ - INFO - Seleccionando nueva acción: ('toggle_variable', 'Propension', {})\n",
      "2024-11-27 19:42:11,809 - __main__ - INFO - Aplicando acción tipo: toggle_variable sobre variable: Propension con parámetros: {}\n",
      "2024-11-27 19:42:11,810 - __main__ - INFO - Variable 'Propension' incluida: 0\n",
      "2024-11-27 19:42:11,823 - __main__ - INFO - Recalculando clusters...\n",
      "2024-11-27 19:42:11,824 - __main__ - INFO - Realizando clustering...\n",
      "2024-11-27 19:42:11,861 - __main__ - INFO - Procesando variable: Genero\n",
      "2024-11-27 19:42:11,863 - __main__ - INFO - Procesando variable: Categoria_Digital\n",
      "2024-11-27 19:42:11,865 - __main__ - INFO - Procesando variable: Elasticidad_Precios\n",
      "2024-11-27 19:42:11,868 - __main__ - INFO - Procesando variable: Nacionalidad\n",
      "2024-11-27 19:42:11,869 - __main__ - INFO - Procesando variable: Propension\n",
      "2024-11-27 19:42:11,871 - __main__ - INFO - Procesando variable: Probabilidad_No_Pago\n",
      "2024-11-27 19:42:11,873 - __main__ - INFO - Procesando variable: Edad\n",
      "2024-11-27 19:42:11,877 - __main__ - INFO - Procesando variable: Renta\n",
      "2024-11-27 19:42:11,879 - __main__ - INFO - Variables incluidas en clusterización: []\n",
      "2024-11-27 19:42:11,909 - __main__ - INFO - Variables incluidas en este clustering: []\n",
      "2024-11-27 19:42:11,911 - __main__ - INFO - Clustering completado. Número de clusters: 1\n",
      "2024-11-27 19:42:11,913 - __main__ - INFO - Recalculando métricas...\n"
     ]
    },
    {
     "name": "stdout",
     "output_type": "stream",
     "text": [
      "Action: 23, Reward: 61702794067.798355\n"
     ]
    },
    {
     "name": "stderr",
     "output_type": "stream",
     "text": [
      "2024-11-27 19:42:15,826 - __main__ - INFO - Estimando elasticidad...\n",
      "2024-11-27 19:42:46,645 - __main__ - INFO - Cluster 0:\n",
      "2024-11-27 19:42:46,647 - __main__ - INFO - - Precio Máx. Revenue Esperado = 1.25%\n",
      "2024-11-27 19:42:46,648 - __main__ - INFO - - Revenue Esperado Máximo = 86,291,395,146.04\n",
      "2024-11-27 19:42:46,650 - __main__ - INFO - - Número de clientes en el cluster = 542904\n",
      "2024-11-27 19:42:46,652 - __main__ - INFO - - Número de simulaciones en el cluster = 129035.42\n",
      "2024-11-27 19:42:46,655 - __main__ - INFO - - Probabilidad de aceptación en el precio óptimo = 0.5220\n",
      "2024-11-27 19:42:46,658 - __main__ - INFO - - Número esperado de créditos aceptados = 67360\n",
      "2024-11-27 19:42:46,660 - __main__ - INFO - - Monto medio simulado = 6,964,460.66\n",
      "2024-11-27 19:42:46,663 - __main__ - INFO - - Plazo medio simulado = 27.50\n",
      "2024-11-27 19:42:46,665 - __main__ - INFO - - Probabilidad de no pago media = 0.0171\n",
      "\n",
      "2024-11-27 19:42:47,608 - __main__ - INFO - El revenue total esperado es: 86,291,395,146.04 con un total de 542904 clientes, 129,035.42 simulaciones, y 67360 créditos.\n",
      "2024-11-27 19:42:50,119 - __main__ - INFO - total_revenue: 86291395146.04265, total_clientes: 542904, total_simulaciones: 129035.42424242424, total_creditos: 67360\n",
      "2024-11-27 19:43:20,049 - __main__ - INFO - Estimación de respuesta a tratamientos completada.\n",
      "2024-11-27 19:43:26,855 - __main__ - INFO - Llamando al modelo de asignación de tratamientos...\n",
      "2024-11-27 19:43:26,856 - __main__ - INFO - Iniciando modelo de asignación de tratamientos...\n",
      "2024-11-27 19:43:26,859 - __main__ - INFO - Procesando datos de probabilidades y asignando IDs de tratamiento...\n",
      "2024-11-27 19:43:26,867 - __main__ - INFO - Fusionando probabilidades con información de RUT...\n",
      "2024-11-27 19:43:27,048 - __main__ - INFO - Fusionando información de RUT con información de clusters...\n",
      "2024-11-27 19:43:27,203 - __main__ - INFO - Agrupando información por cluster...\n",
      "2024-11-27 19:43:27,834 - __main__ - INFO - Calculando Revenue Calculado (RC)...\n",
      "2024-11-27 19:43:27,845 - __main__ - INFO - Preparando matriz de beneficios para optimización...\n",
      "2024-11-27 19:43:27,849 - __main__ - INFO - Inicializando modelo de optimización con Gurobi...\n",
      "2024-11-27 19:43:27,888 - __main__ - INFO - Creando variables de decisión...\n",
      "2024-11-27 19:43:27,904 - __main__ - INFO - Agregando restricción de un tratamiento por cliente...\n",
      "2024-11-27 19:43:27,910 - __main__ - INFO - Agregando restricción de capacidad para ejecutivos...\n",
      "2024-11-27 19:43:27,914 - __main__ - INFO - Agregando restricciones de consistencia por cluster...\n",
      "2024-11-27 19:43:27,919 - __main__ - INFO - Iniciando optimización con Gurobi...\n"
     ]
    },
    {
     "name": "stdout",
     "output_type": "stream",
     "text": [
      "Gurobi Optimizer version 11.0.3 build v11.0.3rc0 (win64 - Windows 10.0 (19045.2))\n"
     ]
    },
    {
     "name": "stderr",
     "output_type": "stream",
     "text": [
      "2024-11-27 19:43:27,943 - gurobipy - INFO - Gurobi Optimizer version 11.0.3 build v11.0.3rc0 (win64 - Windows 10.0 (19045.2))\n"
     ]
    },
    {
     "name": "stdout",
     "output_type": "stream",
     "text": [
      "\n"
     ]
    },
    {
     "name": "stderr",
     "output_type": "stream",
     "text": [
      "2024-11-27 19:43:27,948 - gurobipy - INFO - \n"
     ]
    },
    {
     "name": "stdout",
     "output_type": "stream",
     "text": [
      "CPU model: AMD Ryzen 5 2500U with Radeon Vega Mobile Gfx, instruction set [SSE2|AVX|AVX2]\n"
     ]
    },
    {
     "name": "stderr",
     "output_type": "stream",
     "text": [
      "2024-11-27 19:43:27,954 - gurobipy - INFO - CPU model: AMD Ryzen 5 2500U with Radeon Vega Mobile Gfx, instruction set [SSE2|AVX|AVX2]\n"
     ]
    },
    {
     "name": "stdout",
     "output_type": "stream",
     "text": [
      "Thread count: 4 physical cores, 8 logical processors, using up to 8 threads\n"
     ]
    },
    {
     "name": "stderr",
     "output_type": "stream",
     "text": [
      "2024-11-27 19:43:27,961 - gurobipy - INFO - Thread count: 4 physical cores, 8 logical processors, using up to 8 threads\n"
     ]
    },
    {
     "name": "stdout",
     "output_type": "stream",
     "text": [
      "\n"
     ]
    },
    {
     "name": "stderr",
     "output_type": "stream",
     "text": [
      "2024-11-27 19:43:27,970 - gurobipy - INFO - \n"
     ]
    },
    {
     "name": "stdout",
     "output_type": "stream",
     "text": [
      "Optimize a model with 2 rows, 8 columns and 11 nonzeros\n"
     ]
    },
    {
     "name": "stderr",
     "output_type": "stream",
     "text": [
      "2024-11-27 19:43:27,977 - gurobipy - INFO - Optimize a model with 2 rows, 8 columns and 11 nonzeros\n"
     ]
    },
    {
     "name": "stdout",
     "output_type": "stream",
     "text": [
      "Model fingerprint: 0x68f3dafc\n"
     ]
    },
    {
     "name": "stderr",
     "output_type": "stream",
     "text": [
      "2024-11-27 19:43:27,983 - gurobipy - INFO - Model fingerprint: 0x68f3dafc\n"
     ]
    },
    {
     "name": "stdout",
     "output_type": "stream",
     "text": [
      "Variable types: 0 continuous, 8 integer (8 binary)\n"
     ]
    },
    {
     "name": "stderr",
     "output_type": "stream",
     "text": [
      "2024-11-27 19:43:27,993 - gurobipy - INFO - Variable types: 0 continuous, 8 integer (8 binary)\n"
     ]
    },
    {
     "name": "stdout",
     "output_type": "stream",
     "text": [
      "Coefficient statistics:\n"
     ]
    },
    {
     "name": "stderr",
     "output_type": "stream",
     "text": [
      "2024-11-27 19:43:27,998 - gurobipy - INFO - Coefficient statistics:\n"
     ]
    },
    {
     "name": "stdout",
     "output_type": "stream",
     "text": [
      "  Matrix range     [1e+00, 5e+05]\n"
     ]
    },
    {
     "name": "stderr",
     "output_type": "stream",
     "text": [
      "2024-11-27 19:43:28,005 - gurobipy - INFO -   Matrix range     [1e+00, 5e+05]\n"
     ]
    },
    {
     "name": "stdout",
     "output_type": "stream",
     "text": [
      "  Objective range  [5e+10, 1e+11]\n"
     ]
    },
    {
     "name": "stderr",
     "output_type": "stream",
     "text": [
      "2024-11-27 19:43:28,010 - gurobipy - INFO -   Objective range  [5e+10, 1e+11]\n"
     ]
    },
    {
     "name": "stdout",
     "output_type": "stream",
     "text": [
      "  Bounds range     [1e+00, 1e+00]\n"
     ]
    },
    {
     "name": "stderr",
     "output_type": "stream",
     "text": [
      "2024-11-27 19:43:28,015 - gurobipy - INFO -   Bounds range     [1e+00, 1e+00]\n"
     ]
    },
    {
     "name": "stdout",
     "output_type": "stream",
     "text": [
      "  RHS range        [1e+00, 2e+05]\n"
     ]
    },
    {
     "name": "stderr",
     "output_type": "stream",
     "text": [
      "2024-11-27 19:43:28,020 - gurobipy - INFO -   RHS range        [1e+00, 2e+05]\n"
     ]
    },
    {
     "name": "stdout",
     "output_type": "stream",
     "text": [
      "Warning: Model contains large objective coefficients\n"
     ]
    },
    {
     "name": "stderr",
     "output_type": "stream",
     "text": [
      "2024-11-27 19:43:28,024 - gurobipy - INFO - Warning: Model contains large objective coefficients\n"
     ]
    },
    {
     "name": "stdout",
     "output_type": "stream",
     "text": [
      "         Consider reformulating model or setting NumericFocus parameter\n"
     ]
    },
    {
     "name": "stderr",
     "output_type": "stream",
     "text": [
      "2024-11-27 19:43:28,028 - gurobipy - INFO -          Consider reformulating model or setting NumericFocus parameter\n"
     ]
    },
    {
     "name": "stdout",
     "output_type": "stream",
     "text": [
      "         to avoid numerical issues.\n"
     ]
    },
    {
     "name": "stderr",
     "output_type": "stream",
     "text": [
      "2024-11-27 19:43:28,031 - gurobipy - INFO -          to avoid numerical issues.\n"
     ]
    },
    {
     "name": "stdout",
     "output_type": "stream",
     "text": [
      "Found heuristic solution: objective 5.187296e+10\n"
     ]
    },
    {
     "name": "stderr",
     "output_type": "stream",
     "text": [
      "2024-11-27 19:43:28,067 - gurobipy - INFO - Found heuristic solution: objective 5.187296e+10\n"
     ]
    },
    {
     "name": "stdout",
     "output_type": "stream",
     "text": [
      "Presolve removed 2 rows and 8 columns\n"
     ]
    },
    {
     "name": "stderr",
     "output_type": "stream",
     "text": [
      "2024-11-27 19:43:28,099 - gurobipy - INFO - Presolve removed 2 rows and 8 columns\n"
     ]
    },
    {
     "name": "stdout",
     "output_type": "stream",
     "text": [
      "Presolve time: 0.03s\n"
     ]
    },
    {
     "name": "stderr",
     "output_type": "stream",
     "text": [
      "2024-11-27 19:43:28,102 - gurobipy - INFO - Presolve time: 0.03s\n"
     ]
    },
    {
     "name": "stdout",
     "output_type": "stream",
     "text": [
      "Presolve: All rows and columns removed\n"
     ]
    },
    {
     "name": "stderr",
     "output_type": "stream",
     "text": [
      "2024-11-27 19:43:28,109 - gurobipy - INFO - Presolve: All rows and columns removed\n"
     ]
    },
    {
     "name": "stdout",
     "output_type": "stream",
     "text": [
      "\n"
     ]
    },
    {
     "name": "stderr",
     "output_type": "stream",
     "text": [
      "2024-11-27 19:43:28,115 - gurobipy - INFO - \n"
     ]
    },
    {
     "name": "stdout",
     "output_type": "stream",
     "text": [
      "Explored 0 nodes (0 simplex iterations) in 0.14 seconds (0.00 work units)\n"
     ]
    },
    {
     "name": "stderr",
     "output_type": "stream",
     "text": [
      "2024-11-27 19:43:28,119 - gurobipy - INFO - Explored 0 nodes (0 simplex iterations) in 0.14 seconds (0.00 work units)\n"
     ]
    },
    {
     "name": "stdout",
     "output_type": "stream",
     "text": [
      "Thread count was 1 (of 8 available processors)\n"
     ]
    },
    {
     "name": "stderr",
     "output_type": "stream",
     "text": [
      "2024-11-27 19:43:28,286 - gurobipy - INFO - Thread count was 1 (of 8 available processors)\n"
     ]
    },
    {
     "name": "stdout",
     "output_type": "stream",
     "text": [
      "\n"
     ]
    },
    {
     "name": "stderr",
     "output_type": "stream",
     "text": [
      "2024-11-27 19:43:28,292 - gurobipy - INFO - \n"
     ]
    },
    {
     "name": "stdout",
     "output_type": "stream",
     "text": [
      "Solution count 2: 6.3826e+10 5.1873e+10 \n"
     ]
    },
    {
     "name": "stderr",
     "output_type": "stream",
     "text": [
      "2024-11-27 19:43:28,296 - gurobipy - INFO - Solution count 2: 6.3826e+10 5.1873e+10 \n"
     ]
    },
    {
     "name": "stdout",
     "output_type": "stream",
     "text": [
      "\n"
     ]
    },
    {
     "name": "stderr",
     "output_type": "stream",
     "text": [
      "2024-11-27 19:43:28,307 - gurobipy - INFO - \n"
     ]
    },
    {
     "name": "stdout",
     "output_type": "stream",
     "text": [
      "Optimal solution found (tolerance 1.00e-04)\n"
     ]
    },
    {
     "name": "stderr",
     "output_type": "stream",
     "text": [
      "2024-11-27 19:43:28,313 - gurobipy - INFO - Optimal solution found (tolerance 1.00e-04)\n"
     ]
    },
    {
     "name": "stdout",
     "output_type": "stream",
     "text": [
      "Best objective 6.382598036972e+10, best bound 6.382598036972e+10, gap 0.0000%\n"
     ]
    },
    {
     "name": "stderr",
     "output_type": "stream",
     "text": [
      "2024-11-27 19:43:28,320 - gurobipy - INFO - Best objective 6.382598036972e+10, best bound 6.382598036972e+10, gap 0.0000%\n",
      "2024-11-27 19:43:28,330 - __main__ - INFO - Optimización exitosa. Extrayendo resultados...\n",
      "2024-11-27 19:43:28,333 - __main__ - INFO - Ganancias totales: 63825980369.72\n",
      "2024-11-27 19:43:28,337 - __main__ - INFO - Executives used: 0\n",
      "2024-11-27 19:43:28,343 - __main__ - INFO - Executives remaining: 205000\n",
      "2024-11-27 19:43:28,346 - __main__ - INFO - Optimización completada.\n",
      "2024-11-27 19:43:28,365 - __main__ - INFO - Recalculación de métricas completada.\n",
      "2024-11-27 19:43:30,428 - __main__ - INFO - Aplicando acción tipo: adjust_splits sobre variable: Renta con parámetros: {'operation': 'move', 'index': 1, 'amount': 1}\n",
      "2024-11-27 19:43:30,430 - __main__ - WARNING - No se puede ajustar separaciones para 'Renta': no es continua o no está incluida en la clusterización.\n",
      "2024-11-27 19:43:30,436 - __main__ - INFO - Seleccionando nueva acción: ('adjust_splits', 'Renta', {'operation': 'move', 'index': 2, 'amount': 1})\n",
      "2024-11-27 19:43:30,437 - __main__ - INFO - Aplicando acción tipo: adjust_splits sobre variable: Renta con parámetros: {'operation': 'move', 'index': 2, 'amount': 1}\n",
      "2024-11-27 19:43:30,439 - __main__ - WARNING - No se puede ajustar separaciones para 'Renta': no es continua o no está incluida en la clusterización.\n",
      "2024-11-27 19:43:30,442 - __main__ - INFO - Seleccionando nueva acción: ('toggle_variable', 'Categoria_Digital', {})\n",
      "2024-11-27 19:43:30,444 - __main__ - INFO - Aplicando acción tipo: toggle_variable sobre variable: Categoria_Digital con parámetros: {}\n",
      "2024-11-27 19:43:30,446 - __main__ - INFO - Variable 'Categoria_Digital' incluida: 1\n",
      "2024-11-27 19:43:30,458 - __main__ - INFO - Recalculando clusters...\n",
      "2024-11-27 19:43:30,460 - __main__ - INFO - Realizando clustering...\n"
     ]
    },
    {
     "name": "stdout",
     "output_type": "stream",
     "text": [
      "Action: 23, Reward: 61755980369.71545\n"
     ]
    },
    {
     "name": "stderr",
     "output_type": "stream",
     "text": [
      "2024-11-27 19:43:31,117 - __main__ - INFO - Procesando variable: Genero\n",
      "2024-11-27 19:43:31,119 - __main__ - INFO - Procesando variable: Categoria_Digital\n",
      "2024-11-27 19:43:31,216 - __main__ - INFO - Variable categórica 'Categoria_Digital' separada en los grupos: ['Cliente no Digital' 'Cliente Digital']\n",
      "2024-11-27 19:43:31,217 - __main__ - INFO - Procesando variable: Elasticidad_Precios\n",
      "2024-11-27 19:43:31,219 - __main__ - INFO - Procesando variable: Nacionalidad\n",
      "2024-11-27 19:43:31,221 - __main__ - INFO - Procesando variable: Propension\n",
      "2024-11-27 19:43:31,223 - __main__ - INFO - Procesando variable: Probabilidad_No_Pago\n",
      "2024-11-27 19:43:31,225 - __main__ - INFO - Procesando variable: Edad\n",
      "2024-11-27 19:43:31,228 - __main__ - INFO - Procesando variable: Renta\n",
      "2024-11-27 19:43:31,231 - __main__ - INFO - Variables incluidas en clusterización: ['Categoria_Digital_cluster']\n",
      "2024-11-27 19:43:46,871 - __main__ - INFO - Variables incluidas en este clustering: ['Categoria_Digital_cluster']\n",
      "2024-11-27 19:43:46,872 - __main__ - INFO - Clustering completado. Número de clusters: 2\n",
      "2024-11-27 19:43:46,873 - __main__ - INFO - Recalculando métricas...\n",
      "2024-11-27 19:43:52,751 - __main__ - INFO - Estimando elasticidad...\n",
      "2024-11-27 19:44:08,387 - __main__ - INFO - Cluster 1:\n",
      "2024-11-27 19:44:08,389 - __main__ - INFO - - Precio Máx. Revenue Esperado = 1.23%\n",
      "2024-11-27 19:44:08,393 - __main__ - INFO - - Revenue Esperado Máximo = 47,335,500,902.54\n",
      "2024-11-27 19:44:08,396 - __main__ - INFO - - Número de clientes en el cluster = 272123\n",
      "2024-11-27 19:44:08,398 - __main__ - INFO - - Número de simulaciones en el cluster = 60766.12\n",
      "2024-11-27 19:44:08,400 - __main__ - INFO - - Probabilidad de aceptación en el precio óptimo = 0.5291\n",
      "2024-11-27 19:44:08,405 - __main__ - INFO - - Número esperado de créditos aceptados = 32153\n",
      "2024-11-27 19:44:08,407 - __main__ - INFO - - Monto medio simulado = 8,095,320.55\n",
      "2024-11-27 19:44:08,411 - __main__ - INFO - - Plazo medio simulado = 27.50\n",
      "2024-11-27 19:44:08,414 - __main__ - INFO - - Probabilidad de no pago media = 0.0161\n",
      "\n",
      "2024-11-27 19:44:26,553 - __main__ - INFO - Cluster 0:\n",
      "2024-11-27 19:44:26,555 - __main__ - INFO - - Precio Máx. Revenue Esperado = 1.25%\n",
      "2024-11-27 19:44:26,557 - __main__ - INFO - - Revenue Esperado Máximo = 38,984,422,892.46\n",
      "2024-11-27 19:44:26,560 - __main__ - INFO - - Número de clientes en el cluster = 270781\n",
      "2024-11-27 19:44:26,562 - __main__ - INFO - - Número de simulaciones en el cluster = 68269.30\n",
      "2024-11-27 19:44:26,564 - __main__ - INFO - - Probabilidad de aceptación en el precio óptimo = 0.5215\n",
      "2024-11-27 19:44:26,566 - __main__ - INFO - - Número esperado de créditos aceptados = 35600\n",
      "2024-11-27 19:44:26,568 - __main__ - INFO - - Monto medio simulado = 5,957,888.66\n",
      "2024-11-27 19:44:26,571 - __main__ - INFO - - Plazo medio simulado = 27.50\n",
      "2024-11-27 19:44:26,574 - __main__ - INFO - - Probabilidad de no pago media = 0.0179\n",
      "\n",
      "2024-11-27 19:44:27,218 - __main__ - INFO - El revenue total esperado es: 86,319,923,795.00 con un total de 542904 clientes, 129,035.42 simulaciones, y 67753 créditos.\n",
      "2024-11-27 19:44:29,408 - __main__ - INFO - total_revenue: 86319923794.99782, total_clientes: 542904, total_simulaciones: 129035.42424242424, total_creditos: 67753\n",
      "2024-11-27 19:45:01,065 - __main__ - INFO - Estimación de respuesta a tratamientos completada.\n",
      "2024-11-27 19:45:07,124 - __main__ - INFO - Llamando al modelo de asignación de tratamientos...\n",
      "2024-11-27 19:45:07,126 - __main__ - INFO - Iniciando modelo de asignación de tratamientos...\n",
      "2024-11-27 19:45:07,128 - __main__ - INFO - Procesando datos de probabilidades y asignando IDs de tratamiento...\n",
      "2024-11-27 19:45:07,134 - __main__ - INFO - Fusionando probabilidades con información de RUT...\n",
      "2024-11-27 19:45:07,282 - __main__ - INFO - Fusionando información de RUT con información de clusters...\n",
      "2024-11-27 19:45:07,456 - __main__ - INFO - Agrupando información por cluster...\n",
      "2024-11-27 19:45:08,199 - __main__ - INFO - Calculando Revenue Calculado (RC)...\n",
      "2024-11-27 19:45:08,209 - __main__ - INFO - Preparando matriz de beneficios para optimización...\n",
      "2024-11-27 19:45:08,211 - __main__ - INFO - Inicializando modelo de optimización con Gurobi...\n",
      "2024-11-27 19:45:08,213 - __main__ - INFO - Creando variables de decisión...\n",
      "2024-11-27 19:45:08,215 - __main__ - INFO - Agregando restricción de un tratamiento por cliente...\n",
      "2024-11-27 19:45:08,218 - __main__ - INFO - Agregando restricción de capacidad para ejecutivos...\n",
      "2024-11-27 19:45:08,221 - __main__ - INFO - Agregando restricciones de consistencia por cluster...\n",
      "2024-11-27 19:45:08,226 - __main__ - INFO - Iniciando optimización con Gurobi...\n"
     ]
    },
    {
     "name": "stdout",
     "output_type": "stream",
     "text": [
      "Gurobi Optimizer version 11.0.3 build v11.0.3rc0 (win64 - Windows 10.0 (19045.2))\n"
     ]
    },
    {
     "name": "stderr",
     "output_type": "stream",
     "text": [
      "2024-11-27 19:45:08,284 - gurobipy - INFO - Gurobi Optimizer version 11.0.3 build v11.0.3rc0 (win64 - Windows 10.0 (19045.2))\n"
     ]
    },
    {
     "name": "stdout",
     "output_type": "stream",
     "text": [
      "\n"
     ]
    },
    {
     "name": "stderr",
     "output_type": "stream",
     "text": [
      "2024-11-27 19:45:08,288 - gurobipy - INFO - \n"
     ]
    },
    {
     "name": "stdout",
     "output_type": "stream",
     "text": [
      "CPU model: AMD Ryzen 5 2500U with Radeon Vega Mobile Gfx, instruction set [SSE2|AVX|AVX2]\n"
     ]
    },
    {
     "name": "stderr",
     "output_type": "stream",
     "text": [
      "2024-11-27 19:45:08,292 - gurobipy - INFO - CPU model: AMD Ryzen 5 2500U with Radeon Vega Mobile Gfx, instruction set [SSE2|AVX|AVX2]\n"
     ]
    },
    {
     "name": "stdout",
     "output_type": "stream",
     "text": [
      "Thread count: 4 physical cores, 8 logical processors, using up to 8 threads\n"
     ]
    },
    {
     "name": "stderr",
     "output_type": "stream",
     "text": [
      "2024-11-27 19:45:08,296 - gurobipy - INFO - Thread count: 4 physical cores, 8 logical processors, using up to 8 threads\n"
     ]
    },
    {
     "name": "stdout",
     "output_type": "stream",
     "text": [
      "\n"
     ]
    },
    {
     "name": "stderr",
     "output_type": "stream",
     "text": [
      "2024-11-27 19:45:08,300 - gurobipy - INFO - \n"
     ]
    },
    {
     "name": "stdout",
     "output_type": "stream",
     "text": [
      "Optimize a model with 3 rows, 16 columns and 22 nonzeros\n"
     ]
    },
    {
     "name": "stderr",
     "output_type": "stream",
     "text": [
      "2024-11-27 19:45:08,303 - gurobipy - INFO - Optimize a model with 3 rows, 16 columns and 22 nonzeros\n"
     ]
    },
    {
     "name": "stdout",
     "output_type": "stream",
     "text": [
      "Model fingerprint: 0x22f8c1cd\n"
     ]
    },
    {
     "name": "stderr",
     "output_type": "stream",
     "text": [
      "2024-11-27 19:45:08,310 - gurobipy - INFO - Model fingerprint: 0x22f8c1cd\n"
     ]
    },
    {
     "name": "stdout",
     "output_type": "stream",
     "text": [
      "Variable types: 0 continuous, 16 integer (16 binary)\n"
     ]
    },
    {
     "name": "stderr",
     "output_type": "stream",
     "text": [
      "2024-11-27 19:45:08,314 - gurobipy - INFO - Variable types: 0 continuous, 16 integer (16 binary)\n"
     ]
    },
    {
     "name": "stdout",
     "output_type": "stream",
     "text": [
      "Coefficient statistics:\n"
     ]
    },
    {
     "name": "stderr",
     "output_type": "stream",
     "text": [
      "2024-11-27 19:45:08,319 - gurobipy - INFO - Coefficient statistics:\n"
     ]
    },
    {
     "name": "stdout",
     "output_type": "stream",
     "text": [
      "  Matrix range     [1e+00, 3e+05]\n"
     ]
    },
    {
     "name": "stderr",
     "output_type": "stream",
     "text": [
      "2024-11-27 19:45:08,326 - gurobipy - INFO -   Matrix range     [1e+00, 3e+05]\n"
     ]
    },
    {
     "name": "stdout",
     "output_type": "stream",
     "text": [
      "  Objective range  [2e+10, 7e+10]\n"
     ]
    },
    {
     "name": "stderr",
     "output_type": "stream",
     "text": [
      "2024-11-27 19:45:08,330 - gurobipy - INFO -   Objective range  [2e+10, 7e+10]\n"
     ]
    },
    {
     "name": "stdout",
     "output_type": "stream",
     "text": [
      "  Bounds range     [1e+00, 1e+00]\n"
     ]
    },
    {
     "name": "stderr",
     "output_type": "stream",
     "text": [
      "2024-11-27 19:45:08,335 - gurobipy - INFO -   Bounds range     [1e+00, 1e+00]\n"
     ]
    },
    {
     "name": "stdout",
     "output_type": "stream",
     "text": [
      "  RHS range        [1e+00, 2e+05]\n"
     ]
    },
    {
     "name": "stderr",
     "output_type": "stream",
     "text": [
      "2024-11-27 19:45:08,343 - gurobipy - INFO -   RHS range        [1e+00, 2e+05]\n"
     ]
    },
    {
     "name": "stdout",
     "output_type": "stream",
     "text": [
      "Warning: Model contains large objective coefficients\n"
     ]
    },
    {
     "name": "stderr",
     "output_type": "stream",
     "text": [
      "2024-11-27 19:45:08,346 - gurobipy - INFO - Warning: Model contains large objective coefficients\n"
     ]
    },
    {
     "name": "stdout",
     "output_type": "stream",
     "text": [
      "         Consider reformulating model or setting NumericFocus parameter\n"
     ]
    },
    {
     "name": "stderr",
     "output_type": "stream",
     "text": [
      "2024-11-27 19:45:08,351 - gurobipy - INFO -          Consider reformulating model or setting NumericFocus parameter\n"
     ]
    },
    {
     "name": "stdout",
     "output_type": "stream",
     "text": [
      "         to avoid numerical issues.\n"
     ]
    },
    {
     "name": "stderr",
     "output_type": "stream",
     "text": [
      "2024-11-27 19:45:08,362 - gurobipy - INFO -          to avoid numerical issues.\n"
     ]
    },
    {
     "name": "stdout",
     "output_type": "stream",
     "text": [
      "Found heuristic solution: objective 5.237418e+10\n"
     ]
    },
    {
     "name": "stderr",
     "output_type": "stream",
     "text": [
      "2024-11-27 19:45:08,364 - gurobipy - INFO - Found heuristic solution: objective 5.237418e+10\n"
     ]
    },
    {
     "name": "stdout",
     "output_type": "stream",
     "text": [
      "Presolve removed 3 rows and 16 columns\n"
     ]
    },
    {
     "name": "stderr",
     "output_type": "stream",
     "text": [
      "2024-11-27 19:45:08,368 - gurobipy - INFO - Presolve removed 3 rows and 16 columns\n"
     ]
    },
    {
     "name": "stdout",
     "output_type": "stream",
     "text": [
      "Presolve time: 0.00s\n"
     ]
    },
    {
     "name": "stderr",
     "output_type": "stream",
     "text": [
      "2024-11-27 19:45:08,370 - gurobipy - INFO - Presolve time: 0.00s\n"
     ]
    },
    {
     "name": "stdout",
     "output_type": "stream",
     "text": [
      "Presolve: All rows and columns removed\n"
     ]
    },
    {
     "name": "stderr",
     "output_type": "stream",
     "text": [
      "2024-11-27 19:45:08,375 - gurobipy - INFO - Presolve: All rows and columns removed\n"
     ]
    },
    {
     "name": "stdout",
     "output_type": "stream",
     "text": [
      "\n"
     ]
    },
    {
     "name": "stderr",
     "output_type": "stream",
     "text": [
      "2024-11-27 19:45:08,378 - gurobipy - INFO - \n"
     ]
    },
    {
     "name": "stdout",
     "output_type": "stream",
     "text": [
      "Explored 0 nodes (0 simplex iterations) in 0.07 seconds (0.00 work units)\n"
     ]
    },
    {
     "name": "stderr",
     "output_type": "stream",
     "text": [
      "2024-11-27 19:45:08,381 - gurobipy - INFO - Explored 0 nodes (0 simplex iterations) in 0.07 seconds (0.00 work units)\n"
     ]
    },
    {
     "name": "stdout",
     "output_type": "stream",
     "text": [
      "Thread count was 1 (of 8 available processors)\n"
     ]
    },
    {
     "name": "stderr",
     "output_type": "stream",
     "text": [
      "2024-11-27 19:45:08,383 - gurobipy - INFO - Thread count was 1 (of 8 available processors)\n"
     ]
    },
    {
     "name": "stdout",
     "output_type": "stream",
     "text": [
      "\n"
     ]
    },
    {
     "name": "stderr",
     "output_type": "stream",
     "text": [
      "2024-11-27 19:45:08,388 - gurobipy - INFO - \n"
     ]
    },
    {
     "name": "stdout",
     "output_type": "stream",
     "text": [
      "Solution count 2: 6.3143e+10 5.23742e+10 \n"
     ]
    },
    {
     "name": "stderr",
     "output_type": "stream",
     "text": [
      "2024-11-27 19:45:08,393 - gurobipy - INFO - Solution count 2: 6.3143e+10 5.23742e+10 \n"
     ]
    },
    {
     "name": "stdout",
     "output_type": "stream",
     "text": [
      "\n"
     ]
    },
    {
     "name": "stderr",
     "output_type": "stream",
     "text": [
      "2024-11-27 19:45:08,397 - gurobipy - INFO - \n"
     ]
    },
    {
     "name": "stdout",
     "output_type": "stream",
     "text": [
      "Optimal solution found (tolerance 1.00e-04)\n"
     ]
    },
    {
     "name": "stderr",
     "output_type": "stream",
     "text": [
      "2024-11-27 19:45:08,405 - gurobipy - INFO - Optimal solution found (tolerance 1.00e-04)\n"
     ]
    },
    {
     "name": "stdout",
     "output_type": "stream",
     "text": [
      "Best objective 6.314302180773e+10, best bound 6.314302180773e+10, gap 0.0000%\n"
     ]
    },
    {
     "name": "stderr",
     "output_type": "stream",
     "text": [
      "2024-11-27 19:45:08,409 - gurobipy - INFO - Best objective 6.314302180773e+10, best bound 6.314302180773e+10, gap 0.0000%\n",
      "2024-11-27 19:45:08,412 - __main__ - INFO - Optimización exitosa. Extrayendo resultados...\n",
      "2024-11-27 19:45:08,413 - __main__ - INFO - Ganancias totales: 63143021807.73\n",
      "2024-11-27 19:45:08,414 - __main__ - INFO - Executives used: 0\n",
      "2024-11-27 19:45:08,416 - __main__ - INFO - Executives remaining: 205000\n",
      "2024-11-27 19:45:08,418 - __main__ - INFO - Optimización completada.\n",
      "2024-11-27 19:45:08,430 - __main__ - INFO - Recalculación de métricas completada.\n"
     ]
    },
    {
     "name": "stdout",
     "output_type": "stream",
     "text": [
      "Action: 36, Reward: 61053021807.72954\n"
     ]
    },
    {
     "name": "stderr",
     "output_type": "stream",
     "text": [
      "2024-11-27 19:45:09,650 - __main__ - INFO - Aplicando acción tipo: adjust_splits sobre variable: Renta con parámetros: {'operation': 'move', 'index': 1, 'amount': 1}\n",
      "2024-11-27 19:45:09,652 - __main__ - WARNING - No se puede ajustar separaciones para 'Renta': no es continua o no está incluida en la clusterización.\n",
      "2024-11-27 19:45:09,655 - __main__ - INFO - Seleccionando nueva acción: ('toggle_variable', 'Elasticidad_Precios', {})\n",
      "2024-11-27 19:45:09,657 - __main__ - INFO - Aplicando acción tipo: toggle_variable sobre variable: Elasticidad_Precios con parámetros: {}\n",
      "2024-11-27 19:45:09,658 - __main__ - INFO - Variable 'Elasticidad_Precios' incluida: 1\n",
      "2024-11-27 19:45:09,668 - __main__ - INFO - Recalculando clusters...\n",
      "2024-11-27 19:45:09,669 - __main__ - INFO - Realizando clustering...\n",
      "2024-11-27 19:45:09,878 - __main__ - INFO - Procesando variable: Genero\n",
      "2024-11-27 19:45:09,881 - __main__ - INFO - Procesando variable: Categoria_Digital\n",
      "2024-11-27 19:45:10,020 - __main__ - INFO - Variable categórica 'Categoria_Digital' separada en los grupos: ['Cliente no Digital' 'Cliente Digital']\n",
      "2024-11-27 19:45:10,022 - __main__ - INFO - Procesando variable: Elasticidad_Precios\n",
      "2024-11-27 19:45:10,085 - __main__ - INFO - Variable categórica 'Elasticidad_Precios' separada en los grupos: ['Alta' 'Baja' 'Media']\n",
      "2024-11-27 19:45:10,086 - __main__ - INFO - Procesando variable: Nacionalidad\n",
      "2024-11-27 19:45:10,087 - __main__ - INFO - Procesando variable: Propension\n",
      "2024-11-27 19:45:10,090 - __main__ - INFO - Procesando variable: Probabilidad_No_Pago\n",
      "2024-11-27 19:45:10,091 - __main__ - INFO - Procesando variable: Edad\n",
      "2024-11-27 19:45:10,093 - __main__ - INFO - Procesando variable: Renta\n",
      "2024-11-27 19:45:10,095 - __main__ - INFO - Variables incluidas en clusterización: ['Categoria_Digital_cluster', 'Elasticidad_Precios_cluster']\n",
      "2024-11-27 19:45:26,243 - __main__ - INFO - Variables incluidas en este clustering: ['Categoria_Digital_cluster', 'Elasticidad_Precios_cluster']\n",
      "2024-11-27 19:45:26,244 - __main__ - INFO - Clustering completado. Número de clusters: 6\n",
      "2024-11-27 19:45:26,245 - __main__ - INFO - Recalculando métricas...\n",
      "2024-11-27 19:45:29,983 - __main__ - INFO - Estimando elasticidad...\n",
      "2024-11-27 19:45:33,373 - __main__ - INFO - Cluster 3:\n",
      "2024-11-27 19:45:33,375 - __main__ - INFO - - Precio Máx. Revenue Esperado = 2.50%\n",
      "2024-11-27 19:45:33,377 - __main__ - INFO - - Revenue Esperado Máximo = 6,912,986,952.69\n",
      "2024-11-27 19:45:33,378 - __main__ - INFO - - Número de clientes en el cluster = 61209\n",
      "2024-11-27 19:45:33,379 - __main__ - INFO - - Número de simulaciones en el cluster = 13180.24\n",
      "2024-11-27 19:45:33,383 - __main__ - INFO - - Probabilidad de aceptación en el precio óptimo = 0.4002\n",
      "2024-11-27 19:45:33,384 - __main__ - INFO - - Número esperado de créditos aceptados = 5275\n",
      "2024-11-27 19:45:33,386 - __main__ - INFO - - Monto medio simulado = 3,392,576.64\n",
      "2024-11-27 19:45:33,388 - __main__ - INFO - - Plazo medio simulado = 27.49\n",
      "2024-11-27 19:45:33,390 - __main__ - INFO - - Probabilidad de no pago media = 0.0212\n",
      "\n",
      "2024-11-27 19:45:41,371 - __main__ - INFO - Cluster 4:\n",
      "2024-11-27 19:45:41,373 - __main__ - INFO - - Precio Máx. Revenue Esperado = 1.00%\n",
      "2024-11-27 19:45:41,374 - __main__ - INFO - - Revenue Esperado Máximo = 31,797,641,545.68\n",
      "2024-11-27 19:45:41,377 - __main__ - INFO - - Número de clientes en el cluster = 116946\n",
      "2024-11-27 19:45:41,379 - __main__ - INFO - - Número de simulaciones en el cluster = 27140.85\n",
      "2024-11-27 19:45:41,383 - __main__ - INFO - - Probabilidad de aceptación en el precio óptimo = 0.7426\n",
      "2024-11-27 19:45:41,386 - __main__ - INFO - - Número esperado de créditos aceptados = 20156\n",
      "2024-11-27 19:45:41,391 - __main__ - INFO - - Monto medio simulado = 10,742,627.59\n",
      "2024-11-27 19:45:41,397 - __main__ - INFO - - Plazo medio simulado = 27.50\n",
      "2024-11-27 19:45:41,400 - __main__ - INFO - - Probabilidad de no pago media = 0.0127\n",
      "\n",
      "2024-11-27 19:45:47,605 - __main__ - INFO - Cluster 2:\n",
      "2024-11-27 19:45:47,607 - __main__ - INFO - - Precio Máx. Revenue Esperado = 1.37%\n",
      "2024-11-27 19:45:47,610 - __main__ - INFO - - Revenue Esperado Máximo = 15,262,619,074.66\n",
      "2024-11-27 19:45:47,613 - __main__ - INFO - - Número de clientes en el cluster = 92419\n",
      "2024-11-27 19:45:47,614 - __main__ - INFO - - Número de simulaciones en el cluster = 22780.03\n",
      "2024-11-27 19:45:47,616 - __main__ - INFO - - Probabilidad de aceptación en el precio óptimo = 0.6140\n",
      "2024-11-27 19:45:47,618 - __main__ - INFO - - Número esperado de créditos aceptados = 13987\n",
      "2024-11-27 19:45:47,620 - __main__ - INFO - - Monto medio simulado = 5,352,456.14\n",
      "2024-11-27 19:45:47,622 - __main__ - INFO - - Plazo medio simulado = 27.52\n",
      "2024-11-27 19:45:47,623 - __main__ - INFO - - Probabilidad de no pago media = 0.0193\n",
      "\n",
      "2024-11-27 19:45:53,337 - __main__ - INFO - Cluster 5:\n",
      "2024-11-27 19:45:53,339 - __main__ - INFO - - Precio Máx. Revenue Esperado = 1.38%\n",
      "2024-11-27 19:45:53,341 - __main__ - INFO - - Revenue Esperado Máximo = 19,473,178,229.23\n",
      "2024-11-27 19:45:53,343 - __main__ - INFO - - Número de clientes en el cluster = 93968\n",
      "2024-11-27 19:45:53,345 - __main__ - INFO - - Número de simulaciones en el cluster = 20445.03\n",
      "2024-11-27 19:45:53,348 - __main__ - INFO - - Probabilidad de aceptación en el precio óptimo = 0.6128\n",
      "2024-11-27 19:45:53,350 - __main__ - INFO - - Número esperado de créditos aceptados = 12528\n",
      "2024-11-27 19:45:53,354 - __main__ - INFO - - Monto medio simulado = 7,612,716.49\n",
      "2024-11-27 19:45:53,358 - __main__ - INFO - - Plazo medio simulado = 27.51\n",
      "2024-11-27 19:45:53,361 - __main__ - INFO - - Probabilidad de no pago media = 0.0174\n",
      "\n",
      "2024-11-27 19:45:57,807 - __main__ - INFO - Cluster 0:\n",
      "2024-11-27 19:45:57,808 - __main__ - INFO - - Precio Máx. Revenue Esperado = 2.50%\n",
      "2024-11-27 19:45:57,810 - __main__ - INFO - - Revenue Esperado Máximo = 6,374,747,961.08\n",
      "2024-11-27 19:45:57,811 - __main__ - INFO - - Número de clientes en el cluster = 63178\n",
      "2024-11-27 19:45:57,813 - __main__ - INFO - - Número de simulaciones en el cluster = 15572.79\n",
      "2024-11-27 19:45:57,815 - __main__ - INFO - - Probabilidad de aceptación en el precio óptimo = 0.4010\n",
      "2024-11-27 19:45:57,822 - __main__ - INFO - - Número esperado de créditos aceptados = 6245\n",
      "2024-11-27 19:45:57,824 - __main__ - INFO - - Monto medio simulado = 2,645,103.78\n",
      "2024-11-27 19:45:57,826 - __main__ - INFO - - Plazo medio simulado = 27.47\n",
      "2024-11-27 19:45:57,830 - __main__ - INFO - - Probabilidad de no pago media = 0.0216\n",
      "\n",
      "2024-11-27 19:46:06,487 - __main__ - INFO - Cluster 1:\n",
      "2024-11-27 19:46:06,490 - __main__ - INFO - - Precio Máx. Revenue Esperado = 1.00%\n",
      "2024-11-27 19:46:06,493 - __main__ - INFO - - Revenue Esperado Máximo = 26,552,003,686.85\n",
      "2024-11-27 19:46:06,495 - __main__ - INFO - - Número de clientes en el cluster = 115184\n",
      "2024-11-27 19:46:06,497 - __main__ - INFO - - Número de simulaciones en el cluster = 29916.48\n",
      "2024-11-27 19:46:06,499 - __main__ - INFO - - Probabilidad de aceptación en el precio óptimo = 0.7436\n",
      "2024-11-27 19:46:06,504 - __main__ - INFO - - Número esperado de créditos aceptados = 22245\n",
      "2024-11-27 19:46:06,508 - __main__ - INFO - - Monto medio simulado = 8,143,341.52\n",
      "2024-11-27 19:46:06,513 - __main__ - INFO - - Plazo medio simulado = 27.51\n",
      "2024-11-27 19:46:06,516 - __main__ - INFO - - Probabilidad de no pago media = 0.0149\n",
      "\n",
      "2024-11-27 19:46:07,045 - __main__ - INFO - El revenue total esperado es: 106,373,177,450.20 con un total de 542904 clientes, 129,035.42 simulaciones, y 80436 créditos.\n",
      "2024-11-27 19:46:09,633 - __main__ - INFO - total_revenue: 106373177450.20438, total_clientes: 542904, total_simulaciones: 129035.42424242424, total_creditos: 80436\n",
      "2024-11-27 19:46:32,182 - __main__ - INFO - Estimación de respuesta a tratamientos completada.\n",
      "2024-11-27 19:46:39,645 - __main__ - INFO - Llamando al modelo de asignación de tratamientos...\n",
      "2024-11-27 19:46:39,647 - __main__ - INFO - Iniciando modelo de asignación de tratamientos...\n",
      "2024-11-27 19:46:39,649 - __main__ - INFO - Procesando datos de probabilidades y asignando IDs de tratamiento...\n",
      "2024-11-27 19:46:39,657 - __main__ - INFO - Fusionando probabilidades con información de RUT...\n",
      "2024-11-27 19:46:40,046 - __main__ - INFO - Fusionando información de RUT con información de clusters...\n",
      "2024-11-27 19:46:40,232 - __main__ - INFO - Agrupando información por cluster...\n",
      "2024-11-27 19:46:42,360 - __main__ - INFO - Calculando Revenue Calculado (RC)...\n",
      "2024-11-27 19:46:42,369 - __main__ - INFO - Preparando matriz de beneficios para optimización...\n",
      "2024-11-27 19:46:42,397 - __main__ - INFO - Inicializando modelo de optimización con Gurobi...\n",
      "2024-11-27 19:46:42,399 - __main__ - INFO - Creando variables de decisión...\n",
      "2024-11-27 19:46:42,403 - __main__ - INFO - Agregando restricción de un tratamiento por cliente...\n",
      "2024-11-27 19:46:42,406 - __main__ - INFO - Agregando restricción de capacidad para ejecutivos...\n",
      "2024-11-27 19:46:42,410 - __main__ - INFO - Agregando restricciones de consistencia por cluster...\n",
      "2024-11-27 19:46:42,414 - __main__ - INFO - Iniciando optimización con Gurobi...\n"
     ]
    },
    {
     "name": "stdout",
     "output_type": "stream",
     "text": [
      "Gurobi Optimizer version 11.0.3 build v11.0.3rc0 (win64 - Windows 10.0 (19045.2))\n"
     ]
    },
    {
     "name": "stderr",
     "output_type": "stream",
     "text": [
      "2024-11-27 19:46:42,427 - gurobipy - INFO - Gurobi Optimizer version 11.0.3 build v11.0.3rc0 (win64 - Windows 10.0 (19045.2))\n"
     ]
    },
    {
     "name": "stdout",
     "output_type": "stream",
     "text": [
      "\n"
     ]
    },
    {
     "name": "stderr",
     "output_type": "stream",
     "text": [
      "2024-11-27 19:46:42,431 - gurobipy - INFO - \n"
     ]
    },
    {
     "name": "stdout",
     "output_type": "stream",
     "text": [
      "CPU model: AMD Ryzen 5 2500U with Radeon Vega Mobile Gfx, instruction set [SSE2|AVX|AVX2]\n"
     ]
    },
    {
     "name": "stderr",
     "output_type": "stream",
     "text": [
      "2024-11-27 19:46:42,444 - gurobipy - INFO - CPU model: AMD Ryzen 5 2500U with Radeon Vega Mobile Gfx, instruction set [SSE2|AVX|AVX2]\n"
     ]
    },
    {
     "name": "stdout",
     "output_type": "stream",
     "text": [
      "Thread count: 4 physical cores, 8 logical processors, using up to 8 threads\n"
     ]
    },
    {
     "name": "stderr",
     "output_type": "stream",
     "text": [
      "2024-11-27 19:46:42,448 - gurobipy - INFO - Thread count: 4 physical cores, 8 logical processors, using up to 8 threads\n"
     ]
    },
    {
     "name": "stdout",
     "output_type": "stream",
     "text": [
      "\n"
     ]
    },
    {
     "name": "stderr",
     "output_type": "stream",
     "text": [
      "2024-11-27 19:46:42,453 - gurobipy - INFO - \n"
     ]
    },
    {
     "name": "stdout",
     "output_type": "stream",
     "text": [
      "Optimize a model with 7 rows, 48 columns and 66 nonzeros\n"
     ]
    },
    {
     "name": "stderr",
     "output_type": "stream",
     "text": [
      "2024-11-27 19:46:42,458 - gurobipy - INFO - Optimize a model with 7 rows, 48 columns and 66 nonzeros\n"
     ]
    },
    {
     "name": "stdout",
     "output_type": "stream",
     "text": [
      "Model fingerprint: 0x5a83a4e9\n"
     ]
    },
    {
     "name": "stderr",
     "output_type": "stream",
     "text": [
      "2024-11-27 19:46:42,462 - gurobipy - INFO - Model fingerprint: 0x5a83a4e9\n"
     ]
    },
    {
     "name": "stdout",
     "output_type": "stream",
     "text": [
      "Variable types: 0 continuous, 48 integer (48 binary)\n"
     ]
    },
    {
     "name": "stderr",
     "output_type": "stream",
     "text": [
      "2024-11-27 19:46:42,466 - gurobipy - INFO - Variable types: 0 continuous, 48 integer (48 binary)\n"
     ]
    },
    {
     "name": "stdout",
     "output_type": "stream",
     "text": [
      "Coefficient statistics:\n"
     ]
    },
    {
     "name": "stderr",
     "output_type": "stream",
     "text": [
      "2024-11-27 19:46:42,470 - gurobipy - INFO - Coefficient statistics:\n"
     ]
    },
    {
     "name": "stdout",
     "output_type": "stream",
     "text": [
      "  Matrix range     [1e+00, 1e+05]\n"
     ]
    },
    {
     "name": "stderr",
     "output_type": "stream",
     "text": [
      "2024-11-27 19:46:42,473 - gurobipy - INFO -   Matrix range     [1e+00, 1e+05]\n"
     ]
    },
    {
     "name": "stdout",
     "output_type": "stream",
     "text": [
      "  Objective range  [4e+09, 5e+10]\n"
     ]
    },
    {
     "name": "stderr",
     "output_type": "stream",
     "text": [
      "2024-11-27 19:46:42,477 - gurobipy - INFO -   Objective range  [4e+09, 5e+10]\n"
     ]
    },
    {
     "name": "stdout",
     "output_type": "stream",
     "text": [
      "  Bounds range     [1e+00, 1e+00]\n"
     ]
    },
    {
     "name": "stderr",
     "output_type": "stream",
     "text": [
      "2024-11-27 19:46:42,480 - gurobipy - INFO -   Bounds range     [1e+00, 1e+00]\n"
     ]
    },
    {
     "name": "stdout",
     "output_type": "stream",
     "text": [
      "  RHS range        [1e+00, 2e+05]\n"
     ]
    },
    {
     "name": "stderr",
     "output_type": "stream",
     "text": [
      "2024-11-27 19:46:42,483 - gurobipy - INFO -   RHS range        [1e+00, 2e+05]\n"
     ]
    },
    {
     "name": "stdout",
     "output_type": "stream",
     "text": [
      "Warning: Model contains large objective coefficients\n"
     ]
    },
    {
     "name": "stderr",
     "output_type": "stream",
     "text": [
      "2024-11-27 19:46:42,488 - gurobipy - INFO - Warning: Model contains large objective coefficients\n"
     ]
    },
    {
     "name": "stdout",
     "output_type": "stream",
     "text": [
      "         Consider reformulating model or setting NumericFocus parameter\n"
     ]
    },
    {
     "name": "stderr",
     "output_type": "stream",
     "text": [
      "2024-11-27 19:46:42,491 - gurobipy - INFO -          Consider reformulating model or setting NumericFocus parameter\n"
     ]
    },
    {
     "name": "stdout",
     "output_type": "stream",
     "text": [
      "         to avoid numerical issues.\n"
     ]
    },
    {
     "name": "stderr",
     "output_type": "stream",
     "text": [
      "2024-11-27 19:46:42,494 - gurobipy - INFO -          to avoid numerical issues.\n"
     ]
    },
    {
     "name": "stdout",
     "output_type": "stream",
     "text": [
      "Found heuristic solution: objective 6.411149e+10\n"
     ]
    },
    {
     "name": "stderr",
     "output_type": "stream",
     "text": [
      "2024-11-27 19:46:42,499 - gurobipy - INFO - Found heuristic solution: objective 6.411149e+10\n"
     ]
    },
    {
     "name": "stdout",
     "output_type": "stream",
     "text": [
      "Presolve removed 6 rows and 43 columns\n"
     ]
    },
    {
     "name": "stderr",
     "output_type": "stream",
     "text": [
      "2024-11-27 19:46:42,515 - gurobipy - INFO - Presolve removed 6 rows and 43 columns\n"
     ]
    },
    {
     "name": "stdout",
     "output_type": "stream",
     "text": [
      "Presolve time: 0.01s\n"
     ]
    },
    {
     "name": "stderr",
     "output_type": "stream",
     "text": [
      "2024-11-27 19:46:42,518 - gurobipy - INFO - Presolve time: 0.01s\n"
     ]
    },
    {
     "name": "stdout",
     "output_type": "stream",
     "text": [
      "Presolved: 1 rows, 5 columns, 5 nonzeros\n"
     ]
    },
    {
     "name": "stderr",
     "output_type": "stream",
     "text": [
      "2024-11-27 19:46:42,521 - gurobipy - INFO - Presolved: 1 rows, 5 columns, 5 nonzeros\n"
     ]
    },
    {
     "name": "stdout",
     "output_type": "stream",
     "text": [
      "Found heuristic solution: objective 1.106812e+11\n"
     ]
    },
    {
     "name": "stderr",
     "output_type": "stream",
     "text": [
      "2024-11-27 19:46:42,544 - gurobipy - INFO - Found heuristic solution: objective 1.106812e+11\n"
     ]
    },
    {
     "name": "stdout",
     "output_type": "stream",
     "text": [
      "Variable types: 0 continuous, 5 integer (5 binary)\n"
     ]
    },
    {
     "name": "stderr",
     "output_type": "stream",
     "text": [
      "2024-11-27 19:46:42,548 - gurobipy - INFO - Variable types: 0 continuous, 5 integer (5 binary)\n"
     ]
    },
    {
     "name": "stdout",
     "output_type": "stream",
     "text": [
      "\n"
     ]
    },
    {
     "name": "stderr",
     "output_type": "stream",
     "text": [
      "2024-11-27 19:46:42,557 - gurobipy - INFO - \n"
     ]
    },
    {
     "name": "stdout",
     "output_type": "stream",
     "text": [
      "Root relaxation: objective 1.173931e+11, 1 iterations, 0.00 seconds (0.00 work units)\n"
     ]
    },
    {
     "name": "stderr",
     "output_type": "stream",
     "text": [
      "2024-11-27 19:46:42,562 - gurobipy - INFO - Root relaxation: objective 1.173931e+11, 1 iterations, 0.00 seconds (0.00 work units)\n"
     ]
    },
    {
     "name": "stdout",
     "output_type": "stream",
     "text": [
      "\n"
     ]
    },
    {
     "name": "stderr",
     "output_type": "stream",
     "text": [
      "2024-11-27 19:46:42,712 - gurobipy - INFO - \n"
     ]
    },
    {
     "name": "stdout",
     "output_type": "stream",
     "text": [
      "    Nodes    |    Current Node    |     Objective Bounds      |     Work\n"
     ]
    },
    {
     "name": "stderr",
     "output_type": "stream",
     "text": [
      "2024-11-27 19:46:42,715 - gurobipy - INFO -     Nodes    |    Current Node    |     Objective Bounds      |     Work\n"
     ]
    },
    {
     "name": "stdout",
     "output_type": "stream",
     "text": [
      " Expl Unexpl |  Obj  Depth IntInf | Incumbent    BestBd   Gap | It/Node Time\n"
     ]
    },
    {
     "name": "stderr",
     "output_type": "stream",
     "text": [
      "2024-11-27 19:46:42,720 - gurobipy - INFO -  Expl Unexpl |  Obj  Depth IntInf | Incumbent    BestBd   Gap | It/Node Time\n"
     ]
    },
    {
     "name": "stdout",
     "output_type": "stream",
     "text": [
      "\n"
     ]
    },
    {
     "name": "stderr",
     "output_type": "stream",
     "text": [
      "2024-11-27 19:46:42,726 - gurobipy - INFO - \n"
     ]
    },
    {
     "name": "stdout",
     "output_type": "stream",
     "text": [
      "     0     0 infeasible    0      1.1068e+11 1.1068e+11  0.00%     -    0s\n"
     ]
    },
    {
     "name": "stderr",
     "output_type": "stream",
     "text": [
      "2024-11-27 19:46:42,730 - gurobipy - INFO -      0     0 infeasible    0      1.1068e+11 1.1068e+11  0.00%     -    0s\n"
     ]
    },
    {
     "name": "stdout",
     "output_type": "stream",
     "text": [
      "\n"
     ]
    },
    {
     "name": "stderr",
     "output_type": "stream",
     "text": [
      "2024-11-27 19:46:42,738 - gurobipy - INFO - \n"
     ]
    },
    {
     "name": "stdout",
     "output_type": "stream",
     "text": [
      "Explored 1 nodes (1 simplex iterations) in 0.28 seconds (0.00 work units)\n"
     ]
    },
    {
     "name": "stderr",
     "output_type": "stream",
     "text": [
      "2024-11-27 19:46:42,746 - gurobipy - INFO - Explored 1 nodes (1 simplex iterations) in 0.28 seconds (0.00 work units)\n"
     ]
    },
    {
     "name": "stdout",
     "output_type": "stream",
     "text": [
      "Thread count was 8 (of 8 available processors)\n"
     ]
    },
    {
     "name": "stderr",
     "output_type": "stream",
     "text": [
      "2024-11-27 19:46:42,757 - gurobipy - INFO - Thread count was 8 (of 8 available processors)\n"
     ]
    },
    {
     "name": "stdout",
     "output_type": "stream",
     "text": [
      "\n"
     ]
    },
    {
     "name": "stderr",
     "output_type": "stream",
     "text": [
      "2024-11-27 19:46:42,761 - gurobipy - INFO - \n"
     ]
    },
    {
     "name": "stdout",
     "output_type": "stream",
     "text": [
      "Solution count 2: 1.10681e+11 6.41115e+10 \n"
     ]
    },
    {
     "name": "stderr",
     "output_type": "stream",
     "text": [
      "2024-11-27 19:46:42,765 - gurobipy - INFO - Solution count 2: 1.10681e+11 6.41115e+10 \n"
     ]
    },
    {
     "name": "stdout",
     "output_type": "stream",
     "text": [
      "\n"
     ]
    },
    {
     "name": "stderr",
     "output_type": "stream",
     "text": [
      "2024-11-27 19:46:42,769 - gurobipy - INFO - \n"
     ]
    },
    {
     "name": "stdout",
     "output_type": "stream",
     "text": [
      "Optimal solution found (tolerance 1.00e-04)\n"
     ]
    },
    {
     "name": "stderr",
     "output_type": "stream",
     "text": [
      "2024-11-27 19:46:42,774 - gurobipy - INFO - Optimal solution found (tolerance 1.00e-04)\n"
     ]
    },
    {
     "name": "stdout",
     "output_type": "stream",
     "text": [
      "Best objective 1.106812171360e+11, best bound 1.106812171360e+11, gap 0.0000%\n"
     ]
    },
    {
     "name": "stderr",
     "output_type": "stream",
     "text": [
      "2024-11-27 19:46:42,780 - gurobipy - INFO - Best objective 1.106812171360e+11, best bound 1.106812171360e+11, gap 0.0000%\n",
      "2024-11-27 19:46:43,062 - __main__ - INFO - Optimización exitosa. Extrayendo resultados...\n",
      "2024-11-27 19:46:43,064 - __main__ - INFO - Ganancias totales: 110681217135.98\n",
      "2024-11-27 19:46:43,065 - __main__ - INFO - Executives used: 178322\n",
      "2024-11-27 19:46:43,067 - __main__ - INFO - Executives remaining: 26678\n",
      "2024-11-27 19:46:43,068 - __main__ - INFO - Optimización completada.\n",
      "2024-11-27 19:46:43,077 - __main__ - INFO - Recalculación de métricas completada.\n",
      "2024-11-27 19:46:44,328 - __main__ - INFO - Aplicando acción tipo: adjust_splits sobre variable: Renta con parámetros: {'operation': 'move', 'index': 1, 'amount': 1}\n",
      "2024-11-27 19:46:44,329 - __main__ - WARNING - No se puede ajustar separaciones para 'Renta': no es continua o no está incluida en la clusterización.\n",
      "2024-11-27 19:46:44,331 - __main__ - INFO - Seleccionando nueva acción: ('adjust_splits', 'Renta', {'operation': 'move', 'index': 1, 'amount': -1})\n",
      "2024-11-27 19:46:44,333 - __main__ - INFO - Aplicando acción tipo: adjust_splits sobre variable: Renta con parámetros: {'operation': 'move', 'index': 1, 'amount': -1}\n",
      "2024-11-27 19:46:44,334 - __main__ - WARNING - No se puede ajustar separaciones para 'Renta': no es continua o no está incluida en la clusterización.\n",
      "2024-11-27 19:46:44,336 - __main__ - INFO - Seleccionando nueva acción: ('adjust_splits', 'Propension', {'operation': 'move', 'index': 1, 'amount': -1})\n",
      "2024-11-27 19:46:44,337 - __main__ - INFO - Aplicando acción tipo: adjust_splits sobre variable: Propension con parámetros: {'operation': 'move', 'index': 1, 'amount': -1}\n",
      "2024-11-27 19:46:44,340 - __main__ - WARNING - No se puede ajustar separaciones para 'Propension': no es continua o no está incluida en la clusterización.\n",
      "2024-11-27 19:46:44,342 - __main__ - INFO - Seleccionando nueva acción: ('adjust_splits', 'Propension', {'operation': 'move', 'index': 1, 'amount': -1})\n",
      "2024-11-27 19:46:44,344 - __main__ - INFO - Aplicando acción tipo: adjust_splits sobre variable: Propension con parámetros: {'operation': 'move', 'index': 1, 'amount': -1}\n",
      "2024-11-27 19:46:44,345 - __main__ - WARNING - No se puede ajustar separaciones para 'Propension': no es continua o no está incluida en la clusterización.\n",
      "2024-11-27 19:46:44,347 - __main__ - INFO - Seleccionando nueva acción: ('adjust_splits', 'Edad', {'operation': 'move', 'index': 0, 'amount': 1})\n",
      "2024-11-27 19:46:44,349 - __main__ - INFO - Aplicando acción tipo: adjust_splits sobre variable: Edad con parámetros: {'operation': 'move', 'index': 0, 'amount': 1}\n",
      "2024-11-27 19:46:44,351 - __main__ - WARNING - No se puede ajustar separaciones para 'Edad': no es continua o no está incluida en la clusterización.\n",
      "2024-11-27 19:46:44,353 - __main__ - INFO - Seleccionando nueva acción: ('adjust_splits', 'Renta', {'operation': 'increase'})\n",
      "2024-11-27 19:46:44,355 - __main__ - INFO - Aplicando acción tipo: adjust_splits sobre variable: Renta con parámetros: {'operation': 'increase'}\n",
      "2024-11-27 19:46:44,359 - __main__ - WARNING - No se puede ajustar separaciones para 'Renta': no es continua o no está incluida en la clusterización.\n",
      "2024-11-27 19:46:44,361 - __main__ - INFO - Seleccionando nueva acción: ('adjust_splits', 'Propension', {'operation': 'move', 'index': 0, 'amount': -1})\n",
      "2024-11-27 19:46:44,362 - __main__ - INFO - Aplicando acción tipo: adjust_splits sobre variable: Propension con parámetros: {'operation': 'move', 'index': 0, 'amount': -1}\n",
      "2024-11-27 19:46:44,363 - __main__ - WARNING - No se puede ajustar separaciones para 'Propension': no es continua o no está incluida en la clusterización.\n",
      "2024-11-27 19:46:44,365 - __main__ - INFO - Seleccionando nueva acción: ('adjust_splits', 'Renta', {'operation': 'move', 'index': 0, 'amount': 1})\n",
      "2024-11-27 19:46:44,367 - __main__ - INFO - Aplicando acción tipo: adjust_splits sobre variable: Renta con parámetros: {'operation': 'move', 'index': 0, 'amount': 1}\n",
      "2024-11-27 19:46:44,369 - __main__ - WARNING - No se puede ajustar separaciones para 'Renta': no es continua o no está incluida en la clusterización.\n",
      "2024-11-27 19:46:44,371 - __main__ - INFO - Seleccionando nueva acción: ('adjust_splits', 'Probabilidad_No_Pago', {'operation': 'move', 'index': 2, 'amount': 1})\n",
      "2024-11-27 19:46:44,374 - __main__ - INFO - Aplicando acción tipo: adjust_splits sobre variable: Probabilidad_No_Pago con parámetros: {'operation': 'move', 'index': 2, 'amount': 1}\n",
      "2024-11-27 19:46:44,376 - __main__ - WARNING - No se puede ajustar separaciones para 'Probabilidad_No_Pago': no es continua o no está incluida en la clusterización.\n",
      "2024-11-27 19:46:44,377 - __main__ - INFO - Seleccionando nueva acción: ('adjust_splits', 'Renta', {'operation': 'move', 'index': 0, 'amount': 1})\n",
      "2024-11-27 19:46:44,379 - __main__ - INFO - Aplicando acción tipo: adjust_splits sobre variable: Renta con parámetros: {'operation': 'move', 'index': 0, 'amount': 1}\n",
      "2024-11-27 19:46:44,381 - __main__ - WARNING - No se puede ajustar separaciones para 'Renta': no es continua o no está incluida en la clusterización.\n",
      "2024-11-27 19:46:44,383 - __main__ - INFO - Seleccionando nueva acción: ('adjust_splits', 'Propension', {'operation': 'move', 'index': 2, 'amount': 1})\n",
      "2024-11-27 19:46:44,385 - __main__ - INFO - Aplicando acción tipo: adjust_splits sobre variable: Propension con parámetros: {'operation': 'move', 'index': 2, 'amount': 1}\n",
      "2024-11-27 19:46:44,388 - __main__ - WARNING - No se puede ajustar separaciones para 'Propension': no es continua o no está incluida en la clusterización.\n",
      "2024-11-27 19:46:44,391 - __main__ - INFO - Seleccionando nueva acción: ('adjust_splits', 'Edad', {'operation': 'increase'})\n",
      "2024-11-27 19:46:44,393 - __main__ - INFO - Aplicando acción tipo: adjust_splits sobre variable: Edad con parámetros: {'operation': 'increase'}\n",
      "2024-11-27 19:46:44,394 - __main__ - WARNING - No se puede ajustar separaciones para 'Edad': no es continua o no está incluida en la clusterización.\n",
      "2024-11-27 19:46:44,396 - __main__ - INFO - Seleccionando nueva acción: ('adjust_splits', 'Propension', {'operation': 'move', 'index': 2, 'amount': -1})\n",
      "2024-11-27 19:46:44,398 - __main__ - INFO - Aplicando acción tipo: adjust_splits sobre variable: Propension con parámetros: {'operation': 'move', 'index': 2, 'amount': -1}\n",
      "2024-11-27 19:46:44,400 - __main__ - WARNING - No se puede ajustar separaciones para 'Propension': no es continua o no está incluida en la clusterización.\n",
      "2024-11-27 19:46:44,401 - __main__ - INFO - Seleccionando nueva acción: ('toggle_variable', 'Genero', {})\n",
      "2024-11-27 19:46:44,403 - __main__ - INFO - Aplicando acción tipo: toggle_variable sobre variable: Genero con parámetros: {}\n",
      "2024-11-27 19:46:44,405 - __main__ - INFO - Variable 'Genero' incluida: 1\n",
      "2024-11-27 19:46:44,416 - __main__ - INFO - Recalculando clusters...\n",
      "2024-11-27 19:46:44,418 - __main__ - INFO - Realizando clustering...\n",
      "2024-11-27 19:46:44,457 - __main__ - INFO - Procesando variable: Genero\n"
     ]
    },
    {
     "name": "stdout",
     "output_type": "stream",
     "text": [
      "Action: 36, Reward: 110294437135.9761\n"
     ]
    },
    {
     "name": "stderr",
     "output_type": "stream",
     "text": [
      "2024-11-27 19:46:44,533 - __main__ - INFO - Variable categórica 'Genero' separada en los grupos: ['Masculino' 'Femenino']\n",
      "2024-11-27 19:46:44,535 - __main__ - INFO - Procesando variable: Categoria_Digital\n",
      "2024-11-27 19:46:44,627 - __main__ - INFO - Variable categórica 'Categoria_Digital' separada en los grupos: ['Cliente no Digital' 'Cliente Digital']\n",
      "2024-11-27 19:46:44,629 - __main__ - INFO - Procesando variable: Elasticidad_Precios\n",
      "2024-11-27 19:46:44,695 - __main__ - INFO - Variable categórica 'Elasticidad_Precios' separada en los grupos: ['Alta' 'Baja' 'Media']\n",
      "2024-11-27 19:46:44,696 - __main__ - INFO - Procesando variable: Nacionalidad\n",
      "2024-11-27 19:46:44,697 - __main__ - INFO - Procesando variable: Propension\n",
      "2024-11-27 19:46:44,699 - __main__ - INFO - Procesando variable: Probabilidad_No_Pago\n",
      "2024-11-27 19:46:44,701 - __main__ - INFO - Procesando variable: Edad\n",
      "2024-11-27 19:46:44,702 - __main__ - INFO - Procesando variable: Renta\n",
      "2024-11-27 19:46:44,705 - __main__ - INFO - Variables incluidas en clusterización: ['Genero_cluster', 'Categoria_Digital_cluster', 'Elasticidad_Precios_cluster']\n",
      "2024-11-27 19:47:01,582 - __main__ - INFO - Variables incluidas en este clustering: ['Genero_cluster', 'Categoria_Digital_cluster', 'Elasticidad_Precios_cluster']\n",
      "2024-11-27 19:47:01,584 - __main__ - INFO - Clustering completado. Número de clusters: 12\n",
      "2024-11-27 19:47:01,585 - __main__ - INFO - Recalculando métricas...\n",
      "2024-11-27 19:47:05,428 - __main__ - INFO - Estimando elasticidad...\n",
      "2024-11-27 19:47:07,919 - __main__ - INFO - Cluster 9:\n",
      "2024-11-27 19:47:07,921 - __main__ - INFO - - Precio Máx. Revenue Esperado = 2.50%\n",
      "2024-11-27 19:47:07,922 - __main__ - INFO - - Revenue Esperado Máximo = 5,012,328,161.65\n",
      "2024-11-27 19:47:07,925 - __main__ - INFO - - Número de clientes en el cluster = 40616\n",
      "2024-11-27 19:47:07,927 - __main__ - INFO - - Número de simulaciones en el cluster = 8707.11\n",
      "2024-11-27 19:47:07,929 - __main__ - INFO - - Probabilidad de aceptación en el precio óptimo = 0.4002\n",
      "2024-11-27 19:47:07,936 - __main__ - INFO - - Número esperado de créditos aceptados = 3485\n",
      "2024-11-27 19:47:07,937 - __main__ - INFO - - Monto medio simulado = 3,734,613.51\n",
      "2024-11-27 19:47:07,950 - __main__ - INFO - - Plazo medio simulado = 27.52\n",
      "2024-11-27 19:47:07,956 - __main__ - INFO - - Probabilidad de no pago media = 0.0252\n",
      "\n",
      "2024-11-27 19:47:12,136 - __main__ - INFO - Cluster 4:\n",
      "2024-11-27 19:47:12,138 - __main__ - INFO - - Precio Máx. Revenue Esperado = 1.00%\n",
      "2024-11-27 19:47:12,140 - __main__ - INFO - - Revenue Esperado Máximo = 13,280,096,736.35\n",
      "2024-11-27 19:47:12,143 - __main__ - INFO - - Número de clientes en el cluster = 52759\n",
      "2024-11-27 19:47:12,149 - __main__ - INFO - - Número de simulaciones en el cluster = 12089.15\n",
      "2024-11-27 19:47:12,151 - __main__ - INFO - - Probabilidad de aceptación en el precio óptimo = 0.7425\n",
      "2024-11-27 19:47:12,154 - __main__ - INFO - - Número esperado de créditos aceptados = 8976\n",
      "2024-11-27 19:47:12,156 - __main__ - INFO - - Monto medio simulado = 10,045,848.46\n",
      "2024-11-27 19:47:12,160 - __main__ - INFO - - Plazo medio simulado = 27.49\n",
      "2024-11-27 19:47:12,164 - __main__ - INFO - - Probabilidad de no pago media = 0.0094\n",
      "\n",
      "2024-11-27 19:47:15,387 - __main__ - INFO - Cluster 8:\n",
      "2024-11-27 19:47:15,389 - __main__ - INFO - - Precio Máx. Revenue Esperado = 1.37%\n",
      "2024-11-27 19:47:15,390 - __main__ - INFO - - Revenue Esperado Máximo = 11,765,220,577.63\n",
      "2024-11-27 19:47:15,391 - __main__ - INFO - - Número de clientes en el cluster = 46710\n",
      "2024-11-27 19:47:15,393 - __main__ - INFO - - Número de simulaciones en el cluster = 11614.65\n",
      "2024-11-27 19:47:15,395 - __main__ - INFO - - Probabilidad de aceptación en el precio óptimo = 0.6130\n",
      "2024-11-27 19:47:15,397 - __main__ - INFO - - Número esperado de créditos aceptados = 7120\n",
      "2024-11-27 19:47:15,399 - __main__ - INFO - - Monto medio simulado = 8,131,400.90\n",
      "2024-11-27 19:47:15,401 - __main__ - INFO - - Plazo medio simulado = 27.55\n",
      "2024-11-27 19:47:15,403 - __main__ - INFO - - Probabilidad de no pago media = 0.0235\n",
      "\n",
      "2024-11-27 19:47:18,649 - __main__ - INFO - Cluster 5:\n",
      "2024-11-27 19:47:18,650 - __main__ - INFO - - Precio Máx. Revenue Esperado = 1.38%\n",
      "2024-11-27 19:47:18,651 - __main__ - INFO - - Revenue Esperado Máximo = 3,514,934,834.91\n",
      "2024-11-27 19:47:18,653 - __main__ - INFO - - Número de clientes en el cluster = 41089\n",
      "2024-11-27 19:47:18,655 - __main__ - INFO - - Número de simulaciones en el cluster = 8772.89\n",
      "2024-11-27 19:47:18,658 - __main__ - INFO - - Probabilidad de aceptación en el precio óptimo = 0.6131\n",
      "2024-11-27 19:47:18,660 - __main__ - INFO - - Número esperado de créditos aceptados = 5378\n",
      "2024-11-27 19:47:18,663 - __main__ - INFO - - Monto medio simulado = 3,189,320.25\n",
      "2024-11-27 19:47:18,666 - __main__ - INFO - - Plazo medio simulado = 27.49\n",
      "2024-11-27 19:47:18,668 - __main__ - INFO - - Probabilidad de no pago media = 0.0130\n",
      "\n",
      "2024-11-27 19:47:21,743 - __main__ - INFO - Cluster 6:\n",
      "2024-11-27 19:47:21,744 - __main__ - INFO - - Precio Máx. Revenue Esperado = 2.50%\n",
      "2024-11-27 19:47:21,745 - __main__ - INFO - - Revenue Esperado Máximo = 4,497,293,301.61\n",
      "2024-11-27 19:47:21,748 - __main__ - INFO - - Número de clientes en el cluster = 37886\n",
      "2024-11-27 19:47:21,749 - __main__ - INFO - - Número de simulaciones en el cluster = 9312.45\n",
      "2024-11-27 19:47:21,751 - __main__ - INFO - - Probabilidad de aceptación en el precio óptimo = 0.4006\n",
      "2024-11-27 19:47:21,753 - __main__ - INFO - - Número esperado de créditos aceptados = 3731\n",
      "2024-11-27 19:47:21,755 - __main__ - INFO - - Monto medio simulado = 3,135,125.07\n",
      "2024-11-27 19:47:21,756 - __main__ - INFO - - Plazo medio simulado = 27.50\n",
      "2024-11-27 19:47:21,758 - __main__ - INFO - - Probabilidad de no pago media = 0.0260\n",
      "\n",
      "2024-11-27 19:47:26,758 - __main__ - INFO - Cluster 7:\n",
      "2024-11-27 19:47:26,760 - __main__ - INFO - - Precio Máx. Revenue Esperado = 1.00%\n",
      "2024-11-27 19:47:26,761 - __main__ - INFO - - Revenue Esperado Máximo = 13,985,600,636.52\n",
      "2024-11-27 19:47:26,764 - __main__ - INFO - - Número de clientes en el cluster = 60575\n",
      "2024-11-27 19:47:26,765 - __main__ - INFO - - Número de simulaciones en el cluster = 15830.50\n",
      "2024-11-27 19:47:26,767 - __main__ - INFO - - Probabilidad de aceptación en el precio óptimo = 0.7437\n",
      "2024-11-27 19:47:26,769 - __main__ - INFO - - Número esperado de créditos aceptados = 11773\n",
      "2024-11-27 19:47:26,772 - __main__ - INFO - - Monto medio simulado = 8,135,283.35\n",
      "2024-11-27 19:47:26,774 - __main__ - INFO - - Plazo medio simulado = 27.50\n",
      "2024-11-27 19:47:26,777 - __main__ - INFO - - Probabilidad de no pago media = 0.0185\n",
      "\n",
      "2024-11-27 19:47:31,512 - __main__ - INFO - Cluster 1:\n",
      "2024-11-27 19:47:31,514 - __main__ - INFO - - Precio Máx. Revenue Esperado = 1.00%\n",
      "2024-11-27 19:47:31,515 - __main__ - INFO - - Revenue Esperado Máximo = 12,566,517,347.65\n",
      "2024-11-27 19:47:31,517 - __main__ - INFO - - Número de clientes en el cluster = 54609\n",
      "2024-11-27 19:47:31,519 - __main__ - INFO - - Número de simulaciones en el cluster = 14085.98\n",
      "2024-11-27 19:47:31,520 - __main__ - INFO - - Probabilidad de aceptación en el precio óptimo = 0.7434\n",
      "2024-11-27 19:47:31,523 - __main__ - INFO - - Número esperado de créditos aceptados = 10472\n",
      "2024-11-27 19:47:31,525 - __main__ - INFO - - Monto medio simulado = 8,152,397.67\n",
      "2024-11-27 19:47:31,527 - __main__ - INFO - - Plazo medio simulado = 27.51\n",
      "2024-11-27 19:47:31,528 - __main__ - INFO - - Probabilidad de no pago media = 0.0110\n",
      "\n",
      "2024-11-27 19:47:36,531 - __main__ - INFO - Cluster 10:\n",
      "2024-11-27 19:47:36,533 - __main__ - INFO - - Precio Máx. Revenue Esperado = 1.00%\n",
      "2024-11-27 19:47:36,534 - __main__ - INFO - - Revenue Esperado Máximo = 18,513,072,523.52\n",
      "2024-11-27 19:47:36,535 - __main__ - INFO - - Número de clientes en el cluster = 64187\n",
      "2024-11-27 19:47:36,540 - __main__ - INFO - - Número de simulaciones en el cluster = 15051.70\n",
      "2024-11-27 19:47:36,543 - __main__ - INFO - - Probabilidad de aceptación en el precio óptimo = 0.7427\n",
      "2024-11-27 19:47:36,545 - __main__ - INFO - - Número esperado de créditos aceptados = 11179\n",
      "2024-11-27 19:47:36,546 - __main__ - INFO - - Monto medio simulado = 11,302,263.38\n",
      "2024-11-27 19:47:36,548 - __main__ - INFO - - Plazo medio simulado = 27.51\n",
      "2024-11-27 19:47:36,550 - __main__ - INFO - - Probabilidad de no pago media = 0.0153\n",
      "\n",
      "2024-11-27 19:47:40,348 - __main__ - INFO - Cluster 11:\n",
      "2024-11-27 19:47:40,349 - __main__ - INFO - - Precio Máx. Revenue Esperado = 1.37%\n",
      "2024-11-27 19:47:40,352 - __main__ - INFO - - Revenue Esperado Máximo = 15,923,501,966.79\n",
      "2024-11-27 19:47:40,354 - __main__ - INFO - - Número de clientes en el cluster = 52879\n",
      "2024-11-27 19:47:40,356 - __main__ - INFO - - Número de simulaciones en el cluster = 11672.14\n",
      "2024-11-27 19:47:40,358 - __main__ - INFO - - Probabilidad de aceptación en el precio óptimo = 0.6126\n",
      "2024-11-27 19:47:40,360 - __main__ - INFO - - Número esperado de créditos aceptados = 7150\n",
      "2024-11-27 19:47:40,362 - __main__ - INFO - - Monto medio simulado = 10,937,385.16\n",
      "2024-11-27 19:47:40,364 - __main__ - INFO - - Plazo medio simulado = 27.53\n",
      "2024-11-27 19:47:40,366 - __main__ - INFO - - Probabilidad de no pago media = 0.0208\n",
      "\n",
      "2024-11-27 19:47:44,096 - __main__ - INFO - Cluster 2:\n",
      "2024-11-27 19:47:44,097 - __main__ - INFO - - Precio Máx. Revenue Esperado = 1.38%\n",
      "2024-11-27 19:47:44,099 - __main__ - INFO - - Revenue Esperado Máximo = 3,457,762,817.86\n",
      "2024-11-27 19:47:44,101 - __main__ - INFO - - Número de clientes en el cluster = 45709\n",
      "2024-11-27 19:47:44,104 - __main__ - INFO - - Número de simulaciones en el cluster = 11165.38\n",
      "2024-11-27 19:47:44,106 - __main__ - INFO - - Probabilidad de aceptación en el precio óptimo = 0.6150\n",
      "2024-11-27 19:47:44,108 - __main__ - INFO - - Número esperado de créditos aceptados = 6867\n",
      "2024-11-27 19:47:44,109 - __main__ - INFO - - Monto medio simulado = 2,461,692.16\n",
      "2024-11-27 19:47:44,111 - __main__ - INFO - - Plazo medio simulado = 27.49\n",
      "2024-11-27 19:47:44,113 - __main__ - INFO - - Probabilidad de no pago media = 0.0149\n",
      "\n",
      "2024-11-27 19:47:46,213 - __main__ - INFO - Cluster 0:\n",
      "2024-11-27 19:47:46,214 - __main__ - INFO - - Precio Máx. Revenue Esperado = 2.50%\n",
      "2024-11-27 19:47:46,218 - __main__ - INFO - - Revenue Esperado Máximo = 1,869,286,683.10\n",
      "2024-11-27 19:47:46,220 - __main__ - INFO - - Número de clientes en el cluster = 25292\n",
      "2024-11-27 19:47:46,225 - __main__ - INFO - - Número de simulaciones en el cluster = 6260.33\n",
      "2024-11-27 19:47:46,227 - __main__ - INFO - - Probabilidad de aceptación en el precio óptimo = 0.4017\n",
      "2024-11-27 19:47:46,229 - __main__ - INFO - - Número esperado de créditos aceptados = 2514\n",
      "2024-11-27 19:47:46,232 - __main__ - INFO - - Monto medio simulado = 1,916,180.78\n",
      "2024-11-27 19:47:46,238 - __main__ - INFO - - Plazo medio simulado = 27.44\n",
      "2024-11-27 19:47:46,241 - __main__ - INFO - - Probabilidad de no pago media = 0.0151\n",
      "\n",
      "2024-11-27 19:47:48,013 - __main__ - INFO - Cluster 3:\n",
      "2024-11-27 19:47:48,014 - __main__ - INFO - - Precio Máx. Revenue Esperado = 2.50%\n",
      "2024-11-27 19:47:48,015 - __main__ - INFO - - Revenue Esperado Máximo = 1,896,579,574.53\n",
      "2024-11-27 19:47:48,019 - __main__ - INFO - - Número de clientes en el cluster = 20593\n",
      "2024-11-27 19:47:48,116 - __main__ - INFO - - Número de simulaciones en el cluster = 4473.14\n",
      "2024-11-27 19:47:48,118 - __main__ - INFO - - Probabilidad de aceptación en el precio óptimo = 0.4002\n",
      "2024-11-27 19:47:48,119 - __main__ - INFO - - Número esperado de créditos aceptados = 1790\n",
      "2024-11-27 19:47:48,121 - __main__ - INFO - - Monto medio simulado = 2,726,790.70\n",
      "2024-11-27 19:47:48,123 - __main__ - INFO - - Plazo medio simulado = 27.44\n",
      "2024-11-27 19:47:48,124 - __main__ - INFO - - Probabilidad de no pago media = 0.0135\n",
      "\n",
      "2024-11-27 19:47:48,580 - __main__ - INFO - El revenue total esperado es: 106,282,195,162.13 con un total de 542904 clientes, 129,035.42 simulaciones, y 80435 créditos.\n",
      "2024-11-27 19:47:50,758 - __main__ - INFO - total_revenue: 106282195162.12744, total_clientes: 542904, total_simulaciones: 129035.42424242424, total_creditos: 80435\n",
      "2024-11-27 19:48:14,516 - __main__ - INFO - Estimación de respuesta a tratamientos completada.\n",
      "2024-11-27 19:48:21,166 - __main__ - INFO - Llamando al modelo de asignación de tratamientos...\n",
      "2024-11-27 19:48:21,167 - __main__ - INFO - Iniciando modelo de asignación de tratamientos...\n",
      "2024-11-27 19:48:21,169 - __main__ - INFO - Procesando datos de probabilidades y asignando IDs de tratamiento...\n",
      "2024-11-27 19:48:21,175 - __main__ - INFO - Fusionando probabilidades con información de RUT...\n",
      "2024-11-27 19:48:21,331 - __main__ - INFO - Fusionando información de RUT con información de clusters...\n",
      "2024-11-27 19:48:21,496 - __main__ - INFO - Agrupando información por cluster...\n",
      "2024-11-27 19:48:23,052 - __main__ - INFO - Calculando Revenue Calculado (RC)...\n",
      "2024-11-27 19:48:23,060 - __main__ - INFO - Preparando matriz de beneficios para optimización...\n",
      "2024-11-27 19:48:23,067 - __main__ - INFO - Inicializando modelo de optimización con Gurobi...\n",
      "2024-11-27 19:48:23,069 - __main__ - INFO - Creando variables de decisión...\n",
      "2024-11-27 19:48:23,078 - __main__ - INFO - Agregando restricción de un tratamiento por cliente...\n",
      "2024-11-27 19:48:23,080 - __main__ - INFO - Agregando restricción de capacidad para ejecutivos...\n",
      "2024-11-27 19:48:23,083 - __main__ - INFO - Agregando restricciones de consistencia por cluster...\n",
      "2024-11-27 19:48:23,088 - __main__ - INFO - Iniciando optimización con Gurobi...\n"
     ]
    },
    {
     "name": "stdout",
     "output_type": "stream",
     "text": [
      "Gurobi Optimizer version 11.0.3 build v11.0.3rc0 (win64 - Windows 10.0 (19045.2))\n"
     ]
    },
    {
     "name": "stderr",
     "output_type": "stream",
     "text": [
      "2024-11-27 19:48:23,095 - gurobipy - INFO - Gurobi Optimizer version 11.0.3 build v11.0.3rc0 (win64 - Windows 10.0 (19045.2))\n"
     ]
    },
    {
     "name": "stdout",
     "output_type": "stream",
     "text": [
      "\n"
     ]
    },
    {
     "name": "stderr",
     "output_type": "stream",
     "text": [
      "2024-11-27 19:48:23,097 - gurobipy - INFO - \n"
     ]
    },
    {
     "name": "stdout",
     "output_type": "stream",
     "text": [
      "CPU model: AMD Ryzen 5 2500U with Radeon Vega Mobile Gfx, instruction set [SSE2|AVX|AVX2]\n"
     ]
    },
    {
     "name": "stderr",
     "output_type": "stream",
     "text": [
      "2024-11-27 19:48:23,102 - gurobipy - INFO - CPU model: AMD Ryzen 5 2500U with Radeon Vega Mobile Gfx, instruction set [SSE2|AVX|AVX2]\n"
     ]
    },
    {
     "name": "stdout",
     "output_type": "stream",
     "text": [
      "Thread count: 4 physical cores, 8 logical processors, using up to 8 threads\n"
     ]
    },
    {
     "name": "stderr",
     "output_type": "stream",
     "text": [
      "2024-11-27 19:48:23,109 - gurobipy - INFO - Thread count: 4 physical cores, 8 logical processors, using up to 8 threads\n"
     ]
    },
    {
     "name": "stdout",
     "output_type": "stream",
     "text": [
      "\n"
     ]
    },
    {
     "name": "stderr",
     "output_type": "stream",
     "text": [
      "2024-11-27 19:48:23,113 - gurobipy - INFO - \n"
     ]
    },
    {
     "name": "stdout",
     "output_type": "stream",
     "text": [
      "Optimize a model with 13 rows, 96 columns and 132 nonzeros\n"
     ]
    },
    {
     "name": "stderr",
     "output_type": "stream",
     "text": [
      "2024-11-27 19:48:23,116 - gurobipy - INFO - Optimize a model with 13 rows, 96 columns and 132 nonzeros\n"
     ]
    },
    {
     "name": "stdout",
     "output_type": "stream",
     "text": [
      "Model fingerprint: 0x9371be30\n"
     ]
    },
    {
     "name": "stderr",
     "output_type": "stream",
     "text": [
      "2024-11-27 19:48:23,121 - gurobipy - INFO - Model fingerprint: 0x9371be30\n"
     ]
    },
    {
     "name": "stdout",
     "output_type": "stream",
     "text": [
      "Variable types: 0 continuous, 96 integer (96 binary)\n"
     ]
    },
    {
     "name": "stderr",
     "output_type": "stream",
     "text": [
      "2024-11-27 19:48:23,124 - gurobipy - INFO - Variable types: 0 continuous, 96 integer (96 binary)\n"
     ]
    },
    {
     "name": "stdout",
     "output_type": "stream",
     "text": [
      "Coefficient statistics:\n"
     ]
    },
    {
     "name": "stderr",
     "output_type": "stream",
     "text": [
      "2024-11-27 19:48:23,128 - gurobipy - INFO - Coefficient statistics:\n"
     ]
    },
    {
     "name": "stdout",
     "output_type": "stream",
     "text": [
      "  Matrix range     [1e+00, 6e+04]\n"
     ]
    },
    {
     "name": "stderr",
     "output_type": "stream",
     "text": [
      "2024-11-27 19:48:23,131 - gurobipy - INFO -   Matrix range     [1e+00, 6e+04]\n"
     ]
    },
    {
     "name": "stdout",
     "output_type": "stream",
     "text": [
      "  Objective range  [1e+09, 3e+10]\n"
     ]
    },
    {
     "name": "stderr",
     "output_type": "stream",
     "text": [
      "2024-11-27 19:48:23,139 - gurobipy - INFO -   Objective range  [1e+09, 3e+10]\n"
     ]
    },
    {
     "name": "stdout",
     "output_type": "stream",
     "text": [
      "  Bounds range     [1e+00, 1e+00]\n"
     ]
    },
    {
     "name": "stderr",
     "output_type": "stream",
     "text": [
      "2024-11-27 19:48:23,141 - gurobipy - INFO -   Bounds range     [1e+00, 1e+00]\n"
     ]
    },
    {
     "name": "stdout",
     "output_type": "stream",
     "text": [
      "  RHS range        [1e+00, 2e+05]\n"
     ]
    },
    {
     "name": "stderr",
     "output_type": "stream",
     "text": [
      "2024-11-27 19:48:23,144 - gurobipy - INFO -   RHS range        [1e+00, 2e+05]\n"
     ]
    },
    {
     "name": "stdout",
     "output_type": "stream",
     "text": [
      "Warning: Model contains large objective coefficients\n"
     ]
    },
    {
     "name": "stderr",
     "output_type": "stream",
     "text": [
      "2024-11-27 19:48:23,148 - gurobipy - INFO - Warning: Model contains large objective coefficients\n"
     ]
    },
    {
     "name": "stdout",
     "output_type": "stream",
     "text": [
      "         Consider reformulating model or setting NumericFocus parameter\n"
     ]
    },
    {
     "name": "stderr",
     "output_type": "stream",
     "text": [
      "2024-11-27 19:48:23,151 - gurobipy - INFO -          Consider reformulating model or setting NumericFocus parameter\n"
     ]
    },
    {
     "name": "stdout",
     "output_type": "stream",
     "text": [
      "         to avoid numerical issues.\n"
     ]
    },
    {
     "name": "stderr",
     "output_type": "stream",
     "text": [
      "2024-11-27 19:48:23,157 - gurobipy - INFO -          to avoid numerical issues.\n"
     ]
    },
    {
     "name": "stdout",
     "output_type": "stream",
     "text": [
      "Found heuristic solution: objective 6.384431e+10\n"
     ]
    },
    {
     "name": "stderr",
     "output_type": "stream",
     "text": [
      "2024-11-27 19:48:23,160 - gurobipy - INFO - Found heuristic solution: objective 6.384431e+10\n"
     ]
    },
    {
     "name": "stdout",
     "output_type": "stream",
     "text": [
      "Presolve removed 12 rows and 84 columns\n"
     ]
    },
    {
     "name": "stderr",
     "output_type": "stream",
     "text": [
      "2024-11-27 19:48:23,265 - gurobipy - INFO - Presolve removed 12 rows and 84 columns\n"
     ]
    },
    {
     "name": "stdout",
     "output_type": "stream",
     "text": [
      "Presolve time: 0.10s\n"
     ]
    },
    {
     "name": "stderr",
     "output_type": "stream",
     "text": [
      "2024-11-27 19:48:23,269 - gurobipy - INFO - Presolve time: 0.10s\n"
     ]
    },
    {
     "name": "stdout",
     "output_type": "stream",
     "text": [
      "Presolved: 1 rows, 12 columns, 12 nonzeros\n"
     ]
    },
    {
     "name": "stderr",
     "output_type": "stream",
     "text": [
      "2024-11-27 19:48:23,273 - gurobipy - INFO - Presolved: 1 rows, 12 columns, 12 nonzeros\n"
     ]
    },
    {
     "name": "stdout",
     "output_type": "stream",
     "text": [
      "Found heuristic solution: objective 1.145311e+11\n"
     ]
    },
    {
     "name": "stderr",
     "output_type": "stream",
     "text": [
      "2024-11-27 19:48:23,277 - gurobipy - INFO - Found heuristic solution: objective 1.145311e+11\n"
     ]
    },
    {
     "name": "stdout",
     "output_type": "stream",
     "text": [
      "Variable types: 0 continuous, 12 integer (12 binary)\n"
     ]
    },
    {
     "name": "stderr",
     "output_type": "stream",
     "text": [
      "2024-11-27 19:48:23,280 - gurobipy - INFO - Variable types: 0 continuous, 12 integer (12 binary)\n"
     ]
    },
    {
     "name": "stdout",
     "output_type": "stream",
     "text": [
      "\n"
     ]
    },
    {
     "name": "stderr",
     "output_type": "stream",
     "text": [
      "2024-11-27 19:48:23,284 - gurobipy - INFO - \n"
     ]
    },
    {
     "name": "stdout",
     "output_type": "stream",
     "text": [
      "Root relaxation: objective 1.248097e+11, 1 iterations, 0.00 seconds (0.00 work units)\n"
     ]
    },
    {
     "name": "stderr",
     "output_type": "stream",
     "text": [
      "2024-11-27 19:48:23,291 - gurobipy - INFO - Root relaxation: objective 1.248097e+11, 1 iterations, 0.00 seconds (0.00 work units)\n"
     ]
    },
    {
     "name": "stdout",
     "output_type": "stream",
     "text": [
      "\n"
     ]
    },
    {
     "name": "stderr",
     "output_type": "stream",
     "text": [
      "2024-11-27 19:48:23,358 - gurobipy - INFO - \n"
     ]
    },
    {
     "name": "stdout",
     "output_type": "stream",
     "text": [
      "    Nodes    |    Current Node    |     Objective Bounds      |     Work\n"
     ]
    },
    {
     "name": "stderr",
     "output_type": "stream",
     "text": [
      "2024-11-27 19:48:23,362 - gurobipy - INFO -     Nodes    |    Current Node    |     Objective Bounds      |     Work\n"
     ]
    },
    {
     "name": "stdout",
     "output_type": "stream",
     "text": [
      " Expl Unexpl |  Obj  Depth IntInf | Incumbent    BestBd   Gap | It/Node Time\n"
     ]
    },
    {
     "name": "stderr",
     "output_type": "stream",
     "text": [
      "2024-11-27 19:48:23,369 - gurobipy - INFO -  Expl Unexpl |  Obj  Depth IntInf | Incumbent    BestBd   Gap | It/Node Time\n"
     ]
    },
    {
     "name": "stdout",
     "output_type": "stream",
     "text": [
      "\n"
     ]
    },
    {
     "name": "stderr",
     "output_type": "stream",
     "text": [
      "2024-11-27 19:48:23,375 - gurobipy - INFO - \n"
     ]
    },
    {
     "name": "stdout",
     "output_type": "stream",
     "text": [
      "     0     0 1.2481e+11    0    1 1.1453e+11 1.2481e+11  8.97%     -    0s\n"
     ]
    },
    {
     "name": "stderr",
     "output_type": "stream",
     "text": [
      "2024-11-27 19:48:23,378 - gurobipy - INFO -      0     0 1.2481e+11    0    1 1.1453e+11 1.2481e+11  8.97%     -    0s\n"
     ]
    },
    {
     "name": "stdout",
     "output_type": "stream",
     "text": [
      "H    0     0                    1.199568e+11 1.2481e+11  4.05%     -    0s\n"
     ]
    },
    {
     "name": "stderr",
     "output_type": "stream",
     "text": [
      "2024-11-27 19:48:23,389 - gurobipy - INFO - H    0     0                    1.199568e+11 1.2481e+11  4.05%     -    0s\n"
     ]
    },
    {
     "name": "stdout",
     "output_type": "stream",
     "text": [
      "H    0     0                    1.201636e+11 1.2481e+11  3.87%     -    0s\n"
     ]
    },
    {
     "name": "stderr",
     "output_type": "stream",
     "text": [
      "2024-11-27 19:48:23,393 - gurobipy - INFO - H    0     0                    1.201636e+11 1.2481e+11  3.87%     -    0s\n"
     ]
    },
    {
     "name": "stdout",
     "output_type": "stream",
     "text": [
      "     0     0 1.2223e+11    0    1 1.2016e+11 1.2223e+11  1.72%     -    0s\n"
     ]
    },
    {
     "name": "stderr",
     "output_type": "stream",
     "text": [
      "2024-11-27 19:48:23,417 - gurobipy - INFO -      0     0 1.2223e+11    0    1 1.2016e+11 1.2223e+11  1.72%     -    0s\n"
     ]
    },
    {
     "name": "stdout",
     "output_type": "stream",
     "text": [
      "     0     0 infeasible    0      1.2016e+11 1.2016e+11  0.00%     -    0s\n"
     ]
    },
    {
     "name": "stderr",
     "output_type": "stream",
     "text": [
      "2024-11-27 19:48:23,424 - gurobipy - INFO -      0     0 infeasible    0      1.2016e+11 1.2016e+11  0.00%     -    0s\n"
     ]
    },
    {
     "name": "stdout",
     "output_type": "stream",
     "text": [
      "\n"
     ]
    },
    {
     "name": "stderr",
     "output_type": "stream",
     "text": [
      "2024-11-27 19:48:23,430 - gurobipy - INFO - \n"
     ]
    },
    {
     "name": "stdout",
     "output_type": "stream",
     "text": [
      "Cutting planes:\n"
     ]
    },
    {
     "name": "stderr",
     "output_type": "stream",
     "text": [
      "2024-11-27 19:48:23,434 - gurobipy - INFO - Cutting planes:\n"
     ]
    },
    {
     "name": "stdout",
     "output_type": "stream",
     "text": [
      "  Cover: 1\n"
     ]
    },
    {
     "name": "stderr",
     "output_type": "stream",
     "text": [
      "2024-11-27 19:48:23,441 - gurobipy - INFO -   Cover: 1\n"
     ]
    },
    {
     "name": "stdout",
     "output_type": "stream",
     "text": [
      "\n"
     ]
    },
    {
     "name": "stderr",
     "output_type": "stream",
     "text": [
      "2024-11-27 19:48:23,444 - gurobipy - INFO - \n"
     ]
    },
    {
     "name": "stdout",
     "output_type": "stream",
     "text": [
      "Explored 1 nodes (3 simplex iterations) in 0.33 seconds (0.00 work units)\n"
     ]
    },
    {
     "name": "stderr",
     "output_type": "stream",
     "text": [
      "2024-11-27 19:48:23,448 - gurobipy - INFO - Explored 1 nodes (3 simplex iterations) in 0.33 seconds (0.00 work units)\n"
     ]
    },
    {
     "name": "stdout",
     "output_type": "stream",
     "text": [
      "Thread count was 8 (of 8 available processors)\n"
     ]
    },
    {
     "name": "stderr",
     "output_type": "stream",
     "text": [
      "2024-11-27 19:48:23,455 - gurobipy - INFO - Thread count was 8 (of 8 available processors)\n"
     ]
    },
    {
     "name": "stdout",
     "output_type": "stream",
     "text": [
      "\n"
     ]
    },
    {
     "name": "stderr",
     "output_type": "stream",
     "text": [
      "2024-11-27 19:48:23,459 - gurobipy - INFO - \n"
     ]
    },
    {
     "name": "stdout",
     "output_type": "stream",
     "text": [
      "Solution count 4: 1.20164e+11 1.19957e+11 1.14531e+11 6.38443e+10 \n"
     ]
    },
    {
     "name": "stderr",
     "output_type": "stream",
     "text": [
      "2024-11-27 19:48:23,463 - gurobipy - INFO - Solution count 4: 1.20164e+11 1.19957e+11 1.14531e+11 6.38443e+10 \n"
     ]
    },
    {
     "name": "stdout",
     "output_type": "stream",
     "text": [
      "\n"
     ]
    },
    {
     "name": "stderr",
     "output_type": "stream",
     "text": [
      "2024-11-27 19:48:23,467 - gurobipy - INFO - \n"
     ]
    },
    {
     "name": "stdout",
     "output_type": "stream",
     "text": [
      "Optimal solution found (tolerance 1.00e-04)\n"
     ]
    },
    {
     "name": "stderr",
     "output_type": "stream",
     "text": [
      "2024-11-27 19:48:23,474 - gurobipy - INFO - Optimal solution found (tolerance 1.00e-04)\n"
     ]
    },
    {
     "name": "stdout",
     "output_type": "stream",
     "text": [
      "Best objective 1.201635568312e+11, best bound 1.201635568312e+11, gap 0.0000%\n"
     ]
    },
    {
     "name": "stderr",
     "output_type": "stream",
     "text": [
      "2024-11-27 19:48:23,478 - gurobipy - INFO - Best objective 1.201635568312e+11, best bound 1.201635568312e+11, gap 0.0000%\n",
      "2024-11-27 19:48:23,481 - __main__ - INFO - Optimización exitosa. Extrayendo resultados...\n",
      "2024-11-27 19:48:23,483 - __main__ - INFO - Ganancias totales: 120163556831.15\n",
      "2024-11-27 19:48:23,488 - __main__ - INFO - Executives used: 204521\n",
      "2024-11-27 19:48:23,491 - __main__ - INFO - Executives remaining: 479\n",
      "2024-11-27 19:48:23,492 - __main__ - INFO - Optimización completada.\n",
      "2024-11-27 19:48:23,507 - __main__ - INFO - Recalculación de métricas completada.\n",
      "2024-11-27 19:48:24,936 - __main__ - INFO - Aplicando acción tipo: adjust_splits sobre variable: Renta con parámetros: {'operation': 'move', 'index': 1, 'amount': 1}\n",
      "2024-11-27 19:48:24,938 - __main__ - WARNING - No se puede ajustar separaciones para 'Renta': no es continua o no está incluida en la clusterización.\n",
      "2024-11-27 19:48:24,939 - __main__ - INFO - Seleccionando nueva acción: ('adjust_splits', 'Probabilidad_No_Pago', {'operation': 'move', 'index': 0, 'amount': -1})\n",
      "2024-11-27 19:48:24,942 - __main__ - INFO - Aplicando acción tipo: adjust_splits sobre variable: Probabilidad_No_Pago con parámetros: {'operation': 'move', 'index': 0, 'amount': -1}\n",
      "2024-11-27 19:48:24,944 - __main__ - WARNING - No se puede ajustar separaciones para 'Probabilidad_No_Pago': no es continua o no está incluida en la clusterización.\n",
      "2024-11-27 19:48:24,945 - __main__ - INFO - Seleccionando nueva acción: ('adjust_splits', 'Propension', {'operation': 'move', 'index': 0, 'amount': -1})\n",
      "2024-11-27 19:48:24,947 - __main__ - INFO - Aplicando acción tipo: adjust_splits sobre variable: Propension con parámetros: {'operation': 'move', 'index': 0, 'amount': -1}\n",
      "2024-11-27 19:48:24,949 - __main__ - WARNING - No se puede ajustar separaciones para 'Propension': no es continua o no está incluida en la clusterización.\n",
      "2024-11-27 19:48:24,951 - __main__ - INFO - Seleccionando nueva acción: ('toggle_variable', 'Edad', {})\n",
      "2024-11-27 19:48:24,954 - __main__ - INFO - Aplicando acción tipo: toggle_variable sobre variable: Edad con parámetros: {}\n",
      "2024-11-27 19:48:24,956 - __main__ - INFO - Variable 'Edad' incluida: 1\n",
      "2024-11-27 19:48:24,964 - __main__ - INFO - Cortes inicializados para variable 'Edad': [46.0]\n",
      "2024-11-27 19:48:24,980 - __main__ - INFO - Recalculando clusters...\n",
      "2024-11-27 19:48:24,982 - __main__ - INFO - Realizando clustering...\n",
      "2024-11-27 19:48:25,019 - __main__ - INFO - Procesando variable: Genero\n",
      "2024-11-27 19:48:25,102 - __main__ - INFO - Variable categórica 'Genero' separada en los grupos: ['Masculino' 'Femenino']\n",
      "2024-11-27 19:48:25,105 - __main__ - INFO - Procesando variable: Categoria_Digital\n"
     ]
    },
    {
     "name": "stdout",
     "output_type": "stream",
     "text": [
      "Action: 36, Reward: 119918766831.15356\n"
     ]
    },
    {
     "name": "stderr",
     "output_type": "stream",
     "text": [
      "2024-11-27 19:48:25,200 - __main__ - INFO - Variable categórica 'Categoria_Digital' separada en los grupos: ['Cliente no Digital' 'Cliente Digital']\n",
      "2024-11-27 19:48:25,202 - __main__ - INFO - Procesando variable: Elasticidad_Precios\n",
      "2024-11-27 19:48:25,280 - __main__ - INFO - Variable categórica 'Elasticidad_Precios' separada en los grupos: ['Alta' 'Baja' 'Media']\n",
      "2024-11-27 19:48:25,281 - __main__ - INFO - Procesando variable: Nacionalidad\n",
      "2024-11-27 19:48:25,283 - __main__ - INFO - Procesando variable: Propension\n",
      "2024-11-27 19:48:25,285 - __main__ - INFO - Procesando variable: Probabilidad_No_Pago\n",
      "2024-11-27 19:48:25,287 - __main__ - INFO - Procesando variable: Edad\n",
      "2024-11-27 19:48:25,321 - __main__ - INFO - Cortes para variable 'Edad': [46.0]\n",
      "2024-11-27 19:48:25,322 - __main__ - INFO - Procesando variable: Renta\n",
      "2024-11-27 19:48:25,325 - __main__ - INFO - Variables incluidas en clusterización: ['Genero_cluster', 'Categoria_Digital_cluster', 'Elasticidad_Precios_cluster', 'Edad_cluster']\n",
      "2024-11-27 19:48:42,381 - __main__ - INFO - Variables incluidas en este clustering: ['Genero_cluster', 'Categoria_Digital_cluster', 'Elasticidad_Precios_cluster', 'Edad_cluster']\n",
      "2024-11-27 19:48:42,382 - __main__ - INFO - Clustering completado. Número de clusters: 24\n",
      "2024-11-27 19:48:42,385 - __main__ - INFO - Recalculando métricas...\n",
      "2024-11-27 19:48:46,272 - __main__ - INFO - Estimando elasticidad...\n",
      "2024-11-27 19:48:47,761 - __main__ - INFO - Cluster 18:\n",
      "2024-11-27 19:48:47,763 - __main__ - INFO - - Precio Máx. Revenue Esperado = 2.50%\n",
      "2024-11-27 19:48:47,764 - __main__ - INFO - - Revenue Esperado Máximo = 2,609,659,852.98\n",
      "2024-11-27 19:48:47,766 - __main__ - INFO - - Número de clientes en el cluster = 24610\n",
      "2024-11-27 19:48:47,768 - __main__ - INFO - - Número de simulaciones en el cluster = 5295.03\n",
      "2024-11-27 19:48:47,770 - __main__ - INFO - - Probabilidad de aceptación en el precio óptimo = 0.3993\n",
      "2024-11-27 19:48:47,772 - __main__ - INFO - - Número esperado de créditos aceptados = 2114\n",
      "2024-11-27 19:48:47,774 - __main__ - INFO - - Monto medio simulado = 3,210,562.81\n",
      "2024-11-27 19:48:47,777 - __main__ - INFO - - Plazo medio simulado = 27.49\n",
      "2024-11-27 19:48:47,781 - __main__ - INFO - - Probabilidad de no pago media = 0.0259\n",
      "\n",
      "2024-11-27 19:48:50,697 - __main__ - INFO - Cluster 8:\n",
      "2024-11-27 19:48:50,699 - __main__ - INFO - - Precio Máx. Revenue Esperado = 1.00%\n",
      "2024-11-27 19:48:50,701 - __main__ - INFO - - Revenue Esperado Máximo = 6,442,961,643.11\n",
      "2024-11-27 19:48:50,706 - __main__ - INFO - - Número de clientes en el cluster = 36856\n",
      "2024-11-27 19:48:50,709 - __main__ - INFO - - Número de simulaciones en el cluster = 8388.64\n",
      "2024-11-27 19:48:50,712 - __main__ - INFO - - Probabilidad de aceptación en el precio óptimo = 0.7420\n",
      "2024-11-27 19:48:50,715 - __main__ - INFO - - Número esperado de créditos aceptados = 6225\n",
      "2024-11-27 19:48:50,722 - __main__ - INFO - - Monto medio simulado = 7,045,179.40\n",
      "2024-11-27 19:48:50,724 - __main__ - INFO - - Plazo medio simulado = 27.45\n",
      "2024-11-27 19:48:50,729 - __main__ - INFO - - Probabilidad de no pago media = 0.0106\n",
      "\n",
      "2024-11-27 19:48:52,176 - __main__ - INFO - Cluster 19:\n",
      "2024-11-27 19:48:52,178 - __main__ - INFO - - Precio Máx. Revenue Esperado = 2.50%\n",
      "2024-11-27 19:48:52,180 - __main__ - INFO - - Revenue Esperado Máximo = 2,407,217,555.92\n",
      "2024-11-27 19:48:52,181 - __main__ - INFO - - Número de clientes en el cluster = 16006\n",
      "2024-11-27 19:48:52,182 - __main__ - INFO - - Número de simulaciones en el cluster = 3412.08\n",
      "2024-11-27 19:48:52,184 - __main__ - INFO - - Probabilidad de aceptación en el precio óptimo = 0.4017\n",
      "2024-11-27 19:48:52,187 - __main__ - INFO - - Número esperado de créditos aceptados = 1371\n",
      "2024-11-27 19:48:52,189 - __main__ - INFO - - Monto medio simulado = 4,547,861.67\n",
      "2024-11-27 19:48:52,190 - __main__ - INFO - - Plazo medio simulado = 27.56\n",
      "2024-11-27 19:48:52,192 - __main__ - INFO - - Probabilidad de no pago media = 0.0240\n",
      "\n",
      "2024-11-27 19:48:54,950 - __main__ - INFO - Cluster 16:\n",
      "2024-11-27 19:48:54,951 - __main__ - INFO - - Precio Máx. Revenue Esperado = 1.37%\n",
      "2024-11-27 19:48:54,952 - __main__ - INFO - - Revenue Esperado Máximo = 5,740,772,009.07\n",
      "2024-11-27 19:48:54,954 - __main__ - INFO - - Número de clientes en el cluster = 34999\n",
      "2024-11-27 19:48:54,956 - __main__ - INFO - - Número de simulaciones en el cluster = 8627.68\n",
      "2024-11-27 19:48:54,958 - __main__ - INFO - - Probabilidad de aceptación en el precio óptimo = 0.6130\n",
      "2024-11-27 19:48:54,961 - __main__ - INFO - - Número esperado de créditos aceptados = 5289\n",
      "2024-11-27 19:48:54,963 - __main__ - INFO - - Monto medio simulado = 5,352,967.08\n",
      "2024-11-27 19:48:54,965 - __main__ - INFO - - Plazo medio simulado = 27.55\n",
      "2024-11-27 19:48:54,967 - __main__ - INFO - - Probabilidad de no pago media = 0.0256\n",
      "\n",
      "2024-11-27 19:48:57,299 - __main__ - INFO - Cluster 10:\n",
      "2024-11-27 19:48:57,300 - __main__ - INFO - - Precio Máx. Revenue Esperado = 1.38%\n",
      "2024-11-27 19:48:57,301 - __main__ - INFO - - Revenue Esperado Máximo = 2,149,918,373.04\n",
      "2024-11-27 19:48:57,303 - __main__ - INFO - - Número de clientes en el cluster = 30239\n",
      "2024-11-27 19:48:57,305 - __main__ - INFO - - Número de simulaciones en el cluster = 6435.89\n",
      "2024-11-27 19:48:57,310 - __main__ - INFO - - Probabilidad de aceptación en el precio óptimo = 0.6130\n",
      "2024-11-27 19:48:57,312 - __main__ - INFO - - Número esperado de créditos aceptados = 3945\n",
      "2024-11-27 19:48:57,314 - __main__ - INFO - - Monto medio simulado = 2,661,949.53\n",
      "2024-11-27 19:48:57,316 - __main__ - INFO - - Plazo medio simulado = 27.49\n",
      "2024-11-27 19:48:57,317 - __main__ - INFO - - Probabilidad de no pago media = 0.0143\n",
      "\n",
      "2024-11-27 19:48:59,704 - __main__ - INFO - Cluster 12:\n",
      "2024-11-27 19:48:59,705 - __main__ - INFO - - Precio Máx. Revenue Esperado = 2.50%\n",
      "2024-11-27 19:48:59,708 - __main__ - INFO - - Revenue Esperado Máximo = 3,129,797,456.07\n",
      "2024-11-27 19:48:59,711 - __main__ - INFO - - Número de clientes en el cluster = 29900\n",
      "2024-11-27 19:48:59,713 - __main__ - INFO - - Número de simulaciones en el cluster = 7375.24\n",
      "2024-11-27 19:48:59,716 - __main__ - INFO - - Probabilidad de aceptación en el precio óptimo = 0.4006\n",
      "2024-11-27 19:48:59,717 - __main__ - INFO - - Número esperado de créditos aceptados = 2954\n",
      "2024-11-27 19:48:59,719 - __main__ - INFO - - Monto medio simulado = 2,754,945.34\n",
      "2024-11-27 19:48:59,721 - __main__ - INFO - - Plazo medio simulado = 27.51\n",
      "2024-11-27 19:48:59,726 - __main__ - INFO - - Probabilidad de no pago media = 0.0265\n",
      "\n",
      "2024-11-27 19:49:03,614 - __main__ - INFO - Cluster 14:\n",
      "2024-11-27 19:49:03,616 - __main__ - INFO - - Precio Máx. Revenue Esperado = 1.00%\n",
      "2024-11-27 19:49:03,618 - __main__ - INFO - - Revenue Esperado Máximo = 7,612,275,539.21\n",
      "2024-11-27 19:49:03,622 - __main__ - INFO - - Número de clientes en el cluster = 47511\n",
      "2024-11-27 19:49:03,625 - __main__ - INFO - - Número de simulaciones en el cluster = 12328.12\n",
      "2024-11-27 19:49:03,628 - __main__ - INFO - - Probabilidad de aceptación en el precio óptimo = 0.7435\n",
      "2024-11-27 19:49:03,630 - __main__ - INFO - - Número esperado de créditos aceptados = 9166\n",
      "2024-11-27 19:49:03,635 - __main__ - INFO - - Monto medio simulado = 5,707,112.99\n",
      "2024-11-27 19:49:03,637 - __main__ - INFO - - Plazo medio simulado = 27.47\n",
      "2024-11-27 19:49:03,642 - __main__ - INFO - - Probabilidad de no pago media = 0.0206\n",
      "\n",
      "2024-11-27 19:49:07,862 - __main__ - INFO - Cluster 2:\n",
      "2024-11-27 19:49:07,863 - __main__ - INFO - - Precio Máx. Revenue Esperado = 1.00%\n",
      "2024-11-27 19:49:07,864 - __main__ - INFO - - Revenue Esperado Máximo = 8,465,359,231.27\n",
      "2024-11-27 19:49:07,866 - __main__ - INFO - - Número de clientes en el cluster = 45881\n",
      "2024-11-27 19:49:07,867 - __main__ - INFO - - Número de simulaciones en el cluster = 11785.12\n",
      "2024-11-27 19:49:07,869 - __main__ - INFO - - Probabilidad de aceptación en el precio óptimo = 0.7431\n",
      "2024-11-27 19:49:07,873 - __main__ - INFO - - Número esperado de créditos aceptados = 8758\n",
      "2024-11-27 19:49:07,874 - __main__ - INFO - - Monto medio simulado = 6,573,460.22\n",
      "2024-11-27 19:49:07,876 - __main__ - INFO - - Plazo medio simulado = 27.51\n",
      "2024-11-27 19:49:07,878 - __main__ - INFO - - Probabilidad de no pago media = 0.0117\n",
      "\n",
      "2024-11-27 19:49:10,294 - __main__ - INFO - Cluster 21:\n",
      "2024-11-27 19:49:10,295 - __main__ - INFO - - Precio Máx. Revenue Esperado = 1.00%\n",
      "2024-11-27 19:49:10,297 - __main__ - INFO - - Revenue Esperado Máximo = 11,914,900,807.88\n",
      "2024-11-27 19:49:10,298 - __main__ - INFO - - Número de clientes en el cluster = 26096\n",
      "2024-11-27 19:49:10,301 - __main__ - INFO - - Número de simulaciones en el cluster = 6229.62\n",
      "2024-11-27 19:49:10,304 - __main__ - INFO - - Probabilidad de aceptación en el precio óptimo = 0.7420\n",
      "2024-11-27 19:49:10,305 - __main__ - INFO - - Número esperado de créditos aceptados = 4622\n",
      "2024-11-27 19:49:10,306 - __main__ - INFO - - Monto medio simulado = 17,525,700.10\n",
      "2024-11-27 19:49:10,310 - __main__ - INFO - - Plazo medio simulado = 27.49\n",
      "2024-11-27 19:49:10,312 - __main__ - INFO - - Probabilidad de no pago media = 0.0111\n",
      "\n",
      "2024-11-27 19:49:13,377 - __main__ - INFO - Cluster 20:\n",
      "2024-11-27 19:49:13,379 - __main__ - INFO - - Precio Máx. Revenue Esperado = 1.00%\n",
      "2024-11-27 19:49:13,380 - __main__ - INFO - - Revenue Esperado Máximo = 6,618,455,169.92\n",
      "2024-11-27 19:49:13,382 - __main__ - INFO - - Número de clientes en el cluster = 38091\n",
      "2024-11-27 19:49:13,384 - __main__ - INFO - - Número de simulaciones en el cluster = 8822.08\n",
      "2024-11-27 19:49:13,388 - __main__ - INFO - - Probabilidad de aceptación en el precio óptimo = 0.7433\n",
      "2024-11-27 19:49:13,390 - __main__ - INFO - - Número esperado de créditos aceptados = 6557\n",
      "2024-11-27 19:49:13,394 - __main__ - INFO - - Monto medio simulado = 6,907,645.33\n",
      "2024-11-27 19:49:13,397 - __main__ - INFO - - Plazo medio simulado = 27.51\n",
      "2024-11-27 19:49:13,399 - __main__ - INFO - - Probabilidad de no pago media = 0.0182\n",
      "\n",
      "2024-11-27 19:49:15,411 - __main__ - INFO - Cluster 23:\n",
      "2024-11-27 19:49:15,413 - __main__ - INFO - - Precio Máx. Revenue Esperado = 1.37%\n",
      "2024-11-27 19:49:15,414 - __main__ - INFO - - Revenue Esperado Máximo = 11,124,241,888.32\n",
      "2024-11-27 19:49:15,416 - __main__ - INFO - - Número de clientes en el cluster = 23713\n",
      "2024-11-27 19:49:15,419 - __main__ - INFO - - Número de simulaciones en el cluster = 5324.38\n",
      "2024-11-27 19:49:15,421 - __main__ - INFO - - Probabilidad de aceptación en el precio óptimo = 0.6134\n",
      "2024-11-27 19:49:15,423 - __main__ - INFO - - Número esperado de créditos aceptados = 3266\n",
      "2024-11-27 19:49:15,425 - __main__ - INFO - - Monto medio simulado = 16,653,129.97\n",
      "2024-11-27 19:49:15,427 - __main__ - INFO - - Plazo medio simulado = 27.54\n",
      "2024-11-27 19:49:15,429 - __main__ - INFO - - Probabilidad de no pago media = 0.0171\n",
      "\n",
      "2024-11-27 19:49:16,329 - __main__ - INFO - Cluster 13:\n",
      "2024-11-27 19:49:16,331 - __main__ - INFO - - Precio Máx. Revenue Esperado = 2.50%\n",
      "2024-11-27 19:49:16,332 - __main__ - INFO - - Revenue Esperado Máximo = 1,367,511,287.54\n",
      "2024-11-27 19:49:16,334 - __main__ - INFO - - Número de clientes en el cluster = 7986\n",
      "2024-11-27 19:49:16,337 - __main__ - INFO - - Número de simulaciones en el cluster = 1937.21\n",
      "2024-11-27 19:49:16,339 - __main__ - INFO - - Probabilidad de aceptación en el precio óptimo = 0.4006\n",
      "2024-11-27 19:49:16,341 - __main__ - INFO - - Número esperado de créditos aceptados = 776\n",
      "2024-11-27 19:49:16,343 - __main__ - INFO - - Monto medio simulado = 4,582,523.42\n",
      "2024-11-27 19:49:16,345 - __main__ - INFO - - Plazo medio simulado = 27.44\n",
      "2024-11-27 19:49:16,346 - __main__ - INFO - - Probabilidad de no pago media = 0.0238\n",
      "\n",
      "2024-11-27 19:49:18,095 - __main__ - INFO - Cluster 9:\n",
      "2024-11-27 19:49:18,096 - __main__ - INFO - - Precio Máx. Revenue Esperado = 1.00%\n",
      "2024-11-27 19:49:18,097 - __main__ - INFO - - Revenue Esperado Máximo = 6,864,568,678.66\n",
      "2024-11-27 19:49:18,099 - __main__ - INFO - - Número de clientes en el cluster = 15903\n",
      "2024-11-27 19:49:18,101 - __main__ - INFO - - Número de simulaciones en el cluster = 3700.52\n",
      "2024-11-27 19:49:18,104 - __main__ - INFO - - Probabilidad de aceptación en el precio óptimo = 0.7435\n",
      "2024-11-27 19:49:18,105 - __main__ - INFO - - Número esperado de créditos aceptados = 2751\n",
      "2024-11-27 19:49:18,107 - __main__ - INFO - - Monto medio simulado = 16,848,015.33\n",
      "2024-11-27 19:49:18,108 - __main__ - INFO - - Plazo medio simulado = 27.56\n",
      "2024-11-27 19:49:18,109 - __main__ - INFO - - Probabilidad de no pago media = 0.0068\n",
      "\n",
      "2024-11-27 19:49:21,179 - __main__ - INFO - Cluster 4:\n",
      "2024-11-27 19:49:21,181 - __main__ - INFO - - Precio Máx. Revenue Esperado = 1.38%\n",
      "2024-11-27 19:49:21,184 - __main__ - INFO - - Revenue Esperado Máximo = 2,589,437,318.64\n",
      "2024-11-27 19:49:21,187 - __main__ - INFO - - Número de clientes en el cluster = 39743\n",
      "2024-11-27 19:49:21,189 - __main__ - INFO - - Número de simulaciones en el cluster = 9702.65\n",
      "2024-11-27 19:49:21,191 - __main__ - INFO - - Probabilidad de aceptación en el precio óptimo = 0.6145\n",
      "2024-11-27 19:49:21,193 - __main__ - INFO - - Número esperado de créditos aceptados = 5962\n",
      "2024-11-27 19:49:21,196 - __main__ - INFO - - Monto medio simulado = 2,125,977.71\n",
      "2024-11-27 19:49:21,198 - __main__ - INFO - - Plazo medio simulado = 27.48\n",
      "2024-11-27 19:49:21,206 - __main__ - INFO - - Probabilidad de no pago media = 0.0157\n",
      "\n",
      "2024-11-27 19:49:23,289 - __main__ - INFO - Cluster 0:\n",
      "2024-11-27 19:49:23,290 - __main__ - INFO - - Precio Máx. Revenue Esperado = 2.50%\n",
      "2024-11-27 19:49:23,291 - __main__ - INFO - - Revenue Esperado Máximo = 1,461,324,149.78\n",
      "2024-11-27 19:49:23,293 - __main__ - INFO - - Número de clientes en el cluster = 23033\n",
      "2024-11-27 19:49:23,295 - __main__ - INFO - - Número de simulaciones en el cluster = 5706.77\n",
      "2024-11-27 19:49:23,297 - __main__ - INFO - - Probabilidad de aceptación en el precio óptimo = 0.4012\n",
      "2024-11-27 19:49:23,299 - __main__ - INFO - - Número esperado de créditos aceptados = 2290\n",
      "2024-11-27 19:49:23,301 - __main__ - INFO - - Monto medio simulado = 1,646,835.74\n",
      "2024-11-27 19:49:23,303 - __main__ - INFO - - Plazo medio simulado = 27.43\n",
      "2024-11-27 19:49:23,304 - __main__ - INFO - - Probabilidad de no pago media = 0.0156\n",
      "\n",
      "2024-11-27 19:49:25,491 - __main__ - INFO - Cluster 22:\n",
      "2024-11-27 19:49:25,492 - __main__ - INFO - - Precio Máx. Revenue Esperado = 1.38%\n",
      "2024-11-27 19:49:25,493 - __main__ - INFO - - Revenue Esperado Máximo = 4,840,115,955.14\n",
      "2024-11-27 19:49:25,495 - __main__ - INFO - - Número de clientes en el cluster = 29166\n",
      "2024-11-27 19:49:25,498 - __main__ - INFO - - Número de simulaciones en el cluster = 6347.76\n",
      "2024-11-27 19:49:25,501 - __main__ - INFO - - Probabilidad de aceptación en el precio óptimo = 0.6118\n",
      "2024-11-27 19:49:25,503 - __main__ - INFO - - Número esperado de créditos aceptados = 3884\n",
      "2024-11-27 19:49:25,505 - __main__ - INFO - - Monto medio simulado = 6,143,126.70\n",
      "2024-11-27 19:49:25,508 - __main__ - INFO - - Plazo medio simulado = 27.51\n",
      "2024-11-27 19:49:25,510 - __main__ - INFO - - Probabilidad de no pago media = 0.0239\n",
      "\n",
      "2024-11-27 19:49:26,941 - __main__ - INFO - Cluster 6:\n",
      "2024-11-27 19:49:26,943 - __main__ - INFO - - Precio Máx. Revenue Esperado = 2.50%\n",
      "2024-11-27 19:49:26,944 - __main__ - INFO - - Revenue Esperado Máximo = 1,218,885,109.11\n",
      "2024-11-27 19:49:26,945 - __main__ - INFO - - Número de clientes en el cluster = 16341\n",
      "2024-11-27 19:49:26,947 - __main__ - INFO - - Número de simulaciones en el cluster = 3559.08\n",
      "2024-11-27 19:49:26,950 - __main__ - INFO - - Probabilidad de aceptación en el precio óptimo = 0.3998\n",
      "2024-11-27 19:49:26,951 - __main__ - INFO - - Número esperado de créditos aceptados = 1423\n",
      "2024-11-27 19:49:26,953 - __main__ - INFO - - Monto medio simulado = 2,206,886.19\n",
      "2024-11-27 19:49:26,955 - __main__ - INFO - - Plazo medio simulado = 27.44\n",
      "2024-11-27 19:49:26,957 - __main__ - INFO - - Probabilidad de no pago media = 0.0146\n",
      "\n",
      "2024-11-27 19:49:27,806 - __main__ - INFO - Cluster 5:\n",
      "2024-11-27 19:49:27,807 - __main__ - INFO - - Precio Máx. Revenue Esperado = 1.38%\n",
      "2024-11-27 19:49:27,808 - __main__ - INFO - - Revenue Esperado Máximo = 875,122,394.04\n",
      "2024-11-27 19:49:27,812 - __main__ - INFO - - Número de clientes en el cluster = 5966\n",
      "2024-11-27 19:49:27,816 - __main__ - INFO - - Número de simulaciones en el cluster = 1462.73\n",
      "2024-11-27 19:49:27,817 - __main__ - INFO - - Probabilidad de aceptación en el precio óptimo = 0.6182\n",
      "2024-11-27 19:49:27,822 - __main__ - INFO - - Número esperado de créditos aceptados = 904\n",
      "2024-11-27 19:49:27,825 - __main__ - INFO - - Monto medio simulado = 4,688,573.67\n",
      "2024-11-27 19:49:27,827 - __main__ - INFO - - Plazo medio simulado = 27.58\n",
      "2024-11-27 19:49:27,830 - __main__ - INFO - - Probabilidad de no pago media = 0.0095\n",
      "\n",
      "2024-11-27 19:49:28,945 - __main__ - INFO - Cluster 11:\n",
      "2024-11-27 19:49:28,948 - __main__ - INFO - - Precio Máx. Revenue Esperado = 1.38%\n",
      "2024-11-27 19:49:28,949 - __main__ - INFO - - Revenue Esperado Máximo = 1,366,725,592.33\n",
      "2024-11-27 19:49:28,951 - __main__ - INFO - - Número de clientes en el cluster = 10850\n",
      "2024-11-27 19:49:28,953 - __main__ - INFO - - Número de simulaciones en el cluster = 2337.00\n",
      "2024-11-27 19:49:28,956 - __main__ - INFO - - Probabilidad de aceptación en el precio óptimo = 0.6131\n",
      "2024-11-27 19:49:28,959 - __main__ - INFO - - Número esperado de créditos aceptados = 1433\n",
      "2024-11-27 19:49:28,961 - __main__ - INFO - - Monto medio simulado = 4,641,653.17\n",
      "2024-11-27 19:49:29,003 - __main__ - INFO - - Plazo medio simulado = 27.46\n",
      "2024-11-27 19:49:29,006 - __main__ - INFO - - Probabilidad de no pago media = 0.0095\n",
      "\n",
      "2024-11-27 19:49:30,596 - __main__ - INFO - Cluster 15:\n",
      "2024-11-27 19:49:30,598 - __main__ - INFO - - Precio Máx. Revenue Esperado = 1.00%\n",
      "2024-11-27 19:49:30,600 - __main__ - INFO - - Revenue Esperado Máximo = 6,428,152,349.46\n",
      "2024-11-27 19:49:30,603 - __main__ - INFO - - Número de clientes en el cluster = 13064\n",
      "2024-11-27 19:49:30,605 - __main__ - INFO - - Número de simulaciones en el cluster = 3502.38\n",
      "2024-11-27 19:49:30,608 - __main__ - INFO - - Probabilidad de aceptación en el precio óptimo = 0.7445\n",
      "2024-11-27 19:49:30,610 - __main__ - INFO - - Número esperado de créditos aceptados = 2608\n",
      "2024-11-27 19:49:30,617 - __main__ - INFO - - Monto medio simulado = 16,682,268.24\n",
      "2024-11-27 19:49:30,620 - __main__ - INFO - - Plazo medio simulado = 27.63\n",
      "2024-11-27 19:49:30,622 - __main__ - INFO - - Probabilidad de no pago media = 0.0112\n",
      "\n",
      "2024-11-27 19:49:32,028 - __main__ - INFO - Cluster 3:\n",
      "2024-11-27 19:49:32,030 - __main__ - INFO - - Precio Máx. Revenue Esperado = 1.00%\n",
      "2024-11-27 19:49:32,032 - __main__ - INFO - - Revenue Esperado Máximo = 4,119,145,067.90\n",
      "2024-11-27 19:49:32,033 - __main__ - INFO - - Número de clientes en el cluster = 8728\n",
      "2024-11-27 19:49:32,035 - __main__ - INFO - - Número de simulaciones en el cluster = 2300.86\n",
      "2024-11-27 19:49:32,036 - __main__ - INFO - - Probabilidad de aceptación en el precio óptimo = 0.7449\n",
      "2024-11-27 19:49:32,038 - __main__ - INFO - - Número esperado de créditos aceptados = 1714\n",
      "2024-11-27 19:49:32,040 - __main__ - INFO - - Monto medio simulado = 16,239,782.31\n",
      "2024-11-27 19:49:32,041 - __main__ - INFO - - Plazo medio simulado = 27.55\n",
      "2024-11-27 19:49:32,043 - __main__ - INFO - - Probabilidad de no pago media = 0.0070\n",
      "\n",
      "2024-11-27 19:49:32,754 - __main__ - INFO - Cluster 7:\n",
      "2024-11-27 19:49:32,755 - __main__ - INFO - - Precio Máx. Revenue Esperado = 2.50%\n",
      "2024-11-27 19:49:32,757 - __main__ - INFO - - Revenue Esperado Máximo = 680,490,472.32\n",
      "2024-11-27 19:49:32,760 - __main__ - INFO - - Número de clientes en el cluster = 4252\n",
      "2024-11-27 19:49:32,764 - __main__ - INFO - - Número de simulaciones en el cluster = 914.06\n",
      "2024-11-27 19:49:32,766 - __main__ - INFO - - Probabilidad de aceptación en el precio óptimo = 0.4021\n",
      "2024-11-27 19:49:32,769 - __main__ - INFO - - Número esperado de créditos aceptados = 368\n",
      "2024-11-27 19:49:32,772 - __main__ - INFO - - Monto medio simulado = 4,751,141.73\n",
      "2024-11-27 19:49:32,774 - __main__ - INFO - - Plazo medio simulado = 27.41\n",
      "2024-11-27 19:49:32,777 - __main__ - INFO - - Probabilidad de no pago media = 0.0094\n",
      "\n",
      "2024-11-27 19:49:34,193 - __main__ - INFO - Cluster 17:\n",
      "2024-11-27 19:49:34,197 - __main__ - INFO - - Precio Máx. Revenue Esperado = 1.37%\n",
      "2024-11-27 19:49:34,201 - __main__ - INFO - - Revenue Esperado Máximo = 6,049,760,348.86\n",
      "2024-11-27 19:49:34,202 - __main__ - INFO - - Número de clientes en el cluster = 11711\n",
      "2024-11-27 19:49:34,204 - __main__ - INFO - - Número de simulaciones en el cluster = 2986.97\n",
      "2024-11-27 19:49:34,207 - __main__ - INFO - - Probabilidad de aceptación en el precio óptimo = 0.6130\n",
      "2024-11-27 19:49:34,209 - __main__ - INFO - - Número esperado de créditos aceptados = 1831\n",
      "2024-11-27 19:49:34,212 - __main__ - INFO - - Monto medio simulado = 16,156,739.40\n",
      "2024-11-27 19:49:34,215 - __main__ - INFO - - Plazo medio simulado = 27.55\n",
      "2024-11-27 19:49:34,217 - __main__ - INFO - - Probabilidad de no pago media = 0.0174\n",
      "\n",
      "2024-11-27 19:49:34,846 - __main__ - INFO - Cluster 1:\n",
      "2024-11-27 19:49:34,847 - __main__ - INFO - - Precio Máx. Revenue Esperado = 2.50%\n",
      "2024-11-27 19:49:34,848 - __main__ - INFO - - Revenue Esperado Máximo = 413,869,232.86\n",
      "2024-11-27 19:49:34,850 - __main__ - INFO - - Número de clientes en el cluster = 2259\n",
      "2024-11-27 19:49:34,852 - __main__ - INFO - - Número de simulaciones en el cluster = 553.56\n",
      "2024-11-27 19:49:34,854 - __main__ - INFO - - Probabilidad de aceptación en el precio óptimo = 0.4063\n",
      "2024-11-27 19:49:34,856 - __main__ - INFO - - Número esperado de créditos aceptados = 225\n",
      "2024-11-27 19:49:34,858 - __main__ - INFO - - Monto medio simulado = 4,692,915.39\n",
      "2024-11-27 19:49:34,860 - __main__ - INFO - - Plazo medio simulado = 27.56\n",
      "2024-11-27 19:49:34,862 - __main__ - INFO - - Probabilidad de no pago media = 0.0092\n",
      "\n",
      "2024-11-27 19:49:35,297 - __main__ - INFO - El revenue total esperado es: 106,490,667,483.41 con un total de 542904 clientes, 129,035.42 simulaciones, y 80436 créditos.\n",
      "2024-11-27 19:49:37,351 - __main__ - INFO - total_revenue: 106490667483.4109, total_clientes: 542904, total_simulaciones: 129035.42424242427, total_creditos: 80436\n",
      "2024-11-27 19:49:59,866 - __main__ - INFO - Estimación de respuesta a tratamientos completada.\n",
      "2024-11-27 19:50:06,401 - __main__ - INFO - Llamando al modelo de asignación de tratamientos...\n",
      "2024-11-27 19:50:06,403 - __main__ - INFO - Iniciando modelo de asignación de tratamientos...\n",
      "2024-11-27 19:50:06,404 - __main__ - INFO - Procesando datos de probabilidades y asignando IDs de tratamiento...\n",
      "2024-11-27 19:50:06,414 - __main__ - INFO - Fusionando probabilidades con información de RUT...\n",
      "2024-11-27 19:50:06,605 - __main__ - INFO - Fusionando información de RUT con información de clusters...\n",
      "2024-11-27 19:50:06,747 - __main__ - INFO - Agrupando información por cluster...\n",
      "2024-11-27 19:50:08,326 - __main__ - INFO - Calculando Revenue Calculado (RC)...\n",
      "2024-11-27 19:50:08,335 - __main__ - INFO - Preparando matriz de beneficios para optimización...\n",
      "2024-11-27 19:50:08,347 - __main__ - INFO - Inicializando modelo de optimización con Gurobi...\n",
      "2024-11-27 19:50:08,349 - __main__ - INFO - Creando variables de decisión...\n",
      "2024-11-27 19:50:08,359 - __main__ - INFO - Agregando restricción de un tratamiento por cliente...\n",
      "2024-11-27 19:50:08,362 - __main__ - INFO - Agregando restricción de capacidad para ejecutivos...\n",
      "2024-11-27 19:50:08,371 - __main__ - INFO - Agregando restricciones de consistencia por cluster...\n",
      "2024-11-27 19:50:08,375 - __main__ - INFO - Iniciando optimización con Gurobi...\n"
     ]
    },
    {
     "name": "stdout",
     "output_type": "stream",
     "text": [
      "Gurobi Optimizer version 11.0.3 build v11.0.3rc0 (win64 - Windows 10.0 (19045.2))\n"
     ]
    },
    {
     "name": "stderr",
     "output_type": "stream",
     "text": [
      "2024-11-27 19:50:08,379 - gurobipy - INFO - Gurobi Optimizer version 11.0.3 build v11.0.3rc0 (win64 - Windows 10.0 (19045.2))\n"
     ]
    },
    {
     "name": "stdout",
     "output_type": "stream",
     "text": [
      "\n"
     ]
    },
    {
     "name": "stderr",
     "output_type": "stream",
     "text": [
      "2024-11-27 19:50:08,385 - gurobipy - INFO - \n"
     ]
    },
    {
     "name": "stdout",
     "output_type": "stream",
     "text": [
      "CPU model: AMD Ryzen 5 2500U with Radeon Vega Mobile Gfx, instruction set [SSE2|AVX|AVX2]\n"
     ]
    },
    {
     "name": "stderr",
     "output_type": "stream",
     "text": [
      "2024-11-27 19:50:08,388 - gurobipy - INFO - CPU model: AMD Ryzen 5 2500U with Radeon Vega Mobile Gfx, instruction set [SSE2|AVX|AVX2]\n"
     ]
    },
    {
     "name": "stdout",
     "output_type": "stream",
     "text": [
      "Thread count: 4 physical cores, 8 logical processors, using up to 8 threads\n"
     ]
    },
    {
     "name": "stderr",
     "output_type": "stream",
     "text": [
      "2024-11-27 19:50:08,391 - gurobipy - INFO - Thread count: 4 physical cores, 8 logical processors, using up to 8 threads\n"
     ]
    },
    {
     "name": "stdout",
     "output_type": "stream",
     "text": [
      "\n"
     ]
    },
    {
     "name": "stderr",
     "output_type": "stream",
     "text": [
      "2024-11-27 19:50:08,394 - gurobipy - INFO - \n"
     ]
    },
    {
     "name": "stdout",
     "output_type": "stream",
     "text": [
      "Optimize a model with 25 rows, 192 columns and 264 nonzeros\n"
     ]
    },
    {
     "name": "stderr",
     "output_type": "stream",
     "text": [
      "2024-11-27 19:50:08,398 - gurobipy - INFO - Optimize a model with 25 rows, 192 columns and 264 nonzeros\n"
     ]
    },
    {
     "name": "stdout",
     "output_type": "stream",
     "text": [
      "Model fingerprint: 0x271aed49\n"
     ]
    },
    {
     "name": "stderr",
     "output_type": "stream",
     "text": [
      "2024-11-27 19:50:08,402 - gurobipy - INFO - Model fingerprint: 0x271aed49\n"
     ]
    },
    {
     "name": "stdout",
     "output_type": "stream",
     "text": [
      "Variable types: 0 continuous, 192 integer (192 binary)\n"
     ]
    },
    {
     "name": "stderr",
     "output_type": "stream",
     "text": [
      "2024-11-27 19:50:08,411 - gurobipy - INFO - Variable types: 0 continuous, 192 integer (192 binary)\n"
     ]
    },
    {
     "name": "stdout",
     "output_type": "stream",
     "text": [
      "Coefficient statistics:\n"
     ]
    },
    {
     "name": "stderr",
     "output_type": "stream",
     "text": [
      "2024-11-27 19:50:08,414 - gurobipy - INFO - Coefficient statistics:\n"
     ]
    },
    {
     "name": "stdout",
     "output_type": "stream",
     "text": [
      "  Matrix range     [1e+00, 5e+04]\n"
     ]
    },
    {
     "name": "stderr",
     "output_type": "stream",
     "text": [
      "2024-11-27 19:50:08,420 - gurobipy - INFO -   Matrix range     [1e+00, 5e+04]\n"
     ]
    },
    {
     "name": "stdout",
     "output_type": "stream",
     "text": [
      "  Objective range  [2e+08, 2e+10]\n"
     ]
    },
    {
     "name": "stderr",
     "output_type": "stream",
     "text": [
      "2024-11-27 19:50:08,423 - gurobipy - INFO -   Objective range  [2e+08, 2e+10]\n"
     ]
    },
    {
     "name": "stdout",
     "output_type": "stream",
     "text": [
      "  Bounds range     [1e+00, 1e+00]\n"
     ]
    },
    {
     "name": "stderr",
     "output_type": "stream",
     "text": [
      "2024-11-27 19:50:08,427 - gurobipy - INFO -   Bounds range     [1e+00, 1e+00]\n"
     ]
    },
    {
     "name": "stdout",
     "output_type": "stream",
     "text": [
      "  RHS range        [1e+00, 2e+05]\n"
     ]
    },
    {
     "name": "stderr",
     "output_type": "stream",
     "text": [
      "2024-11-27 19:50:08,430 - gurobipy - INFO -   RHS range        [1e+00, 2e+05]\n"
     ]
    },
    {
     "name": "stdout",
     "output_type": "stream",
     "text": [
      "Warning: Model contains large objective coefficients\n"
     ]
    },
    {
     "name": "stderr",
     "output_type": "stream",
     "text": [
      "2024-11-27 19:50:08,433 - gurobipy - INFO - Warning: Model contains large objective coefficients\n"
     ]
    },
    {
     "name": "stdout",
     "output_type": "stream",
     "text": [
      "         Consider reformulating model or setting NumericFocus parameter\n"
     ]
    },
    {
     "name": "stderr",
     "output_type": "stream",
     "text": [
      "2024-11-27 19:50:08,438 - gurobipy - INFO -          Consider reformulating model or setting NumericFocus parameter\n"
     ]
    },
    {
     "name": "stdout",
     "output_type": "stream",
     "text": [
      "         to avoid numerical issues.\n"
     ]
    },
    {
     "name": "stderr",
     "output_type": "stream",
     "text": [
      "2024-11-27 19:50:08,441 - gurobipy - INFO -          to avoid numerical issues.\n"
     ]
    },
    {
     "name": "stdout",
     "output_type": "stream",
     "text": [
      "Found heuristic solution: objective 6.374834e+10\n"
     ]
    },
    {
     "name": "stderr",
     "output_type": "stream",
     "text": [
      "2024-11-27 19:50:08,448 - gurobipy - INFO - Found heuristic solution: objective 6.374834e+10\n"
     ]
    },
    {
     "name": "stdout",
     "output_type": "stream",
     "text": [
      "Presolve removed 24 rows and 168 columns\n"
     ]
    },
    {
     "name": "stderr",
     "output_type": "stream",
     "text": [
      "2024-11-27 19:50:08,461 - gurobipy - INFO - Presolve removed 24 rows and 168 columns\n"
     ]
    },
    {
     "name": "stdout",
     "output_type": "stream",
     "text": [
      "Presolve time: 0.01s\n"
     ]
    },
    {
     "name": "stderr",
     "output_type": "stream",
     "text": [
      "2024-11-27 19:50:08,465 - gurobipy - INFO - Presolve time: 0.01s\n"
     ]
    },
    {
     "name": "stdout",
     "output_type": "stream",
     "text": [
      "Presolved: 1 rows, 24 columns, 24 nonzeros\n"
     ]
    },
    {
     "name": "stderr",
     "output_type": "stream",
     "text": [
      "2024-11-27 19:50:08,468 - gurobipy - INFO - Presolved: 1 rows, 24 columns, 24 nonzeros\n"
     ]
    },
    {
     "name": "stdout",
     "output_type": "stream",
     "text": [
      "Found heuristic solution: objective 1.237905e+11\n"
     ]
    },
    {
     "name": "stderr",
     "output_type": "stream",
     "text": [
      "2024-11-27 19:50:08,474 - gurobipy - INFO - Found heuristic solution: objective 1.237905e+11\n"
     ]
    },
    {
     "name": "stdout",
     "output_type": "stream",
     "text": [
      "Variable types: 0 continuous, 24 integer (24 binary)\n"
     ]
    },
    {
     "name": "stderr",
     "output_type": "stream",
     "text": [
      "2024-11-27 19:50:08,477 - gurobipy - INFO - Variable types: 0 continuous, 24 integer (24 binary)\n"
     ]
    },
    {
     "name": "stdout",
     "output_type": "stream",
     "text": [
      "Found heuristic solution: objective 1.267958e+11\n"
     ]
    },
    {
     "name": "stderr",
     "output_type": "stream",
     "text": [
      "2024-11-27 19:50:08,482 - gurobipy - INFO - Found heuristic solution: objective 1.267958e+11\n"
     ]
    },
    {
     "name": "stdout",
     "output_type": "stream",
     "text": [
      "\n"
     ]
    },
    {
     "name": "stderr",
     "output_type": "stream",
     "text": [
      "2024-11-27 19:50:08,486 - gurobipy - INFO - \n"
     ]
    },
    {
     "name": "stdout",
     "output_type": "stream",
     "text": [
      "Root relaxation: objective 1.297578e+11, 1 iterations, 0.00 seconds (0.00 work units)\n"
     ]
    },
    {
     "name": "stderr",
     "output_type": "stream",
     "text": [
      "2024-11-27 19:50:08,490 - gurobipy - INFO - Root relaxation: objective 1.297578e+11, 1 iterations, 0.00 seconds (0.00 work units)\n"
     ]
    },
    {
     "name": "stdout",
     "output_type": "stream",
     "text": [
      "\n"
     ]
    },
    {
     "name": "stderr",
     "output_type": "stream",
     "text": [
      "2024-11-27 19:50:08,607 - gurobipy - INFO - \n"
     ]
    },
    {
     "name": "stdout",
     "output_type": "stream",
     "text": [
      "    Nodes    |    Current Node    |     Objective Bounds      |     Work\n"
     ]
    },
    {
     "name": "stderr",
     "output_type": "stream",
     "text": [
      "2024-11-27 19:50:08,610 - gurobipy - INFO -     Nodes    |    Current Node    |     Objective Bounds      |     Work\n"
     ]
    },
    {
     "name": "stdout",
     "output_type": "stream",
     "text": [
      " Expl Unexpl |  Obj  Depth IntInf | Incumbent    BestBd   Gap | It/Node Time\n"
     ]
    },
    {
     "name": "stderr",
     "output_type": "stream",
     "text": [
      "2024-11-27 19:50:08,613 - gurobipy - INFO -  Expl Unexpl |  Obj  Depth IntInf | Incumbent    BestBd   Gap | It/Node Time\n"
     ]
    },
    {
     "name": "stdout",
     "output_type": "stream",
     "text": [
      "\n"
     ]
    },
    {
     "name": "stderr",
     "output_type": "stream",
     "text": [
      "2024-11-27 19:50:08,618 - gurobipy - INFO - \n"
     ]
    },
    {
     "name": "stdout",
     "output_type": "stream",
     "text": [
      "     0     0 1.2976e+11    0    1 1.2680e+11 1.2976e+11  2.34%     -    0s\n"
     ]
    },
    {
     "name": "stderr",
     "output_type": "stream",
     "text": [
      "2024-11-27 19:50:08,622 - gurobipy - INFO -      0     0 1.2976e+11    0    1 1.2680e+11 1.2976e+11  2.34%     -    0s\n"
     ]
    },
    {
     "name": "stdout",
     "output_type": "stream",
     "text": [
      "H    0     0                    1.295323e+11 1.2976e+11  0.17%     -    0s\n"
     ]
    },
    {
     "name": "stderr",
     "output_type": "stream",
     "text": [
      "2024-11-27 19:50:08,626 - gurobipy - INFO - H    0     0                    1.295323e+11 1.2976e+11  0.17%     -    0s\n"
     ]
    },
    {
     "name": "stdout",
     "output_type": "stream",
     "text": [
      "\n"
     ]
    },
    {
     "name": "stderr",
     "output_type": "stream",
     "text": [
      "2024-11-27 19:50:08,634 - gurobipy - INFO - \n"
     ]
    },
    {
     "name": "stdout",
     "output_type": "stream",
     "text": [
      "Explored 1 nodes (1 simplex iterations) in 0.24 seconds (0.00 work units)\n"
     ]
    },
    {
     "name": "stderr",
     "output_type": "stream",
     "text": [
      "2024-11-27 19:50:08,638 - gurobipy - INFO - Explored 1 nodes (1 simplex iterations) in 0.24 seconds (0.00 work units)\n"
     ]
    },
    {
     "name": "stdout",
     "output_type": "stream",
     "text": [
      "Thread count was 8 (of 8 available processors)\n"
     ]
    },
    {
     "name": "stderr",
     "output_type": "stream",
     "text": [
      "2024-11-27 19:50:08,641 - gurobipy - INFO - Thread count was 8 (of 8 available processors)\n"
     ]
    },
    {
     "name": "stdout",
     "output_type": "stream",
     "text": [
      "\n"
     ]
    },
    {
     "name": "stderr",
     "output_type": "stream",
     "text": [
      "2024-11-27 19:50:08,646 - gurobipy - INFO - \n"
     ]
    },
    {
     "name": "stdout",
     "output_type": "stream",
     "text": [
      "Solution count 4: 1.29532e+11 1.26796e+11 1.23791e+11 6.37483e+10 \n"
     ]
    },
    {
     "name": "stderr",
     "output_type": "stream",
     "text": [
      "2024-11-27 19:50:08,650 - gurobipy - INFO - Solution count 4: 1.29532e+11 1.26796e+11 1.23791e+11 6.37483e+10 \n"
     ]
    },
    {
     "name": "stdout",
     "output_type": "stream",
     "text": [
      "\n"
     ]
    },
    {
     "name": "stderr",
     "output_type": "stream",
     "text": [
      "2024-11-27 19:50:08,654 - gurobipy - INFO - \n"
     ]
    },
    {
     "name": "stdout",
     "output_type": "stream",
     "text": [
      "Optimal solution found (tolerance 1.00e-04)\n"
     ]
    },
    {
     "name": "stderr",
     "output_type": "stream",
     "text": [
      "2024-11-27 19:50:08,657 - gurobipy - INFO - Optimal solution found (tolerance 1.00e-04)\n"
     ]
    },
    {
     "name": "stdout",
     "output_type": "stream",
     "text": [
      "Best objective 1.295323127750e+11, best bound 1.295323127750e+11, gap 0.0000%\n"
     ]
    },
    {
     "name": "stderr",
     "output_type": "stream",
     "text": [
      "2024-11-27 19:50:08,661 - gurobipy - INFO - Best objective 1.295323127750e+11, best bound 1.295323127750e+11, gap 0.0000%\n",
      "2024-11-27 19:50:08,664 - __main__ - INFO - Optimización exitosa. Extrayendo resultados...\n",
      "2024-11-27 19:50:08,668 - __main__ - INFO - Ganancias totales: 129532312775.02\n",
      "2024-11-27 19:50:08,671 - __main__ - INFO - Executives used: 203421\n",
      "2024-11-27 19:50:08,673 - __main__ - INFO - Executives remaining: 1579\n",
      "2024-11-27 19:50:08,675 - __main__ - INFO - Optimización completada.\n",
      "2024-11-27 19:50:08,691 - __main__ - INFO - Recalculación de métricas completada.\n",
      "2024-11-27 19:50:10,059 - __main__ - INFO - Aplicando acción tipo: adjust_splits sobre variable: Renta con parámetros: {'operation': 'move', 'index': 1, 'amount': 1}\n",
      "2024-11-27 19:50:10,060 - __main__ - WARNING - No se puede ajustar separaciones para 'Renta': no es continua o no está incluida en la clusterización.\n",
      "2024-11-27 19:50:10,062 - __main__ - INFO - Seleccionando nueva acción: ('adjust_splits', 'Edad', {'operation': 'move', 'index': 2, 'amount': -1})\n",
      "2024-11-27 19:50:10,064 - __main__ - INFO - Aplicando acción tipo: adjust_splits sobre variable: Edad con parámetros: {'operation': 'move', 'index': 2, 'amount': -1}\n",
      "2024-11-27 19:50:10,067 - __main__ - INFO - Corte movido para variable 'Edad': [46.0]\n",
      "2024-11-27 19:50:10,086 - __main__ - INFO - Recalculando clusters...\n",
      "2024-11-27 19:50:10,087 - __main__ - INFO - Realizando clustering...\n",
      "2024-11-27 19:50:10,131 - __main__ - INFO - Procesando variable: Genero\n",
      "2024-11-27 19:50:10,218 - __main__ - INFO - Variable categórica 'Genero' separada en los grupos: ['Masculino' 'Femenino']\n",
      "2024-11-27 19:50:10,220 - __main__ - INFO - Procesando variable: Categoria_Digital\n"
     ]
    },
    {
     "name": "stdout",
     "output_type": "stream",
     "text": [
      "Action: 36, Reward: 129036522775.0238\n"
     ]
    },
    {
     "name": "stderr",
     "output_type": "stream",
     "text": [
      "2024-11-27 19:50:10,314 - __main__ - INFO - Variable categórica 'Categoria_Digital' separada en los grupos: ['Cliente no Digital' 'Cliente Digital']\n",
      "2024-11-27 19:50:10,317 - __main__ - INFO - Procesando variable: Elasticidad_Precios\n",
      "2024-11-27 19:50:10,399 - __main__ - INFO - Variable categórica 'Elasticidad_Precios' separada en los grupos: ['Alta' 'Baja' 'Media']\n",
      "2024-11-27 19:50:10,401 - __main__ - INFO - Procesando variable: Nacionalidad\n",
      "2024-11-27 19:50:10,402 - __main__ - INFO - Procesando variable: Propension\n",
      "2024-11-27 19:50:10,404 - __main__ - INFO - Procesando variable: Probabilidad_No_Pago\n",
      "2024-11-27 19:50:10,406 - __main__ - INFO - Procesando variable: Edad\n",
      "2024-11-27 19:50:10,435 - __main__ - INFO - Cortes para variable 'Edad': [46.0]\n",
      "2024-11-27 19:50:10,436 - __main__ - INFO - Procesando variable: Renta\n",
      "2024-11-27 19:50:10,437 - __main__ - INFO - Variables incluidas en clusterización: ['Genero_cluster', 'Categoria_Digital_cluster', 'Elasticidad_Precios_cluster', 'Edad_cluster']\n",
      "2024-11-27 19:50:27,073 - __main__ - INFO - Variables incluidas en este clustering: ['Genero_cluster', 'Categoria_Digital_cluster', 'Elasticidad_Precios_cluster', 'Edad_cluster']\n",
      "2024-11-27 19:50:27,074 - __main__ - INFO - Clustering completado. Número de clusters: 24\n",
      "2024-11-27 19:50:27,077 - __main__ - INFO - Recalculando métricas...\n",
      "2024-11-27 19:50:30,834 - __main__ - INFO - Estimando elasticidad...\n",
      "2024-11-27 19:50:32,445 - __main__ - INFO - Cluster 18:\n",
      "2024-11-27 19:50:32,446 - __main__ - INFO - - Precio Máx. Revenue Esperado = 2.50%\n",
      "2024-11-27 19:50:32,448 - __main__ - INFO - - Revenue Esperado Máximo = 2,609,659,852.98\n",
      "2024-11-27 19:50:32,450 - __main__ - INFO - - Número de clientes en el cluster = 24610\n",
      "2024-11-27 19:50:32,452 - __main__ - INFO - - Número de simulaciones en el cluster = 5295.03\n",
      "2024-11-27 19:50:32,453 - __main__ - INFO - - Probabilidad de aceptación en el precio óptimo = 0.3993\n",
      "2024-11-27 19:50:32,455 - __main__ - INFO - - Número esperado de créditos aceptados = 2114\n",
      "2024-11-27 19:50:32,457 - __main__ - INFO - - Monto medio simulado = 3,210,562.81\n",
      "2024-11-27 19:50:32,460 - __main__ - INFO - - Plazo medio simulado = 27.49\n",
      "2024-11-27 19:50:32,461 - __main__ - INFO - - Probabilidad de no pago media = 0.0259\n",
      "\n",
      "2024-11-27 19:50:35,462 - __main__ - INFO - Cluster 8:\n",
      "2024-11-27 19:50:35,464 - __main__ - INFO - - Precio Máx. Revenue Esperado = 1.00%\n",
      "2024-11-27 19:50:35,465 - __main__ - INFO - - Revenue Esperado Máximo = 6,442,961,643.11\n",
      "2024-11-27 19:50:35,466 - __main__ - INFO - - Número de clientes en el cluster = 36856\n",
      "2024-11-27 19:50:35,468 - __main__ - INFO - - Número de simulaciones en el cluster = 8388.64\n",
      "2024-11-27 19:50:35,470 - __main__ - INFO - - Probabilidad de aceptación en el precio óptimo = 0.7420\n",
      "2024-11-27 19:50:35,472 - __main__ - INFO - - Número esperado de créditos aceptados = 6225\n",
      "2024-11-27 19:50:35,478 - __main__ - INFO - - Monto medio simulado = 7,045,179.40\n",
      "2024-11-27 19:50:35,479 - __main__ - INFO - - Plazo medio simulado = 27.45\n",
      "2024-11-27 19:50:35,481 - __main__ - INFO - - Probabilidad de no pago media = 0.0106\n",
      "\n",
      "2024-11-27 19:50:36,971 - __main__ - INFO - Cluster 19:\n",
      "2024-11-27 19:50:36,972 - __main__ - INFO - - Precio Máx. Revenue Esperado = 2.50%\n",
      "2024-11-27 19:50:36,974 - __main__ - INFO - - Revenue Esperado Máximo = 2,407,217,555.92\n",
      "2024-11-27 19:50:36,975 - __main__ - INFO - - Número de clientes en el cluster = 16006\n",
      "2024-11-27 19:50:36,977 - __main__ - INFO - - Número de simulaciones en el cluster = 3412.08\n",
      "2024-11-27 19:50:36,979 - __main__ - INFO - - Probabilidad de aceptación en el precio óptimo = 0.4017\n",
      "2024-11-27 19:50:36,981 - __main__ - INFO - - Número esperado de créditos aceptados = 1371\n",
      "2024-11-27 19:50:36,983 - __main__ - INFO - - Monto medio simulado = 4,547,861.67\n",
      "2024-11-27 19:50:36,984 - __main__ - INFO - - Plazo medio simulado = 27.56\n",
      "2024-11-27 19:50:36,986 - __main__ - INFO - - Probabilidad de no pago media = 0.0240\n",
      "\n",
      "2024-11-27 19:50:39,764 - __main__ - INFO - Cluster 16:\n",
      "2024-11-27 19:50:39,766 - __main__ - INFO - - Precio Máx. Revenue Esperado = 1.37%\n",
      "2024-11-27 19:50:39,767 - __main__ - INFO - - Revenue Esperado Máximo = 5,740,772,009.07\n",
      "2024-11-27 19:50:39,768 - __main__ - INFO - - Número de clientes en el cluster = 34999\n",
      "2024-11-27 19:50:39,770 - __main__ - INFO - - Número de simulaciones en el cluster = 8627.68\n",
      "2024-11-27 19:50:39,773 - __main__ - INFO - - Probabilidad de aceptación en el precio óptimo = 0.6130\n",
      "2024-11-27 19:50:39,775 - __main__ - INFO - - Número esperado de créditos aceptados = 5289\n",
      "2024-11-27 19:50:39,776 - __main__ - INFO - - Monto medio simulado = 5,352,967.08\n",
      "2024-11-27 19:50:39,778 - __main__ - INFO - - Plazo medio simulado = 27.55\n",
      "2024-11-27 19:50:39,780 - __main__ - INFO - - Probabilidad de no pago media = 0.0256\n",
      "\n",
      "2024-11-27 19:50:41,945 - __main__ - INFO - Cluster 10:\n",
      "2024-11-27 19:50:41,947 - __main__ - INFO - - Precio Máx. Revenue Esperado = 1.38%\n",
      "2024-11-27 19:50:41,948 - __main__ - INFO - - Revenue Esperado Máximo = 2,149,918,373.04\n",
      "2024-11-27 19:50:41,950 - __main__ - INFO - - Número de clientes en el cluster = 30239\n",
      "2024-11-27 19:50:41,952 - __main__ - INFO - - Número de simulaciones en el cluster = 6435.89\n",
      "2024-11-27 19:50:41,954 - __main__ - INFO - - Probabilidad de aceptación en el precio óptimo = 0.6130\n",
      "2024-11-27 19:50:41,956 - __main__ - INFO - - Número esperado de créditos aceptados = 3945\n",
      "2024-11-27 19:50:41,960 - __main__ - INFO - - Monto medio simulado = 2,661,949.53\n",
      "2024-11-27 19:50:41,961 - __main__ - INFO - - Plazo medio simulado = 27.49\n",
      "2024-11-27 19:50:41,963 - __main__ - INFO - - Probabilidad de no pago media = 0.0143\n",
      "\n",
      "2024-11-27 19:50:44,302 - __main__ - INFO - Cluster 12:\n",
      "2024-11-27 19:50:44,305 - __main__ - INFO - - Precio Máx. Revenue Esperado = 2.50%\n",
      "2024-11-27 19:50:44,308 - __main__ - INFO - - Revenue Esperado Máximo = 3,129,797,456.07\n",
      "2024-11-27 19:50:44,310 - __main__ - INFO - - Número de clientes en el cluster = 29900\n",
      "2024-11-27 19:50:44,311 - __main__ - INFO - - Número de simulaciones en el cluster = 7375.24\n",
      "2024-11-27 19:50:44,313 - __main__ - INFO - - Probabilidad de aceptación en el precio óptimo = 0.4006\n",
      "2024-11-27 19:50:44,315 - __main__ - INFO - - Número esperado de créditos aceptados = 2954\n",
      "2024-11-27 19:50:44,317 - __main__ - INFO - - Monto medio simulado = 2,754,945.34\n",
      "2024-11-27 19:50:44,319 - __main__ - INFO - - Plazo medio simulado = 27.51\n",
      "2024-11-27 19:50:44,321 - __main__ - INFO - - Probabilidad de no pago media = 0.0265\n",
      "\n",
      "2024-11-27 19:50:48,278 - __main__ - INFO - Cluster 14:\n",
      "2024-11-27 19:50:48,280 - __main__ - INFO - - Precio Máx. Revenue Esperado = 1.00%\n",
      "2024-11-27 19:50:48,283 - __main__ - INFO - - Revenue Esperado Máximo = 7,612,275,539.21\n",
      "2024-11-27 19:50:48,286 - __main__ - INFO - - Número de clientes en el cluster = 47511\n",
      "2024-11-27 19:50:48,289 - __main__ - INFO - - Número de simulaciones en el cluster = 12328.12\n",
      "2024-11-27 19:50:48,291 - __main__ - INFO - - Probabilidad de aceptación en el precio óptimo = 0.7435\n",
      "2024-11-27 19:50:48,294 - __main__ - INFO - - Número esperado de créditos aceptados = 9166\n",
      "2024-11-27 19:50:48,300 - __main__ - INFO - - Monto medio simulado = 5,707,112.99\n",
      "2024-11-27 19:50:48,303 - __main__ - INFO - - Plazo medio simulado = 27.47\n",
      "2024-11-27 19:50:48,306 - __main__ - INFO - - Probabilidad de no pago media = 0.0206\n",
      "\n",
      "2024-11-27 19:50:52,232 - __main__ - INFO - Cluster 2:\n",
      "2024-11-27 19:50:52,234 - __main__ - INFO - - Precio Máx. Revenue Esperado = 1.00%\n",
      "2024-11-27 19:50:52,235 - __main__ - INFO - - Revenue Esperado Máximo = 8,465,359,231.27\n",
      "2024-11-27 19:50:52,237 - __main__ - INFO - - Número de clientes en el cluster = 45881\n",
      "2024-11-27 19:50:52,240 - __main__ - INFO - - Número de simulaciones en el cluster = 11785.12\n",
      "2024-11-27 19:50:52,245 - __main__ - INFO - - Probabilidad de aceptación en el precio óptimo = 0.7431\n",
      "2024-11-27 19:50:52,247 - __main__ - INFO - - Número esperado de créditos aceptados = 8758\n",
      "2024-11-27 19:50:52,249 - __main__ - INFO - - Monto medio simulado = 6,573,460.22\n",
      "2024-11-27 19:50:52,254 - __main__ - INFO - - Plazo medio simulado = 27.51\n",
      "2024-11-27 19:50:52,257 - __main__ - INFO - - Probabilidad de no pago media = 0.0117\n",
      "\n",
      "2024-11-27 19:50:54,685 - __main__ - INFO - Cluster 21:\n",
      "2024-11-27 19:50:54,686 - __main__ - INFO - - Precio Máx. Revenue Esperado = 1.00%\n",
      "2024-11-27 19:50:54,689 - __main__ - INFO - - Revenue Esperado Máximo = 11,914,900,807.88\n",
      "2024-11-27 19:50:54,690 - __main__ - INFO - - Número de clientes en el cluster = 26096\n",
      "2024-11-27 19:50:54,692 - __main__ - INFO - - Número de simulaciones en el cluster = 6229.62\n",
      "2024-11-27 19:50:54,693 - __main__ - INFO - - Probabilidad de aceptación en el precio óptimo = 0.7420\n",
      "2024-11-27 19:50:54,694 - __main__ - INFO - - Número esperado de créditos aceptados = 4622\n",
      "2024-11-27 19:50:54,696 - __main__ - INFO - - Monto medio simulado = 17,525,700.10\n",
      "2024-11-27 19:50:54,698 - __main__ - INFO - - Plazo medio simulado = 27.49\n",
      "2024-11-27 19:50:54,701 - __main__ - INFO - - Probabilidad de no pago media = 0.0111\n",
      "\n",
      "2024-11-27 19:50:58,048 - __main__ - INFO - Cluster 20:\n",
      "2024-11-27 19:50:58,050 - __main__ - INFO - - Precio Máx. Revenue Esperado = 1.00%\n",
      "2024-11-27 19:50:58,052 - __main__ - INFO - - Revenue Esperado Máximo = 6,618,455,169.92\n",
      "2024-11-27 19:50:58,055 - __main__ - INFO - - Número de clientes en el cluster = 38091\n",
      "2024-11-27 19:50:58,056 - __main__ - INFO - - Número de simulaciones en el cluster = 8822.08\n",
      "2024-11-27 19:50:58,058 - __main__ - INFO - - Probabilidad de aceptación en el precio óptimo = 0.7433\n",
      "2024-11-27 19:50:58,060 - __main__ - INFO - - Número esperado de créditos aceptados = 6557\n",
      "2024-11-27 19:50:58,063 - __main__ - INFO - - Monto medio simulado = 6,907,645.33\n",
      "2024-11-27 19:50:58,066 - __main__ - INFO - - Plazo medio simulado = 27.51\n",
      "2024-11-27 19:50:58,068 - __main__ - INFO - - Probabilidad de no pago media = 0.0182\n",
      "\n",
      "2024-11-27 19:51:00,310 - __main__ - INFO - Cluster 23:\n",
      "2024-11-27 19:51:00,311 - __main__ - INFO - - Precio Máx. Revenue Esperado = 1.37%\n",
      "2024-11-27 19:51:00,312 - __main__ - INFO - - Revenue Esperado Máximo = 11,124,241,888.32\n",
      "2024-11-27 19:51:00,314 - __main__ - INFO - - Número de clientes en el cluster = 23713\n",
      "2024-11-27 19:51:00,316 - __main__ - INFO - - Número de simulaciones en el cluster = 5324.38\n",
      "2024-11-27 19:51:00,317 - __main__ - INFO - - Probabilidad de aceptación en el precio óptimo = 0.6134\n",
      "2024-11-27 19:51:00,318 - __main__ - INFO - - Número esperado de créditos aceptados = 3266\n",
      "2024-11-27 19:51:00,320 - __main__ - INFO - - Monto medio simulado = 16,653,129.97\n",
      "2024-11-27 19:51:00,322 - __main__ - INFO - - Plazo medio simulado = 27.54\n",
      "2024-11-27 19:51:00,323 - __main__ - INFO - - Probabilidad de no pago media = 0.0171\n",
      "\n",
      "2024-11-27 19:51:01,527 - __main__ - INFO - Cluster 13:\n",
      "2024-11-27 19:51:01,529 - __main__ - INFO - - Precio Máx. Revenue Esperado = 2.50%\n",
      "2024-11-27 19:51:01,532 - __main__ - INFO - - Revenue Esperado Máximo = 1,367,511,287.54\n",
      "2024-11-27 19:51:01,534 - __main__ - INFO - - Número de clientes en el cluster = 7986\n",
      "2024-11-27 19:51:01,537 - __main__ - INFO - - Número de simulaciones en el cluster = 1937.21\n",
      "2024-11-27 19:51:01,539 - __main__ - INFO - - Probabilidad de aceptación en el precio óptimo = 0.4006\n",
      "2024-11-27 19:51:01,540 - __main__ - INFO - - Número esperado de créditos aceptados = 776\n",
      "2024-11-27 19:51:01,544 - __main__ - INFO - - Monto medio simulado = 4,582,523.42\n",
      "2024-11-27 19:51:01,547 - __main__ - INFO - - Plazo medio simulado = 27.44\n",
      "2024-11-27 19:51:01,550 - __main__ - INFO - - Probabilidad de no pago media = 0.0238\n",
      "\n",
      "2024-11-27 19:51:02,895 - __main__ - INFO - Cluster 9:\n",
      "2024-11-27 19:51:02,897 - __main__ - INFO - - Precio Máx. Revenue Esperado = 1.00%\n",
      "2024-11-27 19:51:02,899 - __main__ - INFO - - Revenue Esperado Máximo = 6,864,568,678.66\n",
      "2024-11-27 19:51:02,903 - __main__ - INFO - - Número de clientes en el cluster = 15903\n",
      "2024-11-27 19:51:02,904 - __main__ - INFO - - Número de simulaciones en el cluster = 3700.52\n",
      "2024-11-27 19:51:02,908 - __main__ - INFO - - Probabilidad de aceptación en el precio óptimo = 0.7435\n",
      "2024-11-27 19:51:02,911 - __main__ - INFO - - Número esperado de créditos aceptados = 2751\n",
      "2024-11-27 19:51:02,913 - __main__ - INFO - - Monto medio simulado = 16,848,015.33\n",
      "2024-11-27 19:51:02,916 - __main__ - INFO - - Plazo medio simulado = 27.56\n",
      "2024-11-27 19:51:02,917 - __main__ - INFO - - Probabilidad de no pago media = 0.0068\n",
      "\n",
      "2024-11-27 19:51:06,276 - __main__ - INFO - Cluster 4:\n",
      "2024-11-27 19:51:06,279 - __main__ - INFO - - Precio Máx. Revenue Esperado = 1.38%\n",
      "2024-11-27 19:51:06,280 - __main__ - INFO - - Revenue Esperado Máximo = 2,589,437,318.64\n",
      "2024-11-27 19:51:06,281 - __main__ - INFO - - Número de clientes en el cluster = 39743\n",
      "2024-11-27 19:51:06,283 - __main__ - INFO - - Número de simulaciones en el cluster = 9702.65\n",
      "2024-11-27 19:51:06,284 - __main__ - INFO - - Probabilidad de aceptación en el precio óptimo = 0.6145\n",
      "2024-11-27 19:51:06,286 - __main__ - INFO - - Número esperado de créditos aceptados = 5962\n",
      "2024-11-27 19:51:06,288 - __main__ - INFO - - Monto medio simulado = 2,125,977.71\n",
      "2024-11-27 19:51:06,289 - __main__ - INFO - - Plazo medio simulado = 27.48\n",
      "2024-11-27 19:51:06,290 - __main__ - INFO - - Probabilidad de no pago media = 0.0157\n",
      "\n",
      "2024-11-27 19:51:08,176 - __main__ - INFO - Cluster 0:\n",
      "2024-11-27 19:51:08,179 - __main__ - INFO - - Precio Máx. Revenue Esperado = 2.50%\n",
      "2024-11-27 19:51:08,181 - __main__ - INFO - - Revenue Esperado Máximo = 1,461,324,149.78\n",
      "2024-11-27 19:51:08,182 - __main__ - INFO - - Número de clientes en el cluster = 23033\n",
      "2024-11-27 19:51:08,184 - __main__ - INFO - - Número de simulaciones en el cluster = 5706.77\n",
      "2024-11-27 19:51:08,186 - __main__ - INFO - - Probabilidad de aceptación en el precio óptimo = 0.4012\n",
      "2024-11-27 19:51:08,187 - __main__ - INFO - - Número esperado de créditos aceptados = 2290\n",
      "2024-11-27 19:51:08,189 - __main__ - INFO - - Monto medio simulado = 1,646,835.74\n",
      "2024-11-27 19:51:08,191 - __main__ - INFO - - Plazo medio simulado = 27.43\n",
      "2024-11-27 19:51:08,193 - __main__ - INFO - - Probabilidad de no pago media = 0.0156\n",
      "\n",
      "2024-11-27 19:51:10,169 - __main__ - INFO - Cluster 22:\n",
      "2024-11-27 19:51:10,170 - __main__ - INFO - - Precio Máx. Revenue Esperado = 1.38%\n",
      "2024-11-27 19:51:10,172 - __main__ - INFO - - Revenue Esperado Máximo = 4,840,115,955.14\n",
      "2024-11-27 19:51:10,173 - __main__ - INFO - - Número de clientes en el cluster = 29166\n",
      "2024-11-27 19:51:10,174 - __main__ - INFO - - Número de simulaciones en el cluster = 6347.76\n",
      "2024-11-27 19:51:10,176 - __main__ - INFO - - Probabilidad de aceptación en el precio óptimo = 0.6118\n",
      "2024-11-27 19:51:10,179 - __main__ - INFO - - Número esperado de créditos aceptados = 3884\n",
      "2024-11-27 19:51:10,181 - __main__ - INFO - - Monto medio simulado = 6,143,126.70\n",
      "2024-11-27 19:51:10,183 - __main__ - INFO - - Plazo medio simulado = 27.51\n",
      "2024-11-27 19:51:10,185 - __main__ - INFO - - Probabilidad de no pago media = 0.0239\n",
      "\n",
      "2024-11-27 19:51:11,796 - __main__ - INFO - Cluster 6:\n",
      "2024-11-27 19:51:11,798 - __main__ - INFO - - Precio Máx. Revenue Esperado = 2.50%\n",
      "2024-11-27 19:51:11,800 - __main__ - INFO - - Revenue Esperado Máximo = 1,218,885,109.11\n",
      "2024-11-27 19:51:11,802 - __main__ - INFO - - Número de clientes en el cluster = 16341\n",
      "2024-11-27 19:51:11,805 - __main__ - INFO - - Número de simulaciones en el cluster = 3559.08\n",
      "2024-11-27 19:51:11,807 - __main__ - INFO - - Probabilidad de aceptación en el precio óptimo = 0.3998\n",
      "2024-11-27 19:51:11,809 - __main__ - INFO - - Número esperado de créditos aceptados = 1423\n",
      "2024-11-27 19:51:11,812 - __main__ - INFO - - Monto medio simulado = 2,206,886.19\n",
      "2024-11-27 19:51:11,813 - __main__ - INFO - - Plazo medio simulado = 27.44\n",
      "2024-11-27 19:51:11,816 - __main__ - INFO - - Probabilidad de no pago media = 0.0146\n",
      "\n",
      "2024-11-27 19:51:12,655 - __main__ - INFO - Cluster 5:\n",
      "2024-11-27 19:51:12,656 - __main__ - INFO - - Precio Máx. Revenue Esperado = 1.38%\n",
      "2024-11-27 19:51:12,658 - __main__ - INFO - - Revenue Esperado Máximo = 875,122,394.04\n",
      "2024-11-27 19:51:12,663 - __main__ - INFO - - Número de clientes en el cluster = 5966\n",
      "2024-11-27 19:51:12,667 - __main__ - INFO - - Número de simulaciones en el cluster = 1462.73\n",
      "2024-11-27 19:51:12,669 - __main__ - INFO - - Probabilidad de aceptación en el precio óptimo = 0.6182\n",
      "2024-11-27 19:51:12,672 - __main__ - INFO - - Número esperado de créditos aceptados = 904\n",
      "2024-11-27 19:51:12,674 - __main__ - INFO - - Monto medio simulado = 4,688,573.67\n",
      "2024-11-27 19:51:12,678 - __main__ - INFO - - Plazo medio simulado = 27.58\n",
      "2024-11-27 19:51:12,680 - __main__ - INFO - - Probabilidad de no pago media = 0.0095\n",
      "\n",
      "2024-11-27 19:51:13,905 - __main__ - INFO - Cluster 11:\n",
      "2024-11-27 19:51:13,906 - __main__ - INFO - - Precio Máx. Revenue Esperado = 1.38%\n",
      "2024-11-27 19:51:13,909 - __main__ - INFO - - Revenue Esperado Máximo = 1,366,725,592.33\n",
      "2024-11-27 19:51:13,911 - __main__ - INFO - - Número de clientes en el cluster = 10850\n",
      "2024-11-27 19:51:13,913 - __main__ - INFO - - Número de simulaciones en el cluster = 2337.00\n",
      "2024-11-27 19:51:13,916 - __main__ - INFO - - Probabilidad de aceptación en el precio óptimo = 0.6131\n",
      "2024-11-27 19:51:13,918 - __main__ - INFO - - Número esperado de créditos aceptados = 1433\n",
      "2024-11-27 19:51:13,920 - __main__ - INFO - - Monto medio simulado = 4,641,653.17\n",
      "2024-11-27 19:51:13,921 - __main__ - INFO - - Plazo medio simulado = 27.46\n",
      "2024-11-27 19:51:13,923 - __main__ - INFO - - Probabilidad de no pago media = 0.0095\n",
      "\n",
      "2024-11-27 19:51:15,551 - __main__ - INFO - Cluster 15:\n",
      "2024-11-27 19:51:15,552 - __main__ - INFO - - Precio Máx. Revenue Esperado = 1.00%\n",
      "2024-11-27 19:51:15,554 - __main__ - INFO - - Revenue Esperado Máximo = 6,428,152,349.46\n",
      "2024-11-27 19:51:15,556 - __main__ - INFO - - Número de clientes en el cluster = 13064\n",
      "2024-11-27 19:51:15,557 - __main__ - INFO - - Número de simulaciones en el cluster = 3502.38\n",
      "2024-11-27 19:51:15,559 - __main__ - INFO - - Probabilidad de aceptación en el precio óptimo = 0.7445\n",
      "2024-11-27 19:51:15,561 - __main__ - INFO - - Número esperado de créditos aceptados = 2608\n",
      "2024-11-27 19:51:15,563 - __main__ - INFO - - Monto medio simulado = 16,682,268.24\n",
      "2024-11-27 19:51:15,564 - __main__ - INFO - - Plazo medio simulado = 27.63\n",
      "2024-11-27 19:51:15,566 - __main__ - INFO - - Probabilidad de no pago media = 0.0112\n",
      "\n",
      "2024-11-27 19:51:16,893 - __main__ - INFO - Cluster 3:\n",
      "2024-11-27 19:51:16,894 - __main__ - INFO - - Precio Máx. Revenue Esperado = 1.00%\n",
      "2024-11-27 19:51:16,895 - __main__ - INFO - - Revenue Esperado Máximo = 4,119,145,067.90\n",
      "2024-11-27 19:51:16,897 - __main__ - INFO - - Número de clientes en el cluster = 8728\n",
      "2024-11-27 19:51:16,899 - __main__ - INFO - - Número de simulaciones en el cluster = 2300.86\n",
      "2024-11-27 19:51:16,902 - __main__ - INFO - - Probabilidad de aceptación en el precio óptimo = 0.7449\n",
      "2024-11-27 19:51:16,903 - __main__ - INFO - - Número esperado de créditos aceptados = 1714\n",
      "2024-11-27 19:51:16,905 - __main__ - INFO - - Monto medio simulado = 16,239,782.31\n",
      "2024-11-27 19:51:16,907 - __main__ - INFO - - Plazo medio simulado = 27.55\n",
      "2024-11-27 19:51:16,909 - __main__ - INFO - - Probabilidad de no pago media = 0.0070\n",
      "\n",
      "2024-11-27 19:51:17,599 - __main__ - INFO - Cluster 7:\n",
      "2024-11-27 19:51:17,600 - __main__ - INFO - - Precio Máx. Revenue Esperado = 2.50%\n",
      "2024-11-27 19:51:17,602 - __main__ - INFO - - Revenue Esperado Máximo = 680,490,472.32\n",
      "2024-11-27 19:51:17,607 - __main__ - INFO - - Número de clientes en el cluster = 4252\n",
      "2024-11-27 19:51:17,612 - __main__ - INFO - - Número de simulaciones en el cluster = 914.06\n",
      "2024-11-27 19:51:17,614 - __main__ - INFO - - Probabilidad de aceptación en el precio óptimo = 0.4021\n",
      "2024-11-27 19:51:17,616 - __main__ - INFO - - Número esperado de créditos aceptados = 368\n",
      "2024-11-27 19:51:17,618 - __main__ - INFO - - Monto medio simulado = 4,751,141.73\n",
      "2024-11-27 19:51:17,620 - __main__ - INFO - - Plazo medio simulado = 27.41\n",
      "2024-11-27 19:51:17,622 - __main__ - INFO - - Probabilidad de no pago media = 0.0094\n",
      "\n",
      "2024-11-27 19:51:19,025 - __main__ - INFO - Cluster 17:\n",
      "2024-11-27 19:51:19,026 - __main__ - INFO - - Precio Máx. Revenue Esperado = 1.37%\n",
      "2024-11-27 19:51:19,028 - __main__ - INFO - - Revenue Esperado Máximo = 6,049,760,348.86\n",
      "2024-11-27 19:51:19,029 - __main__ - INFO - - Número de clientes en el cluster = 11711\n",
      "2024-11-27 19:51:19,031 - __main__ - INFO - - Número de simulaciones en el cluster = 2986.97\n",
      "2024-11-27 19:51:19,032 - __main__ - INFO - - Probabilidad de aceptación en el precio óptimo = 0.6130\n",
      "2024-11-27 19:51:19,035 - __main__ - INFO - - Número esperado de créditos aceptados = 1831\n",
      "2024-11-27 19:51:19,037 - __main__ - INFO - - Monto medio simulado = 16,156,739.40\n",
      "2024-11-27 19:51:19,039 - __main__ - INFO - - Plazo medio simulado = 27.55\n",
      "2024-11-27 19:51:19,042 - __main__ - INFO - - Probabilidad de no pago media = 0.0174\n",
      "\n",
      "2024-11-27 19:51:19,646 - __main__ - INFO - Cluster 1:\n",
      "2024-11-27 19:51:19,648 - __main__ - INFO - - Precio Máx. Revenue Esperado = 2.50%\n",
      "2024-11-27 19:51:19,649 - __main__ - INFO - - Revenue Esperado Máximo = 413,869,232.86\n",
      "2024-11-27 19:51:19,651 - __main__ - INFO - - Número de clientes en el cluster = 2259\n",
      "2024-11-27 19:51:19,653 - __main__ - INFO - - Número de simulaciones en el cluster = 553.56\n",
      "2024-11-27 19:51:19,657 - __main__ - INFO - - Probabilidad de aceptación en el precio óptimo = 0.4063\n",
      "2024-11-27 19:51:19,659 - __main__ - INFO - - Número esperado de créditos aceptados = 225\n",
      "2024-11-27 19:51:19,661 - __main__ - INFO - - Monto medio simulado = 4,692,915.39\n",
      "2024-11-27 19:51:19,662 - __main__ - INFO - - Plazo medio simulado = 27.56\n",
      "2024-11-27 19:51:19,663 - __main__ - INFO - - Probabilidad de no pago media = 0.0092\n",
      "\n",
      "2024-11-27 19:51:20,110 - __main__ - INFO - El revenue total esperado es: 106,490,667,483.41 con un total de 542904 clientes, 129,035.42 simulaciones, y 80436 créditos.\n",
      "2024-11-27 19:51:22,166 - __main__ - INFO - total_revenue: 106490667483.4109, total_clientes: 542904, total_simulaciones: 129035.42424242427, total_creditos: 80436\n"
     ]
    }
   ],
   "source": [
    "# Cargar el modelo entrenado (si ya lo has guardado previamente)\n",
    "model = DQN.load(\"dqn_clustering_agent\")\n",
    "\n",
    "# Resetear el entorno\n",
    "obs, info = env.reset(seed=42)\n",
    "done = False\n",
    "truncated = False\n",
    "total_reward = 0\n",
    "\n",
    "while not (done or truncated):\n",
    "    action, _states = model.predict(obs, deterministic=True)\n",
    "    obs, reward, done, truncated, info = env.step(action)\n",
    "    total_reward += reward\n",
    "    # Opcional: imprimir la acción y la recompensa\n",
    "    print(f\"Action: {action}, Reward: {reward}\")\n",
    "\n",
    "print(f\"Total reward: {total_reward}\")\n"
   ]
  },
  {
   "cell_type": "code",
   "execution_count": null,
   "metadata": {},
   "outputs": [],
   "source": [
    "import gc\n",
    "\n",
    "# Paso 1: Definir las variables que deseas mantener\n",
    "variables_to_keep = [\n",
    "    'gym',\n",
    "    'spaces',\n",
    "    'DQN',\n",
    "    'check_env',\n",
    "    'ClusteringEnv',\n",
    "    'Model',\n",
    "    'GRB',\n",
    "    'quicksum',\n",
    "    'os',\n",
    "    'datetime',\n",
    "    'np',\n",
    "    'pd',\n",
    "    'sm',\n",
    "    'df_informacion_de_clientes',\n",
    "    'df_simulaciones_e_informacion_de_clientes_ventas_tratamiento',\n",
    "    'env',\n",
    "    'model',\n",
    "    'df_simulaciones_info'\n",
    "    # Añade aquí cualquier otra variable que necesites mantener\n",
    "]\n",
    "\n",
    "# Paso 2: Obtener todas las variables en el espacio de nombres global\n",
    "all_vars = list(globals().keys())\n",
    "\n",
    "# Paso 3: Identificar las variables que se deben eliminar\n",
    "# Se excluyen las variables internas que comienzan con '_'\n",
    "vars_to_delete = [var for var in all_vars if var not in variables_to_keep and not var.startswith('_')]\n",
    "\n",
    "# Paso 4: Eliminar las variables no necesarias\n",
    "for var in vars_to_delete:\n",
    "    try:\n",
    "        del globals()[var]\n",
    "        print(f\"Variable '{var}' eliminada.\")\n",
    "    except Exception as e:\n",
    "        print(f\"No se pudo eliminar la variable '{var}': {e}\")\n",
    "\n",
    "# Paso 5: Forzar la recolección de basura para liberar la memoria\n",
    "gc.collect()\n",
    "\n",
    "print(\"Variables no necesarias eliminadas y memoria liberada.\")\n"
   ]
  }
 ],
 "metadata": {
  "kernelspec": {
   "display_name": "Python 3",
   "language": "python",
   "name": "python3"
  },
  "language_info": {
   "codemirror_mode": {
    "name": "ipython",
    "version": 3
   },
   "file_extension": ".py",
   "mimetype": "text/x-python",
   "name": "python",
   "nbconvert_exporter": "python",
   "pygments_lexer": "ipython3",
   "version": "3.8.10"
  }
 },
 "nbformat": 4,
 "nbformat_minor": 2
}
