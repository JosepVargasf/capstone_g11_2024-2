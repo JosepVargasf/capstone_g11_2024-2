{
 "cells": [
  {
   "cell_type": "markdown",
   "metadata": {},
   "source": [
    "# 0. Importación de librerias"
   ]
  },
  {
   "cell_type": "code",
   "execution_count": 1,
   "metadata": {},
   "outputs": [],
   "source": [
    "# Librerías para el análisis de datos\n",
    "import numpy as np  # Biblioteca para operaciones numéricas, especialmente útil para trabajar con matrices y arrays\n",
    "import pandas as pd  # Biblioteca para manipulación y análisis de datos, especialmente para DataFrames\n",
    "import statsmodels.api as sm  # Biblioteca para realizar modelos estadísticos, útil para regresiones y otros análisis estadísticos\n",
    "from collections import Counter  # Contador de elementos en colecciones, útil para contar la frecuencia de elementos en una lista o array\n",
    "\n",
    "# Librería para optimización\n",
    "from gurobipy import Model, GRB, quicksum  # Gurobi es una biblioteca de optimización matemática. \n",
    "# Model permite definir el modelo de optimización,\n",
    "# GRB contiene constantes (como tipos de variables y sentido de optimización),\n",
    "# quicksum permite realizar sumas de forma rápida y eficiente en Gurobi.\n",
    "\n",
    "# Librerías operacionales\n",
    "import os  # Biblioteca para interactuar con el sistema operativo (ej. manejo de archivos y rutas)\n",
    "from datetime import datetime  # Módulo para trabajar con fechas y tiempos, útil para capturar fechas actuales o manipular datos de tiempo\n"
   ]
  },
  {
   "cell_type": "markdown",
   "metadata": {},
   "source": [
    "# <h2>1. Carga de datos desde excel a dataframes de pandas</h2>\n"
   ]
  },
  {
   "cell_type": "markdown",
   "metadata": {},
   "source": [
    "En primer lugar se cargan los datos iniciales desde los csv que nos proveen. (Esto puede tardar un ratito)"
   ]
  },
  {
   "cell_type": "code",
   "execution_count": 2,
   "metadata": {},
   "outputs": [],
   "source": [
    "url_tratamiento = 'https://drive.usercontent.google.com/download?id=1KTRwYGaWoQQnZwbk8VpdxKULMaOReoF5&authuser=0&confirm=t&uuid=4e4d7983-c5a5-412d-9f5b-b9bda1068b73&at=AENtkXZSxkDr84kWrDlz6ANq4ov2%3A1730951312566'\n",
    "\n",
    "df_tratamiento = pd.read_csv(\"Tratamiento.csv\")"
   ]
  },
  {
   "cell_type": "code",
   "execution_count": 3,
   "metadata": {},
   "outputs": [],
   "source": [
    "file_id = '173bRZQG7NWfdpHJ-o4-NA3ieH1-Fhyok'\n",
    "url_informacion_de_clientes = f'https://drive.google.com/uc?id={file_id}'\n",
    "\n",
    "df_informacion_de_clientes = pd.read_csv(\"Informacion_Clientes.csv\")"
   ]
  },
  {
   "cell_type": "code",
   "execution_count": 4,
   "metadata": {},
   "outputs": [],
   "source": [
    "url_simulaciones_clientes = 'https://drive.usercontent.google.com/download?id=1IXyKwtKFLCUsAV1MtNqktiwKaHzV2D5A&authuser=0&confirm=t&uuid=edd22376-238f-4c1f-b603-728b07bafd7f&at=AENtkXaEURpV52p_BdWxyisvjhSQ%3A1730951026384'\n",
    "\n",
    "df_simulaciones_clientes = pd.read_csv(\"Simulaciones_clientes.csv\")"
   ]
  },
  {
   "cell_type": "code",
   "execution_count": 5,
   "metadata": {},
   "outputs": [],
   "source": [
    "file_id = '1Z4jMzZeD2q-4-ioSgyimppAdLZzqDkt3'\n",
    "url_ventas = f'https://drive.google.com/uc?id={file_id}'\n",
    "\n",
    "df_ventas = pd.read_csv(\"Ventas.csv\")"
   ]
  },
  {
   "cell_type": "markdown",
   "metadata": {},
   "source": [
    "## <h3>1.1 Carga de 'Informacion_Clientes.csv'</h3>"
   ]
  },
  {
   "cell_type": "markdown",
   "metadata": {},
   "source": [
    "En primer lugar se cargará la información de los clientes. Esto incluye las siguientes características de los clientes:\n",
    "\n",
    "* **unnamed**: algo como uid\n",
    "* **Rut**: identificador de Chile (supongo que por privacidad va desde 0 a max de observaciones)\n",
    "* **Género**: Masculino o femenino\n",
    "* **Categoría_Digital**: Si el cliente es digital o no\n",
    "* **Elasticidad_Precios**: Baja, media o alta\n",
    "* **Nacionalidad**: Chileno o extranjero\n",
    "* **Propensión**: Número entre 0 y 1 que idica que tan propenso a cursar un credito es el cliente\n",
    "* **Probabilidad_No_Pago**: Número entre 0 y 1 que indica la probabilidad de que el cliente no pague la deuda\n",
    "* **Edad**: Numero entero de edad en años\n",
    "* **Renta**: Renta promedio de los últimos 12 meses\n",
    "* **Oferta_Consumo**: Monto máximo que puede cursar un cliente dado sus antecedentes crediticios y situación socioeconómica. \n",
    "* **Deuda_CMF**: Deuda que tiene el cliente en otros bancos. Efectivamente es deuda pendiente, pero de créditos otorgados por la competencia.\n",
    "* **Tiempo_como_cliente**: Número de tiempo(no sé en que medida está) que el cliente lleva en el banco\n"
   ]
  },
  {
   "cell_type": "markdown",
   "metadata": {},
   "source": [
    "Se elimina el tiempo como cliente ya que no aporta información"
   ]
  },
  {
   "cell_type": "code",
   "execution_count": 6,
   "metadata": {},
   "outputs": [],
   "source": [
    "df_informacion_de_clientes.drop(columns=['Tiempo_como_cliente'], inplace=True)"
   ]
  },
  {
   "cell_type": "markdown",
   "metadata": {},
   "source": [
    "## <h3>1.2 Carga de 'Simulaciones_Clientes.csv'</h3>\n",
    "\n"
   ]
  },
  {
   "cell_type": "markdown",
   "metadata": {},
   "source": [
    "En segundo lugar se cargaran las simulaciones hechas por los clientes en la página del banco. Esto incluye las siguientes características de las simulaciones:\n",
    "* **unnamed**: Supongo que es el número de simulacion registrada, un tipo de identificador de la simulación\n",
    "* **fecha**: yyyy-mm-dd fecha de la simulación\n",
    "* **rut**: identificador de Chile del cliente que hizo la simulacion\n",
    "* **monto_simulado**: monto prestado al cliente\n",
    "* **plazo_simulado**: plazo en **meses** del crédito\n",
    "* **tasa_simulado**: costo para el cliente del credito"
   ]
  },
  {
   "cell_type": "code",
   "execution_count": 7,
   "metadata": {},
   "outputs": [],
   "source": [
    "df_simulaciones_clientes = df_simulaciones_clientes[df_simulaciones_clientes['Monto_Simulado'] > 0]"
   ]
  },
  {
   "cell_type": "markdown",
   "metadata": {},
   "source": [
    "## <h3>1.3 Carga de 'Tratamiento.csv'</h3>"
   ]
  },
  {
   "cell_type": "markdown",
   "metadata": {},
   "source": [
    "En tercer lugar se cargara el tratamiento que ha tenido el banco con el cliente, es decir, cómo se han contactado con él. Esto incluye las siguientes características:\n",
    "\n",
    "* **unnamed**: Número de tratamiento registrado\n",
    "* **fecha**: yyyy-mm-dd\n",
    "* **rut**: Identificador de Chile del cliente con el que se tiene el tipo de trato\n",
    "* **n_correos**: Cantidad de correos que se enviaron en el mes que sale la fecha. Es decir, si sele fecha '2024-03-01', correspondería a los correos enviados en marzo de 2024.\n",
    "* **asg_ejec**: Si el cliente tiene un ejecutivo asignado"
   ]
  },
  {
   "cell_type": "markdown",
   "metadata": {},
   "source": [
    "## <h3>1.4 Carga de 'Ventas.csv'</h3>"
   ]
  },
  {
   "cell_type": "markdown",
   "metadata": {},
   "source": [
    "Por último se cargaran las ventas que ha tenido el banco con el cliente. Esto incluye las siguientes características:\n",
    "\n",
    "* **unnamed**: Índice sin significado\n",
    "* **fecha**: yyyy-mm-dd -> fecha en la que se concretó la venta\n",
    "* **rut**: identificador de Chile del cliente al que se le concretó la venta"
   ]
  },
  {
   "cell_type": "markdown",
   "metadata": {},
   "source": [
    "# <h2>2. Joints de datos<h2>"
   ]
  },
  {
   "cell_type": "code",
   "execution_count": 8,
   "metadata": {},
   "outputs": [],
   "source": [
    "# Unir los DataFrames 'df_informacion_de_clientes' y 'df_simulaciones_clientes' en base a la columna 'rut'\n",
    "# El método 'how=\"left\"' asegura que todos los registros de 'df_informacion_de_clientes' se conserven,\n",
    "# incluso si no tienen coincidencia en 'df_simulaciones_clientes'.\n",
    "df_simulaciones_e_informacion_de_clientes = pd.merge(\n",
    "    df_informacion_de_clientes, \n",
    "    df_simulaciones_clientes, \n",
    "    on='rut', \n",
    "    how='left'\n",
    ")\n",
    "\n",
    "# Crear una nueva columna 'simulo' que indica si el cliente tiene un 'Monto_Simulado' o no\n",
    "# El método 'notna()' devuelve True para valores no nulos y False para nulos.\n",
    "# Luego, 'astype(int)' convierte estos valores booleanos en enteros (1 para True, 0 para False).\n",
    "df_simulaciones_e_informacion_de_clientes['simulo'] = df_simulaciones_e_informacion_de_clientes['Monto_Simulado'].notna().astype(int)\n",
    "\n",
    "# Eliminar columnas innecesarias 'Unnamed: 0_x' y 'Unnamed: 0_y' que podrían haber surgido durante la carga o manipulación de datos\n",
    "df_simulaciones_e_informacion_de_clientes.drop(columns=['Unnamed: 0_x', 'Unnamed: 0_y'], inplace=True)\n"
   ]
  },
  {
   "cell_type": "code",
   "execution_count": 9,
   "metadata": {},
   "outputs": [],
   "source": [
    "# Unir los DataFrames 'df_simulaciones_e_informacion_de_clientes' y 'df_ventas' en base a las columnas 'rut' y 'fecha'\n",
    "# El método 'how=\"left\"' asegura que todos los registros de 'df_simulaciones_e_informacion_de_clientes' se conserven,\n",
    "# incluso si no tienen coincidencia en 'df_ventas'.\n",
    "df_simulaciones_e_informacion_de_clientes_ventas = pd.merge( \n",
    "    df_simulaciones_e_informacion_de_clientes, \n",
    "    df_ventas, \n",
    "    on=['rut', 'fecha'], \n",
    "    how='left'\n",
    ")\n",
    "\n",
    "# Crear una nueva columna 'venta' que indica si existe una venta asociada al cliente y la fecha específica\n",
    "# El método 'notna()' verifica si hay un valor no nulo en la columna 'Unnamed: 0' (que indica presencia de una venta)\n",
    "# Luego, 'astype(int)' convierte estos valores booleanos en enteros (1 para True, 0 para False).\n",
    "df_simulaciones_e_informacion_de_clientes_ventas['venta'] = df_simulaciones_e_informacion_de_clientes_ventas['Unnamed: 0'].notna().astype(int)\n"
   ]
  },
  {
   "cell_type": "code",
   "execution_count": 10,
   "metadata": {},
   "outputs": [],
   "source": [
    "# Unir los DataFrames 'df_simulaciones_e_informacion_de_clientes_ventas' y 'df_tratamiento' en base a las columnas 'rut' y 'fecha'\n",
    "# La unión se realiza con 'how=\"left\"' para conservar todos los registros de 'df_simulaciones_e_informacion_de_clientes_ventas'\n",
    "# incluso si no tienen coincidencia en 'df_tratamiento'.\n",
    "df_simulaciones_e_informacion_de_clientes_ventas_tratamiento = pd.merge( \n",
    "    df_simulaciones_e_informacion_de_clientes_ventas, \n",
    "    df_tratamiento, \n",
    "    on=['rut', 'fecha'], \n",
    "    how='left'\n",
    ")\n",
    "\n",
    "# Crear una nueva columna 'mes' que extrae el mes y año de la columna 'fecha'\n",
    "# Primero se convierte 'fecha' al formato datetime, luego 'dt.to_period('M')' obtiene el periodo del mes/año.\n",
    "df_simulaciones_e_informacion_de_clientes_ventas_tratamiento['mes'] = pd.to_datetime(df_simulaciones_e_informacion_de_clientes_ventas_tratamiento['fecha']).dt.to_period('M')\n",
    "\n",
    "# Eliminar las columnas 'Unnamed: 0_x' y 'Unnamed: 0_y' ya que no aportan información relevante\n",
    "df_simulaciones_e_informacion_de_clientes_ventas_tratamiento.drop(columns=['Unnamed: 0_x', 'Unnamed: 0_y'], inplace=True)"
   ]
  },
  {
   "cell_type": "markdown",
   "metadata": {},
   "source": [
    "# 3. CLUSTERING POR POLITICAS"
   ]
  },
  {
   "cell_type": "markdown",
   "metadata": {},
   "source": [
    "### Seteo de cluster. Aquí se definen las variables y sus cortes. La idea es que el algoritmo de RL haga sus acciones en esta sección"
   ]
  },
  {
   "cell_type": "markdown",
   "metadata": {},
   "source": [
    "Aquí se definen que variables se utilizarán para crear el cluster"
   ]
  },
  {
   "cell_type": "code",
   "execution_count": 11,
   "metadata": {},
   "outputs": [],
   "source": [
    "df_informacion_de_clientes_procesados_cluster_definitivo = df_informacion_de_clientes[['rut', 'Categoria_Digital', 'Edad', 'Genero', 'Renta', 'Propension', 'Probabilidad_No_Pago']].copy()\n"
   ]
  },
  {
   "cell_type": "markdown",
   "metadata": {},
   "source": [
    "Aqui se definen en que partes y en cuantas partes se particionarán las variables escogidas anteriormente"
   ]
  },
  {
   "cell_type": "code",
   "execution_count": 12,
   "metadata": {},
   "outputs": [
    {
     "data": {
      "text/html": [
       "<div>\n",
       "<style scoped>\n",
       "    .dataframe tbody tr th:only-of-type {\n",
       "        vertical-align: middle;\n",
       "    }\n",
       "\n",
       "    .dataframe tbody tr th {\n",
       "        vertical-align: top;\n",
       "    }\n",
       "\n",
       "    .dataframe thead th {\n",
       "        text-align: right;\n",
       "    }\n",
       "</style>\n",
       "<table border=\"1\" class=\"dataframe\">\n",
       "  <thead>\n",
       "    <tr style=\"text-align: right;\">\n",
       "      <th></th>\n",
       "      <th>rut</th>\n",
       "      <th>Categoria_Digital</th>\n",
       "      <th>Edad</th>\n",
       "      <th>Genero</th>\n",
       "      <th>Renta</th>\n",
       "      <th>Propension</th>\n",
       "      <th>Probabilidad_No_Pago</th>\n",
       "      <th>Categoria_Propenso</th>\n",
       "      <th>Categoria_Probabilidad_No_Pago</th>\n",
       "      <th>Categoria_Edad</th>\n",
       "      <th>Categoria_Renta</th>\n",
       "    </tr>\n",
       "  </thead>\n",
       "  <tbody>\n",
       "    <tr>\n",
       "      <th>0</th>\n",
       "      <td>1</td>\n",
       "      <td>Cliente no Digital</td>\n",
       "      <td>30.0</td>\n",
       "      <td>Masculino</td>\n",
       "      <td>6.258183e+05</td>\n",
       "      <td>0.997340</td>\n",
       "      <td>0.028445</td>\n",
       "      <td>Propension alta</td>\n",
       "      <td>Muy mal pagador</td>\n",
       "      <td>Joven</td>\n",
       "      <td>Renta Media</td>\n",
       "    </tr>\n",
       "    <tr>\n",
       "      <th>1</th>\n",
       "      <td>2</td>\n",
       "      <td>Cliente no Digital</td>\n",
       "      <td>41.0</td>\n",
       "      <td>Femenino</td>\n",
       "      <td>3.172616e+05</td>\n",
       "      <td>0.291601</td>\n",
       "      <td>0.014320</td>\n",
       "      <td>Propension baja</td>\n",
       "      <td>Muy mal pagador</td>\n",
       "      <td>Adulto</td>\n",
       "      <td>Renta Baja</td>\n",
       "    </tr>\n",
       "    <tr>\n",
       "      <th>2</th>\n",
       "      <td>3</td>\n",
       "      <td>Cliente no Digital</td>\n",
       "      <td>38.0</td>\n",
       "      <td>Femenino</td>\n",
       "      <td>1.240551e+07</td>\n",
       "      <td>0.685085</td>\n",
       "      <td>0.002156</td>\n",
       "      <td>Propension alta</td>\n",
       "      <td>Pagador neutro</td>\n",
       "      <td>Adulto</td>\n",
       "      <td>Renta Alta</td>\n",
       "    </tr>\n",
       "    <tr>\n",
       "      <th>3</th>\n",
       "      <td>4</td>\n",
       "      <td>Cliente no Digital</td>\n",
       "      <td>57.0</td>\n",
       "      <td>Masculino</td>\n",
       "      <td>5.441466e+05</td>\n",
       "      <td>0.914672</td>\n",
       "      <td>0.034418</td>\n",
       "      <td>Propension alta</td>\n",
       "      <td>Muy mal pagador</td>\n",
       "      <td>Adulto</td>\n",
       "      <td>Renta Baja</td>\n",
       "    </tr>\n",
       "    <tr>\n",
       "      <th>4</th>\n",
       "      <td>5</td>\n",
       "      <td>Cliente Digital</td>\n",
       "      <td>26.0</td>\n",
       "      <td>Masculino</td>\n",
       "      <td>1.870225e+05</td>\n",
       "      <td>0.425077</td>\n",
       "      <td>0.014978</td>\n",
       "      <td>Propension media</td>\n",
       "      <td>Muy mal pagador</td>\n",
       "      <td>Joven</td>\n",
       "      <td>Renta Baja</td>\n",
       "    </tr>\n",
       "    <tr>\n",
       "      <th>...</th>\n",
       "      <td>...</td>\n",
       "      <td>...</td>\n",
       "      <td>...</td>\n",
       "      <td>...</td>\n",
       "      <td>...</td>\n",
       "      <td>...</td>\n",
       "      <td>...</td>\n",
       "      <td>...</td>\n",
       "      <td>...</td>\n",
       "      <td>...</td>\n",
       "      <td>...</td>\n",
       "    </tr>\n",
       "    <tr>\n",
       "      <th>543646</th>\n",
       "      <td>543647</td>\n",
       "      <td>Cliente Digital</td>\n",
       "      <td>29.0</td>\n",
       "      <td>Femenino</td>\n",
       "      <td>1.176598e+05</td>\n",
       "      <td>0.144657</td>\n",
       "      <td>0.037291</td>\n",
       "      <td>Propension baja</td>\n",
       "      <td>Muy mal pagador</td>\n",
       "      <td>Joven</td>\n",
       "      <td>Renta Baja</td>\n",
       "    </tr>\n",
       "    <tr>\n",
       "      <th>543647</th>\n",
       "      <td>543648</td>\n",
       "      <td>Cliente no Digital</td>\n",
       "      <td>31.0</td>\n",
       "      <td>Masculino</td>\n",
       "      <td>1.558612e+06</td>\n",
       "      <td>0.740170</td>\n",
       "      <td>0.035877</td>\n",
       "      <td>Propension alta</td>\n",
       "      <td>Muy mal pagador</td>\n",
       "      <td>Joven</td>\n",
       "      <td>Renta Media</td>\n",
       "    </tr>\n",
       "    <tr>\n",
       "      <th>543648</th>\n",
       "      <td>543649</td>\n",
       "      <td>Cliente no Digital</td>\n",
       "      <td>49.0</td>\n",
       "      <td>Masculino</td>\n",
       "      <td>9.449508e+05</td>\n",
       "      <td>0.255285</td>\n",
       "      <td>0.023306</td>\n",
       "      <td>Propension baja</td>\n",
       "      <td>Muy mal pagador</td>\n",
       "      <td>Adulto</td>\n",
       "      <td>Renta Media</td>\n",
       "    </tr>\n",
       "    <tr>\n",
       "      <th>543649</th>\n",
       "      <td>543650</td>\n",
       "      <td>Cliente no Digital</td>\n",
       "      <td>40.0</td>\n",
       "      <td>Femenino</td>\n",
       "      <td>1.039964e+06</td>\n",
       "      <td>0.709086</td>\n",
       "      <td>0.015121</td>\n",
       "      <td>Propension alta</td>\n",
       "      <td>Muy mal pagador</td>\n",
       "      <td>Adulto</td>\n",
       "      <td>Renta Media</td>\n",
       "    </tr>\n",
       "    <tr>\n",
       "      <th>543650</th>\n",
       "      <td>543651</td>\n",
       "      <td>Cliente no Digital</td>\n",
       "      <td>35.0</td>\n",
       "      <td>Femenino</td>\n",
       "      <td>4.728067e+05</td>\n",
       "      <td>0.860781</td>\n",
       "      <td>0.019647</td>\n",
       "      <td>Propension alta</td>\n",
       "      <td>Muy mal pagador</td>\n",
       "      <td>Joven</td>\n",
       "      <td>Renta Baja</td>\n",
       "    </tr>\n",
       "  </tbody>\n",
       "</table>\n",
       "<p>543651 rows × 11 columns</p>\n",
       "</div>"
      ],
      "text/plain": [
       "           rut   Categoria_Digital  Edad     Genero         Renta  Propension  \\\n",
       "0            1  Cliente no Digital  30.0  Masculino  6.258183e+05    0.997340   \n",
       "1            2  Cliente no Digital  41.0   Femenino  3.172616e+05    0.291601   \n",
       "2            3  Cliente no Digital  38.0   Femenino  1.240551e+07    0.685085   \n",
       "3            4  Cliente no Digital  57.0  Masculino  5.441466e+05    0.914672   \n",
       "4            5     Cliente Digital  26.0  Masculino  1.870225e+05    0.425077   \n",
       "...        ...                 ...   ...        ...           ...         ...   \n",
       "543646  543647     Cliente Digital  29.0   Femenino  1.176598e+05    0.144657   \n",
       "543647  543648  Cliente no Digital  31.0  Masculino  1.558612e+06    0.740170   \n",
       "543648  543649  Cliente no Digital  49.0  Masculino  9.449508e+05    0.255285   \n",
       "543649  543650  Cliente no Digital  40.0   Femenino  1.039964e+06    0.709086   \n",
       "543650  543651  Cliente no Digital  35.0   Femenino  4.728067e+05    0.860781   \n",
       "\n",
       "        Probabilidad_No_Pago Categoria_Propenso  \\\n",
       "0                   0.028445    Propension alta   \n",
       "1                   0.014320    Propension baja   \n",
       "2                   0.002156    Propension alta   \n",
       "3                   0.034418    Propension alta   \n",
       "4                   0.014978   Propension media   \n",
       "...                      ...                ...   \n",
       "543646              0.037291    Propension baja   \n",
       "543647              0.035877    Propension alta   \n",
       "543648              0.023306    Propension baja   \n",
       "543649              0.015121    Propension alta   \n",
       "543650              0.019647    Propension alta   \n",
       "\n",
       "       Categoria_Probabilidad_No_Pago Categoria_Edad Categoria_Renta  \n",
       "0                     Muy mal pagador          Joven     Renta Media  \n",
       "1                     Muy mal pagador         Adulto      Renta Baja  \n",
       "2                      Pagador neutro         Adulto      Renta Alta  \n",
       "3                     Muy mal pagador         Adulto      Renta Baja  \n",
       "4                     Muy mal pagador          Joven      Renta Baja  \n",
       "...                               ...            ...             ...  \n",
       "543646                Muy mal pagador          Joven      Renta Baja  \n",
       "543647                Muy mal pagador          Joven     Renta Media  \n",
       "543648                Muy mal pagador         Adulto     Renta Media  \n",
       "543649                Muy mal pagador         Adulto     Renta Media  \n",
       "543650                Muy mal pagador          Joven      Renta Baja  \n",
       "\n",
       "[543651 rows x 11 columns]"
      ]
     },
     "execution_count": 12,
     "metadata": {},
     "output_type": "execute_result"
    }
   ],
   "source": [
    "# Crear una copia del DataFrame 'df_informacion_de_clientes_procesados_cluster_definitivo' para trabajar sin modificar el original\n",
    "df = df_informacion_de_clientes_procesados_cluster_definitivo.copy()\n",
    "\n",
    "# Clasificar la columna 'Propension' en tres categorías usando cuantiles, lo que permite dividir los datos en terciles\n",
    "# Las etiquetas indican si la propensión es baja, media o alta.\n",
    "df['Categoria_Propenso'] = pd.qcut(df['Propension'], 3, labels=['Propension baja', 'Propension media', 'Propension alta'])\n",
    "\n",
    "# Clasificar la columna 'Probabilidad_No_Pago' en cinco categorías, asignando etiquetas según los valores de probabilidad\n",
    "# Cada categoría representa el nivel de confiabilidad en el pago: desde 'Muy buen pagador' hasta 'Muy mal pagador'.\n",
    "df['Categoria_Probabilidad_No_Pago'] = pd.cut(df['Probabilidad_No_Pago'], \n",
    "                                              bins=[-float('inf'), 0.0011, 0.00149, 0.005, 0.006, float('inf')],\n",
    "                                              labels=['Muy buen pagador', 'Buen pagador', 'Pagador neutro', 'Mal pagador', 'Muy mal pagador'])\n",
    "\n",
    "# Clasificar la columna 'Edad' en tres categorías: 'Joven', 'Adulto' y 'Adulto Mayor'\n",
    "# Cada categoría se define en función de rangos de edad especificados en 'bins'.\n",
    "df['Categoria_Edad'] = pd.cut(df['Edad'], \n",
    "                              bins=[-float('inf'), 35, 60, float('inf')],\n",
    "                              labels=['Joven', 'Adulto', 'Adulto Mayor'])\n",
    "\n",
    "# Crear un DataFrame único de 'rut' y 'Renta' eliminando duplicados, para calcular percentiles de renta\n",
    "df_unicos_renta = df[['rut', 'Renta']].drop_duplicates()\n",
    "\n",
    "# Calcular el percentil de renta para cada cliente usando 'qcut' para dividir en 100 grupos\n",
    "# Añadimos 1 para que los percentiles inicien en 1 en lugar de 0.\n",
    "df_unicos_renta['Percentil_Renta'] = pd.qcut(df_unicos_renta['Renta'], 100, labels=False) + 1\n",
    "\n",
    "# Clasificar la columna 'Percentil_Renta' en tres categorías: 'Renta Baja', 'Renta Media' y 'Renta Alta'\n",
    "# Los rangos de percentil especificados en 'bins' definen estas categorías.\n",
    "df_unicos_renta['Categoria_Renta'] = pd.cut(df_unicos_renta['Percentil_Renta'], \n",
    "                                            bins=[-float('inf'), 30, 80, float('inf')],\n",
    "                                            labels=['Renta Baja', 'Renta Media', 'Renta Alta'])\n",
    "\n",
    "# Incorporar la categoría de renta al DataFrame principal 'df' realizando una unión ('merge') en base a la columna 'rut'\n",
    "df = df.merge(df_unicos_renta[['rut', 'Categoria_Renta']], on='rut', how='left')\n",
    "\n",
    "# Mostrar el DataFrame resultante con las nuevas columnas creadas\n",
    "df\n"
   ]
  },
  {
   "cell_type": "code",
   "execution_count": 13,
   "metadata": {},
   "outputs": [],
   "source": [
    "# Concatenar las variables especificadas en una nueva columna 'categoria_clusterizacion'\n",
    "# La columna resultante combinará varias categorías en una descripción detallada del perfil del cliente.\n",
    "# Convertimos cada columna a tipo string para asegurarnos de que los datos sean compatibles para la concatenación.\n",
    "\n",
    "df['categoria_clusterizacion'] = (\n",
    "    df['Categoria_Digital'].astype(str) + ' ' +              # Categoría de digitalización del cliente\n",
    "    df['Categoria_Edad'].astype(str) + ' de genero ' +       # Categoría de edad, seguida de la palabra \"de genero\"\n",
    "    df['Genero'].astype(str) + ' con ' +                     # Género del cliente\n",
    "    df['Categoria_Propenso'].astype(str) + ' con una ' +     # Categoría de propensión, seguida de \"con una\"\n",
    "    df['Categoria_Renta'].astype(str)                        # Categoría de renta\n",
    ")\n"
   ]
  },
  {
   "cell_type": "code",
   "execution_count": 14,
   "metadata": {},
   "outputs": [],
   "source": [
    "# Asignar un número único a cada entrada distinta en la columna 'categoria_clusterizacion'\n",
    "# Se convierte la columna a tipo 'category', lo cual facilita la asignación de códigos numéricos únicos.\n",
    "# 'cat.codes' asigna un código numérico único para cada valor único de 'categoria_clusterizacion'.\n",
    "df['categoria_clusterizacion_numerica'] = df['categoria_clusterizacion'].astype('category').cat.codes\n"
   ]
  },
  {
   "cell_type": "code",
   "execution_count": 15,
   "metadata": {},
   "outputs": [],
   "source": [
    "# Crear una copia del DataFrame con solo las columnas 'rut', 'categoria_clusterizacion' y 'categoria_clusterizacion_numerica'\n",
    "# Esta copia se almacena en el nuevo DataFrame 'asignacion_clusters', el cual contendrá únicamente la identificación del cliente (rut),\n",
    "# la descripción del perfil ('categoria_clusterizacion') y el código numérico asignado a cada perfil ('categoria_clusterizacion_numerica').\n",
    "asignacion_clusters = df[['rut', 'categoria_clusterizacion', 'categoria_clusterizacion_numerica']].copy()\n"
   ]
  },
  {
   "cell_type": "markdown",
   "metadata": {},
   "source": [
    "# 4. Estimacion de curvas de elasticidad por cluster"
   ]
  },
  {
   "cell_type": "code",
   "execution_count": 16,
   "metadata": {},
   "outputs": [],
   "source": [
    "# Realizar una unión entre 'df_simulaciones_e_informacion_de_clientes_ventas' y 'asignacion_clusters' usando la columna 'rut' como clave\n",
    "# Esta unión ('merge') se realiza con 'how=\"left\"', lo que asegura que todos los registros de 'df_simulaciones_e_informacion_de_clientes_ventas' \n",
    "# se conserven, incluyendo aquellos sin coincidencia en 'asignacion_clusters'.\n",
    "# La finalidad es agregar la información de clusterización (categoría y código numérico) al DataFrame de simulaciones y ventas.\n",
    "df_estimar_elasticidad = pd.merge(df_simulaciones_e_informacion_de_clientes_ventas, asignacion_clusters, on='rut', how='left')\n"
   ]
  },
  {
   "cell_type": "markdown",
   "metadata": {},
   "source": [
    "### Este código realiza un análisis de elasticidad de ingresos en función de clusters de clientes. Primero, agrupa los datos por clusters definidos a través de variables de segmentación y filtra solo los datos relevantes para cada cluster. Luego, para cada cluster, se ajusta un modelo de regresión logística para predecir la probabilidad de aceptación de una simulación de crédito en función de la tasa de interés. A partir de este modelo, se crea una cuadrícula de tasas para estimar la probabilidad de aceptación y calcular el revenue potencial de cada simulación, teniendo en cuenta el monto medio simulado, el plazo medio simulado y la probabilidad media de no pago del cluster. Posteriormente, se determina la tasa que maximiza el revenue esperado y se calcula el número esperado de créditos aceptados, junto con el número de clientes únicos en cada cluster. Finalmente, los resultados se agregan tanto en listas globales como en un nuevo DataFrame, y luego se integran en el DataFrame original df_estimar_elasticidad, lo que permite analizar el revenue esperado total y otros indicadores clave en cada cluster."
   ]
  },
  {
   "cell_type": "code",
   "execution_count": 17,
   "metadata": {},
   "outputs": [],
   "source": [
    "def function_estimar_elasticidad(df_estimar_elasticidad):\n",
    "    # Inicializar listas para almacenar resultados globales de revenue, clientes, créditos y simulaciones\n",
    "    lista_revenue = []\n",
    "    lista_clientes = []\n",
    "    lista_creditos = []\n",
    "    lista_simulaciones = []\n",
    "\n",
    "    cluster_results = []  # Lista para almacenar resultados específicos de cada cluster\n",
    "\n",
    "    # Obtener los números únicos de cada cluster\n",
    "    cluster_numbers = df_estimar_elasticidad['categoria_clusterizacion_numerica'].unique()\n",
    "\n",
    "    # Iterar sobre cada cluster identificado por 'categoria_clusterizacion_numerica'\n",
    "    for cluster_num in cluster_numbers:\n",
    "        # Filtrar los datos correspondientes al cluster actual\n",
    "        df_cluster = df_estimar_elasticidad[df_estimar_elasticidad['categoria_clusterizacion_numerica'] == cluster_num]\n",
    "        \n",
    "        # Asegurarse de que existen datos para ambos casos: venta == 1 y venta == 0\n",
    "        if df_cluster.empty or df_cluster['venta'].isnull().all():\n",
    "            continue  # Saltar este cluster si no cumple con la condición\n",
    "        \n",
    "        # Remover filas donde 'venta' o 'Tasa_Simulado' son nulos o infinitos\n",
    "        df_cluster = df_cluster.replace([np.inf, -np.inf], np.nan)\n",
    "        df_cluster = df_cluster.dropna(subset=['venta', 'Tasa_Simulado', 'Plazo_Simulado', 'Monto_Simulado', 'Probabilidad_No_Pago'])\n",
    "        \n",
    "        # Saltar el cluster si no hay suficientes puntos de datos\n",
    "        if df_cluster.shape[0] < 10:\n",
    "            continue\n",
    "        \n",
    "        # Extraer las variables 'venta' (como variable dependiente) y 'Tasa_Simulado' (como predictor)\n",
    "        y = df_cluster['venta']\n",
    "        X = df_cluster[['Tasa_Simulado']]\n",
    "        \n",
    "        # Añadir un término constante para el intercepto\n",
    "        X = sm.add_constant(X)\n",
    "        \n",
    "        # Remover filas con valores NaN o Inf en X o y\n",
    "        is_finite = np.isfinite(X).all(1) & np.isfinite(y)\n",
    "        X = X[is_finite]\n",
    "        y = y[is_finite]\n",
    "        \n",
    "        # Asegurarse de que después de remover NaN/Inf, todavía hay suficientes datos\n",
    "        if len(y) < 10:\n",
    "            continue\n",
    "        \n",
    "        # Ajustar el modelo de regresión logística\n",
    "        logit_model = sm.Logit(y, X)\n",
    "        try:\n",
    "            result = logit_model.fit(disp=0)\n",
    "        except:\n",
    "            continue  # Saltar el cluster si el modelo no converge\n",
    "        \n",
    "        # Crear una cuadrícula de valores de 'Tasa_Simulado' para predicciones\n",
    "        tasa_min = df_cluster['Tasa_Simulado'].min()\n",
    "        tasa_max = df_cluster['Tasa_Simulado'].max()\n",
    "        tasas_grid = np.linspace(tasa_min, tasa_max, 1000)\n",
    "        \n",
    "        # Predecir la probabilidad de aceptación usando el modelo ajustado\n",
    "        X_grid = sm.add_constant(tasas_grid)\n",
    "        acceptance_probability = result.predict(X_grid)\n",
    "        \n",
    "        # Asegurar que las probabilidades están en el rango [0, 1]\n",
    "        acceptance_probability = np.clip(acceptance_probability, 0, 1)\n",
    "        \n",
    "        # Calcular valores medios necesarios para el cálculo de revenue\n",
    "        n = df_cluster['Plazo_Simulado'].mean()\n",
    "        vp = df_cluster['Monto_Simulado'].mean()\n",
    "        pnp = df_cluster['Probabilidad_No_Pago'].mean()\n",
    "        data = {\n",
    "            'Plazo_Simulado_medio': n, \n",
    "            'Monto_Simulado_medio': vp, \n",
    "            'Probabilidad_No_Pago_media': pnp\n",
    "        }\n",
    "        \n",
    "        # Calcular el revenue potencial\n",
    "        i = tasas_grid / 100  # Convertir a decimal\n",
    "        one_plus_i_pow_n = np.power(1 + i, n)\n",
    "        annuity_factor = (i * one_plus_i_pow_n) / (one_plus_i_pow_n - 1)\n",
    "        revenue = (n * vp * annuity_factor) - vp\n",
    "        potential_revenue = revenue * (1 - pnp)\n",
    "        \n",
    "        # Calcular el promedio de simulaciones por fecha\n",
    "        df_cluster_simulaciones_1 = df_cluster[df_cluster['simulo'] == 1]\n",
    "        num_dates = df_cluster_simulaciones_1['fecha'].nunique()\n",
    "        total_simulaciones = df_cluster_simulaciones_1['simulo'].sum()\n",
    "        simulaciones_medias = total_simulaciones / num_dates if num_dates else 0\n",
    "        \n",
    "        # Saltar el cluster si no hay simulaciones\n",
    "        if simulaciones_medias == 0:\n",
    "            continue\n",
    "        \n",
    "        # Calcular el revenue esperado\n",
    "        expected_revenue = acceptance_probability * potential_revenue * simulaciones_medias\n",
    "        \n",
    "        # Encontrar la tasa que maximiza el revenue esperado\n",
    "        idx_max = np.argmax(expected_revenue)\n",
    "        max_price = tasas_grid[idx_max]\n",
    "        max_expected_revenue = expected_revenue[idx_max]\n",
    "        \n",
    "        # Probabilidad de aceptación en la tasa óptima\n",
    "        prob_aceptacion_optima = acceptance_probability[idx_max]\n",
    "        \n",
    "        # Número esperado de créditos aceptados\n",
    "        num_creditos_aceptados = round(prob_aceptacion_optima * simulaciones_medias)\n",
    "        \n",
    "        # Número de clientes únicos en el cluster\n",
    "        num_clients = df_cluster['rut'].nunique()\n",
    "        \n",
    "        # Imprimir resultados para cada cluster\n",
    "        print(f'Cluster {cluster_num}:')\n",
    "        print(f'- Precio Máx. Revenue Esperado = {max_price:.2f}%')\n",
    "        print(f'- Revenue Esperado Máximo = {max_expected_revenue:,.2f}')\n",
    "        print(f'- Número de clientes en el cluster = {num_clients}')\n",
    "        print(f'- Número de simulaciones en el cluster = {simulaciones_medias:.2f}')\n",
    "        print(f'- Probabilidad de aceptación en el precio óptimo = {prob_aceptacion_optima:.4f}')\n",
    "        print(f'- Número esperado de créditos aceptados = {num_creditos_aceptados}')\n",
    "        print(f'- Monto medio simulado = {data[\"Monto_Simulado_medio\"]:,.2f}')\n",
    "        print(f'- Plazo medio simulado = {data[\"Plazo_Simulado_medio\"]:,.2f}')\n",
    "        print(f'- Probabilidad de no pago media = {data[\"Probabilidad_No_Pago_media\"]:.4f}\\n')\n",
    "        \n",
    "        # Agregar resultados a las listas globales\n",
    "        lista_clientes.append(num_clients)\n",
    "        lista_revenue.append(max_expected_revenue)\n",
    "        lista_creditos.append(num_creditos_aceptados)\n",
    "        lista_simulaciones.append(simulaciones_medias)\n",
    "        \n",
    "        # Almacenar resultados por cluster en cluster_results\n",
    "        cluster_results.append({\n",
    "            'categoria_clusterizacion_numerica': cluster_num,\n",
    "            'tasa_optima': max_price,\n",
    "            'probabilidad_aceptacion_optima': prob_aceptacion_optima,\n",
    "            'revenue_esperado_maximo': max_expected_revenue,\n",
    "            'numero_clientes': num_clients,\n",
    "            'numero_simulaciones_medias': simulaciones_medias,\n",
    "            'numero_creditos_esperados': num_creditos_aceptados,\n",
    "            'monto_medio_simulado': data[\"Monto_Simulado_medio\"],\n",
    "            'plazo_medio_simulado': data[\"Plazo_Simulado_medio\"],\n",
    "            'probabilidad_no_pago_media': data[\"Probabilidad_No_Pago_media\"]\n",
    "        })\n",
    "\n",
    "    # Imprimir resultados globales\n",
    "    total_revenue = sum(lista_revenue)\n",
    "    total_clientes = sum(lista_clientes)\n",
    "    total_simulaciones = sum(lista_simulaciones)\n",
    "    total_creditos = sum(lista_creditos)\n",
    "\n",
    "    print(f\"El revenue total esperado es: {total_revenue:,.2f} con un total de {total_clientes} clientes, \"\n",
    "        f\"{total_simulaciones:,.2f} simulaciones, y {total_creditos} créditos.\")\n",
    "\n",
    "    # Crear un DataFrame a partir de cluster_results\n",
    "    df_cluster_results = pd.DataFrame(cluster_results)\n",
    "\n",
    "    # Incorporar los resultados por cluster de 'df_cluster_results' a 'df_estimar_elasticidad'\n",
    "    df_estimar_elasticidad = df_estimar_elasticidad.merge(\n",
    "        df_cluster_results[['categoria_clusterizacion_numerica', 'tasa_optima', 'probabilidad_aceptacion_optima']],\n",
    "        on='categoria_clusterizacion_numerica', \n",
    "        how='left'\n",
    "    )\n",
    "    return {'df_estimar_elasticidad': df_estimar_elasticidad, 'total_revenue': total_revenue, 'total_clientes': total_clientes, 'total_simulaciones': total_simulaciones, 'total_creditos': total_creditos}\n"
   ]
  },
  {
   "cell_type": "code",
   "execution_count": 18,
   "metadata": {},
   "outputs": [
    {
     "name": "stdout",
     "output_type": "stream",
     "text": [
      "Cluster 101:\n",
      "- Precio Máx. Revenue Esperado = 1.26%\n",
      "- Revenue Esperado Máximo = 446,196,158.99\n",
      "- Número de clientes en el cluster = 6422\n",
      "- Número de simulaciones en el cluster = 1814.08\n",
      "- Probabilidad de aceptación en el precio óptimo = 0.4998\n",
      "- Número esperado de créditos aceptados = 907\n",
      "- Monto medio simulado = 2,672,066.39\n",
      "- Plazo medio simulado = 27.47\n",
      "- Probabilidad de no pago media = 0.0276\n",
      "\n",
      "Cluster 76:\n",
      "- Precio Máx. Revenue Esperado = 1.22%\n",
      "- Revenue Esperado Máximo = 65,495,606.51\n",
      "- Número de clientes en el cluster = 5907\n",
      "- Número de simulaciones en el cluster = 912.80\n",
      "- Probabilidad de aceptación en el precio óptimo = 0.5523\n",
      "- Número esperado de créditos aceptados = 504\n",
      "- Monto medio simulado = 712,403.67\n",
      "- Plazo medio simulado = 27.65\n",
      "- Probabilidad de no pago media = 0.0092\n",
      "\n",
      "Cluster 72:\n",
      "- Precio Máx. Revenue Esperado = 1.08%\n",
      "- Revenue Esperado Máximo = 3,990,650,405.36\n",
      "- Número de clientes en el cluster = 5431\n",
      "- Número de simulaciones en el cluster = 1628.33\n",
      "- Probabilidad de aceptación en el precio óptimo = 0.6250\n",
      "- Número esperado de créditos aceptados = 1018\n",
      "- Monto medio simulado = 24,593,376.51\n",
      "- Plazo medio simulado = 27.51\n",
      "- Probabilidad de no pago media = 0.0066\n",
      "\n",
      "Cluster 82:\n",
      "- Precio Máx. Revenue Esperado = 1.37%\n",
      "- Revenue Esperado Máximo = 163,105,347.36\n",
      "- Número de clientes en el cluster = 7906\n",
      "- Número de simulaciones en el cluster = 2225.33\n",
      "- Probabilidad de aceptación en el precio óptimo = 0.4737\n",
      "- Número esperado de créditos aceptados = 1054\n",
      "- Monto medio simulado = 761,277.55\n",
      "- Plazo medio simulado = 27.50\n",
      "- Probabilidad de no pago media = 0.0208\n",
      "\n",
      "Cluster 52:\n",
      "- Precio Máx. Revenue Esperado = 1.27%\n",
      "- Revenue Esperado Máximo = 93,572,615.59\n",
      "- Número de clientes en el cluster = 8270\n",
      "- Número de simulaciones en el cluster = 2036.83\n",
      "- Probabilidad de aceptación en el precio óptimo = 0.4993\n",
      "- Número esperado de créditos aceptados = 1017\n",
      "- Monto medio simulado = 499,737.29\n",
      "- Plazo medio simulado = 27.44\n",
      "- Probabilidad de no pago media = 0.0309\n",
      "\n",
      "Cluster 91:\n",
      "- Precio Máx. Revenue Esperado = 1.33%\n",
      "- Revenue Esperado Máximo = 89,026,360.93\n",
      "- Número de clientes en el cluster = 6022\n",
      "- Número de simulaciones en el cluster = 1673.71\n",
      "- Probabilidad de aceptación en el precio óptimo = 0.4964\n",
      "- Número esperado de créditos aceptados = 831\n",
      "- Monto medio simulado = 545,212.11\n",
      "- Plazo medio simulado = 27.51\n",
      "- Probabilidad de no pago media = 0.0184\n",
      "\n",
      "Cluster 94:\n",
      "- Precio Máx. Revenue Esperado = 1.30%\n",
      "- Revenue Esperado Máximo = 48,560,183.27\n",
      "- Número de clientes en el cluster = 6050\n",
      "- Número de simulaciones en el cluster = 911.15\n",
      "- Probabilidad de aceptación en el precio óptimo = 0.5092\n",
      "- Número esperado de créditos aceptados = 464\n",
      "- Monto medio simulado = 543,829.07\n",
      "- Plazo medio simulado = 27.46\n",
      "- Probabilidad de no pago media = 0.0181\n",
      "\n",
      "Cluster 50:\n",
      "- Precio Máx. Revenue Esperado = 1.25%\n",
      "- Revenue Esperado Máximo = 457,281,518.27\n",
      "- Número de clientes en el cluster = 10500\n",
      "- Número de simulaciones en el cluster = 1961.65\n",
      "- Probabilidad de aceptación en el precio óptimo = 0.4992\n",
      "- Número esperado de créditos aceptados = 979\n",
      "- Monto medio simulado = 2,557,276.72\n",
      "- Plazo medio simulado = 27.45\n",
      "- Probabilidad de no pago media = 0.0280\n",
      "\n",
      "Cluster 79:\n",
      "- Precio Máx. Revenue Esperado = 1.22%\n",
      "- Revenue Esperado Máximo = 88,437,950.01\n",
      "- Número de clientes en el cluster = 5910\n",
      "- Número de simulaciones en el cluster = 1283.14\n",
      "- Probabilidad de aceptación en el precio óptimo = 0.5527\n",
      "- Número esperado de créditos aceptados = 709\n",
      "- Monto medio simulado = 689,955.37\n",
      "- Plazo medio simulado = 27.45\n",
      "- Probabilidad de no pago media = 0.0092\n",
      "\n",
      "Cluster 29:\n",
      "- Precio Máx. Revenue Esperado = 1.31%\n",
      "- Revenue Esperado Máximo = 1,717,575,649.98\n",
      "- Número de clientes en el cluster = 13365\n",
      "- Número de simulaciones en el cluster = 4220.15\n",
      "- Probabilidad de aceptación en el precio óptimo = 0.4957\n",
      "- Número esperado de créditos aceptados = 2092\n",
      "- Monto medio simulado = 4,242,997.01\n",
      "- Plazo medio simulado = 27.51\n",
      "- Probabilidad de no pago media = 0.0194\n",
      "\n",
      "Cluster 26:\n",
      "- Precio Máx. Revenue Esperado = 1.18%\n",
      "- Revenue Esperado Máximo = 954,530,572.96\n",
      "- Número de clientes en el cluster = 9197\n",
      "- Número de simulaciones en el cluster = 2310.14\n",
      "- Probabilidad de aceptación en el precio óptimo = 0.5723\n",
      "- Número esperado de créditos aceptados = 1322\n",
      "- Monto medio simulado = 4,089,325.53\n",
      "- Plazo medio simulado = 27.62\n",
      "- Probabilidad de no pago media = 0.0089\n",
      "\n",
      "Cluster 84:\n",
      "- Precio Máx. Revenue Esperado = 1.16%\n",
      "- Revenue Esperado Máximo = 5,553,957,611.65\n",
      "- Número de clientes en el cluster = 11417\n",
      "- Número de simulaciones en el cluster = 1996.05\n",
      "- Probabilidad de aceptación en el precio óptimo = 0.5671\n",
      "- Número esperado de créditos aceptados = 1132\n",
      "- Monto medio simulado = 28,531,990.81\n",
      "- Plazo medio simulado = 27.44\n",
      "- Probabilidad de no pago media = 0.0112\n",
      "\n",
      "Cluster 107:\n",
      "- Precio Máx. Revenue Esperado = 1.25%\n",
      "- Revenue Esperado Máximo = 339,780,206.07\n",
      "- Número de clientes en el cluster = 6431\n",
      "- Número de simulaciones en el cluster = 1411.65\n",
      "- Probabilidad de aceptación en el precio óptimo = 0.4978\n",
      "- Número esperado de créditos aceptados = 703\n",
      "- Monto medio simulado = 2,641,195.96\n",
      "- Plazo medio simulado = 27.52\n",
      "- Probabilidad de no pago media = 0.0280\n",
      "\n",
      "Cluster 71:\n",
      "- Precio Máx. Revenue Esperado = 1.30%\n",
      "- Revenue Esperado Máximo = 108,474,164.09\n",
      "- Número de clientes en el cluster = 1166\n",
      "- Número de simulaciones en el cluster = 259.17\n",
      "- Probabilidad de aceptación en el precio óptimo = 0.4927\n",
      "- Número esperado de créditos aceptados = 128\n",
      "- Monto medio simulado = 4,398,974.78\n",
      "- Plazo medio simulado = 27.57\n",
      "- Probabilidad de no pago media = 0.0188\n",
      "\n",
      "Cluster 80:\n",
      "- Precio Máx. Revenue Esperado = 1.19%\n",
      "- Revenue Esperado Máximo = 1,072,853,588.91\n",
      "- Número de clientes en el cluster = 11891\n",
      "- Número de simulaciones en el cluster = 2614.11\n",
      "- Probabilidad de aceptación en el precio óptimo = 0.5597\n",
      "- Número esperado de créditos aceptados = 1463\n",
      "- Monto medio simulado = 4,137,472.83\n",
      "- Plazo medio simulado = 27.50\n",
      "- Probabilidad de no pago media = 0.0087\n",
      "\n",
      "Cluster 38:\n",
      "- Precio Máx. Revenue Esperado = 1.30%\n",
      "- Revenue Esperado Máximo = 813,808,814.78\n",
      "- Número de clientes en el cluster = 11658\n",
      "- Número de simulaciones en el cluster = 3629.15\n",
      "- Probabilidad de aceptación en el precio óptimo = 0.5037\n",
      "- Número esperado de créditos aceptados = 1828\n",
      "- Monto medio simulado = 2,315,093.68\n",
      "- Plazo medio simulado = 27.47\n",
      "- Probabilidad de no pago media = 0.0170\n",
      "\n",
      "Cluster 43:\n",
      "- Precio Máx. Revenue Esperado = 1.33%\n",
      "- Revenue Esperado Máximo = 122,764,459.38\n",
      "- Número de clientes en el cluster = 9799\n",
      "- Número de simulaciones en el cluster = 2392.71\n",
      "- Probabilidad de aceptación en el precio óptimo = 0.4996\n",
      "- Número esperado de créditos aceptados = 1195\n",
      "- Monto medio simulado = 523,085.20\n",
      "- Plazo medio simulado = 27.48\n",
      "- Probabilidad de no pago media = 0.0183\n",
      "\n",
      "Cluster 24:\n",
      "- Precio Máx. Revenue Esperado = 1.09%\n",
      "- Revenue Esperado Máximo = 2,472,218,105.95\n",
      "- Número de clientes en el cluster = 4182\n",
      "- Número de simulaciones en el cluster = 1119.42\n",
      "- Probabilidad de aceptación en el precio óptimo = 0.6118\n",
      "- Número esperado de créditos aceptados = 685\n",
      "- Monto medio simulado = 22,510,340.47\n",
      "- Plazo medio simulado = 27.40\n",
      "- Probabilidad de no pago media = 0.0067\n",
      "\n",
      "Cluster 22:\n",
      "- Precio Máx. Revenue Esperado = 1.21%\n",
      "- Revenue Esperado Máximo = 61,449,304.35\n",
      "- Número de clientes en el cluster = 4696\n",
      "- Número de simulaciones en el cluster = 871.39\n",
      "- Probabilidad de aceptación en el precio óptimo = 0.5570\n",
      "- Número esperado de créditos aceptados = 485\n",
      "- Monto medio simulado = 700,236.12\n",
      "- Plazo medio simulado = 27.56\n",
      "- Probabilidad de no pago media = 0.0092\n",
      "\n",
      "Cluster 44:\n",
      "- Precio Máx. Revenue Esperado = 1.30%\n",
      "- Revenue Esperado Máximo = 662,992,334.04\n",
      "- Número de clientes en el cluster = 11846\n",
      "- Número de simulaciones en el cluster = 2945.48\n",
      "- Probabilidad de aceptación en el precio óptimo = 0.5056\n",
      "- Número esperado de créditos aceptados = 1489\n",
      "- Monto medio simulado = 2,315,304.20\n",
      "- Plazo medio simulado = 27.50\n",
      "- Probabilidad de no pago media = 0.0169\n",
      "\n",
      "Cluster 102:\n",
      "- Precio Máx. Revenue Esperado = 1.16%\n",
      "- Revenue Esperado Máximo = 186,843,481.91\n",
      "- Número de clientes en el cluster = 1066\n",
      "- Número de simulaciones en el cluster = 184.83\n",
      "- Probabilidad de aceptación en el precio óptimo = 0.5375\n",
      "- Número esperado de créditos aceptados = 99\n",
      "- Monto medio simulado = 11,049,912.03\n",
      "- Plazo medio simulado = 27.34\n",
      "- Probabilidad de no pago media = 0.0178\n",
      "\n",
      "Cluster 35:\n",
      "- Precio Máx. Revenue Esperado = 1.31%\n",
      "- Revenue Esperado Máximo = 1,397,625,093.58\n",
      "- Número de clientes en el cluster = 13507\n",
      "- Número de simulaciones en el cluster = 3408.94\n",
      "- Probabilidad de aceptación en el precio óptimo = 0.4963\n",
      "- Número esperado de créditos aceptados = 1692\n",
      "- Monto medio simulado = 4,265,037.92\n",
      "- Plazo medio simulado = 27.57\n",
      "- Probabilidad de no pago media = 0.0195\n",
      "\n",
      "Cluster 33:\n",
      "- Precio Máx. Revenue Esperado = 1.17%\n",
      "- Revenue Esperado Máximo = 5,115,477,928.85\n",
      "- Número de clientes en el cluster = 8036\n",
      "- Número de simulaciones en el cluster = 2138.65\n",
      "- Probabilidad de aceptación en el precio óptimo = 0.5649\n",
      "- Número esperado de créditos aceptados = 1208\n",
      "- Monto medio simulado = 24,506,762.72\n",
      "- Plazo medio simulado = 27.52\n",
      "- Probabilidad de no pago media = 0.0121\n",
      "\n",
      "Cluster 95:\n",
      "- Precio Máx. Revenue Esperado = 1.30%\n",
      "- Revenue Esperado Máximo = 247,751,291.55\n",
      "- Número de clientes en el cluster = 7311\n",
      "- Número de simulaciones en el cluster = 1121.12\n",
      "- Probabilidad de aceptación en el precio óptimo = 0.4949\n",
      "- Número esperado de créditos aceptados = 555\n",
      "- Monto medio simulado = 2,314,930.93\n",
      "- Plazo medio simulado = 27.44\n",
      "- Probabilidad de no pago media = 0.0164\n",
      "\n",
      "Cluster 106:\n",
      "- Precio Máx. Revenue Esperado = 1.26%\n",
      "- Revenue Esperado Máximo = 50,212,947.77\n",
      "- Número de clientes en el cluster = 4937\n",
      "- Número de simulaciones en el cluster = 1066.24\n",
      "- Probabilidad de aceptación en el precio óptimo = 0.5045\n",
      "- Número esperado de créditos aceptados = 538\n",
      "- Monto medio simulado = 510,591.53\n",
      "- Plazo medio simulado = 27.46\n",
      "- Probabilidad de no pago media = 0.0310\n",
      "\n",
      "Cluster 30:\n",
      "- Precio Máx. Revenue Esperado = 1.17%\n",
      "- Revenue Esperado Máximo = 4,037,567,611.19\n",
      "- Número de clientes en el cluster = 8124\n",
      "- Número de simulaciones en el cluster = 1645.29\n",
      "- Probabilidad de aceptación en el precio óptimo = 0.5646\n",
      "- Número esperado de créditos aceptados = 929\n",
      "- Monto medio simulado = 25,082,738.84\n",
      "- Plazo medio simulado = 27.59\n",
      "- Probabilidad de no pago media = 0.0117\n",
      "\n",
      "Cluster 78:\n",
      "- Precio Máx. Revenue Esperado = 1.09%\n",
      "- Revenue Esperado Máximo = 3,078,895,450.01\n",
      "- Número de clientes en el cluster = 5346\n",
      "- Número de simulaciones en el cluster = 1271.70\n",
      "- Probabilidad de aceptación en el precio óptimo = 0.6188\n",
      "- Número esperado de créditos aceptados = 787\n",
      "- Monto medio simulado = 24,348,206.10\n",
      "- Plazo medio simulado = 27.41\n",
      "- Probabilidad de no pago media = 0.0065\n",
      "\n",
      "Cluster 19:\n",
      "- Precio Máx. Revenue Esperado = 1.22%\n",
      "- Revenue Esperado Máximo = 102,700,852.92\n",
      "- Número de clientes en el cluster = 4632\n",
      "- Número de simulaciones en el cluster = 1440.27\n",
      "- Probabilidad de aceptación en el precio óptimo = 0.5584\n",
      "- Número esperado de créditos aceptados = 804\n",
      "- Monto medio simulado = 701,876.05\n",
      "- Plazo medio simulado = 27.66\n",
      "- Probabilidad de no pago media = 0.0092\n",
      "\n",
      "Cluster 83:\n",
      "- Precio Máx. Revenue Esperado = 1.31%\n",
      "- Revenue Esperado Máximo = 2,177,905,851.51\n",
      "- Número de clientes en el cluster = 18317\n",
      "- Número de simulaciones en el cluster = 5232.24\n",
      "- Probabilidad de aceptación en el precio óptimo = 0.4954\n",
      "- Número esperado de créditos aceptados = 2592\n",
      "- Monto medio simulado = 4,327,159.72\n",
      "- Plazo medio simulado = 27.57\n",
      "- Probabilidad de no pago media = 0.0193\n",
      "\n",
      "Cluster 89:\n",
      "- Precio Máx. Revenue Esperado = 1.31%\n",
      "- Revenue Esperado Máximo = 1,708,643,789.42\n",
      "- Número de clientes en el cluster = 18498\n",
      "- Número de simulaciones en el cluster = 4117.44\n",
      "- Probabilidad de aceptación en el precio óptimo = 0.4915\n",
      "- Número esperado de créditos aceptados = 2024\n",
      "- Monto medio simulado = 4,354,993.83\n",
      "- Plazo medio simulado = 27.45\n",
      "- Probabilidad de no pago media = 0.0190\n",
      "\n",
      "Cluster 75:\n",
      "- Precio Máx. Revenue Esperado = 1.08%\n",
      "- Revenue Esperado Máximo = 2,313,403,134.53\n",
      "- Número de clientes en el cluster = 5423\n",
      "- Número de simulaciones en el cluster = 937.80\n",
      "- Probabilidad de aceptación en el precio óptimo = 0.6182\n",
      "- Número esperado de créditos aceptados = 580\n",
      "- Monto medio simulado = 24,813,463.68\n",
      "- Plazo medio simulado = 27.50\n",
      "- Probabilidad de no pago media = 0.0065\n",
      "\n",
      "Cluster 104:\n",
      "- Precio Máx. Revenue Esperado = 1.25%\n",
      "- Revenue Esperado Máximo = 249,215,185.87\n",
      "- Número de clientes en el cluster = 6511\n",
      "- Número de simulaciones en el cluster = 1023.06\n",
      "- Probabilidad de aceptación en el precio óptimo = 0.5004\n",
      "- Número esperado de créditos aceptados = 512\n",
      "- Monto medio simulado = 2,644,862.40\n",
      "- Plazo medio simulado = 27.60\n",
      "- Probabilidad de no pago media = 0.0271\n",
      "\n",
      "Cluster 47:\n",
      "- Precio Máx. Revenue Esperado = 1.25%\n",
      "- Revenue Esperado Máximo = 774,428,242.42\n",
      "- Número de clientes en el cluster = 10281\n",
      "- Número de simulaciones en el cluster = 3222.58\n",
      "- Probabilidad de aceptación en el precio óptimo = 0.5009\n",
      "- Número esperado de créditos aceptados = 1614\n",
      "- Monto medio simulado = 2,627,535.73\n",
      "- Plazo medio simulado = 27.43\n",
      "- Probabilidad de no pago media = 0.0285\n",
      "\n",
      "Cluster 86:\n",
      "- Precio Máx. Revenue Esperado = 1.31%\n",
      "- Revenue Esperado Máximo = 1,197,370,441.05\n",
      "- Número de clientes en el cluster = 18052\n",
      "- Número de simulaciones en el cluster = 2874.89\n",
      "- Probabilidad de aceptación en el precio óptimo = 0.4976\n",
      "- Número esperado de créditos aceptados = 1431\n",
      "- Monto medio simulado = 4,327,878.10\n",
      "- Plazo medio simulado = 27.51\n",
      "- Probabilidad de no pago media = 0.0188\n",
      "\n",
      "Cluster 34:\n",
      "- Precio Máx. Revenue Esperado = 1.38%\n",
      "- Revenue Esperado Máximo = 106,339,874.38\n",
      "- Número de clientes en el cluster = 5866\n",
      "- Número de simulaciones en el cluster = 1461.36\n",
      "- Probabilidad de aceptación en el precio óptimo = 0.4677\n",
      "- Número esperado de créditos aceptados = 683\n",
      "- Monto medio simulado = 756,275.85\n",
      "- Plazo medio simulado = 27.61\n",
      "- Probabilidad de no pago media = 0.0208\n",
      "\n",
      "Cluster 88:\n",
      "- Precio Máx. Revenue Esperado = 1.36%\n",
      "- Revenue Esperado Máximo = 123,909,118.69\n",
      "- Número de clientes en el cluster = 7946\n",
      "- Número de simulaciones en el cluster = 1735.52\n",
      "- Probabilidad de aceptación en el precio óptimo = 0.4744\n",
      "- Número esperado de créditos aceptados = 823\n",
      "- Monto medio simulado = 747,661.52\n",
      "- Plazo medio simulado = 27.46\n",
      "- Probabilidad de no pago media = 0.0207\n",
      "\n",
      "Cluster 73:\n",
      "- Precio Máx. Revenue Esperado = 1.22%\n",
      "- Revenue Esperado Máximo = 117,525,323.76\n",
      "- Número de clientes en el cluster = 5982\n",
      "- Número de simulaciones en el cluster = 1678.83\n",
      "- Probabilidad de aceptación en el precio óptimo = 0.5568\n",
      "- Número esperado de créditos aceptados = 935\n",
      "- Monto medio simulado = 694,680.43\n",
      "- Plazo medio simulado = 27.38\n",
      "- Probabilidad de no pago media = 0.0091\n",
      "\n",
      "Cluster 41:\n",
      "- Precio Máx. Revenue Esperado = 1.30%\n",
      "- Revenue Esperado Máximo = 495,864,992.67\n",
      "- Número de clientes en el cluster = 12007\n",
      "- Número de simulaciones en el cluster = 2202.18\n",
      "- Probabilidad de aceptación en el precio óptimo = 0.5030\n",
      "- Número esperado de créditos aceptados = 1108\n",
      "- Monto medio simulado = 2,324,933.02\n",
      "- Plazo medio simulado = 27.47\n",
      "- Probabilidad de no pago media = 0.0169\n",
      "\n",
      "Cluster 40:\n",
      "- Precio Máx. Revenue Esperado = 1.33%\n",
      "- Revenue Esperado Máximo = 91,320,622.78\n",
      "- Número de clientes en el cluster = 9749\n",
      "- Número de simulaciones en el cluster = 1763.06\n",
      "- Probabilidad de aceptación en el precio óptimo = 0.4960\n",
      "- Número esperado de créditos aceptados = 875\n",
      "- Monto medio simulado = 532,697.82\n",
      "- Plazo medio simulado = 27.41\n",
      "- Probabilidad de no pago media = 0.0184\n",
      "\n",
      "Cluster 20:\n",
      "- Precio Máx. Revenue Esperado = 1.19%\n",
      "- Revenue Esperado Máximo = 1,214,273,329.15\n",
      "- Número de clientes en el cluster = 9369\n",
      "- Número de simulaciones en el cluster = 2957.11\n",
      "- Probabilidad de aceptación en el precio óptimo = 0.5648\n",
      "- Número esperado de créditos aceptados = 1670\n",
      "- Monto medio simulado = 4,123,086.75\n",
      "- Plazo medio simulado = 27.48\n",
      "- Probabilidad de no pago media = 0.0088\n",
      "\n",
      "Cluster 77:\n",
      "- Precio Máx. Revenue Esperado = 1.19%\n",
      "- Revenue Esperado Máximo = 780,014,828.15\n",
      "- Número de clientes en el cluster = 12010\n",
      "- Número de simulaciones en el cluster = 1893.86\n",
      "- Probabilidad de aceptación en el precio óptimo = 0.5644\n",
      "- Número esperado de créditos aceptados = 1069\n",
      "- Monto medio simulado = 4,143,811.82\n",
      "- Plazo medio simulado = 27.48\n",
      "- Probabilidad de no pago media = 0.0087\n",
      "\n",
      "Cluster 37:\n",
      "- Precio Máx. Revenue Esperado = 1.33%\n",
      "- Revenue Esperado Máximo = 160,094,438.88\n",
      "- Número de clientes en el cluster = 10119\n",
      "- Número de simulaciones en el cluster = 3116.74\n",
      "- Probabilidad de aceptación en el precio óptimo = 0.5013\n",
      "- Número esperado de créditos aceptados = 1562\n",
      "- Monto medio simulado = 522,257.11\n",
      "- Plazo medio simulado = 27.50\n",
      "- Probabilidad de no pago media = 0.0185\n",
      "\n",
      "Cluster 42:\n",
      "- Precio Máx. Revenue Esperado = 1.10%\n",
      "- Revenue Esperado Máximo = 683,375,848.78\n",
      "- Número de clientes en el cluster = 2065\n",
      "- Número de simulaciones en el cluster = 546.39\n",
      "- Probabilidad de aceptación en el precio óptimo = 0.5828\n",
      "- Número esperado de créditos aceptados = 318\n",
      "- Monto medio simulado = 13,234,187.25\n",
      "- Plazo medio simulado = 27.46\n",
      "- Probabilidad de no pago media = 0.0097\n",
      "\n",
      "Cluster 31:\n",
      "- Precio Máx. Revenue Esperado = 1.34%\n",
      "- Revenue Esperado Máximo = 79,701,273.66\n",
      "- Número de clientes en el cluster = 5820\n",
      "- Número de simulaciones en el cluster = 1085.59\n",
      "- Probabilidad de aceptación en el precio óptimo = 0.4869\n",
      "- Número esperado de créditos aceptados = 529\n",
      "- Monto medio simulado = 758,816.90\n",
      "- Plazo medio simulado = 27.58\n",
      "- Probabilidad de no pago media = 0.0208\n",
      "\n",
      "Cluster 49:\n",
      "- Precio Máx. Revenue Esperado = 1.26%\n",
      "- Revenue Esperado Máximo = 69,895,084.22\n",
      "- Número de clientes en el cluster = 8334\n",
      "- Número de simulaciones en el cluster = 1520.95\n",
      "- Probabilidad de aceptación en el precio óptimo = 0.5024\n",
      "- Número esperado de créditos aceptados = 764\n",
      "- Monto medio simulado = 496,908.23\n",
      "- Plazo medio simulado = 27.55\n",
      "- Probabilidad de no pago media = 0.0311\n",
      "\n",
      "Cluster 87:\n",
      "- Precio Máx. Revenue Esperado = 1.16%\n",
      "- Revenue Esperado Máximo = 7,394,733,554.16\n",
      "- Número de clientes en el cluster = 11145\n",
      "- Número de simulaciones en el cluster = 2638.61\n",
      "- Probabilidad de aceptación en el precio óptimo = 0.5744\n",
      "- Número esperado de créditos aceptados = 1516\n",
      "- Monto medio simulado = 28,428,921.38\n",
      "- Plazo medio simulado = 27.54\n",
      "- Probabilidad de no pago media = 0.0115\n",
      "\n",
      "Cluster 98:\n",
      "- Precio Máx. Revenue Esperado = 1.29%\n",
      "- Revenue Esperado Máximo = 369,294,245.94\n",
      "- Número de clientes en el cluster = 7369\n",
      "- Número de simulaciones en el cluster = 1597.71\n",
      "- Probabilidad de aceptación en el precio óptimo = 0.5063\n",
      "- Número esperado de créditos aceptados = 809\n",
      "- Monto medio simulado = 2,399,510.00\n",
      "- Plazo medio simulado = 27.47\n",
      "- Probabilidad de no pago media = 0.0166\n",
      "\n",
      "Cluster 46:\n",
      "- Precio Máx. Revenue Esperado = 1.26%\n",
      "- Revenue Esperado Máximo = 119,192,342.07\n",
      "- Número de clientes en el cluster = 8230\n",
      "- Número de simulaciones en el cluster = 2561.55\n",
      "- Probabilidad de aceptación en el precio óptimo = 0.5016\n",
      "- Número esperado de créditos aceptados = 1285\n",
      "- Monto medio simulado = 505,540.14\n",
      "- Plazo medio simulado = 27.46\n",
      "- Probabilidad de no pago media = 0.0310\n",
      "\n",
      "Cluster 25:\n",
      "- Precio Máx. Revenue Esperado = 1.21%\n",
      "- Revenue Esperado Máximo = 83,374,621.21\n",
      "- Número de clientes en el cluster = 4712\n",
      "- Número de simulaciones en el cluster = 1169.26\n",
      "- Probabilidad de aceptación en el precio óptimo = 0.5601\n",
      "- Número esperado de créditos aceptados = 655\n",
      "- Monto medio simulado = 709,981.09\n",
      "- Plazo medio simulado = 27.44\n",
      "- Probabilidad de no pago media = 0.0093\n",
      "\n",
      "Cluster 90:\n",
      "- Precio Máx. Revenue Esperado = 1.06%\n",
      "- Revenue Esperado Máximo = 556,109,535.78\n",
      "- Número de clientes en el cluster = 1378\n",
      "- Número de simulaciones en el cluster = 419.76\n",
      "- Probabilidad de aceptación en el precio óptimo = 0.6084\n",
      "- Número esperado de créditos aceptados = 255\n",
      "- Monto medio simulado = 13,870,671.94\n",
      "- Plazo medio simulado = 27.44\n",
      "- Probabilidad de no pago media = 0.0094\n",
      "\n",
      "Cluster 21:\n",
      "- Precio Máx. Revenue Esperado = 1.09%\n",
      "- Revenue Esperado Máximo = 1,871,474,975.54\n",
      "- Número de clientes en el cluster = 4071\n",
      "- Número de simulaciones en el cluster = 830.44\n",
      "- Probabilidad de aceptación en el precio óptimo = 0.6112\n",
      "- Número esperado de créditos aceptados = 508\n",
      "- Monto medio simulado = 22,805,996.38\n",
      "- Plazo medio simulado = 27.62\n",
      "- Probabilidad de no pago media = 0.0069\n",
      "\n",
      "Cluster 28:\n",
      "- Precio Máx. Revenue Esperado = 1.38%\n",
      "- Revenue Esperado Máximo = 135,457,607.20\n",
      "- Número de clientes en el cluster = 5861\n",
      "- Número de simulaciones en el cluster = 1841.64\n",
      "- Probabilidad de aceptación en el precio óptimo = 0.4674\n",
      "- Número esperado de créditos aceptados = 861\n",
      "- Monto medio simulado = 765,512.12\n",
      "- Plazo medio simulado = 27.59\n",
      "- Probabilidad de no pago media = 0.0208\n",
      "\n",
      "Cluster 18:\n",
      "- Precio Máx. Revenue Esperado = 1.08%\n",
      "- Revenue Esperado Máximo = 3,158,317,538.86\n",
      "- Número de clientes en el cluster = 4190\n",
      "- Número de simulaciones en el cluster = 1388.97\n",
      "- Probabilidad de aceptación en el precio óptimo = 0.6239\n",
      "- Número esperado de créditos aceptados = 867\n",
      "- Monto medio simulado = 22,852,242.00\n",
      "- Plazo medio simulado = 27.37\n",
      "- Probabilidad de no pago media = 0.0068\n",
      "\n",
      "Cluster 97:\n",
      "- Precio Máx. Revenue Esperado = 1.32%\n",
      "- Revenue Esperado Máximo = 69,231,443.52\n",
      "- Número de clientes en el cluster = 5980\n",
      "- Número de simulaciones en el cluster = 1277.15\n",
      "- Probabilidad de aceptación en el precio óptimo = 0.5041\n",
      "- Número esperado de créditos aceptados = 644\n",
      "- Monto medio simulado = 548,529.31\n",
      "- Plazo medio simulado = 27.53\n",
      "- Probabilidad de no pago media = 0.0182\n",
      "\n",
      "Cluster 81:\n",
      "- Precio Máx. Revenue Esperado = 1.17%\n",
      "- Revenue Esperado Máximo = 9,525,329,106.13\n",
      "- Número de clientes en el cluster = 11331\n",
      "- Número de simulaciones en el cluster = 3405.21\n",
      "- Probabilidad de aceptación en el precio óptimo = 0.5699\n",
      "- Número esperado de créditos aceptados = 1941\n",
      "- Monto medio simulado = 28,335,822.01\n",
      "- Plazo medio simulado = 27.50\n",
      "- Probabilidad de no pago media = 0.0117\n",
      "\n",
      "Cluster 32:\n",
      "- Precio Máx. Revenue Esperado = 1.30%\n",
      "- Revenue Esperado Máximo = 1,047,585,712.38\n",
      "- Número de clientes en el cluster = 13410\n",
      "- Número de simulaciones en el cluster = 2530.71\n",
      "- Probabilidad de aceptación en el precio óptimo = 0.4989\n",
      "- Número esperado de créditos aceptados = 1263\n",
      "- Monto medio simulado = 4,322,604.24\n",
      "- Plazo medio simulado = 27.47\n",
      "- Probabilidad de no pago media = 0.0188\n",
      "\n",
      "Cluster 74:\n",
      "- Precio Máx. Revenue Esperado = 1.19%\n",
      "- Revenue Esperado Máximo = 1,380,247,650.81\n",
      "- Número de clientes en el cluster = 11749\n",
      "- Número de simulaciones en el cluster = 3331.29\n",
      "- Probabilidad de aceptación en el precio óptimo = 0.5687\n",
      "- Número esperado de créditos aceptados = 1895\n",
      "- Monto medio simulado = 4,125,397.24\n",
      "- Plazo medio simulado = 27.48\n",
      "- Probabilidad de no pago media = 0.0088\n",
      "\n",
      "Cluster 53:\n",
      "- Precio Máx. Revenue Esperado = 1.25%\n",
      "- Revenue Esperado Máximo = 617,436,388.59\n",
      "- Número de clientes en el cluster = 10436\n",
      "- Número de simulaciones en el cluster = 2602.91\n",
      "- Probabilidad de aceptación en el precio óptimo = 0.4993\n",
      "- Número esperado de créditos aceptados = 1300\n",
      "- Monto medio simulado = 2,590,823.82\n",
      "- Plazo medio simulado = 27.53\n",
      "- Probabilidad de no pago media = 0.0281\n",
      "\n",
      "Cluster 23:\n",
      "- Precio Máx. Revenue Esperado = 1.19%\n",
      "- Revenue Esperado Máximo = 705,064,895.45\n",
      "- Número de clientes en el cluster = 9128\n",
      "- Número de simulaciones en el cluster = 1712.21\n",
      "- Probabilidad de aceptación en el precio óptimo = 0.5694\n",
      "- Número esperado de créditos aceptados = 975\n",
      "- Monto medio simulado = 4,112,640.22\n",
      "- Plazo medio simulado = 27.40\n",
      "- Probabilidad de no pago media = 0.0088\n",
      "\n",
      "Cluster 27:\n",
      "- Precio Máx. Revenue Esperado = 1.17%\n",
      "- Revenue Esperado Máximo = 6,566,090,125.05\n",
      "- Número de clientes en el cluster = 8088\n",
      "- Número de simulaciones en el cluster = 2671.12\n",
      "- Probabilidad de aceptación en el precio óptimo = 0.5655\n",
      "- Número esperado de créditos aceptados = 1510\n",
      "- Monto medio simulado = 25,016,835.20\n",
      "- Plazo medio simulado = 27.54\n",
      "- Probabilidad de no pago media = 0.0123\n",
      "\n",
      "Cluster 70:\n",
      "- Precio Máx. Revenue Esperado = 1.43%\n",
      "- Revenue Esperado Máximo = 8,445,260.84\n",
      "- Número de clientes en el cluster = 528\n",
      "- Número de simulaciones en el cluster = 115.23\n",
      "- Probabilidad de aceptación en el precio óptimo = 0.4478\n",
      "- Número esperado de créditos aceptados = 52\n",
      "- Monto medio simulado = 763,774.83\n",
      "- Plazo medio simulado = 27.80\n",
      "- Probabilidad de no pago media = 0.0199\n",
      "\n",
      "Cluster 103:\n",
      "- Precio Máx. Revenue Esperado = 1.25%\n",
      "- Revenue Esperado Máximo = 35,019,230.92\n",
      "- Número de clientes en el cluster = 4944\n",
      "- Número de simulaciones en el cluster = 753.41\n",
      "- Probabilidad de aceptación en el precio óptimo = 0.5034\n",
      "- Número esperado de créditos aceptados = 379\n",
      "- Monto medio simulado = 503,807.01\n",
      "- Plazo medio simulado = 27.59\n",
      "- Probabilidad de no pago media = 0.0296\n",
      "\n",
      "Cluster 96:\n",
      "- Precio Máx. Revenue Esperado = 1.08%\n",
      "- Revenue Esperado Máximo = 419,030,723.51\n",
      "- Número de clientes en el cluster = 1371\n",
      "- Número de simulaciones en el cluster = 328.42\n",
      "- Probabilidad de aceptación en el precio óptimo = 0.5991\n",
      "- Número esperado de créditos aceptados = 197\n",
      "- Monto medio simulado = 13,500,503.83\n",
      "- Plazo medio simulado = 27.29\n",
      "- Probabilidad de no pago media = 0.0094\n",
      "\n",
      "Cluster 92:\n",
      "- Precio Máx. Revenue Esperado = 1.30%\n",
      "- Revenue Esperado Máximo = 481,875,401.28\n",
      "- Número de clientes en el cluster = 7388\n",
      "- Número de simulaciones en el cluster = 2082.23\n",
      "- Probabilidad de aceptación en el precio óptimo = 0.5022\n",
      "- Número esperado de créditos aceptados = 1046\n",
      "- Monto medio simulado = 2,398,568.55\n",
      "- Plazo medio simulado = 27.50\n",
      "- Probabilidad de no pago media = 0.0166\n",
      "\n",
      "Cluster 85:\n",
      "- Precio Máx. Revenue Esperado = 1.36%\n",
      "- Revenue Esperado Máximo = 90,090,551.71\n",
      "- Número de clientes en el cluster = 7934\n",
      "- Número de simulaciones en el cluster = 1234.03\n",
      "- Probabilidad de aceptación en el precio óptimo = 0.4781\n",
      "- Número esperado de créditos aceptados = 590\n",
      "- Monto medio simulado = 758,724.24\n",
      "- Plazo medio simulado = 27.57\n",
      "- Probabilidad de no pago media = 0.0205\n",
      "\n",
      "Cluster 65:\n",
      "- Precio Máx. Revenue Esperado = 1.32%\n",
      "- Revenue Esperado Máximo = 143,610,377.49\n",
      "- Número de clientes en el cluster = 1174\n",
      "- Número de simulaciones en el cluster = 338.68\n",
      "- Probabilidad de aceptación en el precio óptimo = 0.4871\n",
      "- Número esperado de créditos aceptados = 165\n",
      "- Monto medio simulado = 4,411,555.99\n",
      "- Plazo medio simulado = 27.81\n",
      "- Probabilidad de no pago media = 0.0183\n",
      "\n",
      "Cluster 63:\n",
      "- Precio Máx. Revenue Esperado = 1.18%\n",
      "- Revenue Esperado Máximo = 726,319,841.09\n",
      "- Número de clientes en el cluster = 818\n",
      "- Número de simulaciones en el cluster = 249.20\n",
      "- Probabilidad de aceptación en el precio óptimo = 0.5625\n",
      "- Número esperado de créditos aceptados = 140\n",
      "- Monto medio simulado = 29,691,630.81\n",
      "- Plazo medio simulado = 27.38\n",
      "- Probabilidad de no pago media = 0.0105\n",
      "\n",
      "Cluster 36:\n",
      "- Precio Máx. Revenue Esperado = 1.08%\n",
      "- Revenue Esperado Máximo = 829,613,333.85\n",
      "- Número de clientes en el cluster = 1957\n",
      "- Número de simulaciones en el cluster = 650.17\n",
      "- Probabilidad de aceptación en el precio óptimo = 0.5928\n",
      "- Número esperado de créditos aceptados = 385\n",
      "- Monto medio simulado = 13,526,517.46\n",
      "- Plazo medio simulado = 27.46\n",
      "- Probabilidad de no pago media = 0.0095\n",
      "\n",
      "Cluster 12:\n",
      "- Precio Máx. Revenue Esperado = 1.14%\n",
      "- Revenue Esperado Máximo = 151,136,538.11\n",
      "- Número de clientes en el cluster = 220\n",
      "- Número de simulaciones en el cluster = 45.21\n",
      "- Probabilidad de aceptación en el precio óptimo = 0.5886\n",
      "- Número esperado de créditos aceptados = 27\n",
      "- Monto medio simulado = 33,628,175.93\n",
      "- Plazo medio simulado = 27.42\n",
      "- Probabilidad de no pago media = 0.0111\n",
      "\n",
      "Cluster 51:\n",
      "- Precio Máx. Revenue Esperado = 1.19%\n",
      "- Revenue Esperado Máximo = 451,322,045.67\n",
      "- Número de clientes en el cluster = 1634\n",
      "- Número de simulaciones en el cluster = 427.68\n",
      "- Probabilidad de aceptación en el precio óptimo = 0.5315\n",
      "- Número esperado de créditos aceptados = 227\n",
      "- Monto medio simulado = 11,297,123.62\n",
      "- Plazo medio simulado = 27.67\n",
      "- Probabilidad de no pago media = 0.0181\n",
      "\n",
      "Cluster 100:\n",
      "- Precio Máx. Revenue Esperado = 1.25%\n",
      "- Revenue Esperado Máximo = 66,297,084.69\n",
      "- Número de clientes en el cluster = 5081\n",
      "- Número de simulaciones en el cluster = 1427.55\n",
      "- Probabilidad de aceptación en el precio óptimo = 0.5049\n",
      "- Número esperado de créditos aceptados = 721\n",
      "- Monto medio simulado = 503,175.98\n",
      "- Plazo medio simulado = 27.52\n",
      "- Probabilidad de no pago media = 0.0309\n",
      "\n",
      "Cluster 67:\n",
      "- Precio Máx. Revenue Esperado = 1.36%\n",
      "- Revenue Esperado Máximo = 5,449,289.02\n",
      "- Número de clientes en el cluster = 499\n",
      "- Número de simulaciones en el cluster = 77.12\n",
      "- Probabilidad de aceptación en el precio óptimo = 0.4562\n",
      "- Número esperado de créditos aceptados = 35\n",
      "- Monto medio simulado = 765,338.85\n",
      "- Plazo medio simulado = 27.67\n",
      "- Probabilidad de no pago media = 0.0201\n",
      "\n",
      "Cluster 48:\n",
      "- Precio Máx. Revenue Esperado = 1.21%\n",
      "- Revenue Esperado Máximo = 339,763,240.30\n",
      "- Número de clientes en el cluster = 1652\n",
      "- Número de simulaciones en el cluster = 331.36\n",
      "- Probabilidad de aceptación en el precio óptimo = 0.5158\n",
      "- Número esperado de créditos aceptados = 171\n",
      "- Monto medio simulado = 11,151,926.29\n",
      "- Plazo medio simulado = 27.47\n",
      "- Probabilidad de no pago media = 0.0186\n",
      "\n",
      "Cluster 15:\n",
      "- Precio Máx. Revenue Esperado = 1.13%\n",
      "- Revenue Esperado Máximo = 164,301,096.82\n",
      "- Número de clientes en el cluster = 220\n",
      "- Número de simulaciones en el cluster = 60.82\n",
      "- Probabilidad de aceptación en el precio óptimo = 0.5748\n",
      "- Número esperado de créditos aceptados = 35\n",
      "- Monto medio simulado = 28,714,779.72\n",
      "- Plazo medio simulado = 26.94\n",
      "- Probabilidad de no pago media = 0.0103\n",
      "\n",
      "Cluster 39:\n",
      "- Precio Máx. Revenue Esperado = 1.08%\n",
      "- Revenue Esperado Máximo = 553,264,627.09\n",
      "- Número de clientes en el cluster = 2078\n",
      "- Número de simulaciones en el cluster = 425.74\n",
      "- Probabilidad de aceptación en el precio óptimo = 0.5952\n",
      "- Número esperado de créditos aceptados = 253\n",
      "- Monto medio simulado = 13,638,145.97\n",
      "- Plazo medio simulado = 27.62\n",
      "- Probabilidad de no pago media = 0.0096\n",
      "\n",
      "Cluster 66:\n",
      "- Precio Máx. Revenue Esperado = 1.15%\n",
      "- Revenue Esperado Máximo = 504,114,328.65\n",
      "- Número de clientes en el cluster = 825\n",
      "- Número de simulaciones en el cluster = 144.65\n",
      "- Probabilidad de aceptación en el precio óptimo = 0.5692\n",
      "- Número esperado de créditos aceptados = 82\n",
      "- Monto medio simulado = 35,943,913.32\n",
      "- Plazo medio simulado = 27.54\n",
      "- Probabilidad de no pago media = 0.0095\n",
      "\n",
      "Cluster 99:\n",
      "- Precio Máx. Revenue Esperado = 1.20%\n",
      "- Revenue Esperado Máximo = 337,536,610.55\n",
      "- Número de clientes en el cluster = 1069\n",
      "- Número de simulaciones en el cluster = 314.14\n",
      "- Probabilidad de aceptación en el precio óptimo = 0.5175\n",
      "- Número esperado de créditos aceptados = 163\n",
      "- Monto medio simulado = 11,647,512.26\n",
      "- Plazo medio simulado = 27.71\n",
      "- Probabilidad de no pago media = 0.0182\n",
      "\n",
      "Cluster 14:\n",
      "- Precio Máx. Revenue Esperado = 1.33%\n",
      "- Revenue Esperado Máximo = 26,320,011.29\n",
      "- Número de clientes en el cluster = 319\n",
      "- Número de simulaciones en el cluster = 60.98\n",
      "- Probabilidad de aceptación en el precio óptimo = 0.5165\n",
      "- Número esperado de créditos aceptados = 31\n",
      "- Monto medio simulado = 4,172,656.49\n",
      "- Plazo medio simulado = 27.94\n",
      "- Probabilidad de no pago media = 0.0180\n",
      "\n",
      "Cluster 105:\n",
      "- Precio Máx. Revenue Esperado = 1.18%\n",
      "- Revenue Esperado Máximo = 278,539,809.10\n",
      "- Número de clientes en el cluster = 1131\n",
      "- Número de simulaciones en el cluster = 262.42\n",
      "- Probabilidad de aceptación en el precio óptimo = 0.5320\n",
      "- Número esperado de créditos aceptados = 140\n",
      "- Monto medio simulado = 11,289,719.44\n",
      "- Plazo medio simulado = 27.86\n",
      "- Probabilidad de no pago media = 0.0180\n",
      "\n",
      "Cluster 68:\n",
      "- Precio Máx. Revenue Esperado = 1.32%\n",
      "- Revenue Esperado Máximo = 79,593,936.16\n",
      "- Número de clientes en el cluster = 1206\n",
      "- Número de simulaciones en el cluster = 191.09\n",
      "- Probabilidad de aceptación en el precio óptimo = 0.5041\n",
      "- Número esperado de créditos aceptados = 96\n",
      "- Monto medio simulado = 4,226,612.59\n",
      "- Plazo medio simulado = 27.60\n",
      "- Probabilidad de no pago media = 0.0186\n",
      "\n",
      "Cluster 69:\n",
      "- Precio Máx. Revenue Esperado = 1.17%\n",
      "- Revenue Esperado Máximo = 693,335,512.68\n",
      "- Número de clientes en el cluster = 810\n",
      "- Número de simulaciones en el cluster = 193.58\n",
      "- Probabilidad de aceptación en el precio óptimo = 0.5731\n",
      "- Número esperado de créditos aceptados = 111\n",
      "- Monto medio simulado = 36,239,256.29\n",
      "- Plazo medio simulado = 27.30\n",
      "- Probabilidad de no pago media = 0.0098\n",
      "\n",
      "Cluster 64:\n",
      "- Precio Máx. Revenue Esperado = 1.38%\n",
      "- Revenue Esperado Máximo = 10,522,879.39\n",
      "- Número de clientes en el cluster = 518\n",
      "- Número de simulaciones en el cluster = 145.53\n",
      "- Probabilidad de aceptación en el precio óptimo = 0.4599\n",
      "- Número esperado de créditos aceptados = 67\n",
      "- Monto medio simulado = 773,966.05\n",
      "- Plazo medio simulado = 27.38\n",
      "- Probabilidad de no pago media = 0.0200\n",
      "\n",
      "Cluster 13:\n",
      "- Precio Máx. Revenue Esperado = 1.29%\n",
      "- Revenue Esperado Máximo = 1,856,962.57\n",
      "- Número de clientes en el cluster = 134\n",
      "- Número de simulaciones en el cluster = 24.95\n",
      "- Probabilidad de aceptación en el precio óptimo = 0.5396\n",
      "- Número esperado de créditos aceptados = 13\n",
      "- Monto medio simulado = 758,969.80\n",
      "- Plazo medio simulado = 26.22\n",
      "- Probabilidad de no pago media = 0.0208\n",
      "\n",
      "Cluster 8:\n",
      "- Precio Máx. Revenue Esperado = 1.18%\n",
      "- Revenue Esperado Máximo = 3,233,051.58\n",
      "- Número de clientes en el cluster = 28\n",
      "- Número de simulaciones en el cluster = 6.61\n",
      "- Probabilidad de aceptación en el precio óptimo = 0.5315\n",
      "- Número esperado de créditos aceptados = 4\n",
      "- Monto medio simulado = 4,844,701.97\n",
      "- Plazo medio simulado = 29.58\n",
      "- Probabilidad de no pago media = 0.0061\n",
      "\n",
      "Cluster 6:\n",
      "- Precio Máx. Revenue Esperado = 1.00%\n",
      "- Revenue Esperado Máximo = 42,414,069.85\n",
      "- Número de clientes en el cluster = 25\n",
      "- Número de simulaciones en el cluster = 6.65\n",
      "- Probabilidad de aceptación en el precio óptimo = 0.6811\n",
      "- Número esperado de créditos aceptados = 5\n",
      "- Monto medio simulado = 59,980,977.14\n",
      "- Plazo medio simulado = 28.81\n",
      "- Probabilidad de no pago media = 0.0022\n",
      "\n",
      "Cluster 45:\n",
      "- Precio Máx. Revenue Esperado = 1.19%\n",
      "- Revenue Esperado Máximo = 568,385,552.80\n",
      "- Número de clientes en el cluster = 1678\n",
      "- Número de simulaciones en el cluster = 547.94\n",
      "- Probabilidad de aceptación en el precio óptimo = 0.5269\n",
      "- Número esperado de créditos aceptados = 289\n",
      "- Monto medio simulado = 11,170,776.63\n",
      "- Plazo medio simulado = 27.62\n",
      "- Probabilidad de no pago media = 0.0186\n",
      "\n",
      "Cluster 93:\n",
      "- Precio Máx. Revenue Esperado = 1.06%\n",
      "- Revenue Esperado Máximo = 318,517,131.72\n",
      "- Número de clientes en el cluster = 1354\n",
      "- Número de simulaciones en el cluster = 236.62\n",
      "- Probabilidad de aceptación en el precio óptimo = 0.5976\n",
      "- Número esperado de créditos aceptados = 141\n",
      "- Monto medio simulado = 14,537,003.12\n",
      "- Plazo medio simulado = 27.16\n",
      "- Probabilidad de no pago media = 0.0090\n",
      "\n",
      "Cluster 17:\n",
      "- Precio Máx. Revenue Esperado = 1.36%\n",
      "- Revenue Esperado Máximo = 33,170,617.36\n",
      "- Número de clientes en el cluster = 315\n",
      "- Número de simulaciones en el cluster = 81.26\n",
      "- Probabilidad de aceptación en el precio óptimo = 0.4936\n",
      "- Número esperado de créditos aceptados = 40\n",
      "- Monto medio simulado = 4,016,050.24\n",
      "- Plazo medio simulado = 27.97\n",
      "- Probabilidad de no pago media = 0.0181\n",
      "\n",
      "Cluster 11:\n",
      "- Precio Máx. Revenue Esperado = 1.31%\n",
      "- Revenue Esperado Máximo = 47,004,011.57\n",
      "- Número de clientes en el cluster = 358\n",
      "- Número de simulaciones en el cluster = 113.83\n",
      "- Probabilidad de aceptación en el precio óptimo = 0.4985\n",
      "- Número esperado de créditos aceptados = 57\n",
      "- Monto medio simulado = 4,346,297.17\n",
      "- Plazo medio simulado = 27.14\n",
      "- Probabilidad de no pago media = 0.0184\n",
      "\n",
      "Cluster 10:\n",
      "- Precio Máx. Revenue Esperado = 1.41%\n",
      "- Revenue Esperado Máximo = 3,012,311.07\n",
      "- Número de clientes en el cluster = 141\n",
      "- Número de simulaciones en el cluster = 43.68\n",
      "- Probabilidad de aceptación en el precio óptimo = 0.4586\n",
      "- Número esperado de créditos aceptados = 20\n",
      "- Monto medio simulado = 712,786.33\n",
      "- Plazo medio simulado = 27.83\n",
      "- Probabilidad de no pago media = 0.0198\n",
      "\n",
      "Cluster 9:\n",
      "- Precio Máx. Revenue Esperado = 1.15%\n",
      "- Revenue Esperado Máximo = 278,840,124.08\n",
      "- Número de clientes en el cluster = 218\n",
      "- Número de simulaciones en el cluster = 72.56\n",
      "- Probabilidad de aceptación en el precio óptimo = 0.5708\n",
      "- Número esperado de créditos aceptados = 41\n",
      "- Monto medio simulado = 39,107,949.13\n",
      "- Plazo medio simulado = 27.75\n",
      "- Probabilidad de no pago media = 0.0106\n",
      "\n",
      "Cluster 3:\n",
      "- Precio Máx. Revenue Esperado = 1.00%\n",
      "- Revenue Esperado Máximo = 34,316,114.31\n",
      "- Número de clientes en el cluster = 18\n",
      "- Número de simulaciones en el cluster = 3.83\n",
      "- Probabilidad de aceptación en el precio óptimo = 0.7123\n",
      "- Número esperado de créditos aceptados = 3\n",
      "- Monto medio simulado = 86,994,371.19\n",
      "- Plazo medio simulado = 26.77\n",
      "- Probabilidad de no pago media = 0.0027\n",
      "\n",
      "Cluster 7:\n",
      "- Precio Máx. Revenue Esperado = 1.13%\n",
      "- Revenue Esperado Máximo = 152,569.03\n",
      "- Número de clientes en el cluster = 11\n",
      "- Número de simulaciones en el cluster = 3.05\n",
      "- Probabilidad de aceptación en el precio óptimo = 0.6041\n",
      "- Número esperado de créditos aceptados = 2\n",
      "- Monto medio simulado = 486,597.93\n",
      "- Plazo medio simulado = 27.98\n",
      "- Probabilidad de no pago media = 0.0120\n",
      "\n",
      "Cluster 57:\n",
      "- Precio Máx. Revenue Esperado = 1.00%\n",
      "- Revenue Esperado Máximo = 129,707,187.27\n",
      "- Número de clientes en el cluster = 88\n",
      "- Número de simulaciones en el cluster = 15.85\n",
      "- Probabilidad de aceptación en el precio óptimo = 0.6813\n",
      "- Número esperado de créditos aceptados = 11\n",
      "- Monto medio simulado = 79,057,943.79\n",
      "- Plazo medio simulado = 28.06\n",
      "- Probabilidad de no pago media = 0.0023\n",
      "\n",
      "Cluster 56:\n",
      "- Precio Máx. Revenue Esperado = 1.13%\n",
      "- Revenue Esperado Máximo = 13,698,931.11\n",
      "- Número de clientes en el cluster = 82\n",
      "- Número de simulaciones en el cluster = 24.00\n",
      "- Probabilidad de aceptación en el precio óptimo = 0.6314\n",
      "- Número esperado de créditos aceptados = 15\n",
      "- Monto medio simulado = 5,593,435.71\n",
      "- Plazo medio simulado = 26.49\n",
      "- Probabilidad de no pago media = 0.0076\n",
      "\n",
      "Cluster 60:\n",
      "- Precio Máx. Revenue Esperado = 1.00%\n",
      "- Revenue Esperado Máximo = 178,523,980.75\n",
      "- Número de clientes en el cluster = 100\n",
      "- Número de simulaciones en el cluster = 25.11\n",
      "- Probabilidad de aceptación en el precio óptimo = 0.7157\n",
      "- Número esperado de créditos aceptados = 18\n",
      "- Monto medio simulado = 65,759,253.72\n",
      "- Plazo medio simulado = 27.92\n",
      "- Probabilidad de no pago media = 0.0024\n",
      "\n",
      "Cluster 62:\n",
      "- Precio Máx. Revenue Esperado = 1.14%\n",
      "- Revenue Esperado Máximo = 6,567,863.58\n",
      "- Número de clientes en el cluster = 63\n",
      "- Número de simulaciones en el cluster = 13.35\n",
      "- Probabilidad de aceptación en el precio óptimo = 0.5873\n",
      "- Número esperado de créditos aceptados = 8\n",
      "- Monto medio simulado = 5,048,883.10\n",
      "- Plazo medio simulado = 26.86\n",
      "- Probabilidad de no pago media = 0.0077\n",
      "\n",
      "Cluster 5:\n",
      "- Precio Máx. Revenue Esperado = 1.50%\n",
      "- Revenue Esperado Máximo = 1,948,121.70\n",
      "- Número de clientes en el cluster = 18\n",
      "- Número de simulaciones en el cluster = 3.79\n",
      "- Probabilidad de aceptación en el precio óptimo = 0.4427\n",
      "- Número esperado de créditos aceptados = 2\n",
      "- Monto medio simulado = 5,153,737.59\n",
      "- Plazo medio simulado = 27.51\n",
      "- Probabilidad de no pago media = 0.0103\n",
      "\n",
      "Cluster 55:\n",
      "- Precio Máx. Revenue Esperado = 1.15%\n",
      "- Revenue Esperado Máximo = 644,710.18\n",
      "- Número de clientes en el cluster = 33\n",
      "- Número de simulaciones en el cluster = 9.12\n",
      "- Probabilidad de aceptación en el precio óptimo = 0.6027\n",
      "- Número esperado de créditos aceptados = 5\n",
      "- Monto medio simulado = 680,443.77\n",
      "- Plazo medio simulado = 27.74\n",
      "- Probabilidad de no pago media = 0.0087\n",
      "\n",
      "Cluster 16:\n",
      "- Precio Máx. Revenue Esperado = 1.45%\n",
      "- Revenue Esperado Máximo = 2,255,811.33\n",
      "- Número de clientes en el cluster = 154\n",
      "- Número de simulaciones en el cluster = 37.39\n",
      "- Probabilidad de aceptación en el precio óptimo = 0.4341\n",
      "- Número esperado de créditos aceptados = 16\n",
      "- Monto medio simulado = 653,282.46\n",
      "- Plazo medio simulado = 27.15\n",
      "- Probabilidad de no pago media = 0.0215\n",
      "\n",
      "Cluster 54:\n",
      "- Precio Máx. Revenue Esperado = 1.00%\n",
      "- Revenue Esperado Máximo = 187,752,619.30\n",
      "- Número de clientes en el cluster = 84\n",
      "- Número de simulaciones en el cluster = 26.39\n",
      "- Probabilidad de aceptación en el precio óptimo = 0.6617\n",
      "- Número esperado de créditos aceptados = 17\n",
      "- Monto medio simulado = 69,267,594.86\n",
      "- Plazo medio simulado = 28.72\n",
      "- Probabilidad de no pago media = 0.0022\n",
      "\n",
      "Cluster 1:\n",
      "- Precio Máx. Revenue Esperado = 1.41%\n",
      "- Revenue Esperado Máximo = 251,754.34\n",
      "- Número de clientes en el cluster = 9\n",
      "- Número de simulaciones en el cluster = 3.25\n",
      "- Probabilidad de aceptación en el precio óptimo = 0.4510\n",
      "- Número esperado de créditos aceptados = 1\n",
      "- Monto medio simulado = 850,601.78\n",
      "- Plazo medio simulado = 26.32\n",
      "- Probabilidad de no pago media = 0.0076\n",
      "\n",
      "Cluster 0:\n",
      "- Precio Máx. Revenue Esperado = 1.02%\n",
      "- Revenue Esperado Máximo = 51,425,527.47\n",
      "- Número de clientes en el cluster = 27\n",
      "- Número de simulaciones en el cluster = 8.77\n",
      "- Probabilidad de aceptación en el precio óptimo = 0.6490\n",
      "- Número esperado de créditos aceptados = 6\n",
      "- Monto medio simulado = 58,320,122.04\n",
      "- Plazo medio simulado = 28.03\n",
      "- Probabilidad de no pago media = 0.0030\n",
      "\n",
      "Cluster 59:\n",
      "- Precio Máx. Revenue Esperado = 1.14%\n",
      "- Revenue Esperado Máximo = 5,960,671.17\n",
      "- Número de clientes en el cluster = 68\n",
      "- Número de simulaciones en el cluster = 11.26\n",
      "- Probabilidad de aceptación en el precio óptimo = 0.5770\n",
      "- Número esperado de créditos aceptados = 6\n",
      "- Monto medio simulado = 5,163,722.87\n",
      "- Plazo medio simulado = 28.83\n",
      "- Probabilidad de no pago media = 0.0079\n",
      "\n",
      "Cluster 61:\n",
      "- Precio Máx. Revenue Esperado = 1.15%\n",
      "- Revenue Esperado Máximo = 519,356.99\n",
      "- Número de clientes en el cluster = 26\n",
      "- Número de simulaciones en el cluster = 5.83\n",
      "- Probabilidad de aceptación en el precio óptimo = 0.6462\n",
      "- Número esperado de créditos aceptados = 4\n",
      "- Monto medio simulado = 839,923.99\n",
      "- Plazo medio simulado = 26.45\n",
      "- Probabilidad de no pago media = 0.0060\n",
      "\n",
      "Cluster 58:\n",
      "- Precio Máx. Revenue Esperado = 1.20%\n",
      "- Revenue Esperado Máximo = 297,288.79\n",
      "- Número de clientes en el cluster = 25\n",
      "- Número de simulaciones en el cluster = 4.53\n",
      "- Probabilidad de aceptación en el precio óptimo = 0.4964\n",
      "- Número esperado de créditos aceptados = 2\n",
      "- Monto medio simulado = 755,756.78\n",
      "- Plazo medio simulado = 27.01\n",
      "- Probabilidad de no pago media = 0.0064\n",
      "\n",
      "Cluster 2:\n",
      "- Precio Máx. Revenue Esperado = 1.27%\n",
      "- Revenue Esperado Máximo = 2,290,446.18\n",
      "- Número de clientes en el cluster = 12\n",
      "- Número de simulaciones en el cluster = 4.18\n",
      "- Probabilidad de aceptación en el precio óptimo = 0.6223\n",
      "- Número esperado de créditos aceptados = 3\n",
      "- Monto medio simulado = 4,454,833.76\n",
      "- Plazo medio simulado = 28.54\n",
      "- Probabilidad de no pago media = 0.0067\n",
      "\n",
      "Cluster 4:\n",
      "- Precio Máx. Revenue Esperado = 1.21%\n",
      "- Revenue Esperado Máximo = 226,098.47\n",
      "- Número de clientes en el cluster = 7\n",
      "- Número de simulaciones en el cluster = 1.62\n",
      "- Probabilidad de aceptación en el precio óptimo = 0.7057\n",
      "- Número esperado de créditos aceptados = 1\n",
      "- Monto medio simulado = 1,032,209.79\n",
      "- Plazo medio simulado = 29.21\n",
      "- Probabilidad de no pago media = 0.0077\n",
      "\n",
      "El revenue total esperado es: 87,790,501,353.64 con un total de 542904 clientes, 129,036.33 simulaciones, y 67833 créditos.\n"
     ]
    }
   ],
   "source": [
    "df_estimar_elasticidad = function_estimar_elasticidad(df_estimar_elasticidad)['df_estimar_elasticidad']"
   ]
  },
  {
   "cell_type": "markdown",
   "metadata": {},
   "source": [
    "# 5. Estimacion de respuesta a tratamiento por cluster"
   ]
  },
  {
   "cell_type": "code",
   "execution_count": 19,
   "metadata": {},
   "outputs": [],
   "source": [
    "# Unir los DataFrames 'df_tratamiento' y 'df_simulaciones_clientes' usando las columnas 'rut' y 'fecha' como claves\n",
    "# La unión se realiza con 'how=\"left\"', lo cual asegura que todos los registros de 'df_tratamiento' se conserven,\n",
    "# incluyendo aquellos sin coincidencia en 'df_simulaciones_clientes'.\n",
    "# Esta operación permite combinar la información de tratamiento con los datos de simulaciones de clientes.\n",
    "df_simulaciones_info = pd.merge(df_tratamiento, df_simulaciones_clientes, on=['rut', 'fecha'], how='left')\n"
   ]
  },
  {
   "cell_type": "code",
   "execution_count": 20,
   "metadata": {},
   "outputs": [],
   "source": [
    "# Usar operaciones de cadenas vectorizadas para crear la columna 'Tratamiento'\n",
    "# Esta columna concatenará información sobre el ejecutivo asignado y el número de correos enviados.\n",
    "# Se convierte 'asg_ejec' a string para poder concatenar, y 'n_correos' se convierte primero a entero y luego a string.\n",
    "# El formato final es: \"Ejecutivo=<valor_asg_ejec>, Correos=<valor_n_correos>\"\n",
    "df_simulaciones_info['Tratamiento'] = (\n",
    "    'Ejecutivo=' + df_simulaciones_info['asg_ejec'].astype(str) +\n",
    "    ', Correos=' + df_simulaciones_info['n_correos'].astype(int).astype(str)\n",
    ")\n"
   ]
  },
  {
   "cell_type": "code",
   "execution_count": 21,
   "metadata": {},
   "outputs": [
    {
     "data": {
      "text/html": [
       "<div>\n",
       "<style scoped>\n",
       "    .dataframe tbody tr th:only-of-type {\n",
       "        vertical-align: middle;\n",
       "    }\n",
       "\n",
       "    .dataframe tbody tr th {\n",
       "        vertical-align: top;\n",
       "    }\n",
       "\n",
       "    .dataframe thead th {\n",
       "        text-align: right;\n",
       "    }\n",
       "</style>\n",
       "<table border=\"1\" class=\"dataframe\">\n",
       "  <thead>\n",
       "    <tr style=\"text-align: right;\">\n",
       "      <th></th>\n",
       "      <th>Unnamed: 0_x</th>\n",
       "      <th>fecha</th>\n",
       "      <th>rut</th>\n",
       "      <th>n_correos</th>\n",
       "      <th>asg_ejec</th>\n",
       "      <th>Unnamed: 0_y</th>\n",
       "      <th>Monto_Simulado</th>\n",
       "      <th>Plazo_Simulado</th>\n",
       "      <th>Tasa_Simulado</th>\n",
       "      <th>Tratamiento</th>\n",
       "      <th>mes</th>\n",
       "    </tr>\n",
       "  </thead>\n",
       "  <tbody>\n",
       "    <tr>\n",
       "      <th>0</th>\n",
       "      <td>0</td>\n",
       "      <td>2019-01-01</td>\n",
       "      <td>1</td>\n",
       "      <td>3</td>\n",
       "      <td>0</td>\n",
       "      <td>NaN</td>\n",
       "      <td>NaN</td>\n",
       "      <td>NaN</td>\n",
       "      <td>NaN</td>\n",
       "      <td>Ejecutivo=0, Correos=3</td>\n",
       "      <td>2019-01</td>\n",
       "    </tr>\n",
       "    <tr>\n",
       "      <th>543651</th>\n",
       "      <td>0</td>\n",
       "      <td>2019-02-01</td>\n",
       "      <td>1</td>\n",
       "      <td>4</td>\n",
       "      <td>0</td>\n",
       "      <td>NaN</td>\n",
       "      <td>NaN</td>\n",
       "      <td>NaN</td>\n",
       "      <td>NaN</td>\n",
       "      <td>Ejecutivo=0, Correos=4</td>\n",
       "      <td>2019-02</td>\n",
       "    </tr>\n",
       "    <tr>\n",
       "      <th>1087302</th>\n",
       "      <td>0</td>\n",
       "      <td>2019-03-01</td>\n",
       "      <td>1</td>\n",
       "      <td>1</td>\n",
       "      <td>0</td>\n",
       "      <td>NaN</td>\n",
       "      <td>NaN</td>\n",
       "      <td>NaN</td>\n",
       "      <td>NaN</td>\n",
       "      <td>Ejecutivo=0, Correos=1</td>\n",
       "      <td>2019-03</td>\n",
       "    </tr>\n",
       "    <tr>\n",
       "      <th>1630953</th>\n",
       "      <td>0</td>\n",
       "      <td>2019-04-01</td>\n",
       "      <td>1</td>\n",
       "      <td>3</td>\n",
       "      <td>0</td>\n",
       "      <td>NaN</td>\n",
       "      <td>NaN</td>\n",
       "      <td>NaN</td>\n",
       "      <td>NaN</td>\n",
       "      <td>Ejecutivo=0, Correos=3</td>\n",
       "      <td>2019-04</td>\n",
       "    </tr>\n",
       "    <tr>\n",
       "      <th>2174604</th>\n",
       "      <td>0</td>\n",
       "      <td>2019-05-01</td>\n",
       "      <td>1</td>\n",
       "      <td>0</td>\n",
       "      <td>0</td>\n",
       "      <td>NaN</td>\n",
       "      <td>NaN</td>\n",
       "      <td>NaN</td>\n",
       "      <td>NaN</td>\n",
       "      <td>Ejecutivo=0, Correos=0</td>\n",
       "      <td>2019-05</td>\n",
       "    </tr>\n",
       "    <tr>\n",
       "      <th>...</th>\n",
       "      <td>...</td>\n",
       "      <td>...</td>\n",
       "      <td>...</td>\n",
       "      <td>...</td>\n",
       "      <td>...</td>\n",
       "      <td>...</td>\n",
       "      <td>...</td>\n",
       "      <td>...</td>\n",
       "      <td>...</td>\n",
       "      <td>...</td>\n",
       "      <td>...</td>\n",
       "    </tr>\n",
       "    <tr>\n",
       "      <th>33162711</th>\n",
       "      <td>0</td>\n",
       "      <td>2024-02-01</td>\n",
       "      <td>1</td>\n",
       "      <td>3</td>\n",
       "      <td>0</td>\n",
       "      <td>NaN</td>\n",
       "      <td>NaN</td>\n",
       "      <td>NaN</td>\n",
       "      <td>NaN</td>\n",
       "      <td>Ejecutivo=0, Correos=3</td>\n",
       "      <td>2024-02</td>\n",
       "    </tr>\n",
       "    <tr>\n",
       "      <th>33706362</th>\n",
       "      <td>0</td>\n",
       "      <td>2024-03-01</td>\n",
       "      <td>1</td>\n",
       "      <td>3</td>\n",
       "      <td>0</td>\n",
       "      <td>NaN</td>\n",
       "      <td>NaN</td>\n",
       "      <td>NaN</td>\n",
       "      <td>NaN</td>\n",
       "      <td>Ejecutivo=0, Correos=3</td>\n",
       "      <td>2024-03</td>\n",
       "    </tr>\n",
       "    <tr>\n",
       "      <th>34250013</th>\n",
       "      <td>0</td>\n",
       "      <td>2024-04-01</td>\n",
       "      <td>1</td>\n",
       "      <td>2</td>\n",
       "      <td>0</td>\n",
       "      <td>NaN</td>\n",
       "      <td>NaN</td>\n",
       "      <td>NaN</td>\n",
       "      <td>NaN</td>\n",
       "      <td>Ejecutivo=0, Correos=2</td>\n",
       "      <td>2024-04</td>\n",
       "    </tr>\n",
       "    <tr>\n",
       "      <th>34793664</th>\n",
       "      <td>0</td>\n",
       "      <td>2024-05-01</td>\n",
       "      <td>1</td>\n",
       "      <td>2</td>\n",
       "      <td>1</td>\n",
       "      <td>7864785.0</td>\n",
       "      <td>267268.0</td>\n",
       "      <td>31.0</td>\n",
       "      <td>2.027869</td>\n",
       "      <td>Ejecutivo=1, Correos=2</td>\n",
       "      <td>2024-05</td>\n",
       "    </tr>\n",
       "    <tr>\n",
       "      <th>35337315</th>\n",
       "      <td>0</td>\n",
       "      <td>2024-06-01</td>\n",
       "      <td>1</td>\n",
       "      <td>1</td>\n",
       "      <td>0</td>\n",
       "      <td>NaN</td>\n",
       "      <td>NaN</td>\n",
       "      <td>NaN</td>\n",
       "      <td>NaN</td>\n",
       "      <td>Ejecutivo=0, Correos=1</td>\n",
       "      <td>2024-06</td>\n",
       "    </tr>\n",
       "  </tbody>\n",
       "</table>\n",
       "<p>66 rows × 11 columns</p>\n",
       "</div>"
      ],
      "text/plain": [
       "          Unnamed: 0_x       fecha  rut  n_correos  asg_ejec  Unnamed: 0_y  \\\n",
       "0                    0  2019-01-01    1          3         0           NaN   \n",
       "543651               0  2019-02-01    1          4         0           NaN   \n",
       "1087302              0  2019-03-01    1          1         0           NaN   \n",
       "1630953              0  2019-04-01    1          3         0           NaN   \n",
       "2174604              0  2019-05-01    1          0         0           NaN   \n",
       "...                ...         ...  ...        ...       ...           ...   \n",
       "33162711             0  2024-02-01    1          3         0           NaN   \n",
       "33706362             0  2024-03-01    1          3         0           NaN   \n",
       "34250013             0  2024-04-01    1          2         0           NaN   \n",
       "34793664             0  2024-05-01    1          2         1     7864785.0   \n",
       "35337315             0  2024-06-01    1          1         0           NaN   \n",
       "\n",
       "          Monto_Simulado  Plazo_Simulado  Tasa_Simulado  \\\n",
       "0                    NaN             NaN            NaN   \n",
       "543651               NaN             NaN            NaN   \n",
       "1087302              NaN             NaN            NaN   \n",
       "1630953              NaN             NaN            NaN   \n",
       "2174604              NaN             NaN            NaN   \n",
       "...                  ...             ...            ...   \n",
       "33162711             NaN             NaN            NaN   \n",
       "33706362             NaN             NaN            NaN   \n",
       "34250013             NaN             NaN            NaN   \n",
       "34793664        267268.0            31.0       2.027869   \n",
       "35337315             NaN             NaN            NaN   \n",
       "\n",
       "                     Tratamiento      mes  \n",
       "0         Ejecutivo=0, Correos=3  2019-01  \n",
       "543651    Ejecutivo=0, Correos=4  2019-02  \n",
       "1087302   Ejecutivo=0, Correos=1  2019-03  \n",
       "1630953   Ejecutivo=0, Correos=3  2019-04  \n",
       "2174604   Ejecutivo=0, Correos=0  2019-05  \n",
       "...                          ...      ...  \n",
       "33162711  Ejecutivo=0, Correos=3  2024-02  \n",
       "33706362  Ejecutivo=0, Correos=3  2024-03  \n",
       "34250013  Ejecutivo=0, Correos=2  2024-04  \n",
       "34793664  Ejecutivo=1, Correos=2  2024-05  \n",
       "35337315  Ejecutivo=0, Correos=1  2024-06  \n",
       "\n",
       "[66 rows x 11 columns]"
      ]
     },
     "execution_count": 21,
     "metadata": {},
     "output_type": "execute_result"
    }
   ],
   "source": [
    "# Extraer el mes y año de la columna 'fecha' y crear una nueva columna 'mes' en formato de periodo mensual\n",
    "# Se convierte 'fecha' al formato datetime y luego se usa 'dt.to_period('M')' para obtener el mes/año.\n",
    "df_simulaciones_info['mes'] = pd.to_datetime(df_simulaciones_info['fecha']).dt.to_period('M')\n",
    "\n",
    "# Filtrar y mostrar las filas donde 'rut' es igual a 1\n",
    "# Este filtro permite observar los registros específicos del cliente con 'rut' igual a 1, \n",
    "# lo cual es útil para verificar datos o analizar un cliente en particular.\n",
    "df_simulaciones_info[df_simulaciones_info['rut'] == 1]\n"
   ]
  },
  {
   "cell_type": "code",
   "execution_count": 22,
   "metadata": {},
   "outputs": [
    {
     "data": {
      "text/html": [
       "<div>\n",
       "<style scoped>\n",
       "    .dataframe tbody tr th:only-of-type {\n",
       "        vertical-align: middle;\n",
       "    }\n",
       "\n",
       "    .dataframe tbody tr th {\n",
       "        vertical-align: top;\n",
       "    }\n",
       "\n",
       "    .dataframe thead th {\n",
       "        text-align: right;\n",
       "    }\n",
       "</style>\n",
       "<table border=\"1\" class=\"dataframe\">\n",
       "  <thead>\n",
       "    <tr style=\"text-align: right;\">\n",
       "      <th></th>\n",
       "      <th>Unnamed: 0_x</th>\n",
       "      <th>fecha</th>\n",
       "      <th>rut</th>\n",
       "      <th>n_correos</th>\n",
       "      <th>asg_ejec</th>\n",
       "      <th>Unnamed: 0_y</th>\n",
       "      <th>Monto_Simulado</th>\n",
       "      <th>Plazo_Simulado</th>\n",
       "      <th>Tasa_Simulado</th>\n",
       "      <th>Tratamiento</th>\n",
       "      <th>mes</th>\n",
       "      <th>simulo</th>\n",
       "    </tr>\n",
       "  </thead>\n",
       "  <tbody>\n",
       "    <tr>\n",
       "      <th>0</th>\n",
       "      <td>0</td>\n",
       "      <td>2019-01-01</td>\n",
       "      <td>1</td>\n",
       "      <td>3</td>\n",
       "      <td>0</td>\n",
       "      <td>NaN</td>\n",
       "      <td>NaN</td>\n",
       "      <td>NaN</td>\n",
       "      <td>NaN</td>\n",
       "      <td>Ejecutivo=0, Correos=3</td>\n",
       "      <td>2019-01</td>\n",
       "      <td>0</td>\n",
       "    </tr>\n",
       "    <tr>\n",
       "      <th>543651</th>\n",
       "      <td>0</td>\n",
       "      <td>2019-02-01</td>\n",
       "      <td>1</td>\n",
       "      <td>4</td>\n",
       "      <td>0</td>\n",
       "      <td>NaN</td>\n",
       "      <td>NaN</td>\n",
       "      <td>NaN</td>\n",
       "      <td>NaN</td>\n",
       "      <td>Ejecutivo=0, Correos=4</td>\n",
       "      <td>2019-02</td>\n",
       "      <td>0</td>\n",
       "    </tr>\n",
       "    <tr>\n",
       "      <th>1087302</th>\n",
       "      <td>0</td>\n",
       "      <td>2019-03-01</td>\n",
       "      <td>1</td>\n",
       "      <td>1</td>\n",
       "      <td>0</td>\n",
       "      <td>NaN</td>\n",
       "      <td>NaN</td>\n",
       "      <td>NaN</td>\n",
       "      <td>NaN</td>\n",
       "      <td>Ejecutivo=0, Correos=1</td>\n",
       "      <td>2019-03</td>\n",
       "      <td>0</td>\n",
       "    </tr>\n",
       "    <tr>\n",
       "      <th>1630953</th>\n",
       "      <td>0</td>\n",
       "      <td>2019-04-01</td>\n",
       "      <td>1</td>\n",
       "      <td>3</td>\n",
       "      <td>0</td>\n",
       "      <td>NaN</td>\n",
       "      <td>NaN</td>\n",
       "      <td>NaN</td>\n",
       "      <td>NaN</td>\n",
       "      <td>Ejecutivo=0, Correos=3</td>\n",
       "      <td>2019-04</td>\n",
       "      <td>0</td>\n",
       "    </tr>\n",
       "    <tr>\n",
       "      <th>2174604</th>\n",
       "      <td>0</td>\n",
       "      <td>2019-05-01</td>\n",
       "      <td>1</td>\n",
       "      <td>0</td>\n",
       "      <td>0</td>\n",
       "      <td>NaN</td>\n",
       "      <td>NaN</td>\n",
       "      <td>NaN</td>\n",
       "      <td>NaN</td>\n",
       "      <td>Ejecutivo=0, Correos=0</td>\n",
       "      <td>2019-05</td>\n",
       "      <td>0</td>\n",
       "    </tr>\n",
       "    <tr>\n",
       "      <th>...</th>\n",
       "      <td>...</td>\n",
       "      <td>...</td>\n",
       "      <td>...</td>\n",
       "      <td>...</td>\n",
       "      <td>...</td>\n",
       "      <td>...</td>\n",
       "      <td>...</td>\n",
       "      <td>...</td>\n",
       "      <td>...</td>\n",
       "      <td>...</td>\n",
       "      <td>...</td>\n",
       "      <td>...</td>\n",
       "    </tr>\n",
       "    <tr>\n",
       "      <th>33162711</th>\n",
       "      <td>0</td>\n",
       "      <td>2024-02-01</td>\n",
       "      <td>1</td>\n",
       "      <td>3</td>\n",
       "      <td>0</td>\n",
       "      <td>NaN</td>\n",
       "      <td>NaN</td>\n",
       "      <td>NaN</td>\n",
       "      <td>NaN</td>\n",
       "      <td>Ejecutivo=0, Correos=3</td>\n",
       "      <td>2024-02</td>\n",
       "      <td>0</td>\n",
       "    </tr>\n",
       "    <tr>\n",
       "      <th>33706362</th>\n",
       "      <td>0</td>\n",
       "      <td>2024-03-01</td>\n",
       "      <td>1</td>\n",
       "      <td>3</td>\n",
       "      <td>0</td>\n",
       "      <td>NaN</td>\n",
       "      <td>NaN</td>\n",
       "      <td>NaN</td>\n",
       "      <td>NaN</td>\n",
       "      <td>Ejecutivo=0, Correos=3</td>\n",
       "      <td>2024-03</td>\n",
       "      <td>0</td>\n",
       "    </tr>\n",
       "    <tr>\n",
       "      <th>34250013</th>\n",
       "      <td>0</td>\n",
       "      <td>2024-04-01</td>\n",
       "      <td>1</td>\n",
       "      <td>2</td>\n",
       "      <td>0</td>\n",
       "      <td>NaN</td>\n",
       "      <td>NaN</td>\n",
       "      <td>NaN</td>\n",
       "      <td>NaN</td>\n",
       "      <td>Ejecutivo=0, Correos=2</td>\n",
       "      <td>2024-04</td>\n",
       "      <td>0</td>\n",
       "    </tr>\n",
       "    <tr>\n",
       "      <th>34793664</th>\n",
       "      <td>0</td>\n",
       "      <td>2024-05-01</td>\n",
       "      <td>1</td>\n",
       "      <td>2</td>\n",
       "      <td>1</td>\n",
       "      <td>7864785.0</td>\n",
       "      <td>267268.0</td>\n",
       "      <td>31.0</td>\n",
       "      <td>2.027869</td>\n",
       "      <td>Ejecutivo=1, Correos=2</td>\n",
       "      <td>2024-05</td>\n",
       "      <td>1</td>\n",
       "    </tr>\n",
       "    <tr>\n",
       "      <th>35337315</th>\n",
       "      <td>0</td>\n",
       "      <td>2024-06-01</td>\n",
       "      <td>1</td>\n",
       "      <td>1</td>\n",
       "      <td>0</td>\n",
       "      <td>NaN</td>\n",
       "      <td>NaN</td>\n",
       "      <td>NaN</td>\n",
       "      <td>NaN</td>\n",
       "      <td>Ejecutivo=0, Correos=1</td>\n",
       "      <td>2024-06</td>\n",
       "      <td>0</td>\n",
       "    </tr>\n",
       "  </tbody>\n",
       "</table>\n",
       "<p>66 rows × 12 columns</p>\n",
       "</div>"
      ],
      "text/plain": [
       "          Unnamed: 0_x       fecha  rut  n_correos  asg_ejec  Unnamed: 0_y  \\\n",
       "0                    0  2019-01-01    1          3         0           NaN   \n",
       "543651               0  2019-02-01    1          4         0           NaN   \n",
       "1087302              0  2019-03-01    1          1         0           NaN   \n",
       "1630953              0  2019-04-01    1          3         0           NaN   \n",
       "2174604              0  2019-05-01    1          0         0           NaN   \n",
       "...                ...         ...  ...        ...       ...           ...   \n",
       "33162711             0  2024-02-01    1          3         0           NaN   \n",
       "33706362             0  2024-03-01    1          3         0           NaN   \n",
       "34250013             0  2024-04-01    1          2         0           NaN   \n",
       "34793664             0  2024-05-01    1          2         1     7864785.0   \n",
       "35337315             0  2024-06-01    1          1         0           NaN   \n",
       "\n",
       "          Monto_Simulado  Plazo_Simulado  Tasa_Simulado  \\\n",
       "0                    NaN             NaN            NaN   \n",
       "543651               NaN             NaN            NaN   \n",
       "1087302              NaN             NaN            NaN   \n",
       "1630953              NaN             NaN            NaN   \n",
       "2174604              NaN             NaN            NaN   \n",
       "...                  ...             ...            ...   \n",
       "33162711             NaN             NaN            NaN   \n",
       "33706362             NaN             NaN            NaN   \n",
       "34250013             NaN             NaN            NaN   \n",
       "34793664        267268.0            31.0       2.027869   \n",
       "35337315             NaN             NaN            NaN   \n",
       "\n",
       "                     Tratamiento      mes  simulo  \n",
       "0         Ejecutivo=0, Correos=3  2019-01       0  \n",
       "543651    Ejecutivo=0, Correos=4  2019-02       0  \n",
       "1087302   Ejecutivo=0, Correos=1  2019-03       0  \n",
       "1630953   Ejecutivo=0, Correos=3  2019-04       0  \n",
       "2174604   Ejecutivo=0, Correos=0  2019-05       0  \n",
       "...                          ...      ...     ...  \n",
       "33162711  Ejecutivo=0, Correos=3  2024-02       0  \n",
       "33706362  Ejecutivo=0, Correos=3  2024-03       0  \n",
       "34250013  Ejecutivo=0, Correos=2  2024-04       0  \n",
       "34793664  Ejecutivo=1, Correos=2  2024-05       1  \n",
       "35337315  Ejecutivo=0, Correos=1  2024-06       0  \n",
       "\n",
       "[66 rows x 12 columns]"
      ]
     },
     "execution_count": 22,
     "metadata": {},
     "output_type": "execute_result"
    }
   ],
   "source": [
    "# Crear una nueva columna 'simulo' para indicar si el cliente tiene un registro de simulación\n",
    "# La columna 'Unnamed: 0_y' se utiliza para verificar si hay un valor no nulo, lo que implica que hay una simulación.\n",
    "# 'notna()' devuelve True para valores no nulos y False para valores nulos; luego, 'astype(int)' convierte estos valores a 1 (True) o 0 (False).\n",
    "df_simulaciones_info['simulo'] = df_simulaciones_info['Unnamed: 0_y'].notna().astype(int)\n",
    "\n",
    "# Filtrar y mostrar las filas donde 'rut' es igual a 1\n",
    "# Este filtro permite observar los registros específicos del cliente con 'rut' igual a 1, \n",
    "# útil para verificar si la columna 'simulo' refleja correctamente la presencia de simulaciones para este cliente.\n",
    "df_simulaciones_info[df_simulaciones_info['rut'] == 1]\n"
   ]
  },
  {
   "cell_type": "code",
   "execution_count": 23,
   "metadata": {},
   "outputs": [],
   "source": [
    "# Crear una copia del DataFrame 'df_estimar_elasticidad' con solo las columnas especificadas\n",
    "# 'df1' contiene las columnas 'rut', 'categoria_clusterizacion_numerica', 'tasa_optima' y 'probabilidad_aceptacion_optima'.\n",
    "# Esta copia es útil para trabajar con los datos de elasticidad y clusterización sin modificar el DataFrame original.\n",
    "df1 = df_estimar_elasticidad[['rut', 'categoria_clusterizacion_numerica', 'tasa_optima', 'probabilidad_aceptacion_optima']].copy()\n",
    "\n",
    "# Crear una copia del DataFrame 'df_simulaciones_info' con solo las columnas especificadas\n",
    "# 'df2' contiene las columnas 'rut', 'mes', 'Tratamiento' y 'simulo'.\n",
    "# Esta copia es útil para trabajar con los datos de tratamiento y simulación en un conjunto de datos reducido.\n",
    "df2 = df_simulaciones_info[['rut', 'mes', 'Tratamiento', 'simulo']].copy()\n"
   ]
  },
  {
   "cell_type": "code",
   "execution_count": 24,
   "metadata": {},
   "outputs": [],
   "source": [
    "def function_estimar_respuesta_a_tratamiento(df_estimar_elasticidad, df_simulaciones_info): #df1 es df_estimar_elasticidad y df2 es df_simulaciones_info\n",
    "    # Paso 1: Preparación de datos y mapeo de clusters\n",
    "    # Eliminar duplicados en 'df1' para tener un valor único de 'categoria_clusterizacion_numerica' por cada 'rut'.\n",
    "    df_estimar_elasticidad_unique = df_estimar_elasticidad.drop_duplicates(subset='rut')\n",
    "\n",
    "    # Crear un mapeo de 'rut' a 'categoria_clusterizacion_numerica' para asociar cada cliente a su cluster numérico.\n",
    "    rut_cluster_map = df_estimar_elasticidad_unique.set_index('rut')['categoria_clusterizacion_numerica']\n",
    "\n",
    "    # Mapear la categoría de cluster a cada 'rut' en 'df2' usando el mapeo creado\n",
    "    df_simulaciones_info['categoria_clusterizacion_numerica'] = df_simulaciones_info['rut'].map(rut_cluster_map)\n",
    "\n",
    "    # Eliminar filas donde 'categoria_clusterizacion_numerica' es nulo, es decir, aquellos 'rut' sin mapeo de cluster.\n",
    "    df_simulaciones_info = df_simulaciones_info.dropna(subset=['categoria_clusterizacion_numerica'])\n",
    "\n",
    "    # Conversión de tipos de datos\n",
    "    # Convertir 'categoria_clusterizacion_numerica' a entero para garantizar un tipo de dato consistente.\n",
    "    df_simulaciones_info['categoria_clusterizacion_numerica'] = df_simulaciones_info['categoria_clusterizacion_numerica'].astype(int)\n",
    "\n",
    "    # Convertir 'simulo' a numérico, reemplazando valores nulos por 0 y asegurando que sea un tipo de dato entero.\n",
    "    df_simulaciones_info['simulo'] = pd.to_numeric(df_simulaciones_info['simulo'], errors='coerce').fillna(0).astype(int)\n",
    "\n",
    "    # Convertir 'Tratamiento' a tipo de categoría para optimizar espacio y realizar operaciones categóricas.\n",
    "    df_simulaciones_info['Tratamiento'] = df_simulaciones_info['Tratamiento'].astype('category')\n",
    "\n",
    "    # Paso 2: Calcular el caso total (entradas por tratamiento sin importar el valor de 'simulo')\n",
    "    # Agrupar por 'categoria_clusterizacion_numerica' y 'Tratamiento' para contar el número total de registros en cada combinación.\n",
    "    total_entries_per_cluster_treatment = df_simulaciones_info.groupby(['categoria_clusterizacion_numerica', 'Tratamiento']).size().reset_index(name='caso_total')\n",
    "\n",
    "    # Paso 3: Calcular el caso favorable (entradas por tratamiento cuando 'simulo' == 1)\n",
    "    # Filtrar filas donde 'simulo' es 1 (clientes que realizaron una simulación)\n",
    "    df_simulations = df_simulaciones_info[df_simulaciones_info['simulo'] == 1]\n",
    "\n",
    "    # Agrupar por 'categoria_clusterizacion_numerica' y 'Tratamiento' para contar el número de registros favorables (simulaciones).\n",
    "    favorable_entries_per_cluster_treatment = df_simulations.groupby(['categoria_clusterizacion_numerica', 'Tratamiento']).size().reset_index(name='caso_favorable')\n",
    "\n",
    "    # Paso 4: Calcular la probabilidad de simulación como caso favorable / caso total\n",
    "    # Realizar un merge entre 'total_entries_per_cluster_treatment' y 'favorable_entries_per_cluster_treatment' en las columnas de cluster y tratamiento.\n",
    "    df_probabilities = total_entries_per_cluster_treatment.merge(\n",
    "        favorable_entries_per_cluster_treatment,\n",
    "        on=['categoria_clusterizacion_numerica', 'Tratamiento'],\n",
    "        how='left'\n",
    "    )\n",
    "\n",
    "    # Llenar valores nulos en 'caso_favorable' con 0, asegurando que solo las columnas numéricas estén afectadas.\n",
    "    df_probabilities['caso_favorable'] = df_probabilities['caso_favorable'].fillna(0).astype(int)\n",
    "\n",
    "    # Asegurar que 'caso_total' sea de tipo entero para evitar inconsistencias en los conteos.\n",
    "    df_probabilities['caso_total'] = df_probabilities['caso_total'].astype(int)\n",
    "\n",
    "    # Calcular la probabilidad de simulación como el cociente entre 'caso_favorable' y 'caso_total'.\n",
    "    df_probabilities['probabilidad_simular'] = df_probabilities['caso_favorable'] / df_probabilities['caso_total']\n",
    "\n",
    "    # Organizar las columnas del DataFrame resultante para facilitar su análisis.\n",
    "    df_probabilities = df_probabilities[[\n",
    "        'categoria_clusterizacion_numerica',\n",
    "        'Tratamiento',\n",
    "        'probabilidad_simular',\n",
    "        'caso_favorable',\n",
    "        'caso_total'\n",
    "    ]]\n",
    "\n",
    "    # Mostrar el DataFrame resultante con la probabilidad de simulación calculada para cada combinación de cluster y tratamiento.\n",
    "    return df_probabilities\n"
   ]
  },
  {
   "cell_type": "code",
   "execution_count": 25,
   "metadata": {},
   "outputs": [
    {
     "data": {
      "text/html": [
       "<div>\n",
       "<style scoped>\n",
       "    .dataframe tbody tr th:only-of-type {\n",
       "        vertical-align: middle;\n",
       "    }\n",
       "\n",
       "    .dataframe tbody tr th {\n",
       "        vertical-align: top;\n",
       "    }\n",
       "\n",
       "    .dataframe thead th {\n",
       "        text-align: right;\n",
       "    }\n",
       "</style>\n",
       "<table border=\"1\" class=\"dataframe\">\n",
       "  <thead>\n",
       "    <tr style=\"text-align: right;\">\n",
       "      <th></th>\n",
       "      <th>categoria_clusterizacion_numerica</th>\n",
       "      <th>Tratamiento</th>\n",
       "      <th>probabilidad_simular</th>\n",
       "      <th>caso_favorable</th>\n",
       "      <th>caso_total</th>\n",
       "    </tr>\n",
       "  </thead>\n",
       "  <tbody>\n",
       "    <tr>\n",
       "      <th>0</th>\n",
       "      <td>0</td>\n",
       "      <td>Ejecutivo=0, Correos=0</td>\n",
       "      <td>0.238938</td>\n",
       "      <td>27</td>\n",
       "      <td>113</td>\n",
       "    </tr>\n",
       "    <tr>\n",
       "      <th>1</th>\n",
       "      <td>0</td>\n",
       "      <td>Ejecutivo=0, Correos=1</td>\n",
       "      <td>0.201613</td>\n",
       "      <td>25</td>\n",
       "      <td>124</td>\n",
       "    </tr>\n",
       "    <tr>\n",
       "      <th>2</th>\n",
       "      <td>0</td>\n",
       "      <td>Ejecutivo=0, Correos=2</td>\n",
       "      <td>0.222222</td>\n",
       "      <td>18</td>\n",
       "      <td>81</td>\n",
       "    </tr>\n",
       "    <tr>\n",
       "      <th>3</th>\n",
       "      <td>0</td>\n",
       "      <td>Ejecutivo=0, Correos=3</td>\n",
       "      <td>0.247104</td>\n",
       "      <td>64</td>\n",
       "      <td>259</td>\n",
       "    </tr>\n",
       "    <tr>\n",
       "      <th>4</th>\n",
       "      <td>0</td>\n",
       "      <td>Ejecutivo=0, Correos=4</td>\n",
       "      <td>0.250000</td>\n",
       "      <td>96</td>\n",
       "      <td>384</td>\n",
       "    </tr>\n",
       "    <tr>\n",
       "      <th>...</th>\n",
       "      <td>...</td>\n",
       "      <td>...</td>\n",
       "      <td>...</td>\n",
       "      <td>...</td>\n",
       "      <td>...</td>\n",
       "    </tr>\n",
       "    <tr>\n",
       "      <th>859</th>\n",
       "      <td>107</td>\n",
       "      <td>Ejecutivo=0, Correos=3</td>\n",
       "      <td>0.152493</td>\n",
       "      <td>10569</td>\n",
       "      <td>69308</td>\n",
       "    </tr>\n",
       "    <tr>\n",
       "      <th>860</th>\n",
       "      <td>107</td>\n",
       "      <td>Ejecutivo=0, Correos=4</td>\n",
       "      <td>0.152522</td>\n",
       "      <td>16988</td>\n",
       "      <td>111381</td>\n",
       "    </tr>\n",
       "    <tr>\n",
       "      <th>861</th>\n",
       "      <td>107</td>\n",
       "      <td>Ejecutivo=1, Correos=0</td>\n",
       "      <td>0.341773</td>\n",
       "      <td>6007</td>\n",
       "      <td>17576</td>\n",
       "    </tr>\n",
       "    <tr>\n",
       "      <th>862</th>\n",
       "      <td>107</td>\n",
       "      <td>Ejecutivo=1, Correos=1</td>\n",
       "      <td>0.349486</td>\n",
       "      <td>6664</td>\n",
       "      <td>19068</td>\n",
       "    </tr>\n",
       "    <tr>\n",
       "      <th>863</th>\n",
       "      <td>107</td>\n",
       "      <td>Ejecutivo=1, Correos=2</td>\n",
       "      <td>0.349618</td>\n",
       "      <td>38531</td>\n",
       "      <td>110209</td>\n",
       "    </tr>\n",
       "  </tbody>\n",
       "</table>\n",
       "<p>864 rows × 5 columns</p>\n",
       "</div>"
      ],
      "text/plain": [
       "     categoria_clusterizacion_numerica             Tratamiento  \\\n",
       "0                                    0  Ejecutivo=0, Correos=0   \n",
       "1                                    0  Ejecutivo=0, Correos=1   \n",
       "2                                    0  Ejecutivo=0, Correos=2   \n",
       "3                                    0  Ejecutivo=0, Correos=3   \n",
       "4                                    0  Ejecutivo=0, Correos=4   \n",
       "..                                 ...                     ...   \n",
       "859                                107  Ejecutivo=0, Correos=3   \n",
       "860                                107  Ejecutivo=0, Correos=4   \n",
       "861                                107  Ejecutivo=1, Correos=0   \n",
       "862                                107  Ejecutivo=1, Correos=1   \n",
       "863                                107  Ejecutivo=1, Correos=2   \n",
       "\n",
       "     probabilidad_simular  caso_favorable  caso_total  \n",
       "0                0.238938              27         113  \n",
       "1                0.201613              25         124  \n",
       "2                0.222222              18          81  \n",
       "3                0.247104              64         259  \n",
       "4                0.250000              96         384  \n",
       "..                    ...             ...         ...  \n",
       "859              0.152493           10569       69308  \n",
       "860              0.152522           16988      111381  \n",
       "861              0.341773            6007       17576  \n",
       "862              0.349486            6664       19068  \n",
       "863              0.349618           38531      110209  \n",
       "\n",
       "[864 rows x 5 columns]"
      ]
     },
     "execution_count": 25,
     "metadata": {},
     "output_type": "execute_result"
    }
   ],
   "source": [
    "df_probabilities = function_estimar_respuesta_a_tratamiento(df1, df2)\n",
    "df_probabilities"
   ]
  },
  {
   "cell_type": "code",
   "execution_count": 26,
   "metadata": {},
   "outputs": [],
   "source": [
    "# Visualizar el DataFrame 'df_estimar_elasticidad' para revisar su contenido antes de realizar cálculos adicionales\n",
    "df_estimar_elasticidad\n",
    "\n",
    "# Calcular el valor promedio de 'Monto_Simulado' para cada 'categoria_clusterizacion_numerica'\n",
    "# Usamos 'groupby' para agrupar por 'categoria_clusterizacion_numerica' y 'transform(\"mean\")' para calcular el promedio.\n",
    "# Luego, 'transform' asigna este valor promedio a cada fila dentro de su grupo, creando una columna 'Monto_Simulado_mean' con estos promedios.\n",
    "df_estimar_elasticidad['Monto_Simulado_mean'] = df_estimar_elasticidad.groupby('categoria_clusterizacion_numerica')['Monto_Simulado'].transform('mean')\n",
    "df_estimar_elasticidad['Monto_Simulado_min'] = df_estimar_elasticidad.groupby('categoria_clusterizacion_numerica')['Monto_Simulado'].transform('min')\n",
    "df_estimar_elasticidad['Monto_Simulado_max'] = df_estimar_elasticidad.groupby('categoria_clusterizacion_numerica')['Monto_Simulado'].transform('max')\n",
    "df_estimar_elasticidad['Monto_Simulado_mode'] = df_estimar_elasticidad.groupby('categoria_clusterizacion_numerica')['Monto_Simulado'].transform(lambda x: x.mode().iloc[0])\n",
    "\n",
    "# Calcular el valor promedio de 'Plazo_Simulado' para cada 'categoria_clusterizacion_numerica'\n",
    "# Similar al cálculo anterior, 'groupby' agrupa los datos por 'categoria_clusterizacion_numerica', y 'transform(\"mean\")' calcula el promedio.\n",
    "# Se asigna el promedio resultante a cada fila dentro del grupo en la nueva columna 'Plazo_Simulado_mean'.\n",
    "df_estimar_elasticidad['Plazo_Simulado_mean'] = df_estimar_elasticidad.groupby('categoria_clusterizacion_numerica')['Plazo_Simulado'].transform('mean')\n",
    "df_estimar_elasticidad['Plazo_Simulado_min'] = df_estimar_elasticidad.groupby('categoria_clusterizacion_numerica')['Plazo_Simulado'].transform('min')\n",
    "df_estimar_elasticidad['Plazo_Simulado_max'] = df_estimar_elasticidad.groupby('categoria_clusterizacion_numerica')['Plazo_Simulado'].transform('max')\n",
    "df_estimar_elasticidad['Plazo_Simulado_mode'] = df_estimar_elasticidad.groupby('categoria_clusterizacion_numerica')['Plazo_Simulado'].transform(lambda x: x.mode().iloc[0])\n"
   ]
  },
  {
   "cell_type": "code",
   "execution_count": 27,
   "metadata": {},
   "outputs": [],
   "source": [
    "# Seleccionar solo las columnas necesarias del DataFrame 'df_estimar_elasticidad' para reducir su tamaño\n",
    "# 'df_estimar_elasticidad_small' contiene las columnas esenciales para el análisis:\n",
    "# 'categoria_clusterizacion_numerica', 'rut', 'tasa_optima', 'probabilidad_aceptacion_optima', 'Probabilidad_No_Pago',\n",
    "# 'Monto_Simulado_mean', y 'Plazo_Simulado_mean'.\n",
    "df_estimar_elasticidad_small = df_estimar_elasticidad[['categoria_clusterizacion_numerica', 'rut', 'tasa_optima', 'probabilidad_aceptacion_optima', 'Probabilidad_No_Pago', \n",
    "                                                       'Monto_Simulado_mean', 'Monto_Simulado_min', 'Monto_Simulado_max', 'Monto_Simulado_mode',\n",
    "                                                       'Plazo_Simulado_mean', 'Plazo_Simulado_min', 'Plazo_Simulado_max', 'Plazo_Simulado_mode']]\n",
    "\n",
    "# Seleccionar solo las columnas necesarias del DataFrame 'df_probabilities' para reducir su tamaño\n",
    "# 'df_probabilities_small' contiene las columnas 'categoria_clusterizacion_numerica', 'probabilidad_simular', y 'Tratamiento'.\n",
    "df_probabilities_small = df_probabilities[['categoria_clusterizacion_numerica', 'probabilidad_simular', 'Tratamiento']]\n",
    "\n",
    "# Realizar un merge entre 'df_estimar_elasticidad_small' y 'df_probabilities_small' usando 'categoria_clusterizacion_numerica' como clave\n",
    "# Esta unión ('how=\"left\"') mantiene todas las filas de 'df_estimar_elasticidad_small' y añade la información de 'df_probabilities_small'\n",
    "# cuando hay coincidencias en 'categoria_clusterizacion_numerica'. El resultado se guarda en 'df_asignacion_de_tratamientos'.\n",
    "df_asignacion_de_tratamientos = pd.merge(df_estimar_elasticidad_small, df_probabilities_small, on='categoria_clusterizacion_numerica', how='left')\n"
   ]
  },
  {
   "cell_type": "code",
   "execution_count": 28,
   "metadata": {},
   "outputs": [],
   "source": [
    "# Crear un nombre de carpeta con una marca de tiempo actual\n",
    "# 'strftime' genera la fecha y hora actual en el formato \"YYYYMMDD_HHMMSS\".\n",
    "# Esto se usa para crear una carpeta única 'folder_name' donde se guardarán los archivos.\n",
    "timestamp = datetime.now().strftime(\"%Y%m%d_%H%M%S\")\n",
    "folder_name = f\"cluster_data_{timestamp}\"\n",
    "os.makedirs(folder_name, exist_ok=True)  # Crear la carpeta; 'exist_ok=True' evita errores si ya existe.\n",
    "\n",
    "# Guardar información de los clusters\n",
    "# Seleccionar las columnas relevantes sobre cada cluster desde 'df_estimar_elasticidad_small' y eliminar duplicados.\n",
    "# El DataFrame 'df_cluster_info' contiene datos únicos de cada cluster como el monto y plazo medio simulado, la probabilidad de aceptación óptima y la tasa óptima.\n",
    "df_cluster_info = df_estimar_elasticidad_small[['categoria_clusterizacion_numerica', 'probabilidad_aceptacion_optima', 'tasa_optima',\n",
    "                                                'Monto_Simulado_mean', 'Monto_Simulado_min', 'Monto_Simulado_max', 'Monto_Simulado_mode',\n",
    "                                                'Plazo_Simulado_mean', 'Plazo_Simulado_min', 'Plazo_Simulado_max', 'Plazo_Simulado_mode']].drop_duplicates()\n",
    "df_cluster_info.to_csv(f\"{folder_name}/cluster_info.csv\", index=False)\n",
    "\n",
    "# Guardar las probabilidades y tratamiento\n",
    "# Seleccionar columnas relevantes de 'df_probabilities_small' para almacenar la probabilidad de simulación y tratamiento asignado para cada cluster.\n",
    "# 'df_probabilities_treatment' contiene esta información única por cada combinación de cluster y tratamiento.\n",
    "df_probabilities_treatment = df_probabilities_small[['categoria_clusterizacion_numerica', 'probabilidad_simular', 'Tratamiento']].drop_duplicates()\n",
    "df_probabilities_treatment.to_csv(f\"{folder_name}/probabilities_treatment.csv\", index=False)\n",
    "\n",
    "# Guardar información del RUT\n",
    "# Seleccionar columnas clave sobre cada cliente ('rut') desde 'df_estimar_elasticidad_small' y eliminar duplicados.\n",
    "# 'df_rut_info' contiene el 'rut', la categoría de cluster y la probabilidad de no pago para cada cliente, sin registros duplicados.\n",
    "df_rut_info = df_estimar_elasticidad_small[['rut', 'categoria_clusterizacion_numerica', 'Probabilidad_No_Pago']].drop_duplicates()\n",
    "df_rut_info.to_csv(f\"{folder_name}/rut_info.csv\", index=False)\n"
   ]
  },
  {
   "cell_type": "markdown",
   "metadata": {},
   "source": [
    "# 6. Modelo de asignacion"
   ]
  },
  {
   "cell_type": "markdown",
   "metadata": {},
   "source": [
    "## Modelo de asignacion que itera por cliente"
   ]
  },
  {
   "cell_type": "code",
   "execution_count": 29,
   "metadata": {},
   "outputs": [],
   "source": [
    "# # Complete Optimized Code: Data Processing and Optimization\n",
    "\n",
    "# import pandas as pd\n",
    "# import os\n",
    "# import numpy as np\n",
    "# from gurobipy import Model, GRB, quicksum\n",
    "\n",
    "# # -------------------------------\n",
    "# # Data Processing and Preprocessing\n",
    "# # -------------------------------\n",
    "\n",
    "# # Define the base folder and mappings\n",
    "# base_folder = \"cluster_data_20241106_020021/\"\n",
    "# tratamiento_map = {\n",
    "#     \"Ejecutivo=0, Correos=0\": 1, \"Ejecutivo=0, Correos=1\": 2,\n",
    "#     \"Ejecutivo=0, Correos=2\": 3, \"Ejecutivo=0, Correos=3\": 4,\n",
    "#     \"Ejecutivo=0, Correos=4\": 5, \"Ejecutivo=1, Correos=0\": 6,\n",
    "#     \"Ejecutivo=1, Correos=1\": 7, \"Ejecutivo=1, Correos=2\": 8\n",
    "# }\n",
    "\n",
    "# # File paths\n",
    "# probabilities_file = os.path.join(base_folder, \"probabilities_treatment.csv\")\n",
    "# rut_info_file = os.path.join(base_folder, \"rut_info.csv\")\n",
    "# cluster_info_file = os.path.join(base_folder, \"cluster_info.csv\")\n",
    "\n",
    "# # Parameters\n",
    "# costosms = 100\n",
    "# capacidad_ejecutivos = 205000\n",
    "\n",
    "# # Step 1: Load and map 'tratamiento_id' in the probabilities data\n",
    "# print(\"Loading and processing probabilities data...\")\n",
    "# df_probabilities = df_probabilities_treatment\n",
    "# df_probabilities['tratamiento_id'] = df_probabilities['Tratamiento'].map(tratamiento_map)\n",
    "\n",
    "# # Step 2: Create 'tratamientos' list and merge with rut_info\n",
    "# print(\"Merging probabilities with rut_info...\")\n",
    "# df_probabilities['tratamientos'] = df_probabilities[['probabilidad_simular', 'tratamiento_id']].values.tolist()\n",
    "# grouped_prob = df_probabilities.groupby('categoria_clusterizacion_numerica')['tratamientos'].apply(list).reset_index()\n",
    "\n",
    "# df_rut_info = df_rut_info\n",
    "# df_rut_info = df_rut_info.merge(grouped_prob, on='categoria_clusterizacion_numerica', how='left')\n",
    "\n",
    "# # Step 3: Merge rut_info with cluster_info\n",
    "# print(\"Merging rut_info with cluster_info...\")\n",
    "# df_cluster_info = df_cluster_info\n",
    "# df_rut_info = df_rut_info.merge(df_cluster_info, on='categoria_clusterizacion_numerica', how='left')\n",
    "\n",
    "# # Step 4: Calculate 'RC'\n",
    "# print(\"Calculating RC...\")\n",
    "# df_rut_info['tasa_optima'] /= 100\n",
    "# df_rut_info['RC'] = (\n",
    "#     (df_rut_info['Plazo_Simulado_mean'] * df_rut_info['Monto_Simulado_mean'] * df_rut_info['tasa_optima'] *\n",
    "#      ((1 + df_rut_info['tasa_optima']) ** df_rut_info['Plazo_Simulado_mean'])) /\n",
    "#     (((1 + df_rut_info['tasa_optima']) ** df_rut_info['Plazo_Simulado_mean']) - 1)\n",
    "# ) - df_rut_info['Monto_Simulado_mean']\n",
    "\n",
    "# # -------------------------------\n",
    "# # Data Preparation for Optimization\n",
    "# # -------------------------------\n",
    "\n",
    "# # Convert 'tratamientos' to numpy array to improve indexing performance\n",
    "# profits = np.array([\n",
    "#     [\n",
    "#         (row['RC'] * (1 - row['Probabilidad_No_Pago']) * row['probabilidad_aceptacion_optima'] * row['tratamientos'][t][0]) - \n",
    "#         (row['tratamientos'][t][1] * costosms)\n",
    "#         for t in range(8)\n",
    "#     ]\n",
    "#     for _, row in df_rut_info.iterrows()\n",
    "# ])\n",
    "\n",
    "# # Initialize model\n",
    "# model = Model(\"Maximizar_Ganancias\")\n",
    "# model.ModelSense = GRB.MAXIMIZE\n",
    "\n",
    "# # Create decision variables and set objective\n",
    "# n_clients, n_treatments = profits.shape\n",
    "# variables = {}\n",
    "\n",
    "# for i in range(n_clients):\n",
    "#     variables[i] = {}\n",
    "#     for t in range(n_treatments):\n",
    "#         if profits[i, t] > 0:\n",
    "#             variables[i][t] = model.addVar(vtype=GRB.BINARY, name=f\"x_{i}_{t}\")\n",
    "\n",
    "# model.setObjective(\n",
    "#     quicksum(variables[i][t] * profits[i, t] for i in variables for t in variables[i])\n",
    "# )\n",
    "\n",
    "# # Constraint: Each client receives exactly one treatment\n",
    "# for i in variables:\n",
    "#     model.addConstr(quicksum(variables[i].values()) == 1, name=f\"OneTreatmentPerClient_{i}\")\n",
    "\n",
    "# # Capacity constraint for executives\n",
    "# model.addConstr(\n",
    "#     quicksum(variables[i][t] for i in variables for t in variables[i] if t in [5, 6, 7]) <= capacidad_ejecutivos,\n",
    "#     name=\"CapacityConstraint\"\n",
    "# )\n",
    "\n",
    "# # Cluster consistency\n",
    "# clusters = df_rut_info.groupby(\"categoria_clusterizacion_numerica\").indices\n",
    "# for cluster_id, indices_cluster in clusters.items():\n",
    "#     indices_list = list(indices_cluster)\n",
    "#     leader_index = indices_list[0]\n",
    "#     for t in variables[leader_index]:\n",
    "#         leader_var = variables[leader_index][t]\n",
    "#         for i in indices_list[1:]:\n",
    "#             if t in variables[i]:\n",
    "#                 model.addConstr(variables[i][t] == leader_var, name=f\"ClusterConsistency_{cluster_id}_{t}\")"
   ]
  },
  {
   "cell_type": "code",
   "execution_count": 30,
   "metadata": {},
   "outputs": [],
   "source": [
    "\n",
    "# # Initialize model\n",
    "# model = Model(\"Maximizar_Ganancias\")\n",
    "# model.ModelSense = GRB.MAXIMIZE\n",
    "\n",
    "# # Create decision variables and set objective\n",
    "# n_clients, n_treatments = profits.shape\n",
    "# variables = {}\n",
    "\n",
    "# for i in range(n_clients):\n",
    "#     variables[i] = {}\n",
    "#     for t in range(n_treatments):\n",
    "#         if profits[i, t] > 0:\n",
    "#             variables[i][t] = model.addVar(vtype=GRB.BINARY, name=f\"x_{i}_{t}\")\n",
    "\n",
    "# model.setObjective(\n",
    "#     quicksum(variables[i][t] * profits[i, t] for i in variables for t in variables[i])\n",
    "# )\n",
    "\n",
    "# # Constraint: Each client receives exactly one treatment\n",
    "# for i in variables:\n",
    "#     model.addConstr(quicksum(variables[i].values()) == 1, name=f\"OneTreatmentPerClient_{i}\")\n",
    "\n",
    "# # Capacity constraint for executives\n",
    "# model.addConstr(\n",
    "#     quicksum(variables[i][t] for i in variables for t in variables[i] if t in [5, 6, 7]) <= capacidad_ejecutivos,\n",
    "#     name=\"CapacityConstraint\"\n",
    "# )\n",
    "\n",
    "# # Cluster consistency\n",
    "# clusters = df_rut_info.groupby(\"categoria_clusterizacion_numerica\").indices\n",
    "# for cluster_id, indices_cluster in clusters.items():\n",
    "#     indices_list = list(indices_cluster)\n",
    "#     leader_index = indices_list[0]\n",
    "#     for t in variables[leader_index]:\n",
    "#         leader_var = variables[leader_index][t]\n",
    "#         for i in indices_list[1:]:\n",
    "#             if t in variables[i]:\n",
    "#                 model.addConstr(variables[i][t] == leader_var, name=f\"ClusterConsistency_{cluster_id}_{t}\")\n",
    "\n",
    "# # Optimize the model\n",
    "# model.optimize()\n",
    "\n",
    "# # Check if the optimization was successful\n",
    "# if model.Status == GRB.OPTIMAL:\n",
    "#     # -------------------------------\n",
    "#     # Extracting and Displaying Results\n",
    "#     # -------------------------------\n",
    "\n",
    "#     print(\"Extracting results...\")\n",
    "\n",
    "#     # Assign treatments per cluster based on the optimization results\n",
    "#     resultados_por_cluster = {}\n",
    "#     for cluster_id, indices_cluster in clusters.items():\n",
    "#         leader_index = list(indices_cluster)[0]\n",
    "#         for t in variables[leader_index]:\n",
    "#             if variables[leader_index][t].X > 0.5:\n",
    "#                 resultados_por_cluster[cluster_id] = t\n",
    "#                 break\n",
    "\n",
    "#     # Calculate total profits\n",
    "#     ganancias_totales = model.ObjVal\n",
    "\n",
    "#     # Display results\n",
    "#     print(\"\\nTratamientos asignados por cluster:\")\n",
    "#     for cluster_id, tratamiento in resultados_por_cluster.items():\n",
    "#         print(f\"Cluster {cluster_id}: Tratamiento {tratamiento + 1}\")\n",
    "\n",
    "#     print(f\"\\nGanancias totales: {ganancias_totales:.2f}\")\n",
    "\n",
    "#     # -------------------------------\n",
    "#     # Calculating Executive Usage\n",
    "#     # -------------------------------\n",
    "    \n",
    "#     # Count the number of executives used for treatments 5, 6, and 7\n",
    "#     executives_used = sum(\n",
    "#         1 for i in variables for t in variables[i] if t in [5, 6, 7] and variables[i][t].X > 0.5\n",
    "#     )\n",
    "#     executives_remaining = capacidad_ejecutivos - executives_used\n",
    "\n",
    "#     # Display executive usage summary\n",
    "#     print(f\"\\nExecutives used: {executives_used}\")\n",
    "#     print(f\"Executives remaining: {executives_remaining}\")\n",
    "\n",
    "# else:\n",
    "#     print(\"Optimization did not reach an optimal solution.\")\n",
    "# print(\"Optimization complete.\")"
   ]
  },
  {
   "cell_type": "code",
   "execution_count": 31,
   "metadata": {},
   "outputs": [],
   "source": [
    "# from collections import Counter\n",
    "\n",
    "# for cluster_id, tratamiento in resultados_por_cluster.items():\n",
    "#     # Count the number of times each treatment is assigned\n",
    "#     treatment_counts = Counter(resultados_por_cluster.values())\n",
    "\n",
    "# # Print the counts for each treatment\n",
    "# for treatment, count in treatment_counts.items():\n",
    "#     print(f\"Treatment {treatment + 1}: {count} times\")"
   ]
  },
  {
   "cell_type": "markdown",
   "metadata": {},
   "source": [
    "## Modelo de asignacion que itera por cluster"
   ]
  },
  {
   "cell_type": "code",
   "execution_count": null,
   "metadata": {},
   "outputs": [],
   "source": []
  },
  {
   "cell_type": "code",
   "execution_count": 32,
   "metadata": {},
   "outputs": [
    {
     "name": "stdout",
     "output_type": "stream",
     "text": [
      "Loading and processing probabilities data...\n",
      "Merging probabilities with rut_info...\n",
      "Merging rut_info with cluster_info...\n",
      "Calculating RC...\n",
      "Set parameter Username\n",
      "Academic license - for non-commercial use only - expires 2025-11-06\n",
      "Gurobi Optimizer version 11.0.3 build v11.0.3rc0 (win64 - Windows 10.0 (19045.2))\n",
      "\n",
      "CPU model: AMD Ryzen 5 2500U with Radeon Vega Mobile Gfx, instruction set [SSE2|AVX|AVX2]\n",
      "Thread count: 4 physical cores, 8 logical processors, using up to 8 threads\n",
      "\n",
      "Optimize a model with 109 rows, 864 columns and 1188 nonzeros\n",
      "Model fingerprint: 0xb58db2b5\n",
      "Variable types: 0 continuous, 864 integer (864 binary)\n",
      "Coefficient statistics:\n",
      "  Matrix range     [1e+00, 2e+04]\n",
      "  Objective range  [3e+04, 1e+10]\n",
      "  Bounds range     [1e+00, 1e+00]\n",
      "  RHS range        [1e+00, 2e+05]\n",
      "Warning: Model contains large objective coefficients\n",
      "         Consider reformulating model or setting NumericFocus parameter\n",
      "         to avoid numerical issues.\n",
      "Found heuristic solution: objective 5.130598e+10\n",
      "Presolve removed 108 rows and 756 columns\n",
      "Presolve time: 0.06s\n",
      "Presolved: 1 rows, 108 columns, 108 nonzeros\n",
      "Found heuristic solution: objective 1.156024e+11\n",
      "Variable types: 0 continuous, 108 integer (108 binary)\n",
      "Found heuristic solution: objective 1.162303e+11\n",
      "\n",
      "Root relaxation: objective 1.189366e+11, 1 iterations, 0.01 seconds (0.00 work units)\n",
      "\n",
      "    Nodes    |    Current Node    |     Objective Bounds      |     Work\n",
      " Expl Unexpl |  Obj  Depth IntInf | Incumbent    BestBd   Gap | It/Node Time\n",
      "\n",
      "     0     0 1.1894e+11    0    1 1.1623e+11 1.1894e+11  2.33%     -    0s\n",
      "H    0     0                    1.182052e+11 1.1894e+11  0.62%     -    0s\n",
      "H    0     0                    1.188775e+11 1.1894e+11  0.05%     -    1s\n",
      "     0     0 1.1891e+11    0    3 1.1888e+11 1.1891e+11  0.03%     -    1s\n",
      "H    0     1                    1.188848e+11 1.1891e+11  0.02%     -    1s\n",
      "\n",
      "Cutting planes:\n",
      "  Cover: 2\n",
      "\n",
      "Explored 1 nodes (5 simplex iterations) in 1.23 seconds (0.00 work units)\n",
      "Thread count was 8 (of 8 available processors)\n",
      "\n",
      "Solution count 6: 1.18885e+11 1.18878e+11 1.18205e+11 ... 5.1306e+10\n",
      "\n",
      "Optimal solution found (tolerance 1.00e-04)\n",
      "Best objective 1.188847755725e+11, best bound 1.188847755725e+11, gap 0.0000%\n",
      "Extracting results...\n",
      "\n",
      "Tratamientos asignados por cluster:\n",
      "Cluster 0: Tratamiento 8\n",
      "Cluster 1: Tratamiento 1\n",
      "Cluster 2: Tratamiento 7\n",
      "Cluster 3: Tratamiento 6\n",
      "Cluster 4: Tratamiento 4\n",
      "Cluster 5: Tratamiento 4\n",
      "Cluster 6: Tratamiento 8\n",
      "Cluster 7: Tratamiento 4\n",
      "Cluster 8: Tratamiento 5\n",
      "Cluster 9: Tratamiento 8\n",
      "Cluster 10: Tratamiento 5\n",
      "Cluster 11: Tratamiento 5\n",
      "Cluster 12: Tratamiento 8\n",
      "Cluster 13: Tratamiento 5\n",
      "Cluster 14: Tratamiento 5\n",
      "Cluster 15: Tratamiento 8\n",
      "Cluster 16: Tratamiento 4\n",
      "Cluster 17: Tratamiento 8\n",
      "Cluster 18: Tratamiento 8\n",
      "Cluster 19: Tratamiento 5\n",
      "Cluster 20: Tratamiento 5\n",
      "Cluster 21: Tratamiento 8\n",
      "Cluster 22: Tratamiento 5\n",
      "Cluster 23: Tratamiento 5\n",
      "Cluster 24: Tratamiento 8\n",
      "Cluster 25: Tratamiento 5\n",
      "Cluster 26: Tratamiento 5\n",
      "Cluster 27: Tratamiento 8\n",
      "Cluster 28: Tratamiento 5\n",
      "Cluster 29: Tratamiento 5\n",
      "Cluster 30: Tratamiento 8\n",
      "Cluster 31: Tratamiento 5\n",
      "Cluster 32: Tratamiento 8\n",
      "Cluster 33: Tratamiento 8\n",
      "Cluster 34: Tratamiento 5\n",
      "Cluster 35: Tratamiento 5\n",
      "Cluster 36: Tratamiento 8\n",
      "Cluster 37: Tratamiento 5\n",
      "Cluster 38: Tratamiento 5\n",
      "Cluster 39: Tratamiento 8\n",
      "Cluster 40: Tratamiento 5\n",
      "Cluster 41: Tratamiento 5\n",
      "Cluster 42: Tratamiento 8\n",
      "Cluster 43: Tratamiento 5\n",
      "Cluster 44: Tratamiento 5\n",
      "Cluster 45: Tratamiento 8\n",
      "Cluster 46: Tratamiento 5\n",
      "Cluster 47: Tratamiento 5\n",
      "Cluster 48: Tratamiento 8\n",
      "Cluster 49: Tratamiento 5\n",
      "Cluster 50: Tratamiento 5\n",
      "Cluster 51: Tratamiento 8\n",
      "Cluster 52: Tratamiento 5\n",
      "Cluster 53: Tratamiento 5\n",
      "Cluster 54: Tratamiento 8\n",
      "Cluster 55: Tratamiento 3\n",
      "Cluster 56: Tratamiento 8\n",
      "Cluster 57: Tratamiento 7\n",
      "Cluster 58: Tratamiento 5\n",
      "Cluster 59: Tratamiento 7\n",
      "Cluster 60: Tratamiento 7\n",
      "Cluster 61: Tratamiento 1\n",
      "Cluster 62: Tratamiento 7\n",
      "Cluster 63: Tratamiento 8\n",
      "Cluster 64: Tratamiento 4\n",
      "Cluster 65: Tratamiento 7\n",
      "Cluster 66: Tratamiento 8\n",
      "Cluster 67: Tratamiento 4\n",
      "Cluster 68: Tratamiento 8\n",
      "Cluster 69: Tratamiento 8\n",
      "Cluster 70: Tratamiento 3\n",
      "Cluster 71: Tratamiento 6\n",
      "Cluster 72: Tratamiento 8\n",
      "Cluster 73: Tratamiento 3\n",
      "Cluster 74: Tratamiento 3\n",
      "Cluster 75: Tratamiento 7\n",
      "Cluster 76: Tratamiento 5\n",
      "Cluster 77: Tratamiento 8\n",
      "Cluster 78: Tratamiento 8\n",
      "Cluster 79: Tratamiento 4\n",
      "Cluster 80: Tratamiento 8\n",
      "Cluster 81: Tratamiento 8\n",
      "Cluster 82: Tratamiento 5\n",
      "Cluster 83: Tratamiento 8\n",
      "Cluster 84: Tratamiento 8\n",
      "Cluster 85: Tratamiento 4\n",
      "Cluster 86: Tratamiento 8\n",
      "Cluster 87: Tratamiento 8\n",
      "Cluster 88: Tratamiento 5\n",
      "Cluster 89: Tratamiento 8\n",
      "Cluster 90: Tratamiento 8\n",
      "Cluster 91: Tratamiento 4\n",
      "Cluster 92: Tratamiento 5\n",
      "Cluster 93: Tratamiento 7\n",
      "Cluster 94: Tratamiento 3\n",
      "Cluster 95: Tratamiento 5\n",
      "Cluster 96: Tratamiento 8\n",
      "Cluster 97: Tratamiento 5\n",
      "Cluster 98: Tratamiento 5\n",
      "Cluster 99: Tratamiento 7\n",
      "Cluster 100: Tratamiento 5\n",
      "Cluster 101: Tratamiento 4\n",
      "Cluster 102: Tratamiento 8\n",
      "Cluster 103: Tratamiento 5\n",
      "Cluster 104: Tratamiento 5\n",
      "Cluster 105: Tratamiento 7\n",
      "Cluster 106: Tratamiento 5\n",
      "Cluster 107: Tratamiento 5\n",
      "\n",
      "Ganancias totales: 118884775572.52\n",
      "\n",
      "Executives used: 204999\n",
      "Executives remaining: 1\n",
      "Optimization complete.\n"
     ]
    }
   ],
   "source": [
    "# -------------------------------\n",
    "# Procesamiento y preprocesamiento de datos\n",
    "# -------------------------------\n",
    "\n",
    "# Definir la carpeta base y el mapeo de tratamientos\n",
    "base_folder = \"cluster_data_20241106_020021/\"  # Carpeta donde se encuentran los archivos de datos\n",
    "tratamiento_map = {  # Mapeo de los tratamientos específicos a identificadores numéricos\n",
    "    \"Ejecutivo=0, Correos=0\": 1, \"Ejecutivo=0, Correos=1\": 2,\n",
    "    \"Ejecutivo=0, Correos=2\": 3, \"Ejecutivo=0, Correos=3\": 4,\n",
    "    \"Ejecutivo=0, Correos=4\": 5, \"Ejecutivo=1, Correos=0\": 6,\n",
    "    \"Ejecutivo=1, Correos=1\": 7, \"Ejecutivo=1, Correos=2\": 8\n",
    "}\n",
    "\n",
    "# Definir las rutas de los archivos\n",
    "probabilities_file = os.path.join(base_folder, \"probabilities_treatment.csv\")\n",
    "rut_info_file = os.path.join(base_folder, \"rut_info.csv\")\n",
    "cluster_info_file = os.path.join(base_folder, \"cluster_info.csv\")\n",
    "\n",
    "# Parámetros\n",
    "costosms = 100  # Costo de cada mensaje SMS\n",
    "capacidad_ejecutivos = 205000  # Capacidad máxima en términos de tiempo de los ejecutivos\n",
    "\n",
    "# Paso 1: Cargar y mapear 'tratamiento_id' en los datos de probabilidades\n",
    "print(\"Loading and processing probabilities data...\")\n",
    "df_probabilities = df_probabilities_treatment\n",
    "df_probabilities['tratamiento_id'] = df_probabilities['Tratamiento'].map(tratamiento_map)\n",
    "\n",
    "# Paso 2: Crear lista de tratamientos y combinar con rut_info\n",
    "print(\"Merging probabilities with rut_info...\")\n",
    "df_probabilities['tratamientos'] = df_probabilities[['probabilidad_simular', 'tratamiento_id']].values.tolist()\n",
    "grouped_prob = df_probabilities.groupby('categoria_clusterizacion_numerica')['tratamientos'].apply(list).reset_index()\n",
    "\n",
    "df_rut_info = df_rut_info\n",
    "df_rut_info = df_rut_info.merge(grouped_prob, on='categoria_clusterizacion_numerica', how='left')\n",
    "\n",
    "# Paso 3: Combinar rut_info con cluster_info\n",
    "print(\"Merging rut_info with cluster_info...\")\n",
    "df_cluster_info = df_cluster_info\n",
    "df_rut_info = df_rut_info.merge(df_cluster_info, on='categoria_clusterizacion_numerica', how='left')\n",
    "\n",
    "# Paso 3.5: Agrupar información por cluster en 'rut_info'\n",
    "# Agrupar por 'categoria_clusterizacion_numerica' y agregar según lo especificado\n",
    "df_grouped = df_rut_info.groupby('categoria_clusterizacion_numerica').agg({\n",
    "    'Probabilidad_No_Pago': 'mean',  # Promedio de probabilidad de no pago\n",
    "    'tratamientos': lambda x: list(x),  # Lista de opciones de tratamiento únicas en cada cluster\n",
    "    'Monto_Simulado_mean': 'mean',\n",
    "    'Plazo_Simulado_mean': 'mean',\n",
    "    'probabilidad_aceptacion_optima': 'mean',\n",
    "    'tasa_optima': 'mean',\n",
    "    'rut': 'count'  # Conteo del número de clientes ('rut') en cada cluster\n",
    "}).rename(columns={'rut': 'n_clientes'}).reset_index()\n",
    "\n",
    "# Paso 4: Calcular 'RC' (Revenue calculado)\n",
    "print(\"Calculating RC...\")\n",
    "df_grouped['tasa_optima'] /= 100  # Convertir tasa óptima a decimal\n",
    "df_grouped['RC'] = (\n",
    "    (df_grouped['Plazo_Simulado_mean'] * df_grouped['Monto_Simulado_mean'] * df_grouped['tasa_optima'] *\n",
    "     ((1 + df_grouped['tasa_optima']) ** df_grouped['Plazo_Simulado_mean'])) /\n",
    "    (((1 + df_grouped['tasa_optima']) ** df_grouped['Plazo_Simulado_mean']) - 1)\n",
    ") - df_grouped['Monto_Simulado_mean']\n",
    "\n",
    "# -------------------------------\n",
    "# Preparación de datos para optimización\n",
    "# -------------------------------\n",
    "\n",
    "# Convertir 'tratamientos' a un arreglo de numpy para mejorar la indexación\n",
    "# Desarrollar y preparar 'tratamientos' para indexación adecuada\n",
    "profits = np.array([\n",
    "    [\n",
    "        row['n_clientes'] * (row['RC'] * (1 - row['Probabilidad_No_Pago']) * row['probabilidad_aceptacion_optima'] * row['tratamientos'][0][t][0]) - \n",
    "        (row['tratamientos'][0][t][1] * costosms)\n",
    "        for t in range(8)\n",
    "    ]\n",
    "    for _, row in df_grouped.iterrows()\n",
    "])\n",
    "\n",
    "# Inicializar el modelo de optimización\n",
    "model = Model(\"Maximizar_Ganancias\")\n",
    "model.ModelSense = GRB.MAXIMIZE\n",
    "\n",
    "# Crear variables de decisión y definir el objetivo\n",
    "n_clients, n_treatments = profits.shape\n",
    "variables = {}\n",
    "\n",
    "for i in range(n_clients):\n",
    "    variables[i] = {}\n",
    "    for t in range(n_treatments):\n",
    "        if profits[i, t] > 0:\n",
    "            variables[i][t] = model.addVar(vtype=GRB.BINARY, name=f\"x_{i}_{t}\")\n",
    "\n",
    "model.setObjective(\n",
    "    quicksum(variables[i][t] * profits[i, t] for i in variables for t in variables[i])\n",
    ")\n",
    "\n",
    "# Restricción: Cada cliente recibe exactamente un tratamiento\n",
    "for i in variables:\n",
    "    model.addConstr(quicksum(variables[i].values()) == 1, name=f\"OneTreatmentPerClient_{i}\")\n",
    "\n",
    "# Restricción de capacidad para ejecutivos\n",
    "model.addConstr(\n",
    "    quicksum(variables[i][t] * df_grouped.loc[i, 'n_clientes'] for i in variables for t in variables[i] if t in [5, 6, 7]) <= capacidad_ejecutivos,\n",
    "    name=\"CapacityConstraint\"\n",
    ")\n",
    "\n",
    "# Consistencia de cluster: los clientes dentro del mismo cluster deben recibir el mismo tratamiento\n",
    "clusters = df_grouped.groupby(\"categoria_clusterizacion_numerica\").indices\n",
    "for cluster_id, indices_cluster in clusters.items():\n",
    "    indices_list = list(indices_cluster)\n",
    "    leader_index = indices_list[0]\n",
    "    for t in variables[leader_index]:\n",
    "        leader_var = variables[leader_index][t]\n",
    "        for i in indices_list[1:]:\n",
    "            if t in variables[i]:\n",
    "                model.addConstr(variables[i][t] == leader_var, name=f\"ClusterConsistency_{cluster_id}_{t}\")\n",
    "\n",
    "# Optimizar el modelo\n",
    "model.optimize()\n",
    "\n",
    "# Verificar si la optimización fue exitosa\n",
    "if model.Status == GRB.OPTIMAL:\n",
    "    # -------------------------------\n",
    "    # Extracción y visualización de resultados\n",
    "    # -------------------------------\n",
    "\n",
    "    print(\"Extracting results...\")\n",
    "\n",
    "    # Asignar tratamientos por cluster basado en los resultados de la optimización\n",
    "    resultados_por_cluster = {}\n",
    "    for cluster_id, indices_cluster in clusters.items():\n",
    "        leader_index = list(indices_cluster)[0]\n",
    "        for t in variables[leader_index]:\n",
    "            if variables[leader_index][t].X > 0.5:\n",
    "                resultados_por_cluster[cluster_id] = t + 1\n",
    "                break\n",
    "\n",
    "    # Calcular las ganancias totales\n",
    "    ganancias_totales = model.ObjVal\n",
    "\n",
    "    # Mostrar resultados\n",
    "    print(\"\\nTratamientos asignados por cluster:\")\n",
    "    for cluster_id, tratamiento in resultados_por_cluster.items():\n",
    "        print(f\"Cluster {cluster_id}: Tratamiento {tratamiento}\")\n",
    "\n",
    "    print(f\"\\nGanancias totales: {ganancias_totales:.2f}\")\n",
    "\n",
    "    # Calcular el número de ejecutivos usados y restantes\n",
    "    executives_used = sum(\n",
    "        df_grouped.loc[i, 'n_clientes'] for i in variables for t in variables[i]\n",
    "        if t in [5, 6, 7] and variables[i][t].X > 0.5\n",
    "    )\n",
    "    executives_remaining = capacidad_ejecutivos - executives_used\n",
    "\n",
    "    # Mostrar resumen de uso de ejecutivos\n",
    "    print(f\"\\nExecutives used: {executives_used}\")\n",
    "    print(f\"Executives remaining: {executives_remaining}\")\n",
    "else:\n",
    "    print(\"Optimization did not reach an optimal solution.\")\n",
    "print(\"Optimization complete.\")\n"
   ]
  },
  {
   "cell_type": "markdown",
   "metadata": {},
   "source": [
    "## Resultados"
   ]
  },
  {
   "cell_type": "code",
   "execution_count": 33,
   "metadata": {},
   "outputs": [
    {
     "name": "stdout",
     "output_type": "stream",
     "text": [
      "Treatment 8: 38 times\n",
      "Treatment 1: 2 times\n",
      "Treatment 7: 10 times\n",
      "Treatment 6: 2 times\n",
      "Treatment 4: 10 times\n",
      "Treatment 5: 41 times\n",
      "Treatment 3: 5 times\n"
     ]
    }
   ],
   "source": [
    "# Contar cuántas veces se asigna cada tratamiento en los resultados por cluster\n",
    "# Se utiliza un diccionario 'Counter' para contar las ocurrencias de cada tratamiento asignado en 'resultados_por_cluster'\n",
    "for cluster_id, tratamiento in resultados_por_cluster.items():\n",
    "    treatment_counts = Counter(resultados_por_cluster.values())\n",
    "\n",
    "# Imprimir el conteo de asignaciones para cada tratamiento\n",
    "# Se recorre 'treatment_counts' para mostrar cuántas veces se asignó cada tratamiento.\n",
    "# 'treatment + 1' se utiliza para mostrar el número de tratamiento en base 1, haciendo el resultado más legible.\n",
    "for treatment, count in treatment_counts.items():\n",
    "    print(f\"Treatment {treatment}: {count} times\")\n"
   ]
  },
  {
   "cell_type": "code",
   "execution_count": 34,
   "metadata": {},
   "outputs": [
    {
     "data": {
      "text/html": [
       "<div>\n",
       "<style scoped>\n",
       "    .dataframe tbody tr th:only-of-type {\n",
       "        vertical-align: middle;\n",
       "    }\n",
       "\n",
       "    .dataframe tbody tr th {\n",
       "        vertical-align: top;\n",
       "    }\n",
       "\n",
       "    .dataframe thead th {\n",
       "        text-align: right;\n",
       "    }\n",
       "</style>\n",
       "<table border=\"1\" class=\"dataframe\">\n",
       "  <thead>\n",
       "    <tr style=\"text-align: right;\">\n",
       "      <th></th>\n",
       "      <th>cluster</th>\n",
       "      <th>assigned_treatment</th>\n",
       "    </tr>\n",
       "  </thead>\n",
       "  <tbody>\n",
       "    <tr>\n",
       "      <th>0</th>\n",
       "      <td>0</td>\n",
       "      <td>8</td>\n",
       "    </tr>\n",
       "    <tr>\n",
       "      <th>1</th>\n",
       "      <td>1</td>\n",
       "      <td>1</td>\n",
       "    </tr>\n",
       "    <tr>\n",
       "      <th>2</th>\n",
       "      <td>2</td>\n",
       "      <td>7</td>\n",
       "    </tr>\n",
       "    <tr>\n",
       "      <th>3</th>\n",
       "      <td>3</td>\n",
       "      <td>6</td>\n",
       "    </tr>\n",
       "    <tr>\n",
       "      <th>4</th>\n",
       "      <td>4</td>\n",
       "      <td>4</td>\n",
       "    </tr>\n",
       "    <tr>\n",
       "      <th>...</th>\n",
       "      <td>...</td>\n",
       "      <td>...</td>\n",
       "    </tr>\n",
       "    <tr>\n",
       "      <th>103</th>\n",
       "      <td>103</td>\n",
       "      <td>5</td>\n",
       "    </tr>\n",
       "    <tr>\n",
       "      <th>104</th>\n",
       "      <td>104</td>\n",
       "      <td>5</td>\n",
       "    </tr>\n",
       "    <tr>\n",
       "      <th>105</th>\n",
       "      <td>105</td>\n",
       "      <td>7</td>\n",
       "    </tr>\n",
       "    <tr>\n",
       "      <th>106</th>\n",
       "      <td>106</td>\n",
       "      <td>5</td>\n",
       "    </tr>\n",
       "    <tr>\n",
       "      <th>107</th>\n",
       "      <td>107</td>\n",
       "      <td>5</td>\n",
       "    </tr>\n",
       "  </tbody>\n",
       "</table>\n",
       "<p>108 rows × 2 columns</p>\n",
       "</div>"
      ],
      "text/plain": [
       "     cluster  assigned_treatment\n",
       "0          0                   8\n",
       "1          1                   1\n",
       "2          2                   7\n",
       "3          3                   6\n",
       "4          4                   4\n",
       "..       ...                 ...\n",
       "103      103                   5\n",
       "104      104                   5\n",
       "105      105                   7\n",
       "106      106                   5\n",
       "107      107                   5\n",
       "\n",
       "[108 rows x 2 columns]"
      ]
     },
     "execution_count": 34,
     "metadata": {},
     "output_type": "execute_result"
    }
   ],
   "source": [
    "# Convertir el diccionario 'resultados_por_cluster' a un DataFrame\n",
    "# El diccionario 'resultados_por_cluster' contiene el ID del cluster y el tratamiento asignado a cada uno.\n",
    "# Se convierte a un DataFrame donde la primera columna es 'cluster' y la segunda 'assigned_treatment'.\n",
    "df_resultados_por_cluster = pd.DataFrame(list(resultados_por_cluster.items()), columns=[\"cluster\", \"assigned_treatment\"])\n",
    "\n",
    "# Mostrar el DataFrame resultante al usuario\n",
    "df_resultados_por_cluster\n"
   ]
  },
  {
   "cell_type": "code",
   "execution_count": 35,
   "metadata": {},
   "outputs": [],
   "source": [
    "# Primer merge con 'df_rut_info'\n",
    "# Realizar una unión ('merge') entre 'df_resultados_por_cluster' y 'df_rut_info' usando 'cluster' en el primer DataFrame\n",
    "# y 'categoria_clusterizacion_numerica' en el segundo como claves de unión.\n",
    "# Esta unión permite agregar información de clientes a cada cluster con su tratamiento asignado.\n",
    "df_assigned = pd.merge(df_resultados_por_cluster, df_rut_info, left_on='cluster', right_on='categoria_clusterizacion_numerica', how='left')\n",
    "\n",
    "# Segundo merge con 'df_grouped' para agregar la columna 'RC'\n",
    "# Realizar una unión entre 'df_assigned' y 'df_grouped' para incorporar la columna 'RC' (Revenue Calculado)\n",
    "# Usamos 'categoria_clusterizacion_numerica' como clave de unión para añadir la información de revenue calculado a cada cluster.\n",
    "df_assigned = pd.merge(df_assigned, df_grouped[['categoria_clusterizacion_numerica', 'RC']], on='categoria_clusterizacion_numerica', how='left')\n"
   ]
  },
  {
   "cell_type": "code",
   "execution_count": 36,
   "metadata": {},
   "outputs": [],
   "source": [
    "# Calcular la probabilidad de simulación para el tratamiento asignado en cada fila de 'df_assigned'\n",
    "# Se usa 'apply' con una función lambda para extraer la probabilidad de simulación correspondiente al tratamiento asignado.\n",
    "# 'row['tratamientos']' es una lista de opciones de tratamiento y 'row['assigned_treatment'] - 1' indica la posición del tratamiento.\n",
    "# Primero, se verifica que 'tratamientos' sea una lista y que el índice calculado esté dentro del rango.\n",
    "# Si estas condiciones se cumplen, se extrae la probabilidad de simulación; en caso contrario, se asigna None.\n",
    "df_assigned['probabilidad_de_simular'] = df_assigned.apply(\n",
    "    lambda row: row['tratamientos'][row['assigned_treatment'] - 1][0] \n",
    "                if isinstance(row['tratamientos'], list) and (0 <= row['assigned_treatment'] - 1 < len(row['tratamientos'])) \n",
    "                else None,\n",
    "    axis=1\n",
    ")\n"
   ]
  },
  {
   "cell_type": "code",
   "execution_count": 37,
   "metadata": {},
   "outputs": [
    {
     "name": "stdout",
     "output_type": "stream",
     "text": [
      "CSV file saved in folder: assigned_treatments/assignation_20241115_045742\\assigned_treatments.csv\n"
     ]
    }
   ],
   "source": [
    "import os\n",
    "from datetime import datetime\n",
    "\n",
    "# Crear una carpeta con un nombre basado en la fecha y hora actual\n",
    "# 'strftime' genera un timestamp en el formato \"YYYYMMDD_HHMMSS\" para asegurar nombres de carpeta únicos.\n",
    "timestamp = datetime.now().strftime(\"%Y%m%d_%H%M%S\")\n",
    "folder_name = f\"assigned_treatments/assignation_{timestamp}\"\n",
    "os.makedirs(folder_name, exist_ok=True)  # Crear la carpeta; 'exist_ok=True' evita errores si la carpeta ya existe.\n",
    "\n",
    "# Definir la ruta del archivo CSV dentro de la nueva carpeta\n",
    "output_path = os.path.join(folder_name, 'assigned_treatments.csv')\n",
    "\n",
    "# Guardar el DataFrame 'df_assigned' con las columnas seleccionadas en un archivo CSV\n",
    "# Se incluyen las columnas clave: 'rut', 'cluster', 'Probabilidad_No_Pago', 'RC', 'assigned_treatment',\n",
    "# 'probabilidad_de_simular', 'tasa_optima' y 'probabilidad_aceptacion_optima'.\n",
    "df_assigned[['rut', 'cluster', 'Probabilidad_No_Pago', 'RC', 'assigned_treatment', 'probabilidad_de_simular', 'tasa_optima', 'probabilidad_aceptacion_optima']].to_csv(output_path, index=False)\n",
    "\n",
    "# Imprimir mensaje de confirmación con la ubicación del archivo CSV guardado\n",
    "print(f\"CSV file saved in folder: {output_path}\")\n"
   ]
  },
  {
   "cell_type": "markdown",
   "metadata": {},
   "source": [
    "# 7. RL"
   ]
  },
  {
   "cell_type": "markdown",
   "metadata": {},
   "source": [
    "## Definicion de la clase"
   ]
  },
  {
   "cell_type": "code",
   "execution_count": null,
   "metadata": {},
   "outputs": [],
   "source": [
    "# Importar las librerías necesarias\n",
    "import gymnasium as gym\n",
    "from gymnasium import spaces\n",
    "import numpy as np\n",
    "import pandas as pd\n",
    "import statsmodels.api as sm\n",
    "from gurobipy import Model, GRB, quicksum\n",
    "from stable_baselines3 import DQN\n",
    "from stable_baselines3.common.env_checker import check_env\n",
    "from datetime import datetime\n",
    "import os\n",
    "import gc\n",
    "import logging  # Importar el módulo logging\n",
    "from sklearn.preprocessing import normalize\n",
    "\n",
    "# Configuración básica del logging\n",
    "logging.basicConfig(\n",
    "    level=logging.INFO,  # Nivel de logging (puede ser DEBUG, INFO, WARNING, ERROR, CRITICAL)\n",
    "    format='%(asctime)s - %(name)s - %(levelname)s - %(message)s',\n",
    "    handlers=[\n",
    "        logging.StreamHandler()  # Mostrar logs en la consola\n",
    "        # Puedes agregar FileHandler para guardar logs en un archivo si lo deseas\n",
    "    ]\n",
    ")\n",
    "logger = logging.getLogger(__name__)  # Crear un logger\n",
    "\n",
    "# Definir la clase ClusteringEnv\n",
    "class ClusteringEnv(gym.Env):\n",
    "    def __init__(self, data, df_sim_ventas_tratamiento, df_simulaciones_info):\n",
    "        super(ClusteringEnv, self).__init__()\n",
    "        \n",
    "        logger.info(\"Inicializando ClusteringEnv...\")\n",
    "        \n",
    "        # Datos de entrada\n",
    "        self.data = data.copy()\n",
    "        self.df_sim_ventas_tratamiento = df_sim_ventas_tratamiento.copy()\n",
    "        self.df_simulaciones_info = df_simulaciones_info.copy()\n",
    "        \n",
    "        # Definir variables excluyendo 'rut'\n",
    "        self.variables = list(self.data.columns)\n",
    "        if 'rut' in self.variables:\n",
    "            self.variables.remove('rut')\n",
    "        logger.debug(f\"Variables excluidas: {self.variables}\")\n",
    "        \n",
    "        # Identificar variables categóricas y continuas\n",
    "        self.categorical_vars = self.data.select_dtypes(include=['object', 'category']).columns.tolist()\n",
    "        self.continuous_vars = self.data.select_dtypes(include=[np.number]).columns.tolist()\n",
    "        if 'rut' in self.continuous_vars:\n",
    "            self.continuous_vars.remove('rut')\n",
    "        logger.info(f\"Variables categóricas: {self.categorical_vars}\")\n",
    "        logger.info(f\"Variables continuas: {self.continuous_vars}\")\n",
    "        \n",
    "        # Parámetros de cortes para variables continuas\n",
    "        self.max_splits = 3  # Número máximo de cortes\n",
    "        self.min_splits = 2  # Número mínimo de cortes\n",
    "        logger.info(f\"Parámetros de splits - Max: {self.max_splits}, Min: {self.min_splits}\")\n",
    "        \n",
    "        # Penalización por número de clusters\n",
    "        self.penalty_factor = 20000000  # Ajusta este valor según tus necesidades\n",
    "        self.executives_remaining = 0\n",
    "        logger.debug(f\"Factor de penalización por cluster: {self.penalty_factor}\")\n",
    "        \n",
    "        # Crear la lista de acciones\n",
    "        self.action_list = self.create_action_list()\n",
    "        logger.info(f\"Número de acciones posibles: {len(self.action_list)}\")\n",
    "        \n",
    "        # Inicializar el estado y otros atributos necesarios\n",
    "        self.reset()  # Esto inicializa self.included_vars y self.splits\n",
    "        \n",
    "        # Definir el espacio de acciones y observaciones\n",
    "        self.action_space = spaces.Discrete(len(self.action_list))\n",
    "        state_size = self.get_state().shape[0]\n",
    "        self.observation_space = spaces.Box(low=0, high=1, shape=(state_size,), dtype=np.float32)\n",
    "        logger.debug(f\"Tamaño del estado: {state_size}\")\n",
    "        \n",
    "        # Inicializar el contador de pasos\n",
    "        self.current_step = 0\n",
    "        self.max_steps = 50  # Número máximo de pasos por episodio\n",
    "        logger.info(\"ClusteringEnv inicializado correctamente.\")\n",
    "    \n",
    "    def reset(self, seed=None, options=None):\n",
    "        # Reiniciar el entorno al estado inicial\n",
    "        logger.info(\"Reiniciando el entorno...\")\n",
    "        self.executives_remaining = 0\n",
    "        self.included_vars = {var: 0 for var in self.variables}  # Inicialmente, todas las variables excluidas\n",
    "        self.splits = {var: [] for var in self.continuous_vars}  # Inicialmente, sin cortes\n",
    "        self.state = self.get_state()\n",
    "        self.current_step = 0\n",
    "        logger.info(f\"Estado reiniciado: {self.state}\")\n",
    "        return self.state, {}\n",
    "    \n",
    "    def get_state(self):\n",
    "        # Representar el estado actual como un array\n",
    "        state = []\n",
    "        for var in self.variables:\n",
    "            included = self.included_vars[var]\n",
    "            state.append(included)\n",
    "            if var in self.continuous_vars and included:\n",
    "                splits = self.splits[var]\n",
    "                min_val = self.data[var].min()\n",
    "                max_val = self.data[var].max()\n",
    "                if max_val == min_val:\n",
    "                    normalized_splits = [0] * self.max_splits\n",
    "                else:\n",
    "                    normalized_splits = [(s - min_val) / (max_val - min_val) for s in splits]\n",
    "                    # Rellenar con ceros para tener longitud fija\n",
    "                    normalized_splits += [0] * (self.max_splits - len(normalized_splits))\n",
    "                    normalized_splits = normalized_splits[:self.max_splits]\n",
    "                state.extend(normalized_splits)\n",
    "            elif var in self.continuous_vars:\n",
    "                # Si la variable no está incluida, agregar ceros\n",
    "                state.extend([0] * self.max_splits)\n",
    "        return np.array(state, dtype=np.float32)\n",
    "    \n",
    "    def create_action_list(self):\n",
    "        actions = []\n",
    "        # Acciones para incluir o excluir variables\n",
    "        for var in self.variables:\n",
    "            actions.append(('toggle_variable', var, {}))\n",
    "        # Acciones para ajustar los cortes de variables continuas\n",
    "        for var in self.continuous_vars:\n",
    "            # Aumentar número de cortes\n",
    "            actions.append(('adjust_splits', var, {'operation': 'increase'}))\n",
    "            # Disminuir número de cortes\n",
    "            actions.append(('adjust_splits', var, {'operation': 'decrease'}))\n",
    "            # Mover cada punto de corte hacia arriba o abajo\n",
    "            for index in range(self.max_splits):\n",
    "                actions.append(('adjust_splits', var, {'operation': 'move', 'index': index, 'amount': +1}))\n",
    "                actions.append(('adjust_splits', var, {'operation': 'move', 'index': index, 'amount': -1}))\n",
    "        return actions\n",
    "    \n",
    "    def step(self, action_index):\n",
    "        logger.debug(f\"Ejecutando acción: {self.action_list[action_index]}\")\n",
    "        # Aplicar la acción al estado actual\n",
    "        action = self.action_list[action_index]\n",
    "        self.apply_action(action)\n",
    "        \n",
    "        # Recalcular los clusters\n",
    "        logger.info(\"Recalculando clusters...\")\n",
    "        df_clusters = self.perform_clustering()\n",
    "        \n",
    "        # Recalcular las métricas y obtener la recompensa\n",
    "        try:\n",
    "            logger.info(\"Recalculando métricas...\")\n",
    "            total_revenue, num_clusters = self.recalculate_metrics(df_clusters)\n",
    "            reward = total_revenue - self.penalty_factor * num_clusters - self.executives_remaining * 10000\n",
    "            logger.debug(f\"Recompensa calculada: {reward} (Revenue: {total_revenue}, Clusters: {num_clusters})\")\n",
    "        except Exception as e:\n",
    "            # En caso de error, asignar una recompensa negativa\n",
    "            logger.error(f\"Error en recalculate_metrics: {e}\")\n",
    "            reward = -1000\n",
    "            total_revenue = 0\n",
    "            num_clusters = 0\n",
    "        \n",
    "        # Incrementar el contador de pasos\n",
    "        self.current_step += 1\n",
    "        done = self.current_step >= self.max_steps\n",
    "        \n",
    "        # En Gymnasium, también se debe definir `truncated`. Aquí lo dejamos como False.\n",
    "        truncated = False\n",
    "        \n",
    "        # Actualizar el estado\n",
    "        self.state = self.get_state()\n",
    "        \n",
    "        # Crear un diccionario de información\n",
    "        info = {\n",
    "            'total_revenue': total_revenue,\n",
    "            'num_clusters': num_clusters\n",
    "        }\n",
    "        \n",
    "        logger.debug(f\"Estado actual: {self.state}\")\n",
    "        logger.debug(f\"Paso {self.current_step}/{self.max_steps} completado.\")\n",
    "\n",
    "        # Limpiar referencias a df_clusters y métricas después de usarlas\n",
    "        del df_clusters, total_revenue, num_clusters\n",
    "        gc.collect()\n",
    "                \n",
    "        # Retornar el nuevo estado, recompensa, done, truncated, y el diccionario de info\n",
    "        return self.state, reward, done, truncated, info\n",
    "    \n",
    "    def apply_action(self, action):\n",
    "        # Aplicar la acción al estado actual\n",
    "        action_type, var, params = action\n",
    "        logger.info(f\"Aplicando acción tipo: {action_type} sobre variable: {var} con parámetros: {params}\")\n",
    "        if action_type == 'toggle_variable':\n",
    "            # Incluir o excluir la variable\n",
    "            self.included_vars[var] = 1 - self.included_vars[var]\n",
    "            logger.info(f\"Variable '{var}' incluida: {self.included_vars[var]}\")\n",
    "            if var in self.continuous_vars and self.included_vars[var]:\n",
    "                # Inicializar cortes si la variable es incluida\n",
    "                if not self.splits[var]:\n",
    "                    self.splits[var] = self.initialize_splits(var)\n",
    "                    logger.info(f\"Cortes inicializados para variable '{var}': {self.splits[var]}\")\n",
    "        elif action_type == 'adjust_splits':\n",
    "            if var in self.continuous_vars and self.included_vars[var]:\n",
    "                operation = params.get('operation')\n",
    "                index = params.get('index', 0)\n",
    "                amount = params.get('amount', 0)\n",
    "                if operation == 'increase':\n",
    "                    if len(self.splits[var]) < self.max_splits:\n",
    "                        self.add_split(var)\n",
    "                        logger.info(f\"Corte aumentado para variable '{var}': {self.splits[var]}\")\n",
    "                elif operation == 'decrease':\n",
    "                    if len(self.splits[var]) > self.min_splits:\n",
    "                        removed_split = self.splits[var].pop()\n",
    "                        logger.info(f\"Corte disminuido para variable '{var}', eliminado: {removed_split}\")\n",
    "                elif operation == 'move':\n",
    "                    self.move_split(var, index, amount)\n",
    "                    logger.info(f\"Corte movido para variable '{var}': {self.splits[var]}\")\n",
    "        else:\n",
    "            logger.warning(f\"Acción desconocida: {action_type}\")\n",
    "        \n",
    "        # Asegurar que los cortes están ordenados y dentro del rango\n",
    "        for var_cont in self.continuous_vars:\n",
    "            if self.splits[var_cont]:\n",
    "                old_splits = self.splits[var_cont].copy()\n",
    "                self.splits[var_cont] = sorted(set(self.splits[var_cont]))\n",
    "                min_val = self.data[var_cont].min()\n",
    "                max_val = self.data[var_cont].max()\n",
    "                self.splits[var_cont] = [s for s in self.splits[var_cont] if min_val < s < max_val]\n",
    "                if self.splits[var_cont] != old_splits:\n",
    "                    logger.debug(f\"Cortes ajustados para variable '{var_cont}': {self.splits[var_cont]}\")\n",
    "        \n",
    "    def initialize_splits(self, var):\n",
    "        # Inicializar cortes en cuantiles equidistantes\n",
    "        min_val = self.data[var].min()\n",
    "        max_val = self.data[var].max()\n",
    "        num_splits = self.min_splits\n",
    "        if num_splits == 0:\n",
    "            return []\n",
    "        splits = np.linspace(min_val, max_val, num_splits + 1)[1:-1].tolist()\n",
    "        return splits\n",
    "    \n",
    "    def add_split(self, var):\n",
    "        # Agregar un nuevo corte en el punto medio del intervalo más grande\n",
    "        splits = self.splits[var]\n",
    "        if not splits:\n",
    "            min_val = self.data[var].min()\n",
    "            max_val = self.data[var].max()\n",
    "            new_split = (min_val + max_val) / 2\n",
    "            logger.debug(f\"Agregando primer split para '{var}': {new_split}\")\n",
    "        else:\n",
    "            intervals = [self.data[var].min()] + splits + [self.data[var].max()]\n",
    "            max_interval = 0\n",
    "            max_idx = 0\n",
    "            for i in range(len(intervals) - 1):\n",
    "                interval = intervals[i+1] - intervals[i]\n",
    "                if interval > max_interval:\n",
    "                    max_interval = interval\n",
    "                    max_idx = i\n",
    "            new_split = (intervals[max_idx] + intervals[max_idx+1]) / 2\n",
    "            logger.debug(f\"Agregando split en el intervalo más grande para '{var}': {new_split}\")\n",
    "        splits.append(new_split)\n",
    "        self.splits[var] = splits\n",
    "    \n",
    "    def move_split(self, var, index, amount):\n",
    "        # Mover el corte en 'index' una cantidad 'amount'\n",
    "        if 0 <= index < len(self.splits[var]):\n",
    "            var_min = self.data[var].min()\n",
    "            var_max = self.data[var].max()\n",
    "            range_val = var_max - var_min\n",
    "            delta = amount * (range_val * 0.01)  # Mover un 1% del rango\n",
    "            old_split = self.splits[var][index]\n",
    "            self.splits[var][index] += delta\n",
    "            # Asegurar que el corte esté dentro del rango\n",
    "            self.splits[var][index] = max(var_min, min(self.splits[var][index], var_max))\n",
    "            logger.debug(f\"Moviendo split para '{var}' en índice {index}: de {old_split} a {self.splits[var][index]}\")\n",
    "    \n",
    "    def perform_clustering(self):\n",
    "        logger.info(\"Realizando clustering...\")\n",
    "        # Realizar el clustering basado en la configuración actual\n",
    "        df = self.data.copy()\n",
    "        for var in self.variables:\n",
    "            logger.info(f\"Procesando variable: {var}\")\n",
    "            if self.included_vars[var]:\n",
    "                if var in self.categorical_vars:\n",
    "                    df[var + '_cluster'] = df[var]\n",
    "                    logger.info(f\"Variable categórica '{var}' separada en los grupos: {df[var + '_cluster'].unique()}\")\n",
    "                elif var in self.continuous_vars:\n",
    "                    splits = self.splits[var]\n",
    "                    if not splits:\n",
    "                        # Si no hay cortes, asignar todos al mismo bin\n",
    "                        df[var + '_cluster'] = 0\n",
    "                    else:\n",
    "                        bins = [-np.inf] + splits + [np.inf]\n",
    "                        labels = [f'{var}_bin_{i}' for i in range(len(bins)-1)]\n",
    "                        df[var + '_cluster'] = pd.cut(df[var], bins=bins, labels=labels)\n",
    "                        logger.info(f\"Cortes para variable '{var}': {splits}\")\n",
    "        # Combinar las variables de cluster para formar la categoría de clusterización\n",
    "        cluster_vars = [var + '_cluster' for var in self.variables if self.included_vars[var]]\n",
    "        logger.info(f\"Variables incluidas en clusterización: {cluster_vars}\")\n",
    "        if cluster_vars:\n",
    "            df['categoria_clusterizacion'] = df[cluster_vars].astype(str).agg(' '.join, axis=1)\n",
    "            df['categoria_clusterizacion_numerica'] = df['categoria_clusterizacion'].astype('category').cat.codes\n",
    "            logger.debug(f\"Clusters formados: {df['categoria_clusterizacion_numerica'].nunique()}\")\n",
    "        else:\n",
    "            # Si no hay variables incluidas, asignar a un solo cluster\n",
    "            df['categoria_clusterizacion_numerica'] = 0\n",
    "            logger.debug(\"No se incluyeron variables, todos los datos asignados al cluster 0.\")\n",
    "        self.current_clusters = df[['rut', 'categoria_clusterizacion_numerica']]\n",
    "        num_clusters = df['categoria_clusterizacion_numerica'].nunique()\n",
    "        logger.info(f\"Variables incluidas en este clustering: {cluster_vars}\")\n",
    "        logger.info(f\"Clustering completado. Número de clusters: {num_clusters}\")\n",
    "        return df\n",
    "    \n",
    "    def function_estimar_elasticidad(self, df_estimar_elasticidad):\n",
    "        logger.info(\"Estimando elasticidad...\")\n",
    "        # Inicializar listas para almacenar resultados globales de revenue, clientes, créditos y simulaciones\n",
    "        lista_revenue = []\n",
    "        lista_clientes = []\n",
    "        lista_creditos = []\n",
    "        lista_simulaciones = []\n",
    "\n",
    "        cluster_results = []  # Lista para almacenar resultados específicos de cada cluster\n",
    "\n",
    "        # Obtener los números únicos de cada cluster\n",
    "        cluster_numbers = df_estimar_elasticidad['categoria_clusterizacion_numerica'].unique()\n",
    "        logger.debug(f\"Número de clusters para estimar elasticidad: {len(cluster_numbers)}\")\n",
    "\n",
    "        # Iterar sobre cada cluster identificado por 'categoria_clusterizacion_numerica'\n",
    "        for cluster_num in cluster_numbers:\n",
    "            logger.debug(f\"Procesando cluster {cluster_num}...\")\n",
    "            # Filtrar los datos correspondientes al cluster actual\n",
    "            df_cluster = df_estimar_elasticidad[df_estimar_elasticidad['categoria_clusterizacion_numerica'] == cluster_num]\n",
    "            \n",
    "            # Asegurarse de que existen datos para ambos casos: venta == 1 y venta == 0\n",
    "            if df_cluster.empty or df_cluster['venta'].isnull().all():\n",
    "                logger.warning(f\"Cluster {cluster_num} está vacío o todas las ventas son nulas. Se salta.\")\n",
    "                continue  # Saltar este cluster si no cumple con la condición\n",
    "            \n",
    "            # Remover filas donde 'venta' o 'Tasa_Simulado' son nulos o infinitos\n",
    "            df_cluster = df_cluster.replace([np.inf, -np.inf], np.nan)\n",
    "            df_cluster = df_cluster.dropna(subset=['venta', 'Tasa_Simulado', 'Plazo_Simulado', 'Monto_Simulado', 'Probabilidad_No_Pago'])\n",
    "            \n",
    "            # Saltar el cluster si no hay suficientes puntos de datos\n",
    "            if df_cluster.shape[0] < 10:\n",
    "                logger.warning(f\"Cluster {cluster_num} tiene menos de 10 registros después de limpiar. Se salta.\")\n",
    "                continue\n",
    "            \n",
    "            # Extraer las variables 'venta' (como variable dependiente) y 'Tasa_Simulado' (como predictor)\n",
    "            y = df_cluster['venta']\n",
    "            X = df_cluster[['Tasa_Simulado']]\n",
    "            \n",
    "            # Añadir un término constante para el intercepto\n",
    "            X = sm.add_constant(X)\n",
    "            \n",
    "            # Remover filas con valores NaN o Inf en X o y\n",
    "            is_finite = np.isfinite(X).all(1) & np.isfinite(y)\n",
    "            X = X[is_finite]\n",
    "            y = y[is_finite]\n",
    "            \n",
    "            # Asegurarse de que después de remover NaN/Inf, todavía hay suficientes datos\n",
    "            if len(y) < 10:\n",
    "                logger.warning(f\"Cluster {cluster_num} tiene menos de 10 registros después de filtrar finitos. Se salta.\")\n",
    "                continue\n",
    "            \n",
    "            # Ajustar el modelo de regresión logística\n",
    "            logit_model = sm.Logit(y, X)\n",
    "            try:\n",
    "                result = logit_model.fit(disp=0)\n",
    "                logger.debug(f\"Modelo ajustado para cluster {cluster_num}.\")\n",
    "            except Exception as e:\n",
    "                logger.error(f\"No se pudo ajustar el modelo para el cluster {cluster_num}: {e}\")\n",
    "                del df_cluster, y, X, logit_model, result  # Eliminar referencias\n",
    "                gc.collect()\n",
    "                continue  # Saltar el cluster si el modelo no converge\n",
    "            \n",
    "            # Crear una cuadrícula de valores de 'Tasa_Simulado' para predicciones\n",
    "            tasa_min = df_cluster['Tasa_Simulado'].min()\n",
    "            tasa_max = df_cluster['Tasa_Simulado'].max()\n",
    "            tasas_grid = np.linspace(tasa_min, tasa_max, 105)\n",
    "            \n",
    "            # Predecir la probabilidad de aceptación usando el modelo ajustado\n",
    "            X_grid = sm.add_constant(tasas_grid)\n",
    "            acceptance_probability = result.predict(X_grid)\n",
    "            \n",
    "            # Asegurar que las probabilidades están en el rango [0, 1]\n",
    "            acceptance_probability = np.clip(acceptance_probability, 0, 1)\n",
    "            \n",
    "            # Calcular valores medios necesarios para el cálculo de revenue\n",
    "            n = df_cluster['Plazo_Simulado'].mean()\n",
    "            vp = df_cluster['Monto_Simulado'].mean()\n",
    "            pnp = df_cluster['Probabilidad_No_Pago'].mean()\n",
    "            data = {\n",
    "                'Plazo_Simulado_medio': n, \n",
    "                'Monto_Simulado_medio': vp, \n",
    "                'Probabilidad_No_Pago_media': pnp\n",
    "            }\n",
    "            \n",
    "            # Calcular el revenue potencial\n",
    "            i = tasas_grid / 100  # Convertir a decimal\n",
    "            one_plus_i_pow_n = np.power(1 + i, n)\n",
    "            annuity_factor = (i * one_plus_i_pow_n) / (one_plus_i_pow_n - 1)\n",
    "            revenue = (n * vp * annuity_factor) - vp\n",
    "            potential_revenue = revenue * (1 - pnp)\n",
    "            \n",
    "            # Calcular el promedio de simulaciones por fecha\n",
    "            df_cluster_simulaciones_1 = df_cluster[df_cluster['simulo'] == 1]\n",
    "            num_dates = df_cluster_simulaciones_1['fecha'].nunique()\n",
    "            total_simulaciones = df_cluster_simulaciones_1['simulo'].sum()\n",
    "            simulaciones_medias = total_simulaciones / num_dates if num_dates else 0\n",
    "            \n",
    "            # Saltar el cluster si no hay simulaciones\n",
    "            if simulaciones_medias == 0:\n",
    "                logger.warning(f\"Cluster {cluster_num} no tiene simulaciones medias. Se salta.\")\n",
    "                continue\n",
    "            \n",
    "            # Calcular el revenue esperado\n",
    "            expected_revenue = acceptance_probability * potential_revenue * simulaciones_medias\n",
    "            \n",
    "            # Encontrar la tasa que maximiza el revenue esperado\n",
    "            idx_max = np.argmax(expected_revenue)\n",
    "            max_price = tasas_grid[idx_max]\n",
    "            max_expected_revenue = expected_revenue[idx_max]\n",
    "            \n",
    "            # Probabilidad de aceptación en la tasa óptima\n",
    "            prob_aceptacion_optima = acceptance_probability[idx_max]\n",
    "            \n",
    "            # Número esperado de créditos aceptados\n",
    "            num_creditos_aceptados = round(prob_aceptacion_optima * simulaciones_medias)\n",
    "            \n",
    "            # Número de clientes únicos en el cluster\n",
    "            num_clients = df_cluster['rut'].nunique()\n",
    "            \n",
    "            # Imprimir resultados para cada cluster\n",
    "            logger.info(f'Cluster {cluster_num}:')\n",
    "            logger.info(f'- Precio Máx. Revenue Esperado = {max_price:.2f}%')\n",
    "            logger.info(f'- Revenue Esperado Máximo = {max_expected_revenue:,.2f}')\n",
    "            logger.info(f'- Número de clientes en el cluster = {num_clients}')\n",
    "            logger.info(f'- Número de simulaciones en el cluster = {simulaciones_medias:.2f}')\n",
    "            logger.info(f'- Probabilidad de aceptación en el precio óptimo = {prob_aceptacion_optima:.4f}')\n",
    "            logger.info(f'- Número esperado de créditos aceptados = {num_creditos_aceptados}')\n",
    "            logger.info(f'- Monto medio simulado = {data[\"Monto_Simulado_medio\"]:,.2f}')\n",
    "            logger.info(f'- Plazo medio simulado = {data[\"Plazo_Simulado_medio\"]:,.2f}')\n",
    "            logger.info(f'- Probabilidad de no pago media = {data[\"Probabilidad_No_Pago_media\"]:.4f}\\n')\n",
    "            \n",
    "            # Agregar resultados a las listas globales\n",
    "            lista_clientes.append(num_clients)\n",
    "            lista_revenue.append(max_expected_revenue)\n",
    "            lista_creditos.append(num_creditos_aceptados)\n",
    "            lista_simulaciones.append(simulaciones_medias)\n",
    "            \n",
    "            # Almacenar resultados por cluster en cluster_results\n",
    "            cluster_results.append({\n",
    "                'categoria_clusterizacion_numerica': cluster_num,\n",
    "                'tasa_optima': max_price,\n",
    "                'probabilidad_aceptacion_optima': prob_aceptacion_optima,\n",
    "                'revenue_esperado_maximo': max_expected_revenue,\n",
    "                'numero_clientes': num_clients,\n",
    "                'numero_simulaciones_medias': simulaciones_medias,\n",
    "                'numero_creditos_esperados': num_creditos_aceptados,\n",
    "                'monto_medio_simulado': data[\"Monto_Simulado_medio\"],\n",
    "                'plazo_medio_simulado': data[\"Plazo_Simulado_medio\"],\n",
    "                'probabilidad_no_pago_media': data[\"Probabilidad_No_Pago_media\"]\n",
    "            })\n",
    "\n",
    "            del df_cluster, y, X, logit_model, result, X_grid, acceptance_probability, expected_revenue\n",
    "            gc.collect()\n",
    "        # Imprimir resultados globales\n",
    "        total_revenue = sum(lista_revenue)\n",
    "        total_clientes = sum(lista_clientes)\n",
    "        total_simulaciones = sum(lista_simulaciones)\n",
    "        total_creditos = sum(lista_creditos)\n",
    "\n",
    "        logger.info(f\"El revenue total esperado es: {total_revenue:,.2f} con un total de {total_clientes} clientes, \"\n",
    "                    f\"{total_simulaciones:,.2f} simulaciones, y {total_creditos} créditos.\")\n",
    "\n",
    "        # Crear un DataFrame a partir de cluster_results\n",
    "        df_cluster_results = pd.DataFrame(cluster_results)\n",
    "\n",
    "        # Incorporar los resultados por cluster de 'df_cluster_results' a 'df_estimar_elasticidad'\n",
    "        df_estimar_elasticidad = df_estimar_elasticidad.merge(\n",
    "            df_cluster_results[['categoria_clusterizacion_numerica', 'tasa_optima', 'probabilidad_aceptacion_optima']],\n",
    "            on='categoria_clusterizacion_numerica', \n",
    "            how='left'\n",
    "        )\n",
    "\n",
    "        return {'df_estimar_elasticidad': df_estimar_elasticidad, 'total_revenue': total_revenue, 'total_clientes': total_clientes, 'total_simulaciones': total_simulaciones, 'total_creditos': total_creditos}\n",
    "    \n",
    "    def function_estimar_respuesta_a_tratamiento(self, df_estimar_elasticidad, df_simulaciones_info): #df1 es df_estimar_elasticidad y df2 es df_simulaciones_info\n",
    "        # Paso 1: Preparación de datos y mapeo de clusters\n",
    "        # Eliminar duplicados en 'df1' para tener un valor único de 'categoria_clusterizacion_numerica' por cada 'rut'.\n",
    "        df_estimar_elasticidad_unique = df_estimar_elasticidad.drop_duplicates(subset='rut')\n",
    "\n",
    "        # Crear un mapeo de 'rut' a 'categoria_clusterizacion_numerica' para asociar cada cliente a su cluster numérico.\n",
    "        rut_cluster_map = df_estimar_elasticidad_unique.set_index('rut')['categoria_clusterizacion_numerica']\n",
    "\n",
    "        # Mapear la categoría de cluster a cada 'rut' en 'df2' usando el mapeo creado\n",
    "        df_simulaciones_info['categoria_clusterizacion_numerica'] = df_simulaciones_info['rut'].map(rut_cluster_map)\n",
    "\n",
    "        # Eliminar filas donde 'categoria_clusterizacion_numerica' es nulo, es decir, aquellos 'rut' sin mapeo de cluster.\n",
    "        df_simulaciones_info = df_simulaciones_info.dropna(subset=['categoria_clusterizacion_numerica'])\n",
    "\n",
    "        # Conversión de tipos de datos\n",
    "        # Convertir 'categoria_clusterizacion_numerica' a entero para garantizar un tipo de dato consistente.\n",
    "        df_simulaciones_info['categoria_clusterizacion_numerica'] = df_simulaciones_info['categoria_clusterizacion_numerica'].astype(int)\n",
    "\n",
    "        # Convertir 'simulo' a numérico, reemplazando valores nulos por 0 y asegurando que sea un tipo de dato entero.\n",
    "        df_simulaciones_info['simulo'] = pd.to_numeric(df_simulaciones_info['simulo'], errors='coerce').fillna(0).astype(int)\n",
    "\n",
    "        # Convertir 'Tratamiento' a tipo de categoría para optimizar espacio y realizar operaciones categóricas.\n",
    "        df_simulaciones_info['Tratamiento'] = df_simulaciones_info['Tratamiento'].astype('category')\n",
    "\n",
    "        # Paso 2: Calcular el caso total (entradas por tratamiento sin importar el valor de 'simulo')\n",
    "        # Agrupar por 'categoria_clusterizacion_numerica' y 'Tratamiento' para contar el número total de registros en cada combinación.\n",
    "        total_entries_per_cluster_treatment = df_simulaciones_info.groupby(['categoria_clusterizacion_numerica', 'Tratamiento']).size().reset_index(name='caso_total')\n",
    "\n",
    "        # Paso 3: Calcular el caso favorable (entradas por tratamiento cuando 'simulo' == 1)\n",
    "        # Filtrar filas donde 'simulo' es 1 (clientes que realizaron una simulación)\n",
    "        df_simulations = df_simulaciones_info[df_simulaciones_info['simulo'] == 1]\n",
    "\n",
    "        # Agrupar por 'categoria_clusterizacion_numerica' y 'Tratamiento' para contar el número de registros favorables (simulaciones).\n",
    "        favorable_entries_per_cluster_treatment = df_simulations.groupby(['categoria_clusterizacion_numerica', 'Tratamiento']).size().reset_index(name='caso_favorable')\n",
    "\n",
    "        # Paso 4: Calcular la probabilidad de simulación como caso favorable / caso total\n",
    "        # Realizar un merge entre 'total_entries_per_cluster_treatment' y 'favorable_entries_per_cluster_treatment' en las columnas de cluster y tratamiento.\n",
    "        df_probabilities = total_entries_per_cluster_treatment.merge(\n",
    "            favorable_entries_per_cluster_treatment,\n",
    "            on=['categoria_clusterizacion_numerica', 'Tratamiento'],\n",
    "            how='left'\n",
    "        )\n",
    "\n",
    "        # Llenar valores nulos en 'caso_favorable' con 0, asegurando que solo las columnas numéricas estén afectadas.\n",
    "        df_probabilities['caso_favorable'] = df_probabilities['caso_favorable'].fillna(0).astype(int)\n",
    "\n",
    "        # Asegurar que 'caso_total' sea de tipo entero para evitar inconsistencias en los conteos.\n",
    "        df_probabilities['caso_total'] = df_probabilities['caso_total'].astype(int)\n",
    "\n",
    "        # Calcular la probabilidad de simulación como el cociente entre 'caso_favorable' y 'caso_total'.\n",
    "        df_probabilities['probabilidad_simular'] = df_probabilities['caso_favorable'] / df_probabilities['caso_total']\n",
    "\n",
    "        # Organizar las columnas del DataFrame resultante para facilitar su análisis.\n",
    "        df_probabilities = df_probabilities[[\n",
    "            'categoria_clusterizacion_numerica',\n",
    "            'Tratamiento',\n",
    "            'probabilidad_simular',\n",
    "            'caso_favorable',\n",
    "            'caso_total'\n",
    "        ]]\n",
    "\n",
    "        logger.info(\"Estimación de respuesta a tratamientos completada.\")\n",
    "        return df_probabilities\n",
    "\n",
    "    def function_modelo_asignacion_tratamientos(self, df_cluster_info, df_probabilities_treatment, df_rut_info, costo_sms, capacidad_ejecutivos):\n",
    "        logger.info(\"Iniciando modelo de asignación de tratamientos...\")\n",
    "        try:\n",
    "            # Definir el mapeo de tratamientos\n",
    "            tratamiento_map = {  # Mapeo de los tratamientos específicos a identificadores numéricos\n",
    "                \"Ejecutivo=0, Correos=0\": 1, \"Ejecutivo=0, Correos=1\": 2,\n",
    "                \"Ejecutivo=0, Correos=2\": 3, \"Ejecutivo=0, Correos=3\": 4,\n",
    "                \"Ejecutivo=0, Correos=4\": 5, \"Ejecutivo=1, Correos=0\": 6,\n",
    "                \"Ejecutivo=1, Correos=1\": 7, \"Ejecutivo=1, Correos=2\": 8\n",
    "            }\n",
    "\n",
    "            # Parámetros\n",
    "            costosms = costo_sms  # Costo de cada mensaje SMS\n",
    "            capacidad_ejecutivos = capacidad_ejecutivos  # Capacidad máxima en términos de tiempo de los ejecutivos\n",
    "\n",
    "            # Paso 1: Procesar probabilidades y asignar IDs de tratamiento\n",
    "            logger.info(\"Procesando datos de probabilidades y asignando IDs de tratamiento...\")\n",
    "            df_probabilities = df_probabilities_treatment.copy()\n",
    "            df_probabilities['tratamiento_id'] = df_probabilities['Tratamiento'].map(tratamiento_map)\n",
    "            if df_probabilities['tratamiento_id'].isnull().any():\n",
    "                logger.warning(\"Algunos tratamientos no fueron mapeados correctamente a 'tratamiento_id'. Revisar 'tratamiento_map'.\")\n",
    "\n",
    "            # Paso 2: Crear lista de tratamientos y combinar con rut_info\n",
    "            logger.info(\"Fusionando probabilidades con información de RUT...\")\n",
    "            df_probabilities['tratamientos'] = df_probabilities[['probabilidad_simular', 'tratamiento_id']].values.tolist()\n",
    "            grouped_prob = df_probabilities.groupby('categoria_clusterizacion_numerica')['tratamientos'].apply(list).reset_index()\n",
    "\n",
    "            df_rut_info = df_rut_info.copy()\n",
    "            df_rut_info = df_rut_info.merge(grouped_prob, on='categoria_clusterizacion_numerica', how='left')\n",
    "            if df_rut_info['tratamientos'].isnull().any():\n",
    "                logger.warning(\"Algunos clusters no tienen tratamientos asignados.\")\n",
    "\n",
    "            # Paso 3: Combinar rut_info con cluster_info\n",
    "            logger.info(\"Fusionando información de RUT con información de clusters...\")\n",
    "            df_cluster_info = df_cluster_info.copy()\n",
    "            df_rut_info = df_rut_info.merge(df_cluster_info, on='categoria_clusterizacion_numerica', how='left')\n",
    "            if df_rut_info.isnull().any().any():\n",
    "                logger.warning(\"Algunas combinaciones de clusters no están completas en rut_info.\")\n",
    "\n",
    "            # Paso 3.5: Agrupar información por cluster en 'rut_info'\n",
    "            logger.info(\"Agrupando información por cluster...\")\n",
    "            df_grouped = df_rut_info.groupby('categoria_clusterizacion_numerica').agg({\n",
    "                'Probabilidad_No_Pago': 'mean',  # Promedio de probabilidad de no pago\n",
    "                'tratamientos': lambda x: list(x),  # Lista de opciones de tratamiento únicas en cada cluster\n",
    "                'Monto_Simulado_mean': 'mean',\n",
    "                'Plazo_Simulado_mean': 'mean',\n",
    "                'probabilidad_aceptacion_optima': 'mean',\n",
    "                'tasa_optima': 'mean',\n",
    "                'rut': 'count'  # Conteo del número de clientes ('rut') en cada cluster\n",
    "            }).rename(columns={'rut': 'n_clientes'}).reset_index()\n",
    "            logger.debug(f\"Datos agrupados por cluster: {df_grouped.head()}\")\n",
    "\n",
    "            # Paso 4: Calcular 'RC' (Revenue calculado)\n",
    "            logger.info(\"Calculando Revenue Calculado (RC)...\")\n",
    "            df_grouped['tasa_optima'] /= 100  # Convertir tasa óptima a decimal\n",
    "            df_grouped['RC'] = (\n",
    "                (df_grouped['Plazo_Simulado_mean'] * df_grouped['Monto_Simulado_mean'] * df_grouped['tasa_optima'] *\n",
    "                ((1 + df_grouped['tasa_optima']) ** df_grouped['Plazo_Simulado_mean'])) /\n",
    "                (((1 + df_grouped['tasa_optima']) ** df_grouped['Plazo_Simulado_mean']) - 1)\n",
    "            ) - df_grouped['Monto_Simulado_mean']\n",
    "            logger.debug(f\"RC calculado: {df_grouped['RC'].head()}\")\n",
    "\n",
    "            # -------------------------------\n",
    "            # Preparación de datos para optimización\n",
    "            # -------------------------------\n",
    "\n",
    "            logger.info(\"Preparando matriz de beneficios para optimización...\")\n",
    "            try:\n",
    "                # Convertir 'tratamientos' a un arreglo de numpy para mejorar la indexación\n",
    "                profits = np.array([\n",
    "                    [\n",
    "                        row['n_clientes'] * (row['RC'] * (1 - row['Probabilidad_No_Pago']) * row['probabilidad_aceptacion_optima'] * row['tratamientos'][0][t][0]) - \n",
    "                        (row['tratamientos'][0][t][1] * costosms)\n",
    "                        for t in range(8)\n",
    "                    ]\n",
    "                    for _, row in df_grouped.iterrows()\n",
    "                ])\n",
    "                logger.debug(f\"Matriz de beneficios (profits) preparada con forma: {profits.shape}\")\n",
    "            except Exception as e:\n",
    "                logger.error(f\"Error al preparar la matriz de beneficios: {e}\")\n",
    "                del df_grouped, df_rut_info, df_probabilities, df_cluster_info\n",
    "                gc.collect()\n",
    "                return {}, 0 # Retornar valores por defecto en caso de error\n",
    "\n",
    "            # Inicializar el modelo de optimización\n",
    "            logger.info(\"Inicializando modelo de optimización con Gurobi...\")\n",
    "            model = Model(\"Maximizar_Ganancias\")\n",
    "            model.ModelSense = GRB.MAXIMIZE\n",
    "\n",
    "            # Crear variables de decisión y definir el objetivo\n",
    "            n_clients, n_treatments = profits.shape\n",
    "            variables = {}\n",
    "\n",
    "            logger.info(\"Creando variables de decisión...\")\n",
    "            for i in range(n_clients):\n",
    "                variables[i] = {}\n",
    "                for t in range(n_treatments):\n",
    "                    if profits[i, t] > 0:\n",
    "                        variables[i][t] = model.addVar(vtype=GRB.BINARY, name=f\"x_{i}_{t}\")\n",
    "            logger.debug(f\"Variables de decisión creadas: {len(variables)} clusters con hasta {n_treatments} tratamientos cada uno.\")\n",
    "\n",
    "            # Definir el objetivo\n",
    "            model.setObjective(\n",
    "                quicksum(variables[i][t] * profits[i, t] for i in variables for t in variables[i])\n",
    "            )\n",
    "            logger.debug(\"Objetivo del modelo definido.\")\n",
    "\n",
    "            # Restricción: Cada cliente recibe exactamente un tratamiento\n",
    "            logger.info(\"Agregando restricción de un tratamiento por cliente...\")\n",
    "            for i in variables:\n",
    "                model.addConstr(quicksum(variables[i].values()) == 1, name=f\"OneTreatmentPerClient_{i}\")\n",
    "            logger.debug(\"Restricciones de tratamiento por cliente agregadas.\")\n",
    "\n",
    "            # Restricción de capacidad para ejecutivos\n",
    "            logger.info(\"Agregando restricción de capacidad para ejecutivos...\")\n",
    "            model.addConstr(\n",
    "                quicksum(variables[i][t] * df_grouped.loc[i, 'n_clientes'] for i in variables for t in variables[i] if t in [5, 6, 7]) <= capacidad_ejecutivos,\n",
    "                name=\"CapacityConstraint\"\n",
    "            )\n",
    "            logger.debug(\"Restricción de capacidad para ejecutivos agregada.\")\n",
    "\n",
    "            # Consistencia de cluster: los clientes dentro del mismo cluster deben recibir el mismo tratamiento\n",
    "            logger.info(\"Agregando restricciones de consistencia por cluster...\")\n",
    "            clusters = df_grouped.groupby(\"categoria_clusterizacion_numerica\").indices\n",
    "            for cluster_id, indices_cluster in clusters.items():\n",
    "                indices_list = list(indices_cluster)\n",
    "                leader_index = indices_list[0]\n",
    "                for t in variables[leader_index]:\n",
    "                    leader_var = variables[leader_index][t]\n",
    "                    for i in indices_list[1:]:\n",
    "                        if t in variables[i]:\n",
    "                            model.addConstr(variables[i][t] == leader_var, name=f\"ClusterConsistency_{cluster_id}_{t}\")\n",
    "            logger.debug(\"Restricciones de consistencia por cluster agregadas.\")\n",
    "\n",
    "            # Optimizar el modelo\n",
    "            logger.info(\"Iniciando optimización con Gurobi...\")\n",
    "            try:\n",
    "                model.optimize()\n",
    "            except Exception as e:\n",
    "                logger.error(f\"Error durante la optimización con Gurobi: {e}\")\n",
    "                return {}, 0  # Retornar valores por defecto en caso de error\n",
    "\n",
    "            # Verificar si la optimización fue exitosa\n",
    "            if model.Status == GRB.OPTIMAL:\n",
    "                logger.info(\"Optimización exitosa. Extrayendo resultados...\")\n",
    "\n",
    "                # Asignar tratamientos por cluster basado en los resultados de la optimización\n",
    "                resultados_por_cluster = {}\n",
    "                for cluster_id, indices_cluster in clusters.items():\n",
    "                    leader_index = list(indices_cluster)[0]\n",
    "                    for t in variables[leader_index]:\n",
    "                        if variables[leader_index][t].X > 0.5:\n",
    "                            resultados_por_cluster[cluster_id] = t + 1\n",
    "                            break\n",
    "\n",
    "                # Calcular las ganancias totales\n",
    "                ganancias_totales = model.ObjVal\n",
    "                logger.info(f\"Ganancias totales: {ganancias_totales:.2f}\")\n",
    "\n",
    "                # Calcular el número de ejecutivos usados y restantes\n",
    "                executives_used = sum(\n",
    "                    df_grouped.loc[i, 'n_clientes'] for i in variables for t in variables[i]\n",
    "                    if t in [5, 6, 7] and variables[i][t].X > 0.5\n",
    "                )\n",
    "                executives_remaining = capacidad_ejecutivos - executives_used\n",
    "                self.executives_remaining = executives_remaining\n",
    "                logger.info(f\"Executives used: {executives_used}\")\n",
    "                logger.info(f\"Executives remaining: {executives_remaining}\")\n",
    "                del model, profits, variables, df_grouped, df_rut_info, df_probabilities, df_cluster_info, resultados_por_cluster, df_probabilities_treatment\n",
    "                gc.collect()\n",
    "            else:\n",
    "                logger.error(\"Optimización no alcanzó una solución óptima.\")\n",
    "                resultados_por_cluster = {}\n",
    "                ganancias_totales = 0\n",
    "            logger.info(\"Optimización completada.\")\n",
    "\n",
    "            return resultados_por_cluster, ganancias_totales\n",
    "        except Exception as e:\n",
    "            logger.error(f\"Error en function_modelo_asignacion_tratamientos: {e}\")\n",
    "            return {}, 0  # Retornar valores por defecto en caso de error global\n",
    "\n",
    "    def recalculate_metrics(self, df_clusters):\n",
    "        logger.info(\"Recalculando métricas...\")\n",
    "        df_clusters = df_clusters[['rut', 'categoria_clusterizacion_numerica']]\n",
    "\n",
    "        # Fusionar df_clusters con df_simulaciones_e_informacion_de_clientes_ventas_tratamiento\n",
    "        df_estimar_elasticidad = pd.merge(\n",
    "            df_clusters,\n",
    "            self.df_sim_ventas_tratamiento,\n",
    "            on='rut',\n",
    "            how='left'\n",
    "        )\n",
    "        logger.debug(f\"Datos después de la fusión: {df_estimar_elasticidad.head()}\")\n",
    "\n",
    "        dict_elasticidad = self.function_estimar_elasticidad(df_estimar_elasticidad)\n",
    "        df_elasticidad = dict_elasticidad['df_estimar_elasticidad']\n",
    "        logger.info(f\"total_revenue: {dict_elasticidad['total_revenue']}, total_clientes: {dict_elasticidad['total_clientes']}, total_simulaciones: {dict_elasticidad['total_simulaciones']}, total_creditos: {dict_elasticidad['total_creditos']}\")\n",
    "\n",
    "        df_probabilities = self.function_estimar_respuesta_a_tratamiento(df_elasticidad, self.df_simulaciones_info)\n",
    "        logger.debug(f\"Probabilidades calculadas: {df_probabilities.head()}\")\n",
    "\n",
    "        # Calcular los promedios para 'Monto_Simulado' y 'Plazo_Simulado' por categoría\n",
    "        df_elasticidad[['Monto_Simulado_mean', 'Plazo_Simulado_mean']] = df_elasticidad.groupby('categoria_clusterizacion_numerica')[['Monto_Simulado', 'Plazo_Simulado']].transform('mean')\n",
    "        logger.debug(f\"Promedios calculados: {df_elasticidad[['Monto_Simulado_mean', 'Plazo_Simulado_mean']].head()}\")\n",
    "\n",
    "        # Reducir tamaño de los DataFrames a las columnas esenciales\n",
    "        df_estimar_elasticidad_small = df_elasticidad[['categoria_clusterizacion_numerica', 'rut', 'tasa_optima', 'probabilidad_aceptacion_optima', 'Probabilidad_No_Pago', 'Monto_Simulado_mean', 'Plazo_Simulado_mean']]\n",
    "        df_probabilities_small = df_probabilities[['categoria_clusterizacion_numerica', 'probabilidad_simular', 'Tratamiento']]\n",
    "\n",
    "        # Guardar información por cluster, tratamiento y cliente\n",
    "        df_cluster_info = df_estimar_elasticidad_small[['categoria_clusterizacion_numerica', 'Monto_Simulado_mean', 'Plazo_Simulado_mean', 'probabilidad_aceptacion_optima', 'tasa_optima']].drop_duplicates()\n",
    "        df_probabilities_treatment = df_probabilities_small[['categoria_clusterizacion_numerica', 'probabilidad_simular', 'Tratamiento']].drop_duplicates()\n",
    "        df_rut_info = df_estimar_elasticidad_small[['rut', 'categoria_clusterizacion_numerica', 'Probabilidad_No_Pago']].drop_duplicates()\n",
    "\n",
    "        logger.info(\"Llamando al modelo de asignación de tratamientos...\")\n",
    "        # Llamar a la función con los DataFrames procesados\n",
    "        resultados_por_cluster, ganancias_totales = self.function_modelo_asignacion_tratamientos(df_cluster_info, df_probabilities_treatment, df_rut_info, 100, 205000)\n",
    "\n",
    "        logger.info(\"Recalculación de métricas completada.\")\n",
    "        return ganancias_totales, len(resultados_por_cluster)"
   ]
  },
  {
   "cell_type": "markdown",
   "metadata": {},
   "source": [
    "## Entrenamiento"
   ]
  },
  {
   "cell_type": "code",
   "execution_count": 46,
   "metadata": {},
   "outputs": [],
   "source": [
    "df_info_clientes_rl = df_informacion_de_clientes[['rut', 'Genero', 'Categoria_Digital', 'Elasticidad_Precios', 'Nacionalidad', 'Propension', 'Probabilidad_No_Pago', 'Edad', 'Renta']]"
   ]
  },
  {
   "cell_type": "code",
   "execution_count": 47,
   "metadata": {},
   "outputs": [
    {
     "name": "stderr",
     "output_type": "stream",
     "text": [
      "2024-11-15 05:27:41,804 - __main__ - INFO - Creando instancia de ClusteringEnv...\n",
      "2024-11-15 05:27:41,806 - __main__ - INFO - Inicializando ClusteringEnv...\n",
      "2024-11-15 05:28:30,580 - __main__ - INFO - Variables categóricas: ['Genero', 'Categoria_Digital', 'Elasticidad_Precios', 'Nacionalidad']\n",
      "2024-11-15 05:28:30,581 - __main__ - INFO - Variables continuas: ['Propension', 'Probabilidad_No_Pago', 'Edad', 'Renta']\n",
      "2024-11-15 05:28:30,583 - __main__ - INFO - Parámetros de splits - Max: 3, Min: 2\n",
      "2024-11-15 05:28:30,585 - __main__ - INFO - Número de acciones posibles: 40\n",
      "2024-11-15 05:28:30,587 - __main__ - INFO - Reiniciando el entorno...\n",
      "2024-11-15 05:28:30,597 - __main__ - INFO - ClusteringEnv inicializado correctamente.\n",
      "2024-11-15 05:28:30,599 - __main__ - INFO - Verificando el entorno con check_env...\n",
      "2024-11-15 05:28:30,601 - __main__ - INFO - Reiniciando el entorno...\n",
      "2024-11-15 05:28:30,610 - __main__ - INFO - Reiniciando el entorno...\n",
      "2024-11-15 05:28:30,624 - __main__ - INFO - Aplicando acción tipo: adjust_splits sobre variable: Edad con parámetros: {'operation': 'move', 'index': 2, 'amount': -1}\n",
      "2024-11-15 05:28:30,626 - __main__ - INFO - Recalculando clusters...\n",
      "2024-11-15 05:28:30,627 - __main__ - INFO - Realizando clustering...\n",
      "2024-11-15 05:28:30,663 - __main__ - INFO - Procesando variable: Genero\n",
      "2024-11-15 05:28:30,665 - __main__ - INFO - Procesando variable: Categoria_Digital\n",
      "2024-11-15 05:28:30,665 - __main__ - INFO - Procesando variable: Elasticidad_Precios\n",
      "2024-11-15 05:28:30,667 - __main__ - INFO - Procesando variable: Nacionalidad\n",
      "2024-11-15 05:28:30,670 - __main__ - INFO - Procesando variable: Propension\n",
      "2024-11-15 05:28:30,672 - __main__ - INFO - Procesando variable: Probabilidad_No_Pago\n",
      "2024-11-15 05:28:30,673 - __main__ - INFO - Procesando variable: Edad\n",
      "2024-11-15 05:28:30,675 - __main__ - INFO - Procesando variable: Renta\n",
      "2024-11-15 05:28:30,677 - __main__ - INFO - Variables incluidas en clusterización: []\n",
      "2024-11-15 05:28:30,739 - __main__ - INFO - Variables incluidas en este clustering: []\n",
      "2024-11-15 05:28:30,741 - __main__ - INFO - Clustering completado. Número de clusters: 1\n",
      "2024-11-15 05:28:30,742 - __main__ - INFO - Recalculando métricas...\n",
      "2024-11-15 05:28:30,745 - __main__ - INFO - Recalculando métricas...\n",
      "2024-11-15 05:28:39,117 - __main__ - INFO - Estimando elasticidad...\n",
      "2024-11-15 05:29:15,441 - __main__ - INFO - Cluster 0:\n",
      "2024-11-15 05:29:15,443 - __main__ - INFO - - Precio Máx. Revenue Esperado = 1.25%\n",
      "2024-11-15 05:29:15,445 - __main__ - INFO - - Revenue Esperado Máximo = 86,291,395,146.04\n",
      "2024-11-15 05:29:15,447 - __main__ - INFO - - Número de clientes en el cluster = 542904\n",
      "2024-11-15 05:29:15,449 - __main__ - INFO - - Número de simulaciones en el cluster = 129035.42\n",
      "2024-11-15 05:29:15,451 - __main__ - INFO - - Probabilidad de aceptación en el precio óptimo = 0.5220\n",
      "2024-11-15 05:29:15,453 - __main__ - INFO - - Número esperado de créditos aceptados = 67360\n",
      "2024-11-15 05:29:15,455 - __main__ - INFO - - Monto medio simulado = 6,964,460.66\n",
      "2024-11-15 05:29:15,457 - __main__ - INFO - - Plazo medio simulado = 27.50\n",
      "2024-11-15 05:29:15,458 - __main__ - INFO - - Probabilidad de no pago media = 0.0171\n",
      "\n",
      "2024-11-15 05:29:23,644 - __main__ - INFO - El revenue total esperado es: 86,291,395,146.04 con un total de 542904 clientes, 129,035.42 simulaciones, y 67360 créditos.\n",
      "2024-11-15 05:29:26,688 - __main__ - INFO - total_revenue: 86291395146.04265, total_clientes: 542904, total_simulaciones: 129035.42424242424, total_creditos: 67360\n",
      "2024-11-15 05:30:19,041 - __main__ - INFO - Estimación de respuesta a tratamientos completada.\n",
      "2024-11-15 05:30:26,353 - __main__ - INFO - Llamando al modelo de asignación de tratamientos...\n",
      "2024-11-15 05:30:26,354 - __main__ - INFO - Iniciando modelo de asignación de tratamientos...\n",
      "2024-11-15 05:30:26,356 - __main__ - INFO - Procesando datos de probabilidades y asignando IDs de tratamiento...\n",
      "2024-11-15 05:30:26,385 - __main__ - INFO - Fusionando probabilidades con información de RUT...\n",
      "2024-11-15 05:30:26,686 - __main__ - INFO - Fusionando información de RUT con información de clusters...\n",
      "2024-11-15 05:30:26,853 - __main__ - INFO - Agrupando información por cluster...\n",
      "2024-11-15 05:30:27,481 - __main__ - INFO - Calculando Revenue Calculado (RC)...\n",
      "2024-11-15 05:30:27,556 - __main__ - INFO - Preparando matriz de beneficios para optimización...\n",
      "2024-11-15 05:30:27,558 - __main__ - INFO - Inicializando modelo de optimización con Gurobi...\n",
      "2024-11-15 05:30:28,040 - __main__ - INFO - Creando variables de decisión...\n",
      "2024-11-15 05:30:28,080 - __main__ - INFO - Agregando restricción de un tratamiento por cliente...\n",
      "2024-11-15 05:30:28,145 - __main__ - INFO - Agregando restricción de capacidad para ejecutivos...\n",
      "2024-11-15 05:30:28,152 - __main__ - INFO - Agregando restricciones de consistencia por cluster...\n",
      "2024-11-15 05:30:28,154 - __main__ - INFO - Iniciando optimización con Gurobi...\n"
     ]
    },
    {
     "name": "stdout",
     "output_type": "stream",
     "text": [
      "Gurobi Optimizer version 11.0.3 build v11.0.3rc0 (win64 - Windows 10.0 (19045.2))\n"
     ]
    },
    {
     "name": "stderr",
     "output_type": "stream",
     "text": [
      "2024-11-15 05:30:28,391 - gurobipy - INFO - Gurobi Optimizer version 11.0.3 build v11.0.3rc0 (win64 - Windows 10.0 (19045.2))\n"
     ]
    },
    {
     "name": "stdout",
     "output_type": "stream",
     "text": [
      "\n"
     ]
    },
    {
     "name": "stderr",
     "output_type": "stream",
     "text": [
      "2024-11-15 05:30:28,397 - gurobipy - INFO - \n"
     ]
    },
    {
     "name": "stdout",
     "output_type": "stream",
     "text": [
      "CPU model: AMD Ryzen 5 2500U with Radeon Vega Mobile Gfx, instruction set [SSE2|AVX|AVX2]\n"
     ]
    },
    {
     "name": "stderr",
     "output_type": "stream",
     "text": [
      "2024-11-15 05:30:28,436 - gurobipy - INFO - CPU model: AMD Ryzen 5 2500U with Radeon Vega Mobile Gfx, instruction set [SSE2|AVX|AVX2]\n"
     ]
    },
    {
     "name": "stdout",
     "output_type": "stream",
     "text": [
      "Thread count: 4 physical cores, 8 logical processors, using up to 8 threads\n"
     ]
    },
    {
     "name": "stderr",
     "output_type": "stream",
     "text": [
      "2024-11-15 05:30:28,439 - gurobipy - INFO - Thread count: 4 physical cores, 8 logical processors, using up to 8 threads\n"
     ]
    },
    {
     "name": "stdout",
     "output_type": "stream",
     "text": [
      "\n"
     ]
    },
    {
     "name": "stderr",
     "output_type": "stream",
     "text": [
      "2024-11-15 05:30:28,441 - gurobipy - INFO - \n"
     ]
    },
    {
     "name": "stdout",
     "output_type": "stream",
     "text": [
      "Optimize a model with 2 rows, 8 columns and 11 nonzeros\n"
     ]
    },
    {
     "name": "stderr",
     "output_type": "stream",
     "text": [
      "2024-11-15 05:30:28,446 - gurobipy - INFO - Optimize a model with 2 rows, 8 columns and 11 nonzeros\n"
     ]
    },
    {
     "name": "stdout",
     "output_type": "stream",
     "text": [
      "Model fingerprint: 0x68f3dafc\n"
     ]
    },
    {
     "name": "stderr",
     "output_type": "stream",
     "text": [
      "2024-11-15 05:30:28,450 - gurobipy - INFO - Model fingerprint: 0x68f3dafc\n"
     ]
    },
    {
     "name": "stdout",
     "output_type": "stream",
     "text": [
      "Variable types: 0 continuous, 8 integer (8 binary)\n"
     ]
    },
    {
     "name": "stderr",
     "output_type": "stream",
     "text": [
      "2024-11-15 05:30:28,452 - gurobipy - INFO - Variable types: 0 continuous, 8 integer (8 binary)\n"
     ]
    },
    {
     "name": "stdout",
     "output_type": "stream",
     "text": [
      "Coefficient statistics:\n"
     ]
    },
    {
     "name": "stderr",
     "output_type": "stream",
     "text": [
      "2024-11-15 05:30:28,458 - gurobipy - INFO - Coefficient statistics:\n"
     ]
    },
    {
     "name": "stdout",
     "output_type": "stream",
     "text": [
      "  Matrix range     [1e+00, 5e+05]\n"
     ]
    },
    {
     "name": "stderr",
     "output_type": "stream",
     "text": [
      "2024-11-15 05:30:28,466 - gurobipy - INFO -   Matrix range     [1e+00, 5e+05]\n"
     ]
    },
    {
     "name": "stdout",
     "output_type": "stream",
     "text": [
      "  Objective range  [5e+10, 1e+11]\n"
     ]
    },
    {
     "name": "stderr",
     "output_type": "stream",
     "text": [
      "2024-11-15 05:30:28,470 - gurobipy - INFO -   Objective range  [5e+10, 1e+11]\n"
     ]
    },
    {
     "name": "stdout",
     "output_type": "stream",
     "text": [
      "  Bounds range     [1e+00, 1e+00]\n"
     ]
    },
    {
     "name": "stderr",
     "output_type": "stream",
     "text": [
      "2024-11-15 05:30:28,472 - gurobipy - INFO -   Bounds range     [1e+00, 1e+00]\n"
     ]
    },
    {
     "name": "stdout",
     "output_type": "stream",
     "text": [
      "  RHS range        [1e+00, 2e+05]\n"
     ]
    },
    {
     "name": "stderr",
     "output_type": "stream",
     "text": [
      "2024-11-15 05:30:28,474 - gurobipy - INFO -   RHS range        [1e+00, 2e+05]\n"
     ]
    },
    {
     "name": "stdout",
     "output_type": "stream",
     "text": [
      "Warning: Model contains large objective coefficients\n"
     ]
    },
    {
     "name": "stderr",
     "output_type": "stream",
     "text": [
      "2024-11-15 05:30:28,476 - gurobipy - INFO - Warning: Model contains large objective coefficients\n"
     ]
    },
    {
     "name": "stdout",
     "output_type": "stream",
     "text": [
      "         Consider reformulating model or setting NumericFocus parameter\n"
     ]
    },
    {
     "name": "stderr",
     "output_type": "stream",
     "text": [
      "2024-11-15 05:30:28,480 - gurobipy - INFO -          Consider reformulating model or setting NumericFocus parameter\n"
     ]
    },
    {
     "name": "stdout",
     "output_type": "stream",
     "text": [
      "         to avoid numerical issues.\n"
     ]
    },
    {
     "name": "stderr",
     "output_type": "stream",
     "text": [
      "2024-11-15 05:30:28,481 - gurobipy - INFO -          to avoid numerical issues.\n"
     ]
    },
    {
     "name": "stdout",
     "output_type": "stream",
     "text": [
      "Found heuristic solution: objective 5.187296e+10\n"
     ]
    },
    {
     "name": "stderr",
     "output_type": "stream",
     "text": [
      "2024-11-15 05:30:28,488 - gurobipy - INFO - Found heuristic solution: objective 5.187296e+10\n"
     ]
    },
    {
     "name": "stdout",
     "output_type": "stream",
     "text": [
      "Presolve removed 2 rows and 8 columns\n"
     ]
    },
    {
     "name": "stderr",
     "output_type": "stream",
     "text": [
      "2024-11-15 05:30:28,531 - gurobipy - INFO - Presolve removed 2 rows and 8 columns\n"
     ]
    },
    {
     "name": "stdout",
     "output_type": "stream",
     "text": [
      "Presolve time: 0.04s\n"
     ]
    },
    {
     "name": "stderr",
     "output_type": "stream",
     "text": [
      "2024-11-15 05:30:28,534 - gurobipy - INFO - Presolve time: 0.04s\n"
     ]
    },
    {
     "name": "stdout",
     "output_type": "stream",
     "text": [
      "Presolve: All rows and columns removed\n"
     ]
    },
    {
     "name": "stderr",
     "output_type": "stream",
     "text": [
      "2024-11-15 05:30:28,545 - gurobipy - INFO - Presolve: All rows and columns removed\n"
     ]
    },
    {
     "name": "stdout",
     "output_type": "stream",
     "text": [
      "\n"
     ]
    },
    {
     "name": "stderr",
     "output_type": "stream",
     "text": [
      "2024-11-15 05:30:28,551 - gurobipy - INFO - \n"
     ]
    },
    {
     "name": "stdout",
     "output_type": "stream",
     "text": [
      "Explored 0 nodes (0 simplex iterations) in 0.11 seconds (0.00 work units)\n"
     ]
    },
    {
     "name": "stderr",
     "output_type": "stream",
     "text": [
      "2024-11-15 05:30:28,554 - gurobipy - INFO - Explored 0 nodes (0 simplex iterations) in 0.11 seconds (0.00 work units)\n"
     ]
    },
    {
     "name": "stdout",
     "output_type": "stream",
     "text": [
      "Thread count was 1 (of 8 available processors)\n"
     ]
    },
    {
     "name": "stderr",
     "output_type": "stream",
     "text": [
      "2024-11-15 05:30:28,557 - gurobipy - INFO - Thread count was 1 (of 8 available processors)\n"
     ]
    },
    {
     "name": "stdout",
     "output_type": "stream",
     "text": [
      "\n"
     ]
    },
    {
     "name": "stderr",
     "output_type": "stream",
     "text": [
      "2024-11-15 05:30:28,559 - gurobipy - INFO - \n"
     ]
    },
    {
     "name": "stdout",
     "output_type": "stream",
     "text": [
      "Solution count 2: 6.3826e+10 5.1873e+10 \n"
     ]
    },
    {
     "name": "stderr",
     "output_type": "stream",
     "text": [
      "2024-11-15 05:30:28,564 - gurobipy - INFO - Solution count 2: 6.3826e+10 5.1873e+10 \n"
     ]
    },
    {
     "name": "stdout",
     "output_type": "stream",
     "text": [
      "\n"
     ]
    },
    {
     "name": "stderr",
     "output_type": "stream",
     "text": [
      "2024-11-15 05:30:28,566 - gurobipy - INFO - \n"
     ]
    },
    {
     "name": "stdout",
     "output_type": "stream",
     "text": [
      "Optimal solution found (tolerance 1.00e-04)\n"
     ]
    },
    {
     "name": "stderr",
     "output_type": "stream",
     "text": [
      "2024-11-15 05:30:28,570 - gurobipy - INFO - Optimal solution found (tolerance 1.00e-04)\n"
     ]
    },
    {
     "name": "stdout",
     "output_type": "stream",
     "text": [
      "Best objective 6.382598036972e+10, best bound 6.382598036972e+10, gap 0.0000%\n"
     ]
    },
    {
     "name": "stderr",
     "output_type": "stream",
     "text": [
      "2024-11-15 05:30:28,589 - gurobipy - INFO - Best objective 6.382598036972e+10, best bound 6.382598036972e+10, gap 0.0000%\n",
      "2024-11-15 05:30:28,591 - __main__ - INFO - Optimización exitosa. Extrayendo resultados...\n",
      "2024-11-15 05:30:28,593 - __main__ - INFO - Ganancias totales: 63825980369.72\n",
      "2024-11-15 05:30:28,595 - __main__ - INFO - Executives used: 0\n",
      "2024-11-15 05:30:28,597 - __main__ - INFO - Executives remaining: 205000\n",
      "2024-11-15 05:30:40,030 - __main__ - INFO - Optimización completada.\n",
      "2024-11-15 05:30:40,032 - __main__ - ERROR - Error en function_modelo_asignacion_tratamientos: local variable 'model' referenced before assignment\n",
      "2024-11-15 05:30:40,034 - __main__ - INFO - Recalculación de métricas completada.\n",
      "2024-11-15 05:30:42,012 - __main__ - INFO - Reiniciando el entorno...\n",
      "2024-11-15 05:30:42,020 - __main__ - INFO - Aplicando acción tipo: adjust_splits sobre variable: Renta con parámetros: {'operation': 'increase'}\n",
      "2024-11-15 05:30:42,022 - __main__ - INFO - Recalculando clusters...\n",
      "2024-11-15 05:30:42,024 - __main__ - INFO - Realizando clustering...\n",
      "2024-11-15 05:30:42,075 - __main__ - INFO - Procesando variable: Genero\n",
      "2024-11-15 05:30:42,077 - __main__ - INFO - Procesando variable: Categoria_Digital\n",
      "2024-11-15 05:30:42,079 - __main__ - INFO - Procesando variable: Elasticidad_Precios\n",
      "2024-11-15 05:30:42,082 - __main__ - INFO - Procesando variable: Nacionalidad\n",
      "2024-11-15 05:30:42,083 - __main__ - INFO - Procesando variable: Propension\n",
      "2024-11-15 05:30:42,085 - __main__ - INFO - Procesando variable: Probabilidad_No_Pago\n",
      "2024-11-15 05:30:42,104 - __main__ - INFO - Procesando variable: Edad\n",
      "2024-11-15 05:30:42,107 - __main__ - INFO - Procesando variable: Renta\n",
      "2024-11-15 05:30:42,109 - __main__ - INFO - Variables incluidas en clusterización: []\n",
      "2024-11-15 05:30:42,133 - __main__ - INFO - Variables incluidas en este clustering: []\n",
      "2024-11-15 05:30:42,135 - __main__ - INFO - Clustering completado. Número de clusters: 1\n",
      "2024-11-15 05:30:42,136 - __main__ - INFO - Recalculando métricas...\n",
      "2024-11-15 05:30:42,140 - __main__ - INFO - Recalculando métricas...\n",
      "2024-11-15 05:30:46,840 - __main__ - INFO - Estimando elasticidad...\n",
      "2024-11-15 05:31:20,988 - __main__ - INFO - Cluster 0:\n",
      "2024-11-15 05:31:20,990 - __main__ - INFO - - Precio Máx. Revenue Esperado = 1.25%\n",
      "2024-11-15 05:31:20,994 - __main__ - INFO - - Revenue Esperado Máximo = 86,291,395,146.04\n",
      "2024-11-15 05:31:20,996 - __main__ - INFO - - Número de clientes en el cluster = 542904\n",
      "2024-11-15 05:31:20,998 - __main__ - INFO - - Número de simulaciones en el cluster = 129035.42\n",
      "2024-11-15 05:31:21,000 - __main__ - INFO - - Probabilidad de aceptación en el precio óptimo = 0.5220\n",
      "2024-11-15 05:31:21,003 - __main__ - INFO - - Número esperado de créditos aceptados = 67360\n",
      "2024-11-15 05:31:21,005 - __main__ - INFO - - Monto medio simulado = 6,964,460.66\n",
      "2024-11-15 05:31:21,007 - __main__ - INFO - - Plazo medio simulado = 27.50\n",
      "2024-11-15 05:31:21,010 - __main__ - INFO - - Probabilidad de no pago media = 0.0171\n",
      "\n",
      "2024-11-15 05:31:22,040 - __main__ - INFO - El revenue total esperado es: 86,291,395,146.04 con un total de 542904 clientes, 129,035.42 simulaciones, y 67360 créditos.\n",
      "2024-11-15 05:31:24,525 - __main__ - INFO - total_revenue: 86291395146.04265, total_clientes: 542904, total_simulaciones: 129035.42424242424, total_creditos: 67360\n",
      "2024-11-15 05:31:46,426 - __main__ - INFO - Estimación de respuesta a tratamientos completada.\n",
      "2024-11-15 05:31:53,182 - __main__ - INFO - Llamando al modelo de asignación de tratamientos...\n",
      "2024-11-15 05:31:53,184 - __main__ - INFO - Iniciando modelo de asignación de tratamientos...\n",
      "2024-11-15 05:31:53,186 - __main__ - INFO - Procesando datos de probabilidades y asignando IDs de tratamiento...\n",
      "2024-11-15 05:31:53,192 - __main__ - INFO - Fusionando probabilidades con información de RUT...\n",
      "2024-11-15 05:31:53,408 - __main__ - INFO - Fusionando información de RUT con información de clusters...\n",
      "2024-11-15 05:31:53,592 - __main__ - INFO - Agrupando información por cluster...\n",
      "2024-11-15 05:31:54,026 - __main__ - INFO - Calculando Revenue Calculado (RC)...\n",
      "2024-11-15 05:31:54,033 - __main__ - INFO - Preparando matriz de beneficios para optimización...\n",
      "2024-11-15 05:31:54,035 - __main__ - INFO - Inicializando modelo de optimización con Gurobi...\n",
      "2024-11-15 05:31:54,037 - __main__ - INFO - Creando variables de decisión...\n",
      "2024-11-15 05:31:54,039 - __main__ - INFO - Agregando restricción de un tratamiento por cliente...\n",
      "2024-11-15 05:31:54,041 - __main__ - INFO - Agregando restricción de capacidad para ejecutivos...\n",
      "2024-11-15 05:31:54,044 - __main__ - INFO - Agregando restricciones de consistencia por cluster...\n",
      "2024-11-15 05:31:54,048 - __main__ - INFO - Iniciando optimización con Gurobi...\n"
     ]
    },
    {
     "name": "stdout",
     "output_type": "stream",
     "text": [
      "Gurobi Optimizer version 11.0.3 build v11.0.3rc0 (win64 - Windows 10.0 (19045.2))\n"
     ]
    },
    {
     "name": "stderr",
     "output_type": "stream",
     "text": [
      "2024-11-15 05:31:54,052 - gurobipy - INFO - Gurobi Optimizer version 11.0.3 build v11.0.3rc0 (win64 - Windows 10.0 (19045.2))\n"
     ]
    },
    {
     "name": "stdout",
     "output_type": "stream",
     "text": [
      "\n"
     ]
    },
    {
     "name": "stderr",
     "output_type": "stream",
     "text": [
      "2024-11-15 05:31:54,058 - gurobipy - INFO - \n"
     ]
    },
    {
     "name": "stdout",
     "output_type": "stream",
     "text": [
      "CPU model: AMD Ryzen 5 2500U with Radeon Vega Mobile Gfx, instruction set [SSE2|AVX|AVX2]\n"
     ]
    },
    {
     "name": "stderr",
     "output_type": "stream",
     "text": [
      "2024-11-15 05:31:54,060 - gurobipy - INFO - CPU model: AMD Ryzen 5 2500U with Radeon Vega Mobile Gfx, instruction set [SSE2|AVX|AVX2]\n"
     ]
    },
    {
     "name": "stdout",
     "output_type": "stream",
     "text": [
      "Thread count: 4 physical cores, 8 logical processors, using up to 8 threads\n"
     ]
    },
    {
     "name": "stderr",
     "output_type": "stream",
     "text": [
      "2024-11-15 05:31:54,064 - gurobipy - INFO - Thread count: 4 physical cores, 8 logical processors, using up to 8 threads\n"
     ]
    },
    {
     "name": "stdout",
     "output_type": "stream",
     "text": [
      "\n"
     ]
    },
    {
     "name": "stderr",
     "output_type": "stream",
     "text": [
      "2024-11-15 05:31:54,066 - gurobipy - INFO - \n"
     ]
    },
    {
     "name": "stdout",
     "output_type": "stream",
     "text": [
      "Optimize a model with 2 rows, 8 columns and 11 nonzeros\n"
     ]
    },
    {
     "name": "stderr",
     "output_type": "stream",
     "text": [
      "2024-11-15 05:31:54,069 - gurobipy - INFO - Optimize a model with 2 rows, 8 columns and 11 nonzeros\n"
     ]
    },
    {
     "name": "stdout",
     "output_type": "stream",
     "text": [
      "Model fingerprint: 0x68f3dafc\n"
     ]
    },
    {
     "name": "stderr",
     "output_type": "stream",
     "text": [
      "2024-11-15 05:31:54,071 - gurobipy - INFO - Model fingerprint: 0x68f3dafc\n"
     ]
    },
    {
     "name": "stdout",
     "output_type": "stream",
     "text": [
      "Variable types: 0 continuous, 8 integer (8 binary)\n"
     ]
    },
    {
     "name": "stderr",
     "output_type": "stream",
     "text": [
      "2024-11-15 05:31:54,077 - gurobipy - INFO - Variable types: 0 continuous, 8 integer (8 binary)\n"
     ]
    },
    {
     "name": "stdout",
     "output_type": "stream",
     "text": [
      "Coefficient statistics:\n"
     ]
    },
    {
     "name": "stderr",
     "output_type": "stream",
     "text": [
      "2024-11-15 05:31:54,081 - gurobipy - INFO - Coefficient statistics:\n"
     ]
    },
    {
     "name": "stdout",
     "output_type": "stream",
     "text": [
      "  Matrix range     [1e+00, 5e+05]\n"
     ]
    },
    {
     "name": "stderr",
     "output_type": "stream",
     "text": [
      "2024-11-15 05:31:54,085 - gurobipy - INFO -   Matrix range     [1e+00, 5e+05]\n"
     ]
    },
    {
     "name": "stdout",
     "output_type": "stream",
     "text": [
      "  Objective range  [5e+10, 1e+11]\n"
     ]
    },
    {
     "name": "stderr",
     "output_type": "stream",
     "text": [
      "2024-11-15 05:31:54,090 - gurobipy - INFO -   Objective range  [5e+10, 1e+11]\n"
     ]
    },
    {
     "name": "stdout",
     "output_type": "stream",
     "text": [
      "  Bounds range     [1e+00, 1e+00]\n"
     ]
    },
    {
     "name": "stderr",
     "output_type": "stream",
     "text": [
      "2024-11-15 05:31:54,094 - gurobipy - INFO -   Bounds range     [1e+00, 1e+00]\n"
     ]
    },
    {
     "name": "stdout",
     "output_type": "stream",
     "text": [
      "  RHS range        [1e+00, 2e+05]\n"
     ]
    },
    {
     "name": "stderr",
     "output_type": "stream",
     "text": [
      "2024-11-15 05:31:54,100 - gurobipy - INFO -   RHS range        [1e+00, 2e+05]\n"
     ]
    },
    {
     "name": "stdout",
     "output_type": "stream",
     "text": [
      "Warning: Model contains large objective coefficients\n"
     ]
    },
    {
     "name": "stderr",
     "output_type": "stream",
     "text": [
      "2024-11-15 05:31:54,104 - gurobipy - INFO - Warning: Model contains large objective coefficients\n"
     ]
    },
    {
     "name": "stdout",
     "output_type": "stream",
     "text": [
      "         Consider reformulating model or setting NumericFocus parameter\n"
     ]
    },
    {
     "name": "stderr",
     "output_type": "stream",
     "text": [
      "2024-11-15 05:31:54,108 - gurobipy - INFO -          Consider reformulating model or setting NumericFocus parameter\n"
     ]
    },
    {
     "name": "stdout",
     "output_type": "stream",
     "text": [
      "         to avoid numerical issues.\n"
     ]
    },
    {
     "name": "stderr",
     "output_type": "stream",
     "text": [
      "2024-11-15 05:31:54,113 - gurobipy - INFO -          to avoid numerical issues.\n"
     ]
    },
    {
     "name": "stdout",
     "output_type": "stream",
     "text": [
      "Found heuristic solution: objective 5.187296e+10\n"
     ]
    },
    {
     "name": "stderr",
     "output_type": "stream",
     "text": [
      "2024-11-15 05:31:54,116 - gurobipy - INFO - Found heuristic solution: objective 5.187296e+10\n"
     ]
    },
    {
     "name": "stdout",
     "output_type": "stream",
     "text": [
      "Presolve removed 2 rows and 8 columns\n"
     ]
    },
    {
     "name": "stderr",
     "output_type": "stream",
     "text": [
      "2024-11-15 05:31:54,202 - gurobipy - INFO - Presolve removed 2 rows and 8 columns\n"
     ]
    },
    {
     "name": "stdout",
     "output_type": "stream",
     "text": [
      "Presolve time: 0.07s\n"
     ]
    },
    {
     "name": "stderr",
     "output_type": "stream",
     "text": [
      "2024-11-15 05:31:54,206 - gurobipy - INFO - Presolve time: 0.07s\n"
     ]
    },
    {
     "name": "stdout",
     "output_type": "stream",
     "text": [
      "Presolve: All rows and columns removed\n"
     ]
    },
    {
     "name": "stderr",
     "output_type": "stream",
     "text": [
      "2024-11-15 05:31:54,211 - gurobipy - INFO - Presolve: All rows and columns removed\n"
     ]
    },
    {
     "name": "stdout",
     "output_type": "stream",
     "text": [
      "\n"
     ]
    },
    {
     "name": "stderr",
     "output_type": "stream",
     "text": [
      "2024-11-15 05:31:54,217 - gurobipy - INFO - \n"
     ]
    },
    {
     "name": "stdout",
     "output_type": "stream",
     "text": [
      "Explored 0 nodes (0 simplex iterations) in 0.15 seconds (0.00 work units)\n"
     ]
    },
    {
     "name": "stderr",
     "output_type": "stream",
     "text": [
      "2024-11-15 05:31:54,223 - gurobipy - INFO - Explored 0 nodes (0 simplex iterations) in 0.15 seconds (0.00 work units)\n"
     ]
    },
    {
     "name": "stdout",
     "output_type": "stream",
     "text": [
      "Thread count was 1 (of 8 available processors)\n"
     ]
    },
    {
     "name": "stderr",
     "output_type": "stream",
     "text": [
      "2024-11-15 05:31:54,231 - gurobipy - INFO - Thread count was 1 (of 8 available processors)\n"
     ]
    },
    {
     "name": "stdout",
     "output_type": "stream",
     "text": [
      "\n"
     ]
    },
    {
     "name": "stderr",
     "output_type": "stream",
     "text": [
      "2024-11-15 05:31:54,236 - gurobipy - INFO - \n"
     ]
    },
    {
     "name": "stdout",
     "output_type": "stream",
     "text": [
      "Solution count 2: 6.3826e+10 5.1873e+10 \n"
     ]
    },
    {
     "name": "stderr",
     "output_type": "stream",
     "text": [
      "2024-11-15 05:31:54,358 - gurobipy - INFO - Solution count 2: 6.3826e+10 5.1873e+10 \n"
     ]
    },
    {
     "name": "stdout",
     "output_type": "stream",
     "text": [
      "\n"
     ]
    },
    {
     "name": "stderr",
     "output_type": "stream",
     "text": [
      "2024-11-15 05:31:54,362 - gurobipy - INFO - \n"
     ]
    },
    {
     "name": "stdout",
     "output_type": "stream",
     "text": [
      "Optimal solution found (tolerance 1.00e-04)\n"
     ]
    },
    {
     "name": "stderr",
     "output_type": "stream",
     "text": [
      "2024-11-15 05:31:54,367 - gurobipy - INFO - Optimal solution found (tolerance 1.00e-04)\n"
     ]
    },
    {
     "name": "stdout",
     "output_type": "stream",
     "text": [
      "Best objective 6.382598036972e+10, best bound 6.382598036972e+10, gap 0.0000%\n"
     ]
    },
    {
     "name": "stderr",
     "output_type": "stream",
     "text": [
      "2024-11-15 05:31:54,370 - gurobipy - INFO - Best objective 6.382598036972e+10, best bound 6.382598036972e+10, gap 0.0000%\n",
      "2024-11-15 05:31:54,372 - __main__ - INFO - Optimización exitosa. Extrayendo resultados...\n",
      "2024-11-15 05:31:54,375 - __main__ - INFO - Ganancias totales: 63825980369.72\n",
      "2024-11-15 05:31:54,377 - __main__ - INFO - Executives used: 0\n",
      "2024-11-15 05:31:54,379 - __main__ - INFO - Executives remaining: 205000\n",
      "2024-11-15 05:31:54,784 - __main__ - INFO - Optimización completada.\n",
      "2024-11-15 05:31:54,785 - __main__ - ERROR - Error en function_modelo_asignacion_tratamientos: local variable 'model' referenced before assignment\n",
      "2024-11-15 05:31:54,786 - __main__ - INFO - Recalculación de métricas completada.\n",
      "2024-11-15 05:31:56,243 - __main__ - INFO - Aplicando acción tipo: adjust_splits sobre variable: Renta con parámetros: {'operation': 'decrease'}\n",
      "2024-11-15 05:31:56,244 - __main__ - INFO - Recalculando clusters...\n",
      "2024-11-15 05:31:56,245 - __main__ - INFO - Realizando clustering...\n",
      "2024-11-15 05:31:56,271 - __main__ - INFO - Procesando variable: Genero\n",
      "2024-11-15 05:31:56,272 - __main__ - INFO - Procesando variable: Categoria_Digital\n",
      "2024-11-15 05:31:56,272 - __main__ - INFO - Procesando variable: Elasticidad_Precios\n",
      "2024-11-15 05:31:56,273 - __main__ - INFO - Procesando variable: Nacionalidad\n",
      "2024-11-15 05:31:56,274 - __main__ - INFO - Procesando variable: Propension\n",
      "2024-11-15 05:31:56,275 - __main__ - INFO - Procesando variable: Probabilidad_No_Pago\n",
      "2024-11-15 05:31:56,276 - __main__ - INFO - Procesando variable: Edad\n",
      "2024-11-15 05:31:56,277 - __main__ - INFO - Procesando variable: Renta\n",
      "2024-11-15 05:31:56,278 - __main__ - INFO - Variables incluidas en clusterización: []\n",
      "2024-11-15 05:31:56,296 - __main__ - INFO - Variables incluidas en este clustering: []\n",
      "2024-11-15 05:31:56,297 - __main__ - INFO - Clustering completado. Número de clusters: 1\n",
      "2024-11-15 05:31:56,298 - __main__ - INFO - Recalculando métricas...\n",
      "2024-11-15 05:31:56,300 - __main__ - INFO - Recalculando métricas...\n",
      "2024-11-15 05:32:00,219 - __main__ - INFO - Estimando elasticidad...\n",
      "2024-11-15 05:32:33,434 - __main__ - INFO - Cluster 0:\n",
      "2024-11-15 05:32:33,436 - __main__ - INFO - - Precio Máx. Revenue Esperado = 1.25%\n",
      "2024-11-15 05:32:33,438 - __main__ - INFO - - Revenue Esperado Máximo = 86,291,395,146.04\n",
      "2024-11-15 05:32:33,440 - __main__ - INFO - - Número de clientes en el cluster = 542904\n",
      "2024-11-15 05:32:33,446 - __main__ - INFO - - Número de simulaciones en el cluster = 129035.42\n",
      "2024-11-15 05:32:33,449 - __main__ - INFO - - Probabilidad de aceptación en el precio óptimo = 0.5220\n",
      "2024-11-15 05:32:33,452 - __main__ - INFO - - Número esperado de créditos aceptados = 67360\n",
      "2024-11-15 05:32:33,454 - __main__ - INFO - - Monto medio simulado = 6,964,460.66\n",
      "2024-11-15 05:32:33,456 - __main__ - INFO - - Plazo medio simulado = 27.50\n",
      "2024-11-15 05:32:33,459 - __main__ - INFO - - Probabilidad de no pago media = 0.0171\n",
      "\n",
      "2024-11-15 05:32:34,378 - __main__ - INFO - El revenue total esperado es: 86,291,395,146.04 con un total de 542904 clientes, 129,035.42 simulaciones, y 67360 créditos.\n",
      "2024-11-15 05:32:37,174 - __main__ - INFO - total_revenue: 86291395146.04265, total_clientes: 542904, total_simulaciones: 129035.42424242424, total_creditos: 67360\n",
      "2024-11-15 05:32:59,008 - __main__ - INFO - Estimación de respuesta a tratamientos completada.\n",
      "2024-11-15 05:33:05,981 - __main__ - INFO - Llamando al modelo de asignación de tratamientos...\n",
      "2024-11-15 05:33:05,983 - __main__ - INFO - Iniciando modelo de asignación de tratamientos...\n",
      "2024-11-15 05:33:05,984 - __main__ - INFO - Procesando datos de probabilidades y asignando IDs de tratamiento...\n",
      "2024-11-15 05:33:05,993 - __main__ - INFO - Fusionando probabilidades con información de RUT...\n",
      "2024-11-15 05:33:06,200 - __main__ - INFO - Fusionando información de RUT con información de clusters...\n",
      "2024-11-15 05:33:06,430 - __main__ - INFO - Agrupando información por cluster...\n",
      "2024-11-15 05:33:06,905 - __main__ - INFO - Calculando Revenue Calculado (RC)...\n",
      "2024-11-15 05:33:06,912 - __main__ - INFO - Preparando matriz de beneficios para optimización...\n",
      "2024-11-15 05:33:06,915 - __main__ - INFO - Inicializando modelo de optimización con Gurobi...\n",
      "2024-11-15 05:33:06,926 - __main__ - INFO - Creando variables de decisión...\n",
      "2024-11-15 05:33:06,927 - __main__ - INFO - Agregando restricción de un tratamiento por cliente...\n",
      "2024-11-15 05:33:06,929 - __main__ - INFO - Agregando restricción de capacidad para ejecutivos...\n",
      "2024-11-15 05:33:06,932 - __main__ - INFO - Agregando restricciones de consistencia por cluster...\n",
      "2024-11-15 05:33:06,936 - __main__ - INFO - Iniciando optimización con Gurobi...\n"
     ]
    },
    {
     "name": "stdout",
     "output_type": "stream",
     "text": [
      "Gurobi Optimizer version 11.0.3 build v11.0.3rc0 (win64 - Windows 10.0 (19045.2))\n"
     ]
    },
    {
     "name": "stderr",
     "output_type": "stream",
     "text": [
      "2024-11-15 05:33:06,997 - gurobipy - INFO - Gurobi Optimizer version 11.0.3 build v11.0.3rc0 (win64 - Windows 10.0 (19045.2))\n"
     ]
    },
    {
     "name": "stdout",
     "output_type": "stream",
     "text": [
      "\n"
     ]
    },
    {
     "name": "stderr",
     "output_type": "stream",
     "text": [
      "2024-11-15 05:33:07,002 - gurobipy - INFO - \n"
     ]
    },
    {
     "name": "stdout",
     "output_type": "stream",
     "text": [
      "CPU model: AMD Ryzen 5 2500U with Radeon Vega Mobile Gfx, instruction set [SSE2|AVX|AVX2]\n"
     ]
    },
    {
     "name": "stderr",
     "output_type": "stream",
     "text": [
      "2024-11-15 05:33:07,008 - gurobipy - INFO - CPU model: AMD Ryzen 5 2500U with Radeon Vega Mobile Gfx, instruction set [SSE2|AVX|AVX2]\n"
     ]
    },
    {
     "name": "stdout",
     "output_type": "stream",
     "text": [
      "Thread count: 4 physical cores, 8 logical processors, using up to 8 threads\n"
     ]
    },
    {
     "name": "stderr",
     "output_type": "stream",
     "text": [
      "2024-11-15 05:33:07,011 - gurobipy - INFO - Thread count: 4 physical cores, 8 logical processors, using up to 8 threads\n"
     ]
    },
    {
     "name": "stdout",
     "output_type": "stream",
     "text": [
      "\n"
     ]
    },
    {
     "name": "stderr",
     "output_type": "stream",
     "text": [
      "2024-11-15 05:33:07,015 - gurobipy - INFO - \n"
     ]
    },
    {
     "name": "stdout",
     "output_type": "stream",
     "text": [
      "Optimize a model with 2 rows, 8 columns and 11 nonzeros\n"
     ]
    },
    {
     "name": "stderr",
     "output_type": "stream",
     "text": [
      "2024-11-15 05:33:07,019 - gurobipy - INFO - Optimize a model with 2 rows, 8 columns and 11 nonzeros\n"
     ]
    },
    {
     "name": "stdout",
     "output_type": "stream",
     "text": [
      "Model fingerprint: 0x68f3dafc\n"
     ]
    },
    {
     "name": "stderr",
     "output_type": "stream",
     "text": [
      "2024-11-15 05:33:07,028 - gurobipy - INFO - Model fingerprint: 0x68f3dafc\n"
     ]
    },
    {
     "name": "stdout",
     "output_type": "stream",
     "text": [
      "Variable types: 0 continuous, 8 integer (8 binary)\n"
     ]
    },
    {
     "name": "stderr",
     "output_type": "stream",
     "text": [
      "2024-11-15 05:33:07,031 - gurobipy - INFO - Variable types: 0 continuous, 8 integer (8 binary)\n"
     ]
    },
    {
     "name": "stdout",
     "output_type": "stream",
     "text": [
      "Coefficient statistics:\n"
     ]
    },
    {
     "name": "stderr",
     "output_type": "stream",
     "text": [
      "2024-11-15 05:33:07,036 - gurobipy - INFO - Coefficient statistics:\n"
     ]
    },
    {
     "name": "stdout",
     "output_type": "stream",
     "text": [
      "  Matrix range     [1e+00, 5e+05]\n"
     ]
    },
    {
     "name": "stderr",
     "output_type": "stream",
     "text": [
      "2024-11-15 05:33:07,040 - gurobipy - INFO -   Matrix range     [1e+00, 5e+05]\n"
     ]
    },
    {
     "name": "stdout",
     "output_type": "stream",
     "text": [
      "  Objective range  [5e+10, 1e+11]\n"
     ]
    },
    {
     "name": "stderr",
     "output_type": "stream",
     "text": [
      "2024-11-15 05:33:07,045 - gurobipy - INFO -   Objective range  [5e+10, 1e+11]\n"
     ]
    },
    {
     "name": "stdout",
     "output_type": "stream",
     "text": [
      "  Bounds range     [1e+00, 1e+00]\n"
     ]
    },
    {
     "name": "stderr",
     "output_type": "stream",
     "text": [
      "2024-11-15 05:33:07,049 - gurobipy - INFO -   Bounds range     [1e+00, 1e+00]\n"
     ]
    },
    {
     "name": "stdout",
     "output_type": "stream",
     "text": [
      "  RHS range        [1e+00, 2e+05]\n"
     ]
    },
    {
     "name": "stderr",
     "output_type": "stream",
     "text": [
      "2024-11-15 05:33:07,051 - gurobipy - INFO -   RHS range        [1e+00, 2e+05]\n"
     ]
    },
    {
     "name": "stdout",
     "output_type": "stream",
     "text": [
      "Warning: Model contains large objective coefficients\n"
     ]
    },
    {
     "name": "stderr",
     "output_type": "stream",
     "text": [
      "2024-11-15 05:33:07,055 - gurobipy - INFO - Warning: Model contains large objective coefficients\n"
     ]
    },
    {
     "name": "stdout",
     "output_type": "stream",
     "text": [
      "         Consider reformulating model or setting NumericFocus parameter\n"
     ]
    },
    {
     "name": "stderr",
     "output_type": "stream",
     "text": [
      "2024-11-15 05:33:07,060 - gurobipy - INFO -          Consider reformulating model or setting NumericFocus parameter\n"
     ]
    },
    {
     "name": "stdout",
     "output_type": "stream",
     "text": [
      "         to avoid numerical issues.\n"
     ]
    },
    {
     "name": "stderr",
     "output_type": "stream",
     "text": [
      "2024-11-15 05:33:07,063 - gurobipy - INFO -          to avoid numerical issues.\n"
     ]
    },
    {
     "name": "stdout",
     "output_type": "stream",
     "text": [
      "Found heuristic solution: objective 5.187296e+10\n"
     ]
    },
    {
     "name": "stderr",
     "output_type": "stream",
     "text": [
      "2024-11-15 05:33:07,066 - gurobipy - INFO - Found heuristic solution: objective 5.187296e+10\n"
     ]
    },
    {
     "name": "stdout",
     "output_type": "stream",
     "text": [
      "Presolve removed 2 rows and 8 columns\n"
     ]
    },
    {
     "name": "stderr",
     "output_type": "stream",
     "text": [
      "2024-11-15 05:33:07,071 - gurobipy - INFO - Presolve removed 2 rows and 8 columns\n"
     ]
    },
    {
     "name": "stdout",
     "output_type": "stream",
     "text": [
      "Presolve time: 0.00s\n"
     ]
    },
    {
     "name": "stderr",
     "output_type": "stream",
     "text": [
      "2024-11-15 05:33:07,082 - gurobipy - INFO - Presolve time: 0.00s\n"
     ]
    },
    {
     "name": "stdout",
     "output_type": "stream",
     "text": [
      "Presolve: All rows and columns removed\n"
     ]
    },
    {
     "name": "stderr",
     "output_type": "stream",
     "text": [
      "2024-11-15 05:33:07,086 - gurobipy - INFO - Presolve: All rows and columns removed\n"
     ]
    },
    {
     "name": "stdout",
     "output_type": "stream",
     "text": [
      "\n"
     ]
    },
    {
     "name": "stderr",
     "output_type": "stream",
     "text": [
      "2024-11-15 05:33:07,094 - gurobipy - INFO - \n"
     ]
    },
    {
     "name": "stdout",
     "output_type": "stream",
     "text": [
      "Explored 0 nodes (0 simplex iterations) in 0.08 seconds (0.00 work units)\n"
     ]
    },
    {
     "name": "stderr",
     "output_type": "stream",
     "text": [
      "2024-11-15 05:33:07,098 - gurobipy - INFO - Explored 0 nodes (0 simplex iterations) in 0.08 seconds (0.00 work units)\n"
     ]
    },
    {
     "name": "stdout",
     "output_type": "stream",
     "text": [
      "Thread count was 1 (of 8 available processors)\n"
     ]
    },
    {
     "name": "stderr",
     "output_type": "stream",
     "text": [
      "2024-11-15 05:33:07,101 - gurobipy - INFO - Thread count was 1 (of 8 available processors)\n"
     ]
    },
    {
     "name": "stdout",
     "output_type": "stream",
     "text": [
      "\n"
     ]
    },
    {
     "name": "stderr",
     "output_type": "stream",
     "text": [
      "2024-11-15 05:33:07,104 - gurobipy - INFO - \n"
     ]
    },
    {
     "name": "stdout",
     "output_type": "stream",
     "text": [
      "Solution count 2: 6.3826e+10 5.1873e+10 \n"
     ]
    },
    {
     "name": "stderr",
     "output_type": "stream",
     "text": [
      "2024-11-15 05:33:07,108 - gurobipy - INFO - Solution count 2: 6.3826e+10 5.1873e+10 \n"
     ]
    },
    {
     "name": "stdout",
     "output_type": "stream",
     "text": [
      "\n"
     ]
    },
    {
     "name": "stderr",
     "output_type": "stream",
     "text": [
      "2024-11-15 05:33:07,112 - gurobipy - INFO - \n"
     ]
    },
    {
     "name": "stdout",
     "output_type": "stream",
     "text": [
      "Optimal solution found (tolerance 1.00e-04)\n"
     ]
    },
    {
     "name": "stderr",
     "output_type": "stream",
     "text": [
      "2024-11-15 05:33:07,115 - gurobipy - INFO - Optimal solution found (tolerance 1.00e-04)\n"
     ]
    },
    {
     "name": "stdout",
     "output_type": "stream",
     "text": [
      "Best objective 6.382598036972e+10, best bound 6.382598036972e+10, gap 0.0000%\n"
     ]
    },
    {
     "name": "stderr",
     "output_type": "stream",
     "text": [
      "2024-11-15 05:33:07,119 - gurobipy - INFO - Best objective 6.382598036972e+10, best bound 6.382598036972e+10, gap 0.0000%\n",
      "2024-11-15 05:33:07,130 - __main__ - INFO - Optimización exitosa. Extrayendo resultados...\n",
      "2024-11-15 05:33:07,133 - __main__ - INFO - Ganancias totales: 63825980369.72\n",
      "2024-11-15 05:33:07,136 - __main__ - INFO - Executives used: 0\n",
      "2024-11-15 05:33:07,143 - __main__ - INFO - Executives remaining: 205000\n",
      "2024-11-15 05:33:07,620 - __main__ - INFO - Optimización completada.\n",
      "2024-11-15 05:33:07,622 - __main__ - ERROR - Error en function_modelo_asignacion_tratamientos: local variable 'model' referenced before assignment\n",
      "2024-11-15 05:33:07,624 - __main__ - INFO - Recalculación de métricas completada.\n",
      "2024-11-15 05:33:09,231 - __main__ - INFO - Aplicando acción tipo: adjust_splits sobre variable: Propension con parámetros: {'operation': 'move', 'index': 2, 'amount': 1}\n",
      "2024-11-15 05:33:09,233 - __main__ - INFO - Recalculando clusters...\n",
      "2024-11-15 05:33:09,235 - __main__ - INFO - Realizando clustering...\n",
      "2024-11-15 05:33:09,266 - __main__ - INFO - Procesando variable: Genero\n",
      "2024-11-15 05:33:09,267 - __main__ - INFO - Procesando variable: Categoria_Digital\n",
      "2024-11-15 05:33:09,268 - __main__ - INFO - Procesando variable: Elasticidad_Precios\n",
      "2024-11-15 05:33:09,269 - __main__ - INFO - Procesando variable: Nacionalidad\n",
      "2024-11-15 05:33:09,271 - __main__ - INFO - Procesando variable: Propension\n",
      "2024-11-15 05:33:09,273 - __main__ - INFO - Procesando variable: Probabilidad_No_Pago\n",
      "2024-11-15 05:33:09,275 - __main__ - INFO - Procesando variable: Edad\n",
      "2024-11-15 05:33:09,277 - __main__ - INFO - Procesando variable: Renta\n",
      "2024-11-15 05:33:09,279 - __main__ - INFO - Variables incluidas en clusterización: []\n",
      "2024-11-15 05:33:09,311 - __main__ - INFO - Variables incluidas en este clustering: []\n",
      "2024-11-15 05:33:09,313 - __main__ - INFO - Clustering completado. Número de clusters: 1\n",
      "2024-11-15 05:33:09,314 - __main__ - INFO - Recalculando métricas...\n",
      "2024-11-15 05:33:09,318 - __main__ - INFO - Recalculando métricas...\n",
      "2024-11-15 05:33:13,516 - __main__ - INFO - Estimando elasticidad...\n",
      "2024-11-15 05:33:45,730 - __main__ - INFO - Cluster 0:\n",
      "2024-11-15 05:33:45,732 - __main__ - INFO - - Precio Máx. Revenue Esperado = 1.25%\n",
      "2024-11-15 05:33:45,734 - __main__ - INFO - - Revenue Esperado Máximo = 86,291,395,146.04\n",
      "2024-11-15 05:33:45,736 - __main__ - INFO - - Número de clientes en el cluster = 542904\n",
      "2024-11-15 05:33:45,737 - __main__ - INFO - - Número de simulaciones en el cluster = 129035.42\n",
      "2024-11-15 05:33:45,738 - __main__ - INFO - - Probabilidad de aceptación en el precio óptimo = 0.5220\n",
      "2024-11-15 05:33:45,742 - __main__ - INFO - - Número esperado de créditos aceptados = 67360\n",
      "2024-11-15 05:33:45,744 - __main__ - INFO - - Monto medio simulado = 6,964,460.66\n",
      "2024-11-15 05:33:45,746 - __main__ - INFO - - Plazo medio simulado = 27.50\n",
      "2024-11-15 05:33:45,748 - __main__ - INFO - - Probabilidad de no pago media = 0.0171\n",
      "\n",
      "2024-11-15 05:33:46,669 - __main__ - INFO - El revenue total esperado es: 86,291,395,146.04 con un total de 542904 clientes, 129,035.42 simulaciones, y 67360 créditos.\n",
      "2024-11-15 05:33:49,368 - __main__ - INFO - total_revenue: 86291395146.04265, total_clientes: 542904, total_simulaciones: 129035.42424242424, total_creditos: 67360\n",
      "2024-11-15 05:34:11,004 - __main__ - INFO - Estimación de respuesta a tratamientos completada.\n",
      "2024-11-15 05:34:17,257 - __main__ - INFO - Llamando al modelo de asignación de tratamientos...\n",
      "2024-11-15 05:34:17,258 - __main__ - INFO - Iniciando modelo de asignación de tratamientos...\n",
      "2024-11-15 05:34:17,260 - __main__ - INFO - Procesando datos de probabilidades y asignando IDs de tratamiento...\n",
      "2024-11-15 05:34:17,270 - __main__ - INFO - Fusionando probabilidades con información de RUT...\n",
      "2024-11-15 05:34:17,487 - __main__ - INFO - Fusionando información de RUT con información de clusters...\n",
      "2024-11-15 05:34:17,700 - __main__ - INFO - Agrupando información por cluster...\n",
      "2024-11-15 05:34:18,194 - __main__ - INFO - Calculando Revenue Calculado (RC)...\n",
      "2024-11-15 05:34:18,201 - __main__ - INFO - Preparando matriz de beneficios para optimización...\n",
      "2024-11-15 05:34:18,204 - __main__ - INFO - Inicializando modelo de optimización con Gurobi...\n",
      "2024-11-15 05:34:18,207 - __main__ - INFO - Creando variables de decisión...\n",
      "2024-11-15 05:34:18,209 - __main__ - INFO - Agregando restricción de un tratamiento por cliente...\n",
      "2024-11-15 05:34:18,211 - __main__ - INFO - Agregando restricción de capacidad para ejecutivos...\n",
      "2024-11-15 05:34:18,214 - __main__ - INFO - Agregando restricciones de consistencia por cluster...\n",
      "2024-11-15 05:34:18,217 - __main__ - INFO - Iniciando optimización con Gurobi...\n"
     ]
    },
    {
     "name": "stdout",
     "output_type": "stream",
     "text": [
      "Gurobi Optimizer version 11.0.3 build v11.0.3rc0 (win64 - Windows 10.0 (19045.2))\n"
     ]
    },
    {
     "name": "stderr",
     "output_type": "stream",
     "text": [
      "2024-11-15 05:34:18,221 - gurobipy - INFO - Gurobi Optimizer version 11.0.3 build v11.0.3rc0 (win64 - Windows 10.0 (19045.2))\n"
     ]
    },
    {
     "name": "stdout",
     "output_type": "stream",
     "text": [
      "\n"
     ]
    },
    {
     "name": "stderr",
     "output_type": "stream",
     "text": [
      "2024-11-15 05:34:18,225 - gurobipy - INFO - \n"
     ]
    },
    {
     "name": "stdout",
     "output_type": "stream",
     "text": [
      "CPU model: AMD Ryzen 5 2500U with Radeon Vega Mobile Gfx, instruction set [SSE2|AVX|AVX2]\n"
     ]
    },
    {
     "name": "stderr",
     "output_type": "stream",
     "text": [
      "2024-11-15 05:34:18,231 - gurobipy - INFO - CPU model: AMD Ryzen 5 2500U with Radeon Vega Mobile Gfx, instruction set [SSE2|AVX|AVX2]\n"
     ]
    },
    {
     "name": "stdout",
     "output_type": "stream",
     "text": [
      "Thread count: 4 physical cores, 8 logical processors, using up to 8 threads\n"
     ]
    },
    {
     "name": "stderr",
     "output_type": "stream",
     "text": [
      "2024-11-15 05:34:18,237 - gurobipy - INFO - Thread count: 4 physical cores, 8 logical processors, using up to 8 threads\n"
     ]
    },
    {
     "name": "stdout",
     "output_type": "stream",
     "text": [
      "\n"
     ]
    },
    {
     "name": "stderr",
     "output_type": "stream",
     "text": [
      "2024-11-15 05:34:18,242 - gurobipy - INFO - \n"
     ]
    },
    {
     "name": "stdout",
     "output_type": "stream",
     "text": [
      "Optimize a model with 2 rows, 8 columns and 11 nonzeros\n"
     ]
    },
    {
     "name": "stderr",
     "output_type": "stream",
     "text": [
      "2024-11-15 05:34:18,248 - gurobipy - INFO - Optimize a model with 2 rows, 8 columns and 11 nonzeros\n"
     ]
    },
    {
     "name": "stdout",
     "output_type": "stream",
     "text": [
      "Model fingerprint: 0x68f3dafc\n"
     ]
    },
    {
     "name": "stderr",
     "output_type": "stream",
     "text": [
      "2024-11-15 05:34:18,251 - gurobipy - INFO - Model fingerprint: 0x68f3dafc\n"
     ]
    },
    {
     "name": "stdout",
     "output_type": "stream",
     "text": [
      "Variable types: 0 continuous, 8 integer (8 binary)\n"
     ]
    },
    {
     "name": "stderr",
     "output_type": "stream",
     "text": [
      "2024-11-15 05:34:18,255 - gurobipy - INFO - Variable types: 0 continuous, 8 integer (8 binary)\n"
     ]
    },
    {
     "name": "stdout",
     "output_type": "stream",
     "text": [
      "Coefficient statistics:\n"
     ]
    },
    {
     "name": "stderr",
     "output_type": "stream",
     "text": [
      "2024-11-15 05:34:18,261 - gurobipy - INFO - Coefficient statistics:\n"
     ]
    },
    {
     "name": "stdout",
     "output_type": "stream",
     "text": [
      "  Matrix range     [1e+00, 5e+05]\n"
     ]
    },
    {
     "name": "stderr",
     "output_type": "stream",
     "text": [
      "2024-11-15 05:34:18,265 - gurobipy - INFO -   Matrix range     [1e+00, 5e+05]\n"
     ]
    },
    {
     "name": "stdout",
     "output_type": "stream",
     "text": [
      "  Objective range  [5e+10, 1e+11]\n"
     ]
    },
    {
     "name": "stderr",
     "output_type": "stream",
     "text": [
      "2024-11-15 05:34:18,273 - gurobipy - INFO -   Objective range  [5e+10, 1e+11]\n"
     ]
    },
    {
     "name": "stdout",
     "output_type": "stream",
     "text": [
      "  Bounds range     [1e+00, 1e+00]\n"
     ]
    },
    {
     "name": "stderr",
     "output_type": "stream",
     "text": [
      "2024-11-15 05:34:18,276 - gurobipy - INFO -   Bounds range     [1e+00, 1e+00]\n"
     ]
    },
    {
     "name": "stdout",
     "output_type": "stream",
     "text": [
      "  RHS range        [1e+00, 2e+05]\n"
     ]
    },
    {
     "name": "stderr",
     "output_type": "stream",
     "text": [
      "2024-11-15 05:34:18,280 - gurobipy - INFO -   RHS range        [1e+00, 2e+05]\n"
     ]
    },
    {
     "name": "stdout",
     "output_type": "stream",
     "text": [
      "Warning: Model contains large objective coefficients\n"
     ]
    },
    {
     "name": "stderr",
     "output_type": "stream",
     "text": [
      "2024-11-15 05:34:18,285 - gurobipy - INFO - Warning: Model contains large objective coefficients\n"
     ]
    },
    {
     "name": "stdout",
     "output_type": "stream",
     "text": [
      "         Consider reformulating model or setting NumericFocus parameter\n"
     ]
    },
    {
     "name": "stderr",
     "output_type": "stream",
     "text": [
      "2024-11-15 05:34:18,290 - gurobipy - INFO -          Consider reformulating model or setting NumericFocus parameter\n"
     ]
    },
    {
     "name": "stdout",
     "output_type": "stream",
     "text": [
      "         to avoid numerical issues.\n"
     ]
    },
    {
     "name": "stderr",
     "output_type": "stream",
     "text": [
      "2024-11-15 05:34:18,294 - gurobipy - INFO -          to avoid numerical issues.\n"
     ]
    },
    {
     "name": "stdout",
     "output_type": "stream",
     "text": [
      "Found heuristic solution: objective 5.187296e+10\n"
     ]
    },
    {
     "name": "stderr",
     "output_type": "stream",
     "text": [
      "2024-11-15 05:34:18,298 - gurobipy - INFO - Found heuristic solution: objective 5.187296e+10\n"
     ]
    },
    {
     "name": "stdout",
     "output_type": "stream",
     "text": [
      "Presolve removed 2 rows and 8 columns\n"
     ]
    },
    {
     "name": "stderr",
     "output_type": "stream",
     "text": [
      "2024-11-15 05:34:18,303 - gurobipy - INFO - Presolve removed 2 rows and 8 columns\n"
     ]
    },
    {
     "name": "stdout",
     "output_type": "stream",
     "text": [
      "Presolve time: 0.00s\n"
     ]
    },
    {
     "name": "stderr",
     "output_type": "stream",
     "text": [
      "2024-11-15 05:34:18,310 - gurobipy - INFO - Presolve time: 0.00s\n"
     ]
    },
    {
     "name": "stdout",
     "output_type": "stream",
     "text": [
      "Presolve: All rows and columns removed\n"
     ]
    },
    {
     "name": "stderr",
     "output_type": "stream",
     "text": [
      "2024-11-15 05:34:18,318 - gurobipy - INFO - Presolve: All rows and columns removed\n"
     ]
    },
    {
     "name": "stdout",
     "output_type": "stream",
     "text": [
      "\n"
     ]
    },
    {
     "name": "stderr",
     "output_type": "stream",
     "text": [
      "2024-11-15 05:34:18,322 - gurobipy - INFO - \n"
     ]
    },
    {
     "name": "stdout",
     "output_type": "stream",
     "text": [
      "Explored 0 nodes (0 simplex iterations) in 0.08 seconds (0.00 work units)\n"
     ]
    },
    {
     "name": "stderr",
     "output_type": "stream",
     "text": [
      "2024-11-15 05:34:18,327 - gurobipy - INFO - Explored 0 nodes (0 simplex iterations) in 0.08 seconds (0.00 work units)\n"
     ]
    },
    {
     "name": "stdout",
     "output_type": "stream",
     "text": [
      "Thread count was 1 (of 8 available processors)\n"
     ]
    },
    {
     "name": "stderr",
     "output_type": "stream",
     "text": [
      "2024-11-15 05:34:18,331 - gurobipy - INFO - Thread count was 1 (of 8 available processors)\n"
     ]
    },
    {
     "name": "stdout",
     "output_type": "stream",
     "text": [
      "\n"
     ]
    },
    {
     "name": "stderr",
     "output_type": "stream",
     "text": [
      "2024-11-15 05:34:18,336 - gurobipy - INFO - \n"
     ]
    },
    {
     "name": "stdout",
     "output_type": "stream",
     "text": [
      "Solution count 2: 6.3826e+10 5.1873e+10 \n"
     ]
    },
    {
     "name": "stderr",
     "output_type": "stream",
     "text": [
      "2024-11-15 05:34:18,341 - gurobipy - INFO - Solution count 2: 6.3826e+10 5.1873e+10 \n"
     ]
    },
    {
     "name": "stdout",
     "output_type": "stream",
     "text": [
      "\n"
     ]
    },
    {
     "name": "stderr",
     "output_type": "stream",
     "text": [
      "2024-11-15 05:34:18,344 - gurobipy - INFO - \n"
     ]
    },
    {
     "name": "stdout",
     "output_type": "stream",
     "text": [
      "Optimal solution found (tolerance 1.00e-04)\n"
     ]
    },
    {
     "name": "stderr",
     "output_type": "stream",
     "text": [
      "2024-11-15 05:34:18,349 - gurobipy - INFO - Optimal solution found (tolerance 1.00e-04)\n"
     ]
    },
    {
     "name": "stdout",
     "output_type": "stream",
     "text": [
      "Best objective 6.382598036972e+10, best bound 6.382598036972e+10, gap 0.0000%\n"
     ]
    },
    {
     "name": "stderr",
     "output_type": "stream",
     "text": [
      "2024-11-15 05:34:18,352 - gurobipy - INFO - Best objective 6.382598036972e+10, best bound 6.382598036972e+10, gap 0.0000%\n",
      "2024-11-15 05:34:18,354 - __main__ - INFO - Optimización exitosa. Extrayendo resultados...\n",
      "2024-11-15 05:34:18,360 - __main__ - INFO - Ganancias totales: 63825980369.72\n",
      "2024-11-15 05:34:18,362 - __main__ - INFO - Executives used: 0\n",
      "2024-11-15 05:34:18,365 - __main__ - INFO - Executives remaining: 205000\n",
      "2024-11-15 05:34:18,895 - __main__ - INFO - Optimización completada.\n",
      "2024-11-15 05:34:18,897 - __main__ - ERROR - Error en function_modelo_asignacion_tratamientos: local variable 'model' referenced before assignment\n",
      "2024-11-15 05:34:18,899 - __main__ - INFO - Recalculación de métricas completada.\n",
      "2024-11-15 05:34:20,468 - __main__ - INFO - Aplicando acción tipo: toggle_variable sobre variable: Renta con parámetros: {}\n",
      "2024-11-15 05:34:20,470 - __main__ - INFO - Variable 'Renta' incluida: 1\n",
      "2024-11-15 05:34:20,484 - __main__ - INFO - Cortes inicializados para variable 'Renta': [70944581.06383134]\n",
      "2024-11-15 05:34:20,494 - __main__ - INFO - Recalculando clusters...\n",
      "2024-11-15 05:34:20,552 - __main__ - INFO - Realizando clustering...\n",
      "2024-11-15 05:34:20,589 - __main__ - INFO - Procesando variable: Genero\n",
      "2024-11-15 05:34:20,591 - __main__ - INFO - Procesando variable: Categoria_Digital\n",
      "2024-11-15 05:34:20,593 - __main__ - INFO - Procesando variable: Elasticidad_Precios\n",
      "2024-11-15 05:34:20,595 - __main__ - INFO - Procesando variable: Nacionalidad\n",
      "2024-11-15 05:34:20,598 - __main__ - INFO - Procesando variable: Propension\n",
      "2024-11-15 05:34:20,600 - __main__ - INFO - Procesando variable: Probabilidad_No_Pago\n",
      "2024-11-15 05:34:20,602 - __main__ - INFO - Procesando variable: Edad\n",
      "2024-11-15 05:34:20,604 - __main__ - INFO - Procesando variable: Renta\n",
      "2024-11-15 05:34:20,640 - __main__ - INFO - Cortes para variable 'Renta': [70944581.06383134]\n",
      "2024-11-15 05:34:20,642 - __main__ - INFO - Variables incluidas en clusterización: ['Renta_cluster']\n",
      "2024-11-15 05:34:37,982 - __main__ - INFO - Variables incluidas en este clustering: ['Renta_cluster']\n",
      "2024-11-15 05:34:37,983 - __main__ - INFO - Clustering completado. Número de clusters: 2\n",
      "2024-11-15 05:34:37,985 - __main__ - INFO - Recalculando métricas...\n",
      "2024-11-15 05:34:37,988 - __main__ - INFO - Recalculando métricas...\n",
      "2024-11-15 05:34:42,399 - __main__ - INFO - Estimando elasticidad...\n",
      "2024-11-15 05:35:16,369 - __main__ - INFO - Cluster 0:\n",
      "2024-11-15 05:35:16,371 - __main__ - INFO - - Precio Máx. Revenue Esperado = 1.25%\n",
      "2024-11-15 05:35:16,372 - __main__ - INFO - - Revenue Esperado Máximo = 84,915,790,861.08\n",
      "2024-11-15 05:35:16,374 - __main__ - INFO - - Número de clientes en el cluster = 542777\n",
      "2024-11-15 05:35:16,378 - __main__ - INFO - - Número de simulaciones en el cluster = 129000.50\n",
      "2024-11-15 05:35:16,381 - __main__ - INFO - - Probabilidad de aceptación en el precio óptimo = 0.5220\n",
      "2024-11-15 05:35:16,385 - __main__ - INFO - - Número esperado de créditos aceptados = 67341\n",
      "2024-11-15 05:35:16,387 - __main__ - INFO - - Monto medio simulado = 6,855,407.19\n",
      "2024-11-15 05:35:16,389 - __main__ - INFO - - Plazo medio simulado = 27.50\n",
      "2024-11-15 05:35:16,393 - __main__ - INFO - - Probabilidad de no pago media = 0.0171\n",
      "\n",
      "2024-11-15 05:35:17,789 - __main__ - INFO - Cluster 1:\n",
      "2024-11-15 05:35:17,790 - __main__ - INFO - - Precio Máx. Revenue Esperado = 1.09%\n",
      "2024-11-15 05:35:17,792 - __main__ - INFO - - Revenue Esperado Máximo = 1,528,231,341.90\n",
      "2024-11-15 05:35:17,795 - __main__ - INFO - - Número de clientes en el cluster = 127\n",
      "2024-11-15 05:35:17,797 - __main__ - INFO - - Número de simulaciones en el cluster = 34.92\n",
      "2024-11-15 05:35:17,800 - __main__ - INFO - - Probabilidad de aceptación en el precio óptimo = 0.6612\n",
      "2024-11-15 05:35:17,803 - __main__ - INFO - - Número esperado de créditos aceptados = 23\n",
      "2024-11-15 05:35:17,804 - __main__ - INFO - - Monto medio simulado = 409,777,860.01\n",
      "2024-11-15 05:35:17,806 - __main__ - INFO - - Plazo medio simulado = 27.38\n",
      "2024-11-15 05:35:17,807 - __main__ - INFO - - Probabilidad de no pago media = 0.0005\n",
      "\n",
      "2024-11-15 05:35:18,198 - __main__ - INFO - El revenue total esperado es: 86,444,022,202.98 con un total de 542904 clientes, 129,035.42 simulaciones, y 67364 créditos.\n",
      "2024-11-15 05:35:20,408 - __main__ - INFO - total_revenue: 86444022202.98238, total_clientes: 542904, total_simulaciones: 129035.42424242424, total_creditos: 67364\n",
      "2024-11-15 05:35:39,630 - __main__ - INFO - Estimación de respuesta a tratamientos completada.\n",
      "2024-11-15 05:35:46,359 - __main__ - INFO - Llamando al modelo de asignación de tratamientos...\n",
      "2024-11-15 05:35:46,361 - __main__ - INFO - Iniciando modelo de asignación de tratamientos...\n",
      "2024-11-15 05:35:46,364 - __main__ - INFO - Procesando datos de probabilidades y asignando IDs de tratamiento...\n",
      "2024-11-15 05:35:46,371 - __main__ - INFO - Fusionando probabilidades con información de RUT...\n",
      "2024-11-15 05:35:46,611 - __main__ - INFO - Fusionando información de RUT con información de clusters...\n",
      "2024-11-15 05:35:46,763 - __main__ - INFO - Agrupando información por cluster...\n",
      "2024-11-15 05:35:47,485 - __main__ - INFO - Calculando Revenue Calculado (RC)...\n",
      "2024-11-15 05:35:47,492 - __main__ - INFO - Preparando matriz de beneficios para optimización...\n",
      "2024-11-15 05:35:47,494 - __main__ - INFO - Inicializando modelo de optimización con Gurobi...\n",
      "2024-11-15 05:35:47,497 - __main__ - INFO - Creando variables de decisión...\n",
      "2024-11-15 05:35:47,499 - __main__ - INFO - Agregando restricción de un tratamiento por cliente...\n",
      "2024-11-15 05:35:47,501 - __main__ - INFO - Agregando restricción de capacidad para ejecutivos...\n",
      "2024-11-15 05:35:47,502 - __main__ - INFO - Agregando restricciones de consistencia por cluster...\n",
      "2024-11-15 05:35:47,508 - __main__ - INFO - Iniciando optimización con Gurobi...\n"
     ]
    },
    {
     "name": "stdout",
     "output_type": "stream",
     "text": [
      "Gurobi Optimizer version 11.0.3 build v11.0.3rc0 (win64 - Windows 10.0 (19045.2))\n"
     ]
    },
    {
     "name": "stderr",
     "output_type": "stream",
     "text": [
      "2024-11-15 05:35:47,579 - gurobipy - INFO - Gurobi Optimizer version 11.0.3 build v11.0.3rc0 (win64 - Windows 10.0 (19045.2))\n"
     ]
    },
    {
     "name": "stdout",
     "output_type": "stream",
     "text": [
      "\n"
     ]
    },
    {
     "name": "stderr",
     "output_type": "stream",
     "text": [
      "2024-11-15 05:35:47,584 - gurobipy - INFO - \n"
     ]
    },
    {
     "name": "stdout",
     "output_type": "stream",
     "text": [
      "CPU model: AMD Ryzen 5 2500U with Radeon Vega Mobile Gfx, instruction set [SSE2|AVX|AVX2]\n"
     ]
    },
    {
     "name": "stderr",
     "output_type": "stream",
     "text": [
      "2024-11-15 05:35:47,586 - gurobipy - INFO - CPU model: AMD Ryzen 5 2500U with Radeon Vega Mobile Gfx, instruction set [SSE2|AVX|AVX2]\n"
     ]
    },
    {
     "name": "stdout",
     "output_type": "stream",
     "text": [
      "Thread count: 4 physical cores, 8 logical processors, using up to 8 threads\n"
     ]
    },
    {
     "name": "stderr",
     "output_type": "stream",
     "text": [
      "2024-11-15 05:35:47,589 - gurobipy - INFO - Thread count: 4 physical cores, 8 logical processors, using up to 8 threads\n"
     ]
    },
    {
     "name": "stdout",
     "output_type": "stream",
     "text": [
      "\n"
     ]
    },
    {
     "name": "stderr",
     "output_type": "stream",
     "text": [
      "2024-11-15 05:35:47,591 - gurobipy - INFO - \n"
     ]
    },
    {
     "name": "stdout",
     "output_type": "stream",
     "text": [
      "Optimize a model with 3 rows, 16 columns and 22 nonzeros\n"
     ]
    },
    {
     "name": "stderr",
     "output_type": "stream",
     "text": [
      "2024-11-15 05:35:47,594 - gurobipy - INFO - Optimize a model with 3 rows, 16 columns and 22 nonzeros\n"
     ]
    },
    {
     "name": "stdout",
     "output_type": "stream",
     "text": [
      "Model fingerprint: 0x4c594fe3\n"
     ]
    },
    {
     "name": "stderr",
     "output_type": "stream",
     "text": [
      "2024-11-15 05:35:47,598 - gurobipy - INFO - Model fingerprint: 0x4c594fe3\n"
     ]
    },
    {
     "name": "stdout",
     "output_type": "stream",
     "text": [
      "Variable types: 0 continuous, 16 integer (16 binary)\n"
     ]
    },
    {
     "name": "stderr",
     "output_type": "stream",
     "text": [
      "2024-11-15 05:35:47,602 - gurobipy - INFO - Variable types: 0 continuous, 16 integer (16 binary)\n"
     ]
    },
    {
     "name": "stdout",
     "output_type": "stream",
     "text": [
      "Coefficient statistics:\n"
     ]
    },
    {
     "name": "stderr",
     "output_type": "stream",
     "text": [
      "2024-11-15 05:35:47,605 - gurobipy - INFO - Coefficient statistics:\n"
     ]
    },
    {
     "name": "stdout",
     "output_type": "stream",
     "text": [
      "  Matrix range     [1e+00, 5e+05]\n"
     ]
    },
    {
     "name": "stderr",
     "output_type": "stream",
     "text": [
      "2024-11-15 05:35:47,608 - gurobipy - INFO -   Matrix range     [1e+00, 5e+05]\n"
     ]
    },
    {
     "name": "stdout",
     "output_type": "stream",
     "text": [
      "  Objective range  [7e+08, 1e+11]\n"
     ]
    },
    {
     "name": "stderr",
     "output_type": "stream",
     "text": [
      "2024-11-15 05:35:47,613 - gurobipy - INFO -   Objective range  [7e+08, 1e+11]\n"
     ]
    },
    {
     "name": "stdout",
     "output_type": "stream",
     "text": [
      "  Bounds range     [1e+00, 1e+00]\n"
     ]
    },
    {
     "name": "stderr",
     "output_type": "stream",
     "text": [
      "2024-11-15 05:35:47,617 - gurobipy - INFO -   Bounds range     [1e+00, 1e+00]\n"
     ]
    },
    {
     "name": "stdout",
     "output_type": "stream",
     "text": [
      "  RHS range        [1e+00, 2e+05]\n"
     ]
    },
    {
     "name": "stderr",
     "output_type": "stream",
     "text": [
      "2024-11-15 05:35:47,621 - gurobipy - INFO -   RHS range        [1e+00, 2e+05]\n"
     ]
    },
    {
     "name": "stdout",
     "output_type": "stream",
     "text": [
      "Warning: Model contains large objective coefficients\n"
     ]
    },
    {
     "name": "stderr",
     "output_type": "stream",
     "text": [
      "2024-11-15 05:35:47,624 - gurobipy - INFO - Warning: Model contains large objective coefficients\n"
     ]
    },
    {
     "name": "stdout",
     "output_type": "stream",
     "text": [
      "         Consider reformulating model or setting NumericFocus parameter\n"
     ]
    },
    {
     "name": "stderr",
     "output_type": "stream",
     "text": [
      "2024-11-15 05:35:47,627 - gurobipy - INFO -          Consider reformulating model or setting NumericFocus parameter\n"
     ]
    },
    {
     "name": "stdout",
     "output_type": "stream",
     "text": [
      "         to avoid numerical issues.\n"
     ]
    },
    {
     "name": "stderr",
     "output_type": "stream",
     "text": [
      "2024-11-15 05:35:47,638 - gurobipy - INFO -          to avoid numerical issues.\n"
     ]
    },
    {
     "name": "stdout",
     "output_type": "stream",
     "text": [
      "Found heuristic solution: objective 5.202242e+10\n"
     ]
    },
    {
     "name": "stderr",
     "output_type": "stream",
     "text": [
      "2024-11-15 05:35:47,646 - gurobipy - INFO - Found heuristic solution: objective 5.202242e+10\n"
     ]
    },
    {
     "name": "stdout",
     "output_type": "stream",
     "text": [
      "Presolve removed 3 rows and 16 columns\n"
     ]
    },
    {
     "name": "stderr",
     "output_type": "stream",
     "text": [
      "2024-11-15 05:35:47,658 - gurobipy - INFO - Presolve removed 3 rows and 16 columns\n"
     ]
    },
    {
     "name": "stdout",
     "output_type": "stream",
     "text": [
      "Presolve time: 0.00s\n"
     ]
    },
    {
     "name": "stderr",
     "output_type": "stream",
     "text": [
      "2024-11-15 05:35:47,662 - gurobipy - INFO - Presolve time: 0.00s\n"
     ]
    },
    {
     "name": "stdout",
     "output_type": "stream",
     "text": [
      "Presolve: All rows and columns removed\n"
     ]
    },
    {
     "name": "stderr",
     "output_type": "stream",
     "text": [
      "2024-11-15 05:35:47,666 - gurobipy - INFO - Presolve: All rows and columns removed\n"
     ]
    },
    {
     "name": "stdout",
     "output_type": "stream",
     "text": [
      "\n"
     ]
    },
    {
     "name": "stderr",
     "output_type": "stream",
     "text": [
      "2024-11-15 05:35:47,670 - gurobipy - INFO - \n"
     ]
    },
    {
     "name": "stdout",
     "output_type": "stream",
     "text": [
      "Explored 0 nodes (0 simplex iterations) in 0.08 seconds (0.00 work units)\n"
     ]
    },
    {
     "name": "stderr",
     "output_type": "stream",
     "text": [
      "2024-11-15 05:35:47,673 - gurobipy - INFO - Explored 0 nodes (0 simplex iterations) in 0.08 seconds (0.00 work units)\n"
     ]
    },
    {
     "name": "stdout",
     "output_type": "stream",
     "text": [
      "Thread count was 1 (of 8 available processors)\n"
     ]
    },
    {
     "name": "stderr",
     "output_type": "stream",
     "text": [
      "2024-11-15 05:35:47,676 - gurobipy - INFO - Thread count was 1 (of 8 available processors)\n"
     ]
    },
    {
     "name": "stdout",
     "output_type": "stream",
     "text": [
      "\n"
     ]
    },
    {
     "name": "stderr",
     "output_type": "stream",
     "text": [
      "2024-11-15 05:35:47,680 - gurobipy - INFO - \n"
     ]
    },
    {
     "name": "stdout",
     "output_type": "stream",
     "text": [
      "Solution count 2: 6.49829e+10 5.20224e+10 \n"
     ]
    },
    {
     "name": "stderr",
     "output_type": "stream",
     "text": [
      "2024-11-15 05:35:47,683 - gurobipy - INFO - Solution count 2: 6.49829e+10 5.20224e+10 \n"
     ]
    },
    {
     "name": "stdout",
     "output_type": "stream",
     "text": [
      "\n"
     ]
    },
    {
     "name": "stderr",
     "output_type": "stream",
     "text": [
      "2024-11-15 05:35:47,686 - gurobipy - INFO - \n"
     ]
    },
    {
     "name": "stdout",
     "output_type": "stream",
     "text": [
      "Optimal solution found (tolerance 1.00e-04)\n"
     ]
    },
    {
     "name": "stderr",
     "output_type": "stream",
     "text": [
      "2024-11-15 05:35:47,689 - gurobipy - INFO - Optimal solution found (tolerance 1.00e-04)\n"
     ]
    },
    {
     "name": "stdout",
     "output_type": "stream",
     "text": [
      "Best objective 6.498285557105e+10, best bound 6.498285557105e+10, gap 0.0000%\n"
     ]
    },
    {
     "name": "stderr",
     "output_type": "stream",
     "text": [
      "2024-11-15 05:35:47,698 - gurobipy - INFO - Best objective 6.498285557105e+10, best bound 6.498285557105e+10, gap 0.0000%\n",
      "2024-11-15 05:35:47,700 - __main__ - INFO - Optimización exitosa. Extrayendo resultados...\n",
      "2024-11-15 05:35:47,701 - __main__ - INFO - Ganancias totales: 64982855571.05\n",
      "2024-11-15 05:35:47,703 - __main__ - INFO - Executives used: 127\n",
      "2024-11-15 05:35:47,705 - __main__ - INFO - Executives remaining: 204873\n",
      "2024-11-15 05:35:48,214 - __main__ - INFO - Optimización completada.\n",
      "2024-11-15 05:35:48,216 - __main__ - ERROR - Error en function_modelo_asignacion_tratamientos: local variable 'model' referenced before assignment\n",
      "2024-11-15 05:35:48,218 - __main__ - INFO - Recalculación de métricas completada.\n",
      "2024-11-15 05:35:49,858 - __main__ - INFO - Aplicando acción tipo: adjust_splits sobre variable: Probabilidad_No_Pago con parámetros: {'operation': 'increase'}\n",
      "2024-11-15 05:35:49,867 - __main__ - INFO - Recalculando clusters...\n",
      "2024-11-15 05:35:49,869 - __main__ - INFO - Realizando clustering...\n",
      "2024-11-15 05:35:49,906 - __main__ - INFO - Procesando variable: Genero\n",
      "2024-11-15 05:35:49,907 - __main__ - INFO - Procesando variable: Categoria_Digital\n",
      "2024-11-15 05:35:49,909 - __main__ - INFO - Procesando variable: Elasticidad_Precios\n",
      "2024-11-15 05:35:49,911 - __main__ - INFO - Procesando variable: Nacionalidad\n",
      "2024-11-15 05:35:49,914 - __main__ - INFO - Procesando variable: Propension\n",
      "2024-11-15 05:35:49,916 - __main__ - INFO - Procesando variable: Probabilidad_No_Pago\n",
      "2024-11-15 05:35:49,917 - __main__ - INFO - Procesando variable: Edad\n",
      "2024-11-15 05:35:49,919 - __main__ - INFO - Procesando variable: Renta\n",
      "2024-11-15 05:35:49,954 - __main__ - INFO - Cortes para variable 'Renta': [70944581.06383134]\n",
      "2024-11-15 05:35:49,957 - __main__ - INFO - Variables incluidas en clusterización: ['Renta_cluster']\n",
      "2024-11-15 05:36:06,235 - __main__ - INFO - Variables incluidas en este clustering: ['Renta_cluster']\n",
      "2024-11-15 05:36:06,237 - __main__ - INFO - Clustering completado. Número de clusters: 2\n",
      "2024-11-15 05:36:06,238 - __main__ - INFO - Recalculando métricas...\n",
      "2024-11-15 05:36:06,240 - __main__ - INFO - Recalculando métricas...\n",
      "2024-11-15 05:36:10,367 - __main__ - INFO - Estimando elasticidad...\n",
      "2024-11-15 05:36:45,327 - __main__ - INFO - Cluster 0:\n",
      "2024-11-15 05:36:45,329 - __main__ - INFO - - Precio Máx. Revenue Esperado = 1.25%\n",
      "2024-11-15 05:36:45,331 - __main__ - INFO - - Revenue Esperado Máximo = 84,915,790,861.08\n",
      "2024-11-15 05:36:45,333 - __main__ - INFO - - Número de clientes en el cluster = 542777\n",
      "2024-11-15 05:36:45,334 - __main__ - INFO - - Número de simulaciones en el cluster = 129000.50\n",
      "2024-11-15 05:36:45,336 - __main__ - INFO - - Probabilidad de aceptación en el precio óptimo = 0.5220\n",
      "2024-11-15 05:36:45,338 - __main__ - INFO - - Número esperado de créditos aceptados = 67341\n",
      "2024-11-15 05:36:45,339 - __main__ - INFO - - Monto medio simulado = 6,855,407.19\n",
      "2024-11-15 05:36:45,341 - __main__ - INFO - - Plazo medio simulado = 27.50\n",
      "2024-11-15 05:36:45,342 - __main__ - INFO - - Probabilidad de no pago media = 0.0171\n",
      "\n",
      "2024-11-15 05:36:46,800 - __main__ - INFO - Cluster 1:\n",
      "2024-11-15 05:36:46,802 - __main__ - INFO - - Precio Máx. Revenue Esperado = 1.09%\n",
      "2024-11-15 05:36:46,804 - __main__ - INFO - - Revenue Esperado Máximo = 1,528,231,341.90\n",
      "2024-11-15 05:36:46,807 - __main__ - INFO - - Número de clientes en el cluster = 127\n",
      "2024-11-15 05:36:46,809 - __main__ - INFO - - Número de simulaciones en el cluster = 34.92\n",
      "2024-11-15 05:36:46,815 - __main__ - INFO - - Probabilidad de aceptación en el precio óptimo = 0.6612\n",
      "2024-11-15 05:36:46,816 - __main__ - INFO - - Número esperado de créditos aceptados = 23\n",
      "2024-11-15 05:36:46,820 - __main__ - INFO - - Monto medio simulado = 409,777,860.01\n",
      "2024-11-15 05:36:46,822 - __main__ - INFO - - Plazo medio simulado = 27.38\n",
      "2024-11-15 05:36:46,824 - __main__ - INFO - - Probabilidad de no pago media = 0.0005\n",
      "\n",
      "2024-11-15 05:36:47,429 - __main__ - INFO - El revenue total esperado es: 86,444,022,202.98 con un total de 542904 clientes, 129,035.42 simulaciones, y 67364 créditos.\n",
      "2024-11-15 05:36:49,721 - __main__ - INFO - total_revenue: 86444022202.98238, total_clientes: 542904, total_simulaciones: 129035.42424242424, total_creditos: 67364\n",
      "2024-11-15 05:37:09,323 - __main__ - INFO - Estimación de respuesta a tratamientos completada.\n",
      "2024-11-15 05:37:16,126 - __main__ - INFO - Llamando al modelo de asignación de tratamientos...\n",
      "2024-11-15 05:37:16,127 - __main__ - INFO - Iniciando modelo de asignación de tratamientos...\n",
      "2024-11-15 05:37:16,131 - __main__ - INFO - Procesando datos de probabilidades y asignando IDs de tratamiento...\n",
      "2024-11-15 05:37:16,140 - __main__ - INFO - Fusionando probabilidades con información de RUT...\n",
      "2024-11-15 05:37:16,309 - __main__ - INFO - Fusionando información de RUT con información de clusters...\n",
      "2024-11-15 05:37:16,480 - __main__ - INFO - Agrupando información por cluster...\n",
      "2024-11-15 05:37:17,240 - __main__ - INFO - Calculando Revenue Calculado (RC)...\n",
      "2024-11-15 05:37:17,246 - __main__ - INFO - Preparando matriz de beneficios para optimización...\n",
      "2024-11-15 05:37:17,251 - __main__ - INFO - Inicializando modelo de optimización con Gurobi...\n",
      "2024-11-15 05:37:17,253 - __main__ - INFO - Creando variables de decisión...\n",
      "2024-11-15 05:37:17,255 - __main__ - INFO - Agregando restricción de un tratamiento por cliente...\n",
      "2024-11-15 05:37:17,258 - __main__ - INFO - Agregando restricción de capacidad para ejecutivos...\n",
      "2024-11-15 05:37:17,262 - __main__ - INFO - Agregando restricciones de consistencia por cluster...\n",
      "2024-11-15 05:37:17,265 - __main__ - INFO - Iniciando optimización con Gurobi...\n"
     ]
    },
    {
     "name": "stdout",
     "output_type": "stream",
     "text": [
      "Gurobi Optimizer version 11.0.3 build v11.0.3rc0 (win64 - Windows 10.0 (19045.2))\n"
     ]
    },
    {
     "name": "stderr",
     "output_type": "stream",
     "text": [
      "2024-11-15 05:37:17,270 - gurobipy - INFO - Gurobi Optimizer version 11.0.3 build v11.0.3rc0 (win64 - Windows 10.0 (19045.2))\n"
     ]
    },
    {
     "name": "stdout",
     "output_type": "stream",
     "text": [
      "\n"
     ]
    },
    {
     "name": "stderr",
     "output_type": "stream",
     "text": [
      "2024-11-15 05:37:17,275 - gurobipy - INFO - \n"
     ]
    },
    {
     "name": "stdout",
     "output_type": "stream",
     "text": [
      "CPU model: AMD Ryzen 5 2500U with Radeon Vega Mobile Gfx, instruction set [SSE2|AVX|AVX2]\n"
     ]
    },
    {
     "name": "stderr",
     "output_type": "stream",
     "text": [
      "2024-11-15 05:37:17,280 - gurobipy - INFO - CPU model: AMD Ryzen 5 2500U with Radeon Vega Mobile Gfx, instruction set [SSE2|AVX|AVX2]\n"
     ]
    },
    {
     "name": "stdout",
     "output_type": "stream",
     "text": [
      "Thread count: 4 physical cores, 8 logical processors, using up to 8 threads\n"
     ]
    },
    {
     "name": "stderr",
     "output_type": "stream",
     "text": [
      "2024-11-15 05:37:17,284 - gurobipy - INFO - Thread count: 4 physical cores, 8 logical processors, using up to 8 threads\n"
     ]
    },
    {
     "name": "stdout",
     "output_type": "stream",
     "text": [
      "\n"
     ]
    },
    {
     "name": "stderr",
     "output_type": "stream",
     "text": [
      "2024-11-15 05:37:17,289 - gurobipy - INFO - \n"
     ]
    },
    {
     "name": "stdout",
     "output_type": "stream",
     "text": [
      "Optimize a model with 3 rows, 16 columns and 22 nonzeros\n"
     ]
    },
    {
     "name": "stderr",
     "output_type": "stream",
     "text": [
      "2024-11-15 05:37:17,293 - gurobipy - INFO - Optimize a model with 3 rows, 16 columns and 22 nonzeros\n"
     ]
    },
    {
     "name": "stdout",
     "output_type": "stream",
     "text": [
      "Model fingerprint: 0x4c594fe3\n"
     ]
    },
    {
     "name": "stderr",
     "output_type": "stream",
     "text": [
      "2024-11-15 05:37:17,297 - gurobipy - INFO - Model fingerprint: 0x4c594fe3\n"
     ]
    },
    {
     "name": "stdout",
     "output_type": "stream",
     "text": [
      "Variable types: 0 continuous, 16 integer (16 binary)\n"
     ]
    },
    {
     "name": "stderr",
     "output_type": "stream",
     "text": [
      "2024-11-15 05:37:17,303 - gurobipy - INFO - Variable types: 0 continuous, 16 integer (16 binary)\n"
     ]
    },
    {
     "name": "stdout",
     "output_type": "stream",
     "text": [
      "Coefficient statistics:\n"
     ]
    },
    {
     "name": "stderr",
     "output_type": "stream",
     "text": [
      "2024-11-15 05:37:17,307 - gurobipy - INFO - Coefficient statistics:\n"
     ]
    },
    {
     "name": "stdout",
     "output_type": "stream",
     "text": [
      "  Matrix range     [1e+00, 5e+05]\n"
     ]
    },
    {
     "name": "stderr",
     "output_type": "stream",
     "text": [
      "2024-11-15 05:37:17,313 - gurobipy - INFO -   Matrix range     [1e+00, 5e+05]\n"
     ]
    },
    {
     "name": "stdout",
     "output_type": "stream",
     "text": [
      "  Objective range  [7e+08, 1e+11]\n"
     ]
    },
    {
     "name": "stderr",
     "output_type": "stream",
     "text": [
      "2024-11-15 05:37:17,316 - gurobipy - INFO -   Objective range  [7e+08, 1e+11]\n"
     ]
    },
    {
     "name": "stdout",
     "output_type": "stream",
     "text": [
      "  Bounds range     [1e+00, 1e+00]\n"
     ]
    },
    {
     "name": "stderr",
     "output_type": "stream",
     "text": [
      "2024-11-15 05:37:17,321 - gurobipy - INFO -   Bounds range     [1e+00, 1e+00]\n"
     ]
    },
    {
     "name": "stdout",
     "output_type": "stream",
     "text": [
      "  RHS range        [1e+00, 2e+05]\n"
     ]
    },
    {
     "name": "stderr",
     "output_type": "stream",
     "text": [
      "2024-11-15 05:37:17,325 - gurobipy - INFO -   RHS range        [1e+00, 2e+05]\n"
     ]
    },
    {
     "name": "stdout",
     "output_type": "stream",
     "text": [
      "Warning: Model contains large objective coefficients\n"
     ]
    },
    {
     "name": "stderr",
     "output_type": "stream",
     "text": [
      "2024-11-15 05:37:17,331 - gurobipy - INFO - Warning: Model contains large objective coefficients\n"
     ]
    },
    {
     "name": "stdout",
     "output_type": "stream",
     "text": [
      "         Consider reformulating model or setting NumericFocus parameter\n"
     ]
    },
    {
     "name": "stderr",
     "output_type": "stream",
     "text": [
      "2024-11-15 05:37:17,337 - gurobipy - INFO -          Consider reformulating model or setting NumericFocus parameter\n"
     ]
    },
    {
     "name": "stdout",
     "output_type": "stream",
     "text": [
      "         to avoid numerical issues.\n"
     ]
    },
    {
     "name": "stderr",
     "output_type": "stream",
     "text": [
      "2024-11-15 05:37:17,344 - gurobipy - INFO -          to avoid numerical issues.\n"
     ]
    },
    {
     "name": "stdout",
     "output_type": "stream",
     "text": [
      "Found heuristic solution: objective 5.202242e+10\n"
     ]
    },
    {
     "name": "stderr",
     "output_type": "stream",
     "text": [
      "2024-11-15 05:37:17,357 - gurobipy - INFO - Found heuristic solution: objective 5.202242e+10\n"
     ]
    },
    {
     "name": "stdout",
     "output_type": "stream",
     "text": [
      "Presolve removed 3 rows and 16 columns\n"
     ]
    },
    {
     "name": "stderr",
     "output_type": "stream",
     "text": [
      "2024-11-15 05:37:17,364 - gurobipy - INFO - Presolve removed 3 rows and 16 columns\n"
     ]
    },
    {
     "name": "stdout",
     "output_type": "stream",
     "text": [
      "Presolve time: 0.00s\n"
     ]
    },
    {
     "name": "stderr",
     "output_type": "stream",
     "text": [
      "2024-11-15 05:37:17,369 - gurobipy - INFO - Presolve time: 0.00s\n"
     ]
    },
    {
     "name": "stdout",
     "output_type": "stream",
     "text": [
      "Presolve: All rows and columns removed\n"
     ]
    },
    {
     "name": "stderr",
     "output_type": "stream",
     "text": [
      "2024-11-15 05:37:17,377 - gurobipy - INFO - Presolve: All rows and columns removed\n"
     ]
    },
    {
     "name": "stdout",
     "output_type": "stream",
     "text": [
      "\n"
     ]
    },
    {
     "name": "stderr",
     "output_type": "stream",
     "text": [
      "2024-11-15 05:37:17,381 - gurobipy - INFO - \n"
     ]
    },
    {
     "name": "stdout",
     "output_type": "stream",
     "text": [
      "Explored 0 nodes (0 simplex iterations) in 0.09 seconds (0.00 work units)\n"
     ]
    },
    {
     "name": "stderr",
     "output_type": "stream",
     "text": [
      "2024-11-15 05:37:17,387 - gurobipy - INFO - Explored 0 nodes (0 simplex iterations) in 0.09 seconds (0.00 work units)\n"
     ]
    },
    {
     "name": "stdout",
     "output_type": "stream",
     "text": [
      "Thread count was 1 (of 8 available processors)\n"
     ]
    },
    {
     "name": "stderr",
     "output_type": "stream",
     "text": [
      "2024-11-15 05:37:17,391 - gurobipy - INFO - Thread count was 1 (of 8 available processors)\n"
     ]
    },
    {
     "name": "stdout",
     "output_type": "stream",
     "text": [
      "\n"
     ]
    },
    {
     "name": "stderr",
     "output_type": "stream",
     "text": [
      "2024-11-15 05:37:17,394 - gurobipy - INFO - \n"
     ]
    },
    {
     "name": "stdout",
     "output_type": "stream",
     "text": [
      "Solution count 2: 6.49829e+10 5.20224e+10 \n"
     ]
    },
    {
     "name": "stderr",
     "output_type": "stream",
     "text": [
      "2024-11-15 05:37:17,397 - gurobipy - INFO - Solution count 2: 6.49829e+10 5.20224e+10 \n"
     ]
    },
    {
     "name": "stdout",
     "output_type": "stream",
     "text": [
      "\n"
     ]
    },
    {
     "name": "stderr",
     "output_type": "stream",
     "text": [
      "2024-11-15 05:37:17,402 - gurobipy - INFO - \n"
     ]
    },
    {
     "name": "stdout",
     "output_type": "stream",
     "text": [
      "Optimal solution found (tolerance 1.00e-04)\n"
     ]
    },
    {
     "name": "stderr",
     "output_type": "stream",
     "text": [
      "2024-11-15 05:37:17,404 - gurobipy - INFO - Optimal solution found (tolerance 1.00e-04)\n"
     ]
    },
    {
     "name": "stdout",
     "output_type": "stream",
     "text": [
      "Best objective 6.498285557105e+10, best bound 6.498285557105e+10, gap 0.0000%\n"
     ]
    },
    {
     "name": "stderr",
     "output_type": "stream",
     "text": [
      "2024-11-15 05:37:17,407 - gurobipy - INFO - Best objective 6.498285557105e+10, best bound 6.498285557105e+10, gap 0.0000%\n",
      "2024-11-15 05:37:17,409 - __main__ - INFO - Optimización exitosa. Extrayendo resultados...\n",
      "2024-11-15 05:37:17,410 - __main__ - INFO - Ganancias totales: 64982855571.05\n",
      "2024-11-15 05:37:17,412 - __main__ - INFO - Executives used: 127\n",
      "2024-11-15 05:37:17,414 - __main__ - INFO - Executives remaining: 204873\n",
      "2024-11-15 05:37:17,957 - __main__ - INFO - Optimización completada.\n",
      "2024-11-15 05:37:17,958 - __main__ - ERROR - Error en function_modelo_asignacion_tratamientos: local variable 'model' referenced before assignment\n",
      "2024-11-15 05:37:17,960 - __main__ - INFO - Recalculación de métricas completada.\n",
      "2024-11-15 05:37:19,501 - __main__ - INFO - Aplicando acción tipo: adjust_splits sobre variable: Probabilidad_No_Pago con parámetros: {'operation': 'move', 'index': 0, 'amount': -1}\n",
      "2024-11-15 05:37:19,510 - __main__ - INFO - Recalculando clusters...\n",
      "2024-11-15 05:37:19,511 - __main__ - INFO - Realizando clustering...\n",
      "2024-11-15 05:37:19,547 - __main__ - INFO - Procesando variable: Genero\n",
      "2024-11-15 05:37:19,550 - __main__ - INFO - Procesando variable: Categoria_Digital\n",
      "2024-11-15 05:37:19,552 - __main__ - INFO - Procesando variable: Elasticidad_Precios\n",
      "2024-11-15 05:37:19,553 - __main__ - INFO - Procesando variable: Nacionalidad\n",
      "2024-11-15 05:37:19,555 - __main__ - INFO - Procesando variable: Propension\n",
      "2024-11-15 05:37:19,557 - __main__ - INFO - Procesando variable: Probabilidad_No_Pago\n",
      "2024-11-15 05:37:19,559 - __main__ - INFO - Procesando variable: Edad\n",
      "2024-11-15 05:37:19,561 - __main__ - INFO - Procesando variable: Renta\n",
      "2024-11-15 05:37:19,590 - __main__ - INFO - Cortes para variable 'Renta': [70944581.06383134]\n",
      "2024-11-15 05:37:19,592 - __main__ - INFO - Variables incluidas en clusterización: ['Renta_cluster']\n",
      "2024-11-15 05:37:35,328 - __main__ - INFO - Variables incluidas en este clustering: ['Renta_cluster']\n",
      "2024-11-15 05:37:35,330 - __main__ - INFO - Clustering completado. Número de clusters: 2\n",
      "2024-11-15 05:37:35,332 - __main__ - INFO - Recalculando métricas...\n",
      "2024-11-15 05:37:35,335 - __main__ - INFO - Recalculando métricas...\n",
      "2024-11-15 05:37:39,462 - __main__ - INFO - Estimando elasticidad...\n",
      "2024-11-15 05:38:13,369 - __main__ - INFO - Cluster 0:\n",
      "2024-11-15 05:38:13,371 - __main__ - INFO - - Precio Máx. Revenue Esperado = 1.25%\n",
      "2024-11-15 05:38:13,372 - __main__ - INFO - - Revenue Esperado Máximo = 84,915,790,861.08\n",
      "2024-11-15 05:38:13,374 - __main__ - INFO - - Número de clientes en el cluster = 542777\n",
      "2024-11-15 05:38:13,376 - __main__ - INFO - - Número de simulaciones en el cluster = 129000.50\n",
      "2024-11-15 05:38:13,378 - __main__ - INFO - - Probabilidad de aceptación en el precio óptimo = 0.5220\n",
      "2024-11-15 05:38:13,380 - __main__ - INFO - - Número esperado de créditos aceptados = 67341\n",
      "2024-11-15 05:38:13,383 - __main__ - INFO - - Monto medio simulado = 6,855,407.19\n",
      "2024-11-15 05:38:13,385 - __main__ - INFO - - Plazo medio simulado = 27.50\n",
      "2024-11-15 05:38:13,387 - __main__ - INFO - - Probabilidad de no pago media = 0.0171\n",
      "\n",
      "2024-11-15 05:38:14,883 - __main__ - INFO - Cluster 1:\n",
      "2024-11-15 05:38:14,884 - __main__ - INFO - - Precio Máx. Revenue Esperado = 1.09%\n",
      "2024-11-15 05:38:14,885 - __main__ - INFO - - Revenue Esperado Máximo = 1,528,231,341.90\n",
      "2024-11-15 05:38:14,887 - __main__ - INFO - - Número de clientes en el cluster = 127\n",
      "2024-11-15 05:38:14,888 - __main__ - INFO - - Número de simulaciones en el cluster = 34.92\n",
      "2024-11-15 05:38:14,889 - __main__ - INFO - - Probabilidad de aceptación en el precio óptimo = 0.6612\n",
      "2024-11-15 05:38:14,891 - __main__ - INFO - - Número esperado de créditos aceptados = 23\n",
      "2024-11-15 05:38:14,892 - __main__ - INFO - - Monto medio simulado = 409,777,860.01\n",
      "2024-11-15 05:38:14,894 - __main__ - INFO - - Plazo medio simulado = 27.38\n",
      "2024-11-15 05:38:14,895 - __main__ - INFO - - Probabilidad de no pago media = 0.0005\n",
      "\n",
      "2024-11-15 05:38:15,248 - __main__ - INFO - El revenue total esperado es: 86,444,022,202.98 con un total de 542904 clientes, 129,035.42 simulaciones, y 67364 créditos.\n",
      "2024-11-15 05:38:17,219 - __main__ - INFO - total_revenue: 86444022202.98238, total_clientes: 542904, total_simulaciones: 129035.42424242424, total_creditos: 67364\n",
      "2024-11-15 05:38:36,147 - __main__ - INFO - Estimación de respuesta a tratamientos completada.\n",
      "2024-11-15 05:38:37,887 - __main__ - WARNING - Entrenamiento interrumpido por el usuario.\n",
      "2024-11-15 05:38:37,890 - __main__ - INFO - Guardando el modelo debido a una interrupción como 'dqn_clustering_agent_interrupt'...\n"
     ]
    },
    {
     "ename": "AttributeError",
     "evalue": "'gurobipy.Model' object has no attribute 'save'",
     "output_type": "error",
     "traceback": [
      "\u001b[1;31m---------------------------------------------------------------------------\u001b[0m",
      "\u001b[1;31mKeyboardInterrupt\u001b[0m                         Traceback (most recent call last)",
      "Cell \u001b[1;32mIn[47], line 18\u001b[0m\n\u001b[0;32m     17\u001b[0m logger\u001b[38;5;241m.\u001b[39minfo(\u001b[38;5;124m\"\u001b[39m\u001b[38;5;124mVerificando el entorno con check_env...\u001b[39m\u001b[38;5;124m\"\u001b[39m)\n\u001b[1;32m---> 18\u001b[0m \u001b[43mcheck_env\u001b[49m\u001b[43m(\u001b[49m\u001b[43menv\u001b[49m\u001b[43m,\u001b[49m\u001b[43m \u001b[49m\u001b[43mwarn\u001b[49m\u001b[38;5;241;43m=\u001b[39;49m\u001b[38;5;28;43;01mTrue\u001b[39;49;00m\u001b[43m)\u001b[49m\n\u001b[0;32m     20\u001b[0m \u001b[38;5;66;03m# Crear y entrenar el agente DQN\u001b[39;00m\n",
      "File \u001b[1;32mc:\\Users\\7coto\\AppData\\Local\\Programs\\Python\\Python38\\lib\\site-packages\\stable_baselines3\\common\\env_checker.py:483\u001b[0m, in \u001b[0;36mcheck_env\u001b[1;34m(env, warn, skip_render_check)\u001b[0m\n\u001b[0;32m    481\u001b[0m     \u001b[38;5;66;03m# The check doesn't support nested observations/dict actions\u001b[39;00m\n\u001b[0;32m    482\u001b[0m     \u001b[38;5;66;03m# A warning about it has already been emitted\u001b[39;00m\n\u001b[1;32m--> 483\u001b[0m     \u001b[43m_check_nan\u001b[49m\u001b[43m(\u001b[49m\u001b[43menv\u001b[49m\u001b[43m)\u001b[49m\n\u001b[0;32m    484\u001b[0m \u001b[38;5;28;01mexcept\u001b[39;00m \u001b[38;5;167;01mNotImplementedError\u001b[39;00m:\n",
      "File \u001b[1;32mc:\\Users\\7coto\\AppData\\Local\\Programs\\Python\\Python38\\lib\\site-packages\\stable_baselines3\\common\\env_checker.py:135\u001b[0m, in \u001b[0;36m_check_nan\u001b[1;34m(env)\u001b[0m\n\u001b[0;32m    134\u001b[0m action \u001b[38;5;241m=\u001b[39m np\u001b[38;5;241m.\u001b[39marray([env\u001b[38;5;241m.\u001b[39maction_space\u001b[38;5;241m.\u001b[39msample()])\n\u001b[1;32m--> 135\u001b[0m _, _, _, _ \u001b[38;5;241m=\u001b[39m \u001b[43mvec_env\u001b[49m\u001b[38;5;241;43m.\u001b[39;49m\u001b[43mstep\u001b[49m\u001b[43m(\u001b[49m\u001b[43maction\u001b[49m\u001b[43m)\u001b[49m\n",
      "File \u001b[1;32mc:\\Users\\7coto\\AppData\\Local\\Programs\\Python\\Python38\\lib\\site-packages\\stable_baselines3\\common\\vec_env\\base_vec_env.py:206\u001b[0m, in \u001b[0;36mVecEnv.step\u001b[1;34m(self, actions)\u001b[0m\n\u001b[0;32m    205\u001b[0m \u001b[38;5;28mself\u001b[39m\u001b[38;5;241m.\u001b[39mstep_async(actions)\n\u001b[1;32m--> 206\u001b[0m \u001b[38;5;28;01mreturn\u001b[39;00m \u001b[38;5;28;43mself\u001b[39;49m\u001b[38;5;241;43m.\u001b[39;49m\u001b[43mstep_wait\u001b[49m\u001b[43m(\u001b[49m\u001b[43m)\u001b[49m\n",
      "File \u001b[1;32mc:\\Users\\7coto\\AppData\\Local\\Programs\\Python\\Python38\\lib\\site-packages\\stable_baselines3\\common\\vec_env\\vec_check_nan.py:40\u001b[0m, in \u001b[0;36mVecCheckNan.step_wait\u001b[1;34m(self)\u001b[0m\n\u001b[0;32m     39\u001b[0m \u001b[38;5;28;01mdef\u001b[39;00m \u001b[38;5;21mstep_wait\u001b[39m(\u001b[38;5;28mself\u001b[39m) \u001b[38;5;241m-\u001b[39m\u001b[38;5;241m>\u001b[39m VecEnvStepReturn:\n\u001b[1;32m---> 40\u001b[0m     observations, rewards, dones, infos \u001b[38;5;241m=\u001b[39m \u001b[38;5;28;43mself\u001b[39;49m\u001b[38;5;241;43m.\u001b[39;49m\u001b[43mvenv\u001b[49m\u001b[38;5;241;43m.\u001b[39;49m\u001b[43mstep_wait\u001b[49m\u001b[43m(\u001b[49m\u001b[43m)\u001b[49m\n\u001b[0;32m     41\u001b[0m     \u001b[38;5;28mself\u001b[39m\u001b[38;5;241m.\u001b[39m_check_val(event\u001b[38;5;241m=\u001b[39m\u001b[38;5;124m\"\u001b[39m\u001b[38;5;124mstep_wait\u001b[39m\u001b[38;5;124m\"\u001b[39m, observations\u001b[38;5;241m=\u001b[39mobservations, rewards\u001b[38;5;241m=\u001b[39mrewards, dones\u001b[38;5;241m=\u001b[39mdones)\n",
      "File \u001b[1;32mc:\\Users\\7coto\\AppData\\Local\\Programs\\Python\\Python38\\lib\\site-packages\\stable_baselines3\\common\\vec_env\\dummy_vec_env.py:58\u001b[0m, in \u001b[0;36mDummyVecEnv.step_wait\u001b[1;34m(self)\u001b[0m\n\u001b[0;32m     57\u001b[0m \u001b[38;5;28;01mfor\u001b[39;00m env_idx \u001b[38;5;129;01min\u001b[39;00m \u001b[38;5;28mrange\u001b[39m(\u001b[38;5;28mself\u001b[39m\u001b[38;5;241m.\u001b[39mnum_envs):\n\u001b[1;32m---> 58\u001b[0m     obs, \u001b[38;5;28mself\u001b[39m\u001b[38;5;241m.\u001b[39mbuf_rews[env_idx], terminated, truncated, \u001b[38;5;28mself\u001b[39m\u001b[38;5;241m.\u001b[39mbuf_infos[env_idx] \u001b[38;5;241m=\u001b[39m \u001b[38;5;28;43mself\u001b[39;49m\u001b[38;5;241;43m.\u001b[39;49m\u001b[43menvs\u001b[49m\u001b[43m[\u001b[49m\u001b[43menv_idx\u001b[49m\u001b[43m]\u001b[49m\u001b[38;5;241;43m.\u001b[39;49m\u001b[43mstep\u001b[49m\u001b[43m(\u001b[49m\n\u001b[0;32m     59\u001b[0m \u001b[43m        \u001b[49m\u001b[38;5;28;43mself\u001b[39;49m\u001b[38;5;241;43m.\u001b[39;49m\u001b[43mactions\u001b[49m\u001b[43m[\u001b[49m\u001b[43menv_idx\u001b[49m\u001b[43m]\u001b[49m\n\u001b[0;32m     60\u001b[0m \u001b[43m    \u001b[49m\u001b[43m)\u001b[49m\n\u001b[0;32m     61\u001b[0m     \u001b[38;5;66;03m# convert to SB3 VecEnv api\u001b[39;00m\n",
      "Cell \u001b[1;32mIn[45], line 142\u001b[0m, in \u001b[0;36mClusteringEnv.step\u001b[1;34m(self, action_index)\u001b[0m\n\u001b[0;32m    141\u001b[0m logger\u001b[38;5;241m.\u001b[39minfo(\u001b[38;5;124m\"\u001b[39m\u001b[38;5;124mRecalculando métricas...\u001b[39m\u001b[38;5;124m\"\u001b[39m)\n\u001b[1;32m--> 142\u001b[0m total_revenue, num_clusters \u001b[38;5;241m=\u001b[39m \u001b[38;5;28;43mself\u001b[39;49m\u001b[38;5;241;43m.\u001b[39;49m\u001b[43mrecalculate_metrics\u001b[49m\u001b[43m(\u001b[49m\u001b[43mdf_clusters\u001b[49m\u001b[43m)\u001b[49m\n\u001b[0;32m    143\u001b[0m reward \u001b[38;5;241m=\u001b[39m total_revenue \u001b[38;5;241m-\u001b[39m \u001b[38;5;28mself\u001b[39m\u001b[38;5;241m.\u001b[39mpenalty_factor \u001b[38;5;241m*\u001b[39m num_clusters\n",
      "Cell \u001b[1;32mIn[45], line 744\u001b[0m, in \u001b[0;36mClusteringEnv.recalculate_metrics\u001b[1;34m(self, df_clusters)\u001b[0m\n\u001b[0;32m    743\u001b[0m df_probabilities \u001b[38;5;241m=\u001b[39m \u001b[38;5;28mself\u001b[39m\u001b[38;5;241m.\u001b[39mfunction_estimar_respuesta_a_tratamiento(df_elasticidad, \u001b[38;5;28mself\u001b[39m\u001b[38;5;241m.\u001b[39mdf_simulaciones_info)\n\u001b[1;32m--> 744\u001b[0m \u001b[43mlogger\u001b[49m\u001b[38;5;241m.\u001b[39mdebug(\u001b[38;5;124mf\u001b[39m\u001b[38;5;124m\"\u001b[39m\u001b[38;5;124mProbabilidades calculadas: \u001b[39m\u001b[38;5;132;01m{\u001b[39;00mdf_probabilities\u001b[38;5;241m.\u001b[39mhead()\u001b[38;5;132;01m}\u001b[39;00m\u001b[38;5;124m\"\u001b[39m)\n\u001b[0;32m    746\u001b[0m \u001b[38;5;66;03m# Calcular los promedios para 'Monto_Simulado' y 'Plazo_Simulado' por categoría\u001b[39;00m\n",
      "\u001b[1;31mKeyboardInterrupt\u001b[0m: ",
      "\nDuring handling of the above exception, another exception occurred:\n",
      "\u001b[1;31mAttributeError\u001b[0m                            Traceback (most recent call last)",
      "Cell \u001b[1;32mIn[47], line 37\u001b[0m\n\u001b[0;32m     35\u001b[0m     file_name\u001b[38;5;241m=\u001b[39m\u001b[38;5;124m\"\u001b[39m\u001b[38;5;124mdqn_clustering_agent_interrupt\u001b[39m\u001b[38;5;124m\"\u001b[39m\n\u001b[0;32m     36\u001b[0m     logger\u001b[38;5;241m.\u001b[39minfo(\u001b[38;5;124mf\u001b[39m\u001b[38;5;124m\"\u001b[39m\u001b[38;5;124mGuardando el modelo debido a una interrupción como \u001b[39m\u001b[38;5;124m'\u001b[39m\u001b[38;5;132;01m{\u001b[39;00mfile_name\u001b[38;5;132;01m}\u001b[39;00m\u001b[38;5;124m'\u001b[39m\u001b[38;5;124m...\u001b[39m\u001b[38;5;124m\"\u001b[39m)\n\u001b[1;32m---> 37\u001b[0m     \u001b[43mmodel\u001b[49m\u001b[38;5;241;43m.\u001b[39;49m\u001b[43msave\u001b[49m(file_name)\n\u001b[0;32m     38\u001b[0m     logger\u001b[38;5;241m.\u001b[39minfo(\u001b[38;5;124mf\u001b[39m\u001b[38;5;124m\"\u001b[39m\u001b[38;5;124mModelo guardado exitosamente como \u001b[39m\u001b[38;5;124m'\u001b[39m\u001b[38;5;132;01m{\u001b[39;00mfile_name\u001b[38;5;132;01m}\u001b[39;00m\u001b[38;5;124m'\u001b[39m\u001b[38;5;124m.\u001b[39m\u001b[38;5;124m\"\u001b[39m)\n\u001b[0;32m     41\u001b[0m \u001b[38;5;28;01mexcept\u001b[39;00m \u001b[38;5;167;01mException\u001b[39;00m \u001b[38;5;28;01mas\u001b[39;00m e:\n",
      "File \u001b[1;32msrc\\\\gurobipy\\\\model.pxi:368\u001b[0m, in \u001b[0;36mgurobipy.Model.__getattr__\u001b[1;34m()\u001b[0m\n",
      "File \u001b[1;32msrc\\\\gurobipy\\\\model.pxi:1880\u001b[0m, in \u001b[0;36mgurobipy.Model.getAttr\u001b[1;34m()\u001b[0m\n",
      "File \u001b[1;32msrc\\\\gurobipy\\\\attrutil.pxi:26\u001b[0m, in \u001b[0;36mgurobipy._getattrinfo\u001b[1;34m()\u001b[0m\n",
      "\u001b[1;31mAttributeError\u001b[0m: 'gurobipy.Model' object has no attribute 'save'"
     ]
    }
   ],
   "source": [
    "from stable_baselines3 import DQN\n",
    "import signal\n",
    "\n",
    "# Function to handle interruptions\n",
    "def save_model_on_interrupt(model, file_name=\"dqn_clustering_agent_interrupt\"):\n",
    "    logger.info(f\"Guardando el modelo debido a una interrupción como '{file_name}'...\")\n",
    "    model.save(file_name)\n",
    "    logger.info(f\"Modelo guardado exitosamente como '{file_name}'.\")\n",
    "\n",
    "# Try-except block for handling interruptions in a Jupyter Notebook\n",
    "try:\n",
    "    # Crear la instancia del entorno\n",
    "    logger.info(\"Creando instancia de ClusteringEnv...\")\n",
    "    env = ClusteringEnv(df_info_clientes_rl, df_simulaciones_e_informacion_de_clientes_ventas_tratamiento, df_simulaciones_info)\n",
    "\n",
    "    # Verificar el entorno (opcional pero recomendado)\n",
    "    logger.info(\"Verificando el entorno con check_env...\")\n",
    "    check_env(env, warn=True)\n",
    "\n",
    "    # Crear y entrenar el agente DQN\n",
    "    logger.info(\"Inicializando y entrenando el agente DQN...\")\n",
    "    model = DQN('MlpPolicy', env, verbose=1)\n",
    "\n",
    "    # Entrenamiento del modelo\n",
    "    logger.info(\"Iniciando el entrenamiento del agente DQN...\")\n",
    "    model.learn(total_timesteps=1000)  # Ajusta el número de timesteps según tus necesidades\n",
    "    logger.info(\"Entrenamiento del agente DQN completado.\")\n",
    "\n",
    "    # Guardar el modelo entrenado\n",
    "    model.save(\"dqn_clustering_agent\")\n",
    "    logger.info(\"Modelo DQN guardado como 'dqn_clustering_agent'.\")\n",
    "\n",
    "except KeyboardInterrupt:\n",
    "    logger.warning(\"Entrenamiento interrumpido por el usuario.\")\n",
    "    file_name=\"dqn_clustering_agent_interrupt\"\n",
    "    logger.info(f\"Guardando el modelo debido a una interrupción como '{file_name}'...\")\n",
    "    model.save(file_name)\n",
    "    logger.info(f\"Modelo guardado exitosamente como '{file_name}'.\")\n",
    "\n",
    "\n",
    "except Exception as e:\n",
    "    logger.error(f\"Se produjo un error durante la ejecución: {str(e)}\", exc_info=True)\n",
    "    save_model_on_interrupt(model, file_name=\"dqn_clustering_agent_error\")\n"
   ]
  },
  {
   "cell_type": "markdown",
   "metadata": {},
   "source": [
    "## Modelo"
   ]
  },
  {
   "cell_type": "code",
   "execution_count": null,
   "metadata": {},
   "outputs": [
    {
     "name": "stderr",
     "output_type": "stream",
     "text": [
      "2024-11-14 11:19:48,369 - __main__ - INFO - Reiniciando el entorno...\n",
      "2024-11-14 11:19:48,449 - __main__ - INFO - Aplicando acción tipo: adjust_splits sobre variable: Renta con parámetros: {'operation': 'move', 'index': 1, 'amount': -1}\n",
      "2024-11-14 11:19:48,451 - __main__ - INFO - Recalculando clusters...\n",
      "2024-11-14 11:19:48,453 - __main__ - INFO - Realizando clustering...\n",
      "2024-11-14 11:19:48,555 - __main__ - INFO - Variables incluidas en clusterización: []\n",
      "2024-11-14 11:19:48,611 - __main__ - INFO - Clustering completado. Número de clusters: 1\n",
      "2024-11-14 11:19:48,613 - __main__ - INFO - Recalculando métricas...\n",
      "2024-11-14 11:19:48,615 - __main__ - INFO - Recalculando métricas...\n",
      "2024-11-14 11:19:52,856 - __main__ - INFO - Estimando elasticidad...\n",
      "2024-11-14 11:20:25,742 - __main__ - INFO - Cluster 0:\n",
      "2024-11-14 11:20:25,744 - __main__ - INFO - - Precio Máx. Revenue Esperado = 1.24%\n",
      "2024-11-14 11:20:25,746 - __main__ - INFO - - Revenue Esperado Máximo = 86,279,803,963.36\n",
      "2024-11-14 11:20:25,748 - __main__ - INFO - - Número de clientes en el cluster = 543647\n",
      "2024-11-14 11:20:25,749 - __main__ - INFO - - Número de simulaciones en el cluster = 129212.53\n",
      "2024-11-14 11:20:25,752 - __main__ - INFO - - Probabilidad de aceptación en el precio óptimo = 0.5242\n",
      "2024-11-14 11:20:25,754 - __main__ - INFO - - Número esperado de créditos aceptados = 67736\n",
      "2024-11-14 11:20:25,756 - __main__ - INFO - - Monto medio simulado = 6,953,977.48\n",
      "2024-11-14 11:20:25,761 - __main__ - INFO - - Plazo medio simulado = 27.50\n",
      "2024-11-14 11:20:25,763 - __main__ - INFO - - Probabilidad de no pago media = 0.0171\n",
      "\n",
      "2024-11-14 11:20:26,716 - __main__ - INFO - El revenue total esperado es: 86,279,803,963.36 con un total de 543647 clientes, 129,212.53 simulaciones, y 67736 créditos.\n",
      "2024-11-14 11:20:29,621 - __main__ - INFO - total_revenue: 86279803963.36256, total_clientes: 543647, total_simulaciones: 129212.5303030303, total_creditos: 67736\n",
      "2024-11-14 11:20:51,611 - __main__ - INFO - Estimación de respuesta a tratamientos completada.\n",
      "2024-11-14 11:20:58,607 - __main__ - INFO - Llamando al modelo de asignación de tratamientos...\n",
      "2024-11-14 11:20:58,609 - __main__ - INFO - Iniciando modelo de asignación de tratamientos...\n",
      "2024-11-14 11:20:58,611 - __main__ - INFO - Procesando datos de probabilidades y asignando IDs de tratamiento...\n",
      "2024-11-14 11:20:58,617 - __main__ - INFO - Fusionando probabilidades con información de RUT...\n",
      "2024-11-14 11:20:58,833 - __main__ - INFO - Fusionando información de RUT con información de clusters...\n",
      "2024-11-14 11:20:59,000 - __main__ - INFO - Agrupando información por cluster...\n",
      "2024-11-14 11:20:59,447 - __main__ - INFO - Calculando Revenue Calculado (RC)...\n",
      "2024-11-14 11:20:59,454 - __main__ - INFO - Preparando matriz de beneficios para optimización...\n",
      "2024-11-14 11:20:59,457 - __main__ - INFO - Inicializando modelo de optimización con Gurobi...\n",
      "2024-11-14 11:20:59,459 - __main__ - INFO - Creando variables de decisión...\n",
      "2024-11-14 11:20:59,461 - __main__ - INFO - Agregando restricción de un tratamiento por cliente...\n",
      "2024-11-14 11:20:59,463 - __main__ - INFO - Agregando restricción de capacidad para ejecutivos...\n",
      "2024-11-14 11:20:59,467 - __main__ - INFO - Agregando restricciones de consistencia por cluster...\n",
      "2024-11-14 11:20:59,471 - __main__ - INFO - Iniciando optimización con Gurobi...\n"
     ]
    },
    {
     "name": "stdout",
     "output_type": "stream",
     "text": [
      "Gurobi Optimizer version 11.0.3 build v11.0.3rc0 (win64 - Windows 10.0 (19045.2))\n"
     ]
    },
    {
     "name": "stderr",
     "output_type": "stream",
     "text": [
      "2024-11-14 11:20:59,476 - gurobipy - INFO - Gurobi Optimizer version 11.0.3 build v11.0.3rc0 (win64 - Windows 10.0 (19045.2))\n"
     ]
    },
    {
     "name": "stdout",
     "output_type": "stream",
     "text": [
      "\n"
     ]
    },
    {
     "name": "stderr",
     "output_type": "stream",
     "text": [
      "2024-11-14 11:20:59,485 - gurobipy - INFO - \n"
     ]
    },
    {
     "name": "stdout",
     "output_type": "stream",
     "text": [
      "CPU model: AMD Ryzen 5 2500U with Radeon Vega Mobile Gfx, instruction set [SSE2|AVX|AVX2]\n"
     ]
    },
    {
     "name": "stderr",
     "output_type": "stream",
     "text": [
      "2024-11-14 11:20:59,488 - gurobipy - INFO - CPU model: AMD Ryzen 5 2500U with Radeon Vega Mobile Gfx, instruction set [SSE2|AVX|AVX2]\n"
     ]
    },
    {
     "name": "stdout",
     "output_type": "stream",
     "text": [
      "Thread count: 4 physical cores, 8 logical processors, using up to 8 threads\n"
     ]
    },
    {
     "name": "stderr",
     "output_type": "stream",
     "text": [
      "2024-11-14 11:20:59,495 - gurobipy - INFO - Thread count: 4 physical cores, 8 logical processors, using up to 8 threads\n"
     ]
    },
    {
     "name": "stdout",
     "output_type": "stream",
     "text": [
      "\n"
     ]
    },
    {
     "name": "stderr",
     "output_type": "stream",
     "text": [
      "2024-11-14 11:20:59,502 - gurobipy - INFO - \n"
     ]
    },
    {
     "name": "stdout",
     "output_type": "stream",
     "text": [
      "Optimize a model with 2 rows, 8 columns and 11 nonzeros\n"
     ]
    },
    {
     "name": "stderr",
     "output_type": "stream",
     "text": [
      "2024-11-14 11:20:59,508 - gurobipy - INFO - Optimize a model with 2 rows, 8 columns and 11 nonzeros\n"
     ]
    },
    {
     "name": "stdout",
     "output_type": "stream",
     "text": [
      "Model fingerprint: 0x76824660\n"
     ]
    },
    {
     "name": "stderr",
     "output_type": "stream",
     "text": [
      "2024-11-14 11:20:59,513 - gurobipy - INFO - Model fingerprint: 0x76824660\n"
     ]
    },
    {
     "name": "stdout",
     "output_type": "stream",
     "text": [
      "Variable types: 0 continuous, 8 integer (8 binary)\n"
     ]
    },
    {
     "name": "stderr",
     "output_type": "stream",
     "text": [
      "2024-11-14 11:20:59,521 - gurobipy - INFO - Variable types: 0 continuous, 8 integer (8 binary)\n"
     ]
    },
    {
     "name": "stdout",
     "output_type": "stream",
     "text": [
      "Coefficient statistics:\n"
     ]
    },
    {
     "name": "stderr",
     "output_type": "stream",
     "text": [
      "2024-11-14 11:20:59,526 - gurobipy - INFO - Coefficient statistics:\n"
     ]
    },
    {
     "name": "stdout",
     "output_type": "stream",
     "text": [
      "  Matrix range     [1e+00, 5e+05]\n"
     ]
    },
    {
     "name": "stderr",
     "output_type": "stream",
     "text": [
      "2024-11-14 11:20:59,533 - gurobipy - INFO -   Matrix range     [1e+00, 5e+05]\n"
     ]
    },
    {
     "name": "stdout",
     "output_type": "stream",
     "text": [
      "  Objective range  [5e+10, 1e+11]\n"
     ]
    },
    {
     "name": "stderr",
     "output_type": "stream",
     "text": [
      "2024-11-14 11:20:59,540 - gurobipy - INFO -   Objective range  [5e+10, 1e+11]\n"
     ]
    },
    {
     "name": "stdout",
     "output_type": "stream",
     "text": [
      "  Bounds range     [1e+00, 1e+00]\n"
     ]
    },
    {
     "name": "stderr",
     "output_type": "stream",
     "text": [
      "2024-11-14 11:20:59,544 - gurobipy - INFO -   Bounds range     [1e+00, 1e+00]\n"
     ]
    },
    {
     "name": "stdout",
     "output_type": "stream",
     "text": [
      "  RHS range        [1e+00, 2e+05]\n"
     ]
    },
    {
     "name": "stderr",
     "output_type": "stream",
     "text": [
      "2024-11-14 11:20:59,547 - gurobipy - INFO -   RHS range        [1e+00, 2e+05]\n"
     ]
    },
    {
     "name": "stdout",
     "output_type": "stream",
     "text": [
      "Warning: Model contains large objective coefficients\n"
     ]
    },
    {
     "name": "stderr",
     "output_type": "stream",
     "text": [
      "2024-11-14 11:20:59,552 - gurobipy - INFO - Warning: Model contains large objective coefficients\n"
     ]
    },
    {
     "name": "stdout",
     "output_type": "stream",
     "text": [
      "         Consider reformulating model or setting NumericFocus parameter\n"
     ]
    },
    {
     "name": "stderr",
     "output_type": "stream",
     "text": [
      "2024-11-14 11:20:59,556 - gurobipy - INFO -          Consider reformulating model or setting NumericFocus parameter\n"
     ]
    },
    {
     "name": "stdout",
     "output_type": "stream",
     "text": [
      "         to avoid numerical issues.\n"
     ]
    },
    {
     "name": "stderr",
     "output_type": "stream",
     "text": [
      "2024-11-14 11:20:59,560 - gurobipy - INFO -          to avoid numerical issues.\n"
     ]
    },
    {
     "name": "stdout",
     "output_type": "stream",
     "text": [
      "Found heuristic solution: objective 5.186991e+10\n"
     ]
    },
    {
     "name": "stderr",
     "output_type": "stream",
     "text": [
      "2024-11-14 11:20:59,563 - gurobipy - INFO - Found heuristic solution: objective 5.186991e+10\n"
     ]
    },
    {
     "name": "stdout",
     "output_type": "stream",
     "text": [
      "Presolve removed 2 rows and 8 columns\n"
     ]
    },
    {
     "name": "stderr",
     "output_type": "stream",
     "text": [
      "2024-11-14 11:20:59,568 - gurobipy - INFO - Presolve removed 2 rows and 8 columns\n"
     ]
    },
    {
     "name": "stdout",
     "output_type": "stream",
     "text": [
      "Presolve time: 0.00s\n"
     ]
    },
    {
     "name": "stderr",
     "output_type": "stream",
     "text": [
      "2024-11-14 11:20:59,571 - gurobipy - INFO - Presolve time: 0.00s\n"
     ]
    },
    {
     "name": "stdout",
     "output_type": "stream",
     "text": [
      "Presolve: All rows and columns removed\n"
     ]
    },
    {
     "name": "stderr",
     "output_type": "stream",
     "text": [
      "2024-11-14 11:20:59,575 - gurobipy - INFO - Presolve: All rows and columns removed\n"
     ]
    },
    {
     "name": "stdout",
     "output_type": "stream",
     "text": [
      "\n"
     ]
    },
    {
     "name": "stderr",
     "output_type": "stream",
     "text": [
      "2024-11-14 11:20:59,577 - gurobipy - INFO - \n"
     ]
    },
    {
     "name": "stdout",
     "output_type": "stream",
     "text": [
      "Explored 0 nodes (0 simplex iterations) in 0.07 seconds (0.00 work units)\n"
     ]
    },
    {
     "name": "stderr",
     "output_type": "stream",
     "text": [
      "2024-11-14 11:20:59,581 - gurobipy - INFO - Explored 0 nodes (0 simplex iterations) in 0.07 seconds (0.00 work units)\n"
     ]
    },
    {
     "name": "stdout",
     "output_type": "stream",
     "text": [
      "Thread count was 1 (of 8 available processors)\n"
     ]
    },
    {
     "name": "stderr",
     "output_type": "stream",
     "text": [
      "2024-11-14 11:20:59,586 - gurobipy - INFO - Thread count was 1 (of 8 available processors)\n"
     ]
    },
    {
     "name": "stdout",
     "output_type": "stream",
     "text": [
      "\n"
     ]
    },
    {
     "name": "stderr",
     "output_type": "stream",
     "text": [
      "2024-11-14 11:20:59,589 - gurobipy - INFO - \n"
     ]
    },
    {
     "name": "stdout",
     "output_type": "stream",
     "text": [
      "Solution count 2: 6.38261e+10 5.18699e+10 \n"
     ]
    },
    {
     "name": "stderr",
     "output_type": "stream",
     "text": [
      "2024-11-14 11:20:59,594 - gurobipy - INFO - Solution count 2: 6.38261e+10 5.18699e+10 \n"
     ]
    },
    {
     "name": "stdout",
     "output_type": "stream",
     "text": [
      "\n"
     ]
    },
    {
     "name": "stderr",
     "output_type": "stream",
     "text": [
      "2024-11-14 11:20:59,597 - gurobipy - INFO - \n"
     ]
    },
    {
     "name": "stdout",
     "output_type": "stream",
     "text": [
      "Optimal solution found (tolerance 1.00e-04)\n"
     ]
    },
    {
     "name": "stderr",
     "output_type": "stream",
     "text": [
      "2024-11-14 11:20:59,603 - gurobipy - INFO - Optimal solution found (tolerance 1.00e-04)\n"
     ]
    },
    {
     "name": "stdout",
     "output_type": "stream",
     "text": [
      "Best objective 6.382609426361e+10, best bound 6.382609426361e+10, gap 0.0000%\n"
     ]
    },
    {
     "name": "stderr",
     "output_type": "stream",
     "text": [
      "2024-11-14 11:20:59,611 - gurobipy - INFO - Best objective 6.382609426361e+10, best bound 6.382609426361e+10, gap 0.0000%\n",
      "2024-11-14 11:20:59,613 - __main__ - INFO - Optimización exitosa. Extrayendo resultados...\n",
      "2024-11-14 11:20:59,615 - __main__ - INFO - Ganancias totales: 63826094263.61\n",
      "2024-11-14 11:20:59,618 - __main__ - INFO - Executives used: 0\n",
      "2024-11-14 11:20:59,620 - __main__ - INFO - Executives remaining: 205000\n",
      "2024-11-14 11:21:00,299 - __main__ - INFO - Optimización completada.\n",
      "2024-11-14 11:21:00,302 - __main__ - ERROR - Error en function_modelo_asignacion_tratamientos: local variable 'model' referenced before assignment\n",
      "2024-11-14 11:21:00,303 - __main__ - INFO - Recalculación de métricas completada.\n",
      "2024-11-14 11:21:01,892 - __main__ - INFO - Aplicando acción tipo: adjust_splits sobre variable: Renta con parámetros: {'operation': 'move', 'index': 1, 'amount': -1}\n",
      "2024-11-14 11:21:01,894 - __main__ - INFO - Recalculando clusters...\n",
      "2024-11-14 11:21:01,895 - __main__ - INFO - Realizando clustering...\n",
      "2024-11-14 11:21:01,942 - __main__ - INFO - Variables incluidas en clusterización: []\n",
      "2024-11-14 11:21:01,991 - __main__ - INFO - Clustering completado. Número de clusters: 1\n",
      "2024-11-14 11:21:01,993 - __main__ - INFO - Recalculando métricas...\n",
      "2024-11-14 11:21:01,994 - __main__ - INFO - Recalculando métricas...\n"
     ]
    },
    {
     "name": "stdout",
     "output_type": "stream",
     "text": [
      "Action: 39, Reward: 0\n"
     ]
    },
    {
     "name": "stderr",
     "output_type": "stream",
     "text": [
      "2024-11-14 11:21:06,486 - __main__ - INFO - Estimando elasticidad...\n",
      "2024-11-14 11:21:40,200 - __main__ - INFO - Cluster 0:\n",
      "2024-11-14 11:21:40,202 - __main__ - INFO - - Precio Máx. Revenue Esperado = 1.24%\n",
      "2024-11-14 11:21:40,206 - __main__ - INFO - - Revenue Esperado Máximo = 86,279,803,963.36\n",
      "2024-11-14 11:21:40,208 - __main__ - INFO - - Número de clientes en el cluster = 543647\n",
      "2024-11-14 11:21:40,210 - __main__ - INFO - - Número de simulaciones en el cluster = 129212.53\n",
      "2024-11-14 11:21:40,212 - __main__ - INFO - - Probabilidad de aceptación en el precio óptimo = 0.5242\n",
      "2024-11-14 11:21:40,215 - __main__ - INFO - - Número esperado de créditos aceptados = 67736\n",
      "2024-11-14 11:21:40,216 - __main__ - INFO - - Monto medio simulado = 6,953,977.48\n",
      "2024-11-14 11:21:40,218 - __main__ - INFO - - Plazo medio simulado = 27.50\n",
      "2024-11-14 11:21:40,220 - __main__ - INFO - - Probabilidad de no pago media = 0.0171\n",
      "\n",
      "2024-11-14 11:21:41,114 - __main__ - INFO - El revenue total esperado es: 86,279,803,963.36 con un total de 543647 clientes, 129,212.53 simulaciones, y 67736 créditos.\n",
      "2024-11-14 11:21:43,960 - __main__ - INFO - total_revenue: 86279803963.36256, total_clientes: 543647, total_simulaciones: 129212.5303030303, total_creditos: 67736\n"
     ]
    },
    {
     "ename": "KeyboardInterrupt",
     "evalue": "",
     "output_type": "error",
     "traceback": [
      "\u001b[1;31m---------------------------------------------------------------------------\u001b[0m",
      "\u001b[1;31mKeyboardInterrupt\u001b[0m                         Traceback (most recent call last)",
      "Cell \u001b[1;32mIn[64], line 12\u001b[0m\n\u001b[0;32m     10\u001b[0m \u001b[38;5;28;01mwhile\u001b[39;00m \u001b[38;5;129;01mnot\u001b[39;00m (done \u001b[38;5;129;01mor\u001b[39;00m truncated):\n\u001b[0;32m     11\u001b[0m     action, _states \u001b[38;5;241m=\u001b[39m model\u001b[38;5;241m.\u001b[39mpredict(obs, deterministic\u001b[38;5;241m=\u001b[39m\u001b[38;5;28;01mTrue\u001b[39;00m)\n\u001b[1;32m---> 12\u001b[0m     obs, reward, done, truncated, info \u001b[38;5;241m=\u001b[39m \u001b[43menv\u001b[49m\u001b[38;5;241;43m.\u001b[39;49m\u001b[43mstep\u001b[49m\u001b[43m(\u001b[49m\u001b[43maction\u001b[49m\u001b[43m)\u001b[49m\n\u001b[0;32m     13\u001b[0m     total_reward \u001b[38;5;241m+\u001b[39m\u001b[38;5;241m=\u001b[39m reward\n\u001b[0;32m     14\u001b[0m     \u001b[38;5;66;03m# Opcional: imprimir la acción y la recompensa\u001b[39;00m\n",
      "Cell \u001b[1;32mIn[60], line 142\u001b[0m, in \u001b[0;36mClusteringEnv.step\u001b[1;34m(self, action_index)\u001b[0m\n\u001b[0;32m    140\u001b[0m \u001b[38;5;28;01mtry\u001b[39;00m:\n\u001b[0;32m    141\u001b[0m     logger\u001b[38;5;241m.\u001b[39minfo(\u001b[38;5;124m\"\u001b[39m\u001b[38;5;124mRecalculando métricas...\u001b[39m\u001b[38;5;124m\"\u001b[39m)\n\u001b[1;32m--> 142\u001b[0m     total_revenue, num_clusters \u001b[38;5;241m=\u001b[39m \u001b[38;5;28;43mself\u001b[39;49m\u001b[38;5;241;43m.\u001b[39;49m\u001b[43mrecalculate_metrics\u001b[49m\u001b[43m(\u001b[49m\u001b[43mdf_clusters\u001b[49m\u001b[43m)\u001b[49m\n\u001b[0;32m    143\u001b[0m     reward \u001b[38;5;241m=\u001b[39m total_revenue \u001b[38;5;241m-\u001b[39m \u001b[38;5;28mself\u001b[39m\u001b[38;5;241m.\u001b[39mpenalty_factor \u001b[38;5;241m*\u001b[39m num_clusters\n\u001b[0;32m    144\u001b[0m     logger\u001b[38;5;241m.\u001b[39mdebug(\u001b[38;5;124mf\u001b[39m\u001b[38;5;124m\"\u001b[39m\u001b[38;5;124mRecompensa calculada: \u001b[39m\u001b[38;5;132;01m{\u001b[39;00mreward\u001b[38;5;132;01m}\u001b[39;00m\u001b[38;5;124m (Revenue: \u001b[39m\u001b[38;5;132;01m{\u001b[39;00mtotal_revenue\u001b[38;5;132;01m}\u001b[39;00m\u001b[38;5;124m, Clusters: \u001b[39m\u001b[38;5;132;01m{\u001b[39;00mnum_clusters\u001b[38;5;132;01m}\u001b[39;00m\u001b[38;5;124m)\u001b[39m\u001b[38;5;124m\"\u001b[39m)\n",
      "Cell \u001b[1;32mIn[60], line 742\u001b[0m, in \u001b[0;36mClusteringEnv.recalculate_metrics\u001b[1;34m(self, df_clusters)\u001b[0m\n\u001b[0;32m    739\u001b[0m df_elasticidad \u001b[38;5;241m=\u001b[39m dict_elasticidad[\u001b[38;5;124m'\u001b[39m\u001b[38;5;124mdf_estimar_elasticidad\u001b[39m\u001b[38;5;124m'\u001b[39m]\n\u001b[0;32m    740\u001b[0m logger\u001b[38;5;241m.\u001b[39minfo(\u001b[38;5;124mf\u001b[39m\u001b[38;5;124m\"\u001b[39m\u001b[38;5;124mtotal_revenue: \u001b[39m\u001b[38;5;132;01m{\u001b[39;00mdict_elasticidad[\u001b[38;5;124m'\u001b[39m\u001b[38;5;124mtotal_revenue\u001b[39m\u001b[38;5;124m'\u001b[39m]\u001b[38;5;132;01m}\u001b[39;00m\u001b[38;5;124m, total_clientes: \u001b[39m\u001b[38;5;132;01m{\u001b[39;00mdict_elasticidad[\u001b[38;5;124m'\u001b[39m\u001b[38;5;124mtotal_clientes\u001b[39m\u001b[38;5;124m'\u001b[39m]\u001b[38;5;132;01m}\u001b[39;00m\u001b[38;5;124m, total_simulaciones: \u001b[39m\u001b[38;5;132;01m{\u001b[39;00mdict_elasticidad[\u001b[38;5;124m'\u001b[39m\u001b[38;5;124mtotal_simulaciones\u001b[39m\u001b[38;5;124m'\u001b[39m]\u001b[38;5;132;01m}\u001b[39;00m\u001b[38;5;124m, total_creditos: \u001b[39m\u001b[38;5;132;01m{\u001b[39;00mdict_elasticidad[\u001b[38;5;124m'\u001b[39m\u001b[38;5;124mtotal_creditos\u001b[39m\u001b[38;5;124m'\u001b[39m]\u001b[38;5;132;01m}\u001b[39;00m\u001b[38;5;124m\"\u001b[39m)\n\u001b[1;32m--> 742\u001b[0m df_probabilities \u001b[38;5;241m=\u001b[39m \u001b[38;5;28;43mself\u001b[39;49m\u001b[38;5;241;43m.\u001b[39;49m\u001b[43mfunction_estimar_respuesta_a_tratamiento\u001b[49m\u001b[43m(\u001b[49m\u001b[43mdf_elasticidad\u001b[49m\u001b[43m,\u001b[49m\u001b[43m \u001b[49m\u001b[38;5;28;43mself\u001b[39;49m\u001b[38;5;241;43m.\u001b[39;49m\u001b[43mdf_simulaciones_info\u001b[49m\u001b[43m)\u001b[49m\n\u001b[0;32m    743\u001b[0m logger\u001b[38;5;241m.\u001b[39mdebug(\u001b[38;5;124mf\u001b[39m\u001b[38;5;124m\"\u001b[39m\u001b[38;5;124mProbabilidades calculadas: \u001b[39m\u001b[38;5;132;01m{\u001b[39;00mdf_probabilities\u001b[38;5;241m.\u001b[39mhead()\u001b[38;5;132;01m}\u001b[39;00m\u001b[38;5;124m\"\u001b[39m)\n\u001b[0;32m    745\u001b[0m \u001b[38;5;66;03m# Calcular los promedios para 'Monto_Simulado' y 'Plazo_Simulado' por categoría\u001b[39;00m\n",
      "Cell \u001b[1;32mIn[60], line 496\u001b[0m, in \u001b[0;36mClusteringEnv.function_estimar_respuesta_a_tratamiento\u001b[1;34m(self, df_estimar_elasticidad, df_simulaciones_info)\u001b[0m\n\u001b[0;32m    493\u001b[0m df_simulaciones_info[\u001b[38;5;124m'\u001b[39m\u001b[38;5;124msimulo\u001b[39m\u001b[38;5;124m'\u001b[39m] \u001b[38;5;241m=\u001b[39m pd\u001b[38;5;241m.\u001b[39mto_numeric(df_simulaciones_info[\u001b[38;5;124m'\u001b[39m\u001b[38;5;124msimulo\u001b[39m\u001b[38;5;124m'\u001b[39m], errors\u001b[38;5;241m=\u001b[39m\u001b[38;5;124m'\u001b[39m\u001b[38;5;124mcoerce\u001b[39m\u001b[38;5;124m'\u001b[39m)\u001b[38;5;241m.\u001b[39mfillna(\u001b[38;5;241m0\u001b[39m)\u001b[38;5;241m.\u001b[39mastype(\u001b[38;5;28mint\u001b[39m)\n\u001b[0;32m    495\u001b[0m \u001b[38;5;66;03m# Convertir 'Tratamiento' a tipo de categoría para optimizar espacio y realizar operaciones categóricas.\u001b[39;00m\n\u001b[1;32m--> 496\u001b[0m df_simulaciones_info[\u001b[38;5;124m'\u001b[39m\u001b[38;5;124mTratamiento\u001b[39m\u001b[38;5;124m'\u001b[39m] \u001b[38;5;241m=\u001b[39m \u001b[43mdf_simulaciones_info\u001b[49m\u001b[43m[\u001b[49m\u001b[38;5;124;43m'\u001b[39;49m\u001b[38;5;124;43mTratamiento\u001b[39;49m\u001b[38;5;124;43m'\u001b[39;49m\u001b[43m]\u001b[49m\u001b[38;5;241;43m.\u001b[39;49m\u001b[43mastype\u001b[49m\u001b[43m(\u001b[49m\u001b[38;5;124;43m'\u001b[39;49m\u001b[38;5;124;43mcategory\u001b[39;49m\u001b[38;5;124;43m'\u001b[39;49m\u001b[43m)\u001b[49m\n\u001b[0;32m    498\u001b[0m \u001b[38;5;66;03m# Paso 2: Calcular el caso total (entradas por tratamiento sin importar el valor de 'simulo')\u001b[39;00m\n\u001b[0;32m    499\u001b[0m \u001b[38;5;66;03m# Agrupar por 'categoria_clusterizacion_numerica' y 'Tratamiento' para contar el número total de registros en cada combinación.\u001b[39;00m\n\u001b[0;32m    500\u001b[0m total_entries_per_cluster_treatment \u001b[38;5;241m=\u001b[39m df_simulaciones_info\u001b[38;5;241m.\u001b[39mgroupby([\u001b[38;5;124m'\u001b[39m\u001b[38;5;124mcategoria_clusterizacion_numerica\u001b[39m\u001b[38;5;124m'\u001b[39m, \u001b[38;5;124m'\u001b[39m\u001b[38;5;124mTratamiento\u001b[39m\u001b[38;5;124m'\u001b[39m])\u001b[38;5;241m.\u001b[39msize()\u001b[38;5;241m.\u001b[39mreset_index(name\u001b[38;5;241m=\u001b[39m\u001b[38;5;124m'\u001b[39m\u001b[38;5;124mcaso_total\u001b[39m\u001b[38;5;124m'\u001b[39m)\n",
      "File \u001b[1;32mc:\\Users\\7coto\\AppData\\Local\\Programs\\Python\\Python38\\lib\\site-packages\\pandas\\core\\generic.py:6324\u001b[0m, in \u001b[0;36mNDFrame.astype\u001b[1;34m(self, dtype, copy, errors)\u001b[0m\n\u001b[0;32m   6317\u001b[0m     results \u001b[38;5;241m=\u001b[39m [\n\u001b[0;32m   6318\u001b[0m         \u001b[38;5;28mself\u001b[39m\u001b[38;5;241m.\u001b[39miloc[:, i]\u001b[38;5;241m.\u001b[39mastype(dtype, copy\u001b[38;5;241m=\u001b[39mcopy)\n\u001b[0;32m   6319\u001b[0m         \u001b[38;5;28;01mfor\u001b[39;00m i \u001b[38;5;129;01min\u001b[39;00m \u001b[38;5;28mrange\u001b[39m(\u001b[38;5;28mlen\u001b[39m(\u001b[38;5;28mself\u001b[39m\u001b[38;5;241m.\u001b[39mcolumns))\n\u001b[0;32m   6320\u001b[0m     ]\n\u001b[0;32m   6322\u001b[0m \u001b[38;5;28;01melse\u001b[39;00m:\n\u001b[0;32m   6323\u001b[0m     \u001b[38;5;66;03m# else, only a single dtype is given\u001b[39;00m\n\u001b[1;32m-> 6324\u001b[0m     new_data \u001b[38;5;241m=\u001b[39m \u001b[38;5;28;43mself\u001b[39;49m\u001b[38;5;241;43m.\u001b[39;49m\u001b[43m_mgr\u001b[49m\u001b[38;5;241;43m.\u001b[39;49m\u001b[43mastype\u001b[49m\u001b[43m(\u001b[49m\u001b[43mdtype\u001b[49m\u001b[38;5;241;43m=\u001b[39;49m\u001b[43mdtype\u001b[49m\u001b[43m,\u001b[49m\u001b[43m \u001b[49m\u001b[43mcopy\u001b[49m\u001b[38;5;241;43m=\u001b[39;49m\u001b[43mcopy\u001b[49m\u001b[43m,\u001b[49m\u001b[43m \u001b[49m\u001b[43merrors\u001b[49m\u001b[38;5;241;43m=\u001b[39;49m\u001b[43merrors\u001b[49m\u001b[43m)\u001b[49m\n\u001b[0;32m   6325\u001b[0m     \u001b[38;5;28;01mreturn\u001b[39;00m \u001b[38;5;28mself\u001b[39m\u001b[38;5;241m.\u001b[39m_constructor(new_data)\u001b[38;5;241m.\u001b[39m__finalize__(\u001b[38;5;28mself\u001b[39m, method\u001b[38;5;241m=\u001b[39m\u001b[38;5;124m\"\u001b[39m\u001b[38;5;124mastype\u001b[39m\u001b[38;5;124m\"\u001b[39m)\n\u001b[0;32m   6327\u001b[0m \u001b[38;5;66;03m# GH 33113: handle empty frame or series\u001b[39;00m\n",
      "File \u001b[1;32mc:\\Users\\7coto\\AppData\\Local\\Programs\\Python\\Python38\\lib\\site-packages\\pandas\\core\\internals\\managers.py:451\u001b[0m, in \u001b[0;36mBaseBlockManager.astype\u001b[1;34m(self, dtype, copy, errors)\u001b[0m\n\u001b[0;32m    448\u001b[0m \u001b[38;5;28;01melif\u001b[39;00m using_copy_on_write():\n\u001b[0;32m    449\u001b[0m     copy \u001b[38;5;241m=\u001b[39m \u001b[38;5;28;01mFalse\u001b[39;00m\n\u001b[1;32m--> 451\u001b[0m \u001b[38;5;28;01mreturn\u001b[39;00m \u001b[38;5;28;43mself\u001b[39;49m\u001b[38;5;241;43m.\u001b[39;49m\u001b[43mapply\u001b[49m\u001b[43m(\u001b[49m\n\u001b[0;32m    452\u001b[0m \u001b[43m    \u001b[49m\u001b[38;5;124;43m\"\u001b[39;49m\u001b[38;5;124;43mastype\u001b[39;49m\u001b[38;5;124;43m\"\u001b[39;49m\u001b[43m,\u001b[49m\n\u001b[0;32m    453\u001b[0m \u001b[43m    \u001b[49m\u001b[43mdtype\u001b[49m\u001b[38;5;241;43m=\u001b[39;49m\u001b[43mdtype\u001b[49m\u001b[43m,\u001b[49m\n\u001b[0;32m    454\u001b[0m \u001b[43m    \u001b[49m\u001b[43mcopy\u001b[49m\u001b[38;5;241;43m=\u001b[39;49m\u001b[43mcopy\u001b[49m\u001b[43m,\u001b[49m\n\u001b[0;32m    455\u001b[0m \u001b[43m    \u001b[49m\u001b[43merrors\u001b[49m\u001b[38;5;241;43m=\u001b[39;49m\u001b[43merrors\u001b[49m\u001b[43m,\u001b[49m\n\u001b[0;32m    456\u001b[0m \u001b[43m    \u001b[49m\u001b[43musing_cow\u001b[49m\u001b[38;5;241;43m=\u001b[39;49m\u001b[43musing_copy_on_write\u001b[49m\u001b[43m(\u001b[49m\u001b[43m)\u001b[49m\u001b[43m,\u001b[49m\n\u001b[0;32m    457\u001b[0m \u001b[43m\u001b[49m\u001b[43m)\u001b[49m\n",
      "File \u001b[1;32mc:\\Users\\7coto\\AppData\\Local\\Programs\\Python\\Python38\\lib\\site-packages\\pandas\\core\\internals\\managers.py:352\u001b[0m, in \u001b[0;36mBaseBlockManager.apply\u001b[1;34m(self, f, align_keys, **kwargs)\u001b[0m\n\u001b[0;32m    350\u001b[0m         applied \u001b[38;5;241m=\u001b[39m b\u001b[38;5;241m.\u001b[39mapply(f, \u001b[38;5;241m*\u001b[39m\u001b[38;5;241m*\u001b[39mkwargs)\n\u001b[0;32m    351\u001b[0m     \u001b[38;5;28;01melse\u001b[39;00m:\n\u001b[1;32m--> 352\u001b[0m         applied \u001b[38;5;241m=\u001b[39m \u001b[38;5;28;43mgetattr\u001b[39;49m\u001b[43m(\u001b[49m\u001b[43mb\u001b[49m\u001b[43m,\u001b[49m\u001b[43m \u001b[49m\u001b[43mf\u001b[49m\u001b[43m)\u001b[49m\u001b[43m(\u001b[49m\u001b[38;5;241;43m*\u001b[39;49m\u001b[38;5;241;43m*\u001b[39;49m\u001b[43mkwargs\u001b[49m\u001b[43m)\u001b[49m\n\u001b[0;32m    353\u001b[0m     result_blocks \u001b[38;5;241m=\u001b[39m extend_blocks(applied, result_blocks)\n\u001b[0;32m    355\u001b[0m out \u001b[38;5;241m=\u001b[39m \u001b[38;5;28mtype\u001b[39m(\u001b[38;5;28mself\u001b[39m)\u001b[38;5;241m.\u001b[39mfrom_blocks(result_blocks, \u001b[38;5;28mself\u001b[39m\u001b[38;5;241m.\u001b[39maxes)\n",
      "File \u001b[1;32mc:\\Users\\7coto\\AppData\\Local\\Programs\\Python\\Python38\\lib\\site-packages\\pandas\\core\\internals\\blocks.py:511\u001b[0m, in \u001b[0;36mBlock.astype\u001b[1;34m(self, dtype, copy, errors, using_cow)\u001b[0m\n\u001b[0;32m    491\u001b[0m \u001b[38;5;250m\u001b[39m\u001b[38;5;124;03m\"\"\"\u001b[39;00m\n\u001b[0;32m    492\u001b[0m \u001b[38;5;124;03mCoerce to the new dtype.\u001b[39;00m\n\u001b[0;32m    493\u001b[0m \n\u001b[1;32m   (...)\u001b[0m\n\u001b[0;32m    507\u001b[0m \u001b[38;5;124;03mBlock\u001b[39;00m\n\u001b[0;32m    508\u001b[0m \u001b[38;5;124;03m\"\"\"\u001b[39;00m\n\u001b[0;32m    509\u001b[0m values \u001b[38;5;241m=\u001b[39m \u001b[38;5;28mself\u001b[39m\u001b[38;5;241m.\u001b[39mvalues\n\u001b[1;32m--> 511\u001b[0m new_values \u001b[38;5;241m=\u001b[39m \u001b[43mastype_array_safe\u001b[49m\u001b[43m(\u001b[49m\u001b[43mvalues\u001b[49m\u001b[43m,\u001b[49m\u001b[43m \u001b[49m\u001b[43mdtype\u001b[49m\u001b[43m,\u001b[49m\u001b[43m \u001b[49m\u001b[43mcopy\u001b[49m\u001b[38;5;241;43m=\u001b[39;49m\u001b[43mcopy\u001b[49m\u001b[43m,\u001b[49m\u001b[43m \u001b[49m\u001b[43merrors\u001b[49m\u001b[38;5;241;43m=\u001b[39;49m\u001b[43merrors\u001b[49m\u001b[43m)\u001b[49m\n\u001b[0;32m    513\u001b[0m new_values \u001b[38;5;241m=\u001b[39m maybe_coerce_values(new_values)\n\u001b[0;32m    515\u001b[0m refs \u001b[38;5;241m=\u001b[39m \u001b[38;5;28;01mNone\u001b[39;00m\n",
      "File \u001b[1;32mc:\\Users\\7coto\\AppData\\Local\\Programs\\Python\\Python38\\lib\\site-packages\\pandas\\core\\dtypes\\astype.py:242\u001b[0m, in \u001b[0;36mastype_array_safe\u001b[1;34m(values, dtype, copy, errors)\u001b[0m\n\u001b[0;32m    239\u001b[0m     dtype \u001b[38;5;241m=\u001b[39m dtype\u001b[38;5;241m.\u001b[39mnumpy_dtype\n\u001b[0;32m    241\u001b[0m \u001b[38;5;28;01mtry\u001b[39;00m:\n\u001b[1;32m--> 242\u001b[0m     new_values \u001b[38;5;241m=\u001b[39m \u001b[43mastype_array\u001b[49m\u001b[43m(\u001b[49m\u001b[43mvalues\u001b[49m\u001b[43m,\u001b[49m\u001b[43m \u001b[49m\u001b[43mdtype\u001b[49m\u001b[43m,\u001b[49m\u001b[43m \u001b[49m\u001b[43mcopy\u001b[49m\u001b[38;5;241;43m=\u001b[39;49m\u001b[43mcopy\u001b[49m\u001b[43m)\u001b[49m\n\u001b[0;32m    243\u001b[0m \u001b[38;5;28;01mexcept\u001b[39;00m (\u001b[38;5;167;01mValueError\u001b[39;00m, \u001b[38;5;167;01mTypeError\u001b[39;00m):\n\u001b[0;32m    244\u001b[0m     \u001b[38;5;66;03m# e.g. _astype_nansafe can fail on object-dtype of strings\u001b[39;00m\n\u001b[0;32m    245\u001b[0m     \u001b[38;5;66;03m#  trying to convert to float\u001b[39;00m\n\u001b[0;32m    246\u001b[0m     \u001b[38;5;28;01mif\u001b[39;00m errors \u001b[38;5;241m==\u001b[39m \u001b[38;5;124m\"\u001b[39m\u001b[38;5;124mignore\u001b[39m\u001b[38;5;124m\"\u001b[39m:\n",
      "File \u001b[1;32mc:\\Users\\7coto\\AppData\\Local\\Programs\\Python\\Python38\\lib\\site-packages\\pandas\\core\\dtypes\\astype.py:187\u001b[0m, in \u001b[0;36mastype_array\u001b[1;34m(values, dtype, copy)\u001b[0m\n\u001b[0;32m    184\u001b[0m     values \u001b[38;5;241m=\u001b[39m values\u001b[38;5;241m.\u001b[39mastype(dtype, copy\u001b[38;5;241m=\u001b[39mcopy)\n\u001b[0;32m    186\u001b[0m \u001b[38;5;28;01melse\u001b[39;00m:\n\u001b[1;32m--> 187\u001b[0m     values \u001b[38;5;241m=\u001b[39m \u001b[43m_astype_nansafe\u001b[49m\u001b[43m(\u001b[49m\u001b[43mvalues\u001b[49m\u001b[43m,\u001b[49m\u001b[43m \u001b[49m\u001b[43mdtype\u001b[49m\u001b[43m,\u001b[49m\u001b[43m \u001b[49m\u001b[43mcopy\u001b[49m\u001b[38;5;241;43m=\u001b[39;49m\u001b[43mcopy\u001b[49m\u001b[43m)\u001b[49m\n\u001b[0;32m    189\u001b[0m \u001b[38;5;66;03m# in pandas we don't store numpy str dtypes, so convert to object\u001b[39;00m\n\u001b[0;32m    190\u001b[0m \u001b[38;5;28;01mif\u001b[39;00m \u001b[38;5;28misinstance\u001b[39m(dtype, np\u001b[38;5;241m.\u001b[39mdtype) \u001b[38;5;129;01mand\u001b[39;00m \u001b[38;5;28missubclass\u001b[39m(values\u001b[38;5;241m.\u001b[39mdtype\u001b[38;5;241m.\u001b[39mtype, \u001b[38;5;28mstr\u001b[39m):\n",
      "File \u001b[1;32mc:\\Users\\7coto\\AppData\\Local\\Programs\\Python\\Python38\\lib\\site-packages\\pandas\\core\\dtypes\\astype.py:84\u001b[0m, in \u001b[0;36m_astype_nansafe\u001b[1;34m(arr, dtype, copy, skipna)\u001b[0m\n\u001b[0;32m     82\u001b[0m \u001b[38;5;66;03m# dispatch on extension dtype if needed\u001b[39;00m\n\u001b[0;32m     83\u001b[0m \u001b[38;5;28;01mif\u001b[39;00m \u001b[38;5;28misinstance\u001b[39m(dtype, ExtensionDtype):\n\u001b[1;32m---> 84\u001b[0m     \u001b[38;5;28;01mreturn\u001b[39;00m \u001b[43mdtype\u001b[49m\u001b[38;5;241;43m.\u001b[39;49m\u001b[43mconstruct_array_type\u001b[49m\u001b[43m(\u001b[49m\u001b[43m)\u001b[49m\u001b[38;5;241;43m.\u001b[39;49m\u001b[43m_from_sequence\u001b[49m\u001b[43m(\u001b[49m\u001b[43marr\u001b[49m\u001b[43m,\u001b[49m\u001b[43m \u001b[49m\u001b[43mdtype\u001b[49m\u001b[38;5;241;43m=\u001b[39;49m\u001b[43mdtype\u001b[49m\u001b[43m,\u001b[49m\u001b[43m \u001b[49m\u001b[43mcopy\u001b[49m\u001b[38;5;241;43m=\u001b[39;49m\u001b[43mcopy\u001b[49m\u001b[43m)\u001b[49m\n\u001b[0;32m     86\u001b[0m \u001b[38;5;28;01melif\u001b[39;00m \u001b[38;5;129;01mnot\u001b[39;00m \u001b[38;5;28misinstance\u001b[39m(dtype, np\u001b[38;5;241m.\u001b[39mdtype):  \u001b[38;5;66;03m# pragma: no cover\u001b[39;00m\n\u001b[0;32m     87\u001b[0m     \u001b[38;5;28;01mraise\u001b[39;00m \u001b[38;5;167;01mValueError\u001b[39;00m(\u001b[38;5;124m\"\u001b[39m\u001b[38;5;124mdtype must be np.dtype or ExtensionDtype\u001b[39m\u001b[38;5;124m\"\u001b[39m)\n",
      "File \u001b[1;32mc:\\Users\\7coto\\AppData\\Local\\Programs\\Python\\Python38\\lib\\site-packages\\pandas\\core\\arrays\\categorical.py:477\u001b[0m, in \u001b[0;36mCategorical._from_sequence\u001b[1;34m(cls, scalars, dtype, copy)\u001b[0m\n\u001b[0;32m    473\u001b[0m \u001b[38;5;129m@classmethod\u001b[39m\n\u001b[0;32m    474\u001b[0m \u001b[38;5;28;01mdef\u001b[39;00m \u001b[38;5;21m_from_sequence\u001b[39m(\n\u001b[0;32m    475\u001b[0m     \u001b[38;5;28mcls\u001b[39m, scalars, \u001b[38;5;241m*\u001b[39m, dtype: Dtype \u001b[38;5;241m|\u001b[39m \u001b[38;5;28;01mNone\u001b[39;00m \u001b[38;5;241m=\u001b[39m \u001b[38;5;28;01mNone\u001b[39;00m, copy: \u001b[38;5;28mbool\u001b[39m \u001b[38;5;241m=\u001b[39m \u001b[38;5;28;01mFalse\u001b[39;00m\n\u001b[0;32m    476\u001b[0m ) \u001b[38;5;241m-\u001b[39m\u001b[38;5;241m>\u001b[39m Categorical:\n\u001b[1;32m--> 477\u001b[0m     \u001b[38;5;28;01mreturn\u001b[39;00m \u001b[43mCategorical\u001b[49m\u001b[43m(\u001b[49m\u001b[43mscalars\u001b[49m\u001b[43m,\u001b[49m\u001b[43m \u001b[49m\u001b[43mdtype\u001b[49m\u001b[38;5;241;43m=\u001b[39;49m\u001b[43mdtype\u001b[49m\u001b[43m,\u001b[49m\u001b[43m \u001b[49m\u001b[43mcopy\u001b[49m\u001b[38;5;241;43m=\u001b[39;49m\u001b[43mcopy\u001b[49m\u001b[43m)\u001b[49m\n",
      "File \u001b[1;32mc:\\Users\\7coto\\AppData\\Local\\Programs\\Python\\Python38\\lib\\site-packages\\pandas\\core\\arrays\\categorical.py:425\u001b[0m, in \u001b[0;36mCategorical.__init__\u001b[1;34m(self, values, categories, ordered, dtype, fastpath, copy)\u001b[0m\n\u001b[0;32m    423\u001b[0m \u001b[38;5;28;01mif\u001b[39;00m dtype\u001b[38;5;241m.\u001b[39mcategories \u001b[38;5;129;01mis\u001b[39;00m \u001b[38;5;28;01mNone\u001b[39;00m:\n\u001b[0;32m    424\u001b[0m     \u001b[38;5;28;01mtry\u001b[39;00m:\n\u001b[1;32m--> 425\u001b[0m         codes, categories \u001b[38;5;241m=\u001b[39m \u001b[43mfactorize\u001b[49m\u001b[43m(\u001b[49m\u001b[43mvalues\u001b[49m\u001b[43m,\u001b[49m\u001b[43m \u001b[49m\u001b[43msort\u001b[49m\u001b[38;5;241;43m=\u001b[39;49m\u001b[38;5;28;43;01mTrue\u001b[39;49;00m\u001b[43m)\u001b[49m\n\u001b[0;32m    426\u001b[0m     \u001b[38;5;28;01mexcept\u001b[39;00m \u001b[38;5;167;01mTypeError\u001b[39;00m \u001b[38;5;28;01mas\u001b[39;00m err:\n\u001b[0;32m    427\u001b[0m         codes, categories \u001b[38;5;241m=\u001b[39m factorize(values, sort\u001b[38;5;241m=\u001b[39m\u001b[38;5;28;01mFalse\u001b[39;00m)\n",
      "File \u001b[1;32mc:\\Users\\7coto\\AppData\\Local\\Programs\\Python\\Python38\\lib\\site-packages\\pandas\\core\\algorithms.py:780\u001b[0m, in \u001b[0;36mfactorize\u001b[1;34m(values, sort, use_na_sentinel, size_hint)\u001b[0m\n\u001b[0;32m    777\u001b[0m             \u001b[38;5;66;03m# Don't modify (potentially user-provided) array\u001b[39;00m\n\u001b[0;32m    778\u001b[0m             values \u001b[38;5;241m=\u001b[39m np\u001b[38;5;241m.\u001b[39mwhere(null_mask, na_value, values)\n\u001b[1;32m--> 780\u001b[0m     codes, uniques \u001b[38;5;241m=\u001b[39m \u001b[43mfactorize_array\u001b[49m\u001b[43m(\u001b[49m\n\u001b[0;32m    781\u001b[0m \u001b[43m        \u001b[49m\u001b[43mvalues\u001b[49m\u001b[43m,\u001b[49m\n\u001b[0;32m    782\u001b[0m \u001b[43m        \u001b[49m\u001b[43muse_na_sentinel\u001b[49m\u001b[38;5;241;43m=\u001b[39;49m\u001b[43muse_na_sentinel\u001b[49m\u001b[43m,\u001b[49m\n\u001b[0;32m    783\u001b[0m \u001b[43m        \u001b[49m\u001b[43msize_hint\u001b[49m\u001b[38;5;241;43m=\u001b[39;49m\u001b[43msize_hint\u001b[49m\u001b[43m,\u001b[49m\n\u001b[0;32m    784\u001b[0m \u001b[43m    \u001b[49m\u001b[43m)\u001b[49m\n\u001b[0;32m    786\u001b[0m \u001b[38;5;28;01mif\u001b[39;00m sort \u001b[38;5;129;01mand\u001b[39;00m \u001b[38;5;28mlen\u001b[39m(uniques) \u001b[38;5;241m>\u001b[39m \u001b[38;5;241m0\u001b[39m:\n\u001b[0;32m    787\u001b[0m     uniques, codes \u001b[38;5;241m=\u001b[39m safe_sort(\n\u001b[0;32m    788\u001b[0m         uniques,\n\u001b[0;32m    789\u001b[0m         codes,\n\u001b[1;32m   (...)\u001b[0m\n\u001b[0;32m    792\u001b[0m         verify\u001b[38;5;241m=\u001b[39m\u001b[38;5;28;01mFalse\u001b[39;00m,\n\u001b[0;32m    793\u001b[0m     )\n",
      "File \u001b[1;32mc:\\Users\\7coto\\AppData\\Local\\Programs\\Python\\Python38\\lib\\site-packages\\pandas\\core\\algorithms.py:581\u001b[0m, in \u001b[0;36mfactorize_array\u001b[1;34m(values, use_na_sentinel, size_hint, na_value, mask)\u001b[0m\n\u001b[0;32m    578\u001b[0m hash_klass, values \u001b[38;5;241m=\u001b[39m _get_hashtable_algo(values)\n\u001b[0;32m    580\u001b[0m table \u001b[38;5;241m=\u001b[39m hash_klass(size_hint \u001b[38;5;129;01mor\u001b[39;00m \u001b[38;5;28mlen\u001b[39m(values))\n\u001b[1;32m--> 581\u001b[0m uniques, codes \u001b[38;5;241m=\u001b[39m \u001b[43mtable\u001b[49m\u001b[38;5;241;43m.\u001b[39;49m\u001b[43mfactorize\u001b[49m\u001b[43m(\u001b[49m\n\u001b[0;32m    582\u001b[0m \u001b[43m    \u001b[49m\u001b[43mvalues\u001b[49m\u001b[43m,\u001b[49m\n\u001b[0;32m    583\u001b[0m \u001b[43m    \u001b[49m\u001b[43mna_sentinel\u001b[49m\u001b[38;5;241;43m=\u001b[39;49m\u001b[38;5;241;43m-\u001b[39;49m\u001b[38;5;241;43m1\u001b[39;49m\u001b[43m,\u001b[49m\n\u001b[0;32m    584\u001b[0m \u001b[43m    \u001b[49m\u001b[43mna_value\u001b[49m\u001b[38;5;241;43m=\u001b[39;49m\u001b[43mna_value\u001b[49m\u001b[43m,\u001b[49m\n\u001b[0;32m    585\u001b[0m \u001b[43m    \u001b[49m\u001b[43mmask\u001b[49m\u001b[38;5;241;43m=\u001b[39;49m\u001b[43mmask\u001b[49m\u001b[43m,\u001b[49m\n\u001b[0;32m    586\u001b[0m \u001b[43m    \u001b[49m\u001b[43mignore_na\u001b[49m\u001b[38;5;241;43m=\u001b[39;49m\u001b[43muse_na_sentinel\u001b[49m\u001b[43m,\u001b[49m\n\u001b[0;32m    587\u001b[0m \u001b[43m\u001b[49m\u001b[43m)\u001b[49m\n\u001b[0;32m    589\u001b[0m \u001b[38;5;66;03m# re-cast e.g. i8->dt64/td64, uint8->bool\u001b[39;00m\n\u001b[0;32m    590\u001b[0m uniques \u001b[38;5;241m=\u001b[39m _reconstruct_data(uniques, original\u001b[38;5;241m.\u001b[39mdtype, original)\n",
      "\u001b[1;31mKeyboardInterrupt\u001b[0m: "
     ]
    }
   ],
   "source": [
    "# Cargar el modelo entrenado (si ya lo has guardado previamente)\n",
    "model = DQN.load(\"dqn_clustering_agent\")\n",
    "\n",
    "# Resetear el entorno\n",
    "obs, info = env.reset(seed=42)\n",
    "done = False\n",
    "truncated = False\n",
    "total_reward = 0\n",
    "\n",
    "while not (done or truncated):\n",
    "    action, _states = model.predict(obs, deterministic=True)\n",
    "    obs, reward, done, truncated, info = env.step(action)\n",
    "    total_reward += reward\n",
    "    # Opcional: imprimir la acción y la recompensa\n",
    "    print(f\"Action: {action}, Reward: {reward}\")\n",
    "\n",
    "print(f\"Total reward: {total_reward}\")\n"
   ]
  },
  {
   "cell_type": "code",
   "execution_count": null,
   "metadata": {},
   "outputs": [],
   "source": [
    "import gc\n",
    "\n",
    "# Paso 1: Definir las variables que deseas mantener\n",
    "variables_to_keep = [\n",
    "    'gym',\n",
    "    'spaces',\n",
    "    'DQN',\n",
    "    'check_env',\n",
    "    'ClusteringEnv',\n",
    "    'Model',\n",
    "    'GRB',\n",
    "    'quicksum',\n",
    "    'os',\n",
    "    'datetime',\n",
    "    'np',\n",
    "    'pd',\n",
    "    'sm',\n",
    "    'df_informacion_de_clientes',\n",
    "    'df_simulaciones_e_informacion_de_clientes_ventas_tratamiento',\n",
    "    'env',\n",
    "    'model',\n",
    "    'df_simulaciones_info'\n",
    "    # Añade aquí cualquier otra variable que necesites mantener\n",
    "]\n",
    "\n",
    "# Paso 2: Obtener todas las variables en el espacio de nombres global\n",
    "all_vars = list(globals().keys())\n",
    "\n",
    "# Paso 3: Identificar las variables que se deben eliminar\n",
    "# Se excluyen las variables internas que comienzan con '_'\n",
    "vars_to_delete = [var for var in all_vars if var not in variables_to_keep and not var.startswith('_')]\n",
    "\n",
    "# Paso 4: Eliminar las variables no necesarias\n",
    "for var in vars_to_delete:\n",
    "    try:\n",
    "        del globals()[var]\n",
    "        print(f\"Variable '{var}' eliminada.\")\n",
    "    except Exception as e:\n",
    "        print(f\"No se pudo eliminar la variable '{var}': {e}\")\n",
    "\n",
    "# Paso 5: Forzar la recolección de basura para liberar la memoria\n",
    "gc.collect()\n",
    "\n",
    "print(\"Variables no necesarias eliminadas y memoria liberada.\")\n"
   ]
  }
 ],
 "metadata": {
  "kernelspec": {
   "display_name": "Python 3",
   "language": "python",
   "name": "python3"
  },
  "language_info": {
   "codemirror_mode": {
    "name": "ipython",
    "version": 3
   },
   "file_extension": ".py",
   "mimetype": "text/x-python",
   "name": "python",
   "nbconvert_exporter": "python",
   "pygments_lexer": "ipython3",
   "version": "3.8.10"
  }
 },
 "nbformat": 4,
 "nbformat_minor": 2
}
